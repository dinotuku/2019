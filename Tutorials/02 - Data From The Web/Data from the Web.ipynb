{
 "cells": [
  {
   "cell_type": "markdown",
   "metadata": {},
   "source": [
    "# Data from the Web - ADA 2019 Tutorial\n",
    "\n",
    "#### What do you find in this Notebook?\n",
    "\n",
    "The purpose of the Notebook is to offer a **quick** overview on how to scrape a Web page. In details, we illustrate the two main libraries used for this purpose. Afterwords, we show how to retrieve data from the Web."
   ]
  },
  {
   "cell_type": "markdown",
   "metadata": {},
   "source": [
    "## Web scraping libraries"
   ]
  },
  {
   "cell_type": "markdown",
   "metadata": {},
   "source": [
    "To fetch data from the Web with Python, you need to get use to two essential libraries:\n",
    "\n",
    " * [`Requests (HTTP)`](https://requests.kennethreitz.org/en/master/): get the `html` page to parse.\n",
    "\n",
    " * [`Beautiful Soup (HTML Parsing)`](https://www.crummy.com/software/BeautifulSoup/bs4/doc/): parse the `html` and extract data."
   ]
  },
  {
   "cell_type": "code",
   "execution_count": 1,
   "metadata": {},
   "outputs": [],
   "source": [
    "# Import libraries\n",
    "import requests\n",
    "from bs4 import BeautifulSoup"
   ]
  },
  {
   "cell_type": "markdown",
   "metadata": {},
   "source": [
    "If you have an error about missing modules, try this:\n",
    "```\n",
    "conda install requests\n",
    "conda install beautifulsoup4\n",
    "```"
   ]
  },
  {
   "cell_type": "markdown",
   "metadata": {},
   "source": [
    "### Make a `get` request\n",
    "\n",
    "The [GET method](https://en.wikipedia.org/wiki/Hypertext_Transfer_Protocol#Request_methods) retrieves information from the server.\n",
    "\n",
    "We start scraping this website: https://httpbin.org/ - HTTP Request & Response Service. The website offers some useful endpoints [1] to check the content of our request. Some of them provide an 'echo service' that reply with the request received.\n",
    "\n",
    "[1] Endpoint is a web address (URL) at which clients of a specific service can gain access to it. By referencing that URL, clients can get to operations provided by that service."
   ]
  },
  {
   "cell_type": "markdown",
   "metadata": {},
   "source": [
    "#### Example 1: Get request basics\n",
    "Here we show an example on how use a get request. In particular, you see that we can get different information about the response:\n",
    "\n",
    "* The status code [2] which tells us whether everything is fine and if the request worked\n",
    "* The headers\n",
    "* Body of the response (typically HTML for webpages or JSON/XML for web services)\n",
    "\n",
    "[2] Find the reminder of HTTP status codes [here](https://en.wikipedia.org/wiki/List_of_HTTP_status_codes). Some typical codes are: **200 OK** (standard response for successful HTTP requests) and **404 Not Found** (the requested resource could not be found but may be available in the future)."
   ]
  },
  {
   "cell_type": "markdown",
   "metadata": {},
   "source": [
    "**NOTE:** this is an echo service, what you see is what we sent to the server"
   ]
  },
  {
   "cell_type": "code",
   "execution_count": 2,
   "metadata": {},
   "outputs": [
    {
     "name": "stdout",
     "output_type": "stream",
     "text": [
      "Response status code: 200\n",
      "\n",
      "Response headers: {'Access-Control-Allow-Credentials': 'true', 'Access-Control-Allow-Origin': '*', 'Content-Encoding': 'gzip', 'Content-Type': 'application/json', 'Date': 'Thu, 03 Oct 2019 06:31:25 GMT', 'Referrer-Policy': 'no-referrer-when-downgrade', 'Server': 'nginx', 'X-Content-Type-Options': 'nosniff', 'X-Frame-Options': 'DENY', 'X-XSS-Protection': '1; mode=block', 'Content-Length': '57', 'Connection': 'keep-alive'}\n",
      "\n",
      "Response body: {\n",
      "  \"origin\": \"128.179.152.28, 128.179.152.28\"\n",
      "}\n",
      "\n"
     ]
    }
   ],
   "source": [
    "# Make the request\n",
    "r = requests.get('https://httpbin.org/ip') # /ip: Returns the requester's IP Address.\n",
    "\n",
    "print('Response status code: {0}\\n'.format(r.status_code))\n",
    "print('Response headers: {0}\\n'.format(r.headers))\n",
    "print('Response body: {0}'.format(r.text))"
   ]
  },
  {
   "cell_type": "markdown",
   "metadata": {},
   "source": [
    "#### Example 2: Parsing JSON string from the response\n",
    "\n",
    "If the body of the response is a JSON string, Requests offers a convenient way to parse the text and get a Python dictionary.\n",
    "\n",
    "Let's try to get the current time from here: http://worldtimeapi.org/api/timezone/Europe/Zurich – a simple web service that returns the local-time for a given timezone as either JSON (by default) or plain-text."
   ]
  },
  {
   "cell_type": "code",
   "execution_count": 5,
   "metadata": {},
   "outputs": [
    {
     "name": "stdout",
     "output_type": "stream",
     "text": [
      "Response body (parsed json):\n"
     ]
    },
    {
     "data": {
      "text/plain": [
       "{'week_number': 40,\n",
       " 'utc_offset': '+02:00',\n",
       " 'utc_datetime': '2019-10-03T06:32:06.052131+00:00',\n",
       " 'unixtime': 1570084326,\n",
       " 'timezone': 'Europe/Zurich',\n",
       " 'raw_offset': 3600,\n",
       " 'dst_until': '2019-10-27T01:00:00+00:00',\n",
       " 'dst_offset': 3600,\n",
       " 'dst_from': '2019-03-31T01:00:00+00:00',\n",
       " 'dst': True,\n",
       " 'day_of_year': 276,\n",
       " 'day_of_week': 4,\n",
       " 'datetime': '2019-10-03T08:32:06.052131+02:00',\n",
       " 'client_ip': '128.179.152.28',\n",
       " 'abbreviation': 'CEST'}"
      ]
     },
     "execution_count": 5,
     "metadata": {},
     "output_type": "execute_result"
    }
   ],
   "source": [
    "r = requests.get('http://worldtimeapi.org/api/timezone/Europe/Zurich')\n",
    "\n",
    "print('Response body (parsed json):')\n",
    "r.json()"
   ]
  },
  {
   "cell_type": "markdown",
   "metadata": {},
   "source": [
    "#### Example 3: Including parameters into get request\n",
    "\n",
    "This time, the `url` has been slightly changed to include a parameter (key1).\n",
    "\n",
    "Remember that the with the GET method the parameters are part of the URL."
   ]
  },
  {
   "cell_type": "code",
   "execution_count": 6,
   "metadata": {},
   "outputs": [
    {
     "data": {
      "text/plain": [
       "{'args': {'key1': 'value1'},\n",
       " 'headers': {'Accept': '*/*',\n",
       "  'Accept-Encoding': 'gzip, deflate',\n",
       "  'Host': 'httpbin.org',\n",
       "  'User-Agent': 'python-requests/2.21.0'},\n",
       " 'origin': '128.179.152.28, 128.179.152.28',\n",
       " 'url': 'https://httpbin.org/get?key1=value1'}"
      ]
     },
     "execution_count": 6,
     "metadata": {},
     "output_type": "execute_result"
    }
   ],
   "source": [
    "r = requests.get('https://httpbin.org/get?key1=value1')\n",
    "r.json()"
   ]
  },
  {
   "cell_type": "markdown",
   "metadata": {},
   "source": [
    "### Make a `post` request\n",
    "The [POST method](https://en.wikipedia.org/wiki/POST_(HTTP)) requests that a web server accepts the data enclosed in the body of the request message, most likely for storing it.\n",
    "\n",
    "A POST request can have the paramenters in the body. Let's how to do this with Requests library:"
   ]
  },
  {
   "cell_type": "code",
   "execution_count": 7,
   "metadata": {},
   "outputs": [
    {
     "data": {
      "text/plain": [
       "{'args': {},\n",
       " 'data': '',\n",
       " 'files': {},\n",
       " 'form': {'key1': 'value1', 'key2': 'value2'},\n",
       " 'headers': {'Accept': '*/*',\n",
       "  'Accept-Encoding': 'gzip, deflate',\n",
       "  'Content-Length': '23',\n",
       "  'Content-Type': 'application/x-www-form-urlencoded',\n",
       "  'Host': 'httpbin.org',\n",
       "  'User-Agent': 'python-requests/2.21.0'},\n",
       " 'json': None,\n",
       " 'origin': '128.179.152.28, 128.179.152.28',\n",
       " 'url': 'https://httpbin.org/post'}"
      ]
     },
     "execution_count": 7,
     "metadata": {},
     "output_type": "execute_result"
    }
   ],
   "source": [
    "payload = {'key1': 'value1', 'key2': 'value2'}\n",
    "r = requests.post('https://httpbin.org/post', data=payload)\n",
    "r.json()"
   ]
  },
  {
   "cell_type": "markdown",
   "metadata": {},
   "source": [
    "### Make a request and extract the Page Title!"
   ]
  },
  {
   "cell_type": "markdown",
   "metadata": {},
   "source": [
    "* Send the request and get the `html`"
   ]
  },
  {
   "cell_type": "code",
   "execution_count": 8,
   "metadata": {},
   "outputs": [
    {
     "data": {
      "text/plain": [
       "'<!DOCTYPE html>\\n<html>\\n  <head>\\n  </head>\\n  <body>\\n      <h1>Herman Melville - Moby-Dick</h1>\\n\\n      <div>\\n        <p>\\n          Availing himself of the mild, summer-cool weather that now reigned in these latitudes, and in preparation for the peculiarly active pursuits shortly to be anticipated, Per'"
      ]
     },
     "execution_count": 8,
     "metadata": {},
     "output_type": "execute_result"
    }
   ],
   "source": [
    "# Send the request\n",
    "r = requests.get('https://httpbin.org/html')\n",
    "r.text[:300]"
   ]
  },
  {
   "cell_type": "markdown",
   "metadata": {},
   "source": [
    "* Thus, we start to use our beloved `BeautifulSoup` to parse the HTML and we get the header"
   ]
  },
  {
   "cell_type": "code",
   "execution_count": 9,
   "metadata": {},
   "outputs": [
    {
     "data": {
      "text/plain": [
       "<h1>Herman Melville - Moby-Dick</h1>"
      ]
     },
     "execution_count": 9,
     "metadata": {},
     "output_type": "execute_result"
    }
   ],
   "source": [
    "# Extract the header\n",
    "soup = BeautifulSoup(r.text, 'html.parser')\n",
    "soup.h1"
   ]
  },
  {
   "cell_type": "markdown",
   "metadata": {},
   "source": [
    "## Let's get interesting data - DBLP\n",
    "\n",
    "*DBLP is a computer science bibliography website. Starting in 1993 at the University of Trier, Germany, it grew from a small collection of HTML files and became an organization hosting a database and logic programming bibliography site. DBLP listed more than 3.66 million journal articles, conference papers, and other publications on computer science in July 2016, up from about 14,000 in 1995.*\n",
    "\n",
    "<div align=\"right\">https://en.wikipedia.org/wiki/DBLP</div> \n",
    "\n",
    "We want to check the distribution of the publications by year of the president of EPFL - Martin Vetterli.\n",
    "\n",
    "First of all, let's check the page with the data we need:"
   ]
  },
  {
   "cell_type": "code",
   "execution_count": 10,
   "metadata": {},
   "outputs": [],
   "source": [
    "URL = 'http://dblp.uni-trier.de/pers/hd/v/Vetterli:Martin'"
   ]
  },
  {
   "cell_type": "markdown",
   "metadata": {},
   "source": [
    "The page is public and accessible with a browser using a simple GET:"
   ]
  },
  {
   "cell_type": "code",
   "execution_count": 11,
   "metadata": {},
   "outputs": [],
   "source": [
    "r = requests.get(URL)\n",
    "page_body = r.text"
   ]
  },
  {
   "cell_type": "markdown",
   "metadata": {},
   "source": [
    "Now the page content is downloaded and we can inspect the body of the response:"
   ]
  },
  {
   "cell_type": "code",
   "execution_count": 12,
   "metadata": {},
   "outputs": [
    {
     "data": {
      "text/plain": [
       "'<!DOCTYPE html>\\n<html lang=\"en\">\\n<head data-urlpt=\"v/Vetterli:Martin\"><meta charset=\"UTF-8\" /><title>dblp: Martin Vetterli</title><link href=\"https://dblp.org\" rel=\"home\" /><link rel=\"apple-touch-icon\" type=\"image/png\" sizes=\"192x192\" href=\"https://dblp.uni-trier.de/img/dblp.icon.192x192.png\"><link '"
      ]
     },
     "execution_count": 12,
     "metadata": {},
     "output_type": "execute_result"
    }
   ],
   "source": [
    "page_body[:300]"
   ]
  },
  {
   "cell_type": "markdown",
   "metadata": {},
   "source": [
    "It is pure HTML, and we need BeautifulSoup to parse the content. We can specify the parser we want to use html.parser, lxml, lxml-xml, xml, html5lib. Each of them has advantages and disadvantages - see [documentation](https://www.crummy.com/software/BeautifulSoup/bs4/doc/#installing-a-parser)."
   ]
  },
  {
   "cell_type": "code",
   "execution_count": 13,
   "metadata": {},
   "outputs": [],
   "source": [
    "soup = BeautifulSoup(page_body, 'html.parser')"
   ]
  },
  {
   "cell_type": "markdown",
   "metadata": {},
   "source": [
    "Now the page is parsed and we can read the data we need!\n",
    "\n",
    "For example, let's get the title! Are we in the right page?"
   ]
  },
  {
   "cell_type": "code",
   "execution_count": 14,
   "metadata": {},
   "outputs": [
    {
     "data": {
      "text/plain": [
       "<title>dblp: Martin Vetterli</title>"
      ]
     },
     "execution_count": 14,
     "metadata": {},
     "output_type": "execute_result"
    }
   ],
   "source": [
    "soup.title"
   ]
  },
  {
   "cell_type": "markdown",
   "metadata": {},
   "source": [
    "Yes! And we can get the clean text without HTML tags:"
   ]
  },
  {
   "cell_type": "code",
   "execution_count": 15,
   "metadata": {},
   "outputs": [
    {
     "data": {
      "text/plain": [
       "'dblp: Martin Vetterli'"
      ]
     },
     "execution_count": 15,
     "metadata": {},
     "output_type": "execute_result"
    }
   ],
   "source": [
    "soup.title.string"
   ]
  },
  {
   "cell_type": "markdown",
   "metadata": {},
   "source": [
    "A more complex query now! Let's find all the links in the page. \n",
    "\n",
    "In HTML a link is defined using the tag &lt;A&gt;, and BeautifulSoup offers an easy way to find them:"
   ]
  },
  {
   "cell_type": "code",
   "execution_count": 16,
   "metadata": {},
   "outputs": [
    {
     "name": "stdout",
     "output_type": "stream",
     "text": [
      "The webpage cointains 12286 links...\n"
     ]
    }
   ],
   "source": [
    "all_links = soup.find_all('a')\n",
    "print('The webpage cointains {0} links...'.format(len(all_links)))"
   ]
  },
  {
   "cell_type": "code",
   "execution_count": 17,
   "metadata": {},
   "outputs": [
    {
     "name": "stdout",
     "output_type": "stream",
     "text": [
      "... and 11437 of them point to external websites.\n"
     ]
    }
   ],
   "source": [
    "external_links = 0\n",
    "for link in all_links:\n",
    "    if(not link.get('href').startswith('http://dblp.uni-trier.de/')\n",
    "       and link.get('href').startswith('http')):  # just an example, you need more checks\n",
    "        external_links += 1\n",
    "\n",
    "print('... and {0} of them point to external websites.'.format(external_links))"
   ]
  },
  {
   "cell_type": "markdown",
   "metadata": {},
   "source": [
    "Let's move on. Now we want to extract the sections that contain the publication details.\n",
    "\n",
    "**The easiest way is to inspect the DOM of the web page with a browser.** Check with your browser how to isolate the portions of the page that represent publications. --- Task not in this Notebook ---\n",
    "\n",
    "Ok, each row is composed by a &lt;li&gt; tag and has a class called 'entry':"
   ]
  },
  {
   "cell_type": "code",
   "execution_count": 18,
   "metadata": {},
   "outputs": [],
   "source": [
    "publications_wrappers = soup.find_all('li', class_='entry')"
   ]
  },
  {
   "cell_type": "markdown",
   "metadata": {},
   "source": [
    "Let's check the number of rows:"
   ]
  },
  {
   "cell_type": "code",
   "execution_count": 19,
   "metadata": {},
   "outputs": [
    {
     "name": "stdout",
     "output_type": "stream",
     "text": [
      "Total number of items: 410\n"
     ]
    }
   ],
   "source": [
    "print('Total number of items: {0}'.format(len(publications_wrappers)))"
   ]
  },
  {
   "cell_type": "code",
   "execution_count": 20,
   "metadata": {},
   "outputs": [
    {
     "name": "stdout",
     "output_type": "stream",
     "text": [
      "Super Resolution Phase Retrieval for Sparse Signals.\n",
      "On the Move: Localization with Kinetic Euclidean Distance Matrices.\n",
      "Multi-channel Time Encoding for Improved Reconstruction of Bandlimited Signals.\n",
      "Shapes from Echoes: Uniqueness from Point-to-Plane Distance Matrices.\n",
      "Learning neural connectivity from firing activity: efficient algorithms with provable guarantees on topology.\n",
      "Unlabeled Sensing With Random Linear Measurements.\n",
      "Sampling Continuous-Time Sparse Signals: A Frequency-Domain Perspective.\n",
      "Efficient Multidimensional Diracs Estimation With Linear Sample Complexity.\n",
      "Sampling at Unknown Locations: Uniqueness and Reconstruction Under Constraints.\n",
      "Combining Range and Direction for Improved Localization.\n",
      "Structure from Sound with Incomplete Data.\n",
      "Bound and Conquer: Improving Triangulation by Enforcing Consistency.\n",
      "Super Resolution Phase Retrieval for Sparse Signals.\n",
      "Handheld Reflectance Acquisition of Paintings.\n",
      "Towards Generalized FRI Sampling With an Application to Source Resolution in Radioastronomy.\n",
      "Sampling and Exact Reconstruction of Pulses with Variable Width.\n",
      "Acoustic DoA Estimation by One Unsophisticated Sensor.\n",
      "FRIDA: FRI-based DOA estimation for arbitrary array layouts.\n",
      "Omnidirectional bats, point-to-plane distances, and the price of uniqueness.\n",
      "Shape from bandwidth: The 2-D orthogonal projection case.\n",
      "Unlabeled sensing: Reconstruction algorithm and theoretical guarantees.\n",
      "MOOC Adventures in Signal Processing: Bringing DSP to the era of massive open online courses.\n",
      "Where You Are Is Who You Are: User Identification by Matching Statistics.\n",
      "Shapes From Pixels.\n",
      "VITRAIL: Acquisition, Modeling, and Rendering of Stained Glass.\n",
      "Sampling and Reconstruction of Shapes With Algebraic Boundaries.\n",
      "EchoSLAM: Simultaneous localization and mapping with acoustic echoes.\n",
      "The recursive hessian sketch for adaptive filtering.\n",
      "Learning network structures from firing patterns.\n",
      "Accurate recovery of a specularity from a few samples of the reflectance function.\n",
      "Shape: Linear-time camera pose estimation with quadratic error-decay.\n",
      "From acoustic room reconstruction to slam.\n",
      "SHAPE: Linear-Time Camera Pose Estimation With Quadratic Error-Decay.\n",
      "On the Accuracy of Point Localisation in a Circular Camera-Array.\n",
      "Look, no Beacons! Optimal All-in-One EchoSLAM.\n",
      "Omnidirectional Bats, Point-to-Plane Distances, and the Price of Uniqueness.\n",
      "FRIDA: FRI-Based DOA Estimation for Arbitrary Array Layouts.\n",
      "The Beauty of the Commons: Optimal Load Sharing by Base Station Hopping in Wireless Sensor Networks.\n",
      "Raking the Cocktail Party.\n",
      "Euclidean Distance Matrices: Essential theory, algorithms, and applications.\n",
      "Near-Optimal Thermal Monitoring Framework for Many-Core Systems-on-Chip.\n",
      "A Fast Hadamard Transform for Signals With Sublinear Sparsity in the Transform Domain.\n",
      "Opportunistic Sampling for Joint Population Size and Density Estimation.\n",
      "DASS: Distributed Adaptive Sparse Sensing.\n",
      "Robust diffusion-based unsupervised object labelling in distributed camera networks.\n",
      "Unlabeled sensing: Solving a linear system with unordered measurements.\n",
      "Relax and unfold: Microphone localization with Euclidean distance matrices.\n",
      "Raking echoes in the time domain.\n",
      "A new robust and efficient estimator for ill-conditioned linear inverse problems with outliers.\n",
      "Enhancing local - Transmitting less - Improving global.\n",
      "Annihilation-driven localised image edge models.\n",
      "On the accuracy of point localisation in a circular camera-array.\n",
      "Virtually Moving Base Stations for Energy Efficiency in Wireless Sensor Networks.\n",
      "Euclidean Distance Matrices: A Short Walk Through Theory, Algorithms and Applications.\n",
      "Shapes From Pixels.\n",
      "Unlabeled Sensing with Random Linear Measurements.\n",
      "Where You Are Is Who You Are: User Identification by Matching Statistics.\n",
      "Sampling and Reconstruction of Shapes with Algebraic Boundaries.\n",
      "Near-Optimal Sensor Placement for Linear Inverse Problems.\n",
      "Computationally efficient background subtraction in the light field domain.\n",
      "Light field panorama by a plenoptic camera.\n",
      "LCAV-31: a dataset for light field object recognition.\n",
      "Scale-invariant representation of light field images for object recognition and tracking.\n",
      "Light transport matrix recovery for nearly planar objects.\n",
      "Near-optimal sensor placement for signals lying in a union of subspaces.\n",
      "How to localize ten microphones in one finger snap.\n",
      "Source localization and tracking in non-convex rooms.\n",
      "Single-channel indoor microphone localization.\n",
      "Detecting planar surface using a light-field camera with application to distinguishing real scenes from printed photos.\n",
      "Topology optimization for energy-efficient communications in consensus wireless networks.\n",
      "Privacy-preserving function computation by exploitation of friendships in social networks.\n",
      "Outlier removal for improved source estimation in atmospheric inverse problems.\n",
      "Near-optimal source placement for linear physical fields.\n",
      "DASS: Distributed Adaptive Sparse Sensing.\n",
      "The Beauty of the Commons: Optimal Load Sharing by Base Station Hopping in Wireless Sensor Networks.\n",
      "Raking the Cocktail Party.\n",
      "Sampling High-Dimensional Bandlimited Fields on Low-Dimensional Manifolds.\n",
      "Sampling and Reconstruction of Spatial Fields Using Mobile Sensors.\n",
      "Calibration Using Matrix Completion With Application to Ultrasound Tomography.\n",
      "Compressed sensing of streaming data.\n",
      "A fast Hadamard transform for signals with sub-linear sparsity.\n",
      "Oversampled noisy binary image sensor.\n",
      "The Fukushima inverse problem.\n",
      "Sequences with minimal time-frequency spreads.\n",
      "Sampling and reconstructing diffusion fields in presence of aliasing.\n",
      "Beyond Moore-Penrose: Sparse pseudoinverse.\n",
      "Teaching signal processing online: A report from the trenches.\n",
      "Multichannel sampling of low light level scenes with unknown shifts.\n",
      "Randomized recovery for boolean compressed sensing.\n",
      "Sequences with Minimal Time-Frequency Uncertainty.\n",
      "Near-Optimal Sensor Placement for Inverse Problems.\n",
      "Phase Retrieval for Sparse Signals: Uniqueness Conditions.\n",
      "A Fast Hadamard Transform for Signals with Sub-linear Sparsity.\n",
      "Recursive Compressed Sensing.\n",
      "On Minimal Trajectories for Mobile Sampling of Bandlimited Fields.\n",
      "Fast and Robust Parametric Estimation of Jointly Sparse Channels.\n",
      "Estimation of Sparse MIMO Channels with Common Support.\n",
      "On the Bandwidth of the Plenoptic Function.\n",
      "Bits From Photons: Oversampled Image Acquisition Using Binary Poisson Statistics.\n",
      "Distributed Successive Refinement of Multiview Images Using Broadcast Advantage.\n",
      "On Sampling and Coding for Distributed Acoustic Sensing.\n",
      "Rate Distortion Behavior of Sparse Sources.\n",
      "EigenMaps: algorithms for optimal thermal maps extraction and sensor placement on multicore processors.\n",
      "Multi-channel low-frequency room equalization using perceptually motivated constrained optimization.\n",
      "Super-resolution from unregistered aliased images with unknown scalings and shifts.\n",
      "Room helps: Acoustic localization with finite elements.\n",
      "Sampling and reconstruction of time-varying atmospheric emissions.\n",
      "Sampling and reconstructing spatial fields using mobile sensors.\n",
      "Event-driven video coding for outdoor wireless monitoring cameras.\n",
      "Howis the weather: Automatic inference from images.\n",
      "Share risk and energy: Sampling and communication strategies for multi-camera wireless monitoring networks.\n",
      "Sensorcam: an energy-efficient smart wireless camera for environmental monitoring.\n",
      "On sampling a high-dimensional bandlimited field on a union of shifted lattices.\n",
      "Fast and Robust Parametric Estimation of Jointly Sparse Channels.\n",
      "Locating the Source of Diffusion in Large-Scale Networks.\n",
      "Sampling and Reconstruction of Spatial Fields using Mobile Sensors.\n",
      "Introduction to the Issue on Gossiping Algorithms Design and Applications.\n",
      "The Distributed Multiple Voting Problem.\n",
      "Compressive Sampling of Multiple Sparse Signals Having Common Support Using Finite Rate of Innovation Principles.\n",
      "Group Testing With Probabilistic Tests: Theory, Design and Application.\n",
      "Valuable detours: least-cost anypath routing.\n",
      "Localization of diffusive sources using spatiotemporal measurements.\n",
      "Sampling trajectories for mobile sensing.\n",
      "Sensor networks for diffusion fields: Detection of sources in space and time.\n",
      "Can one hear the shape of a room: The 2-D polygonal case.\n",
      "Calibration in circular ultrasound tomography devices.\n",
      "Applications of short space-time fourier analysis in digital acoustics.\n",
      "Estimating Sparse MIMO channels having Common Support.\n",
      "Sampling and reconstructing diffusion fields with localized sources.\n",
      "Sparse spectral factorization: Unicity and reconstruction algorithms.\n",
      "Population size estimation using a few individuals as agents.\n",
      "Gigapixel Binary Sensing: Image Acquisition Using Oversampled One-Bit Poisson Statistics.\n",
      "Estimation of Sparse MIMO Channels with Common Support.\n",
      "Sampling based on timing: Time encoding machines on shift-invariant subspaces.\n",
      "Sampling High-Dimensional Bandlimited Fields on Low-Dimensional Manifolds.\n",
      "Demosaicking by Alternating Projections: Theory and Fast One-Step Implementation.\n",
      "On the information rates of the plenoptic function.\n",
      "Order-optimal consensus through randomized path averaging.\n",
      "SensorScope: Application-specific sensor network for environmental monitoring.\n",
      "Distributed sampling of signals linked by sparse filtering: theory and applications.\n",
      "Space-time-frequency processing of acoustic wave fields: theory, algorithms, and applications.\n",
      "An optimal algorithm for reconstructing images from binary measurements.\n",
      "On pixel detection threshold in the gigavision camera.\n",
      "Baffled circular loudspeaker array with broadband high directivity.\n",
      "Near-field adaptive beamforming and source localization in the spacetime frequency domain.\n",
      "Learning sparse systems at sub-Nyquist rates: A frequency-domain approach.\n",
      "Frame domain signal processing: Framework and applications.\n",
      "Ultrasound tomography with learned dictionaries.\n",
      "Weighted Gossip: Distributed Averaging using non-doubly stochastic matrices.\n",
      "Group Testing with Probabilistic Tests: Theory, Design and Application.\n",
      "Distributed Successive Approximation Coding using Broadcast Advantage: The Two-Encoder Case.\n",
      "Calibration for Ultrasound Breast Tomography Using Matrix Completion.\n",
      "Rate-Constrained Collaborative Noise Reduction for Wireless Hearing Aids.\n",
      "Iterative demosaicking accelerated: theory and fast noniterative implementations.\n",
      "Optimal color filter array design: quantitative conditions and an efficient search procedure.\n",
      "Potentials of Opportunistic Routing in Energy-Constrained Wireless Sensor Networks.\n",
      "The gigavision camera.\n",
      "Spatial super-resolution of a diffusion field by temporal oversampling in sensor networks.\n",
      "Distributed sensing of signals linked by sparse filtering.\n",
      "Interval consensus: From quantized gossip to voting.\n",
      "Image reconstruction in the gigavision camera.\n",
      "Designing color filter arrays for the joint capture of visible and near-infrared images.\n",
      "Support recovery in compressed sensing: An estimation theoretic approach.\n",
      "Coding of spatio-temporal audio spectra using tree-structured directional filterbanks.\n",
      "Compressed Sensing with Probabilistic Measurements: A Group Testing Solution.\n",
      "An Estimation Theoretic Approach for Sparsity Pattern Recovery in the Noisy Setting.\n",
      "Signal Processing for Communications.\n",
      "Dimensionality Reduction for Distributed Estimation in the Infinite Dimensional Regime.\n",
      "Wave Field coding in the spacetime frequency domain.\n",
      "Distributed compressed sensing: Sparsity models and reconstruction algorithms using annihilating filter.\n",
      "Assessing the challenges of environmental signal processing through the sensorscope project.\n",
      "Subspace-based methods for image registration and super-resolution.\n",
      "Which Distributed Averaging Algorithm Should I Choose for my Sensor Network?\n",
      "SensorScope: Out-of-the-Box Environmental Monitoring.\n",
      "The hitchhiker's guide to successful wireless sensor network deployments.\n",
      "Order-Optimal Consensus through Randomized Path Averaging.\n",
      "Infrastructures for a Smart Earth - The Swiss NCCR-MICS initiative -.\n",
      "Space-Frequency Quantization for Image Compression With Directionlets.\n",
      "Sampling Moments and Reconstructing Signals of Finite Rate of Innovation: Shannon Meets Strang-Fix.\n",
      "Super-Resolution From Unregistered and Totally Aliased Signals Using Subspace Methods.\n",
      "A Stochastic Model for Video and its Information Rates.\n",
      "The effective rank: A measure of effective dimensionality.\n",
      "Efficient zerotree-based image compression with directionlets.\n",
      "Experiences with Reproducible Research in Various Facets of Signal Processing Research.\n",
      "Tomographic Approach for Parametric Estimation of Local Diffusive Sources and Application to Heat Diffusion.\n",
      "Space-Frequency Quantization using Directionlets.\n",
      "On the Information Rates of the Plenoptic Function.\n",
      "A Frequency Domain Approach to Registration of Aliased Images with Application to Super-resolution.\n",
      "Locally adaptive wavelet-based image interpolation.\n",
      "Directionlets: Anisotropic Multidirectional Representation With Separable Filtering.\n",
      "Sampling and exact reconstruction of bandlimited signals with additive shot noise.\n",
      "The Distributed Karhunen-Loève Transform.\n",
      "Network correlated data gathering with explicit communication: NP-completeness and algorithms.\n",
      "Locating mobile nodes with EASE: learning efficient routes from encounter histories alone.\n",
      "Lattice networks: capacity limits, optimal routing, and queueing behavior.\n",
      "Correction to \"Lattice networks: Capacity limits, optimal routing, and queueing behavior\".\n",
      "Spatio-temporal sampling and distributed compression of the sound field.\n",
      "Distributed Compression in Acoustic Sensor Networks using Oversampled A/D Conversion.\n",
      "Signal Reconstruction From Multiple Unregistered Sets Of Samples Using Groebner Bases.\n",
      "On the Multiterminal Rate-Distortion Function for Acoustic Sensing.\n",
      "On a Stochastic Version of the Plenacoustic Function.\n",
      "Acoustic Tomography Method for Measuring Temperature and Wind Velocity.\n",
      "Sensing and Communication With and Without Bits.\n",
      "Exact Local Reconstruction Algorithms for Signals with Finite Rate of Innovation.\n",
      "Low-Rate Reduced Complexity Image Compression using Directionlets.\n",
      "On the Information Rate of the Plenoptic Function.\n",
      "Rate-Constrained Beamforming for Collaborating Hearing Aids.\n",
      "Power, spatio-temporal bandwidth, and distortion in large sensor networks.\n",
      "Rate-distortion optimized tree-structured compression algorithms for piecewise polynomial images.\n",
      "The contourlet transform: an efficient directional multiresolution image representation.\n",
      "On the capacity of large Gaussian relay networks.\n",
      "Networked Slepian-Wolf: theory, algorithms, and scaling laws.\n",
      "Sampling and reconstruction of signals with finite rate of innovation in the presence of noise.\n",
      "Exact sampling results for signals with finite rate of innovation using Strang-Fix conditions and local kernels.\n",
      "Plenacoustic function on the circle with application to HRTF interpolation.\n",
      "On the interaction of data representation and routing in sensor networks.\n",
      "On the bandlimitedness of the plenoptic function.\n",
      "Approximation power of directionlets.\n",
      "Super-resolution from highly undersampled images.\n",
      "On the optimal density for real-time data gathering of spatio-temporal processes in sensor networks.\n",
      "Efficient routing with small buffers in dense networks.\n",
      "Packet combining in sensor networks.\n",
      "Exact sampling results for some classes of parametric nonbandlimited 2-D signals.\n",
      "Networked Slepian-Wolf: Theory and Algorithms.\n",
      "On compression using the distributed Karhunen-Loeve transform.\n",
      "Rate-distortion problem for physics based distributed sensing [temperature measurement].\n",
      "Wavelet and footprint sampling of signals with a finite rate of innovation.\n",
      "How to take advantage of aliasing in bandlimited signals.\n",
      "Geometrical image denoising using quadtree segmentation.\n",
      "On Network Correlated Data Gathering.\n",
      "Lattice sensor networks: capacity limits, optimal routing and robustness to failures.\n",
      "Power-bandwidth-distortion scaling laws for sensor networks.\n",
      "Rate-distortion problem for physics based distributed sensing.\n",
      "Channel estimation and synchronization with sub-Nyquist sampling and application to ultra-wideband systems.\n",
      "A lower bound to the scaling behavior of sensor networks.\n",
      "Scaling laws for correlated data gathering.\n",
      "Computational analysis of mesh simplification using global error.\n",
      "Low-sampling rate UWB channel characterization and synchronization.\n",
      "Outlier Modeling in Image Matching.\n",
      "Power efficient gathering of correlated data: optimization, NP-completeness and heuristics.\n",
      "The finite ridgelet transform for image representation.\n",
      "To code, or not to code: lossy source-channel communication revisited.\n",
      "Wavelet footprints: theory, algorithms, and applications.\n",
      "Framing pyramids.\n",
      "Space-Time Routing in Ad Hoc Networks.\n",
      "The Distributed, Partial, And Conditional Karhunen-Loève Transforms.\n",
      "High resolution acquisition methods for wideband communication systems.\n",
      "Orthogonal Hilbert transform filter banks and wavelets.\n",
      "The plenacoustic function, sampling and reconstruction.\n",
      "Distributed signal processing and communications: on the interaction of sources and channels.\n",
      "Sampling with finite rate of innovation: channel and timing estimation for UWB and GPS.\n",
      "Disparity dependent segmentation based stereo image coding.\n",
      "Sampling and interpolation of the plenoptic function.\n",
      "Discrete multidirectional wavelet bases.\n",
      "Locating Nodes with EASE: Mobility Diffusion of Last Encounters in Ad Hoc Networks.\n",
      "Source-Channel Communication in Sensor Networks.\n",
      "Age matters: efficient route discovery in mobile ad hoc networks using encounter ages.\n",
      "Discrete directional wavelet bases for image compression.\n",
      "Acoustic based rendering by interpolation of the plenacoustic function.\n",
      "Superresolution images reconstructed from aliased images.\n",
      "Mesh Optimization Using Global Error with Application to Geometry Simplification.\n",
      "Wavelet-based texture retrieval using generalized Gaussian density and Kullback-Leibler distance.\n",
      "Optimal filter banks for multiple description coding: Analysis and synthesis.\n",
      "Rotation invariant texture characterization and retrieval using steerable wavelet-domain hidden Markov models.\n",
      "Sampling signals with finite rate of innovation.\n",
      "The distributed Karhunen-Loeve transform.\n",
      "A sampling theorem for the Radon transform of finite complexity objects.\n",
      "Deconvolution with wavelet footprints for ill-posed inverse problems.\n",
      "Optimal Wavelet Packet Modulation under finite complexity constraint.\n",
      "Sampling of communication systems with bandwidth expansion.\n",
      "Contourlets: a directional multiresolution image representation.\n",
      "Directional wavelet transforms and frames.\n",
      "Improved quadtree algorithm based on joint coding for piecewise smooth image compression.\n",
      "Video Multicast in (Large) Local Area Networks.\n",
      "On the capacity of wireless networks: The relay case.\n",
      "Rate-distortion optimized tree based coding algorithms.\n",
      "On simple oversampled A/D conversion in L2(IR).\n",
      "High-order balanced multiwavelets: theory, factorization, and design.\n",
      "Soft ARQ for Layered Streaming Media.\n",
      "Computational analysis of 4-8 meshes with application to surface simplification using global error.\n",
      "Frame reconstruction of the Laplacian pyramid.\n",
      "A sampling theorem for periodic piecewise polynomial signals.\n",
      "On the compression of two-dimensional piecewise smooth functions.\n",
      "Joint mesh and texture compression using marginal analysis.\n",
      "Pyramidal directional filter banks and curvelets.\n",
      "Footprints and edgeprints for image denoising and compression.\n",
      "R/D optimal linear prediction.\n",
      "Spatially adaptive wavelet thresholding with context modeling for image denoising.\n",
      "Adaptive wavelet thresholding for image denoising and compression.\n",
      "Wavelet thresholding for multiple noisy image copies.\n",
      "Transform coding with backward adaptive updates.\n",
      "Reconstruction of irregularly sampled discrete-time bandlimited signals with unknown sampling locations.\n",
      "Analysis of Optimal Filter Banks for Multiple Description Coding.\n",
      "Rate Distortion Behavior of Threshold-Based Nonlinear Approximations.\n",
      "Wavelet Transform Footprints: Catching Singularities for Compression and Denoising.\n",
      "Orthonormal Finite Ridgelet Transform for Image Compression.\n",
      "Video Multicast over Fair Queueing Networks.\n",
      "Texture Similarity Measurement Using Kullback-Leibler Distance on Wavelet Subbands.\n",
      "Integrated Browsing and Searching of Large Image Collections.\n",
      "Matching pursuit and atomic signal models based on recursive filter banks.\n",
      "Rate-Distortion Analysis of Spike Processes.\n",
      "Quantized Frame Expansions as Source-Channel Codes for Erasure Channels.\n",
      "Irregular sampling with unknown locations.\n",
      "Optimal bit allocation with side information.\n",
      "From Local to Global Parameter Estimation in Panoramic Photographic Reconstruction.\n",
      "Quadtrees for Embedded Surface Visualization: Constraints and Efficient Data Structures.\n",
      "R/D optimal data hiding.\n",
      "Invariant Image Retrieval Using Wavelet Maxima Moment.\n",
      "Set theoretic compression with an application to image coding.\n",
      "Quantized Overcomplete Expansions in IRN: Analysis, Synthesis, and Algorithms.\n",
      "Error-Rate Characteristics of Oversampled Analog-to-Digital Conversion.\n",
      "Data Compression and Harmonic Analysis.\n",
      "Balanced multiwavelets theory and design.\n",
      "Oversampled filter banks.\n",
      "Tight Weyl-Heisenberg frames in l2(Z).\n",
      "An FIR cascade structure for adaptive linear prediction.\n",
      "Discrete- and continuous-time local cosine bases with multiple overlapping.\n",
      "High order balanced multiwavelets.\n",
      "Interactive DSP education using Java.\n",
      "Perceptually hidden data transmission over audio signals.\n",
      "Significance Tree Image Coding using Balanced Multiwavelets.\n",
      "Spatially Adaptive Wavelet Thresholding with Context Modeling for Image Denoising.\n",
      "Multiple Copy Image Denoising via Wavelet Thresholding.\n",
      "Multiple Description Transform Coding of Images.\n",
      "Efficient Algorithms for Embedded Rendering of Terrain Models.\n",
      "A framework for interactive courses and virtual laboratories.\n",
      "Limited retransmission of real-time layered multimedia.\n",
      "Low-Complexity Video Coding for Receiver-Driven Layered Multicast.\n",
      "Gröbner Bases and Multidimensional FIR Multirate Systems.\n",
      "Adaptive scalar quantization without side information.\n",
      "Universal Transform Coding Based on Backward Adaptation.\n",
      "Optimal time segmentation for signal modeling and compression.\n",
      "Balanced multiwavelets.\n",
      "Computation-distortion characteristics of block transform coding.\n",
      "Spatial Adaptive Wavelet Thresholding for Image Denoising.\n",
      "Image Denoising via Lossy Compression and Wavelet Thresholding.\n",
      "Soft Caching: Image Caching in a Rate-Distortion Framework.\n",
      "Soft caching: web cache management techniques for images.\n",
      "Vector quantization of image subbands: a survey.\n",
      "Adaptive transforms for image coding using spatially varying wavelet packets.\n",
      "Image compression using binary space partitioning trees.\n",
      "Lower bound on the mean-squared error in oversampled quantization of periodic signals using vector quantization analysis.\n",
      "FIR oversampled filter banks and frames in ℓ2(Z).\n",
      "Oversampled FIR filter banks and frames in l2(Z).\n",
      "Consistency in quantized matching pursuit.\n",
      "A layered DCT coder for Internet video.\n",
      "Transform coding using adaptive bases and quantization.\n",
      "Receiver-Driven Layered Multicast.\n",
      "Wavelets and Subband Coding.\n",
      "Simple algorithms for BCH decoding.\n",
      "Discrete-time wavelet extrema representation: design and consistent reconstruction.\n",
      "Nonseparable two- and three-dimensional wavelets.\n",
      "Quantization of Overcomplete Expansions.\n",
      "Groebner basis techniques in multidimensional multirate systems.\n",
      "Resolution enhancement of images using wavelet transform extrema extrapolation.\n",
      "Lossy compression of individual signals based on string matching and one pass codebook design.\n",
      "Joint source/channel coding for multicast packet video.\n",
      "Layered transmission of signals over power-constrained wireless channels.\n",
      "Motion compensation of motion vectors.\n",
      "Optimal trellis-based buffered compression and fast approximations.\n",
      "Bit allocation for dependent quantization with applications to multiresolution and MPEG video coders.\n",
      "Rate-distortion optimal fast thresholding with complete JPEG/MPEG decoder compatibility.\n",
      "Reduction of the MSE in R-times oversampled A/D conversion O(1/R) to O(1/R2).\n",
      "Deterministic analysis of oversampled A/D conversion and decoding improvement based on consistent estimates.\n",
      "Orthogonal time-varying filter banks and wavelet packets.\n",
      "Syntax-Constrained Encoder Optimization Using Adaptive Quantization Thresholding for JPEG/MPEG Coders.\n",
      "Wavelet extrema and zero-crossings representations: properties and consistent reconstruction.\n",
      "A study of convex coders with an application to image coding.\n",
      "Set Theoretic Compression with an Application to Image Coding.\n",
      "Matching Pursuit for Compression and Application to Motion Compensated Video Coding.\n",
      "Adaptive Quantization without Side Information.\n",
      "A Framework for Optimization of a Multiresolution Remote Image Retrieval System.\n",
      "Iterative Toeplitz solvers with local quadratic convergence.\n",
      "Multiresolution Broadcast for Digital HDTV Using Joint Source/Channel Coding.\n",
      "FCO sampling of digital video using perfect reconstruction filter banks.\n",
      "Best wavelet packet bases in a rate-distortion sense.\n",
      "Computing m DFT's over GF(q) with one DFT over GF(qm).\n",
      "Hartley transforms over finite fields.\n",
      "Joint source/channel coding of statistically multiplexed real-time services on packet networks.\n",
      "Perfect reconstruction filter banks with rational sampling factors.\n",
      "Wavelets and recursive filter banks.\n",
      "Tilings of the time-frequency plane: construction of arbitrary orthogonal bases and fast tiling algorithms.\n",
      "Time-varying orthonormal tilings of the time-frequency plane.\n",
      "Bit allocation for dependent quantization with applications to MPEG video coders.\n",
      "A deterministic analysis of oversampled A/D conversion and Sigma Delta modulation.\n",
      "New results on multidimensional filter banks and wavelets.\n",
      "Lower bounds on the MSE in Nth order mulit-bit multi-loop sigma delta modulation with DC inputs.\n",
      "Orthogonal time-varying filter banks and wavelets.\n",
      "Multiresolution coding techniques for digital television: A review.\n",
      "All-digital high definition television: Dream or reality?\n",
      "Combined multiresolution source coding and modulation for digital broadcast of HDTV.\n",
      "Comments on 'Interpolative multiresolution coding of advanced television with compatible subchannels' [and reply and additional comments].\n",
      "Nonseparable multidimensional perfect reconstruction filter banks and wavelet bases for Rn.\n",
      "Adaptive filtering in subbands with critical sampling: analysis, experiments, and application to acoustic echo cancellation.\n",
      "Wavelets and filter banks: theory and design.\n",
      "Binary space partitioning tree representation of images.\n",
      "Preface.\n",
      "Preface.\n",
      "Interpolative multiresolution coding of advance television with compatible subchannels.\n",
      "The commutativity of up/downsampling in two dimensions.\n",
      "Perfect reconstruction filter banks for HDTV representation and coding.\n",
      "Theory of two-dimensional multirate filter banks.\n",
      "Packet video and its integration into the network architecture.\n",
      "Split-radix algorithms for length-pm DFT's.\n",
      "Perfect reconstruction FIR filter banks: some properties and factorizations.\n",
      "Running FIR and IIR filtering using multirate filter banks.\n",
      "A theory of multirate filter banks.\n",
      "Improved Fourier and Hartley transform algorithms: Application to cyclic convolution of real data.\n",
      "A Discrete Fourier-Cosine Transform Chip.\n",
      "Computationally efficient QMF filter banks.\n"
     ]
    }
   ],
   "source": [
    "for p in publications_wrappers:\n",
    "    print(p.find('span', class_='title').text)"
   ]
  },
  {
   "cell_type": "code",
   "execution_count": 21,
   "metadata": {},
   "outputs": [],
   "source": [
    "import pandas as pd\n",
    "%matplotlib inline"
   ]
  },
  {
   "cell_type": "code",
   "execution_count": 22,
   "metadata": {},
   "outputs": [
    {
     "data": {
      "text/html": [
       "<div>\n",
       "<style scoped>\n",
       "    .dataframe tbody tr th:only-of-type {\n",
       "        vertical-align: middle;\n",
       "    }\n",
       "\n",
       "    .dataframe tbody tr th {\n",
       "        vertical-align: top;\n",
       "    }\n",
       "\n",
       "    .dataframe thead th {\n",
       "        text-align: right;\n",
       "    }\n",
       "</style>\n",
       "<table border=\"1\" class=\"dataframe\">\n",
       "  <thead>\n",
       "    <tr style=\"text-align: right;\">\n",
       "      <th></th>\n",
       "      <th>authors</th>\n",
       "      <th>title</th>\n",
       "      <th>year</th>\n",
       "    </tr>\n",
       "  </thead>\n",
       "  <tbody>\n",
       "    <tr>\n",
       "      <th>0</th>\n",
       "      <td>[Gilles Baechler, Miranda Krekovic, Juri Ranie...</td>\n",
       "      <td>Super Resolution Phase Retrieval for Sparse Si...</td>\n",
       "      <td>2019</td>\n",
       "    </tr>\n",
       "    <tr>\n",
       "      <th>1</th>\n",
       "      <td>[Puoya Tabaghi, Ivan Dokmanic, Martin Vetterli]</td>\n",
       "      <td>On the Move: Localization with Kinetic Euclide...</td>\n",
       "      <td>2019</td>\n",
       "    </tr>\n",
       "    <tr>\n",
       "      <th>2</th>\n",
       "      <td>[Karen Adam, Adam Scholefield, Martin Vetterli]</td>\n",
       "      <td>Multi-channel Time Encoding for Improved Recon...</td>\n",
       "      <td>2019</td>\n",
       "    </tr>\n",
       "    <tr>\n",
       "      <th>3</th>\n",
       "      <td>[Miranda Krekovic, Ivan Dokmanic, Martin Vette...</td>\n",
       "      <td>Shapes from Echoes: Uniqueness from Point-to-P...</td>\n",
       "      <td>2019</td>\n",
       "    </tr>\n",
       "    <tr>\n",
       "      <th>4</th>\n",
       "      <td>[Amin Karbasi, Amir Hesam Salavati, Martin Vet...</td>\n",
       "      <td>Learning neural connectivity from firing activ...</td>\n",
       "      <td>2018</td>\n",
       "    </tr>\n",
       "  </tbody>\n",
       "</table>\n",
       "</div>"
      ],
      "text/plain": [
       "                                             authors  \\\n",
       "0  [Gilles Baechler, Miranda Krekovic, Juri Ranie...   \n",
       "1    [Puoya Tabaghi, Ivan Dokmanic, Martin Vetterli]   \n",
       "2    [Karen Adam, Adam Scholefield, Martin Vetterli]   \n",
       "3  [Miranda Krekovic, Ivan Dokmanic, Martin Vette...   \n",
       "4  [Amin Karbasi, Amir Hesam Salavati, Martin Vet...   \n",
       "\n",
       "                                               title  year  \n",
       "0  Super Resolution Phase Retrieval for Sparse Si...  2019  \n",
       "1  On the Move: Localization with Kinetic Euclide...  2019  \n",
       "2  Multi-channel Time Encoding for Improved Recon...  2019  \n",
       "3  Shapes from Echoes: Uniqueness from Point-to-P...  2019  \n",
       "4  Learning neural connectivity from firing activ...  2018  "
      ]
     },
     "execution_count": 22,
     "metadata": {},
     "output_type": "execute_result"
    }
   ],
   "source": [
    "publications_list = []\n",
    "for p in publications_wrappers:\n",
    "    title = p.find('span', class_='title').text  # get the title\n",
    "    authos_list = p.find_all('span', {'itemprop': 'author'})  # get the authors list\n",
    "    authors = [author.text for author in authos_list]  \n",
    "    year = p.find('span', {'itemprop': 'datePublished'}).text\n",
    "    publications_list.append({'title': title, \n",
    "                         'authors': authors, \n",
    "                         'year': int(year)})  # here you should validate the data\n",
    "\n",
    "publications = pd.DataFrame.from_dict(publications_list)\n",
    "publications.head()"
   ]
  },
  {
   "cell_type": "code",
   "execution_count": 23,
   "metadata": {},
   "outputs": [
    {
     "data": {
      "text/plain": [
       "<matplotlib.axes._subplots.AxesSubplot at 0x11af5fbe0>"
      ]
     },
     "execution_count": 23,
     "metadata": {},
     "output_type": "execute_result"
    },
    {
     "data": {
      "image/png": "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\n",
      "text/plain": [
       "<Figure size 720x432 with 1 Axes>"
      ]
     },
     "metadata": {
      "needs_background": "light"
     },
     "output_type": "display_data"
    }
   ],
   "source": [
    "publications.groupby('year')\\\n",
    "    .count()\\\n",
    "    .rename(columns = {'title':'count'})\\\n",
    "    .plot(y='count', kind='bar', grid=True, figsize=(10, 6), title='Data from: ' + URL)"
   ]
  }
 ],
 "metadata": {
  "anaconda-cloud": {},
  "kernelspec": {
<<<<<<< HEAD
   "display_name": "Python 3",
   "language": "python",
   "name": "python3"
=======
   "display_name": "Python [conda env:ada] *",
   "language": "python",
   "name": "conda-env-ada-py"
>>>>>>> 2e1190def9470ada4e9a59b87d4bcafd640e34a9
  },
  "language_info": {
   "codemirror_mode": {
    "name": "ipython",
    "version": 3
   },
   "file_extension": ".py",
   "mimetype": "text/x-python",
   "name": "python",
   "nbconvert_exporter": "python",
   "pygments_lexer": "ipython3",
   "version": "3.7.4"
  }
 },
 "nbformat": 4,
 "nbformat_minor": 4
}
