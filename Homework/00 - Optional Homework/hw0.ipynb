{
 "cells": [
  {
   "cell_type": "markdown",
   "metadata": {},
   "source": [
    "# Homework 00 Gun Deaths In America"
   ]
  },
  {
   "cell_type": "code",
   "execution_count": 1,
   "metadata": {},
   "outputs": [],
   "source": [
    "import re"
   ]
  },
  {
   "cell_type": "code",
   "execution_count": 2,
   "metadata": {},
   "outputs": [],
   "source": [
    "dataset_path = './guns-data-master/interactive_data.csv'\n",
    "\n",
    "total_death = 0\n",
    "suicide_death = 0\n",
    "suicide_death_male = 0\n",
    "suicide_death_male_35 = 0\n",
    "homicide_death = 0\n",
    "homicide_death_male_15_34 = 0\n",
    "homicide_death_male_15_34_black = 0\n",
    "homicide_death_female = 0\n",
    "accident_death = 0\n",
    "\n",
    "with open(dataset_path, 'r') as f:\n",
    "    f.readline()\n",
    "    for line in f.readlines():\n",
    "        line = line.replace('None selected', 'All')\n",
    "        entries = re.sub(r'\\n|\"', '', line).split(',')\n",
    "        index, intent, gender, age, race, deaths, population, rate = entries\n",
    "        if intent == 'All' and gender == 'All' and age == 'All' and race == 'All':\n",
    "            total_death = int(deaths)\n",
    "        elif intent == 'Suicide' and gender == 'All' and age == 'All' and race == 'All':\n",
    "            suicide_death = int(deaths)\n",
    "        elif intent == 'Suicide' and gender == 'Male' and age == 'All' and race == 'All':\n",
    "            suicide_death_male = int(deaths)\n",
    "        elif intent == 'Suicide' and gender == 'Male' and age == '35 - 64' and race == 'All':\n",
    "            suicide_death_male_35 += int(deaths)\n",
    "        elif intent == 'Suicide' and gender == 'Male' and age == '65+' and race == 'All':\n",
    "            suicide_death_male_35 += int(deaths)\n",
    "        elif intent == 'Homicide' and gender == 'All' and age == 'All' and race == 'All':\n",
    "            homicide_death = int(deaths)\n",
    "        elif intent == 'Homicide' and gender == 'Male' and age == '15 - 34' and race == 'All':\n",
    "            homicide_death_male_15_34 = int(deaths)\n",
    "        elif intent == 'Homicide' and gender == 'Male' and age == '15 - 34' and race == 'Black':\n",
    "            homicide_death_male_15_34_black = int(deaths)\n",
    "        elif intent == 'Homicide' and gender == 'Female' and age == 'All' and race == 'All':\n",
    "            homicide_death_female = int(deaths)\n",
    "        elif intent == 'Accident' and gender == 'All' and age == 'All' and race == 'All':\n",
    "            accident_death = int(deaths)"
   ]
  },
  {
   "cell_type": "code",
   "execution_count": 3,
   "metadata": {},
   "outputs": [
    {
     "name": "stdout",
     "output_type": "stream",
     "text": [
      "More than 33599 people are fatally shot in the U.S. each year\n",
      "But nearly two-thirds (21058/33599 = 62%) of gun deaths are suicides.\n",
      "More than 85 percent (18162/21058 = 86%) of suicide victims are male\n",
      "... and more than half of all suicides (13647/21058 = 64%) are men age 35 or older\n",
      "Another third of all gun deaths (11726/33599 = 34%) -- about 12000 (11726) in total each year -- are homicides\n",
      "More than half of homicide victims (6520/11726 = 55%) are young men\n",
      "... two-thirds of whom (4312/6520 = 66%) are black\n",
      "Women are far less likely to be gun homicide victims — about 1,700 (1791) of them are killed each year, many in domestic violence incidents\n",
      "The remaining gun deaths (546) are accidents or are classified as undetermined.\n"
     ]
    }
   ],
   "source": [
    "print(\"More than {:d} people are fatally shot in the U.S. each year\".format(total_death))\n",
    "print(\"But nearly two-thirds ({:d}/{:d} = {:d}%) of gun deaths are suicides.\".format(suicide_death, total_death, int(100 * suicide_death / total_death)))\n",
    "print(\"More than 85 percent ({:d}/{:d} = {:d}%) of suicide victims are male\".format(suicide_death_male, suicide_death, int(100 * suicide_death_male / suicide_death)))\n",
    "print(\"... and more than half of all suicides ({:d}/{:d} = {:d}%) are men age 35 or older\".format(suicide_death_male_35, suicide_death, int (100 * suicide_death_male_35 / suicide_death)))\n",
    "print(\"Another third of all gun deaths ({:d}/{:d} = {:d}%) -- about 12000 ({:d}) in total each year -- are homicides\".format(homicide_death, total_death, int(100 * homicide_death / total_death), homicide_death))\n",
    "print(\"More than half of homicide victims ({:d}/{:d} = {:d}%) are young men\".format(homicide_death_male_15_34, homicide_death, int(100 * homicide_death_male_15_34 / homicide_death)))\n",
    "print(\"... two-thirds of whom ({:d}/{:d} = {:d}%) are black\".format(homicide_death_male_15_34_black, homicide_death_male_15_34, int(100 * homicide_death_male_15_34_black / homicide_death_male_15_34)))\n",
    "print(\"Women are far less likely to be gun homicide victims — about 1,700 ({:d}) of them are killed each year, many in domestic violence incidents\".format(homicide_death_female))\n",
    "print(\"The remaining gun deaths ({:d}) are accidents or are classified as undetermined.\".format(accident_death))"
   ]
  },
  {
   "cell_type": "code",
   "execution_count": null,
   "metadata": {},
   "outputs": [],
   "source": []
  }
 ],
 "metadata": {
  "kernelspec": {
   "display_name": "Python [conda env:ada] *",
   "language": "python",
   "name": "conda-env-ada-py"
  },
  "language_info": {
   "codemirror_mode": {
    "name": "ipython",
    "version": 3
   },
   "file_extension": ".py",
   "mimetype": "text/x-python",
   "name": "python",
   "nbconvert_exporter": "python",
   "pygments_lexer": "ipython3",
   "version": "3.7.4"
  }
 },
 "nbformat": 4,
 "nbformat_minor": 4
}
