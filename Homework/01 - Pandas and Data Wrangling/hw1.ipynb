{
 "cells": [
  {
   "cell_type": "markdown",
   "metadata": {
    "colab_type": "text",
    "id": "l3ZEgl7t28Ee"
   },
   "source": [
    "# Homework 1\n",
    "## Introduction\n",
    "### Important dates\n",
    "* Homework release: Thursday, 3rd October 2019\n",
    "* **Homework due**: Wednesday, 16th October 2019 (23:59 hours, 11:59 PM)\n",
    "* Peer review due: Wednesday, 23rd October 2019 (23:59 hours, 11:59 PM)\n",
    "* Grading release: Wednesday, 30th October 2019\n",
    "\n",
    "### Description\n",
    "\n",
    "The data you'll be working with comes from multiple sources. The main data source will be [DBLP](https://dblp.uni-trier.de/), a database of publications from major computer science journals and conferences. A subset of DBLP, which you will use in this assignment, is provided to you via a [google drive folder](https://drive.google.com/file/d/1Kci8joML74tCSzuBbhxtd1ylR4f0dlm6/view). Later on, you will enrich the DBLP data with a dataset on conference rankings and with the proceedings of the [NIPS conference](https://nips.cc/) [1] ('proceedings' is another word for the set of papers published at an academic conference). After loading and cleaning the data, you will answer various questions about its contents.\n",
    "\n",
    "**Some rules:**\n",
    "- You are allowed to use any built-in Python library that comes with Anaconda. If you want to use an external library, you have to justify your choice.\n",
    "- Make sure you use the data folder provided in the repository in *read-only* mode.\n",
    "- Be sure to provide explanations for your answers. A notebook that only has code cells will not suffice.\n",
    "- Also, be sure to *hand in a fully-run and evaluated notebook*. We will not run your notebook for you, we will grade it as is, which means that only the results contained in your evaluated code cells will be considered, and we will not see the results in unevaluated code cells. In order to check whether everything looks as intended, you can check the rendered notebook on the GitHub website once you have pushed your solution there.\n",
    "\n",
    "[1] Note that NIPS was renamed to NeurIPS in 2018, but for simplicity, whenever we say 'NIPS', we really mean 'NIPS and NeurIPS'."
   ]
  },
  {
   "cell_type": "markdown",
   "metadata": {
    "colab_type": "text",
    "id": "A0IIdWOs48BB"
   },
   "source": [
    "## Task A. Getting a sense of the dataset\n",
    "\n",
    "### A1. Loading the data\n",
    "Download the DBLP dataset (available on [google drive](https://drive.google.com/file/d/1Kci8joML74tCSzuBbhxtd1ylR4f0dlm6/view)) and load it into a Pandas dataframe. A row of your dataframe should look as follows:\n",
    "\n",
    "| paper id | author names | publication year | paper title | \n",
    "| :----:|:-------------:| :-----:|:-----:|\n",
    "| conf/nips/doe1036 | [John Doe, Jane Doe] | 2003 | Some Catchy Title: An Expanded and Boring Title | \n",
    "\n",
    "\n",
    "1. Filter the papers: keep only conference papers. For each of the remaining ones, find the acronym of the conference where it was published. Retain only those papers that have been published in the conferences listed in `data/list_of_ai_conferences.txt`. Additionally, add a column named 'conference' to your dataframe.   \n",
    "_Hint: The `paper id` tells you whether a paper was published at a conference, and if so, at which one._\n",
    "\n",
    "2. Report the overall number of papers in the filtered dataset, as well as the number of papers per conference."
   ]
  },
  {
   "cell_type": "code",
   "execution_count": 1,
   "metadata": {
    "colab": {},
    "colab_type": "code",
    "id": "ara6mLe1l_CQ"
   },
   "outputs": [],
   "source": [
    "%matplotlib inline\n",
    "import pandas as pd\n",
    "import numpy as np\n",
    "import re\n",
    "from matplotlib.ticker import MaxNLocator\n",
    "import matplotlib.pyplot as plt\n",
    "from requests import get\n",
    "from bs4 import BeautifulSoup"
   ]
  },
  {
   "cell_type": "code",
   "execution_count": 2,
   "metadata": {},
   "outputs": [],
   "source": [
    "# loat DBLP dataset into a Pandas dataframe\n",
    "dblp = pd.read_csv('./data/dblp.tsv', sep='\\t')\n",
    "dblp['authors'] = dblp['authors'].apply(eval)"
   ]
  },
  {
   "cell_type": "code",
   "execution_count": 3,
   "metadata": {},
   "outputs": [
    {
     "data": {
      "text/html": [
       "<div>\n",
       "<style scoped>\n",
       "    .dataframe tbody tr th:only-of-type {\n",
       "        vertical-align: middle;\n",
       "    }\n",
       "\n",
       "    .dataframe tbody tr th {\n",
       "        vertical-align: top;\n",
       "    }\n",
       "\n",
       "    .dataframe thead th {\n",
       "        text-align: right;\n",
       "    }\n",
       "</style>\n",
       "<table border=\"1\" class=\"dataframe\">\n",
       "  <thead>\n",
       "    <tr style=\"text-align: right;\">\n",
       "      <th></th>\n",
       "      <th>id</th>\n",
       "      <th>authors</th>\n",
       "      <th>year</th>\n",
       "      <th>title</th>\n",
       "    </tr>\n",
       "  </thead>\n",
       "  <tbody>\n",
       "    <tr>\n",
       "      <td>0</td>\n",
       "      <td>tr/meltdown/s18</td>\n",
       "      <td>[Paul Kocher, Daniel Genkin, Daniel Gruss, Wer...</td>\n",
       "      <td>2018.0</td>\n",
       "      <td>Spectre Attacks: Exploiting Speculative Execut...</td>\n",
       "    </tr>\n",
       "    <tr>\n",
       "      <td>1</td>\n",
       "      <td>tr/meltdown/m18</td>\n",
       "      <td>[Moritz Lipp, Michael Schwarz 0001, Daniel Gru...</td>\n",
       "      <td>2018.0</td>\n",
       "      <td>Meltdown</td>\n",
       "    </tr>\n",
       "    <tr>\n",
       "      <td>2</td>\n",
       "      <td>tr/acm/CS2013</td>\n",
       "      <td>[]</td>\n",
       "      <td>2013.0</td>\n",
       "      <td>Computer Science Curricula 2013</td>\n",
       "    </tr>\n",
       "    <tr>\n",
       "      <td>3</td>\n",
       "      <td>tr/gte/TR-0263-08-94-165</td>\n",
       "      <td>[Frank Manola]</td>\n",
       "      <td>1994.0</td>\n",
       "      <td>An Evaluation of Object-Oriented DBMS Developm...</td>\n",
       "    </tr>\n",
       "    <tr>\n",
       "      <td>4</td>\n",
       "      <td>tr/gte/TR-0222-10-92-165</td>\n",
       "      <td>[Michael L. Brodie, Michael Stonebraker]</td>\n",
       "      <td>1993.0</td>\n",
       "      <td>DARWIN: On the Incremental Migration of Legacy...</td>\n",
       "    </tr>\n",
       "  </tbody>\n",
       "</table>\n",
       "</div>"
      ],
      "text/plain": [
       "                         id  \\\n",
       "0           tr/meltdown/s18   \n",
       "1           tr/meltdown/m18   \n",
       "2             tr/acm/CS2013   \n",
       "3  tr/gte/TR-0263-08-94-165   \n",
       "4  tr/gte/TR-0222-10-92-165   \n",
       "\n",
       "                                             authors    year  \\\n",
       "0  [Paul Kocher, Daniel Genkin, Daniel Gruss, Wer...  2018.0   \n",
       "1  [Moritz Lipp, Michael Schwarz 0001, Daniel Gru...  2018.0   \n",
       "2                                                 []  2013.0   \n",
       "3                                     [Frank Manola]  1994.0   \n",
       "4           [Michael L. Brodie, Michael Stonebraker]  1993.0   \n",
       "\n",
       "                                               title  \n",
       "0  Spectre Attacks: Exploiting Speculative Execut...  \n",
       "1                                           Meltdown  \n",
       "2                    Computer Science Curricula 2013  \n",
       "3  An Evaluation of Object-Oriented DBMS Developm...  \n",
       "4  DARWIN: On the Incremental Migration of Legacy...  "
      ]
     },
     "execution_count": 3,
     "metadata": {},
     "output_type": "execute_result"
    }
   ],
   "source": [
    "# take a look at the dataset\n",
    "dblp.head()"
   ]
  },
  {
   "cell_type": "code",
   "execution_count": 4,
   "metadata": {},
   "outputs": [],
   "source": [
    "# keep only conference papers\n",
    "conf_papers = dblp[dblp['id'].apply(lambda x: 'conf/' in x)]"
   ]
  },
  {
   "cell_type": "code",
   "execution_count": 5,
   "metadata": {},
   "outputs": [],
   "source": [
    "# remove papers with empty authors\n",
    "conf_papers = conf_papers[conf_papers['authors'].apply(lambda x: len(x) > 0)]"
   ]
  },
  {
   "cell_type": "code",
   "execution_count": 6,
   "metadata": {},
   "outputs": [
    {
     "data": {
      "text/html": [
       "<div>\n",
       "<style scoped>\n",
       "    .dataframe tbody tr th:only-of-type {\n",
       "        vertical-align: middle;\n",
       "    }\n",
       "\n",
       "    .dataframe tbody tr th {\n",
       "        vertical-align: top;\n",
       "    }\n",
       "\n",
       "    .dataframe thead th {\n",
       "        text-align: right;\n",
       "    }\n",
       "</style>\n",
       "<table border=\"1\" class=\"dataframe\">\n",
       "  <thead>\n",
       "    <tr style=\"text-align: right;\">\n",
       "      <th></th>\n",
       "      <th>id</th>\n",
       "      <th>authors</th>\n",
       "      <th>year</th>\n",
       "      <th>title</th>\n",
       "      <th>conference</th>\n",
       "    </tr>\n",
       "  </thead>\n",
       "  <tbody>\n",
       "    <tr>\n",
       "      <td>0</td>\n",
       "      <td>conf/iccv/KunoOO90</td>\n",
       "      <td>[Yoshinori Kuno, Yasukazu Okamoto, Satoshi Okada]</td>\n",
       "      <td>1990.0</td>\n",
       "      <td>Object recognition using a feature search stra...</td>\n",
       "      <td>iccv</td>\n",
       "    </tr>\n",
       "    <tr>\n",
       "      <td>1</td>\n",
       "      <td>conf/iccv/VedulaBRCK99</td>\n",
       "      <td>[Sundar Vedula, Simon Baker, Peter Rander, Rob...</td>\n",
       "      <td>1999.0</td>\n",
       "      <td>Three-Dimensional Scene Flow.</td>\n",
       "      <td>iccv</td>\n",
       "    </tr>\n",
       "    <tr>\n",
       "      <td>2</td>\n",
       "      <td>conf/iccv/MeminP99</td>\n",
       "      <td>[Étienne Mémin, Patrick Pérez]</td>\n",
       "      <td>1999.0</td>\n",
       "      <td>Fluid Motion Recovery by Coupling Dense and Pa...</td>\n",
       "      <td>iccv</td>\n",
       "    </tr>\n",
       "    <tr>\n",
       "      <td>3</td>\n",
       "      <td>conf/iccv/DickinsonPR90</td>\n",
       "      <td>[Sven J. Dickinson, Alex Pentland, Azriel Rose...</td>\n",
       "      <td>1990.0</td>\n",
       "      <td>Qualitative 3-D shape reconstruction using dis...</td>\n",
       "      <td>iccv</td>\n",
       "    </tr>\n",
       "    <tr>\n",
       "      <td>4</td>\n",
       "      <td>conf/iccv/SinghYL17</td>\n",
       "      <td>[Avi Singh, Larry Yang, Sergey Levine]</td>\n",
       "      <td>2017.0</td>\n",
       "      <td>GPLAC: Generalizing Vision-Based Robotic Skill...</td>\n",
       "      <td>iccv</td>\n",
       "    </tr>\n",
       "  </tbody>\n",
       "</table>\n",
       "</div>"
      ],
      "text/plain": [
       "                        id                                            authors  \\\n",
       "0       conf/iccv/KunoOO90  [Yoshinori Kuno, Yasukazu Okamoto, Satoshi Okada]   \n",
       "1   conf/iccv/VedulaBRCK99  [Sundar Vedula, Simon Baker, Peter Rander, Rob...   \n",
       "2       conf/iccv/MeminP99                     [Étienne Mémin, Patrick Pérez]   \n",
       "3  conf/iccv/DickinsonPR90  [Sven J. Dickinson, Alex Pentland, Azriel Rose...   \n",
       "4      conf/iccv/SinghYL17             [Avi Singh, Larry Yang, Sergey Levine]   \n",
       "\n",
       "     year                                              title conference  \n",
       "0  1990.0  Object recognition using a feature search stra...       iccv  \n",
       "1  1999.0                      Three-Dimensional Scene Flow.       iccv  \n",
       "2  1999.0  Fluid Motion Recovery by Coupling Dense and Pa...       iccv  \n",
       "3  1990.0  Qualitative 3-D shape reconstruction using dis...       iccv  \n",
       "4  2017.0  GPLAC: Generalizing Vision-Based Robotic Skill...       iccv  "
      ]
     },
     "execution_count": 6,
     "metadata": {},
     "output_type": "execute_result"
    }
   ],
   "source": [
    "# read the selected conferences from list_of_ai_conferences.txt file\n",
    "# and save it into conferences list\n",
    "conferences = []\n",
    "with open('./data/list_of_ai_conferences.txt', 'r') as f:\n",
    "    for line in f.readlines():\n",
    "        conferences.append(line.strip('\\n'))\n",
    "\n",
    "# retain only papers from the selected conferences\n",
    "conf_papers = conf_papers[conf_papers['id'].apply(lambda x: x.split('/')[1] in conferences)].reset_index(drop=True)\n",
    "\n",
    "# add a new 'conference' column\n",
    "conf_papers['conference'] = conf_papers['id'].apply(lambda x: x.split('/')[1])\n",
    "conf_papers.head()"
   ]
  },
  {
   "cell_type": "markdown",
   "metadata": {},
   "source": [
    "Overall number of paper in the filtered dataset"
   ]
  },
  {
   "cell_type": "code",
   "execution_count": 7,
   "metadata": {},
   "outputs": [
    {
     "data": {
      "text/plain": [
       "101053"
      ]
     },
     "execution_count": 7,
     "metadata": {},
     "output_type": "execute_result"
    }
   ],
   "source": [
    "conf_papers.shape[0]"
   ]
  },
  {
   "cell_type": "markdown",
   "metadata": {},
   "source": [
    "The number of paper per conference"
   ]
  },
  {
   "cell_type": "code",
   "execution_count": 8,
   "metadata": {},
   "outputs": [
    {
     "data": {
      "text/plain": [
       "icra      21548\n",
       "cvpr      12796\n",
       "aaai      10688\n",
       "ijcai      9547\n",
       "nips       8395\n",
       "acl        6190\n",
       "icml       4977\n",
       "iconip     4935\n",
       "iccv       4158\n",
       "emnlp      3264\n",
       "naacl      3216\n",
       "icann      3101\n",
       "accv       2352\n",
       "fgr        1371\n",
       "pricai     1353\n",
       "iccbr       838\n",
       "ida         695\n",
       "ilp         643\n",
       "ksem        622\n",
       "aamas       364\n",
       "Name: conference, dtype: int64"
      ]
     },
     "execution_count": 8,
     "metadata": {},
     "output_type": "execute_result"
    }
   ],
   "source": [
    "conf_papers['conference'].value_counts()"
   ]
  },
  {
   "cell_type": "code",
   "execution_count": 9,
   "metadata": {},
   "outputs": [
    {
     "data": {
      "text/plain": [
       "False"
      ]
     },
     "execution_count": 9,
     "metadata": {},
     "output_type": "execute_result"
    }
   ],
   "source": [
    "# Check if any row of the dataframe contains an entry with a missing title\n",
    "conf_papers.isnull().values.any()"
   ]
  },
  {
   "cell_type": "markdown",
   "metadata": {
    "colab_type": "text",
    "id": "mnE6N9zXl-yz"
   },
   "source": [
    "### A2. An author-centric look\n",
    "The dataframe you created above was a paper-centric one. Now, we want you to create a new dataframe centered around authors. Do this by expanding the author names in the lists in the 2nd column into separate rows. That is, if a paper has 3 authors, turn that row into 3 rows, each of which only contains one of the author names (along with the rest of the paper information, i.e., title, conference and year). Keep both dataframes, we are going to need both of them.    \n",
    "**Report the number of unique authors.**"
   ]
  },
  {
   "cell_type": "code",
   "execution_count": 10,
   "metadata": {},
   "outputs": [],
   "source": [
    "# create a paper-centric df\n",
    "# split the list-like string in authors, put each of them in a new column (apply.(pd.Series)),\n",
    "# merge with the paper-centric dataframe, melt the dataframe (--> long dataframe)\n",
    "# and finally drop the nan when doint apply.(pd.Series)\n",
    "# conf_authors = (conf_papers['authors']\n",
    "#                 .apply(lambda x: x.replace('[', '').replace(']', '').replace('\\'', '').split(', ')).apply(pd.Series)\n",
    "#                 .merge(conf_papers, left_index=True, right_index=True)\n",
    "#                 .drop(['authors'], axis=1)\n",
    "#                 .melt(id_vars = ['id', 'year', 'title', 'conference'], value_name = \"author\")\n",
    "#                 .drop(\"variable\", axis = 1)\n",
    "#                 .dropna(subset=['author']))\n",
    "\n",
    "# use more efficient method, explode\n",
    "conf_authors = conf_papers.explode('authors') \\\n",
    "                          .rename(columns={'authors': 'author'}) \\\n",
    "                          .reset_index(drop=True) \\\n",
    "                          .dropna(subset=['author'])"
   ]
  },
  {
   "cell_type": "markdown",
   "metadata": {},
   "source": [
    "The number of unique authors"
   ]
  },
  {
   "cell_type": "code",
   "execution_count": 11,
   "metadata": {},
   "outputs": [
    {
     "data": {
      "text/plain": [
       "105817"
      ]
     },
     "execution_count": 11,
     "metadata": {},
     "output_type": "execute_result"
    }
   ],
   "source": [
    "conf_authors['author'].nunique()"
   ]
  },
  {
   "cell_type": "code",
   "execution_count": 12,
   "metadata": {},
   "outputs": [
    {
     "data": {
      "text/plain": [
       "True"
      ]
     },
     "execution_count": 12,
     "metadata": {},
     "output_type": "execute_result"
    }
   ],
   "source": [
    "# check if the number of papers are equal in these two dataframs\n",
    "conf_papers.shape[0] == conf_authors['id'].nunique()"
   ]
  },
  {
   "cell_type": "markdown",
   "metadata": {
    "colab_type": "text",
    "id": "8ZiuGiDsl60f"
   },
   "source": [
    "### A3. Is your data analysis-friendly?\n",
    "\n",
    "Using an appropriate view of your data (paper-centric or author-centric), solve the following tasks:\n",
    "\n",
    "1. Plot the number of papers per author and analyze it. Do you observe any outliers? Can you identify the source of the problem? Please elaborate!   \n",
    "_Hint: To find out where the problem comes from, try performing an analysis at the conference or year level._   \n",
    "Make sure you remove this inconsistency from your dataframe before moving to the next step, and also create a new plot of the number of papers per author after fixing the problem.   \n",
    "\n",
    "2. Plot the number of papers per year. Do you observe any inconsistency in the output? Real-world data is usually messy, with typos, erroneous entries, and sometimes issues that make even loading the data problematic. Fix any errors that you encounter along the way, find ways to clean the attribute `year`, and redo the plot of the number of papers per year.   \n",
    "\n",
    "3. Machine learning (ML) has been one of the hottest topics within the broader area of AI recently, so let’s see if this is reflected in the number of ML publications. In particular, let’s focus on the two major ML conferences, NIPS and ICML: make a new dataframe with only NIPS and ICML papers (let’s call these the “ML papers”), plot the number of ML papers over time, and analyze and discuss the plot. Do you observe anything odd in this plot? What causes these problems?   \n",
    "_Hint: Try to perform an analysis at the conference or year level._   \n",
    "\n",
    "4. By now, you may have noticed that some conferences are not fully represented in the DBLP dataset. Complete the paper-centric dataframe by scraping the full NIPS data from the online proceedings at https://papers.nips.cc/ (maintain the same schema used in your previous dataframes, but fill in missing values). After this step, remove any remaining papers that have missing values. Redo the plots of steps A3.2 and A3.3 after fixing the issue.   \n",
    "\n",
    "_Note: In order to avoid re-running the cleaning part of the notebook every time, you could save the results at this point as a pickle file! Also, propagating your cleaning to both dataframes might prove useful later on._"
   ]
  },
  {
   "cell_type": "markdown",
   "metadata": {},
   "source": [
    "***A3.1***"
   ]
  },
  {
   "cell_type": "code",
   "execution_count": 13,
   "metadata": {},
   "outputs": [
    {
     "data": {
      "image/png": "[encoded data removed]",
      "text/plain": [
       "<Figure size 1440x720 with 1 Axes>"
      ]
     },
     "metadata": {
      "needs_background": "light"
     },
     "output_type": "display_data"
    }
   ],
   "source": [
    "conf_authors['author'].value_counts().plot.hist(figsize=(20, 10), log=True)\n",
    "plt.title('Number of Papers per Author', fontsize=15)\n",
    "plt.xlabel('Number of papers', fontsize=15)\n",
    "plt.ylabel('Number of authors', fontsize=15)\n",
    "plt.show()"
   ]
  },
  {
   "cell_type": "markdown",
   "metadata": {},
   "source": [
    "It seems like there are a few outliers who have more papers than others, so we decided to check who are they."
   ]
  },
  {
   "cell_type": "code",
   "execution_count": 14,
   "metadata": {},
   "outputs": [
    {
     "data": {
      "text/html": [
       "<div>\n",
       "<style scoped>\n",
       "    .dataframe tbody tr th:only-of-type {\n",
       "        vertical-align: middle;\n",
       "    }\n",
       "\n",
       "    .dataframe tbody tr th {\n",
       "        vertical-align: top;\n",
       "    }\n",
       "\n",
       "    .dataframe thead th {\n",
       "        text-align: right;\n",
       "    }\n",
       "</style>\n",
       "<table border=\"1\" class=\"dataframe\">\n",
       "  <thead>\n",
       "    <tr style=\"text-align: right;\">\n",
       "      <th></th>\n",
       "      <th>number of papers</th>\n",
       "    </tr>\n",
       "    <tr>\n",
       "      <th>author</th>\n",
       "      <th></th>\n",
       "    </tr>\n",
       "  </thead>\n",
       "  <tbody>\n",
       "    <tr>\n",
       "      <td>Sheila A. McIlraith</td>\n",
       "      <td>918</td>\n",
       "    </tr>\n",
       "    <tr>\n",
       "      <td>Satinder P. Singh (ed.)</td>\n",
       "      <td>663</td>\n",
       "    </tr>\n",
       "    <tr>\n",
       "      <td>Luc Van Gool</td>\n",
       "      <td>220</td>\n",
       "    </tr>\n",
       "    <tr>\n",
       "      <td>Toshio Fukuda</td>\n",
       "      <td>196</td>\n",
       "    </tr>\n",
       "    <tr>\n",
       "      <td>Thomas S. Huang</td>\n",
       "      <td>186</td>\n",
       "    </tr>\n",
       "    <tr>\n",
       "      <td>Michael I. Jordan</td>\n",
       "      <td>168</td>\n",
       "    </tr>\n",
       "    <tr>\n",
       "      <td>Trevor Darrell</td>\n",
       "      <td>158</td>\n",
       "    </tr>\n",
       "    <tr>\n",
       "      <td>Shuicheng Yan</td>\n",
       "      <td>154</td>\n",
       "    </tr>\n",
       "    <tr>\n",
       "      <td>Takeo Kanade</td>\n",
       "      <td>151</td>\n",
       "    </tr>\n",
       "    <tr>\n",
       "      <td>Xiaoou Tang</td>\n",
       "      <td>150</td>\n",
       "    </tr>\n",
       "  </tbody>\n",
       "</table>\n",
       "</div>"
      ],
      "text/plain": [
       "                         number of papers\n",
       "author                                   \n",
       "Sheila A. McIlraith                   918\n",
       "Satinder P. Singh (ed.)               663\n",
       "Luc Van Gool                          220\n",
       "Toshio Fukuda                         196\n",
       "Thomas S. Huang                       186\n",
       "Michael I. Jordan                     168\n",
       "Trevor Darrell                        158\n",
       "Shuicheng Yan                         154\n",
       "Takeo Kanade                          151\n",
       "Xiaoou Tang                           150"
      ]
     },
     "execution_count": 14,
     "metadata": {},
     "output_type": "execute_result"
    }
   ],
   "source": [
    "conf_authors.groupby('author').count().drop(['id', 'year', 'conference'], axis=1) \\\n",
    "            .rename(columns={'title': 'number of papers'}) \\\n",
    "            .sort_values(by='number of papers', ascending=False).head(10)"
   ]
  },
  {
   "cell_type": "code",
   "execution_count": 15,
   "metadata": {},
   "outputs": [
    {
     "data": {
      "text/html": [
       "<div>\n",
       "<style scoped>\n",
       "    .dataframe tbody tr th:only-of-type {\n",
       "        vertical-align: middle;\n",
       "    }\n",
       "\n",
       "    .dataframe tbody tr th {\n",
       "        vertical-align: top;\n",
       "    }\n",
       "\n",
       "    .dataframe thead th {\n",
       "        text-align: right;\n",
       "    }\n",
       "</style>\n",
       "<table border=\"1\" class=\"dataframe\">\n",
       "  <thead>\n",
       "    <tr style=\"text-align: right;\">\n",
       "      <th></th>\n",
       "      <th></th>\n",
       "      <th></th>\n",
       "      <th>number of papers</th>\n",
       "    </tr>\n",
       "    <tr>\n",
       "      <th>year</th>\n",
       "      <th>conference</th>\n",
       "      <th>author</th>\n",
       "      <th></th>\n",
       "    </tr>\n",
       "  </thead>\n",
       "  <tbody>\n",
       "    <tr>\n",
       "      <td>2018.0</td>\n",
       "      <td>aaai</td>\n",
       "      <td>Sheila A. McIlraith</td>\n",
       "      <td>890</td>\n",
       "    </tr>\n",
       "    <tr>\n",
       "      <td>2017.0</td>\n",
       "      <td>aaai</td>\n",
       "      <td>Satinder P. Singh (ed.)</td>\n",
       "      <td>663</td>\n",
       "    </tr>\n",
       "    <tr>\n",
       "      <td rowspan=\"2\" valign=\"top\">2018.0</td>\n",
       "      <td rowspan=\"2\" valign=\"top\">cvpr</td>\n",
       "      <td>Luc Van Gool</td>\n",
       "      <td>19</td>\n",
       "    </tr>\n",
       "    <tr>\n",
       "      <td>Ming-Hsuan Yang 0001</td>\n",
       "      <td>15</td>\n",
       "    </tr>\n",
       "    <tr>\n",
       "      <td rowspan=\"2\" valign=\"top\">2017.0</td>\n",
       "      <td rowspan=\"2\" valign=\"top\">icra</td>\n",
       "      <td>Roland Siegwart</td>\n",
       "      <td>12</td>\n",
       "    </tr>\n",
       "    <tr>\n",
       "      <td>Daniela Rus</td>\n",
       "      <td>12</td>\n",
       "    </tr>\n",
       "    <tr>\n",
       "      <td>2011.0</td>\n",
       "      <td>icra</td>\n",
       "      <td>Gerd Hirzinger</td>\n",
       "      <td>12</td>\n",
       "    </tr>\n",
       "    <tr>\n",
       "      <td>2017.0</td>\n",
       "      <td>ijcai</td>\n",
       "      <td>Feiping Nie</td>\n",
       "      <td>12</td>\n",
       "    </tr>\n",
       "    <tr>\n",
       "      <td>1999.0</td>\n",
       "      <td>icra</td>\n",
       "      <td>Toshio Fukuda</td>\n",
       "      <td>12</td>\n",
       "    </tr>\n",
       "    <tr>\n",
       "      <td>2017.0</td>\n",
       "      <td>ijcai</td>\n",
       "      <td>Dacheng Tao</td>\n",
       "      <td>11</td>\n",
       "    </tr>\n",
       "  </tbody>\n",
       "</table>\n",
       "</div>"
      ],
      "text/plain": [
       "                                           number of papers\n",
       "year   conference author                                   \n",
       "2018.0 aaai       Sheila A. McIlraith                   890\n",
       "2017.0 aaai       Satinder P. Singh (ed.)               663\n",
       "2018.0 cvpr       Luc Van Gool                           19\n",
       "                  Ming-Hsuan Yang 0001                   15\n",
       "2017.0 icra       Roland Siegwart                        12\n",
       "                  Daniela Rus                            12\n",
       "2011.0 icra       Gerd Hirzinger                         12\n",
       "2017.0 ijcai      Feiping Nie                            12\n",
       "1999.0 icra       Toshio Fukuda                          12\n",
       "2017.0 ijcai      Dacheng Tao                            11"
      ]
     },
     "execution_count": 15,
     "metadata": {},
     "output_type": "execute_result"
    }
   ],
   "source": [
    "conf_authors.groupby(['year', 'conference', 'author']).count().drop(['id'], axis=1) \\\n",
    "            .rename(columns={'title': 'number of papers'}) \\\n",
    "            .sort_values(by='number of papers', ascending=False).head(10)"
   ]
  },
  {
   "cell_type": "markdown",
   "metadata": {},
   "source": [
    "The top two entries is definitely weird. After some research, we found out that they are like the editor of 2018 and 2017 AAAI conferences. Since they are not the actual author of the paper, we should remove their entries in the author-centric dataframe and also their name in the paper-centric dataframe."
   ]
  },
  {
   "cell_type": "markdown",
   "metadata": {},
   "source": [
    "We might as well check are there any other authors who have (ed.) in their name (which should indicate they are the editors and not the author)"
   ]
  },
  {
   "cell_type": "code",
   "execution_count": 16,
   "metadata": {},
   "outputs": [
    {
     "data": {
      "text/html": [
       "<div>\n",
       "<style scoped>\n",
       "    .dataframe tbody tr th:only-of-type {\n",
       "        vertical-align: middle;\n",
       "    }\n",
       "\n",
       "    .dataframe tbody tr th {\n",
       "        vertical-align: top;\n",
       "    }\n",
       "\n",
       "    .dataframe thead th {\n",
       "        text-align: right;\n",
       "    }\n",
       "</style>\n",
       "<table border=\"1\" class=\"dataframe\">\n",
       "  <thead>\n",
       "    <tr style=\"text-align: right;\">\n",
       "      <th></th>\n",
       "      <th>id</th>\n",
       "      <th>author</th>\n",
       "      <th>year</th>\n",
       "      <th>title</th>\n",
       "      <th>conference</th>\n",
       "    </tr>\n",
       "  </thead>\n",
       "  <tbody>\n",
       "    <tr>\n",
       "      <td>101219</td>\n",
       "      <td>conf/aaai/Harrison-Trainor17</td>\n",
       "      <td>Satinder P. Singh (ed.)</td>\n",
       "      <td>2017.0</td>\n",
       "      <td>Preferential Structures for Comparative Probab...</td>\n",
       "      <td>aaai</td>\n",
       "    </tr>\n",
       "    <tr>\n",
       "      <td>101372</td>\n",
       "      <td>conf/aaai/LecatLL17</td>\n",
       "      <td>Satinder P. Singh (ed.)</td>\n",
       "      <td>2017.0</td>\n",
       "      <td>New Lower Bound for the Minimum Sum Coloring P...</td>\n",
       "      <td>aaai</td>\n",
       "    </tr>\n",
       "    <tr>\n",
       "      <td>101382</td>\n",
       "      <td>conf/aaai/ChakrabortiTFCK17</td>\n",
       "      <td>Satinder P. Singh (ed.)</td>\n",
       "      <td>2017.0</td>\n",
       "      <td>UbuntuWorld 1.0 LTS - A Platform for Automated...</td>\n",
       "      <td>aaai</td>\n",
       "    </tr>\n",
       "    <tr>\n",
       "      <td>101386</td>\n",
       "      <td>conf/aaai/HeP17</td>\n",
       "      <td>Satinder P. Singh (ed.)</td>\n",
       "      <td>2017.0</td>\n",
       "      <td>Weakly Supervised Learning of Part Selection M...</td>\n",
       "      <td>aaai</td>\n",
       "    </tr>\n",
       "    <tr>\n",
       "      <td>101437</td>\n",
       "      <td>conf/aaai/Luger17</td>\n",
       "      <td>Satinder P. Singh (ed.)</td>\n",
       "      <td>2017.0</td>\n",
       "      <td>Beyond Mechanical Turk: Using Techniques from ...</td>\n",
       "      <td>aaai</td>\n",
       "    </tr>\n",
       "    <tr>\n",
       "      <td>...</td>\n",
       "      <td>...</td>\n",
       "      <td>...</td>\n",
       "      <td>...</td>\n",
       "      <td>...</td>\n",
       "      <td>...</td>\n",
       "    </tr>\n",
       "    <tr>\n",
       "      <td>133722</td>\n",
       "      <td>conf/aaai/SunYZB17</td>\n",
       "      <td>Satinder P. Singh (ed.)</td>\n",
       "      <td>2017.0</td>\n",
       "      <td>Exploiting both Vertical and Horizontal Dimens...</td>\n",
       "      <td>aaai</td>\n",
       "    </tr>\n",
       "    <tr>\n",
       "      <td>133751</td>\n",
       "      <td>conf/aaai/DerbinskyF17</td>\n",
       "      <td>Satinder P. Singh (ed.)</td>\n",
       "      <td>2017.0</td>\n",
       "      <td>Cornhole: A Widely-Accessible AI Robotics Task.</td>\n",
       "      <td>aaai</td>\n",
       "    </tr>\n",
       "    <tr>\n",
       "      <td>133811</td>\n",
       "      <td>conf/aaai/OrtizI17</td>\n",
       "      <td>Satinder P. Singh (ed.)</td>\n",
       "      <td>2017.0</td>\n",
       "      <td>Tractable Algorithms for Approximate Nash Equi...</td>\n",
       "      <td>aaai</td>\n",
       "    </tr>\n",
       "    <tr>\n",
       "      <td>133831</td>\n",
       "      <td>conf/aaai/AsprinoPGC17</td>\n",
       "      <td>Satinder P. Singh (ed.)</td>\n",
       "      <td>2017.0</td>\n",
       "      <td>Frame-Based Ontology Alignment.</td>\n",
       "      <td>aaai</td>\n",
       "    </tr>\n",
       "    <tr>\n",
       "      <td>133920</td>\n",
       "      <td>conf/aaai/LiangXZHW17</td>\n",
       "      <td>Satinder P. Singh (ed.)</td>\n",
       "      <td>2017.0</td>\n",
       "      <td>Graph-Based Wrong IsA Relation Detection in a ...</td>\n",
       "      <td>aaai</td>\n",
       "    </tr>\n",
       "  </tbody>\n",
       "</table>\n",
       "<p>663 rows × 5 columns</p>\n",
       "</div>"
      ],
      "text/plain": [
       "                                  id                   author    year  \\\n",
       "101219  conf/aaai/Harrison-Trainor17  Satinder P. Singh (ed.)  2017.0   \n",
       "101372           conf/aaai/LecatLL17  Satinder P. Singh (ed.)  2017.0   \n",
       "101382   conf/aaai/ChakrabortiTFCK17  Satinder P. Singh (ed.)  2017.0   \n",
       "101386               conf/aaai/HeP17  Satinder P. Singh (ed.)  2017.0   \n",
       "101437             conf/aaai/Luger17  Satinder P. Singh (ed.)  2017.0   \n",
       "...                              ...                      ...     ...   \n",
       "133722            conf/aaai/SunYZB17  Satinder P. Singh (ed.)  2017.0   \n",
       "133751        conf/aaai/DerbinskyF17  Satinder P. Singh (ed.)  2017.0   \n",
       "133811            conf/aaai/OrtizI17  Satinder P. Singh (ed.)  2017.0   \n",
       "133831        conf/aaai/AsprinoPGC17  Satinder P. Singh (ed.)  2017.0   \n",
       "133920         conf/aaai/LiangXZHW17  Satinder P. Singh (ed.)  2017.0   \n",
       "\n",
       "                                                    title conference  \n",
       "101219  Preferential Structures for Comparative Probab...       aaai  \n",
       "101372  New Lower Bound for the Minimum Sum Coloring P...       aaai  \n",
       "101382  UbuntuWorld 1.0 LTS - A Platform for Automated...       aaai  \n",
       "101386  Weakly Supervised Learning of Part Selection M...       aaai  \n",
       "101437  Beyond Mechanical Turk: Using Techniques from ...       aaai  \n",
       "...                                                   ...        ...  \n",
       "133722  Exploiting both Vertical and Horizontal Dimens...       aaai  \n",
       "133751    Cornhole: A Widely-Accessible AI Robotics Task.       aaai  \n",
       "133811  Tractable Algorithms for Approximate Nash Equi...       aaai  \n",
       "133831                    Frame-Based Ontology Alignment.       aaai  \n",
       "133920  Graph-Based Wrong IsA Relation Detection in a ...       aaai  \n",
       "\n",
       "[663 rows x 5 columns]"
      ]
     },
     "execution_count": 16,
     "metadata": {},
     "output_type": "execute_result"
    }
   ],
   "source": [
    "conf_authors[conf_authors['author'].apply(lambda x: '(ed.)' in x)]"
   ]
  },
  {
   "cell_type": "markdown",
   "metadata": {},
   "source": [
    "Ok, so it's just Satinder P. Singh(ed.), cause the total number is the same."
   ]
  },
  {
   "cell_type": "markdown",
   "metadata": {},
   "source": [
    "We should remove the above mentioned outliers.  \n",
    "For paper-centric dataframe, we should remove their names in the corresponding authors list.  \n",
    "For author-centric dataframe, we should remove their entries."
   ]
  },
  {
   "cell_type": "code",
   "execution_count": 17,
   "metadata": {},
   "outputs": [],
   "source": [
    "removed_ids_sheila = conf_authors[(conf_authors['author'] == 'Sheila A. McIlraith') &\n",
    "                                  (conf_authors['conference'] == 'aaai') &\n",
    "                                  (conf_authors['year'] == '2018.0')]['id'].values\n",
    "removed_ids_satinder = conf_authors[(conf_authors['author'] == 'Satinder P. Singh (ed.)') &\n",
    "                                    (conf_authors['conference'] == 'aaai') &\n",
    "                                    (conf_authors['year'] == '2017.0')]['id'].values\n",
    "def remove_name_in_list(ob):\n",
    "    # only remove name when paper's id is in removed_ids\n",
    "    if ob['id'] in removed_ids_sheila:\n",
    "        ob['authors'] = [a for a in ob['authors'] if a != 'Sheila A. McIlraith']\n",
    "    if ob['id'] in removed_ids_satinder:\n",
    "        ob['authors'] = [a for a in ob['authors'] if a != 'Satinder P. Singh (ed.)']\n",
    "    return ob"
   ]
  },
  {
   "cell_type": "code",
   "execution_count": 18,
   "metadata": {},
   "outputs": [],
   "source": [
    "a31_conf_papers = conf_papers.copy()\n",
    "a31_conf_papers = a31_conf_papers.apply(remove_name_in_list, axis=1)"
   ]
  },
  {
   "cell_type": "code",
   "execution_count": 19,
   "metadata": {},
   "outputs": [
    {
     "data": {
      "text/html": [
       "<div>\n",
       "<style scoped>\n",
       "    .dataframe tbody tr th:only-of-type {\n",
       "        vertical-align: middle;\n",
       "    }\n",
       "\n",
       "    .dataframe tbody tr th {\n",
       "        vertical-align: top;\n",
       "    }\n",
       "\n",
       "    .dataframe thead th {\n",
       "        text-align: right;\n",
       "    }\n",
       "</style>\n",
       "<table border=\"1\" class=\"dataframe\">\n",
       "  <thead>\n",
       "    <tr style=\"text-align: right;\">\n",
       "      <th></th>\n",
       "      <th>id</th>\n",
       "      <th>authors</th>\n",
       "      <th>year</th>\n",
       "      <th>title</th>\n",
       "      <th>conference</th>\n",
       "    </tr>\n",
       "  </thead>\n",
       "  <tbody>\n",
       "    <tr>\n",
       "      <td>33867</td>\n",
       "      <td>conf/aaai/2018w</td>\n",
       "      <td>[]</td>\n",
       "      <td>2018.0</td>\n",
       "      <td>The Workshops of the The Thirty-Second AAAI Co...</td>\n",
       "      <td>aaai</td>\n",
       "    </tr>\n",
       "    <tr>\n",
       "      <td>36715</td>\n",
       "      <td>conf/aaai/2017</td>\n",
       "      <td>[]</td>\n",
       "      <td>2017.0</td>\n",
       "      <td>Proceedings of the Thirty-First AAAI Conferenc...</td>\n",
       "      <td>aaai</td>\n",
       "    </tr>\n",
       "    <tr>\n",
       "      <td>37975</td>\n",
       "      <td>conf/aaai/2017w</td>\n",
       "      <td>[]</td>\n",
       "      <td>2017.0</td>\n",
       "      <td>The Workshops of the The Thirty-First AAAI Con...</td>\n",
       "      <td>aaai</td>\n",
       "    </tr>\n",
       "    <tr>\n",
       "      <td>38652</td>\n",
       "      <td>conf/aaai/2018</td>\n",
       "      <td>[]</td>\n",
       "      <td>2018.0</td>\n",
       "      <td>Proceedings of the Thirty-Second AAAI Conferen...</td>\n",
       "      <td>aaai</td>\n",
       "    </tr>\n",
       "  </tbody>\n",
       "</table>\n",
       "</div>"
      ],
      "text/plain": [
       "                    id authors    year  \\\n",
       "33867  conf/aaai/2018w      []  2018.0   \n",
       "36715   conf/aaai/2017      []  2017.0   \n",
       "37975  conf/aaai/2017w      []  2017.0   \n",
       "38652   conf/aaai/2018      []  2018.0   \n",
       "\n",
       "                                                   title conference  \n",
       "33867  The Workshops of the The Thirty-Second AAAI Co...       aaai  \n",
       "36715  Proceedings of the Thirty-First AAAI Conferenc...       aaai  \n",
       "37975  The Workshops of the The Thirty-First AAAI Con...       aaai  \n",
       "38652  Proceedings of the Thirty-Second AAAI Conferen...       aaai  "
      ]
     },
     "execution_count": 19,
     "metadata": {},
     "output_type": "execute_result"
    }
   ],
   "source": [
    "# after the above step there are four additional empty authors entries\n",
    "a31_conf_papers[a31_conf_papers['authors'].apply(lambda x: len(x) == 0)]"
   ]
  },
  {
   "cell_type": "code",
   "execution_count": 20,
   "metadata": {},
   "outputs": [],
   "source": [
    "# remove entries empty authors list\n",
    "a31_conf_papers = a31_conf_papers[a31_conf_papers['authors'].apply(lambda x: len(x) > 0)]"
   ]
  },
  {
   "cell_type": "code",
   "execution_count": 21,
   "metadata": {},
   "outputs": [],
   "source": [
    "a31_conf_authors = conf_authors[~((conf_authors['author'] == 'Sheila A. McIlraith') &\n",
    "                                  (conf_authors['conference'] == 'aaai') &\n",
    "                                  (conf_authors['year'] == '2018.0') |\n",
    "                                  ((conf_authors['author'] == 'Satinder P. Singh (ed.)') &\n",
    "                                   (conf_authors['conference'] == 'aaai') &\n",
    "                                   (conf_authors['year'] == '2017.0')))]"
   ]
  },
  {
   "cell_type": "code",
   "execution_count": 22,
   "metadata": {},
   "outputs": [
    {
     "data": {
      "text/plain": [
       "True"
      ]
     },
     "execution_count": 22,
     "metadata": {},
     "output_type": "execute_result"
    }
   ],
   "source": [
    "# check if the number of papers are equal in these two dataframs\n",
    "a31_conf_papers.shape[0] == a31_conf_authors['id'].nunique()"
   ]
  },
  {
   "cell_type": "code",
   "execution_count": 23,
   "metadata": {},
   "outputs": [
    {
     "data": {
      "image/png": "[encoded data removed]",
      "text/plain": [
       "<Figure size 1440x720 with 1 Axes>"
      ]
     },
     "metadata": {
      "needs_background": "light"
     },
     "output_type": "display_data"
    }
   ],
   "source": [
    "# plot the number of papers per author\n",
    "a31_conf_authors['author'].value_counts().plot.hist(figsize=(20, 10), log=True)\n",
    "plt.title('Number of Papers per Author', fontsize=15)\n",
    "plt.xlabel('Number of papers', fontsize=15)\n",
    "plt.ylabel('Number of authors', fontsize=15)\n",
    "plt.show()"
   ]
  },
  {
   "cell_type": "markdown",
   "metadata": {},
   "source": [
    "***A3.2***"
   ]
  },
  {
   "cell_type": "code",
   "execution_count": 24,
   "metadata": {},
   "outputs": [
    {
     "data": {
      "image/png": "[encoded data removed]",
      "text/plain": [
       "<Figure size 1440x720 with 1 Axes>"
      ]
     },
     "metadata": {
      "needs_background": "light"
     },
     "output_type": "display_data"
    }
   ],
   "source": [
    "a31_conf_papers['year'].value_counts().sort_index().plot.bar(figsize=(20, 10))\n",
    "plt.title('Number of Papers per Year', fontsize=15)\n",
    "plt.xlabel('Year', fontsize=15)\n",
    "plt.ylabel('Number of papers', fontsize=15)\n",
    "plt.show()"
   ]
  },
  {
   "cell_type": "markdown",
   "metadata": {},
   "source": [
    "The labels (x-axis) are clearly not all numbers, let's check what are the problems."
   ]
  },
  {
   "cell_type": "code",
   "execution_count": 25,
   "metadata": {},
   "outputs": [
    {
     "data": {
      "text/plain": [
       "array(['2018.0', '2017.0', '2015.0', '2016.0', '2013.0', '2014.0',\n",
       "       '2012.0', '2011.0', '2007.0', '2009.0', '2006.0', '2010.0',\n",
       "       '2005.0', '2008.0', '2004.0', '2003.0', '1998.0', '1997.0',\n",
       "       '2001.0', '2000.0', '1999.0', '1996.0', '2002.0', '1993.0',\n",
       "       '1995.0', '1994.0', '1991.0', '<em>2018.0</em>', \"'18\",\n",
       "       '<i>2018.0</i>', '1992.0', '1989.0', '<i>2017.0</i>',\n",
       "       '<em>2017.0</em>', \"'17\", '1990.0', '<em>2015.0</em>', '1988.0',\n",
       "       '<i>2015.0</i>', '1987.0', \"'15\", \"'16\", '<i>2016.0</i>',\n",
       "       '<em>2016.0</em>', '<em>2013.0</em>', '?', '<i>2014.0</i>', \"'12\",\n",
       "       '<i>2013.0</i>', \"'13\", '<i>2007.0</i>', '<em>2014.0</em>',\n",
       "       '<em>2012.0</em>', \"'14\", '<em>2007.0</em>', '<i>2011.0</i>',\n",
       "       \"'07\", '<i>2012.0</i>', '<em>2010.0</em>', '<i>2009.0</i>', \"'11\",\n",
       "       '1986.0', '<em>2011.0</em>', '<i>2010.0</i>', '<em>2006.0</em>',\n",
       "       \"'10\", \"'09\", '<em>2009.0</em>', '<em>2008.0</em>', \"'08\",\n",
       "       '<i>2005.0</i>', \"'06\", '<em>2005.0</em>', '1985.0',\n",
       "       '<i>2008.0</i>', '<i>2006.0</i>', '<em>2004.0</em>', \"'05\", \"'04\",\n",
       "       '<em>1998.0</em>', '1983.0', '<i>2003.0</i>', \"'03\",\n",
       "       '<i>1998.0</i>', '<em>2003.0</em>', '<i>2004.0</i>', \"'98\", \"'01\",\n",
       "       '<i>1997.0</i>', '<em>2001.0</em>', \"'97\", '<i>2001.0</i>',\n",
       "       '<em>2002.0</em>', '<i>1999.0</i>', '1981.0', '<i>2002.0</i>',\n",
       "       '1979.0', '<em>1997.0</em>', \"'00\", '1977.0', '<em>2000.0</em>',\n",
       "       \"'99\", '<em>1999.0</em>', \"'96\", '<i>2000.0</i>', \"'02\", \"'93\",\n",
       "       '<em>1995.0</em>', '<em>1993.0</em>', '<i>1996.0</i>',\n",
       "       '<em>1996.0</em>', '<em>1991.0</em>', \"'91\", '<i>1991.0</i>',\n",
       "       '<em>1994.0</em>', '<i>1993.0</i>', '<i>1995.0</i>', \"'94\",\n",
       "       '<i>1994.0</i>', '<em>1989.0</em>', '<em>1992.0</em>',\n",
       "       '<i>1992.0</i>', \"'95\", \"'90\", '1975.0', '1980.0', \"'92\", '1984.0',\n",
       "       '<em>1990.0</em>', '<i>1989.0</i>', '<em>1988.0</em>',\n",
       "       '<i>1990.0</i>', '1982.0', \"'89\", \"'88\", '<em>1987.0</em>',\n",
       "       '<i>1988.0</i>', \"'87\", '<i>1987.0</i>', \"'86\", '1973.0',\n",
       "       '<i>?</i>', '<em>1985.0</em>', '<em>1986.0</em>', '<em>?</em>',\n",
       "       '<i>1986.0</i>', \"'85\", '<i>1983.0</i>', '1971.0',\n",
       "       '<em>1983.0</em>', '1969.0', \"'83\", \"'79\", \"'81\", \"'77\",\n",
       "       '<i>1985.0</i>', '<i>1981.0</i>', '<i>1979.0</i>', \"'82\",\n",
       "       '<i>1977.0</i>', '<em>1975.0</em>', '<em>1979.0</em>',\n",
       "       '<em>1981.0</em>', \"'80\", '<em>1977.0</em>', \"'84\",\n",
       "       '<i>1984.0</i>', '<i>1982.0</i>', '<i>1975.0</i>',\n",
       "       '<em>1982.0</em>', '<em>1984.0</em>', '<i>1980.0</i>', \"'75\",\n",
       "       \"'69\", '<i>1971.0</i>', '<em>1973.0</em>', '<em>1980.0</em>',\n",
       "       '<em>1971.0</em>', \"'71\", '<em>1969.0</em>', '<i>1973.0</i>',\n",
       "       \"'73\", '<i>1969.0</i>', '2013', '2011', '2010', '2018', '2015',\n",
       "       '1998', '2001', '2004', '2005', '2014', '1990', '2006', '2009',\n",
       "       '2017'], dtype=object)"
      ]
     },
     "execution_count": 25,
     "metadata": {},
     "output_type": "execute_result"
    }
   ],
   "source": [
    "a31_conf_papers['year'].value_counts().index.values"
   ]
  },
  {
   "cell_type": "markdown",
   "metadata": {},
   "source": [
    "There are several problems.\n",
    "\n",
    "First, there are some values in column year that do not just contain number but some invalid string (e.g. \\<i>, \\<em>).  \n",
    "Second, some values are int values and some are float values (e.g. 2017, 2017.0).  \n",
    "Third, some values only contain the last two digit or the last digit of the year (e.g. '71, '73).  \n",
    "Last, there are some ? year.\n",
    "\n",
    "We need to fix these problems."
   ]
  },
  {
   "cell_type": "code",
   "execution_count": 26,
   "metadata": {},
   "outputs": [],
   "source": [
    "def handle_errors(x, invalid_string):\n",
    "    # remove invalid string\n",
    "    x = x.strip()\n",
    "    for tag in invalid_string:\n",
    "        x = x.replace(tag, '')\n",
    "    # handle ? year, we set it to nan now and will fill in the value in the next A3.4\n",
    "    if x == '?':\n",
    "        x = np.nan\n",
    "    else:\n",
    "        # make every year into a float value\n",
    "        x = float(x)\n",
    "    # convert it into four digits number\n",
    "    if x < 100:\n",
    "        # we set <19 because the newest paper is from 2018\n",
    "        if x < 19:\n",
    "            x += 2000\n",
    "        else:\n",
    "            x += 1900\n",
    "    return x\n",
    "\n",
    "invalid_string = ['<i>', '</i>', '<em>', '</em>', '\\'']\n",
    "a32_conf_papers = a31_conf_papers.copy()\n",
    "a32_conf_papers['year'] = a31_conf_papers['year'].apply(handle_errors, invalid_string=invalid_string)"
   ]
  },
  {
   "cell_type": "code",
   "execution_count": 27,
   "metadata": {},
   "outputs": [],
   "source": [
    "# apply the same function to new_conf_authors\n",
    "a32_conf_authors = a31_conf_authors.copy()\n",
    "a32_conf_authors['year'] = a31_conf_authors['year'].apply(handle_errors, invalid_string=invalid_string)"
   ]
  },
  {
   "cell_type": "code",
   "execution_count": 28,
   "metadata": {},
   "outputs": [
    {
     "data": {
      "text/plain": [
       "True"
      ]
     },
     "execution_count": 28,
     "metadata": {},
     "output_type": "execute_result"
    }
   ],
   "source": [
    "# check if the number of papers are equal in these two dataframs \n",
    "a32_conf_papers.shape[0] == a32_conf_authors['id'].unique().size"
   ]
  },
  {
   "cell_type": "code",
   "execution_count": 29,
   "metadata": {},
   "outputs": [
    {
     "data": {
      "text/plain": [
       "array([2018., 2017., 2015., 2016., 2013., 2014., 2012., 2011., 2007.,\n",
       "       2009., 2010., 2006., 2005., 2008., 2004., 2003., 1998., 2001.,\n",
       "       1997., 2000., 1999., 2002., 1996., 1993., 1995., 1994., 1991.,\n",
       "       1992., 1989., 1990., 1988., 1987., 1986., 1985., 1983., 1981.,\n",
       "       1979., 1977., 1975., 1984., 1982., 1980., 1973., 1971., 1969.])"
      ]
     },
     "execution_count": 29,
     "metadata": {},
     "output_type": "execute_result"
    }
   ],
   "source": [
    "# check the modified year value\n",
    "a32_conf_papers['year'].value_counts().index.values"
   ]
  },
  {
   "cell_type": "markdown",
   "metadata": {},
   "source": [
    "There must be some problems for the ? year (now we get 630 papers with ? year which we turned it into NaN)."
   ]
  },
  {
   "cell_type": "code",
   "execution_count": 30,
   "metadata": {},
   "outputs": [
    {
     "data": {
      "text/html": [
       "<div>\n",
       "<style scoped>\n",
       "    .dataframe tbody tr th:only-of-type {\n",
       "        vertical-align: middle;\n",
       "    }\n",
       "\n",
       "    .dataframe tbody tr th {\n",
       "        vertical-align: top;\n",
       "    }\n",
       "\n",
       "    .dataframe thead th {\n",
       "        text-align: right;\n",
       "    }\n",
       "</style>\n",
       "<table border=\"1\" class=\"dataframe\">\n",
       "  <thead>\n",
       "    <tr style=\"text-align: right;\">\n",
       "      <th></th>\n",
       "      <th>id</th>\n",
       "      <th>authors</th>\n",
       "      <th>year</th>\n",
       "      <th>title</th>\n",
       "      <th>conference</th>\n",
       "    </tr>\n",
       "  </thead>\n",
       "  <tbody>\n",
       "    <tr>\n",
       "      <td>61568</td>\n",
       "      <td>conf/nips/WangSJ11</td>\n",
       "      <td>[Zuoguan Wang, Gerwin Schalk, Qiang Ji]</td>\n",
       "      <td>NaN</td>\n",
       "      <td>Anatomically Constrained Decoding of Finger Fl...</td>\n",
       "      <td>nips</td>\n",
       "    </tr>\n",
       "    <tr>\n",
       "      <td>61596</td>\n",
       "      <td>conf/nips/BachM10</td>\n",
       "      <td>[Stephen H. Bach, Marcus A. Maloof]</td>\n",
       "      <td>NaN</td>\n",
       "      <td>A Bayesian Approach to Concept Drift.</td>\n",
       "      <td>nips</td>\n",
       "    </tr>\n",
       "    <tr>\n",
       "      <td>61600</td>\n",
       "      <td>conf/nips/RamkumarPHLL11</td>\n",
       "      <td>[Pavan Ramkumar, Sebastian Pannasch, Bruce C. ...</td>\n",
       "      <td>NaN</td>\n",
       "      <td>How Does the Brain Represent Visual Scenes? A ...</td>\n",
       "      <td>nips</td>\n",
       "    </tr>\n",
       "    <tr>\n",
       "      <td>61611</td>\n",
       "      <td>conf/nips/KolarBRS11</td>\n",
       "      <td>[Mladen Kolar, Sivaraman Balakrishnan, Alessan...</td>\n",
       "      <td>NaN</td>\n",
       "      <td>Minimax Localization of Structural Information...</td>\n",
       "      <td>nips</td>\n",
       "    </tr>\n",
       "    <tr>\n",
       "      <td>61628</td>\n",
       "      <td>conf/nips/LempitskyZ10</td>\n",
       "      <td>[Victor S. Lempitsky, Andrew Zisserman]</td>\n",
       "      <td>NaN</td>\n",
       "      <td>Learning To Count Objects in Images.</td>\n",
       "      <td>nips</td>\n",
       "    </tr>\n",
       "    <tr>\n",
       "      <td>...</td>\n",
       "      <td>...</td>\n",
       "      <td>...</td>\n",
       "      <td>...</td>\n",
       "      <td>...</td>\n",
       "      <td>...</td>\n",
       "    </tr>\n",
       "    <tr>\n",
       "      <td>69901</td>\n",
       "      <td>conf/nips/WangLSDC10</td>\n",
       "      <td>[Eric Wang, Dehong Liu, Jorge G. Silva, David ...</td>\n",
       "      <td>NaN</td>\n",
       "      <td>Joint Analysis of Time-Evolving Binary Matrice...</td>\n",
       "      <td>nips</td>\n",
       "    </tr>\n",
       "    <tr>\n",
       "      <td>69913</td>\n",
       "      <td>conf/nips/FroyenFS10</td>\n",
       "      <td>[Vicky Froyen, Jacob Feldman, Manish Singh 0001]</td>\n",
       "      <td>NaN</td>\n",
       "      <td>A Bayesian Framework for Figure-Ground Interpr...</td>\n",
       "      <td>nips</td>\n",
       "    </tr>\n",
       "    <tr>\n",
       "      <td>69924</td>\n",
       "      <td>conf/nips/BellalaBS10</td>\n",
       "      <td>[Gowtham Bellala, Suresh K. Bhavnani, Clayton ...</td>\n",
       "      <td>NaN</td>\n",
       "      <td>Extensions of Generalized Binary Search to Gro...</td>\n",
       "      <td>nips</td>\n",
       "    </tr>\n",
       "    <tr>\n",
       "      <td>69939</td>\n",
       "      <td>conf/nips/AndersenMSHM11</td>\n",
       "      <td>[Kasper Winther Andersen, Kristoffer Hougaard ...</td>\n",
       "      <td>NaN</td>\n",
       "      <td>Identification of Functional Clusters in the S...</td>\n",
       "      <td>nips</td>\n",
       "    </tr>\n",
       "    <tr>\n",
       "      <td>69944</td>\n",
       "      <td>conf/nips/LiSC11</td>\n",
       "      <td>[Congcong Li, Ashutosh Saxena, Tsuhan Chen]</td>\n",
       "      <td>NaN</td>\n",
       "      <td>$\\theta$-MRF: Capturing Spatial and Semantic S...</td>\n",
       "      <td>nips</td>\n",
       "    </tr>\n",
       "  </tbody>\n",
       "</table>\n",
       "<p>630 rows × 5 columns</p>\n",
       "</div>"
      ],
      "text/plain": [
       "                             id  \\\n",
       "61568        conf/nips/WangSJ11   \n",
       "61596         conf/nips/BachM10   \n",
       "61600  conf/nips/RamkumarPHLL11   \n",
       "61611      conf/nips/KolarBRS11   \n",
       "61628    conf/nips/LempitskyZ10   \n",
       "...                         ...   \n",
       "69901      conf/nips/WangLSDC10   \n",
       "69913      conf/nips/FroyenFS10   \n",
       "69924     conf/nips/BellalaBS10   \n",
       "69939  conf/nips/AndersenMSHM11   \n",
       "69944          conf/nips/LiSC11   \n",
       "\n",
       "                                                 authors  year  \\\n",
       "61568            [Zuoguan Wang, Gerwin Schalk, Qiang Ji]   NaN   \n",
       "61596                [Stephen H. Bach, Marcus A. Maloof]   NaN   \n",
       "61600  [Pavan Ramkumar, Sebastian Pannasch, Bruce C. ...   NaN   \n",
       "61611  [Mladen Kolar, Sivaraman Balakrishnan, Alessan...   NaN   \n",
       "61628            [Victor S. Lempitsky, Andrew Zisserman]   NaN   \n",
       "...                                                  ...   ...   \n",
       "69901  [Eric Wang, Dehong Liu, Jorge G. Silva, David ...   NaN   \n",
       "69913   [Vicky Froyen, Jacob Feldman, Manish Singh 0001]   NaN   \n",
       "69924  [Gowtham Bellala, Suresh K. Bhavnani, Clayton ...   NaN   \n",
       "69939  [Kasper Winther Andersen, Kristoffer Hougaard ...   NaN   \n",
       "69944        [Congcong Li, Ashutosh Saxena, Tsuhan Chen]   NaN   \n",
       "\n",
       "                                                   title conference  \n",
       "61568  Anatomically Constrained Decoding of Finger Fl...       nips  \n",
       "61596              A Bayesian Approach to Concept Drift.       nips  \n",
       "61600  How Does the Brain Represent Visual Scenes? A ...       nips  \n",
       "61611  Minimax Localization of Structural Information...       nips  \n",
       "61628               Learning To Count Objects in Images.       nips  \n",
       "...                                                  ...        ...  \n",
       "69901  Joint Analysis of Time-Evolving Binary Matrice...       nips  \n",
       "69913  A Bayesian Framework for Figure-Ground Interpr...       nips  \n",
       "69924  Extensions of Generalized Binary Search to Gro...       nips  \n",
       "69939  Identification of Functional Clusters in the S...       nips  \n",
       "69944  $\\theta$-MRF: Capturing Spatial and Semantic S...       nips  \n",
       "\n",
       "[630 rows x 5 columns]"
      ]
     },
     "execution_count": 30,
     "metadata": {},
     "output_type": "execute_result"
    }
   ],
   "source": [
    "a32_conf_papers[a32_conf_papers['year'].isna()]"
   ]
  },
  {
   "cell_type": "markdown",
   "metadata": {},
   "source": [
    "***A3.3***"
   ]
  },
  {
   "cell_type": "code",
   "execution_count": 31,
   "metadata": {},
   "outputs": [],
   "source": [
    "mlconf = ['icml', 'nips']\n",
    "ml_papers = a32_conf_papers[a32_conf_papers['conference'].isin(mlconf)]"
   ]
  },
  {
   "cell_type": "code",
   "execution_count": 32,
   "metadata": {},
   "outputs": [
    {
     "data": {
      "image/png": "[encoded data removed]",
      "text/plain": [
       "<Figure size 1440x720 with 1 Axes>"
      ]
     },
     "metadata": {
      "needs_background": "light"
     },
     "output_type": "display_data"
    }
   ],
   "source": [
    "ml_papers['year'].value_counts().sort_index().plot(figsize=(20, 10))\n",
    "plt.title('Number of ML Papers over Time', fontsize=15)\n",
    "plt.xlabel(\"Year\", fontsize=15)\n",
    "plt.ylabel(\"Number of papers\", fontsize=15)\n",
    "plt.show()"
   ]
  },
  {
   "cell_type": "markdown",
   "metadata": {},
   "source": [
    "There is something odd. The number of papers drops about 200 at around 2010 and 2011. Let's find out what is causing this (we guessed that it could be the '?' year)."
   ]
  },
  {
   "cell_type": "code",
   "execution_count": 33,
   "metadata": {},
   "outputs": [
    {
     "data": {
      "text/html": [
       "<div>\n",
       "<style scoped>\n",
       "    .dataframe tbody tr th:only-of-type {\n",
       "        vertical-align: middle;\n",
       "    }\n",
       "\n",
       "    .dataframe tbody tr th {\n",
       "        vertical-align: top;\n",
       "    }\n",
       "\n",
       "    .dataframe thead th {\n",
       "        text-align: right;\n",
       "    }\n",
       "</style>\n",
       "<table border=\"1\" class=\"dataframe\">\n",
       "  <thead>\n",
       "    <tr style=\"text-align: right;\">\n",
       "      <th></th>\n",
       "      <th>id</th>\n",
       "      <th>authors</th>\n",
       "      <th>year</th>\n",
       "      <th>title</th>\n",
       "      <th>conference</th>\n",
       "    </tr>\n",
       "  </thead>\n",
       "  <tbody>\n",
       "    <tr>\n",
       "      <td>61568</td>\n",
       "      <td>conf/nips/WangSJ11</td>\n",
       "      <td>[Zuoguan Wang, Gerwin Schalk, Qiang Ji]</td>\n",
       "      <td>NaN</td>\n",
       "      <td>Anatomically Constrained Decoding of Finger Fl...</td>\n",
       "      <td>nips</td>\n",
       "    </tr>\n",
       "    <tr>\n",
       "      <td>61596</td>\n",
       "      <td>conf/nips/BachM10</td>\n",
       "      <td>[Stephen H. Bach, Marcus A. Maloof]</td>\n",
       "      <td>NaN</td>\n",
       "      <td>A Bayesian Approach to Concept Drift.</td>\n",
       "      <td>nips</td>\n",
       "    </tr>\n",
       "    <tr>\n",
       "      <td>61600</td>\n",
       "      <td>conf/nips/RamkumarPHLL11</td>\n",
       "      <td>[Pavan Ramkumar, Sebastian Pannasch, Bruce C. ...</td>\n",
       "      <td>NaN</td>\n",
       "      <td>How Does the Brain Represent Visual Scenes? A ...</td>\n",
       "      <td>nips</td>\n",
       "    </tr>\n",
       "    <tr>\n",
       "      <td>61611</td>\n",
       "      <td>conf/nips/KolarBRS11</td>\n",
       "      <td>[Mladen Kolar, Sivaraman Balakrishnan, Alessan...</td>\n",
       "      <td>NaN</td>\n",
       "      <td>Minimax Localization of Structural Information...</td>\n",
       "      <td>nips</td>\n",
       "    </tr>\n",
       "    <tr>\n",
       "      <td>61628</td>\n",
       "      <td>conf/nips/LempitskyZ10</td>\n",
       "      <td>[Victor S. Lempitsky, Andrew Zisserman]</td>\n",
       "      <td>NaN</td>\n",
       "      <td>Learning To Count Objects in Images.</td>\n",
       "      <td>nips</td>\n",
       "    </tr>\n",
       "    <tr>\n",
       "      <td>...</td>\n",
       "      <td>...</td>\n",
       "      <td>...</td>\n",
       "      <td>...</td>\n",
       "      <td>...</td>\n",
       "      <td>...</td>\n",
       "    </tr>\n",
       "    <tr>\n",
       "      <td>69901</td>\n",
       "      <td>conf/nips/WangLSDC10</td>\n",
       "      <td>[Eric Wang, Dehong Liu, Jorge G. Silva, David ...</td>\n",
       "      <td>NaN</td>\n",
       "      <td>Joint Analysis of Time-Evolving Binary Matrice...</td>\n",
       "      <td>nips</td>\n",
       "    </tr>\n",
       "    <tr>\n",
       "      <td>69913</td>\n",
       "      <td>conf/nips/FroyenFS10</td>\n",
       "      <td>[Vicky Froyen, Jacob Feldman, Manish Singh 0001]</td>\n",
       "      <td>NaN</td>\n",
       "      <td>A Bayesian Framework for Figure-Ground Interpr...</td>\n",
       "      <td>nips</td>\n",
       "    </tr>\n",
       "    <tr>\n",
       "      <td>69924</td>\n",
       "      <td>conf/nips/BellalaBS10</td>\n",
       "      <td>[Gowtham Bellala, Suresh K. Bhavnani, Clayton ...</td>\n",
       "      <td>NaN</td>\n",
       "      <td>Extensions of Generalized Binary Search to Gro...</td>\n",
       "      <td>nips</td>\n",
       "    </tr>\n",
       "    <tr>\n",
       "      <td>69939</td>\n",
       "      <td>conf/nips/AndersenMSHM11</td>\n",
       "      <td>[Kasper Winther Andersen, Kristoffer Hougaard ...</td>\n",
       "      <td>NaN</td>\n",
       "      <td>Identification of Functional Clusters in the S...</td>\n",
       "      <td>nips</td>\n",
       "    </tr>\n",
       "    <tr>\n",
       "      <td>69944</td>\n",
       "      <td>conf/nips/LiSC11</td>\n",
       "      <td>[Congcong Li, Ashutosh Saxena, Tsuhan Chen]</td>\n",
       "      <td>NaN</td>\n",
       "      <td>$\\theta$-MRF: Capturing Spatial and Semantic S...</td>\n",
       "      <td>nips</td>\n",
       "    </tr>\n",
       "  </tbody>\n",
       "</table>\n",
       "<p>630 rows × 5 columns</p>\n",
       "</div>"
      ],
      "text/plain": [
       "                             id  \\\n",
       "61568        conf/nips/WangSJ11   \n",
       "61596         conf/nips/BachM10   \n",
       "61600  conf/nips/RamkumarPHLL11   \n",
       "61611      conf/nips/KolarBRS11   \n",
       "61628    conf/nips/LempitskyZ10   \n",
       "...                         ...   \n",
       "69901      conf/nips/WangLSDC10   \n",
       "69913      conf/nips/FroyenFS10   \n",
       "69924     conf/nips/BellalaBS10   \n",
       "69939  conf/nips/AndersenMSHM11   \n",
       "69944          conf/nips/LiSC11   \n",
       "\n",
       "                                                 authors  year  \\\n",
       "61568            [Zuoguan Wang, Gerwin Schalk, Qiang Ji]   NaN   \n",
       "61596                [Stephen H. Bach, Marcus A. Maloof]   NaN   \n",
       "61600  [Pavan Ramkumar, Sebastian Pannasch, Bruce C. ...   NaN   \n",
       "61611  [Mladen Kolar, Sivaraman Balakrishnan, Alessan...   NaN   \n",
       "61628            [Victor S. Lempitsky, Andrew Zisserman]   NaN   \n",
       "...                                                  ...   ...   \n",
       "69901  [Eric Wang, Dehong Liu, Jorge G. Silva, David ...   NaN   \n",
       "69913   [Vicky Froyen, Jacob Feldman, Manish Singh 0001]   NaN   \n",
       "69924  [Gowtham Bellala, Suresh K. Bhavnani, Clayton ...   NaN   \n",
       "69939  [Kasper Winther Andersen, Kristoffer Hougaard ...   NaN   \n",
       "69944        [Congcong Li, Ashutosh Saxena, Tsuhan Chen]   NaN   \n",
       "\n",
       "                                                   title conference  \n",
       "61568  Anatomically Constrained Decoding of Finger Fl...       nips  \n",
       "61596              A Bayesian Approach to Concept Drift.       nips  \n",
       "61600  How Does the Brain Represent Visual Scenes? A ...       nips  \n",
       "61611  Minimax Localization of Structural Information...       nips  \n",
       "61628               Learning To Count Objects in Images.       nips  \n",
       "...                                                  ...        ...  \n",
       "69901  Joint Analysis of Time-Evolving Binary Matrice...       nips  \n",
       "69913  A Bayesian Framework for Figure-Ground Interpr...       nips  \n",
       "69924  Extensions of Generalized Binary Search to Gro...       nips  \n",
       "69939  Identification of Functional Clusters in the S...       nips  \n",
       "69944  $\\theta$-MRF: Capturing Spatial and Semantic S...       nips  \n",
       "\n",
       "[630 rows x 5 columns]"
      ]
     },
     "execution_count": 33,
     "metadata": {},
     "output_type": "execute_result"
    }
   ],
   "source": [
    "# check the number of data which has '?' year\n",
    "ml_papers[ml_papers['year'] != ml_papers['year']]"
   ]
  },
  {
   "cell_type": "code",
   "execution_count": 34,
   "metadata": {},
   "outputs": [
    {
     "data": {
      "text/html": [
       "<div>\n",
       "<style scoped>\n",
       "    .dataframe tbody tr th:only-of-type {\n",
       "        vertical-align: middle;\n",
       "    }\n",
       "\n",
       "    .dataframe tbody tr th {\n",
       "        vertical-align: top;\n",
       "    }\n",
       "\n",
       "    .dataframe thead th {\n",
       "        text-align: right;\n",
       "    }\n",
       "</style>\n",
       "<table border=\"1\" class=\"dataframe\">\n",
       "  <thead>\n",
       "    <tr style=\"text-align: right;\">\n",
       "      <th></th>\n",
       "      <th>id</th>\n",
       "      <th>authors</th>\n",
       "      <th>year</th>\n",
       "      <th>title</th>\n",
       "      <th>conference</th>\n",
       "    </tr>\n",
       "  </thead>\n",
       "  <tbody>\n",
       "    <tr>\n",
       "      <td>61568</td>\n",
       "      <td>conf/nips/WangSJ11</td>\n",
       "      <td>[Zuoguan Wang, Gerwin Schalk, Qiang Ji]</td>\n",
       "      <td>NaN</td>\n",
       "      <td>Anatomically Constrained Decoding of Finger Fl...</td>\n",
       "      <td>nips</td>\n",
       "    </tr>\n",
       "    <tr>\n",
       "      <td>61596</td>\n",
       "      <td>conf/nips/BachM10</td>\n",
       "      <td>[Stephen H. Bach, Marcus A. Maloof]</td>\n",
       "      <td>NaN</td>\n",
       "      <td>A Bayesian Approach to Concept Drift.</td>\n",
       "      <td>nips</td>\n",
       "    </tr>\n",
       "    <tr>\n",
       "      <td>61600</td>\n",
       "      <td>conf/nips/RamkumarPHLL11</td>\n",
       "      <td>[Pavan Ramkumar, Sebastian Pannasch, Bruce C. ...</td>\n",
       "      <td>NaN</td>\n",
       "      <td>How Does the Brain Represent Visual Scenes? A ...</td>\n",
       "      <td>nips</td>\n",
       "    </tr>\n",
       "    <tr>\n",
       "      <td>61611</td>\n",
       "      <td>conf/nips/KolarBRS11</td>\n",
       "      <td>[Mladen Kolar, Sivaraman Balakrishnan, Alessan...</td>\n",
       "      <td>NaN</td>\n",
       "      <td>Minimax Localization of Structural Information...</td>\n",
       "      <td>nips</td>\n",
       "    </tr>\n",
       "    <tr>\n",
       "      <td>61628</td>\n",
       "      <td>conf/nips/LempitskyZ10</td>\n",
       "      <td>[Victor S. Lempitsky, Andrew Zisserman]</td>\n",
       "      <td>NaN</td>\n",
       "      <td>Learning To Count Objects in Images.</td>\n",
       "      <td>nips</td>\n",
       "    </tr>\n",
       "    <tr>\n",
       "      <td>...</td>\n",
       "      <td>...</td>\n",
       "      <td>...</td>\n",
       "      <td>...</td>\n",
       "      <td>...</td>\n",
       "      <td>...</td>\n",
       "    </tr>\n",
       "    <tr>\n",
       "      <td>69901</td>\n",
       "      <td>conf/nips/WangLSDC10</td>\n",
       "      <td>[Eric Wang, Dehong Liu, Jorge G. Silva, David ...</td>\n",
       "      <td>NaN</td>\n",
       "      <td>Joint Analysis of Time-Evolving Binary Matrice...</td>\n",
       "      <td>nips</td>\n",
       "    </tr>\n",
       "    <tr>\n",
       "      <td>69913</td>\n",
       "      <td>conf/nips/FroyenFS10</td>\n",
       "      <td>[Vicky Froyen, Jacob Feldman, Manish Singh 0001]</td>\n",
       "      <td>NaN</td>\n",
       "      <td>A Bayesian Framework for Figure-Ground Interpr...</td>\n",
       "      <td>nips</td>\n",
       "    </tr>\n",
       "    <tr>\n",
       "      <td>69924</td>\n",
       "      <td>conf/nips/BellalaBS10</td>\n",
       "      <td>[Gowtham Bellala, Suresh K. Bhavnani, Clayton ...</td>\n",
       "      <td>NaN</td>\n",
       "      <td>Extensions of Generalized Binary Search to Gro...</td>\n",
       "      <td>nips</td>\n",
       "    </tr>\n",
       "    <tr>\n",
       "      <td>69939</td>\n",
       "      <td>conf/nips/AndersenMSHM11</td>\n",
       "      <td>[Kasper Winther Andersen, Kristoffer Hougaard ...</td>\n",
       "      <td>NaN</td>\n",
       "      <td>Identification of Functional Clusters in the S...</td>\n",
       "      <td>nips</td>\n",
       "    </tr>\n",
       "    <tr>\n",
       "      <td>69944</td>\n",
       "      <td>conf/nips/LiSC11</td>\n",
       "      <td>[Congcong Li, Ashutosh Saxena, Tsuhan Chen]</td>\n",
       "      <td>NaN</td>\n",
       "      <td>$\\theta$-MRF: Capturing Spatial and Semantic S...</td>\n",
       "      <td>nips</td>\n",
       "    </tr>\n",
       "  </tbody>\n",
       "</table>\n",
       "<p>630 rows × 5 columns</p>\n",
       "</div>"
      ],
      "text/plain": [
       "                             id  \\\n",
       "61568        conf/nips/WangSJ11   \n",
       "61596         conf/nips/BachM10   \n",
       "61600  conf/nips/RamkumarPHLL11   \n",
       "61611      conf/nips/KolarBRS11   \n",
       "61628    conf/nips/LempitskyZ10   \n",
       "...                         ...   \n",
       "69901      conf/nips/WangLSDC10   \n",
       "69913      conf/nips/FroyenFS10   \n",
       "69924     conf/nips/BellalaBS10   \n",
       "69939  conf/nips/AndersenMSHM11   \n",
       "69944          conf/nips/LiSC11   \n",
       "\n",
       "                                                 authors  year  \\\n",
       "61568            [Zuoguan Wang, Gerwin Schalk, Qiang Ji]   NaN   \n",
       "61596                [Stephen H. Bach, Marcus A. Maloof]   NaN   \n",
       "61600  [Pavan Ramkumar, Sebastian Pannasch, Bruce C. ...   NaN   \n",
       "61611  [Mladen Kolar, Sivaraman Balakrishnan, Alessan...   NaN   \n",
       "61628            [Victor S. Lempitsky, Andrew Zisserman]   NaN   \n",
       "...                                                  ...   ...   \n",
       "69901  [Eric Wang, Dehong Liu, Jorge G. Silva, David ...   NaN   \n",
       "69913   [Vicky Froyen, Jacob Feldman, Manish Singh 0001]   NaN   \n",
       "69924  [Gowtham Bellala, Suresh K. Bhavnani, Clayton ...   NaN   \n",
       "69939  [Kasper Winther Andersen, Kristoffer Hougaard ...   NaN   \n",
       "69944        [Congcong Li, Ashutosh Saxena, Tsuhan Chen]   NaN   \n",
       "\n",
       "                                                   title conference  \n",
       "61568  Anatomically Constrained Decoding of Finger Fl...       nips  \n",
       "61596              A Bayesian Approach to Concept Drift.       nips  \n",
       "61600  How Does the Brain Represent Visual Scenes? A ...       nips  \n",
       "61611  Minimax Localization of Structural Information...       nips  \n",
       "61628               Learning To Count Objects in Images.       nips  \n",
       "...                                                  ...        ...  \n",
       "69901  Joint Analysis of Time-Evolving Binary Matrice...       nips  \n",
       "69913  A Bayesian Framework for Figure-Ground Interpr...       nips  \n",
       "69924  Extensions of Generalized Binary Search to Gro...       nips  \n",
       "69939  Identification of Functional Clusters in the S...       nips  \n",
       "69944  $\\theta$-MRF: Capturing Spatial and Semantic S...       nips  \n",
       "\n",
       "[630 rows x 5 columns]"
      ]
     },
     "execution_count": 34,
     "metadata": {},
     "output_type": "execute_result"
    }
   ],
   "source": [
    "# check how many are from 2010 and 2011 nips\n",
    "ml_papers[ml_papers['year'] != ml_papers['year']][ml_papers[ml_papers['year'] != ml_papers['year']]['id']\n",
    "                                                  .apply(lambda x: '11' in x or '10' in x or '09' in x and 'nips' in x).values]"
   ]
  },
  {
   "cell_type": "markdown",
   "metadata": {},
   "source": [
    "It turns out that the papers which have '?' year we previously set to NaN are all 2010 and 2011 nips papers. We'll fix it in the next section."
   ]
  },
  {
   "cell_type": "markdown",
   "metadata": {},
   "source": [
    "***A3.4***"
   ]
  },
  {
   "cell_type": "code",
   "execution_count": 35,
   "metadata": {},
   "outputs": [],
   "source": [
    "# initiate BeautifulSoup\n",
    "base_url = 'https://papers.nips.cc/'\n",
    "r = get(base_url)\n",
    "page_body = r.text\n",
    "soup = BeautifulSoup(page_body, 'html.parser')"
   ]
  },
  {
   "cell_type": "code",
   "execution_count": 36,
   "metadata": {},
   "outputs": [],
   "source": [
    "# find tags with href including /book/\n",
    "nips_a = soup.find_all(href=re.compile('/book/'))\n",
    "nips_links = []\n",
    "# only get links of 2011 and 2010\n",
    "for nips_a in nips_a[7:9]:\n",
    "    nips_links.append(base_url + nips_a['href'][1:])"
   ]
  },
  {
   "cell_type": "code",
   "execution_count": 37,
   "metadata": {},
   "outputs": [],
   "source": [
    "nips_papers_list = []\n",
    "id_list = []\n",
    "year = 2011\n",
    "for link in nips_links:\n",
    "    # initiate BeautifulSoup for website of each year's nips\n",
    "    r = get(link)\n",
    "    page_body = r.text\n",
    "    soup = BeautifulSoup(page_body, 'html.parser')\n",
    "    # skip the first one since it's actually not a paper entry\n",
    "    all_papers_li = soup.find_all('li')[1:]\n",
    "    for papers_li in all_papers_li:\n",
    "        # find tags with href including /paper/ and get the title text\n",
    "        title = papers_li.find(href=re.compile('/paper/')).text\n",
    "        # find all anchor tags with class as author\n",
    "        authors_a = papers_li.find_all('a', class_='author')\n",
    "        # construct authors' list\n",
    "        authors = [author.text for author in authors_a]\n",
    "        # create id following how dblp does it\n",
    "        if len(authors) != 0:\n",
    "            idx = ''.join(['conf/nips/', authors[0].split(' ')[-1]] + [author.split(' ')[-1][0] for author in authors[1:]] + [str(year)[-2:]])\n",
    "        else: # this is for paper with no author, will remove these afterward\n",
    "            idx = 'conf/nips/'\n",
    "        # handle duplicate idx (we realized there will be some papers which were written by the same authors in a year \n",
    "        # when building a new papers and authors df, so we must create a distinct id for that. We check how dblp does\n",
    "        # it. The following block shows one example.)\n",
    "        if idx in id_list:\n",
    "            if ord(idx[-1]) >= 97:\n",
    "                idx[-1] = chr(ord(idx[-1]) + 1)\n",
    "            else:\n",
    "                idx += 'a'\n",
    "        # don't bother paper with no author\n",
    "        if len(authors) != 0:\n",
    "            id_list.append(idx)\n",
    "        nips_papers_list.append({\n",
    "            'id': idx,\n",
    "            'authors': authors,\n",
    "            'year': year,\n",
    "            'title': title,\n",
    "            'conference': 'nips'\n",
    "        })\n",
    "    year -= 1"
   ]
  },
  {
   "cell_type": "code",
   "execution_count": 38,
   "metadata": {},
   "outputs": [
    {
     "data": {
      "text/html": [
       "<div>\n",
       "<style scoped>\n",
       "    .dataframe tbody tr th:only-of-type {\n",
       "        vertical-align: middle;\n",
       "    }\n",
       "\n",
       "    .dataframe tbody tr th {\n",
       "        vertical-align: top;\n",
       "    }\n",
       "\n",
       "    .dataframe thead th {\n",
       "        text-align: right;\n",
       "    }\n",
       "</style>\n",
       "<table border=\"1\" class=\"dataframe\">\n",
       "  <thead>\n",
       "    <tr style=\"text-align: right;\">\n",
       "      <th></th>\n",
       "      <th>id</th>\n",
       "      <th>authors</th>\n",
       "      <th>year</th>\n",
       "      <th>title</th>\n",
       "      <th>conference</th>\n",
       "    </tr>\n",
       "  </thead>\n",
       "  <tbody>\n",
       "    <tr>\n",
       "      <td>62836</td>\n",
       "      <td>conf/nips/ZhouYF18a</td>\n",
       "      <td>[Pan Zhou, Xiaotong Yuan, Jiashi Feng]</td>\n",
       "      <td>2018.0</td>\n",
       "      <td>Efficient Stochastic Gradient Hard Thresholding.</td>\n",
       "      <td>nips</td>\n",
       "    </tr>\n",
       "    <tr>\n",
       "      <td>66308</td>\n",
       "      <td>conf/nips/ZhouYF18</td>\n",
       "      <td>[Pan Zhou, Xiaotong Yuan, Jiashi Feng]</td>\n",
       "      <td>2018.0</td>\n",
       "      <td>New Insight into Hybrid Stochastic Gradient De...</td>\n",
       "      <td>nips</td>\n",
       "    </tr>\n",
       "  </tbody>\n",
       "</table>\n",
       "</div>"
      ],
      "text/plain": [
       "                        id                                 authors    year  \\\n",
       "62836  conf/nips/ZhouYF18a  [Pan Zhou, Xiaotong Yuan, Jiashi Feng]  2018.0   \n",
       "66308   conf/nips/ZhouYF18  [Pan Zhou, Xiaotong Yuan, Jiashi Feng]  2018.0   \n",
       "\n",
       "                                                   title conference  \n",
       "62836   Efficient Stochastic Gradient Hard Thresholding.       nips  \n",
       "66308  New Insight into Hybrid Stochastic Gradient De...       nips  "
      ]
     },
     "execution_count": 38,
     "metadata": {},
     "output_type": "execute_result"
    }
   ],
   "source": [
    "# two papers with the same authors and yaer\n",
    "ml_papers[ml_papers['id'].apply(lambda x: 'conf/nips/ZhouYF18' in x)]"
   ]
  },
  {
   "cell_type": "code",
   "execution_count": 39,
   "metadata": {},
   "outputs": [],
   "source": [
    "# create a pandas dataframe for the new nips data\n",
    "nips_papers = pd.DataFrame.from_dict(nips_papers_list)\n",
    "# remove paper with no author\n",
    "nips_papers = nips_papers[nips_papers['id'] != 'conf/nips/']"
   ]
  },
  {
   "cell_type": "code",
   "execution_count": 40,
   "metadata": {},
   "outputs": [],
   "source": [
    "import unicodedata\n",
    "from string import punctuation\n",
    "def remove_punct(text):\n",
    "    return ''.join([ch for ch in text if ch not in punctuation])\n",
    "def remove_accent(text):\n",
    "    return unicodedata.normalize('NFD', text).encode('ascii', 'ignore').decode(\"utf-8\")"
   ]
  },
  {
   "cell_type": "code",
   "execution_count": 41,
   "metadata": {},
   "outputs": [],
   "source": [
    "def fill_missing_value(x):\n",
    "    x_id = x['id']\n",
    "    target_entry = nips_papers[nips_papers['id'] == x_id]\n",
    "    if target_entry.empty:\n",
    "        x_title = remove_accent(remove_punct(x['title']))\n",
    "        target_entry = nips_papers[nips_papers['title'].apply(lambda y: remove_accent(remove_punct(y)) == x_title)]\n",
    "    if not target_entry.empty:\n",
    "        x['year'] = target_entry['year'].values[0]\n",
    "    return x\n",
    "\n",
    "a34_conf_papers = a32_conf_papers.copy()\n",
    "a34_conf_papers[a34_conf_papers.isna().any(axis=1)] = a34_conf_papers[a34_conf_papers.isna().any(axis=1)].apply(fill_missing_value, axis=1)"
   ]
  },
  {
   "cell_type": "code",
   "execution_count": 42,
   "metadata": {},
   "outputs": [
    {
     "data": {
      "text/html": [
       "<div>\n",
       "<style scoped>\n",
       "    .dataframe tbody tr th:only-of-type {\n",
       "        vertical-align: middle;\n",
       "    }\n",
       "\n",
       "    .dataframe tbody tr th {\n",
       "        vertical-align: top;\n",
       "    }\n",
       "\n",
       "    .dataframe thead th {\n",
       "        text-align: right;\n",
       "    }\n",
       "</style>\n",
       "<table border=\"1\" class=\"dataframe\">\n",
       "  <thead>\n",
       "    <tr style=\"text-align: right;\">\n",
       "      <th></th>\n",
       "      <th>id</th>\n",
       "      <th>authors</th>\n",
       "      <th>year</th>\n",
       "      <th>title</th>\n",
       "      <th>conference</th>\n",
       "    </tr>\n",
       "  </thead>\n",
       "  <tbody>\n",
       "    <tr>\n",
       "      <td>61600</td>\n",
       "      <td>conf/nips/RamkumarPHLL11</td>\n",
       "      <td>[Pavan Ramkumar, Sebastian Pannasch, Bruce C. ...</td>\n",
       "      <td>NaN</td>\n",
       "      <td>How Does the Brain Represent Visual Scenes? A ...</td>\n",
       "      <td>nips</td>\n",
       "    </tr>\n",
       "    <tr>\n",
       "      <td>61777</td>\n",
       "      <td>conf/nips/KwokCCMA11</td>\n",
       "      <td>[Philip P. Kwok, Olga Ciccarelli, Declan T. Ch...</td>\n",
       "      <td>NaN</td>\n",
       "      <td>Predicting Clinically Definite Multiple Sclero...</td>\n",
       "      <td>nips</td>\n",
       "    </tr>\n",
       "    <tr>\n",
       "      <td>61899</td>\n",
       "      <td>conf/nips/ChangMJ11</td>\n",
       "      <td>[Kai-min Kevin Chang, Brian Murphy, Marcel Ada...</td>\n",
       "      <td>NaN</td>\n",
       "      <td>A Latent Feature Analysis of the Neural Repres...</td>\n",
       "      <td>nips</td>\n",
       "    </tr>\n",
       "    <tr>\n",
       "      <td>62248</td>\n",
       "      <td>conf/nips/BahramisharifGSGH11</td>\n",
       "      <td>[Ali Bahramisharif, Marcel A. J. van Gerven, J...</td>\n",
       "      <td>NaN</td>\n",
       "      <td>The Dynamic Beamformer.</td>\n",
       "      <td>nips</td>\n",
       "    </tr>\n",
       "    <tr>\n",
       "      <td>62757</td>\n",
       "      <td>conf/nips/GramfortVT11</td>\n",
       "      <td>[Alexandre Gramfort, Gaël Varoquaux, Bertrand ...</td>\n",
       "      <td>NaN</td>\n",
       "      <td>Beyond Brain Reading: Randomized Sparsity and ...</td>\n",
       "      <td>nips</td>\n",
       "    </tr>\n",
       "    <tr>\n",
       "      <td>62764</td>\n",
       "      <td>conf/nips/HaufeNNM11</td>\n",
       "      <td>[Stefan Haufe, Vadim V. Nikulin, Guido Nolte, ...</td>\n",
       "      <td>NaN</td>\n",
       "      <td>Pitfalls in EEG-Based Brain Effective Connecti...</td>\n",
       "      <td>nips</td>\n",
       "    </tr>\n",
       "    <tr>\n",
       "      <td>63211</td>\n",
       "      <td>conf/nips/BiessmannMLMM11</td>\n",
       "      <td>[Felix Bießmann, Yusuke Murayama, Nikos K. Log...</td>\n",
       "      <td>NaN</td>\n",
       "      <td>Non-separable Spatiotemporal Brain Hemodynamic...</td>\n",
       "      <td>nips</td>\n",
       "    </tr>\n",
       "    <tr>\n",
       "      <td>63293</td>\n",
       "      <td>conf/nips/DeligianniVTRSER11</td>\n",
       "      <td>[Fani Deligianni, Gaël Varoquaux, Bertrand Thi...</td>\n",
       "      <td>NaN</td>\n",
       "      <td>Relating Brain Functional Connectivity to Anat...</td>\n",
       "      <td>nips</td>\n",
       "    </tr>\n",
       "    <tr>\n",
       "      <td>63883</td>\n",
       "      <td>conf/nips/MichelGEVT11</td>\n",
       "      <td>[Vincent Michel, Alexandre Gramfort, Evelyn Eg...</td>\n",
       "      <td>NaN</td>\n",
       "      <td>A Comparative Study of Algorithms for Intra- a...</td>\n",
       "      <td>nips</td>\n",
       "    </tr>\n",
       "    <tr>\n",
       "      <td>64004</td>\n",
       "      <td>conf/nips/HansenHM11</td>\n",
       "      <td>[Toke Jansen Hansen, Lars Kai Hansen, Kristoff...</td>\n",
       "      <td>NaN</td>\n",
       "      <td>Decoding Complex Cognitive States Online by Ma...</td>\n",
       "      <td>nips</td>\n",
       "    </tr>\n",
       "    <tr>\n",
       "      <td>64193</td>\n",
       "      <td>conf/nips/AbrahamsenH11</td>\n",
       "      <td>[Trine Julie Abrahamsen, Lars Kai Hansen]</td>\n",
       "      <td>NaN</td>\n",
       "      <td>Restoring the Generalizability of SVM Based De...</td>\n",
       "      <td>nips</td>\n",
       "    </tr>\n",
       "    <tr>\n",
       "      <td>64595</td>\n",
       "      <td>conf/nips/KinreichPIH11</td>\n",
       "      <td>[Sivan Kinreich, Ilana Podlipsky, Nathan Intra...</td>\n",
       "      <td>NaN</td>\n",
       "      <td>Categorized EEG Neurofeedback Performance Unve...</td>\n",
       "      <td>nips</td>\n",
       "    </tr>\n",
       "    <tr>\n",
       "      <td>64664</td>\n",
       "      <td>conf/nips/HinrichsDJS11</td>\n",
       "      <td>[Chris Hinrichs, N. Maritza Dowling, Sterling ...</td>\n",
       "      <td>NaN</td>\n",
       "      <td>MKL-Based Sample Enrichment and Customized Out...</td>\n",
       "      <td>nips</td>\n",
       "    </tr>\n",
       "    <tr>\n",
       "      <td>65559</td>\n",
       "      <td>conf/nips/RondinaSM11</td>\n",
       "      <td>[Jane M. Rondina, John Shawe-Taylor, Janaina M...</td>\n",
       "      <td>NaN</td>\n",
       "      <td>A New Feature Selection Method Based on Stabil...</td>\n",
       "      <td>nips</td>\n",
       "    </tr>\n",
       "    <tr>\n",
       "      <td>66125</td>\n",
       "      <td>conf/nips/Koskinen11</td>\n",
       "      <td>[Miika Koskinen]</td>\n",
       "      <td>NaN</td>\n",
       "      <td>Finding Consistencies in MEG Responses to Repe...</td>\n",
       "      <td>nips</td>\n",
       "    </tr>\n",
       "    <tr>\n",
       "      <td>66144</td>\n",
       "      <td>conf/nips/Keator11</td>\n",
       "      <td>[David B. Keator]</td>\n",
       "      <td>NaN</td>\n",
       "      <td>Modality Neutral Techniques for Brain Image Un...</td>\n",
       "      <td>nips</td>\n",
       "    </tr>\n",
       "    <tr>\n",
       "      <td>66511</td>\n",
       "      <td>conf/nips/SonaAMBM11</td>\n",
       "      <td>[Diego Sona, Paolo Avesani, Stefano Magon, Gia...</td>\n",
       "      <td>NaN</td>\n",
       "      <td>Pairwise Analysis for Longitudinal fMRI Studies.</td>\n",
       "      <td>nips</td>\n",
       "    </tr>\n",
       "    <tr>\n",
       "      <td>66614</td>\n",
       "      <td>conf/nips/ChenFKG11</td>\n",
       "      <td>[George H. Chen, Evelina Fedorenko, Nancy Kanw...</td>\n",
       "      <td>NaN</td>\n",
       "      <td>Deformation-Invariant Sparse Coding for Modeli...</td>\n",
       "      <td>nips</td>\n",
       "    </tr>\n",
       "    <tr>\n",
       "      <td>67562</td>\n",
       "      <td>conf/nips/CaseyTKRW11</td>\n",
       "      <td>[Michael A. Casey, Jessica Thompson 0001, Oliv...</td>\n",
       "      <td>NaN</td>\n",
       "      <td>Population Codes Representing Musical Timbre f...</td>\n",
       "      <td>nips</td>\n",
       "    </tr>\n",
       "    <tr>\n",
       "      <td>67813</td>\n",
       "      <td>conf/nips/RoussosRD11</td>\n",
       "      <td>[Evangelos Roussos, Steven Roberts, Ingrid Dau...</td>\n",
       "      <td>NaN</td>\n",
       "      <td>Variational Bayesian Learning of Sparse Repres...</td>\n",
       "      <td>nips</td>\n",
       "    </tr>\n",
       "    <tr>\n",
       "      <td>68036</td>\n",
       "      <td>conf/nips/AndersonHDBC11</td>\n",
       "      <td>[Ariana E. Anderson, Dianna Han, Pamela K. Dou...</td>\n",
       "      <td>NaN</td>\n",
       "      <td>Real-Time Functional MRI Classification of Bra...</td>\n",
       "      <td>nips</td>\n",
       "    </tr>\n",
       "    <tr>\n",
       "      <td>68206</td>\n",
       "      <td>conf/nips/GorbachSJMT11</td>\n",
       "      <td>[Nico S. Gorbach, Silvan Siep, Jenia Jitsev, C...</td>\n",
       "      <td>NaN</td>\n",
       "      <td>Information-Theoretic Connectivity-Based Corte...</td>\n",
       "      <td>nips</td>\n",
       "    </tr>\n",
       "    <tr>\n",
       "      <td>68215</td>\n",
       "      <td>conf/nips/OlivettiGA11</td>\n",
       "      <td>[Emanuele Olivetti, Susanne Greiner, Paolo Ave...</td>\n",
       "      <td>NaN</td>\n",
       "      <td>Induction in Neuroscience with Classification:...</td>\n",
       "      <td>nips</td>\n",
       "    </tr>\n",
       "    <tr>\n",
       "      <td>68222</td>\n",
       "      <td>conf/nips/JamshyPYHI11</td>\n",
       "      <td>[Shahar Jamshy, Omri Perez, Yehezkel Yeshurun,...</td>\n",
       "      <td>NaN</td>\n",
       "      <td>Searchlight Based Feature Extraction.</td>\n",
       "      <td>nips</td>\n",
       "    </tr>\n",
       "    <tr>\n",
       "      <td>68285</td>\n",
       "      <td>conf/nips/CauchoixAFS11</td>\n",
       "      <td>[Maxime Cauchoix, Ali Bilgin Arslan, Denis Fiz...</td>\n",
       "      <td>NaN</td>\n",
       "      <td>The Neural Dynamics of Visual Processing in Mo...</td>\n",
       "      <td>nips</td>\n",
       "    </tr>\n",
       "    <tr>\n",
       "      <td>68290</td>\n",
       "      <td>conf/nips/WoutersGTHB11</td>\n",
       "      <td>[Hans J. P. Wouters, Marcel A. J. van Gerven, ...</td>\n",
       "      <td>NaN</td>\n",
       "      <td>Covert Attention as a Paradigm for Subject-Ind...</td>\n",
       "      <td>nips</td>\n",
       "    </tr>\n",
       "    <tr>\n",
       "      <td>68485</td>\n",
       "      <td>conf/nips/EtzelCB11</td>\n",
       "      <td>[Joset A. Etzel, Michael W. Cole, Todd S. Braver]</td>\n",
       "      <td>NaN</td>\n",
       "      <td>Looking Outside the Searchlight.</td>\n",
       "      <td>nips</td>\n",
       "    </tr>\n",
       "    <tr>\n",
       "      <td>68884</td>\n",
       "      <td>conf/nips/Parrado-HernandezGRAPMCS11</td>\n",
       "      <td>[Emilio Parrado-Hernández, Vanessa Gómez-Verde...</td>\n",
       "      <td>NaN</td>\n",
       "      <td>Identification of OCD-Relevant Brain Areas thr...</td>\n",
       "      <td>nips</td>\n",
       "    </tr>\n",
       "    <tr>\n",
       "      <td>69514</td>\n",
       "      <td>conf/nips/DauwelsYWVLJC11</td>\n",
       "      <td>[Justin Dauwels, Hang Yu 0002, Xueou Wang, Fra...</td>\n",
       "      <td>NaN</td>\n",
       "      <td>Inferring Brain Networks through Graphical Mod...</td>\n",
       "      <td>nips</td>\n",
       "    </tr>\n",
       "    <tr>\n",
       "      <td>69566</td>\n",
       "      <td>conf/nips/DoyleMBSSM11</td>\n",
       "      <td>[Orla M. Doyle, Mitul A. Mehta, Michael J. Bra...</td>\n",
       "      <td>NaN</td>\n",
       "      <td>Data-Driven Modeling of BOLD Drug Response Cur...</td>\n",
       "      <td>nips</td>\n",
       "    </tr>\n",
       "    <tr>\n",
       "      <td>69698</td>\n",
       "      <td>conf/nips/VaroquauxT11</td>\n",
       "      <td>[Gaël Varoquaux, Bertrand Thirion]</td>\n",
       "      <td>NaN</td>\n",
       "      <td>Statistical Learning for Resting-State fMRI: S...</td>\n",
       "      <td>nips</td>\n",
       "    </tr>\n",
       "    <tr>\n",
       "      <td>69939</td>\n",
       "      <td>conf/nips/AndersenMSHM11</td>\n",
       "      <td>[Kasper Winther Andersen, Kristoffer Hougaard ...</td>\n",
       "      <td>NaN</td>\n",
       "      <td>Identification of Functional Clusters in the S...</td>\n",
       "      <td>nips</td>\n",
       "    </tr>\n",
       "  </tbody>\n",
       "</table>\n",
       "</div>"
      ],
      "text/plain": [
       "                                         id  \\\n",
       "61600              conf/nips/RamkumarPHLL11   \n",
       "61777                  conf/nips/KwokCCMA11   \n",
       "61899                   conf/nips/ChangMJ11   \n",
       "62248         conf/nips/BahramisharifGSGH11   \n",
       "62757                conf/nips/GramfortVT11   \n",
       "62764                  conf/nips/HaufeNNM11   \n",
       "63211             conf/nips/BiessmannMLMM11   \n",
       "63293          conf/nips/DeligianniVTRSER11   \n",
       "63883                conf/nips/MichelGEVT11   \n",
       "64004                  conf/nips/HansenHM11   \n",
       "64193               conf/nips/AbrahamsenH11   \n",
       "64595               conf/nips/KinreichPIH11   \n",
       "64664               conf/nips/HinrichsDJS11   \n",
       "65559                 conf/nips/RondinaSM11   \n",
       "66125                  conf/nips/Koskinen11   \n",
       "66144                    conf/nips/Keator11   \n",
       "66511                  conf/nips/SonaAMBM11   \n",
       "66614                   conf/nips/ChenFKG11   \n",
       "67562                 conf/nips/CaseyTKRW11   \n",
       "67813                 conf/nips/RoussosRD11   \n",
       "68036              conf/nips/AndersonHDBC11   \n",
       "68206               conf/nips/GorbachSJMT11   \n",
       "68215                conf/nips/OlivettiGA11   \n",
       "68222                conf/nips/JamshyPYHI11   \n",
       "68285               conf/nips/CauchoixAFS11   \n",
       "68290               conf/nips/WoutersGTHB11   \n",
       "68485                   conf/nips/EtzelCB11   \n",
       "68884  conf/nips/Parrado-HernandezGRAPMCS11   \n",
       "69514             conf/nips/DauwelsYWVLJC11   \n",
       "69566                conf/nips/DoyleMBSSM11   \n",
       "69698                conf/nips/VaroquauxT11   \n",
       "69939              conf/nips/AndersenMSHM11   \n",
       "\n",
       "                                                 authors  year  \\\n",
       "61600  [Pavan Ramkumar, Sebastian Pannasch, Bruce C. ...   NaN   \n",
       "61777  [Philip P. Kwok, Olga Ciccarelli, Declan T. Ch...   NaN   \n",
       "61899  [Kai-min Kevin Chang, Brian Murphy, Marcel Ada...   NaN   \n",
       "62248  [Ali Bahramisharif, Marcel A. J. van Gerven, J...   NaN   \n",
       "62757  [Alexandre Gramfort, Gaël Varoquaux, Bertrand ...   NaN   \n",
       "62764  [Stefan Haufe, Vadim V. Nikulin, Guido Nolte, ...   NaN   \n",
       "63211  [Felix Bießmann, Yusuke Murayama, Nikos K. Log...   NaN   \n",
       "63293  [Fani Deligianni, Gaël Varoquaux, Bertrand Thi...   NaN   \n",
       "63883  [Vincent Michel, Alexandre Gramfort, Evelyn Eg...   NaN   \n",
       "64004  [Toke Jansen Hansen, Lars Kai Hansen, Kristoff...   NaN   \n",
       "64193          [Trine Julie Abrahamsen, Lars Kai Hansen]   NaN   \n",
       "64595  [Sivan Kinreich, Ilana Podlipsky, Nathan Intra...   NaN   \n",
       "64664  [Chris Hinrichs, N. Maritza Dowling, Sterling ...   NaN   \n",
       "65559  [Jane M. Rondina, John Shawe-Taylor, Janaina M...   NaN   \n",
       "66125                                   [Miika Koskinen]   NaN   \n",
       "66144                                  [David B. Keator]   NaN   \n",
       "66511  [Diego Sona, Paolo Avesani, Stefano Magon, Gia...   NaN   \n",
       "66614  [George H. Chen, Evelina Fedorenko, Nancy Kanw...   NaN   \n",
       "67562  [Michael A. Casey, Jessica Thompson 0001, Oliv...   NaN   \n",
       "67813  [Evangelos Roussos, Steven Roberts, Ingrid Dau...   NaN   \n",
       "68036  [Ariana E. Anderson, Dianna Han, Pamela K. Dou...   NaN   \n",
       "68206  [Nico S. Gorbach, Silvan Siep, Jenia Jitsev, C...   NaN   \n",
       "68215  [Emanuele Olivetti, Susanne Greiner, Paolo Ave...   NaN   \n",
       "68222  [Shahar Jamshy, Omri Perez, Yehezkel Yeshurun,...   NaN   \n",
       "68285  [Maxime Cauchoix, Ali Bilgin Arslan, Denis Fiz...   NaN   \n",
       "68290  [Hans J. P. Wouters, Marcel A. J. van Gerven, ...   NaN   \n",
       "68485  [Joset A. Etzel, Michael W. Cole, Todd S. Braver]   NaN   \n",
       "68884  [Emilio Parrado-Hernández, Vanessa Gómez-Verde...   NaN   \n",
       "69514  [Justin Dauwels, Hang Yu 0002, Xueou Wang, Fra...   NaN   \n",
       "69566  [Orla M. Doyle, Mitul A. Mehta, Michael J. Bra...   NaN   \n",
       "69698                 [Gaël Varoquaux, Bertrand Thirion]   NaN   \n",
       "69939  [Kasper Winther Andersen, Kristoffer Hougaard ...   NaN   \n",
       "\n",
       "                                                   title conference  \n",
       "61600  How Does the Brain Represent Visual Scenes? A ...       nips  \n",
       "61777  Predicting Clinically Definite Multiple Sclero...       nips  \n",
       "61899  A Latent Feature Analysis of the Neural Repres...       nips  \n",
       "62248                            The Dynamic Beamformer.       nips  \n",
       "62757  Beyond Brain Reading: Randomized Sparsity and ...       nips  \n",
       "62764  Pitfalls in EEG-Based Brain Effective Connecti...       nips  \n",
       "63211  Non-separable Spatiotemporal Brain Hemodynamic...       nips  \n",
       "63293  Relating Brain Functional Connectivity to Anat...       nips  \n",
       "63883  A Comparative Study of Algorithms for Intra- a...       nips  \n",
       "64004  Decoding Complex Cognitive States Online by Ma...       nips  \n",
       "64193  Restoring the Generalizability of SVM Based De...       nips  \n",
       "64595  Categorized EEG Neurofeedback Performance Unve...       nips  \n",
       "64664  MKL-Based Sample Enrichment and Customized Out...       nips  \n",
       "65559  A New Feature Selection Method Based on Stabil...       nips  \n",
       "66125  Finding Consistencies in MEG Responses to Repe...       nips  \n",
       "66144  Modality Neutral Techniques for Brain Image Un...       nips  \n",
       "66511   Pairwise Analysis for Longitudinal fMRI Studies.       nips  \n",
       "66614  Deformation-Invariant Sparse Coding for Modeli...       nips  \n",
       "67562  Population Codes Representing Musical Timbre f...       nips  \n",
       "67813  Variational Bayesian Learning of Sparse Repres...       nips  \n",
       "68036  Real-Time Functional MRI Classification of Bra...       nips  \n",
       "68206  Information-Theoretic Connectivity-Based Corte...       nips  \n",
       "68215  Induction in Neuroscience with Classification:...       nips  \n",
       "68222              Searchlight Based Feature Extraction.       nips  \n",
       "68285  The Neural Dynamics of Visual Processing in Mo...       nips  \n",
       "68290  Covert Attention as a Paradigm for Subject-Ind...       nips  \n",
       "68485                   Looking Outside the Searchlight.       nips  \n",
       "68884  Identification of OCD-Relevant Brain Areas thr...       nips  \n",
       "69514  Inferring Brain Networks through Graphical Mod...       nips  \n",
       "69566  Data-Driven Modeling of BOLD Drug Response Cur...       nips  \n",
       "69698  Statistical Learning for Resting-State fMRI: S...       nips  \n",
       "69939  Identification of Functional Clusters in the S...       nips  "
      ]
     },
     "execution_count": 42,
     "metadata": {},
     "output_type": "execute_result"
    }
   ],
   "source": [
    "a34_conf_papers[a34_conf_papers.isna().any(axis=1)]"
   ]
  },
  {
   "cell_type": "code",
   "execution_count": 43,
   "metadata": {},
   "outputs": [
    {
     "data": {
      "text/plain": [
       "32"
      ]
     },
     "execution_count": 43,
     "metadata": {},
     "output_type": "execute_result"
    }
   ],
   "source": [
    "a34_conf_papers[a34_conf_papers.isna().any(axis=1)].shape[0]"
   ]
  },
  {
   "cell_type": "markdown",
   "metadata": {},
   "source": [
    "There are still 32 papers with missing year, we'll remove them.  \n",
    "We check most of the papers, they are not in this nips, but is in Machine Learning and Interpretation in Neuroimaging, which also has the abbreviation of nips."
   ]
  },
  {
   "cell_type": "code",
   "execution_count": 44,
   "metadata": {},
   "outputs": [],
   "source": [
    "a34_conf_papers.dropna(inplace=True)"
   ]
  },
  {
   "cell_type": "code",
   "execution_count": 45,
   "metadata": {},
   "outputs": [],
   "source": [
    "# recreate the author-centric dataframe\n",
    "a34_conf_authors = (a34_conf_papers\n",
    "                    .explode('authors')\n",
    "                    .rename(columns={'authors': 'author'})\n",
    "                    .reset_index(drop=True)\n",
    "                    .dropna(subset=['author']))"
   ]
  },
  {
   "cell_type": "code",
   "execution_count": 46,
   "metadata": {},
   "outputs": [
    {
     "data": {
      "text/plain": [
       "True"
      ]
     },
     "execution_count": 46,
     "metadata": {},
     "output_type": "execute_result"
    }
   ],
   "source": [
    "# check if the number of papers are equal in these two dataframs\n",
    "a34_conf_papers.shape[0] == a34_conf_authors['id'].nunique()"
   ]
  },
  {
   "cell_type": "code",
   "execution_count": 47,
   "metadata": {},
   "outputs": [
    {
     "data": {
      "image/png": "[encoded data removed]",
      "text/plain": [
       "<Figure size 1440x720 with 1 Axes>"
      ]
     },
     "metadata": {
      "needs_background": "light"
     },
     "output_type": "display_data"
    }
   ],
   "source": [
    "# redo A3.2\n",
    "a34_conf_papers['year'].value_counts().sort_index().plot(figsize=(20, 10))\n",
    "plt.title('Number of Papers per Year', fontsize=15)\n",
    "plt.xlabel('Year', fontsize=15)\n",
    "plt.ylabel('Number of papers', fontsize=15)\n",
    "plt.show()"
   ]
  },
  {
   "cell_type": "code",
   "execution_count": 48,
   "metadata": {},
   "outputs": [
    {
     "data": {
      "image/png": "[encoded data removed]",
      "text/plain": [
       "<Figure size 1440x720 with 1 Axes>"
      ]
     },
     "metadata": {
      "needs_background": "light"
     },
     "output_type": "display_data"
    }
   ],
   "source": [
    "# redo A3.3\n",
    "ml_papers = a34_conf_papers[a34_conf_papers['conference'].isin(mlconf)]\n",
    "ml_papers['year'].value_counts().sort_index().plot(figsize=(20, 10))\n",
    "plt.title('Number of ML papers over Time', fontsize=15)\n",
    "plt.xlabel(\"Year\", fontsize=15)\n",
    "plt.ylabel(\"Number of papers\", fontsize=15)\n",
    "plt.show()"
   ]
  },
  {
   "cell_type": "markdown",
   "metadata": {
    "colab_type": "text",
    "id": "0h0Zw8cPTyEp"
   },
   "source": [
    "### A4. Author activity\n",
    "\n",
    "For each author, calculate their normalized paper count, defined as the total number of papers divided by the author’s period of activity. An author’s period of activity is defined as the number of years between the earliest and latest papers of this author. Plot the distribution of the normalized paper count. What is the appropriate scale for the axes? Does the distribution (roughly) follow a particular law, and if yes, which one?"
   ]
  },
  {
   "cell_type": "code",
   "execution_count": 49,
   "metadata": {},
   "outputs": [],
   "source": [
    "def compute_activity(years):\n",
    "    years = years.values\n",
    "    return max(years) - min(years) + 1\n",
    "authors_activity = a34_conf_authors.groupby('author')['year'].apply(compute_activity)\n",
    "normalized_paper_count = a34_conf_authors.groupby('author')['title'].count() / authors_activity"
   ]
  },
  {
   "cell_type": "code",
   "execution_count": 50,
   "metadata": {},
   "outputs": [
    {
     "data": {
      "image/png": "[encoded data removed]",
      "text/plain": [
       "<Figure size 1440x720 with 1 Axes>"
      ]
     },
     "metadata": {
      "needs_background": "light"
     },
     "output_type": "display_data"
    }
   ],
   "source": [
    "plt.figure(figsize=(20, 10))\n",
    "plt.hist(normalized_paper_count, log=True, bins=10)\n",
    "plt.title('Normalized Paper Count', fontsize=15)\n",
    "plt.xlabel('Normalized paper count', fontsize=15)\n",
    "plt.ylabel('Number of authors', fontsize=15)\n",
    "plt.show()"
   ]
  },
  {
   "cell_type": "markdown",
   "metadata": {},
   "source": [
    "It roughly follows an exponential distribution."
   ]
  },
  {
   "cell_type": "code",
   "execution_count": 51,
   "metadata": {},
   "outputs": [],
   "source": [
    "# convert year value to integer\n",
    "a34_conf_papers['year'] = a34_conf_papers['year'].apply(lambda x: int(x))\n",
    "a34_conf_authors['year'] = a34_conf_authors['year'].apply(lambda x: int(x))\n",
    "\n",
    "# save paper-centric and author-centric df\n",
    "a34_conf_papers.to_pickle('./data/conf_papers.pkl')\n",
    "a34_conf_authors.to_pickle('./data/conf_authors.pkl')"
   ]
  },
  {
   "cell_type": "code",
   "execution_count": 52,
   "metadata": {},
   "outputs": [],
   "source": [
    "new_conf_papers = pd.read_pickle('./data/conf_papers.pkl')\n",
    "new_conf_authors = pd.read_pickle('./data/conf_authors.pkl')"
   ]
  },
  {
   "cell_type": "markdown",
   "metadata": {
    "colab_type": "text",
    "id": "ZM7pH8Y_UF3H"
   },
   "source": [
    "## Task B. Ranking authors\n",
    "\n",
    "As you may know, there exist rankings for universities, which represent their relative quality and are used to compare the performance of different universities. In the same vein, there are rankings for conferences and journals, which represent the importance and impact of each conference or journal, and therefore allow for approximate comparisons. In this part, you will rank authors based on different aspects of their research output.\n",
    "\n",
    "### B1. A Naïve Score\n",
    "\n",
    "In the absence of citation counts, it is hard to objectively rank the authors based on the impact of their contributions to the field of AI research. A naïve way would be to rank them based on their number of published papers. Obtain such a ranking and analyze your result. Identify and explain some obvious limitations of this scheme."
   ]
  },
  {
   "cell_type": "code",
   "execution_count": 53,
   "metadata": {},
   "outputs": [],
   "source": [
    "naive_rank = new_conf_authors['author'].value_counts().to_frame().reset_index() \\\n",
    "                                       .rename(columns={'index': 'author', 'author': 'score'})\n",
    "naive_rank.index += 1\n",
    "naive_rank.index.name = 'rank'"
   ]
  },
  {
   "cell_type": "code",
   "execution_count": 54,
   "metadata": {},
   "outputs": [
    {
     "data": {
      "text/html": [
       "<div>\n",
       "<style scoped>\n",
       "    .dataframe tbody tr th:only-of-type {\n",
       "        vertical-align: middle;\n",
       "    }\n",
       "\n",
       "    .dataframe tbody tr th {\n",
       "        vertical-align: top;\n",
       "    }\n",
       "\n",
       "    .dataframe thead th {\n",
       "        text-align: right;\n",
       "    }\n",
       "</style>\n",
       "<table border=\"1\" class=\"dataframe\">\n",
       "  <thead>\n",
       "    <tr style=\"text-align: right;\">\n",
       "      <th></th>\n",
       "      <th>author</th>\n",
       "      <th>score</th>\n",
       "    </tr>\n",
       "    <tr>\n",
       "      <th>rank</th>\n",
       "      <th></th>\n",
       "      <th></th>\n",
       "    </tr>\n",
       "  </thead>\n",
       "  <tbody>\n",
       "    <tr>\n",
       "      <td>1</td>\n",
       "      <td>Luc Van Gool</td>\n",
       "      <td>220</td>\n",
       "    </tr>\n",
       "    <tr>\n",
       "      <td>2</td>\n",
       "      <td>Toshio Fukuda</td>\n",
       "      <td>196</td>\n",
       "    </tr>\n",
       "    <tr>\n",
       "      <td>3</td>\n",
       "      <td>Thomas S. Huang</td>\n",
       "      <td>186</td>\n",
       "    </tr>\n",
       "    <tr>\n",
       "      <td>4</td>\n",
       "      <td>Michael I. Jordan</td>\n",
       "      <td>168</td>\n",
       "    </tr>\n",
       "    <tr>\n",
       "      <td>5</td>\n",
       "      <td>Trevor Darrell</td>\n",
       "      <td>158</td>\n",
       "    </tr>\n",
       "  </tbody>\n",
       "</table>\n",
       "</div>"
      ],
      "text/plain": [
       "                 author  score\n",
       "rank                          \n",
       "1          Luc Van Gool    220\n",
       "2         Toshio Fukuda    196\n",
       "3       Thomas S. Huang    186\n",
       "4     Michael I. Jordan    168\n",
       "5        Trevor Darrell    158"
      ]
     },
     "execution_count": 54,
     "metadata": {},
     "output_type": "execute_result"
    }
   ],
   "source": [
    "naive_rank.head()"
   ]
  },
  {
   "cell_type": "code",
   "execution_count": 55,
   "metadata": {},
   "outputs": [
    {
     "data": {
      "text/html": [
       "<div>\n",
       "<style scoped>\n",
       "    .dataframe tbody tr th:only-of-type {\n",
       "        vertical-align: middle;\n",
       "    }\n",
       "\n",
       "    .dataframe tbody tr th {\n",
       "        vertical-align: top;\n",
       "    }\n",
       "\n",
       "    .dataframe thead th {\n",
       "        text-align: right;\n",
       "    }\n",
       "</style>\n",
       "<table border=\"1\" class=\"dataframe\">\n",
       "  <thead>\n",
       "    <tr style=\"text-align: right;\">\n",
       "      <th></th>\n",
       "      <th>author</th>\n",
       "      <th>score</th>\n",
       "    </tr>\n",
       "    <tr>\n",
       "      <th>rank</th>\n",
       "      <th></th>\n",
       "      <th></th>\n",
       "    </tr>\n",
       "  </thead>\n",
       "  <tbody>\n",
       "    <tr>\n",
       "      <td>105749</td>\n",
       "      <td>Julita Vassileva</td>\n",
       "      <td>1</td>\n",
       "    </tr>\n",
       "    <tr>\n",
       "      <td>105750</td>\n",
       "      <td>Manel Tagorti</td>\n",
       "      <td>1</td>\n",
       "    </tr>\n",
       "    <tr>\n",
       "      <td>105751</td>\n",
       "      <td>Chunfeng Shen</td>\n",
       "      <td>1</td>\n",
       "    </tr>\n",
       "    <tr>\n",
       "      <td>105752</td>\n",
       "      <td>Anitha Edison</td>\n",
       "      <td>1</td>\n",
       "    </tr>\n",
       "    <tr>\n",
       "      <td>105753</td>\n",
       "      <td>Thomas Reinartz</td>\n",
       "      <td>1</td>\n",
       "    </tr>\n",
       "  </tbody>\n",
       "</table>\n",
       "</div>"
      ],
      "text/plain": [
       "                  author  score\n",
       "rank                           \n",
       "105749  Julita Vassileva      1\n",
       "105750     Manel Tagorti      1\n",
       "105751     Chunfeng Shen      1\n",
       "105752     Anitha Edison      1\n",
       "105753   Thomas Reinartz      1"
      ]
     },
     "execution_count": 55,
     "metadata": {},
     "output_type": "execute_result"
    }
   ],
   "source": [
    "naive_rank.tail()"
   ]
  },
  {
   "cell_type": "code",
   "execution_count": 56,
   "metadata": {},
   "outputs": [
    {
     "name": "stdout",
     "output_type": "stream",
     "text": [
      "Number of author who has 1 paper: 63019\n",
      "Number of author who has 2 paper: 16826\n"
     ]
    }
   ],
   "source": [
    "print('Number of author who has 1 paper:', naive_rank[naive_rank['score'] == 1].shape[0])\n",
    "print('Number of author who has 2 paper:', naive_rank[naive_rank['score'] == 2].shape[0])"
   ]
  },
  {
   "cell_type": "markdown",
   "metadata": {},
   "source": [
    "There are quite a lot author who has 1 or 2 papers. We can't really decide their ranking.  \n",
    "Also, we don't know which conferences or journals they submitted to. Some conferences and journals are more impactful than others."
   ]
  },
  {
   "cell_type": "markdown",
   "metadata": {},
   "source": [
    "### B2. H5-index\n",
    "\n",
    "Another way to score and rank authors could be based on the quality of the conferences and journals where they publish their papers. For this task, you have to use the H5-index score from AMiner (https://aminer.org/ranks/conf) (another database of scholarly publications), which captures the quality of academic conferences: the higher the H5-index, the better the conference.\n",
    "1. Load the AMiner dataset ( *'aminer_ai.tsv'* available in the folder ``data/``), which contains H5-index values for AI conferences. Load it into a new Pandas dataframe, and join it with the author-centric DBLP dataframe.\n",
    "2. Calculate a *'new'* author ranking (give each author a score, by which the authors are then sorted in order to obtain the ranking), where each author's score is the sum of the H5-indices of all their papers (the H5-index of a paper being the H5-index of the conference it is published in).\n",
    "3. Analyze your new, H5-index-based author ranking and explain how and why your results are different from the previous ranking. Do you see any differences in the top-20 authors based on the H5-index-based ranking and the one produced using publication counts? If yes, list the authors that are ranked in the top 20 based on publication counts but absent in the top 20 based on the H5-index-based ranking. Identify the ranks of these authors in the ranking produced by the H5-index based ranking scheme.\n",
    "4. Now, take the authors in the file `data/list_of_selected_authors.txt`, and compute their rankings using the two (naïve and H5-index-based) ranking schemes. What do you observe? Explain the potential dangers of the naïve, paper-count-based score.\n",
    "5. On the flip side, do you see any potential dangers of using the H5-index-based score?   \n",
    "_Hint: Analyze the conferences in which the top ranked authors publish. Investigate the effect of the conferences in which these authors publish more frequently on the obtained ranking._"
   ]
  },
  {
   "cell_type": "markdown",
   "metadata": {},
   "source": [
    "***B2.1***"
   ]
  },
  {
   "cell_type": "code",
   "execution_count": 57,
   "metadata": {},
   "outputs": [
    {
     "data": {
      "text/html": [
       "<div>\n",
       "<style scoped>\n",
       "    .dataframe tbody tr th:only-of-type {\n",
       "        vertical-align: middle;\n",
       "    }\n",
       "\n",
       "    .dataframe tbody tr th {\n",
       "        vertical-align: top;\n",
       "    }\n",
       "\n",
       "    .dataframe thead th {\n",
       "        text-align: right;\n",
       "    }\n",
       "</style>\n",
       "<table border=\"1\" class=\"dataframe\">\n",
       "  <thead>\n",
       "    <tr style=\"text-align: right;\">\n",
       "      <th></th>\n",
       "      <th>Rank</th>\n",
       "      <th>Conference (Full Name)</th>\n",
       "      <th>Short Name</th>\n",
       "      <th>H5-Index</th>\n",
       "    </tr>\n",
       "  </thead>\n",
       "  <tbody>\n",
       "    <tr>\n",
       "      <td>0</td>\n",
       "      <td>1</td>\n",
       "      <td>IEEE Conference on Computer Vision and Pattern...</td>\n",
       "      <td>cvpr</td>\n",
       "      <td>112</td>\n",
       "    </tr>\n",
       "    <tr>\n",
       "      <td>1</td>\n",
       "      <td>2</td>\n",
       "      <td>IEEE Transactions on Pattern Analysis and Mach...</td>\n",
       "      <td>tpami</td>\n",
       "      <td>101</td>\n",
       "    </tr>\n",
       "    <tr>\n",
       "      <td>2</td>\n",
       "      <td>3</td>\n",
       "      <td>Expert Systems with Applications</td>\n",
       "      <td>expert syst. appl.</td>\n",
       "      <td>59</td>\n",
       "    </tr>\n",
       "    <tr>\n",
       "      <td>3</td>\n",
       "      <td>4</td>\n",
       "      <td>International Journal of Computer Vision</td>\n",
       "      <td>ijcv</td>\n",
       "      <td>58</td>\n",
       "    </tr>\n",
       "    <tr>\n",
       "      <td>4</td>\n",
       "      <td>5</td>\n",
       "      <td>IEEE International Conference on Robotics and ...</td>\n",
       "      <td>icra</td>\n",
       "      <td>58</td>\n",
       "    </tr>\n",
       "    <tr>\n",
       "      <td>...</td>\n",
       "      <td>...</td>\n",
       "      <td>...</td>\n",
       "      <td>...</td>\n",
       "      <td>...</td>\n",
       "    </tr>\n",
       "    <tr>\n",
       "      <td>92</td>\n",
       "      <td>93</td>\n",
       "      <td>ACM Transactions on Asian Language Information...</td>\n",
       "      <td>talip</td>\n",
       "      <td>3</td>\n",
       "    </tr>\n",
       "    <tr>\n",
       "      <td>93</td>\n",
       "      <td>94</td>\n",
       "      <td>Autonomous Agents and Multi-Agent Systems</td>\n",
       "      <td>aamas</td>\n",
       "      <td>1</td>\n",
       "    </tr>\n",
       "    <tr>\n",
       "      <td>94</td>\n",
       "      <td>95</td>\n",
       "      <td>International Conference on Automatic Face and...</td>\n",
       "      <td>fgr</td>\n",
       "      <td>1</td>\n",
       "    </tr>\n",
       "    <tr>\n",
       "      <td>95</td>\n",
       "      <td>96</td>\n",
       "      <td>Knowledge-Based Systems</td>\n",
       "      <td>kbs</td>\n",
       "      <td>0</td>\n",
       "    </tr>\n",
       "    <tr>\n",
       "      <td>96</td>\n",
       "      <td>97</td>\n",
       "      <td>Artificial Intelligence</td>\n",
       "      <td>ai</td>\n",
       "      <td>0</td>\n",
       "    </tr>\n",
       "  </tbody>\n",
       "</table>\n",
       "<p>77 rows × 4 columns</p>\n",
       "</div>"
      ],
      "text/plain": [
       "    Rank                             Conference (Full Name)  \\\n",
       "0      1  IEEE Conference on Computer Vision and Pattern...   \n",
       "1      2  IEEE Transactions on Pattern Analysis and Mach...   \n",
       "2      3                   Expert Systems with Applications   \n",
       "3      4           International Journal of Computer Vision   \n",
       "4      5  IEEE International Conference on Robotics and ...   \n",
       "..   ...                                                ...   \n",
       "92    93  ACM Transactions on Asian Language Information...   \n",
       "93    94          Autonomous Agents and Multi-Agent Systems   \n",
       "94    95  International Conference on Automatic Face and...   \n",
       "95    96                            Knowledge-Based Systems   \n",
       "96    97                            Artificial Intelligence   \n",
       "\n",
       "            Short Name  H5-Index  \n",
       "0                 cvpr       112  \n",
       "1                tpami       101  \n",
       "2   expert syst. appl.        59  \n",
       "3                 ijcv        58  \n",
       "4                 icra        58  \n",
       "..                 ...       ...  \n",
       "92               talip         3  \n",
       "93               aamas         1  \n",
       "94                 fgr         1  \n",
       "95                 kbs         0  \n",
       "96                  ai         0  \n",
       "\n",
       "[77 rows x 4 columns]"
      ]
     },
     "execution_count": 57,
     "metadata": {},
     "output_type": "execute_result"
    }
   ],
   "source": [
    "# load AMiner dataset and remove entry with no Short Name (nan)\n",
    "aminer = pd.read_csv('./data/aminer_ai.csv', sep=';').dropna()\n",
    "aminer['Short Name'] = aminer['Short Name'].apply(lambda x: x.lower())\n",
    "aminer"
   ]
  },
  {
   "cell_type": "code",
   "execution_count": 58,
   "metadata": {},
   "outputs": [
    {
     "data": {
      "text/html": [
       "<div>\n",
       "<style scoped>\n",
       "    .dataframe tbody tr th:only-of-type {\n",
       "        vertical-align: middle;\n",
       "    }\n",
       "\n",
       "    .dataframe tbody tr th {\n",
       "        vertical-align: top;\n",
       "    }\n",
       "\n",
       "    .dataframe thead th {\n",
       "        text-align: right;\n",
       "    }\n",
       "</style>\n",
       "<table border=\"1\" class=\"dataframe\">\n",
       "  <thead>\n",
       "    <tr style=\"text-align: right;\">\n",
       "      <th></th>\n",
       "      <th>Rank</th>\n",
       "      <th>Conference (Full Name)</th>\n",
       "      <th>Short Name</th>\n",
       "      <th>H5-Index</th>\n",
       "    </tr>\n",
       "  </thead>\n",
       "  <tbody>\n",
       "    <tr>\n",
       "      <td>15</td>\n",
       "      <td>16</td>\n",
       "      <td>Decision Support Systems</td>\n",
       "      <td>dss</td>\n",
       "      <td>43</td>\n",
       "    </tr>\n",
       "    <tr>\n",
       "      <td>19</td>\n",
       "      <td>20</td>\n",
       "      <td>Autonomous Agents and Multi-Agent Systems</td>\n",
       "      <td>aamas</td>\n",
       "      <td>36</td>\n",
       "    </tr>\n",
       "    <tr>\n",
       "      <td>40</td>\n",
       "      <td>41</td>\n",
       "      <td>Autonomous Agents and Multi-Agent Systems</td>\n",
       "      <td>aamas</td>\n",
       "      <td>23</td>\n",
       "    </tr>\n",
       "    <tr>\n",
       "      <td>42</td>\n",
       "      <td>43</td>\n",
       "      <td>Neural Computing &amp; Applications</td>\n",
       "      <td>nca</td>\n",
       "      <td>22</td>\n",
       "    </tr>\n",
       "    <tr>\n",
       "      <td>71</td>\n",
       "      <td>72</td>\n",
       "      <td>Neural Computing &amp; Applications</td>\n",
       "      <td>nca</td>\n",
       "      <td>10</td>\n",
       "    </tr>\n",
       "    <tr>\n",
       "      <td>73</td>\n",
       "      <td>74</td>\n",
       "      <td>Decision Support Systems</td>\n",
       "      <td>dss</td>\n",
       "      <td>10</td>\n",
       "    </tr>\n",
       "    <tr>\n",
       "      <td>93</td>\n",
       "      <td>94</td>\n",
       "      <td>Autonomous Agents and Multi-Agent Systems</td>\n",
       "      <td>aamas</td>\n",
       "      <td>1</td>\n",
       "    </tr>\n",
       "  </tbody>\n",
       "</table>\n",
       "</div>"
      ],
      "text/plain": [
       "    Rank                     Conference (Full Name) Short Name  H5-Index\n",
       "15    16                   Decision Support Systems        dss        43\n",
       "19    20  Autonomous Agents and Multi-Agent Systems      aamas        36\n",
       "40    41  Autonomous Agents and Multi-Agent Systems      aamas        23\n",
       "42    43            Neural Computing & Applications        nca        22\n",
       "71    72            Neural Computing & Applications        nca        10\n",
       "73    74                   Decision Support Systems        dss        10\n",
       "93    94  Autonomous Agents and Multi-Agent Systems      aamas         1"
      ]
     },
     "execution_count": 58,
     "metadata": {},
     "output_type": "execute_result"
    }
   ],
   "source": [
    "aminer[aminer['Short Name'].duplicated(keep=False)]"
   ]
  },
  {
   "cell_type": "markdown",
   "metadata": {},
   "source": [
    "There are some duplicate conferences in this data. We decided to keep the first entries of them."
   ]
  },
  {
   "cell_type": "code",
   "execution_count": 59,
   "metadata": {},
   "outputs": [],
   "source": [
    "aminer.drop_duplicates(subset='Short Name', keep='first', inplace=True)"
   ]
  },
  {
   "cell_type": "code",
   "execution_count": 60,
   "metadata": {},
   "outputs": [
    {
     "data": {
      "text/html": [
       "<div>\n",
       "<style scoped>\n",
       "    .dataframe tbody tr th:only-of-type {\n",
       "        vertical-align: middle;\n",
       "    }\n",
       "\n",
       "    .dataframe tbody tr th {\n",
       "        vertical-align: top;\n",
       "    }\n",
       "\n",
       "    .dataframe thead th {\n",
       "        text-align: right;\n",
       "    }\n",
       "</style>\n",
       "<table border=\"1\" class=\"dataframe\">\n",
       "  <thead>\n",
       "    <tr style=\"text-align: right;\">\n",
       "      <th></th>\n",
       "      <th>id</th>\n",
       "      <th>author</th>\n",
       "      <th>year</th>\n",
       "      <th>title</th>\n",
       "      <th>conference</th>\n",
       "      <th>h5</th>\n",
       "    </tr>\n",
       "  </thead>\n",
       "  <tbody>\n",
       "    <tr>\n",
       "      <td>0</td>\n",
       "      <td>conf/iccv/KunoOO90</td>\n",
       "      <td>Yoshinori Kuno</td>\n",
       "      <td>1990</td>\n",
       "      <td>Object recognition using a feature search stra...</td>\n",
       "      <td>iccv</td>\n",
       "      <td>58</td>\n",
       "    </tr>\n",
       "    <tr>\n",
       "      <td>1</td>\n",
       "      <td>conf/iccv/KunoOO90</td>\n",
       "      <td>Yasukazu Okamoto</td>\n",
       "      <td>1990</td>\n",
       "      <td>Object recognition using a feature search stra...</td>\n",
       "      <td>iccv</td>\n",
       "      <td>58</td>\n",
       "    </tr>\n",
       "    <tr>\n",
       "      <td>2</td>\n",
       "      <td>conf/iccv/KunoOO90</td>\n",
       "      <td>Satoshi Okada</td>\n",
       "      <td>1990</td>\n",
       "      <td>Object recognition using a feature search stra...</td>\n",
       "      <td>iccv</td>\n",
       "      <td>58</td>\n",
       "    </tr>\n",
       "    <tr>\n",
       "      <td>3</td>\n",
       "      <td>conf/iccv/VedulaBRCK99</td>\n",
       "      <td>Sundar Vedula</td>\n",
       "      <td>1999</td>\n",
       "      <td>Three-Dimensional Scene Flow.</td>\n",
       "      <td>iccv</td>\n",
       "      <td>58</td>\n",
       "    </tr>\n",
       "    <tr>\n",
       "      <td>4</td>\n",
       "      <td>conf/iccv/VedulaBRCK99</td>\n",
       "      <td>Simon Baker</td>\n",
       "      <td>1999</td>\n",
       "      <td>Three-Dimensional Scene Flow.</td>\n",
       "      <td>iccv</td>\n",
       "      <td>58</td>\n",
       "    </tr>\n",
       "    <tr>\n",
       "      <td>...</td>\n",
       "      <td>...</td>\n",
       "      <td>...</td>\n",
       "      <td>...</td>\n",
       "      <td>...</td>\n",
       "      <td>...</td>\n",
       "      <td>...</td>\n",
       "    </tr>\n",
       "    <tr>\n",
       "      <td>308860</td>\n",
       "      <td>conf/acl/SalleVI16</td>\n",
       "      <td>Aline Villavicencio</td>\n",
       "      <td>2016</td>\n",
       "      <td>Matrix Factorization using Window Sampling and...</td>\n",
       "      <td>acl</td>\n",
       "      <td>48</td>\n",
       "    </tr>\n",
       "    <tr>\n",
       "      <td>308861</td>\n",
       "      <td>conf/acl/SalleVI16</td>\n",
       "      <td>Marco Idiart</td>\n",
       "      <td>2016</td>\n",
       "      <td>Matrix Factorization using Window Sampling and...</td>\n",
       "      <td>acl</td>\n",
       "      <td>48</td>\n",
       "    </tr>\n",
       "    <tr>\n",
       "      <td>308862</td>\n",
       "      <td>conf/acl/AnanthakrishnanPN11</td>\n",
       "      <td>Sankaranarayanan Ananthakrishnan</td>\n",
       "      <td>2011</td>\n",
       "      <td>On-line Language Model Biasing for Statistical...</td>\n",
       "      <td>acl</td>\n",
       "      <td>48</td>\n",
       "    </tr>\n",
       "    <tr>\n",
       "      <td>308863</td>\n",
       "      <td>conf/acl/AnanthakrishnanPN11</td>\n",
       "      <td>Rohit Prasad</td>\n",
       "      <td>2011</td>\n",
       "      <td>On-line Language Model Biasing for Statistical...</td>\n",
       "      <td>acl</td>\n",
       "      <td>48</td>\n",
       "    </tr>\n",
       "    <tr>\n",
       "      <td>308864</td>\n",
       "      <td>conf/acl/AnanthakrishnanPN11</td>\n",
       "      <td>Prem Natarajan</td>\n",
       "      <td>2011</td>\n",
       "      <td>On-line Language Model Biasing for Statistical...</td>\n",
       "      <td>acl</td>\n",
       "      <td>48</td>\n",
       "    </tr>\n",
       "  </tbody>\n",
       "</table>\n",
       "<p>308865 rows × 6 columns</p>\n",
       "</div>"
      ],
      "text/plain": [
       "                                  id                            author  year  \\\n",
       "0                 conf/iccv/KunoOO90                    Yoshinori Kuno  1990   \n",
       "1                 conf/iccv/KunoOO90                  Yasukazu Okamoto  1990   \n",
       "2                 conf/iccv/KunoOO90                     Satoshi Okada  1990   \n",
       "3             conf/iccv/VedulaBRCK99                     Sundar Vedula  1999   \n",
       "4             conf/iccv/VedulaBRCK99                       Simon Baker  1999   \n",
       "...                              ...                               ...   ...   \n",
       "308860            conf/acl/SalleVI16               Aline Villavicencio  2016   \n",
       "308861            conf/acl/SalleVI16                      Marco Idiart  2016   \n",
       "308862  conf/acl/AnanthakrishnanPN11  Sankaranarayanan Ananthakrishnan  2011   \n",
       "308863  conf/acl/AnanthakrishnanPN11                      Rohit Prasad  2011   \n",
       "308864  conf/acl/AnanthakrishnanPN11                    Prem Natarajan  2011   \n",
       "\n",
       "                                                    title conference  h5  \n",
       "0       Object recognition using a feature search stra...       iccv  58  \n",
       "1       Object recognition using a feature search stra...       iccv  58  \n",
       "2       Object recognition using a feature search stra...       iccv  58  \n",
       "3                           Three-Dimensional Scene Flow.       iccv  58  \n",
       "4                           Three-Dimensional Scene Flow.       iccv  58  \n",
       "...                                                   ...        ...  ..  \n",
       "308860  Matrix Factorization using Window Sampling and...        acl  48  \n",
       "308861  Matrix Factorization using Window Sampling and...        acl  48  \n",
       "308862  On-line Language Model Biasing for Statistical...        acl  48  \n",
       "308863  On-line Language Model Biasing for Statistical...        acl  48  \n",
       "308864  On-line Language Model Biasing for Statistical...        acl  48  \n",
       "\n",
       "[308865 rows x 6 columns]"
      ]
     },
     "execution_count": 60,
     "metadata": {},
     "output_type": "execute_result"
    }
   ],
   "source": [
    "h5_conf_authors = new_conf_authors.merge(aminer, left_on='conference', right_on='Short Name') \\\n",
    "                                  .drop(['Rank', 'Conference (Full Name)', 'Short Name'], axis=1) \\\n",
    "                                  .rename(columns={'H5-Index': 'h5'})\n",
    "h5_conf_authors"
   ]
  },
  {
   "cell_type": "markdown",
   "metadata": {},
   "source": [
    "***B2.2***"
   ]
  },
  {
   "cell_type": "code",
   "execution_count": 61,
   "metadata": {},
   "outputs": [],
   "source": [
    "h5_rank = h5_conf_authors.groupby('author').sum().drop(['year'], axis=1) \\\n",
    "                         .sort_values(by='h5', ascending=False).reset_index()\n",
    "h5_rank.index += 1\n",
    "h5_rank.index.name = 'rank'"
   ]
  },
  {
   "cell_type": "code",
   "execution_count": 62,
   "metadata": {},
   "outputs": [
    {
     "data": {
      "text/html": [
       "<div>\n",
       "<style scoped>\n",
       "    .dataframe tbody tr th:only-of-type {\n",
       "        vertical-align: middle;\n",
       "    }\n",
       "\n",
       "    .dataframe tbody tr th {\n",
       "        vertical-align: top;\n",
       "    }\n",
       "\n",
       "    .dataframe thead th {\n",
       "        text-align: right;\n",
       "    }\n",
       "</style>\n",
       "<table border=\"1\" class=\"dataframe\">\n",
       "  <thead>\n",
       "    <tr style=\"text-align: right;\">\n",
       "      <th></th>\n",
       "      <th>author</th>\n",
       "      <th>h5</th>\n",
       "    </tr>\n",
       "    <tr>\n",
       "      <th>rank</th>\n",
       "      <th></th>\n",
       "      <th></th>\n",
       "    </tr>\n",
       "  </thead>\n",
       "  <tbody>\n",
       "    <tr>\n",
       "      <td>1</td>\n",
       "      <td>Luc Van Gool</td>\n",
       "      <td>18695</td>\n",
       "    </tr>\n",
       "    <tr>\n",
       "      <td>2</td>\n",
       "      <td>Thomas S. Huang</td>\n",
       "      <td>14052</td>\n",
       "    </tr>\n",
       "    <tr>\n",
       "      <td>3</td>\n",
       "      <td>Xiaoou Tang</td>\n",
       "      <td>13190</td>\n",
       "    </tr>\n",
       "    <tr>\n",
       "      <td>4</td>\n",
       "      <td>Trevor Darrell</td>\n",
       "      <td>12763</td>\n",
       "    </tr>\n",
       "    <tr>\n",
       "      <td>5</td>\n",
       "      <td>Shuicheng Yan</td>\n",
       "      <td>12448</td>\n",
       "    </tr>\n",
       "  </tbody>\n",
       "</table>\n",
       "</div>"
      ],
      "text/plain": [
       "               author     h5\n",
       "rank                        \n",
       "1        Luc Van Gool  18695\n",
       "2     Thomas S. Huang  14052\n",
       "3         Xiaoou Tang  13190\n",
       "4      Trevor Darrell  12763\n",
       "5       Shuicheng Yan  12448"
      ]
     },
     "execution_count": 62,
     "metadata": {},
     "output_type": "execute_result"
    }
   ],
   "source": [
    "h5_rank.head()"
   ]
  },
  {
   "cell_type": "code",
   "execution_count": 63,
   "metadata": {},
   "outputs": [
    {
     "data": {
      "text/html": [
       "<div>\n",
       "<style scoped>\n",
       "    .dataframe tbody tr th:only-of-type {\n",
       "        vertical-align: middle;\n",
       "    }\n",
       "\n",
       "    .dataframe tbody tr th {\n",
       "        vertical-align: top;\n",
       "    }\n",
       "\n",
       "    .dataframe thead th {\n",
       "        text-align: right;\n",
       "    }\n",
       "</style>\n",
       "<table border=\"1\" class=\"dataframe\">\n",
       "  <thead>\n",
       "    <tr style=\"text-align: right;\">\n",
       "      <th></th>\n",
       "      <th>author</th>\n",
       "      <th>h5</th>\n",
       "    </tr>\n",
       "    <tr>\n",
       "      <th>rank</th>\n",
       "      <th></th>\n",
       "      <th></th>\n",
       "    </tr>\n",
       "  </thead>\n",
       "  <tbody>\n",
       "    <tr>\n",
       "      <td>105749</td>\n",
       "      <td>Raffaele Tavarone</td>\n",
       "      <td>1</td>\n",
       "    </tr>\n",
       "    <tr>\n",
       "      <td>105750</td>\n",
       "      <td>Jiangning Gao</td>\n",
       "      <td>1</td>\n",
       "    </tr>\n",
       "    <tr>\n",
       "      <td>105751</td>\n",
       "      <td>Y. Ivette Colon</td>\n",
       "      <td>1</td>\n",
       "    </tr>\n",
       "    <tr>\n",
       "      <td>105752</td>\n",
       "      <td>Douglas Chai</td>\n",
       "      <td>1</td>\n",
       "    </tr>\n",
       "    <tr>\n",
       "      <td>105753</td>\n",
       "      <td>Mohammad Iftekhar Tanveer</td>\n",
       "      <td>1</td>\n",
       "    </tr>\n",
       "  </tbody>\n",
       "</table>\n",
       "</div>"
      ],
      "text/plain": [
       "                           author  h5\n",
       "rank                                 \n",
       "105749          Raffaele Tavarone   1\n",
       "105750              Jiangning Gao   1\n",
       "105751            Y. Ivette Colon   1\n",
       "105752               Douglas Chai   1\n",
       "105753  Mohammad Iftekhar Tanveer   1"
      ]
     },
     "execution_count": 63,
     "metadata": {},
     "output_type": "execute_result"
    }
   ],
   "source": [
    "h5_rank.tail()"
   ]
  },
  {
   "cell_type": "markdown",
   "metadata": {},
   "source": [
    "***B2.3***"
   ]
  },
  {
   "cell_type": "code",
   "execution_count": 64,
   "metadata": {},
   "outputs": [],
   "source": [
    "naive_h5_rank = naive_rank.reset_index().merge(h5_rank.reset_index(), on='author', suffixes=('_in_naive', '_in_h5')) \\\n",
    "                          .rename(columns={'score': 'naive'})\n",
    "naive_h5_rank = naive_h5_rank[['author', 'rank_in_naive', 'naive', 'rank_in_h5', 'h5']]"
   ]
  },
  {
   "cell_type": "code",
   "execution_count": 65,
   "metadata": {},
   "outputs": [
    {
     "data": {
      "text/html": [
       "<div>\n",
       "<style scoped>\n",
       "    .dataframe tbody tr th:only-of-type {\n",
       "        vertical-align: middle;\n",
       "    }\n",
       "\n",
       "    .dataframe tbody tr th {\n",
       "        vertical-align: top;\n",
       "    }\n",
       "\n",
       "    .dataframe thead th {\n",
       "        text-align: right;\n",
       "    }\n",
       "</style>\n",
       "<table border=\"1\" class=\"dataframe\">\n",
       "  <thead>\n",
       "    <tr style=\"text-align: right;\">\n",
       "      <th></th>\n",
       "      <th>author</th>\n",
       "      <th>rank_in_naive</th>\n",
       "      <th>naive</th>\n",
       "      <th>rank_in_h5</th>\n",
       "      <th>h5</th>\n",
       "    </tr>\n",
       "  </thead>\n",
       "  <tbody>\n",
       "    <tr>\n",
       "      <td>0</td>\n",
       "      <td>Luc Van Gool</td>\n",
       "      <td>1</td>\n",
       "      <td>220</td>\n",
       "      <td>1</td>\n",
       "      <td>18695</td>\n",
       "    </tr>\n",
       "    <tr>\n",
       "      <td>1</td>\n",
       "      <td>Toshio Fukuda</td>\n",
       "      <td>2</td>\n",
       "      <td>196</td>\n",
       "      <td>6</td>\n",
       "      <td>11368</td>\n",
       "    </tr>\n",
       "    <tr>\n",
       "      <td>2</td>\n",
       "      <td>Thomas S. Huang</td>\n",
       "      <td>3</td>\n",
       "      <td>186</td>\n",
       "      <td>2</td>\n",
       "      <td>14052</td>\n",
       "    </tr>\n",
       "    <tr>\n",
       "      <td>3</td>\n",
       "      <td>Michael I. Jordan</td>\n",
       "      <td>4</td>\n",
       "      <td>168</td>\n",
       "      <td>20</td>\n",
       "      <td>8890</td>\n",
       "    </tr>\n",
       "    <tr>\n",
       "      <td>4</td>\n",
       "      <td>Trevor Darrell</td>\n",
       "      <td>5</td>\n",
       "      <td>158</td>\n",
       "      <td>4</td>\n",
       "      <td>12763</td>\n",
       "    </tr>\n",
       "    <tr>\n",
       "      <td>5</td>\n",
       "      <td>Shuicheng Yan</td>\n",
       "      <td>6</td>\n",
       "      <td>154</td>\n",
       "      <td>5</td>\n",
       "      <td>12448</td>\n",
       "    </tr>\n",
       "    <tr>\n",
       "      <td>6</td>\n",
       "      <td>Takeo Kanade</td>\n",
       "      <td>7</td>\n",
       "      <td>151</td>\n",
       "      <td>10</td>\n",
       "      <td>10569</td>\n",
       "    </tr>\n",
       "    <tr>\n",
       "      <td>7</td>\n",
       "      <td>Xiaoou Tang</td>\n",
       "      <td>8</td>\n",
       "      <td>150</td>\n",
       "      <td>3</td>\n",
       "      <td>13190</td>\n",
       "    </tr>\n",
       "    <tr>\n",
       "      <td>8</td>\n",
       "      <td>Dan Roth</td>\n",
       "      <td>9</td>\n",
       "      <td>144</td>\n",
       "      <td>61</td>\n",
       "      <td>5933</td>\n",
       "    </tr>\n",
       "    <tr>\n",
       "      <td>9</td>\n",
       "      <td>Vijay Kumar 0001</td>\n",
       "      <td>10</td>\n",
       "      <td>143</td>\n",
       "      <td>24</td>\n",
       "      <td>8334</td>\n",
       "    </tr>\n",
       "  </tbody>\n",
       "</table>\n",
       "</div>"
      ],
      "text/plain": [
       "              author  rank_in_naive  naive  rank_in_h5     h5\n",
       "0       Luc Van Gool              1    220           1  18695\n",
       "1      Toshio Fukuda              2    196           6  11368\n",
       "2    Thomas S. Huang              3    186           2  14052\n",
       "3  Michael I. Jordan              4    168          20   8890\n",
       "4     Trevor Darrell              5    158           4  12763\n",
       "5      Shuicheng Yan              6    154           5  12448\n",
       "6       Takeo Kanade              7    151          10  10569\n",
       "7        Xiaoou Tang              8    150           3  13190\n",
       "8           Dan Roth              9    144          61   5933\n",
       "9   Vijay Kumar 0001             10    143          24   8334"
      ]
     },
     "execution_count": 65,
     "metadata": {},
     "output_type": "execute_result"
    }
   ],
   "source": [
    "naive_h5_rank.sort_values(by='naive', ascending=False).head(10)"
   ]
  },
  {
   "cell_type": "code",
   "execution_count": 66,
   "metadata": {},
   "outputs": [
    {
     "data": {
      "text/html": [
       "<div>\n",
       "<style scoped>\n",
       "    .dataframe tbody tr th:only-of-type {\n",
       "        vertical-align: middle;\n",
       "    }\n",
       "\n",
       "    .dataframe tbody tr th {\n",
       "        vertical-align: top;\n",
       "    }\n",
       "\n",
       "    .dataframe thead th {\n",
       "        text-align: right;\n",
       "    }\n",
       "</style>\n",
       "<table border=\"1\" class=\"dataframe\">\n",
       "  <thead>\n",
       "    <tr style=\"text-align: right;\">\n",
       "      <th></th>\n",
       "      <th>author</th>\n",
       "      <th>rank_in_naive</th>\n",
       "      <th>naive</th>\n",
       "      <th>rank_in_h5</th>\n",
       "      <th>h5</th>\n",
       "    </tr>\n",
       "  </thead>\n",
       "  <tbody>\n",
       "    <tr>\n",
       "      <td>0</td>\n",
       "      <td>Luc Van Gool</td>\n",
       "      <td>1</td>\n",
       "      <td>220</td>\n",
       "      <td>1</td>\n",
       "      <td>18695</td>\n",
       "    </tr>\n",
       "    <tr>\n",
       "      <td>2</td>\n",
       "      <td>Thomas S. Huang</td>\n",
       "      <td>3</td>\n",
       "      <td>186</td>\n",
       "      <td>2</td>\n",
       "      <td>14052</td>\n",
       "    </tr>\n",
       "    <tr>\n",
       "      <td>7</td>\n",
       "      <td>Xiaoou Tang</td>\n",
       "      <td>8</td>\n",
       "      <td>150</td>\n",
       "      <td>3</td>\n",
       "      <td>13190</td>\n",
       "    </tr>\n",
       "    <tr>\n",
       "      <td>4</td>\n",
       "      <td>Trevor Darrell</td>\n",
       "      <td>5</td>\n",
       "      <td>158</td>\n",
       "      <td>4</td>\n",
       "      <td>12763</td>\n",
       "    </tr>\n",
       "    <tr>\n",
       "      <td>5</td>\n",
       "      <td>Shuicheng Yan</td>\n",
       "      <td>6</td>\n",
       "      <td>154</td>\n",
       "      <td>5</td>\n",
       "      <td>12448</td>\n",
       "    </tr>\n",
       "    <tr>\n",
       "      <td>1</td>\n",
       "      <td>Toshio Fukuda</td>\n",
       "      <td>2</td>\n",
       "      <td>196</td>\n",
       "      <td>6</td>\n",
       "      <td>11368</td>\n",
       "    </tr>\n",
       "    <tr>\n",
       "      <td>14</td>\n",
       "      <td>Marc Pollefeys</td>\n",
       "      <td>15</td>\n",
       "      <td>136</td>\n",
       "      <td>7</td>\n",
       "      <td>11265</td>\n",
       "    </tr>\n",
       "    <tr>\n",
       "      <td>10</td>\n",
       "      <td>Larry S. Davis</td>\n",
       "      <td>11</td>\n",
       "      <td>143</td>\n",
       "      <td>8</td>\n",
       "      <td>11141</td>\n",
       "    </tr>\n",
       "    <tr>\n",
       "      <td>16</td>\n",
       "      <td>Martial Hebert</td>\n",
       "      <td>17</td>\n",
       "      <td>135</td>\n",
       "      <td>9</td>\n",
       "      <td>10629</td>\n",
       "    </tr>\n",
       "    <tr>\n",
       "      <td>6</td>\n",
       "      <td>Takeo Kanade</td>\n",
       "      <td>7</td>\n",
       "      <td>151</td>\n",
       "      <td>10</td>\n",
       "      <td>10569</td>\n",
       "    </tr>\n",
       "  </tbody>\n",
       "</table>\n",
       "</div>"
      ],
      "text/plain": [
       "             author  rank_in_naive  naive  rank_in_h5     h5\n",
       "0      Luc Van Gool              1    220           1  18695\n",
       "2   Thomas S. Huang              3    186           2  14052\n",
       "7       Xiaoou Tang              8    150           3  13190\n",
       "4    Trevor Darrell              5    158           4  12763\n",
       "5     Shuicheng Yan              6    154           5  12448\n",
       "1     Toshio Fukuda              2    196           6  11368\n",
       "14   Marc Pollefeys             15    136           7  11265\n",
       "10   Larry S. Davis             11    143           8  11141\n",
       "16   Martial Hebert             17    135           9  10629\n",
       "6      Takeo Kanade              7    151          10  10569"
      ]
     },
     "execution_count": 66,
     "metadata": {},
     "output_type": "execute_result"
    }
   ],
   "source": [
    "naive_h5_rank.sort_values(by='h5', ascending=False).head(10)"
   ]
  },
  {
   "cell_type": "markdown",
   "metadata": {},
   "source": [
    "Yes, these two rankings are different. We think the reason why this happens is kind of the reason we predicted in B1. Some conferences and journals are more impactful than others. if you publish a lot of papers in not so impactful (low h5-index score), you will get a high ranking in the naive ranking, but not in the h5-index ranking."
   ]
  },
  {
   "cell_type": "code",
   "execution_count": 67,
   "metadata": {},
   "outputs": [
    {
     "name": "stdout",
     "output_type": "stream",
     "text": [
      "Authors who are not in top 20 of the new h5-index-based ranking:\n",
      "\n",
      "Dan Roth. Rank 62 in the new h5 ranking.\n",
      "Vijay Kumar 0001. Rank 25 in the new h5 ranking.\n",
      "Wolfram Burgard. Rank 32 in the new h5 ranking.\n",
      "Eric P. Xing. Rank 34 in the new h5 ranking.\n",
      "Roland Siegwart. Rank 29 in the new h5 ranking.\n",
      "Christopher D. Manning. Rank 68 in the new h5 ranking.\n",
      "Dan Klein. Rank 86 in the new h5 ranking.\n",
      "Bernhard Schölkopf. Rank 40 in the new h5 ranking.\n"
     ]
    }
   ],
   "source": [
    "# find out authors that are ranked in the top 20 based on publication counts\n",
    "# but absent in the top 20 based on the H5-index-based ranking\n",
    "print('Authors who are not in top 20 of the new h5-index-based ranking:\\n')\n",
    "for name in naive_rank.head(20)['author']:\n",
    "    if name not in h5_rank.head(20)['author'].values:\n",
    "        print(\"{}. Rank {} in the new h5 ranking.\".format(name, h5_rank[h5_rank['author'] == name].index.values[0] + 1))"
   ]
  },
  {
   "cell_type": "markdown",
   "metadata": {},
   "source": [
    "***B2.4***"
   ]
  },
  {
   "cell_type": "code",
   "execution_count": 68,
   "metadata": {},
   "outputs": [],
   "source": [
    "# read the selected authors from list_of_selected_authors.txt file\n",
    "# and save it into selected_authors list\n",
    "selected_authors = []\n",
    "with open('./data/list_of_selected_authors.txt', 'r') as f:\n",
    "    for line in f.readlines():\n",
    "        selected_authors.append(line.strip('\\n'))"
   ]
  },
  {
   "cell_type": "code",
   "execution_count": 69,
   "metadata": {},
   "outputs": [
    {
     "data": {
      "text/html": [
       "<div>\n",
       "<style scoped>\n",
       "    .dataframe tbody tr th:only-of-type {\n",
       "        vertical-align: middle;\n",
       "    }\n",
       "\n",
       "    .dataframe tbody tr th {\n",
       "        vertical-align: top;\n",
       "    }\n",
       "\n",
       "    .dataframe thead th {\n",
       "        text-align: right;\n",
       "    }\n",
       "</style>\n",
       "<table border=\"1\" class=\"dataframe\">\n",
       "  <thead>\n",
       "    <tr style=\"text-align: right;\">\n",
       "      <th></th>\n",
       "      <th>author</th>\n",
       "      <th>rank_in_naive</th>\n",
       "      <th>naive</th>\n",
       "      <th>rank_in_h5</th>\n",
       "      <th>h5</th>\n",
       "    </tr>\n",
       "  </thead>\n",
       "  <tbody>\n",
       "    <tr>\n",
       "      <td>2376</td>\n",
       "      <td>Hy Murveit</td>\n",
       "      <td>2377</td>\n",
       "      <td>17</td>\n",
       "      <td>19598</td>\n",
       "      <td>170</td>\n",
       "    </tr>\n",
       "    <tr>\n",
       "      <td>3725</td>\n",
       "      <td>Mengjie Zhang</td>\n",
       "      <td>3726</td>\n",
       "      <td>13</td>\n",
       "      <td>22655</td>\n",
       "      <td>140</td>\n",
       "    </tr>\n",
       "    <tr>\n",
       "      <td>4375</td>\n",
       "      <td>Naokazu Yokoya</td>\n",
       "      <td>4376</td>\n",
       "      <td>11</td>\n",
       "      <td>21030</td>\n",
       "      <td>158</td>\n",
       "    </tr>\n",
       "    <tr>\n",
       "      <td>5044</td>\n",
       "      <td>Jianwu Dang</td>\n",
       "      <td>5045</td>\n",
       "      <td>10</td>\n",
       "      <td>24298</td>\n",
       "      <td>122</td>\n",
       "    </tr>\n",
       "    <tr>\n",
       "      <td>5228</td>\n",
       "      <td>Sebastian Otte</td>\n",
       "      <td>5229</td>\n",
       "      <td>10</td>\n",
       "      <td>22001</td>\n",
       "      <td>148</td>\n",
       "    </tr>\n",
       "    <tr>\n",
       "      <td>29106</td>\n",
       "      <td>Iljung S. Kwak</td>\n",
       "      <td>29107</td>\n",
       "      <td>2</td>\n",
       "      <td>19915</td>\n",
       "      <td>170</td>\n",
       "    </tr>\n",
       "    <tr>\n",
       "      <td>30375</td>\n",
       "      <td>Yukihiro Nakamura</td>\n",
       "      <td>30376</td>\n",
       "      <td>2</td>\n",
       "      <td>19883</td>\n",
       "      <td>170</td>\n",
       "    </tr>\n",
       "    <tr>\n",
       "      <td>32025</td>\n",
       "      <td>Parag Havaldar</td>\n",
       "      <td>32026</td>\n",
       "      <td>2</td>\n",
       "      <td>19672</td>\n",
       "      <td>170</td>\n",
       "    </tr>\n",
       "    <tr>\n",
       "      <td>34923</td>\n",
       "      <td>Steffen Abraham</td>\n",
       "      <td>34924</td>\n",
       "      <td>2</td>\n",
       "      <td>19783</td>\n",
       "      <td>170</td>\n",
       "    </tr>\n",
       "    <tr>\n",
       "      <td>42126</td>\n",
       "      <td>Charles Freundlich</td>\n",
       "      <td>42127</td>\n",
       "      <td>2</td>\n",
       "      <td>19379</td>\n",
       "      <td>170</td>\n",
       "    </tr>\n",
       "  </tbody>\n",
       "</table>\n",
       "</div>"
      ],
      "text/plain": [
       "                   author  rank_in_naive  naive  rank_in_h5   h5\n",
       "2376           Hy Murveit           2377     17       19598  170\n",
       "3725        Mengjie Zhang           3726     13       22655  140\n",
       "4375       Naokazu Yokoya           4376     11       21030  158\n",
       "5044          Jianwu Dang           5045     10       24298  122\n",
       "5228       Sebastian Otte           5229     10       22001  148\n",
       "29106      Iljung S. Kwak          29107      2       19915  170\n",
       "30375   Yukihiro Nakamura          30376      2       19883  170\n",
       "32025      Parag Havaldar          32026      2       19672  170\n",
       "34923     Steffen Abraham          34924      2       19783  170\n",
       "42126  Charles Freundlich          42127      2       19379  170"
      ]
     },
     "execution_count": 69,
     "metadata": {},
     "output_type": "execute_result"
    }
   ],
   "source": [
    "naive_h5_rank[naive_h5_rank['author'].isin(selected_authors)]"
   ]
  },
  {
   "cell_type": "markdown",
   "metadata": {},
   "source": [
    "We've observed that people who rank higher in naive ranking could rank lower in H5-index ranking.  \n",
    "For example, Hy Murveit rank 2462 in naive ranking, but rank 19598 in H5-index ranking.\n",
    "\n",
    "And people who rank lower in naive ranking could rank higher in H5-index ranking.\n",
    "For example, Charles Freundlich rank 30108 in naive ranking, but rank 19379 in H5-index ranking.\n",
    "\n",
    "Therefore, naïve, paper-count-based score is not reliable, because it doesn't take the importance of conferences and journals into consideration. If someone submit lots of paper in a less important conference, he will get a higher rank in this naive ranking with less impact than people who submit less paper but submit in a more important conference."
   ]
  },
  {
   "cell_type": "markdown",
   "metadata": {},
   "source": [
    "***B2.5***"
   ]
  },
  {
   "cell_type": "code",
   "execution_count": 70,
   "metadata": {},
   "outputs": [
    {
     "data": {
      "text/html": [
       "<div>\n",
       "<style scoped>\n",
       "    .dataframe tbody tr th:only-of-type {\n",
       "        vertical-align: middle;\n",
       "    }\n",
       "\n",
       "    .dataframe tbody tr th {\n",
       "        vertical-align: top;\n",
       "    }\n",
       "\n",
       "    .dataframe thead th {\n",
       "        text-align: right;\n",
       "    }\n",
       "</style>\n",
       "<table border=\"1\" class=\"dataframe\">\n",
       "  <thead>\n",
       "    <tr style=\"text-align: right;\">\n",
       "      <th></th>\n",
       "      <th>author</th>\n",
       "      <th>h5</th>\n",
       "    </tr>\n",
       "    <tr>\n",
       "      <th>rank</th>\n",
       "      <th></th>\n",
       "      <th></th>\n",
       "    </tr>\n",
       "  </thead>\n",
       "  <tbody>\n",
       "    <tr>\n",
       "      <td>1</td>\n",
       "      <td>Luc Van Gool</td>\n",
       "      <td>18695</td>\n",
       "    </tr>\n",
       "    <tr>\n",
       "      <td>2</td>\n",
       "      <td>Thomas S. Huang</td>\n",
       "      <td>14052</td>\n",
       "    </tr>\n",
       "    <tr>\n",
       "      <td>3</td>\n",
       "      <td>Xiaoou Tang</td>\n",
       "      <td>13190</td>\n",
       "    </tr>\n",
       "    <tr>\n",
       "      <td>4</td>\n",
       "      <td>Trevor Darrell</td>\n",
       "      <td>12763</td>\n",
       "    </tr>\n",
       "    <tr>\n",
       "      <td>5</td>\n",
       "      <td>Shuicheng Yan</td>\n",
       "      <td>12448</td>\n",
       "    </tr>\n",
       "  </tbody>\n",
       "</table>\n",
       "</div>"
      ],
      "text/plain": [
       "               author     h5\n",
       "rank                        \n",
       "1        Luc Van Gool  18695\n",
       "2     Thomas S. Huang  14052\n",
       "3         Xiaoou Tang  13190\n",
       "4      Trevor Darrell  12763\n",
       "5       Shuicheng Yan  12448"
      ]
     },
     "execution_count": 70,
     "metadata": {},
     "output_type": "execute_result"
    }
   ],
   "source": [
    "h5_rank.head()"
   ]
  },
  {
   "cell_type": "code",
   "execution_count": 71,
   "metadata": {},
   "outputs": [
    {
     "data": {
      "text/html": [
       "<div>\n",
       "<style scoped>\n",
       "    .dataframe tbody tr th:only-of-type {\n",
       "        vertical-align: middle;\n",
       "    }\n",
       "\n",
       "    .dataframe tbody tr th {\n",
       "        vertical-align: top;\n",
       "    }\n",
       "\n",
       "    .dataframe thead th {\n",
       "        text-align: right;\n",
       "    }\n",
       "</style>\n",
       "<table border=\"1\" class=\"dataframe\">\n",
       "  <thead>\n",
       "    <tr style=\"text-align: right;\">\n",
       "      <th></th>\n",
       "      <th>number of papers</th>\n",
       "    </tr>\n",
       "    <tr>\n",
       "      <th>conference</th>\n",
       "      <th></th>\n",
       "    </tr>\n",
       "  </thead>\n",
       "  <tbody>\n",
       "    <tr>\n",
       "      <td>cvpr</td>\n",
       "      <td>132</td>\n",
       "    </tr>\n",
       "    <tr>\n",
       "      <td>iccv</td>\n",
       "      <td>46</td>\n",
       "    </tr>\n",
       "    <tr>\n",
       "      <td>accv</td>\n",
       "      <td>16</td>\n",
       "    </tr>\n",
       "    <tr>\n",
       "      <td>icra</td>\n",
       "      <td>10</td>\n",
       "    </tr>\n",
       "    <tr>\n",
       "      <td>nips</td>\n",
       "      <td>6</td>\n",
       "    </tr>\n",
       "    <tr>\n",
       "      <td>fgr</td>\n",
       "      <td>5</td>\n",
       "    </tr>\n",
       "    <tr>\n",
       "      <td>aaai</td>\n",
       "      <td>3</td>\n",
       "    </tr>\n",
       "    <tr>\n",
       "      <td>icml</td>\n",
       "      <td>1</td>\n",
       "    </tr>\n",
       "    <tr>\n",
       "      <td>icann</td>\n",
       "      <td>1</td>\n",
       "    </tr>\n",
       "  </tbody>\n",
       "</table>\n",
       "</div>"
      ],
      "text/plain": [
       "            number of papers\n",
       "conference                  \n",
       "cvpr                     132\n",
       "iccv                      46\n",
       "accv                      16\n",
       "icra                      10\n",
       "nips                       6\n",
       "fgr                        5\n",
       "aaai                       3\n",
       "icml                       1\n",
       "icann                      1"
      ]
     },
     "execution_count": 71,
     "metadata": {},
     "output_type": "execute_result"
    }
   ],
   "source": [
    "new_conf_authors[new_conf_authors['author'] == 'Luc Van Gool'].groupby('conference')['title'] \\\n",
    "                                                              .count().sort_values(ascending=False).to_frame() \\\n",
    "                                                              .rename(columns={'title': 'number of papers'})"
   ]
  },
  {
   "cell_type": "code",
   "execution_count": 72,
   "metadata": {},
   "outputs": [
    {
     "data": {
      "text/html": [
       "<div>\n",
       "<style scoped>\n",
       "    .dataframe tbody tr th:only-of-type {\n",
       "        vertical-align: middle;\n",
       "    }\n",
       "\n",
       "    .dataframe tbody tr th {\n",
       "        vertical-align: top;\n",
       "    }\n",
       "\n",
       "    .dataframe thead th {\n",
       "        text-align: right;\n",
       "    }\n",
       "</style>\n",
       "<table border=\"1\" class=\"dataframe\">\n",
       "  <thead>\n",
       "    <tr style=\"text-align: right;\">\n",
       "      <th></th>\n",
       "      <th></th>\n",
       "      <th>number of papers</th>\n",
       "    </tr>\n",
       "    <tr>\n",
       "      <th>author</th>\n",
       "      <th>conference</th>\n",
       "      <th></th>\n",
       "    </tr>\n",
       "  </thead>\n",
       "  <tbody>\n",
       "    <tr>\n",
       "      <td>Luc Van Gool</td>\n",
       "      <td>cvpr</td>\n",
       "      <td>132</td>\n",
       "    </tr>\n",
       "    <tr>\n",
       "      <td>Thomas S. Huang</td>\n",
       "      <td>cvpr</td>\n",
       "      <td>98</td>\n",
       "    </tr>\n",
       "    <tr>\n",
       "      <td>Xiaoou Tang</td>\n",
       "      <td>cvpr</td>\n",
       "      <td>90</td>\n",
       "    </tr>\n",
       "    <tr>\n",
       "      <td>Shuicheng Yan</td>\n",
       "      <td>cvpr</td>\n",
       "      <td>79</td>\n",
       "    </tr>\n",
       "    <tr>\n",
       "      <td>Trevor Darrell</td>\n",
       "      <td>cvpr</td>\n",
       "      <td>77</td>\n",
       "    </tr>\n",
       "    <tr>\n",
       "      <td>Luc Van Gool</td>\n",
       "      <td>iccv</td>\n",
       "      <td>46</td>\n",
       "    </tr>\n",
       "    <tr>\n",
       "      <td>Xiaoou Tang</td>\n",
       "      <td>iccv</td>\n",
       "      <td>39</td>\n",
       "    </tr>\n",
       "    <tr>\n",
       "      <td>Thomas S. Huang</td>\n",
       "      <td>iccv</td>\n",
       "      <td>33</td>\n",
       "    </tr>\n",
       "    <tr>\n",
       "      <td>Shuicheng Yan</td>\n",
       "      <td>iccv</td>\n",
       "      <td>31</td>\n",
       "    </tr>\n",
       "    <tr>\n",
       "      <td>Trevor Darrell</td>\n",
       "      <td>iccv</td>\n",
       "      <td>27</td>\n",
       "    </tr>\n",
       "  </tbody>\n",
       "</table>\n",
       "</div>"
      ],
      "text/plain": [
       "                            number of papers\n",
       "author          conference                  \n",
       "Luc Van Gool    cvpr                     132\n",
       "Thomas S. Huang cvpr                      98\n",
       "Xiaoou Tang     cvpr                      90\n",
       "Shuicheng Yan   cvpr                      79\n",
       "Trevor Darrell  cvpr                      77\n",
       "Luc Van Gool    iccv                      46\n",
       "Xiaoou Tang     iccv                      39\n",
       "Thomas S. Huang iccv                      33\n",
       "Shuicheng Yan   iccv                      31\n",
       "Trevor Darrell  iccv                      27"
      ]
     },
     "execution_count": 72,
     "metadata": {},
     "output_type": "execute_result"
    }
   ],
   "source": [
    "new_conf_authors[new_conf_authors['author'].isin(h5_rank.head(5)['author'])] \\\n",
    "    .groupby(['author', 'conference']) \\\n",
    "    .count() \\\n",
    "    .drop(['id', 'year'], axis=1) \\\n",
    "    .rename(columns={'title': 'number of papers'}) \\\n",
    "    .sort_values(by='number of papers', ascending=False) \\\n",
    "    .head(10)"
   ]
  },
  {
   "cell_type": "markdown",
   "metadata": {},
   "source": [
    "We picked the number one ranked author Luc Van Gool. The top two conferences he published on are cvpr and iccv. They are all computer vision related conferences.\n",
    "\n",
    "We also checked where do the top 5 ranked authors publish most. We found out that it is mostly dominate by cvpr and iccv again.\n",
    "\n",
    "We thinked the potential danger of H5-index-based score is people who don't published on the conferences about current popular fields (e.g. computer vision) will be difficult to get higher score. But if a research field is not the most popular for now, it doesn't mean it is not as important as the popular one."
   ]
  },
  {
   "cell_type": "markdown",
   "metadata": {},
   "source": [
    "### B3. And Justice For All\n",
    "\n",
    "An ideal ranking scheme should not give undue advantage to authors who have been conducting research for a longer period of time and therefore have naturally published more papers when compared to a junior researcher. Does the ranking scheme designed by you in ``Step 2`` take this factor into account? If not, introduce variations in your ranking scheme to mitigate this effect. Do you observe anything odd with this new ranking? Clearly explain your observations.\n",
    "\n",
    "_Hint: What you did in part A4 may be useful here._"
   ]
  },
  {
   "cell_type": "markdown",
   "metadata": {},
   "source": [
    "The ranking scheme we designed in ``Step 2`` doesn't take this into account, so we introduced the period of activity from ``A4`` and tried to normalize the final score (score = sum of all the h5-index scores divided by the period of activity)."
   ]
  },
  {
   "cell_type": "code",
   "execution_count": 73,
   "metadata": {},
   "outputs": [
    {
     "data": {
      "text/html": [
       "<div>\n",
       "<style scoped>\n",
       "    .dataframe tbody tr th:only-of-type {\n",
       "        vertical-align: middle;\n",
       "    }\n",
       "\n",
       "    .dataframe tbody tr th {\n",
       "        vertical-align: top;\n",
       "    }\n",
       "\n",
       "    .dataframe thead th {\n",
       "        text-align: right;\n",
       "    }\n",
       "</style>\n",
       "<table border=\"1\" class=\"dataframe\">\n",
       "  <thead>\n",
       "    <tr style=\"text-align: right;\">\n",
       "      <th></th>\n",
       "      <th>author</th>\n",
       "      <th>normalized_h5</th>\n",
       "      <th>activity</th>\n",
       "    </tr>\n",
       "    <tr>\n",
       "      <th>rank</th>\n",
       "      <th></th>\n",
       "      <th></th>\n",
       "      <th></th>\n",
       "    </tr>\n",
       "  </thead>\n",
       "  <tbody>\n",
       "    <tr>\n",
       "      <td>1</td>\n",
       "      <td>Li Fei-Fei 0001</td>\n",
       "      <td>953.333333</td>\n",
       "      <td>3.0</td>\n",
       "    </tr>\n",
       "    <tr>\n",
       "      <td>2</td>\n",
       "      <td>Xiaoou Tang</td>\n",
       "      <td>824.375000</td>\n",
       "      <td>16.0</td>\n",
       "    </tr>\n",
       "    <tr>\n",
       "      <td>3</td>\n",
       "      <td>Shuicheng Yan</td>\n",
       "      <td>732.235294</td>\n",
       "      <td>17.0</td>\n",
       "    </tr>\n",
       "    <tr>\n",
       "      <td>4</td>\n",
       "      <td>Jiashi Feng</td>\n",
       "      <td>700.875000</td>\n",
       "      <td>8.0</td>\n",
       "    </tr>\n",
       "    <tr>\n",
       "      <td>5</td>\n",
       "      <td>Luc Van Gool</td>\n",
       "      <td>644.655172</td>\n",
       "      <td>29.0</td>\n",
       "    </tr>\n",
       "    <tr>\n",
       "      <td>6</td>\n",
       "      <td>Xiaogang Wang</td>\n",
       "      <td>622.312500</td>\n",
       "      <td>16.0</td>\n",
       "    </tr>\n",
       "    <tr>\n",
       "      <td>7</td>\n",
       "      <td>Xiaodan Liang</td>\n",
       "      <td>591.000000</td>\n",
       "      <td>4.0</td>\n",
       "    </tr>\n",
       "    <tr>\n",
       "      <td>8</td>\n",
       "      <td>Stefanos Zafeiriou</td>\n",
       "      <td>513.900000</td>\n",
       "      <td>10.0</td>\n",
       "    </tr>\n",
       "    <tr>\n",
       "      <td>9</td>\n",
       "      <td>Raquel Urtasun</td>\n",
       "      <td>505.823529</td>\n",
       "      <td>17.0</td>\n",
       "    </tr>\n",
       "    <tr>\n",
       "      <td>10</td>\n",
       "      <td>Heng Huang</td>\n",
       "      <td>496.636364</td>\n",
       "      <td>11.0</td>\n",
       "    </tr>\n",
       "  </tbody>\n",
       "</table>\n",
       "</div>"
      ],
      "text/plain": [
       "                  author  normalized_h5  activity\n",
       "rank                                             \n",
       "1        Li Fei-Fei 0001     953.333333       3.0\n",
       "2            Xiaoou Tang     824.375000      16.0\n",
       "3          Shuicheng Yan     732.235294      17.0\n",
       "4            Jiashi Feng     700.875000       8.0\n",
       "5           Luc Van Gool     644.655172      29.0\n",
       "6          Xiaogang Wang     622.312500      16.0\n",
       "7          Xiaodan Liang     591.000000       4.0\n",
       "8     Stefanos Zafeiriou     513.900000      10.0\n",
       "9         Raquel Urtasun     505.823529      17.0\n",
       "10            Heng Huang     496.636364      11.0"
      ]
     },
     "execution_count": 73,
     "metadata": {},
     "output_type": "execute_result"
    }
   ],
   "source": [
    "nor_h5_rank = h5_conf_authors.groupby('author')['h5'].sum() / authors_activity\n",
    "nor_h5_rank = nor_h5_rank.to_frame().rename(columns={0: 'normalized_h5'}) \\\n",
    "                         .merge(authors_activity.rename('activity'), on='author')\n",
    "nor_h5_rank = nor_h5_rank.sort_values(by='normalized_h5', ascending=False).reset_index()\n",
    "nor_h5_rank.index += 1\n",
    "nor_h5_rank.index.name = 'rank'\n",
    "nor_h5_rank.head(10)"
   ]
  },
  {
   "cell_type": "code",
   "execution_count": 74,
   "metadata": {},
   "outputs": [
    {
     "data": {
      "image/png": "[encoded data removed]",
      "text/plain": [
       "<Figure size 1440x720 with 1 Axes>"
      ]
     },
     "metadata": {
      "needs_background": "light"
     },
     "output_type": "display_data"
    }
   ],
   "source": [
    "# see conference distribution of the papers of the top 5 normalized_h5 ranked authors\n",
    "new_conf_authors[new_conf_authors['author'].isin(nor_h5_rank.head(5)['author'])] \\\n",
    "    .groupby('conference').count().drop(['id', 'author', 'year'], axis=1).rename(columns={'title': 'number of papers'}) \\\n",
    "    .sort_values(by='number of papers', ascending=False).plot.bar(figsize=(20, 10), legend=False)\n",
    "plt.title('Distribution of Conferences Where the Top 5 Authors in Normalized H5 Rank', fontsize=15)\n",
    "plt.xlabel('Conference', fontsize=15)\n",
    "plt.ylabel('Number of Papers', fontsize=15)\n",
    "plt.show()"
   ]
  },
  {
   "cell_type": "markdown",
   "metadata": {},
   "source": [
    "The top ranked author in the normallized ranking is Li Fei-Fei 0001. It's odd that the name contains some number.  \n",
    "\n",
    "We searched the name on dblp and found out that the number is for disambiguation, because there are authors who have the same name. But in this dataset, it seems like there are only Li Fei-Fei 0001.\n",
    "\n",
    "Also, most of the papers of the top 5 authors were published on cvpr or iccv. This will cause the same problem we discussed in ```B2.5```, the ranking is biased towards authors publishing in specific field."
   ]
  },
  {
   "cell_type": "markdown",
   "metadata": {},
   "source": [
    "## Task C. Trending topics\n",
    "\n",
    "Historically, the field of AI has witnessed research in two broad flavors: “symbolic” (logic, planning, control, etc.) vs. “connectionist” (neural networks, deep learning, Bayesian methods, etc.). Let’s see if we can see how the popularity of these two approaches to AI is reflected in the DBLP data.\n",
    "\n",
    "To this end, construct two dataframes: ``symbolic`` and ``connectionist``. ``symbolic`` is your paper-centric dataframe from part A1 filtered down to those papers whose titles contain at least one of the following words (not differentiating between upper and lower case letters): “logic”, “planning”, “control”; ``connectionist`` is a dataframe constructed in a similar manner, but with the words “deep”, “learning”, “feature”, “bayesian”. Plot the number of papers per year for ``symbolic`` and ``connectionist`` separately (i.e., 2 plots).\n",
    "1. Describe the trends you observe. Based on these plots alone, what might one conclude about the popularity of the two approaches to AI?\n",
    "2. Moving beyond these plots, what do you, as a careful data scientist, conclude about the popularity of symbolic vs. connectionist AI? Corroborate your reasoning with further plots.\n",
    "\n",
    "_Note: You could use the text handling utilities below to clean the text in the paper titles._"
   ]
  },
  {
   "cell_type": "code",
   "execution_count": 75,
   "metadata": {},
   "outputs": [],
   "source": [
    "# Text handling utilities\n",
    "from string import punctuation\n",
    "stopwords_list = open('data/stopwords.txt', 'r').readlines()\n",
    "stopwords_list = [x.strip() for x in stopwords_list]\n",
    "def stopword_remover(text):\n",
    "    text_list = text.split()\n",
    "    text_list = [x for x in text_list if x not in stopwords_list]\n",
    "    return ' '.join(text_list)\n",
    "def lowercase_all(text):\n",
    "    return text.lower()\n",
    "def remove_punct(text):\n",
    "    return ''.join([ch for ch in text if ch not in punctuation])"
   ]
  },
  {
   "cell_type": "code",
   "execution_count": 76,
   "metadata": {},
   "outputs": [],
   "source": [
    "# clean text in the paper titles\n",
    "clean_conf_papers = new_conf_papers.copy()\n",
    "clean_conf_papers['title'] = clean_conf_papers['title'].apply(stopword_remover).apply(lowercase_all).apply(remove_punct)"
   ]
  },
  {
   "cell_type": "code",
   "execution_count": 77,
   "metadata": {},
   "outputs": [
    {
     "data": {
      "text/plain": [
       "0    object recognition using feature search strate...\n",
       "1                          threedimensional scene flow\n",
       "2    fluid motion recovery coupling dense parametri...\n",
       "3    qualitative 3d shape reconstruction using dist...\n",
       "4    gplac generalizing visionbased robotic skills ...\n",
       "Name: title, dtype: object"
      ]
     },
     "execution_count": 77,
     "metadata": {},
     "output_type": "execute_result"
    }
   ],
   "source": [
    "clean_conf_papers['title'].head()"
   ]
  },
  {
   "cell_type": "code",
   "execution_count": 78,
   "metadata": {},
   "outputs": [],
   "source": [
    "def detect_words(x, words_list):\n",
    "    det = [word in words_list for word in x.split(' ')]\n",
    "    return bool(sum(det))"
   ]
  },
  {
   "cell_type": "code",
   "execution_count": 79,
   "metadata": {},
   "outputs": [
    {
     "data": {
      "image/png": "[encoded data removed]",
      "text/plain": [
       "<Figure size 1440x720 with 1 Axes>"
      ]
     },
     "metadata": {
      "needs_background": "light"
     },
     "output_type": "display_data"
    }
   ],
   "source": [
    "words_symbolic = ['logic', 'planning', 'control']\n",
    "symbolic = clean_conf_papers[clean_conf_papers['title'].apply(detect_words, words_list=words_symbolic)]\n",
    "\n",
    "# plot the number of papers per year for symbolic\n",
    "symbolic['year'].value_counts().sort_index().plot(figsize=(20, 10), color='C1')\n",
    "plt.title('Number of Papers per Year for Symbolic', fontsize=15)\n",
    "plt.xticks(range(1969, 2019), rotation=45)\n",
    "plt.xlabel('Year')\n",
    "plt.ylabel('Number of Papers', fontsize=15)\n",
    "plt.show()"
   ]
  },
  {
   "cell_type": "code",
   "execution_count": 80,
   "metadata": {},
   "outputs": [
    {
     "data": {
      "image/png": "[encoded data removed]",
      "text/plain": [
       "<Figure size 1440x720 with 1 Axes>"
      ]
     },
     "metadata": {
      "needs_background": "light"
     },
     "output_type": "display_data"
    }
   ],
   "source": [
    "words_connectionist = ['deep', 'learning', 'feature', 'bayesian']\n",
    "connectionist = clean_conf_papers[clean_conf_papers['title'].apply(detect_words, words_list=words_connectionist)]\n",
    "\n",
    "# plot the number of papers per year for connectionist\n",
    "connectionist['year'].value_counts().sort_index().plot(figsize=(20, 10))\n",
    "plt.title('Number of Papers per Year for Connectionist', fontsize=15)\n",
    "plt.xticks(range(1969, 2019), rotation=45)\n",
    "plt.xlabel('Year')\n",
    "plt.ylabel('Number of Papers', fontsize=15)\n",
    "plt.show()"
   ]
  },
  {
   "cell_type": "markdown",
   "metadata": {},
   "source": [
    "According to these two plots, we conclude that the growth of \"symbolic\" field has slow down and almost saturtate (the number of paper stays about the same in recent years).\n",
    "\n",
    "As for the \"connectionist\" field, it is growing faster and faster, almost like an exponential growth.  \n",
    "\n",
    "But now we only know the general trend of these two fields, if we want to discover more accurate information, we can put these two fields into a single plot."
   ]
  },
  {
   "cell_type": "code",
   "execution_count": 81,
   "metadata": {},
   "outputs": [
    {
     "data": {
      "image/png": "[encoded data removed]",
      "text/plain": [
       "<Figure size 1440x720 with 1 Axes>"
      ]
     },
     "metadata": {
      "needs_background": "light"
     },
     "output_type": "display_data"
    }
   ],
   "source": [
    "# we only check the number of paper before 2010, because after that connectionist simply outnumber symbolic papers\n",
    "plt.figure(figsize=(20, 10))\n",
    "plt.plot(connectionist['year'].value_counts().sort_index()[connectionist['year'].value_counts().sort_index().index < 2010])\n",
    "plt.xticks(range(1969, 2010), rotation=45)\n",
    "plt.plot(symbolic['year'].value_counts().sort_index()[symbolic['year'].value_counts().sort_index().index < 2010])\n",
    "plt.title('Number of papers per year', fontsize=15)\n",
    "plt.legend(['Connectionist', 'Symbolic'])\n",
    "plt.xlabel('Year')\n",
    "plt.ylabel('Number of papers', fontsize=15)\n",
    "plt.show()"
   ]
  },
  {
   "cell_type": "markdown",
   "metadata": {},
   "source": [
    "Before 1984 the popularity of these two fields were about the same. But after 1984, both fields of papers started to grow and symbolic papers grew faster than connectionist papers.  \n",
    "And around 1998, the connectionist outnumbered the symbolic for the first time in a while. In the later 5 years, the number of papers were about the same.  \n",
    "Finally in 2002, the connectionist regained the lead and never looked back. The number of papers of connectionist field grew super fast after 2002. As for symbolic field, the number stayed about the same after 2002."
   ]
  },
  {
   "cell_type": "markdown",
   "metadata": {},
   "source": [
    "We can also plot the normalized paper count which is the number of paper divided by the total number of paper in that year."
   ]
  },
  {
   "cell_type": "code",
   "execution_count": 82,
   "metadata": {},
   "outputs": [
    {
     "data": {
      "image/png": "[encoded data removed]",
      "text/plain": [
       "<Figure size 1440x720 with 1 Axes>"
      ]
     },
     "metadata": {
      "needs_background": "light"
     },
     "output_type": "display_data"
    }
   ],
   "source": [
    "plt.figure(figsize=(20, 10))\n",
    "plt.plot(connectionist['year'].value_counts().sort_index() / new_conf_papers['year'].value_counts().sort_index())\n",
    "plt.xticks(range(1969, 2019), rotation=45)\n",
    "plt.plot(symbolic['year'].value_counts().sort_index() / new_conf_papers['year'].value_counts().sort_index())\n",
    "plt.title('Number of papers per year', fontsize=15)\n",
    "plt.legend(['Connectionist', 'Symbolic'])\n",
    "plt.xlabel('Year')\n",
    "plt.ylabel('Number of papers', fontsize=15)\n",
    "plt.show()"
   ]
  },
  {
   "cell_type": "markdown",
   "metadata": {},
   "source": [
    "We can see that the proportion of symbolic paper is declining, which we thought is just saturated in the previous plot.\n",
    "\n",
    "Basically, the number of papers published per year is also increasing every year, thus, to clearly assess the popularity of a field, one needs to understand the relative importance of the field wrt to all the other existing fields."
   ]
  }
 ],
 "metadata": {
  "colab": {
   "collapsed_sections": [],
   "name": "Homework 1.ipynb",
   "provenance": []
  },
  "kernelspec": {
   "display_name": "Python [conda env:ada] *",
   "language": "python",
   "name": "conda-env-ada-py"
  },
  "language_info": {
   "codemirror_mode": {
    "name": "ipython",
    "version": 3
   },
   "file_extension": ".py",
   "mimetype": "text/x-python",
   "name": "python",
   "nbconvert_exporter": "python",
   "pygments_lexer": "ipython3",
   "version": "3.7.4"
  },
  "toc": {
   "base_numbering": 1,
   "nav_menu": {},
   "number_sections": false,
   "sideBar": true,
   "skip_h1_title": true,
   "title_cell": "Table of Contents",
   "title_sidebar": "Contents",
   "toc_cell": false,
   "toc_position": {},
   "toc_section_display": true,
   "toc_window_display": false
  }
 },
 "nbformat": 4,
 "nbformat_minor": 4
}
