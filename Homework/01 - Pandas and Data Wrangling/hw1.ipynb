{
 "cells": [
  {
   "cell_type": "markdown",
   "metadata": {
    "colab_type": "text",
    "id": "l3ZEgl7t28Ee"
   },
   "source": [
    "# Homework 1\n",
    "## Introduction\n",
    "### Important dates\n",
    "* Homework release: Thursday, 3rd October 2019\n",
    "* **Homework due**: Wednesday, 16th October 2019 (23:59 hours, 11:59 PM)\n",
    "* Peer review due: Wednesday, 23rd October 2019 (23:59 hours, 11:59 PM)\n",
    "* Grading release: Wednesday, 30th October 2019\n",
    "\n",
    "### Description\n",
    "\n",
    "The data you'll be working with comes from multiple sources. The main data source will be [DBLP](https://dblp.uni-trier.de/), a database of publications from major computer science journals and conferences. A subset of DBLP, which you will use in this assignment, is provided to you via a [google drive folder](https://drive.google.com/file/d/1Kci8joML74tCSzuBbhxtd1ylR4f0dlm6/view). Later on, you will enrich the DBLP data with a dataset on conference rankings and with the proceedings of the [NIPS conference](https://nips.cc/) [1] ('proceedings' is another word for the set of papers published at an academic conference). After loading and cleaning the data, you will answer various questions about its contents.\n",
    "\n",
    "**Some rules:**\n",
    "- You are allowed to use any built-in Python library that comes with Anaconda. If you want to use an external library, you have to justify your choice.\n",
    "- Make sure you use the data folder provided in the repository in *read-only* mode.\n",
    "- Be sure to provide explanations for your answers. A notebook that only has code cells will not suffice.\n",
    "- Also, be sure to *hand in a fully-run and evaluated notebook*. We will not run your notebook for you, we will grade it as is, which means that only the results contained in your evaluated code cells will be considered, and we will not see the results in unevaluated code cells. In order to check whether everything looks as intended, you can check the rendered notebook on the GitHub website once you have pushed your solution there.\n",
    "\n",
    "[1] Note that NIPS was renamed to NeurIPS in 2018, but for simplicity, whenever we say 'NIPS', we really mean 'NIPS and NeurIPS'."
   ]
  },
  {
   "cell_type": "markdown",
   "metadata": {
    "colab_type": "text",
    "id": "A0IIdWOs48BB"
   },
   "source": [
    "## Task A. Getting a sense of the dataset\n",
    "\n",
    "### A1. Loading the data\n",
    "Download the DBLP dataset (available on [google drive](https://drive.google.com/file/d/1Kci8joML74tCSzuBbhxtd1ylR4f0dlm6/view)) and load it into a Pandas dataframe. A row of your dataframe should look as follows:\n",
    "\n",
    "| paper id | author names | publication year | paper title | \n",
    "| :----:|:-------------:| :-----:|:-----:|\n",
    "| conf/nips/doe1036 | [John Doe, Jane Doe] | 2003 | Some Catchy Title: An Expanded and Boring Title | \n",
    "\n",
    "\n",
    "1. Filter the papers: keep only conference papers. For each of the remaining ones, find the acronym of the conference where it was published. Retain only those papers that have been published in the conferences listed in `data/list_of_ai_conferences.txt`. Additionally, add a column named 'conference' to your dataframe.   \n",
    "_Hint: The `paper id` tells you whether a paper was published at a conference, and if so, at which one._\n",
    "\n",
    "2. Report the overall number of papers in the filtered dataset, as well as the number of papers per conference."
   ]
  },
  {
   "cell_type": "code",
   "execution_count": 1,
   "metadata": {
    "colab": {},
    "colab_type": "code",
    "id": "ara6mLe1l_CQ"
   },
   "outputs": [],
   "source": [
    "%matplotlib inline\n",
    "import pandas as pd\n",
    "import numpy as np\n",
    "import re\n",
    "from matplotlib.ticker import MaxNLocator\n",
    "import matplotlib.pyplot as plt\n",
    "from requests import get\n",
    "from bs4 import BeautifulSoup"
   ]
  },
  {
   "cell_type": "code",
   "execution_count": 2,
   "metadata": {},
   "outputs": [],
   "source": [
    "# loat DBLP dataset into a Pandas dataframe\n",
    "dblp = pd.read_csv('./data/dblp.tsv', sep='\\t')"
   ]
  },
  {
   "cell_type": "code",
   "execution_count": 3,
   "metadata": {},
   "outputs": [
    {
     "data": {
      "text/html": [
       "<div>\n",
       "<style scoped>\n",
       "    .dataframe tbody tr th:only-of-type {\n",
       "        vertical-align: middle;\n",
       "    }\n",
       "\n",
       "    .dataframe tbody tr th {\n",
       "        vertical-align: top;\n",
       "    }\n",
       "\n",
       "    .dataframe thead th {\n",
       "        text-align: right;\n",
       "    }\n",
       "</style>\n",
       "<table border=\"1\" class=\"dataframe\">\n",
       "  <thead>\n",
       "    <tr style=\"text-align: right;\">\n",
       "      <th></th>\n",
       "      <th>id</th>\n",
       "      <th>authors</th>\n",
       "      <th>year</th>\n",
       "      <th>title</th>\n",
       "    </tr>\n",
       "  </thead>\n",
       "  <tbody>\n",
       "    <tr>\n",
       "      <td>0</td>\n",
       "      <td>tr/meltdown/s18</td>\n",
       "      <td>['Paul Kocher', 'Daniel Genkin', 'Daniel Gruss...</td>\n",
       "      <td>2018.0</td>\n",
       "      <td>Spectre Attacks: Exploiting Speculative Execut...</td>\n",
       "    </tr>\n",
       "    <tr>\n",
       "      <td>1</td>\n",
       "      <td>tr/meltdown/m18</td>\n",
       "      <td>['Moritz Lipp', 'Michael Schwarz 0001', 'Danie...</td>\n",
       "      <td>2018.0</td>\n",
       "      <td>Meltdown</td>\n",
       "    </tr>\n",
       "    <tr>\n",
       "      <td>2</td>\n",
       "      <td>tr/acm/CS2013</td>\n",
       "      <td>[]</td>\n",
       "      <td>2013.0</td>\n",
       "      <td>Computer Science Curricula 2013</td>\n",
       "    </tr>\n",
       "    <tr>\n",
       "      <td>3</td>\n",
       "      <td>tr/gte/TR-0263-08-94-165</td>\n",
       "      <td>['Frank Manola']</td>\n",
       "      <td>1994.0</td>\n",
       "      <td>An Evaluation of Object-Oriented DBMS Developm...</td>\n",
       "    </tr>\n",
       "    <tr>\n",
       "      <td>4</td>\n",
       "      <td>tr/gte/TR-0222-10-92-165</td>\n",
       "      <td>['Michael L. Brodie', 'Michael Stonebraker']</td>\n",
       "      <td>1993.0</td>\n",
       "      <td>DARWIN: On the Incremental Migration of Legacy...</td>\n",
       "    </tr>\n",
       "  </tbody>\n",
       "</table>\n",
       "</div>"
      ],
      "text/plain": [
       "                         id  \\\n",
       "0           tr/meltdown/s18   \n",
       "1           tr/meltdown/m18   \n",
       "2             tr/acm/CS2013   \n",
       "3  tr/gte/TR-0263-08-94-165   \n",
       "4  tr/gte/TR-0222-10-92-165   \n",
       "\n",
       "                                             authors    year  \\\n",
       "0  ['Paul Kocher', 'Daniel Genkin', 'Daniel Gruss...  2018.0   \n",
       "1  ['Moritz Lipp', 'Michael Schwarz 0001', 'Danie...  2018.0   \n",
       "2                                                 []  2013.0   \n",
       "3                                   ['Frank Manola']  1994.0   \n",
       "4       ['Michael L. Brodie', 'Michael Stonebraker']  1993.0   \n",
       "\n",
       "                                               title  \n",
       "0  Spectre Attacks: Exploiting Speculative Execut...  \n",
       "1                                           Meltdown  \n",
       "2                    Computer Science Curricula 2013  \n",
       "3  An Evaluation of Object-Oriented DBMS Developm...  \n",
       "4  DARWIN: On the Incremental Migration of Legacy...  "
      ]
     },
     "execution_count": 3,
     "metadata": {},
     "output_type": "execute_result"
    }
   ],
   "source": [
    "# take a look at the dataset\n",
    "dblp.head()"
   ]
  },
  {
   "cell_type": "code",
   "execution_count": 4,
   "metadata": {},
   "outputs": [],
   "source": [
    "# keep only conference papers\n",
    "conf_papers = dblp[dblp['id'].apply(lambda x: 'conf/' in x)]"
   ]
  },
  {
   "cell_type": "code",
   "execution_count": 5,
   "metadata": {},
   "outputs": [
    {
     "data": {
      "text/html": [
       "<div>\n",
       "<style scoped>\n",
       "    .dataframe tbody tr th:only-of-type {\n",
       "        vertical-align: middle;\n",
       "    }\n",
       "\n",
       "    .dataframe tbody tr th {\n",
       "        vertical-align: top;\n",
       "    }\n",
       "\n",
       "    .dataframe thead th {\n",
       "        text-align: right;\n",
       "    }\n",
       "</style>\n",
       "<table border=\"1\" class=\"dataframe\">\n",
       "  <thead>\n",
       "    <tr style=\"text-align: right;\">\n",
       "      <th></th>\n",
       "      <th>id</th>\n",
       "      <th>authors</th>\n",
       "      <th>year</th>\n",
       "      <th>title</th>\n",
       "      <th>conference</th>\n",
       "    </tr>\n",
       "  </thead>\n",
       "  <tbody>\n",
       "    <tr>\n",
       "      <td>0</td>\n",
       "      <td>conf/iccv/KunoOO90</td>\n",
       "      <td>['Yoshinori Kuno', 'Yasukazu Okamoto', 'Satosh...</td>\n",
       "      <td>1990.0</td>\n",
       "      <td>Object recognition using a feature search stra...</td>\n",
       "      <td>iccv</td>\n",
       "    </tr>\n",
       "    <tr>\n",
       "      <td>1</td>\n",
       "      <td>conf/iccv/VedulaBRCK99</td>\n",
       "      <td>['Sundar Vedula', 'Simon Baker', 'Peter Rander...</td>\n",
       "      <td>1999.0</td>\n",
       "      <td>Three-Dimensional Scene Flow.</td>\n",
       "      <td>iccv</td>\n",
       "    </tr>\n",
       "    <tr>\n",
       "      <td>2</td>\n",
       "      <td>conf/iccv/MeminP99</td>\n",
       "      <td>['Étienne Mémin', 'Patrick Pérez']</td>\n",
       "      <td>1999.0</td>\n",
       "      <td>Fluid Motion Recovery by Coupling Dense and Pa...</td>\n",
       "      <td>iccv</td>\n",
       "    </tr>\n",
       "    <tr>\n",
       "      <td>3</td>\n",
       "      <td>conf/iccv/DickinsonPR90</td>\n",
       "      <td>['Sven J. Dickinson', 'Alex Pentland', 'Azriel...</td>\n",
       "      <td>1990.0</td>\n",
       "      <td>Qualitative 3-D shape reconstruction using dis...</td>\n",
       "      <td>iccv</td>\n",
       "    </tr>\n",
       "    <tr>\n",
       "      <td>4</td>\n",
       "      <td>conf/iccv/SinghYL17</td>\n",
       "      <td>['Avi Singh', 'Larry Yang', 'Sergey Levine']</td>\n",
       "      <td>2017.0</td>\n",
       "      <td>GPLAC: Generalizing Vision-Based Robotic Skill...</td>\n",
       "      <td>iccv</td>\n",
       "    </tr>\n",
       "  </tbody>\n",
       "</table>\n",
       "</div>"
      ],
      "text/plain": [
       "                        id                                            authors  \\\n",
       "0       conf/iccv/KunoOO90  ['Yoshinori Kuno', 'Yasukazu Okamoto', 'Satosh...   \n",
       "1   conf/iccv/VedulaBRCK99  ['Sundar Vedula', 'Simon Baker', 'Peter Rander...   \n",
       "2       conf/iccv/MeminP99                 ['Étienne Mémin', 'Patrick Pérez']   \n",
       "3  conf/iccv/DickinsonPR90  ['Sven J. Dickinson', 'Alex Pentland', 'Azriel...   \n",
       "4      conf/iccv/SinghYL17       ['Avi Singh', 'Larry Yang', 'Sergey Levine']   \n",
       "\n",
       "     year                                              title conference  \n",
       "0  1990.0  Object recognition using a feature search stra...       iccv  \n",
       "1  1999.0                      Three-Dimensional Scene Flow.       iccv  \n",
       "2  1999.0  Fluid Motion Recovery by Coupling Dense and Pa...       iccv  \n",
       "3  1990.0  Qualitative 3-D shape reconstruction using dis...       iccv  \n",
       "4  2017.0  GPLAC: Generalizing Vision-Based Robotic Skill...       iccv  "
      ]
     },
     "execution_count": 5,
     "metadata": {},
     "output_type": "execute_result"
    }
   ],
   "source": [
    "# read the selected conferences from list_of_ai_conferences.txt file\n",
    "# and save it into conferences list\n",
    "conferences = []\n",
    "with open('./data/list_of_ai_conferences.txt', 'r') as f:\n",
    "    for line in f.readlines():\n",
    "        conferences.append(line.strip('\\n'))\n",
    "\n",
    "# retain only papers from the selected conferences\n",
    "conf_papers = conf_papers[conf_papers['id'].apply(lambda x: x.split('/')[1] in conferences)].reset_index(drop=True)\n",
    "\n",
    "# add a new 'conference' column\n",
    "conf_papers['conference'] = conf_papers['id'].apply(lambda x: x.split('/')[1])\n",
    "conf_papers.head()"
   ]
  },
  {
   "cell_type": "code",
   "execution_count": 6,
   "metadata": {},
   "outputs": [
    {
     "data": {
      "text/plain": [
       "102003"
      ]
     },
     "execution_count": 6,
     "metadata": {},
     "output_type": "execute_result"
    }
   ],
   "source": [
    "# overall number of paper in the filtered dataset\n",
    "conf_papers.shape[0]"
   ]
  },
  {
   "cell_type": "code",
   "execution_count": 7,
   "metadata": {},
   "outputs": [
    {
     "data": {
      "text/plain": [
       "icra      21585\n",
       "cvpr      12853\n",
       "aaai      10796\n",
       "ijcai      9669\n",
       "nips       8445\n",
       "acl        6330\n",
       "icml       5017\n",
       "iconip     4985\n",
       "iccv       4179\n",
       "naacl      3310\n",
       "emnlp      3299\n",
       "icann      3134\n",
       "accv       2390\n",
       "fgr        1383\n",
       "pricai     1372\n",
       "iccbr       863\n",
       "ida         712\n",
       "ilp         679\n",
       "ksem        635\n",
       "aamas       367\n",
       "Name: conference, dtype: int64"
      ]
     },
     "execution_count": 7,
     "metadata": {},
     "output_type": "execute_result"
    }
   ],
   "source": [
    "# the number of paper per conference\n",
    "conf_papers['conference'].value_counts()"
   ]
  },
  {
   "cell_type": "markdown",
   "metadata": {
    "colab_type": "text",
    "id": "mnE6N9zXl-yz"
   },
   "source": [
    "### A2. An author-centric look\n",
    "The dataframe you created above was a paper-centric one. Now, we want you to create a new dataframe centered around authors. Do this by expanding the author names in the lists in the 2nd column into separate rows. That is, if a paper has 3 authors, turn that row into 3 rows, each of which only contains one of the author names (along with the rest of the paper information, i.e., title, conference and year). Keep both dataframes, we are going to need both of them.    \n",
    "**Report the number of unique authors.**"
   ]
  },
  {
   "cell_type": "code",
   "execution_count": 8,
   "metadata": {},
   "outputs": [],
   "source": [
    "# create a paper-centric df\n",
    "conf_authors = (conf_papers['authors']\n",
    "                .apply(lambda x: x.replace('[', '').replace(']', '').replace('\\'', '').split(', ')).apply(pd.Series)\n",
    "                .merge(conf_papers, left_index=True, right_index=True)\n",
    "                .drop(['authors'], axis=1)\n",
    "                .melt(id_vars = ['id', 'year', 'title', 'conference'], value_name = \"author\")\n",
    "                .drop(\"variable\", axis = 1)\n",
    "                .dropna(subset=['author']))"
   ]
  },
  {
   "cell_type": "code",
   "execution_count": 9,
   "metadata": {},
   "outputs": [
    {
     "data": {
      "text/plain": [
       "311503"
      ]
     },
     "execution_count": 9,
     "metadata": {},
     "output_type": "execute_result"
    }
   ],
   "source": [
    "conf_authors.shape[0]"
   ]
  },
  {
   "cell_type": "code",
   "execution_count": 10,
   "metadata": {},
   "outputs": [
    {
     "data": {
      "text/plain": [
       "105818"
      ]
     },
     "execution_count": 10,
     "metadata": {},
     "output_type": "execute_result"
    }
   ],
   "source": [
    "# lowercase the names of all authors\n",
    "# conf_authors['author'] = conf_authors['author'].apply(lambda x: x.lower())\n",
    "# Get the number of unique authors\n",
    "conf_authors['author'].nunique()"
   ]
  },
  {
   "cell_type": "markdown",
   "metadata": {
    "colab_type": "text",
    "id": "8ZiuGiDsl60f"
   },
   "source": [
    "### A3. Is your data analysis-friendly?\n",
    "\n",
    "Using an appropriate view of your data (paper-centric or author-centric), solve the following tasks:\n",
    "\n",
    "1. Plot the number of papers per author and analyze it. Do you observe any outliers? Can you identify the source of the problem? Please elaborate!   \n",
    "_Hint: To find out where the problem comes from, try performing an analysis at the conference or year level._   \n",
    "Make sure you remove this inconsistency from your dataframe before moving to the next step, and also create a new plot of the number of papers per author after fixing the problem.   \n",
    "\n",
    "2. Plot the number of papers per year. Do you observe any inconsistency in the output? Real-world data is usually messy, with typos, erroneous entries, and sometimes issues that make even loading the data problematic. Fix any errors that you encounter along the way, find ways to clean the attribute `year`, and redo the plot of the number of papers per year.   \n",
    "\n",
    "3. Machine learning (ML) has been one of the hottest topics within the broader area of AI recently, so let’s see if this is reflected in the number of ML publications. In particular, let’s focus on the two major ML conferences, NIPS and ICML: make a new dataframe with only NIPS and ICML papers (let’s call these the “ML papers”), plot the number of ML papers over time, and analyze and discuss the plot. Do you observe anything odd in this plot? What causes these problems?   \n",
    "_Hint: Try to perform an analysis at the conference or year level._   \n",
    "\n",
    "4. By now, you may have noticed that some conferences are not fully represented in the DBLP dataset. Complete the paper-centric dataframe by scraping the full NIPS data from the online proceedings at https://papers.nips.cc/ (maintain the same schema used in your previous dataframes, but fill in missing values). After this step, remove any remaining papers that have missing values. Redo the plots of steps A3.2 and A3.3 after fixing the issue.   \n",
    "\n",
    "_Note: In order to avoid re-running the cleaning part of the notebook every time, you could save the results at this point as a pickle file! Also, propagating your cleaning to both dataframes might prove useful later on._"
   ]
  },
  {
   "cell_type": "markdown",
   "metadata": {},
   "source": [
    "***A3.1***"
   ]
  },
  {
   "cell_type": "code",
   "execution_count": 11,
   "metadata": {
    "colab": {},
    "colab_type": "code",
    "id": "co_yXyk2TzHo",
    "scrolled": true
   },
   "outputs": [
    {
     "data": {
      "text/plain": [
       "(array([1.05753e+05, 6.00000e+01, 2.00000e+00, 0.00000e+00, 0.00000e+00,\n",
       "        0.00000e+00, 1.00000e+00, 0.00000e+00, 0.00000e+00, 2.00000e+00]),\n",
       " array([  1. ,  95.9, 190.8, 285.7, 380.6, 475.5, 570.4, 665.3, 760.2,\n",
       "        855.1, 950. ]),\n",
       " <a list of 10 Patch objects>)"
      ]
     },
     "execution_count": 11,
     "metadata": {},
     "output_type": "execute_result"
    },
    {
     "data": {
      "image/png": "[encoded data removed]",
      "text/plain": [
       "<Figure size 432x288 with 1 Axes>"
      ]
     },
     "metadata": {
      "needs_background": "light"
     },
     "output_type": "display_data"
    }
   ],
   "source": [
    "num_paper_per_author = conf_authors['author'].value_counts().values\n",
    "plt.hist(num_paper_per_author, log=True)"
   ]
  },
  {
   "cell_type": "markdown",
   "metadata": {},
   "source": [
    "It seems like there are a few outliers who have more papers than others, so we decided to check who are they."
   ]
  },
  {
   "cell_type": "code",
   "execution_count": 12,
   "metadata": {},
   "outputs": [
    {
     "data": {
      "text/plain": [
       "                           950\n",
       "Sheila A. McIlraith        918\n",
       "Satinder P. Singh (ed.)    663\n",
       "Luc Van Gool               220\n",
       "Toshio Fukuda              196\n",
       "Thomas S. Huang            186\n",
       "Michael I. Jordan          168\n",
       "Trevor Darrell             158\n",
       "Shuicheng Yan              154\n",
       "Takeo Kanade               151\n",
       "Name: author, dtype: int64"
      ]
     },
     "execution_count": 12,
     "metadata": {},
     "output_type": "execute_result"
    }
   ],
   "source": [
    "conf_authors['author'].value_counts().head(10)"
   ]
  },
  {
   "cell_type": "markdown",
   "metadata": {},
   "source": [
    "It turns out the author who has the most papers doesn't have a name. There must be some problems behind it, so we took a look at it."
   ]
  },
  {
   "cell_type": "code",
   "execution_count": 13,
   "metadata": {},
   "outputs": [
    {
     "data": {
      "text/html": [
       "<div>\n",
       "<style scoped>\n",
       "    .dataframe tbody tr th:only-of-type {\n",
       "        vertical-align: middle;\n",
       "    }\n",
       "\n",
       "    .dataframe tbody tr th {\n",
       "        vertical-align: top;\n",
       "    }\n",
       "\n",
       "    .dataframe thead th {\n",
       "        text-align: right;\n",
       "    }\n",
       "</style>\n",
       "<table border=\"1\" class=\"dataframe\">\n",
       "  <thead>\n",
       "    <tr style=\"text-align: right;\">\n",
       "      <th></th>\n",
       "      <th>id</th>\n",
       "      <th>year</th>\n",
       "      <th>title</th>\n",
       "      <th>conference</th>\n",
       "      <th>author</th>\n",
       "    </tr>\n",
       "  </thead>\n",
       "  <tbody>\n",
       "    <tr>\n",
       "      <td>21</td>\n",
       "      <td>conf/iccv/2007hci</td>\n",
       "      <td>2007</td>\n",
       "      <td>Human-Computer Interaction, IEEE International...</td>\n",
       "      <td>iccv</td>\n",
       "      <td></td>\n",
       "    </tr>\n",
       "    <tr>\n",
       "      <td>47</td>\n",
       "      <td>conf/iccv/2005hci</td>\n",
       "      <td>2005.0</td>\n",
       "      <td>Computer Vision in Human-Computer Interaction,...</td>\n",
       "      <td>iccv</td>\n",
       "      <td></td>\n",
       "    </tr>\n",
       "    <tr>\n",
       "      <td>357</td>\n",
       "      <td>conf/iccv/2005</td>\n",
       "      <td>&lt;i&gt;2005.0&lt;/i&gt;</td>\n",
       "      <td>10th IEEE International Conference on Computer...</td>\n",
       "      <td>iccv</td>\n",
       "      <td></td>\n",
       "    </tr>\n",
       "    <tr>\n",
       "      <td>366</td>\n",
       "      <td>conf/iccv/2011</td>\n",
       "      <td>2011.0</td>\n",
       "      <td>IEEE International Conference on Computer Visi...</td>\n",
       "      <td>iccv</td>\n",
       "      <td></td>\n",
       "    </tr>\n",
       "    <tr>\n",
       "      <td>559</td>\n",
       "      <td>conf/iccv/1998</td>\n",
       "      <td>'98</td>\n",
       "      <td>Procedings of the Sixth International Conferen...</td>\n",
       "      <td>iccv</td>\n",
       "      <td></td>\n",
       "    </tr>\n",
       "  </tbody>\n",
       "</table>\n",
       "</div>"
      ],
      "text/plain": [
       "                    id           year  \\\n",
       "21   conf/iccv/2007hci           2007   \n",
       "47   conf/iccv/2005hci         2005.0   \n",
       "357     conf/iccv/2005  <i>2005.0</i>   \n",
       "366     conf/iccv/2011         2011.0   \n",
       "559     conf/iccv/1998            '98   \n",
       "\n",
       "                                                 title conference author  \n",
       "21   Human-Computer Interaction, IEEE International...       iccv         \n",
       "47   Computer Vision in Human-Computer Interaction,...       iccv         \n",
       "357  10th IEEE International Conference on Computer...       iccv         \n",
       "366  IEEE International Conference on Computer Visi...       iccv         \n",
       "559  Procedings of the Sixth International Conferen...       iccv         "
      ]
     },
     "execution_count": 13,
     "metadata": {},
     "output_type": "execute_result"
    }
   ],
   "source": [
    "conf_authors[conf_authors['author'] == ''].head()"
   ]
  },
  {
   "cell_type": "code",
   "execution_count": 14,
   "metadata": {},
   "outputs": [
    {
     "data": {
      "text/plain": [
       "'Human-Computer Interaction, IEEE International Workshop, HCI 2007, Rio de Janeiro, Brazil, October 20, 2007, Proceedings'"
      ]
     },
     "execution_count": 14,
     "metadata": {},
     "output_type": "execute_result"
    }
   ],
   "source": [
    "conf_authors[conf_authors['author'] == ''].loc[21]['title']"
   ]
  },
  {
   "cell_type": "markdown",
   "metadata": {},
   "source": [
    "Sheila A. McIlraith is appearing in every 2018 aaai paper although he is not the author of any (we searched on dblp website). We guess maybe because he is the editor of it."
   ]
  },
  {
   "cell_type": "code",
   "execution_count": 15,
   "metadata": {},
   "outputs": [
    {
     "data": {
      "text/html": [
       "<div>\n",
       "<style scoped>\n",
       "    .dataframe tbody tr th:only-of-type {\n",
       "        vertical-align: middle;\n",
       "    }\n",
       "\n",
       "    .dataframe tbody tr th {\n",
       "        vertical-align: top;\n",
       "    }\n",
       "\n",
       "    .dataframe thead th {\n",
       "        text-align: right;\n",
       "    }\n",
       "</style>\n",
       "<table border=\"1\" class=\"dataframe\">\n",
       "  <thead>\n",
       "    <tr style=\"text-align: right;\">\n",
       "      <th></th>\n",
       "      <th>id</th>\n",
       "      <th>year</th>\n",
       "      <th>title</th>\n",
       "      <th>conference</th>\n",
       "      <th>author</th>\n",
       "    </tr>\n",
       "  </thead>\n",
       "  <tbody>\n",
       "    <tr>\n",
       "      <td>34101</td>\n",
       "      <td>conf/aaai/2018w</td>\n",
       "      <td>2018.0</td>\n",
       "      <td>The Workshops of the The Thirty-Second AAAI Co...</td>\n",
       "      <td>aaai</td>\n",
       "      <td>Sheila A. McIlraith</td>\n",
       "    </tr>\n",
       "    <tr>\n",
       "      <td>35347</td>\n",
       "      <td>conf/aaai/McIlraithS00</td>\n",
       "      <td>'00</td>\n",
       "      <td>What Sensing Tells Us: Towards a Formal Theory...</td>\n",
       "      <td>aaai</td>\n",
       "      <td>Sheila A. McIlraith</td>\n",
       "    </tr>\n",
       "    <tr>\n",
       "      <td>35462</td>\n",
       "      <td>conf/aaai/McIlraith97</td>\n",
       "      <td>&lt;em&gt;1997.0&lt;/em&gt;</td>\n",
       "      <td>Representing Actions and State Constraints in ...</td>\n",
       "      <td>aaai</td>\n",
       "      <td>Sheila A. McIlraith</td>\n",
       "    </tr>\n",
       "    <tr>\n",
       "      <td>38936</td>\n",
       "      <td>conf/aaai/2018</td>\n",
       "      <td>2018.0</td>\n",
       "      <td>Proceedings of the Thirty-Second AAAI Conferen...</td>\n",
       "      <td>aaai</td>\n",
       "      <td>Sheila A. McIlraith</td>\n",
       "    </tr>\n",
       "    <tr>\n",
       "      <td>81449</td>\n",
       "      <td>conf/ijcai/McIlraithA01</td>\n",
       "      <td>&lt;i&gt;2001.0&lt;/i&gt;</td>\n",
       "      <td>Theorem Proving with Structured Theories.</td>\n",
       "      <td>ijcai</td>\n",
       "      <td>Sheila A. McIlraith</td>\n",
       "    </tr>\n",
       "    <tr>\n",
       "      <td>...</td>\n",
       "      <td>...</td>\n",
       "      <td>...</td>\n",
       "      <td>...</td>\n",
       "      <td>...</td>\n",
       "      <td>...</td>\n",
       "    </tr>\n",
       "    <tr>\n",
       "      <td>1062659</td>\n",
       "      <td>conf/aaai/WangYGWKZCTZJ18</td>\n",
       "      <td>2018.0</td>\n",
       "      <td>R3: Reinforced Ranker-Reader for Open-Domain Q...</td>\n",
       "      <td>aaai</td>\n",
       "      <td>Sheila A. McIlraith</td>\n",
       "    </tr>\n",
       "    <tr>\n",
       "      <td>1155691</td>\n",
       "      <td>conf/aaai/BondiFHKDCHIJTN18</td>\n",
       "      <td>2018.0</td>\n",
       "      <td>SPOT Poachers in Action: Augmenting Conservati...</td>\n",
       "      <td>aaai</td>\n",
       "      <td>Sheila A. McIlraith</td>\n",
       "    </tr>\n",
       "    <tr>\n",
       "      <td>1160767</td>\n",
       "      <td>conf/aaai/BallingerHSSWTM18</td>\n",
       "      <td>2018.0</td>\n",
       "      <td>DeepHeart: Semi-Supervised Sequence Learning f...</td>\n",
       "      <td>aaai</td>\n",
       "      <td>Sheila A. McIlraith</td>\n",
       "    </tr>\n",
       "    <tr>\n",
       "      <td>1367572</td>\n",
       "      <td>conf/aaai/KrishnaswamyRAS18</td>\n",
       "      <td>2018.0</td>\n",
       "      <td>A Predictive Analytics Methodology to Assess a...</td>\n",
       "      <td>aaai</td>\n",
       "      <td>Sheila A. McIlraith</td>\n",
       "    </tr>\n",
       "    <tr>\n",
       "      <td>1465744</td>\n",
       "      <td>conf/aaai/HesterVPLSPHQSO18</td>\n",
       "      <td>2018.0</td>\n",
       "      <td>Deep Q-learning From Demonstrations.</td>\n",
       "      <td>aaai</td>\n",
       "      <td>Sheila A. McIlraith</td>\n",
       "    </tr>\n",
       "  </tbody>\n",
       "</table>\n",
       "<p>918 rows × 5 columns</p>\n",
       "</div>"
      ],
      "text/plain": [
       "                                  id             year  \\\n",
       "34101                conf/aaai/2018w           2018.0   \n",
       "35347         conf/aaai/McIlraithS00              '00   \n",
       "35462          conf/aaai/McIlraith97  <em>1997.0</em>   \n",
       "38936                 conf/aaai/2018           2018.0   \n",
       "81449        conf/ijcai/McIlraithA01    <i>2001.0</i>   \n",
       "...                              ...              ...   \n",
       "1062659    conf/aaai/WangYGWKZCTZJ18           2018.0   \n",
       "1155691  conf/aaai/BondiFHKDCHIJTN18           2018.0   \n",
       "1160767  conf/aaai/BallingerHSSWTM18           2018.0   \n",
       "1367572  conf/aaai/KrishnaswamyRAS18           2018.0   \n",
       "1465744  conf/aaai/HesterVPLSPHQSO18           2018.0   \n",
       "\n",
       "                                                     title conference  \\\n",
       "34101    The Workshops of the The Thirty-Second AAAI Co...       aaai   \n",
       "35347    What Sensing Tells Us: Towards a Formal Theory...       aaai   \n",
       "35462    Representing Actions and State Constraints in ...       aaai   \n",
       "38936    Proceedings of the Thirty-Second AAAI Conferen...       aaai   \n",
       "81449            Theorem Proving with Structured Theories.      ijcai   \n",
       "...                                                    ...        ...   \n",
       "1062659  R3: Reinforced Ranker-Reader for Open-Domain Q...       aaai   \n",
       "1155691  SPOT Poachers in Action: Augmenting Conservati...       aaai   \n",
       "1160767  DeepHeart: Semi-Supervised Sequence Learning f...       aaai   \n",
       "1367572  A Predictive Analytics Methodology to Assess a...       aaai   \n",
       "1465744               Deep Q-learning From Demonstrations.       aaai   \n",
       "\n",
       "                      author  \n",
       "34101    Sheila A. McIlraith  \n",
       "35347    Sheila A. McIlraith  \n",
       "35462    Sheila A. McIlraith  \n",
       "38936    Sheila A. McIlraith  \n",
       "81449    Sheila A. McIlraith  \n",
       "...                      ...  \n",
       "1062659  Sheila A. McIlraith  \n",
       "1155691  Sheila A. McIlraith  \n",
       "1160767  Sheila A. McIlraith  \n",
       "1367572  Sheila A. McIlraith  \n",
       "1465744  Sheila A. McIlraith  \n",
       "\n",
       "[918 rows x 5 columns]"
      ]
     },
     "execution_count": 15,
     "metadata": {},
     "output_type": "execute_result"
    }
   ],
   "source": [
    "conf_authors[conf_authors['author'] == 'Sheila A. McIlraith']"
   ]
  },
  {
   "cell_type": "markdown",
   "metadata": {},
   "source": [
    "It seems like that for some of the papers McIlraith is not the author (he's not in the id), so we looked into the id and checked whether he is the author or not."
   ]
  },
  {
   "cell_type": "code",
   "execution_count": 16,
   "metadata": {},
   "outputs": [
    {
     "data": {
      "text/html": [
       "<div>\n",
       "<style scoped>\n",
       "    .dataframe tbody tr th:only-of-type {\n",
       "        vertical-align: middle;\n",
       "    }\n",
       "\n",
       "    .dataframe tbody tr th {\n",
       "        vertical-align: top;\n",
       "    }\n",
       "\n",
       "    .dataframe thead th {\n",
       "        text-align: right;\n",
       "    }\n",
       "</style>\n",
       "<table border=\"1\" class=\"dataframe\">\n",
       "  <thead>\n",
       "    <tr style=\"text-align: right;\">\n",
       "      <th></th>\n",
       "      <th>id</th>\n",
       "      <th>year</th>\n",
       "      <th>title</th>\n",
       "      <th>conference</th>\n",
       "      <th>author</th>\n",
       "    </tr>\n",
       "  </thead>\n",
       "  <tbody>\n",
       "    <tr>\n",
       "      <td>34101</td>\n",
       "      <td>conf/aaai/2018w</td>\n",
       "      <td>2018.0</td>\n",
       "      <td>The Workshops of the The Thirty-Second AAAI Co...</td>\n",
       "      <td>aaai</td>\n",
       "      <td>Sheila A. McIlraith</td>\n",
       "    </tr>\n",
       "    <tr>\n",
       "      <td>38936</td>\n",
       "      <td>conf/aaai/2018</td>\n",
       "      <td>2018.0</td>\n",
       "      <td>Proceedings of the Thirty-Second AAAI Conferen...</td>\n",
       "      <td>aaai</td>\n",
       "      <td>Sheila A. McIlraith</td>\n",
       "    </tr>\n",
       "    <tr>\n",
       "      <td>134324</td>\n",
       "      <td>conf/aaai/Lorini18</td>\n",
       "      <td>2018.0</td>\n",
       "      <td>In Praise of Belief Bases: Doing Epistemic Log...</td>\n",
       "      <td>aaai</td>\n",
       "      <td>Sheila A. McIlraith</td>\n",
       "    </tr>\n",
       "    <tr>\n",
       "      <td>134419</td>\n",
       "      <td>conf/aaai/Abhishek18</td>\n",
       "      <td>2018.0</td>\n",
       "      <td>FgER: Fine-Grained Entity Recognition.</td>\n",
       "      <td>aaai</td>\n",
       "      <td>Sheila A. McIlraith</td>\n",
       "    </tr>\n",
       "    <tr>\n",
       "      <td>134513</td>\n",
       "      <td>conf/aaai/Heule18</td>\n",
       "      <td>2018.0</td>\n",
       "      <td>Schur Number Five.</td>\n",
       "      <td>aaai</td>\n",
       "      <td>Sheila A. McIlraith</td>\n",
       "    </tr>\n",
       "    <tr>\n",
       "      <td>...</td>\n",
       "      <td>...</td>\n",
       "      <td>...</td>\n",
       "      <td>...</td>\n",
       "      <td>...</td>\n",
       "      <td>...</td>\n",
       "    </tr>\n",
       "    <tr>\n",
       "      <td>1062659</td>\n",
       "      <td>conf/aaai/WangYGWKZCTZJ18</td>\n",
       "      <td>2018.0</td>\n",
       "      <td>R3: Reinforced Ranker-Reader for Open-Domain Q...</td>\n",
       "      <td>aaai</td>\n",
       "      <td>Sheila A. McIlraith</td>\n",
       "    </tr>\n",
       "    <tr>\n",
       "      <td>1155691</td>\n",
       "      <td>conf/aaai/BondiFHKDCHIJTN18</td>\n",
       "      <td>2018.0</td>\n",
       "      <td>SPOT Poachers in Action: Augmenting Conservati...</td>\n",
       "      <td>aaai</td>\n",
       "      <td>Sheila A. McIlraith</td>\n",
       "    </tr>\n",
       "    <tr>\n",
       "      <td>1160767</td>\n",
       "      <td>conf/aaai/BallingerHSSWTM18</td>\n",
       "      <td>2018.0</td>\n",
       "      <td>DeepHeart: Semi-Supervised Sequence Learning f...</td>\n",
       "      <td>aaai</td>\n",
       "      <td>Sheila A. McIlraith</td>\n",
       "    </tr>\n",
       "    <tr>\n",
       "      <td>1367572</td>\n",
       "      <td>conf/aaai/KrishnaswamyRAS18</td>\n",
       "      <td>2018.0</td>\n",
       "      <td>A Predictive Analytics Methodology to Assess a...</td>\n",
       "      <td>aaai</td>\n",
       "      <td>Sheila A. McIlraith</td>\n",
       "    </tr>\n",
       "    <tr>\n",
       "      <td>1465744</td>\n",
       "      <td>conf/aaai/HesterVPLSPHQSO18</td>\n",
       "      <td>2018.0</td>\n",
       "      <td>Deep Q-learning From Demonstrations.</td>\n",
       "      <td>aaai</td>\n",
       "      <td>Sheila A. McIlraith</td>\n",
       "    </tr>\n",
       "  </tbody>\n",
       "</table>\n",
       "<p>893 rows × 5 columns</p>\n",
       "</div>"
      ],
      "text/plain": [
       "                                  id    year  \\\n",
       "34101                conf/aaai/2018w  2018.0   \n",
       "38936                 conf/aaai/2018  2018.0   \n",
       "134324            conf/aaai/Lorini18  2018.0   \n",
       "134419          conf/aaai/Abhishek18  2018.0   \n",
       "134513             conf/aaai/Heule18  2018.0   \n",
       "...                              ...     ...   \n",
       "1062659    conf/aaai/WangYGWKZCTZJ18  2018.0   \n",
       "1155691  conf/aaai/BondiFHKDCHIJTN18  2018.0   \n",
       "1160767  conf/aaai/BallingerHSSWTM18  2018.0   \n",
       "1367572  conf/aaai/KrishnaswamyRAS18  2018.0   \n",
       "1465744  conf/aaai/HesterVPLSPHQSO18  2018.0   \n",
       "\n",
       "                                                     title conference  \\\n",
       "34101    The Workshops of the The Thirty-Second AAAI Co...       aaai   \n",
       "38936    Proceedings of the Thirty-Second AAAI Conferen...       aaai   \n",
       "134324   In Praise of Belief Bases: Doing Epistemic Log...       aaai   \n",
       "134419              FgER: Fine-Grained Entity Recognition.       aaai   \n",
       "134513                                  Schur Number Five.       aaai   \n",
       "...                                                    ...        ...   \n",
       "1062659  R3: Reinforced Ranker-Reader for Open-Domain Q...       aaai   \n",
       "1155691  SPOT Poachers in Action: Augmenting Conservati...       aaai   \n",
       "1160767  DeepHeart: Semi-Supervised Sequence Learning f...       aaai   \n",
       "1367572  A Predictive Analytics Methodology to Assess a...       aaai   \n",
       "1465744               Deep Q-learning From Demonstrations.       aaai   \n",
       "\n",
       "                      author  \n",
       "34101    Sheila A. McIlraith  \n",
       "38936    Sheila A. McIlraith  \n",
       "134324   Sheila A. McIlraith  \n",
       "134419   Sheila A. McIlraith  \n",
       "134513   Sheila A. McIlraith  \n",
       "...                      ...  \n",
       "1062659  Sheila A. McIlraith  \n",
       "1155691  Sheila A. McIlraith  \n",
       "1160767  Sheila A. McIlraith  \n",
       "1367572  Sheila A. McIlraith  \n",
       "1465744  Sheila A. McIlraith  \n",
       "\n",
       "[893 rows x 5 columns]"
      ]
     },
     "execution_count": 16,
     "metadata": {},
     "output_type": "execute_result"
    }
   ],
   "source": [
    "conf_authors[conf_authors['author'].apply(lambda x: x == 'Sheila A. McIlraith') & conf_authors['id'].apply(lambda x: '18' in x)]"
   ]
  },
  {
   "cell_type": "markdown",
   "metadata": {},
   "source": [
    "we can see Sheila A. McIlraith isn't in the id of 'conf/aaai/Lorini18'."
   ]
  },
  {
   "cell_type": "markdown",
   "metadata": {},
   "source": [
    "Satinder P. Singh (ed.) is appearing in every 2017 aaai paper although he is not the author of any (we searched on dblp website). We guess maybe because he is also the editor of it."
   ]
  },
  {
   "cell_type": "code",
   "execution_count": 17,
   "metadata": {},
   "outputs": [
    {
     "data": {
      "text/html": [
       "<div>\n",
       "<style scoped>\n",
       "    .dataframe tbody tr th:only-of-type {\n",
       "        vertical-align: middle;\n",
       "    }\n",
       "\n",
       "    .dataframe tbody tr th {\n",
       "        vertical-align: top;\n",
       "    }\n",
       "\n",
       "    .dataframe thead th {\n",
       "        text-align: right;\n",
       "    }\n",
       "</style>\n",
       "<table border=\"1\" class=\"dataframe\">\n",
       "  <thead>\n",
       "    <tr style=\"text-align: right;\">\n",
       "      <th></th>\n",
       "      <th>id</th>\n",
       "      <th>year</th>\n",
       "      <th>title</th>\n",
       "      <th>conference</th>\n",
       "      <th>author</th>\n",
       "    </tr>\n",
       "  </thead>\n",
       "  <tbody>\n",
       "    <tr>\n",
       "      <td>36976</td>\n",
       "      <td>conf/aaai/2017</td>\n",
       "      <td>2017.0</td>\n",
       "      <td>Proceedings of the Thirty-First AAAI Conferenc...</td>\n",
       "      <td>aaai</td>\n",
       "      <td>Satinder P. Singh (ed.)</td>\n",
       "    </tr>\n",
       "    <tr>\n",
       "      <td>38242</td>\n",
       "      <td>conf/aaai/2017w</td>\n",
       "      <td>2017.0</td>\n",
       "      <td>The Workshops of the The Thirty-First AAAI Con...</td>\n",
       "      <td>aaai</td>\n",
       "      <td>Satinder P. Singh (ed.)</td>\n",
       "    </tr>\n",
       "    <tr>\n",
       "      <td>134421</td>\n",
       "      <td>conf/aaai/Luger17</td>\n",
       "      <td>2017.0</td>\n",
       "      <td>Beyond Mechanical Turk: Using Techniques from ...</td>\n",
       "      <td>aaai</td>\n",
       "      <td>Satinder P. Singh (ed.)</td>\n",
       "    </tr>\n",
       "    <tr>\n",
       "      <td>134437</td>\n",
       "      <td>conf/aaai/Beckers17</td>\n",
       "      <td>2017.0</td>\n",
       "      <td>AAAI: An Argument Against Artificial Intellige...</td>\n",
       "      <td>aaai</td>\n",
       "      <td>Satinder P. Singh (ed.)</td>\n",
       "    </tr>\n",
       "    <tr>\n",
       "      <td>134490</td>\n",
       "      <td>conf/aaai/Sheh17</td>\n",
       "      <td>2017.0</td>\n",
       "      <td>\"Why Did You Do That?\" Explainable Intelligent...</td>\n",
       "      <td>aaai</td>\n",
       "      <td>Satinder P. Singh (ed.)</td>\n",
       "    </tr>\n",
       "    <tr>\n",
       "      <td>...</td>\n",
       "      <td>...</td>\n",
       "      <td>...</td>\n",
       "      <td>...</td>\n",
       "      <td>...</td>\n",
       "      <td>...</td>\n",
       "    </tr>\n",
       "    <tr>\n",
       "      <td>855321</td>\n",
       "      <td>conf/aaai/KhandpurJNZLSAR17</td>\n",
       "      <td>2017.0</td>\n",
       "      <td>Determining Relative Airport Threats from News...</td>\n",
       "      <td>aaai</td>\n",
       "      <td>Satinder P. Singh (ed.)</td>\n",
       "    </tr>\n",
       "    <tr>\n",
       "      <td>856313</td>\n",
       "      <td>conf/aaai/PrakashZHDLQLF17</td>\n",
       "      <td>2017.0</td>\n",
       "      <td>Condensed Memory Networks for Clinical Diagnos...</td>\n",
       "      <td>aaai</td>\n",
       "      <td>Satinder P. Singh (ed.)</td>\n",
       "    </tr>\n",
       "    <tr>\n",
       "      <td>955570</td>\n",
       "      <td>conf/aaai/HuRMGBFMBE17</td>\n",
       "      <td>2017.0</td>\n",
       "      <td>Integrating Verbal and Nonvebval Input into a ...</td>\n",
       "      <td>aaai</td>\n",
       "      <td>Satinder P. Singh (ed.)</td>\n",
       "    </tr>\n",
       "    <tr>\n",
       "      <td>1053133</td>\n",
       "      <td>conf/aaai/RosuABCCFGLRS17</td>\n",
       "      <td>2017.0</td>\n",
       "      <td>Knowledge-Based Provision of Goods and Service...</td>\n",
       "      <td>aaai</td>\n",
       "      <td>Satinder P. Singh (ed.)</td>\n",
       "    </tr>\n",
       "    <tr>\n",
       "      <td>1156740</td>\n",
       "      <td>conf/aaai/XueBBRBBLSDGG17</td>\n",
       "      <td>2017.0</td>\n",
       "      <td>Phase-Mapper: An AI Platform to Accelerate Hig...</td>\n",
       "      <td>aaai</td>\n",
       "      <td>Satinder P. Singh (ed.)</td>\n",
       "    </tr>\n",
       "  </tbody>\n",
       "</table>\n",
       "<p>663 rows × 5 columns</p>\n",
       "</div>"
      ],
      "text/plain": [
       "                                  id    year  \\\n",
       "36976                 conf/aaai/2017  2017.0   \n",
       "38242                conf/aaai/2017w  2017.0   \n",
       "134421             conf/aaai/Luger17  2017.0   \n",
       "134437           conf/aaai/Beckers17  2017.0   \n",
       "134490              conf/aaai/Sheh17  2017.0   \n",
       "...                              ...     ...   \n",
       "855321   conf/aaai/KhandpurJNZLSAR17  2017.0   \n",
       "856313    conf/aaai/PrakashZHDLQLF17  2017.0   \n",
       "955570        conf/aaai/HuRMGBFMBE17  2017.0   \n",
       "1053133    conf/aaai/RosuABCCFGLRS17  2017.0   \n",
       "1156740    conf/aaai/XueBBRBBLSDGG17  2017.0   \n",
       "\n",
       "                                                     title conference  \\\n",
       "36976    Proceedings of the Thirty-First AAAI Conferenc...       aaai   \n",
       "38242    The Workshops of the The Thirty-First AAAI Con...       aaai   \n",
       "134421   Beyond Mechanical Turk: Using Techniques from ...       aaai   \n",
       "134437   AAAI: An Argument Against Artificial Intellige...       aaai   \n",
       "134490   \"Why Did You Do That?\" Explainable Intelligent...       aaai   \n",
       "...                                                    ...        ...   \n",
       "855321   Determining Relative Airport Threats from News...       aaai   \n",
       "856313   Condensed Memory Networks for Clinical Diagnos...       aaai   \n",
       "955570   Integrating Verbal and Nonvebval Input into a ...       aaai   \n",
       "1053133  Knowledge-Based Provision of Goods and Service...       aaai   \n",
       "1156740  Phase-Mapper: An AI Platform to Accelerate Hig...       aaai   \n",
       "\n",
       "                          author  \n",
       "36976    Satinder P. Singh (ed.)  \n",
       "38242    Satinder P. Singh (ed.)  \n",
       "134421   Satinder P. Singh (ed.)  \n",
       "134437   Satinder P. Singh (ed.)  \n",
       "134490   Satinder P. Singh (ed.)  \n",
       "...                          ...  \n",
       "855321   Satinder P. Singh (ed.)  \n",
       "856313   Satinder P. Singh (ed.)  \n",
       "955570   Satinder P. Singh (ed.)  \n",
       "1053133  Satinder P. Singh (ed.)  \n",
       "1156740  Satinder P. Singh (ed.)  \n",
       "\n",
       "[663 rows x 5 columns]"
      ]
     },
     "execution_count": 17,
     "metadata": {},
     "output_type": "execute_result"
    }
   ],
   "source": [
    "conf_authors[conf_authors['author'] == 'Satinder P. Singh (ed.)']"
   ]
  },
  {
   "cell_type": "markdown",
   "metadata": {},
   "source": [
    "We might as well check are there any other authors who have (ed.) in their name (which should indicate they are the editors and not the author)"
   ]
  },
  {
   "cell_type": "code",
   "execution_count": 18,
   "metadata": {},
   "outputs": [
    {
     "data": {
      "text/html": [
       "<div>\n",
       "<style scoped>\n",
       "    .dataframe tbody tr th:only-of-type {\n",
       "        vertical-align: middle;\n",
       "    }\n",
       "\n",
       "    .dataframe tbody tr th {\n",
       "        vertical-align: top;\n",
       "    }\n",
       "\n",
       "    .dataframe thead th {\n",
       "        text-align: right;\n",
       "    }\n",
       "</style>\n",
       "<table border=\"1\" class=\"dataframe\">\n",
       "  <thead>\n",
       "    <tr style=\"text-align: right;\">\n",
       "      <th></th>\n",
       "      <th>id</th>\n",
       "      <th>year</th>\n",
       "      <th>title</th>\n",
       "      <th>conference</th>\n",
       "      <th>author</th>\n",
       "    </tr>\n",
       "  </thead>\n",
       "  <tbody>\n",
       "    <tr>\n",
       "      <td>36976</td>\n",
       "      <td>conf/aaai/2017</td>\n",
       "      <td>2017.0</td>\n",
       "      <td>Proceedings of the Thirty-First AAAI Conferenc...</td>\n",
       "      <td>aaai</td>\n",
       "      <td>Satinder P. Singh (ed.)</td>\n",
       "    </tr>\n",
       "    <tr>\n",
       "      <td>38242</td>\n",
       "      <td>conf/aaai/2017w</td>\n",
       "      <td>2017.0</td>\n",
       "      <td>The Workshops of the The Thirty-First AAAI Con...</td>\n",
       "      <td>aaai</td>\n",
       "      <td>Satinder P. Singh (ed.)</td>\n",
       "    </tr>\n",
       "    <tr>\n",
       "      <td>134421</td>\n",
       "      <td>conf/aaai/Luger17</td>\n",
       "      <td>2017.0</td>\n",
       "      <td>Beyond Mechanical Turk: Using Techniques from ...</td>\n",
       "      <td>aaai</td>\n",
       "      <td>Satinder P. Singh (ed.)</td>\n",
       "    </tr>\n",
       "    <tr>\n",
       "      <td>134437</td>\n",
       "      <td>conf/aaai/Beckers17</td>\n",
       "      <td>2017.0</td>\n",
       "      <td>AAAI: An Argument Against Artificial Intellige...</td>\n",
       "      <td>aaai</td>\n",
       "      <td>Satinder P. Singh (ed.)</td>\n",
       "    </tr>\n",
       "    <tr>\n",
       "      <td>134490</td>\n",
       "      <td>conf/aaai/Sheh17</td>\n",
       "      <td>2017.0</td>\n",
       "      <td>\"Why Did You Do That?\" Explainable Intelligent...</td>\n",
       "      <td>aaai</td>\n",
       "      <td>Satinder P. Singh (ed.)</td>\n",
       "    </tr>\n",
       "    <tr>\n",
       "      <td>...</td>\n",
       "      <td>...</td>\n",
       "      <td>...</td>\n",
       "      <td>...</td>\n",
       "      <td>...</td>\n",
       "      <td>...</td>\n",
       "    </tr>\n",
       "    <tr>\n",
       "      <td>855321</td>\n",
       "      <td>conf/aaai/KhandpurJNZLSAR17</td>\n",
       "      <td>2017.0</td>\n",
       "      <td>Determining Relative Airport Threats from News...</td>\n",
       "      <td>aaai</td>\n",
       "      <td>Satinder P. Singh (ed.)</td>\n",
       "    </tr>\n",
       "    <tr>\n",
       "      <td>856313</td>\n",
       "      <td>conf/aaai/PrakashZHDLQLF17</td>\n",
       "      <td>2017.0</td>\n",
       "      <td>Condensed Memory Networks for Clinical Diagnos...</td>\n",
       "      <td>aaai</td>\n",
       "      <td>Satinder P. Singh (ed.)</td>\n",
       "    </tr>\n",
       "    <tr>\n",
       "      <td>955570</td>\n",
       "      <td>conf/aaai/HuRMGBFMBE17</td>\n",
       "      <td>2017.0</td>\n",
       "      <td>Integrating Verbal and Nonvebval Input into a ...</td>\n",
       "      <td>aaai</td>\n",
       "      <td>Satinder P. Singh (ed.)</td>\n",
       "    </tr>\n",
       "    <tr>\n",
       "      <td>1053133</td>\n",
       "      <td>conf/aaai/RosuABCCFGLRS17</td>\n",
       "      <td>2017.0</td>\n",
       "      <td>Knowledge-Based Provision of Goods and Service...</td>\n",
       "      <td>aaai</td>\n",
       "      <td>Satinder P. Singh (ed.)</td>\n",
       "    </tr>\n",
       "    <tr>\n",
       "      <td>1156740</td>\n",
       "      <td>conf/aaai/XueBBRBBLSDGG17</td>\n",
       "      <td>2017.0</td>\n",
       "      <td>Phase-Mapper: An AI Platform to Accelerate Hig...</td>\n",
       "      <td>aaai</td>\n",
       "      <td>Satinder P. Singh (ed.)</td>\n",
       "    </tr>\n",
       "  </tbody>\n",
       "</table>\n",
       "<p>663 rows × 5 columns</p>\n",
       "</div>"
      ],
      "text/plain": [
       "                                  id    year  \\\n",
       "36976                 conf/aaai/2017  2017.0   \n",
       "38242                conf/aaai/2017w  2017.0   \n",
       "134421             conf/aaai/Luger17  2017.0   \n",
       "134437           conf/aaai/Beckers17  2017.0   \n",
       "134490              conf/aaai/Sheh17  2017.0   \n",
       "...                              ...     ...   \n",
       "855321   conf/aaai/KhandpurJNZLSAR17  2017.0   \n",
       "856313    conf/aaai/PrakashZHDLQLF17  2017.0   \n",
       "955570        conf/aaai/HuRMGBFMBE17  2017.0   \n",
       "1053133    conf/aaai/RosuABCCFGLRS17  2017.0   \n",
       "1156740    conf/aaai/XueBBRBBLSDGG17  2017.0   \n",
       "\n",
       "                                                     title conference  \\\n",
       "36976    Proceedings of the Thirty-First AAAI Conferenc...       aaai   \n",
       "38242    The Workshops of the The Thirty-First AAAI Con...       aaai   \n",
       "134421   Beyond Mechanical Turk: Using Techniques from ...       aaai   \n",
       "134437   AAAI: An Argument Against Artificial Intellige...       aaai   \n",
       "134490   \"Why Did You Do That?\" Explainable Intelligent...       aaai   \n",
       "...                                                    ...        ...   \n",
       "855321   Determining Relative Airport Threats from News...       aaai   \n",
       "856313   Condensed Memory Networks for Clinical Diagnos...       aaai   \n",
       "955570   Integrating Verbal and Nonvebval Input into a ...       aaai   \n",
       "1053133  Knowledge-Based Provision of Goods and Service...       aaai   \n",
       "1156740  Phase-Mapper: An AI Platform to Accelerate Hig...       aaai   \n",
       "\n",
       "                          author  \n",
       "36976    Satinder P. Singh (ed.)  \n",
       "38242    Satinder P. Singh (ed.)  \n",
       "134421   Satinder P. Singh (ed.)  \n",
       "134437   Satinder P. Singh (ed.)  \n",
       "134490   Satinder P. Singh (ed.)  \n",
       "...                          ...  \n",
       "855321   Satinder P. Singh (ed.)  \n",
       "856313   Satinder P. Singh (ed.)  \n",
       "955570   Satinder P. Singh (ed.)  \n",
       "1053133  Satinder P. Singh (ed.)  \n",
       "1156740  Satinder P. Singh (ed.)  \n",
       "\n",
       "[663 rows x 5 columns]"
      ]
     },
     "execution_count": 18,
     "metadata": {},
     "output_type": "execute_result"
    }
   ],
   "source": [
    "conf_authors[conf_authors['author'].apply(lambda x: '(ed.)' in x)]"
   ]
  },
  {
   "cell_type": "markdown",
   "metadata": {},
   "source": [
    "Ok, so it's just Satinder P. Singh(ed.), cause the total number is the same."
   ]
  },
  {
   "cell_type": "markdown",
   "metadata": {},
   "source": [
    "We should remove the above mentioned outliers."
   ]
  },
  {
   "cell_type": "code",
   "execution_count": 19,
   "metadata": {},
   "outputs": [],
   "source": [
    "new_conf_authors = conf_authors[conf_authors['author'].apply(lambda x: x != '')]\n",
    "removed_ids_sheila = new_conf_authors[new_conf_authors['author'].apply(lambda x: x == 'Sheila A. McIlraith') & new_conf_authors['id'].apply(lambda x: '18' in x)]['id'].values\n",
    "removed_ids_satinder = new_conf_authors[new_conf_authors['author'] == 'Satinder P. Singh (ed.)']['id'].values\n",
    "new_conf_authors = new_conf_authors[new_conf_authors['id'].apply(lambda x: x not in removed_ids_sheila and x not in removed_ids_satinder)].copy()"
   ]
  },
  {
   "cell_type": "code",
   "execution_count": 20,
   "metadata": {},
   "outputs": [],
   "source": [
    "new_conf_papers = conf_papers[conf_papers['authors'] != '[]']\n",
    "new_conf_papers = new_conf_papers[new_conf_papers['id'].apply(lambda x: x not in removed_ids_sheila and x not in removed_ids_satinder)].copy()"
   ]
  },
  {
   "cell_type": "code",
   "execution_count": 21,
   "metadata": {},
   "outputs": [
    {
     "data": {
      "text/plain": [
       "True"
      ]
     },
     "execution_count": 21,
     "metadata": {},
     "output_type": "execute_result"
    }
   ],
   "source": [
    "# check if the number of papers are equal in these two dataframs\n",
    "new_conf_papers.shape[0] == new_conf_authors['id'].unique().size"
   ]
  },
  {
   "cell_type": "code",
   "execution_count": 22,
   "metadata": {},
   "outputs": [
    {
     "data": {
      "image/png": "[encoded data removed]",
      "text/plain": [
       "<Figure size 432x288 with 1 Axes>"
      ]
     },
     "metadata": {
      "needs_background": "light"
     },
     "output_type": "display_data"
    }
   ],
   "source": [
    "# plot the number of papers per author\n",
    "num_paper_per_author = new_conf_authors['author'].value_counts().hist(log=True)"
   ]
  },
  {
   "cell_type": "markdown",
   "metadata": {},
   "source": [
    "***A3.2***"
   ]
  },
  {
   "cell_type": "code",
   "execution_count": 23,
   "metadata": {
    "scrolled": true
   },
   "outputs": [
    {
     "data": {
      "text/plain": [
       "<matplotlib.axes._subplots.AxesSubplot at 0x11088bcd0>"
      ]
     },
     "execution_count": 23,
     "metadata": {},
     "output_type": "execute_result"
    },
    {
     "data": {
      "image/png": "[encoded data removed]",
      "text/plain": [
       "<Figure size 432x288 with 1 Axes>"
      ]
     },
     "metadata": {
      "needs_background": "light"
     },
     "output_type": "display_data"
    }
   ],
   "source": [
    "new_conf_papers['year'].value_counts().sort_index().plot()"
   ]
  },
  {
   "cell_type": "markdown",
   "metadata": {},
   "source": [
    "The labels (x-axis) are clearly not all numbers, let's check what are the problems."
   ]
  },
  {
   "cell_type": "code",
   "execution_count": 24,
   "metadata": {},
   "outputs": [
    {
     "data": {
      "text/plain": [
       "array(['2018.0', '2017.0', '2015.0', '2016.0', '2013.0', '2014.0',\n",
       "       '2012.0', '2011.0', '2007.0', '2009.0', '2006.0', '2010.0',\n",
       "       '2005.0', '2008.0', '2004.0', '2003.0', '1998.0', '1997.0',\n",
       "       '2001.0', '2000.0', '1999.0', '1996.0', '2002.0', '1993.0',\n",
       "       '1995.0', '1994.0', '1991.0', '<em>2018.0</em>', \"'18\",\n",
       "       '<i>2018.0</i>', '1992.0', '1989.0', '<i>2017.0</i>',\n",
       "       '<em>2017.0</em>', \"'17\", '1990.0', '<em>2015.0</em>', '1988.0',\n",
       "       '<i>2015.0</i>', '1987.0', \"'15\", \"'16\", '<i>2016.0</i>',\n",
       "       '<em>2016.0</em>', '<em>2013.0</em>', '?', '<i>2014.0</i>', \"'12\",\n",
       "       '<i>2013.0</i>', \"'13\", '<i>2007.0</i>', '<em>2014.0</em>',\n",
       "       '<em>2012.0</em>', \"'14\", '<em>2007.0</em>', '<i>2011.0</i>',\n",
       "       \"'07\", '<i>2012.0</i>', '<em>2010.0</em>', '<i>2009.0</i>', \"'11\",\n",
       "       '1986.0', '<em>2011.0</em>', '<i>2010.0</i>', '<em>2006.0</em>',\n",
       "       \"'10\", \"'09\", '<em>2009.0</em>', '<em>2008.0</em>', \"'08\",\n",
       "       '<i>2005.0</i>', \"'06\", '<em>2005.0</em>', '1985.0',\n",
       "       '<i>2008.0</i>', '<i>2006.0</i>', '<em>2004.0</em>', \"'05\", \"'04\",\n",
       "       '1983.0', '<em>1998.0</em>', '<i>2003.0</i>', \"'03\",\n",
       "       '<i>1998.0</i>', '<em>2003.0</em>', '<i>2004.0</i>', \"'98\", \"'01\",\n",
       "       '<i>1997.0</i>', '<em>2001.0</em>', \"'97\", '<i>2001.0</i>',\n",
       "       '<em>2002.0</em>', '<i>1999.0</i>', '1981.0', '<i>2002.0</i>',\n",
       "       '<em>1997.0</em>', '1979.0', \"'00\", '1977.0', '<em>2000.0</em>',\n",
       "       \"'99\", '<em>1999.0</em>', \"'96\", '<i>2000.0</i>', \"'02\", \"'93\",\n",
       "       '<em>1995.0</em>', '<em>1993.0</em>', '<i>1996.0</i>',\n",
       "       '<em>1996.0</em>', '<em>1991.0</em>', \"'91\", '<i>1991.0</i>',\n",
       "       '<em>1994.0</em>', '<i>1993.0</i>', '<i>1995.0</i>', \"'94\",\n",
       "       '<i>1994.0</i>', '<em>1989.0</em>', '<em>1992.0</em>',\n",
       "       '<i>1992.0</i>', \"'95\", \"'90\", '1975.0', '1980.0', \"'92\", '1984.0',\n",
       "       '<em>1990.0</em>', '<em>1988.0</em>', '<i>1989.0</i>',\n",
       "       '<i>1990.0</i>', '1982.0', \"'89\", \"'88\", '<em>1987.0</em>',\n",
       "       '<i>1988.0</i>', \"'87\", '<i>1987.0</i>', '<i>?</i>', \"'86\",\n",
       "       '1973.0', '<em>1985.0</em>', '<em>1986.0</em>', '<em>?</em>',\n",
       "       '<i>1986.0</i>', \"'85\", '1971.0', '<i>1983.0</i>',\n",
       "       '<em>1983.0</em>', '1969.0', \"'83\", \"'79\", \"'81\", \"'77\",\n",
       "       '<i>1985.0</i>', '<i>1979.0</i>', '<i>1981.0</i>', \"'82\",\n",
       "       '<i>1977.0</i>', '<em>1975.0</em>', '<em>1979.0</em>',\n",
       "       '<em>1981.0</em>', \"'80\", '<em>1977.0</em>', \"'84\",\n",
       "       '<i>1982.0</i>', '<i>1984.0</i>', '<i>1975.0</i>',\n",
       "       '<em>1982.0</em>', '<em>1984.0</em>', '<i>1980.0</i>', \"'75\",\n",
       "       \"'69\", '<i>1971.0</i>', '<em>1971.0</em>', '<em>1973.0</em>',\n",
       "       '<em>1980.0</em>', '<i>1973.0</i>', \"'71\", '<em>1969.0</em>',\n",
       "       '<i>1969.0</i>', \"'73\", '2013', '2011', '2001', '2015', '2010',\n",
       "       '2018', '1998', '2004', '2017', '2009', '2014', '2005', '1990',\n",
       "       '2006'], dtype=object)"
      ]
     },
     "execution_count": 24,
     "metadata": {},
     "output_type": "execute_result"
    }
   ],
   "source": [
    "new_conf_papers['year'].value_counts().index.values"
   ]
  },
  {
   "cell_type": "markdown",
   "metadata": {},
   "source": [
    "There are several problems.\n",
    "\n",
    "First, there are some values in column year that do not just contain number but some invalid string (e.g. \\<i>, \\<em>).  \n",
    "Second, some values are int values and some are float values (e.g. 2017, 2017.0).  \n",
    "Third, some values only contain the last two digit or the last digit of the year (e.g. '71, '73).  \n",
    "Last, there are some ? year.\n",
    "\n",
    "We need to fix these problems."
   ]
  },
  {
   "cell_type": "code",
   "execution_count": 25,
   "metadata": {},
   "outputs": [],
   "source": [
    "def handle_errors(x, invalid_string):\n",
    "    # remove invalid string\n",
    "    x = x.strip()\n",
    "    for tag in invalid_string:\n",
    "        x = x.replace(tag, '')\n",
    "    # handle ? year, we set it to nan now and will fill in the value in the next A3.4\n",
    "    if x == '?':\n",
    "        x = np.nan\n",
    "    else:\n",
    "        # make every year into a float value\n",
    "        x = float(x)\n",
    "    # convert it into four digits number\n",
    "    if x < 100:\n",
    "        # we set <19 because the newest paper is from 2018\n",
    "        if x < 19:\n",
    "            x += 2000\n",
    "        else:\n",
    "            x += 1900\n",
    "    return x\n",
    "\n",
    "invalid_string = ['<i>', '</i>', '<em>', '</em>', '\\'']\n",
    "new_conf_papers['year'] = new_conf_papers['year'].apply(handle_errors, invalid_string=invalid_string)"
   ]
  },
  {
   "cell_type": "code",
   "execution_count": 26,
   "metadata": {},
   "outputs": [],
   "source": [
    "# apply the same function to new_conf_authors\n",
    "new_conf_authors['year'] = new_conf_authors['year'].apply(handle_errors, invalid_string=invalid_string)"
   ]
  },
  {
   "cell_type": "code",
   "execution_count": 27,
   "metadata": {},
   "outputs": [
    {
     "data": {
      "text/plain": [
       "True"
      ]
     },
     "execution_count": 27,
     "metadata": {},
     "output_type": "execute_result"
    }
   ],
   "source": [
    "# check if the number of papers are equal in these two dataframs \n",
    "new_conf_papers.shape[0] == new_conf_authors['id'].unique().size"
   ]
  },
  {
   "cell_type": "code",
   "execution_count": 28,
   "metadata": {},
   "outputs": [
    {
     "data": {
      "text/plain": [
       "array([2018., 2017., 2015., 2016., 2013., 2014., 2012., 2011., 2007.,\n",
       "       2009., 2010., 2006., 2005., 2008., 2004., 2003., 1998., 2001.,\n",
       "       1997., 2000., 1999., 2002., 1996., 1993., 1995., 1994., 1991.,\n",
       "       1992., 1989., 1990., 1988., 1987., 1986., 1985., 1983., 1981.,\n",
       "       1979., 1977., 1975., 1984., 1982., 1980., 1973., 1971., 1969.])"
      ]
     },
     "execution_count": 28,
     "metadata": {},
     "output_type": "execute_result"
    }
   ],
   "source": [
    "# check the modified year value\n",
    "new_conf_papers['year'].value_counts().index.values"
   ]
  },
  {
   "cell_type": "markdown",
   "metadata": {},
   "source": [
    "There must be some problems for the ? year (now we get 630 papers with ? year which we turned it into NaN)."
   ]
  },
  {
   "cell_type": "code",
   "execution_count": 29,
   "metadata": {},
   "outputs": [
    {
     "data": {
      "text/html": [
       "<div>\n",
       "<style scoped>\n",
       "    .dataframe tbody tr th:only-of-type {\n",
       "        vertical-align: middle;\n",
       "    }\n",
       "\n",
       "    .dataframe tbody tr th {\n",
       "        vertical-align: top;\n",
       "    }\n",
       "\n",
       "    .dataframe thead th {\n",
       "        text-align: right;\n",
       "    }\n",
       "</style>\n",
       "<table border=\"1\" class=\"dataframe\">\n",
       "  <thead>\n",
       "    <tr style=\"text-align: right;\">\n",
       "      <th></th>\n",
       "      <th>id</th>\n",
       "      <th>authors</th>\n",
       "      <th>year</th>\n",
       "      <th>title</th>\n",
       "      <th>conference</th>\n",
       "    </tr>\n",
       "  </thead>\n",
       "  <tbody>\n",
       "    <tr>\n",
       "      <td>62045</td>\n",
       "      <td>conf/nips/WangSJ11</td>\n",
       "      <td>['Zuoguan Wang', 'Gerwin Schalk', 'Qiang Ji']</td>\n",
       "      <td>NaN</td>\n",
       "      <td>Anatomically Constrained Decoding of Finger Fl...</td>\n",
       "      <td>nips</td>\n",
       "    </tr>\n",
       "    <tr>\n",
       "      <td>62073</td>\n",
       "      <td>conf/nips/BachM10</td>\n",
       "      <td>['Stephen H. Bach', 'Marcus A. Maloof']</td>\n",
       "      <td>NaN</td>\n",
       "      <td>A Bayesian Approach to Concept Drift.</td>\n",
       "      <td>nips</td>\n",
       "    </tr>\n",
       "    <tr>\n",
       "      <td>62077</td>\n",
       "      <td>conf/nips/RamkumarPHLL11</td>\n",
       "      <td>['Pavan Ramkumar', 'Sebastian Pannasch', 'Bruc...</td>\n",
       "      <td>NaN</td>\n",
       "      <td>How Does the Brain Represent Visual Scenes? A ...</td>\n",
       "      <td>nips</td>\n",
       "    </tr>\n",
       "    <tr>\n",
       "      <td>62088</td>\n",
       "      <td>conf/nips/KolarBRS11</td>\n",
       "      <td>['Mladen Kolar', 'Sivaraman Balakrishnan', 'Al...</td>\n",
       "      <td>NaN</td>\n",
       "      <td>Minimax Localization of Structural Information...</td>\n",
       "      <td>nips</td>\n",
       "    </tr>\n",
       "    <tr>\n",
       "      <td>62105</td>\n",
       "      <td>conf/nips/LempitskyZ10</td>\n",
       "      <td>['Victor S. Lempitsky', 'Andrew Zisserman']</td>\n",
       "      <td>NaN</td>\n",
       "      <td>Learning To Count Objects in Images.</td>\n",
       "      <td>nips</td>\n",
       "    </tr>\n",
       "    <tr>\n",
       "      <td>...</td>\n",
       "      <td>...</td>\n",
       "      <td>...</td>\n",
       "      <td>...</td>\n",
       "      <td>...</td>\n",
       "      <td>...</td>\n",
       "    </tr>\n",
       "    <tr>\n",
       "      <td>70428</td>\n",
       "      <td>conf/nips/WangLSDC10</td>\n",
       "      <td>['Eric Wang', 'Dehong Liu', 'Jorge G. Silva', ...</td>\n",
       "      <td>NaN</td>\n",
       "      <td>Joint Analysis of Time-Evolving Binary Matrice...</td>\n",
       "      <td>nips</td>\n",
       "    </tr>\n",
       "    <tr>\n",
       "      <td>70440</td>\n",
       "      <td>conf/nips/FroyenFS10</td>\n",
       "      <td>['Vicky Froyen', 'Jacob Feldman', 'Manish Sing...</td>\n",
       "      <td>NaN</td>\n",
       "      <td>A Bayesian Framework for Figure-Ground Interpr...</td>\n",
       "      <td>nips</td>\n",
       "    </tr>\n",
       "    <tr>\n",
       "      <td>70451</td>\n",
       "      <td>conf/nips/BellalaBS10</td>\n",
       "      <td>['Gowtham Bellala', 'Suresh K. Bhavnani', 'Cla...</td>\n",
       "      <td>NaN</td>\n",
       "      <td>Extensions of Generalized Binary Search to Gro...</td>\n",
       "      <td>nips</td>\n",
       "    </tr>\n",
       "    <tr>\n",
       "      <td>70466</td>\n",
       "      <td>conf/nips/AndersenMSHM11</td>\n",
       "      <td>['Kasper Winther Andersen', 'Kristoffer Hougaa...</td>\n",
       "      <td>NaN</td>\n",
       "      <td>Identification of Functional Clusters in the S...</td>\n",
       "      <td>nips</td>\n",
       "    </tr>\n",
       "    <tr>\n",
       "      <td>70471</td>\n",
       "      <td>conf/nips/LiSC11</td>\n",
       "      <td>['Congcong Li', 'Ashutosh Saxena', 'Tsuhan Chen']</td>\n",
       "      <td>NaN</td>\n",
       "      <td>$\\theta$-MRF: Capturing Spatial and Semantic S...</td>\n",
       "      <td>nips</td>\n",
       "    </tr>\n",
       "  </tbody>\n",
       "</table>\n",
       "<p>630 rows × 5 columns</p>\n",
       "</div>"
      ],
      "text/plain": [
       "                             id  \\\n",
       "62045        conf/nips/WangSJ11   \n",
       "62073         conf/nips/BachM10   \n",
       "62077  conf/nips/RamkumarPHLL11   \n",
       "62088      conf/nips/KolarBRS11   \n",
       "62105    conf/nips/LempitskyZ10   \n",
       "...                         ...   \n",
       "70428      conf/nips/WangLSDC10   \n",
       "70440      conf/nips/FroyenFS10   \n",
       "70451     conf/nips/BellalaBS10   \n",
       "70466  conf/nips/AndersenMSHM11   \n",
       "70471          conf/nips/LiSC11   \n",
       "\n",
       "                                                 authors  year  \\\n",
       "62045      ['Zuoguan Wang', 'Gerwin Schalk', 'Qiang Ji']   NaN   \n",
       "62073            ['Stephen H. Bach', 'Marcus A. Maloof']   NaN   \n",
       "62077  ['Pavan Ramkumar', 'Sebastian Pannasch', 'Bruc...   NaN   \n",
       "62088  ['Mladen Kolar', 'Sivaraman Balakrishnan', 'Al...   NaN   \n",
       "62105        ['Victor S. Lempitsky', 'Andrew Zisserman']   NaN   \n",
       "...                                                  ...   ...   \n",
       "70428  ['Eric Wang', 'Dehong Liu', 'Jorge G. Silva', ...   NaN   \n",
       "70440  ['Vicky Froyen', 'Jacob Feldman', 'Manish Sing...   NaN   \n",
       "70451  ['Gowtham Bellala', 'Suresh K. Bhavnani', 'Cla...   NaN   \n",
       "70466  ['Kasper Winther Andersen', 'Kristoffer Hougaa...   NaN   \n",
       "70471  ['Congcong Li', 'Ashutosh Saxena', 'Tsuhan Chen']   NaN   \n",
       "\n",
       "                                                   title conference  \n",
       "62045  Anatomically Constrained Decoding of Finger Fl...       nips  \n",
       "62073              A Bayesian Approach to Concept Drift.       nips  \n",
       "62077  How Does the Brain Represent Visual Scenes? A ...       nips  \n",
       "62088  Minimax Localization of Structural Information...       nips  \n",
       "62105               Learning To Count Objects in Images.       nips  \n",
       "...                                                  ...        ...  \n",
       "70428  Joint Analysis of Time-Evolving Binary Matrice...       nips  \n",
       "70440  A Bayesian Framework for Figure-Ground Interpr...       nips  \n",
       "70451  Extensions of Generalized Binary Search to Gro...       nips  \n",
       "70466  Identification of Functional Clusters in the S...       nips  \n",
       "70471  $\\theta$-MRF: Capturing Spatial and Semantic S...       nips  \n",
       "\n",
       "[630 rows x 5 columns]"
      ]
     },
     "execution_count": 29,
     "metadata": {},
     "output_type": "execute_result"
    }
   ],
   "source": [
    "new_conf_papers[new_conf_papers.isna().any(axis=1)]"
   ]
  },
  {
   "cell_type": "code",
   "execution_count": 30,
   "metadata": {},
   "outputs": [
    {
     "data": {
      "text/plain": [
       "Series([], Name: year, dtype: int64)"
      ]
     },
     "execution_count": 30,
     "metadata": {},
     "output_type": "execute_result"
    }
   ],
   "source": [
    "new_conf_papers[new_conf_papers.isna().any(axis=1)]['year'].value_counts()"
   ]
  },
  {
   "cell_type": "markdown",
   "metadata": {},
   "source": [
    "***A3.3***"
   ]
  },
  {
   "cell_type": "code",
   "execution_count": 31,
   "metadata": {},
   "outputs": [],
   "source": [
    "mlconf = ['icml', 'nips']\n",
    "ml_papers = new_conf_papers[new_conf_papers['conference'].apply(lambda x: x in mlconf)]"
   ]
  },
  {
   "cell_type": "code",
   "execution_count": 32,
   "metadata": {},
   "outputs": [
    {
     "data": {
      "text/plain": [
       "<matplotlib.axes._subplots.AxesSubplot at 0x159845cd0>"
      ]
     },
     "execution_count": 32,
     "metadata": {},
     "output_type": "execute_result"
    },
    {
     "data": {
      "image/png": "[encoded data removed]",
      "text/plain": [
       "<Figure size 432x288 with 1 Axes>"
      ]
     },
     "metadata": {
      "needs_background": "light"
     },
     "output_type": "display_data"
    }
   ],
   "source": [
    "ml_papers['year'].value_counts().sort_index().plot()"
   ]
  },
  {
   "cell_type": "markdown",
   "metadata": {},
   "source": [
    "There is something odd. The number of papers drops about 200 at around 2010 and 2011. Let's get back the orignial paper dataframe and find out what is causing this (we guessed that it could be the '?' year)."
   ]
  },
  {
   "cell_type": "code",
   "execution_count": 33,
   "metadata": {},
   "outputs": [
    {
     "data": {
      "text/plain": [
       "509"
      ]
     },
     "execution_count": 33,
     "metadata": {},
     "output_type": "execute_result"
    }
   ],
   "source": [
    "# use the orignial conf_papers and keep ml papers\n",
    "ml_papers = conf_papers[conf_papers['conference'].apply(lambda x: x in mlconf)]\n",
    "# check the number of data which has '?' year\n",
    "ml_papers[ml_papers['year'] == '?'].shape[0]"
   ]
  },
  {
   "cell_type": "code",
   "execution_count": 34,
   "metadata": {},
   "outputs": [
    {
     "data": {
      "text/html": [
       "<div>\n",
       "<style scoped>\n",
       "    .dataframe tbody tr th:only-of-type {\n",
       "        vertical-align: middle;\n",
       "    }\n",
       "\n",
       "    .dataframe tbody tr th {\n",
       "        vertical-align: top;\n",
       "    }\n",
       "\n",
       "    .dataframe thead th {\n",
       "        text-align: right;\n",
       "    }\n",
       "</style>\n",
       "<table border=\"1\" class=\"dataframe\">\n",
       "  <thead>\n",
       "    <tr style=\"text-align: right;\">\n",
       "      <th></th>\n",
       "      <th>id</th>\n",
       "      <th>authors</th>\n",
       "      <th>year</th>\n",
       "      <th>title</th>\n",
       "      <th>conference</th>\n",
       "    </tr>\n",
       "  </thead>\n",
       "  <tbody>\n",
       "    <tr>\n",
       "      <td>62045</td>\n",
       "      <td>conf/nips/WangSJ11</td>\n",
       "      <td>['Zuoguan Wang', 'Gerwin Schalk', 'Qiang Ji']</td>\n",
       "      <td>?</td>\n",
       "      <td>Anatomically Constrained Decoding of Finger Fl...</td>\n",
       "      <td>nips</td>\n",
       "    </tr>\n",
       "    <tr>\n",
       "      <td>62073</td>\n",
       "      <td>conf/nips/BachM10</td>\n",
       "      <td>['Stephen H. Bach', 'Marcus A. Maloof']</td>\n",
       "      <td>?</td>\n",
       "      <td>A Bayesian Approach to Concept Drift.</td>\n",
       "      <td>nips</td>\n",
       "    </tr>\n",
       "    <tr>\n",
       "      <td>62077</td>\n",
       "      <td>conf/nips/RamkumarPHLL11</td>\n",
       "      <td>['Pavan Ramkumar', 'Sebastian Pannasch', 'Bruc...</td>\n",
       "      <td>?</td>\n",
       "      <td>How Does the Brain Represent Visual Scenes? A ...</td>\n",
       "      <td>nips</td>\n",
       "    </tr>\n",
       "    <tr>\n",
       "      <td>62088</td>\n",
       "      <td>conf/nips/KolarBRS11</td>\n",
       "      <td>['Mladen Kolar', 'Sivaraman Balakrishnan', 'Al...</td>\n",
       "      <td>?</td>\n",
       "      <td>Minimax Localization of Structural Information...</td>\n",
       "      <td>nips</td>\n",
       "    </tr>\n",
       "    <tr>\n",
       "      <td>62105</td>\n",
       "      <td>conf/nips/LempitskyZ10</td>\n",
       "      <td>['Victor S. Lempitsky', 'Andrew Zisserman']</td>\n",
       "      <td>?</td>\n",
       "      <td>Learning To Count Objects in Images.</td>\n",
       "      <td>nips</td>\n",
       "    </tr>\n",
       "    <tr>\n",
       "      <td>...</td>\n",
       "      <td>...</td>\n",
       "      <td>...</td>\n",
       "      <td>...</td>\n",
       "      <td>...</td>\n",
       "      <td>...</td>\n",
       "    </tr>\n",
       "    <tr>\n",
       "      <td>70423</td>\n",
       "      <td>conf/nips/KolterBN10</td>\n",
       "      <td>['J. Zico Kolter', 'Siddharth Batra', 'Andrew ...</td>\n",
       "      <td>?</td>\n",
       "      <td>Energy Disaggregation via Discriminative Spars...</td>\n",
       "      <td>nips</td>\n",
       "    </tr>\n",
       "    <tr>\n",
       "      <td>70428</td>\n",
       "      <td>conf/nips/WangLSDC10</td>\n",
       "      <td>['Eric Wang', 'Dehong Liu', 'Jorge G. Silva', ...</td>\n",
       "      <td>?</td>\n",
       "      <td>Joint Analysis of Time-Evolving Binary Matrice...</td>\n",
       "      <td>nips</td>\n",
       "    </tr>\n",
       "    <tr>\n",
       "      <td>70440</td>\n",
       "      <td>conf/nips/FroyenFS10</td>\n",
       "      <td>['Vicky Froyen', 'Jacob Feldman', 'Manish Sing...</td>\n",
       "      <td>?</td>\n",
       "      <td>A Bayesian Framework for Figure-Ground Interpr...</td>\n",
       "      <td>nips</td>\n",
       "    </tr>\n",
       "    <tr>\n",
       "      <td>70451</td>\n",
       "      <td>conf/nips/BellalaBS10</td>\n",
       "      <td>['Gowtham Bellala', 'Suresh K. Bhavnani', 'Cla...</td>\n",
       "      <td>?</td>\n",
       "      <td>Extensions of Generalized Binary Search to Gro...</td>\n",
       "      <td>nips</td>\n",
       "    </tr>\n",
       "    <tr>\n",
       "      <td>70466</td>\n",
       "      <td>conf/nips/AndersenMSHM11</td>\n",
       "      <td>['Kasper Winther Andersen', 'Kristoffer Hougaa...</td>\n",
       "      <td>?</td>\n",
       "      <td>Identification of Functional Clusters in the S...</td>\n",
       "      <td>nips</td>\n",
       "    </tr>\n",
       "  </tbody>\n",
       "</table>\n",
       "<p>507 rows × 5 columns</p>\n",
       "</div>"
      ],
      "text/plain": [
       "                             id  \\\n",
       "62045        conf/nips/WangSJ11   \n",
       "62073         conf/nips/BachM10   \n",
       "62077  conf/nips/RamkumarPHLL11   \n",
       "62088      conf/nips/KolarBRS11   \n",
       "62105    conf/nips/LempitskyZ10   \n",
       "...                         ...   \n",
       "70423      conf/nips/KolterBN10   \n",
       "70428      conf/nips/WangLSDC10   \n",
       "70440      conf/nips/FroyenFS10   \n",
       "70451     conf/nips/BellalaBS10   \n",
       "70466  conf/nips/AndersenMSHM11   \n",
       "\n",
       "                                                 authors year  \\\n",
       "62045      ['Zuoguan Wang', 'Gerwin Schalk', 'Qiang Ji']    ?   \n",
       "62073            ['Stephen H. Bach', 'Marcus A. Maloof']    ?   \n",
       "62077  ['Pavan Ramkumar', 'Sebastian Pannasch', 'Bruc...    ?   \n",
       "62088  ['Mladen Kolar', 'Sivaraman Balakrishnan', 'Al...    ?   \n",
       "62105        ['Victor S. Lempitsky', 'Andrew Zisserman']    ?   \n",
       "...                                                  ...  ...   \n",
       "70423  ['J. Zico Kolter', 'Siddharth Batra', 'Andrew ...    ?   \n",
       "70428  ['Eric Wang', 'Dehong Liu', 'Jorge G. Silva', ...    ?   \n",
       "70440  ['Vicky Froyen', 'Jacob Feldman', 'Manish Sing...    ?   \n",
       "70451  ['Gowtham Bellala', 'Suresh K. Bhavnani', 'Cla...    ?   \n",
       "70466  ['Kasper Winther Andersen', 'Kristoffer Hougaa...    ?   \n",
       "\n",
       "                                                   title conference  \n",
       "62045  Anatomically Constrained Decoding of Finger Fl...       nips  \n",
       "62073              A Bayesian Approach to Concept Drift.       nips  \n",
       "62077  How Does the Brain Represent Visual Scenes? A ...       nips  \n",
       "62088  Minimax Localization of Structural Information...       nips  \n",
       "62105               Learning To Count Objects in Images.       nips  \n",
       "...                                                  ...        ...  \n",
       "70423  Energy Disaggregation via Discriminative Spars...       nips  \n",
       "70428  Joint Analysis of Time-Evolving Binary Matrice...       nips  \n",
       "70440  A Bayesian Framework for Figure-Ground Interpr...       nips  \n",
       "70451  Extensions of Generalized Binary Search to Gro...       nips  \n",
       "70466  Identification of Functional Clusters in the S...       nips  \n",
       "\n",
       "[507 rows x 5 columns]"
      ]
     },
     "execution_count": 34,
     "metadata": {},
     "output_type": "execute_result"
    }
   ],
   "source": [
    "# check how many are from 2010 and 2011 nips\n",
    "ml_papers[ml_papers['year'] == '?'][ml_papers[ml_papers['year'] == '?']['id'].apply(lambda x: '11' in x or '10' in x and 'nips' in x).values]"
   ]
  },
  {
   "cell_type": "code",
   "execution_count": 35,
   "metadata": {},
   "outputs": [
    {
     "data": {
      "text/html": [
       "<div>\n",
       "<style scoped>\n",
       "    .dataframe tbody tr th:only-of-type {\n",
       "        vertical-align: middle;\n",
       "    }\n",
       "\n",
       "    .dataframe tbody tr th {\n",
       "        vertical-align: top;\n",
       "    }\n",
       "\n",
       "    .dataframe thead th {\n",
       "        text-align: right;\n",
       "    }\n",
       "</style>\n",
       "<table border=\"1\" class=\"dataframe\">\n",
       "  <thead>\n",
       "    <tr style=\"text-align: right;\">\n",
       "      <th></th>\n",
       "      <th>id</th>\n",
       "      <th>authors</th>\n",
       "      <th>year</th>\n",
       "      <th>title</th>\n",
       "      <th>conference</th>\n",
       "    </tr>\n",
       "  </thead>\n",
       "  <tbody>\n",
       "    <tr>\n",
       "      <td>62868</td>\n",
       "      <td>conf/nips/2008coa</td>\n",
       "      <td>[]</td>\n",
       "      <td>?</td>\n",
       "      <td>Causality: Objectives and Assessment (NIPS 200...</td>\n",
       "      <td>nips</td>\n",
       "    </tr>\n",
       "    <tr>\n",
       "      <td>63309</td>\n",
       "      <td>conf/nips/2009mscts</td>\n",
       "      <td>[]</td>\n",
       "      <td>?</td>\n",
       "      <td>Neural Information Processing Systems (NIPS) M...</td>\n",
       "      <td>nips</td>\n",
       "    </tr>\n",
       "  </tbody>\n",
       "</table>\n",
       "</div>"
      ],
      "text/plain": [
       "                        id authors year  \\\n",
       "62868    conf/nips/2008coa      []    ?   \n",
       "63309  conf/nips/2009mscts      []    ?   \n",
       "\n",
       "                                                   title conference  \n",
       "62868  Causality: Objectives and Assessment (NIPS 200...       nips  \n",
       "63309  Neural Information Processing Systems (NIPS) M...       nips  "
      ]
     },
     "execution_count": 35,
     "metadata": {},
     "output_type": "execute_result"
    }
   ],
   "source": [
    "# see when and where the two other are from\n",
    "ml_papers[ml_papers['year'] == '?'][~ml_papers[ml_papers['year'] == '?']['id'].apply(lambda x: '11' in x or '10' in x and 'nips' in x).values]"
   ]
  },
  {
   "cell_type": "markdown",
   "metadata": {},
   "source": [
    "It turns out that the papers which have '?' year we previously deleted are mostly 2010 and 2011 nips papers (only 2 papers aren't from 2010 and 2011. They are from 2008 and 2009 nips respectively)."
   ]
  },
  {
   "cell_type": "markdown",
   "metadata": {},
   "source": [
    "***A3.4***"
   ]
  },
  {
   "cell_type": "code",
   "execution_count": 36,
   "metadata": {},
   "outputs": [],
   "source": [
    "# initiate BeautifulSoup\n",
    "base_url = 'https://papers.nips.cc/'\n",
    "r = get(base_url)\n",
    "page_body = r.text\n",
    "soup = BeautifulSoup(page_body, 'html.parser')"
   ]
  },
  {
   "cell_type": "code",
   "execution_count": 37,
   "metadata": {},
   "outputs": [],
   "source": [
    "# find tags with href including /book/\n",
    "all_nips_a = soup.find_all(href=re.compile('/book/'))\n",
    "all_nips_links = []\n",
    "# starting from 2018 to 1987\n",
    "for nips_a in all_nips_a:\n",
    "    all_nips_links.append(base_url + nips_a['href'][1:])"
   ]
  },
  {
   "cell_type": "code",
   "execution_count": 38,
   "metadata": {},
   "outputs": [],
   "source": [
    "nips_papers_list = []\n",
    "id_list = []\n",
    "year = 2018\n",
    "for link in all_nips_links:\n",
    "    # initiate BeautifulSoup for website of each year's nips\n",
    "    r = get(link)\n",
    "    page_body = r.text\n",
    "    soup = BeautifulSoup(page_body, 'html.parser')\n",
    "    # skip the first one since it's actually not a paper entry\n",
    "    all_papers_li = soup.find_all('li')[1:]\n",
    "    for papers_li in all_papers_li:\n",
    "        # find tags with href including /paper/ and get the title text\n",
    "        title = papers_li.find(href=re.compile('/paper/')).text\n",
    "        # find all anchor tags with class as author\n",
    "        authors_a = papers_li.find_all('a', class_='author')\n",
    "        # construct authors' list\n",
    "        authors = [author.text for author in authors_a]\n",
    "        # create id following how dblp does it\n",
    "        if len(authors) != 0:\n",
    "            idx = ''.join(['conf/nips/', authors[0].split(' ')[-1]] + [author.split(' ')[-1][0] for author in authors[1:]] + [str(year)[-2:]])\n",
    "        else: # this is for paper with no author, will remove these afterward\n",
    "            idx = 'conf/nips/'\n",
    "        # handle duplicate idx (we realized there will be some papers which were written by the same authors in a year \n",
    "        # when building a new papers and authors df, so we must create a distinct id for that. We check how dblp does\n",
    "        # it. The following block shows one example.)\n",
    "        if idx in id_list:\n",
    "            if ord(idx[-1]) >= 97:\n",
    "                idx[-1] = chr(ord(idx[-1]) + 1)\n",
    "            else:\n",
    "                idx += 'a'\n",
    "        # don't bother paper with no author\n",
    "        if len(authors) != 0:\n",
    "            id_list.append(idx)\n",
    "        nips_papers_list.append({\n",
    "            'id': idx,\n",
    "            'authors': authors,\n",
    "            'year': year,\n",
    "            'title': title,\n",
    "            'conference': 'nips'\n",
    "        })\n",
    "    year -= 1"
   ]
  },
  {
   "cell_type": "code",
   "execution_count": 39,
   "metadata": {},
   "outputs": [
    {
     "data": {
      "text/html": [
       "<div>\n",
       "<style scoped>\n",
       "    .dataframe tbody tr th:only-of-type {\n",
       "        vertical-align: middle;\n",
       "    }\n",
       "\n",
       "    .dataframe tbody tr th {\n",
       "        vertical-align: top;\n",
       "    }\n",
       "\n",
       "    .dataframe thead th {\n",
       "        text-align: right;\n",
       "    }\n",
       "</style>\n",
       "<table border=\"1\" class=\"dataframe\">\n",
       "  <thead>\n",
       "    <tr style=\"text-align: right;\">\n",
       "      <th></th>\n",
       "      <th>id</th>\n",
       "      <th>authors</th>\n",
       "      <th>year</th>\n",
       "      <th>title</th>\n",
       "      <th>conference</th>\n",
       "    </tr>\n",
       "  </thead>\n",
       "  <tbody>\n",
       "    <tr>\n",
       "      <td>63325</td>\n",
       "      <td>conf/nips/ZhouYF18a</td>\n",
       "      <td>['Pan Zhou', 'Xiaotong Yuan', 'Jiashi Feng']</td>\n",
       "      <td>&lt;em&gt;2018.0&lt;/em&gt;</td>\n",
       "      <td>Efficient Stochastic Gradient Hard Thresholding.</td>\n",
       "      <td>nips</td>\n",
       "    </tr>\n",
       "    <tr>\n",
       "      <td>66809</td>\n",
       "      <td>conf/nips/ZhouYF18</td>\n",
       "      <td>['Pan Zhou', 'Xiaotong Yuan', 'Jiashi Feng']</td>\n",
       "      <td>2018.0</td>\n",
       "      <td>New Insight into Hybrid Stochastic Gradient De...</td>\n",
       "      <td>nips</td>\n",
       "    </tr>\n",
       "  </tbody>\n",
       "</table>\n",
       "</div>"
      ],
      "text/plain": [
       "                        id                                       authors  \\\n",
       "63325  conf/nips/ZhouYF18a  ['Pan Zhou', 'Xiaotong Yuan', 'Jiashi Feng']   \n",
       "66809   conf/nips/ZhouYF18  ['Pan Zhou', 'Xiaotong Yuan', 'Jiashi Feng']   \n",
       "\n",
       "                  year                                              title  \\\n",
       "63325  <em>2018.0</em>   Efficient Stochastic Gradient Hard Thresholding.   \n",
       "66809           2018.0  New Insight into Hybrid Stochastic Gradient De...   \n",
       "\n",
       "      conference  \n",
       "63325       nips  \n",
       "66809       nips  "
      ]
     },
     "execution_count": 39,
     "metadata": {},
     "output_type": "execute_result"
    }
   ],
   "source": [
    "# two papers with the same authors and yaer\n",
    "ml_papers[ml_papers['id'].apply(lambda x: 'conf/nips/ZhouYF18' in x)]"
   ]
  },
  {
   "cell_type": "code",
   "execution_count": 40,
   "metadata": {},
   "outputs": [],
   "source": [
    "# create a pandas dataframe for the new nips data\n",
    "nips_papers = pd.DataFrame.from_dict(nips_papers_list)\n",
    "# remove paper with no author\n",
    "nips_papers = nips_papers[nips_papers['id'] != 'conf/nips/']"
   ]
  },
  {
   "cell_type": "code",
   "execution_count": 41,
   "metadata": {},
   "outputs": [],
   "source": [
    "import unicodedata\n",
    "from string import punctuation\n",
    "def remove_punct(text):\n",
    "    return ''.join([ch for ch in text if ch not in punctuation])\n",
    "def remove_accent(text):\n",
    "    return unicodedata.normalize('NFD', text).encode('ascii', 'ignore').decode(\"utf-8\")"
   ]
  },
  {
   "cell_type": "code",
   "execution_count": 42,
   "metadata": {},
   "outputs": [],
   "source": [
    "def fill_missing_value(x):\n",
    "    x_id = x['id']\n",
    "    target_entry = nips_papers[nips_papers['id'] == x_id]\n",
    "    if target_entry.empty:\n",
    "        x_title = remove_accent(remove_punct(x['title']))\n",
    "        target_entry = nips_papers[nips_papers['title'].apply(lambda y: remove_accent(remove_punct(y)) == x_title)]\n",
    "    if not target_entry.empty:\n",
    "        x['year'] = target_entry['year'].values[0]\n",
    "    return x\n",
    "\n",
    "new_conf_papers[new_conf_papers.isna().any(axis=1)] = new_conf_papers[new_conf_papers.isna().any(axis=1)].apply(fill_missing_value, axis=1)"
   ]
  },
  {
   "cell_type": "code",
   "execution_count": 43,
   "metadata": {},
   "outputs": [
    {
     "data": {
      "text/html": [
       "<div>\n",
       "<style scoped>\n",
       "    .dataframe tbody tr th:only-of-type {\n",
       "        vertical-align: middle;\n",
       "    }\n",
       "\n",
       "    .dataframe tbody tr th {\n",
       "        vertical-align: top;\n",
       "    }\n",
       "\n",
       "    .dataframe thead th {\n",
       "        text-align: right;\n",
       "    }\n",
       "</style>\n",
       "<table border=\"1\" class=\"dataframe\">\n",
       "  <thead>\n",
       "    <tr style=\"text-align: right;\">\n",
       "      <th></th>\n",
       "      <th>id</th>\n",
       "      <th>authors</th>\n",
       "      <th>year</th>\n",
       "      <th>title</th>\n",
       "      <th>conference</th>\n",
       "    </tr>\n",
       "  </thead>\n",
       "  <tbody>\n",
       "    <tr>\n",
       "      <td>62077</td>\n",
       "      <td>conf/nips/RamkumarPHLL11</td>\n",
       "      <td>['Pavan Ramkumar', 'Sebastian Pannasch', 'Bruc...</td>\n",
       "      <td>NaN</td>\n",
       "      <td>How Does the Brain Represent Visual Scenes? A ...</td>\n",
       "      <td>nips</td>\n",
       "    </tr>\n",
       "    <tr>\n",
       "      <td>62254</td>\n",
       "      <td>conf/nips/KwokCCMA11</td>\n",
       "      <td>['Philip P. Kwok', 'Olga Ciccarelli', 'Declan ...</td>\n",
       "      <td>NaN</td>\n",
       "      <td>Predicting Clinically Definite Multiple Sclero...</td>\n",
       "      <td>nips</td>\n",
       "    </tr>\n",
       "    <tr>\n",
       "      <td>62378</td>\n",
       "      <td>conf/nips/ChangMJ11</td>\n",
       "      <td>['Kai-min Kevin Chang', 'Brian Murphy', 'Marce...</td>\n",
       "      <td>NaN</td>\n",
       "      <td>A Latent Feature Analysis of the Neural Repres...</td>\n",
       "      <td>nips</td>\n",
       "    </tr>\n",
       "    <tr>\n",
       "      <td>62729</td>\n",
       "      <td>conf/nips/BahramisharifGSGH11</td>\n",
       "      <td>['Ali Bahramisharif', 'Marcel A. J. van Gerven...</td>\n",
       "      <td>NaN</td>\n",
       "      <td>The Dynamic Beamformer.</td>\n",
       "      <td>nips</td>\n",
       "    </tr>\n",
       "    <tr>\n",
       "      <td>63244</td>\n",
       "      <td>conf/nips/GramfortVT11</td>\n",
       "      <td>['Alexandre Gramfort', 'Gaël Varoquaux', 'Bert...</td>\n",
       "      <td>NaN</td>\n",
       "      <td>Beyond Brain Reading: Randomized Sparsity and ...</td>\n",
       "      <td>nips</td>\n",
       "    </tr>\n",
       "    <tr>\n",
       "      <td>63251</td>\n",
       "      <td>conf/nips/HaufeNNM11</td>\n",
       "      <td>['Stefan Haufe', 'Vadim V. Nikulin', 'Guido No...</td>\n",
       "      <td>NaN</td>\n",
       "      <td>Pitfalls in EEG-Based Brain Effective Connecti...</td>\n",
       "      <td>nips</td>\n",
       "    </tr>\n",
       "    <tr>\n",
       "      <td>63701</td>\n",
       "      <td>conf/nips/BiessmannMLMM11</td>\n",
       "      <td>['Felix Bießmann', 'Yusuke Murayama', 'Nikos K...</td>\n",
       "      <td>NaN</td>\n",
       "      <td>Non-separable Spatiotemporal Brain Hemodynamic...</td>\n",
       "      <td>nips</td>\n",
       "    </tr>\n",
       "    <tr>\n",
       "      <td>63783</td>\n",
       "      <td>conf/nips/DeligianniVTRSER11</td>\n",
       "      <td>['Fani Deligianni', 'Gaël Varoquaux', 'Bertran...</td>\n",
       "      <td>NaN</td>\n",
       "      <td>Relating Brain Functional Connectivity to Anat...</td>\n",
       "      <td>nips</td>\n",
       "    </tr>\n",
       "    <tr>\n",
       "      <td>64374</td>\n",
       "      <td>conf/nips/MichelGEVT11</td>\n",
       "      <td>['Vincent Michel', 'Alexandre Gramfort', 'Evel...</td>\n",
       "      <td>NaN</td>\n",
       "      <td>A Comparative Study of Algorithms for Intra- a...</td>\n",
       "      <td>nips</td>\n",
       "    </tr>\n",
       "    <tr>\n",
       "      <td>64497</td>\n",
       "      <td>conf/nips/HansenHM11</td>\n",
       "      <td>['Toke Jansen Hansen', 'Lars Kai Hansen', 'Kri...</td>\n",
       "      <td>NaN</td>\n",
       "      <td>Decoding Complex Cognitive States Online by Ma...</td>\n",
       "      <td>nips</td>\n",
       "    </tr>\n",
       "    <tr>\n",
       "      <td>64687</td>\n",
       "      <td>conf/nips/AbrahamsenH11</td>\n",
       "      <td>['Trine Julie Abrahamsen', 'Lars Kai Hansen']</td>\n",
       "      <td>NaN</td>\n",
       "      <td>Restoring the Generalizability of SVM Based De...</td>\n",
       "      <td>nips</td>\n",
       "    </tr>\n",
       "    <tr>\n",
       "      <td>65091</td>\n",
       "      <td>conf/nips/KinreichPIH11</td>\n",
       "      <td>['Sivan Kinreich', 'Ilana Podlipsky', 'Nathan ...</td>\n",
       "      <td>NaN</td>\n",
       "      <td>Categorized EEG Neurofeedback Performance Unve...</td>\n",
       "      <td>nips</td>\n",
       "    </tr>\n",
       "    <tr>\n",
       "      <td>65160</td>\n",
       "      <td>conf/nips/HinrichsDJS11</td>\n",
       "      <td>['Chris Hinrichs', 'N. Maritza Dowling', 'Ster...</td>\n",
       "      <td>NaN</td>\n",
       "      <td>MKL-Based Sample Enrichment and Customized Out...</td>\n",
       "      <td>nips</td>\n",
       "    </tr>\n",
       "    <tr>\n",
       "      <td>66057</td>\n",
       "      <td>conf/nips/RondinaSM11</td>\n",
       "      <td>['Jane M. Rondina', 'John Shawe-Taylor', 'Jana...</td>\n",
       "      <td>NaN</td>\n",
       "      <td>A New Feature Selection Method Based on Stabil...</td>\n",
       "      <td>nips</td>\n",
       "    </tr>\n",
       "    <tr>\n",
       "      <td>66626</td>\n",
       "      <td>conf/nips/Koskinen11</td>\n",
       "      <td>['Miika Koskinen']</td>\n",
       "      <td>NaN</td>\n",
       "      <td>Finding Consistencies in MEG Responses to Repe...</td>\n",
       "      <td>nips</td>\n",
       "    </tr>\n",
       "    <tr>\n",
       "      <td>66645</td>\n",
       "      <td>conf/nips/Keator11</td>\n",
       "      <td>['David B. Keator']</td>\n",
       "      <td>NaN</td>\n",
       "      <td>Modality Neutral Techniques for Brain Image Un...</td>\n",
       "      <td>nips</td>\n",
       "    </tr>\n",
       "    <tr>\n",
       "      <td>67017</td>\n",
       "      <td>conf/nips/SonaAMBM11</td>\n",
       "      <td>['Diego Sona', 'Paolo Avesani', 'Stefano Magon...</td>\n",
       "      <td>NaN</td>\n",
       "      <td>Pairwise Analysis for Longitudinal fMRI Studies.</td>\n",
       "      <td>nips</td>\n",
       "    </tr>\n",
       "    <tr>\n",
       "      <td>67121</td>\n",
       "      <td>conf/nips/ChenFKG11</td>\n",
       "      <td>['George H. Chen', 'Evelina Fedorenko', 'Nancy...</td>\n",
       "      <td>NaN</td>\n",
       "      <td>Deformation-Invariant Sparse Coding for Modeli...</td>\n",
       "      <td>nips</td>\n",
       "    </tr>\n",
       "    <tr>\n",
       "      <td>68076</td>\n",
       "      <td>conf/nips/CaseyTKRW11</td>\n",
       "      <td>['Michael A. Casey', 'Jessica Thompson 0001', ...</td>\n",
       "      <td>NaN</td>\n",
       "      <td>Population Codes Representing Musical Timbre f...</td>\n",
       "      <td>nips</td>\n",
       "    </tr>\n",
       "    <tr>\n",
       "      <td>68327</td>\n",
       "      <td>conf/nips/RoussosRD11</td>\n",
       "      <td>['Evangelos Roussos', 'Steven Roberts', 'Ingri...</td>\n",
       "      <td>NaN</td>\n",
       "      <td>Variational Bayesian Learning of Sparse Repres...</td>\n",
       "      <td>nips</td>\n",
       "    </tr>\n",
       "    <tr>\n",
       "      <td>68552</td>\n",
       "      <td>conf/nips/AndersonHDBC11</td>\n",
       "      <td>['Ariana E. Anderson', 'Dianna Han', 'Pamela K...</td>\n",
       "      <td>NaN</td>\n",
       "      <td>Real-Time Functional MRI Classification of Bra...</td>\n",
       "      <td>nips</td>\n",
       "    </tr>\n",
       "    <tr>\n",
       "      <td>68722</td>\n",
       "      <td>conf/nips/GorbachSJMT11</td>\n",
       "      <td>['Nico S. Gorbach', 'Silvan Siep', 'Jenia Jits...</td>\n",
       "      <td>NaN</td>\n",
       "      <td>Information-Theoretic Connectivity-Based Corte...</td>\n",
       "      <td>nips</td>\n",
       "    </tr>\n",
       "    <tr>\n",
       "      <td>68731</td>\n",
       "      <td>conf/nips/OlivettiGA11</td>\n",
       "      <td>['Emanuele Olivetti', 'Susanne Greiner', 'Paol...</td>\n",
       "      <td>NaN</td>\n",
       "      <td>Induction in Neuroscience with Classification:...</td>\n",
       "      <td>nips</td>\n",
       "    </tr>\n",
       "    <tr>\n",
       "      <td>68738</td>\n",
       "      <td>conf/nips/JamshyPYHI11</td>\n",
       "      <td>['Shahar Jamshy', 'Omri Perez', 'Yehezkel Yesh...</td>\n",
       "      <td>NaN</td>\n",
       "      <td>Searchlight Based Feature Extraction.</td>\n",
       "      <td>nips</td>\n",
       "    </tr>\n",
       "    <tr>\n",
       "      <td>68801</td>\n",
       "      <td>conf/nips/CauchoixAFS11</td>\n",
       "      <td>['Maxime Cauchoix', 'Ali Bilgin Arslan', 'Deni...</td>\n",
       "      <td>NaN</td>\n",
       "      <td>The Neural Dynamics of Visual Processing in Mo...</td>\n",
       "      <td>nips</td>\n",
       "    </tr>\n",
       "    <tr>\n",
       "      <td>68806</td>\n",
       "      <td>conf/nips/WoutersGTHB11</td>\n",
       "      <td>['Hans J. P. Wouters', 'Marcel A. J. van Gerve...</td>\n",
       "      <td>NaN</td>\n",
       "      <td>Covert Attention as a Paradigm for Subject-Ind...</td>\n",
       "      <td>nips</td>\n",
       "    </tr>\n",
       "    <tr>\n",
       "      <td>69002</td>\n",
       "      <td>conf/nips/EtzelCB11</td>\n",
       "      <td>['Joset A. Etzel', 'Michael W. Cole', 'Todd S....</td>\n",
       "      <td>NaN</td>\n",
       "      <td>Looking Outside the Searchlight.</td>\n",
       "      <td>nips</td>\n",
       "    </tr>\n",
       "    <tr>\n",
       "      <td>69405</td>\n",
       "      <td>conf/nips/Parrado-HernandezGRAPMCS11</td>\n",
       "      <td>['Emilio Parrado-Hernández', 'Vanessa Gómez-Ve...</td>\n",
       "      <td>NaN</td>\n",
       "      <td>Identification of OCD-Relevant Brain Areas thr...</td>\n",
       "      <td>nips</td>\n",
       "    </tr>\n",
       "    <tr>\n",
       "      <td>70037</td>\n",
       "      <td>conf/nips/DauwelsYWVLJC11</td>\n",
       "      <td>['Justin Dauwels', 'Hang Yu 0002', 'Xueou Wang...</td>\n",
       "      <td>NaN</td>\n",
       "      <td>Inferring Brain Networks through Graphical Mod...</td>\n",
       "      <td>nips</td>\n",
       "    </tr>\n",
       "    <tr>\n",
       "      <td>70089</td>\n",
       "      <td>conf/nips/DoyleMBSSM11</td>\n",
       "      <td>['Orla M. Doyle', 'Mitul A. Mehta', 'Michael J...</td>\n",
       "      <td>NaN</td>\n",
       "      <td>Data-Driven Modeling of BOLD Drug Response Cur...</td>\n",
       "      <td>nips</td>\n",
       "    </tr>\n",
       "    <tr>\n",
       "      <td>70222</td>\n",
       "      <td>conf/nips/VaroquauxT11</td>\n",
       "      <td>['Gaël Varoquaux', 'Bertrand Thirion']</td>\n",
       "      <td>NaN</td>\n",
       "      <td>Statistical Learning for Resting-State fMRI: S...</td>\n",
       "      <td>nips</td>\n",
       "    </tr>\n",
       "    <tr>\n",
       "      <td>70466</td>\n",
       "      <td>conf/nips/AndersenMSHM11</td>\n",
       "      <td>['Kasper Winther Andersen', 'Kristoffer Hougaa...</td>\n",
       "      <td>NaN</td>\n",
       "      <td>Identification of Functional Clusters in the S...</td>\n",
       "      <td>nips</td>\n",
       "    </tr>\n",
       "  </tbody>\n",
       "</table>\n",
       "</div>"
      ],
      "text/plain": [
       "                                         id  \\\n",
       "62077              conf/nips/RamkumarPHLL11   \n",
       "62254                  conf/nips/KwokCCMA11   \n",
       "62378                   conf/nips/ChangMJ11   \n",
       "62729         conf/nips/BahramisharifGSGH11   \n",
       "63244                conf/nips/GramfortVT11   \n",
       "63251                  conf/nips/HaufeNNM11   \n",
       "63701             conf/nips/BiessmannMLMM11   \n",
       "63783          conf/nips/DeligianniVTRSER11   \n",
       "64374                conf/nips/MichelGEVT11   \n",
       "64497                  conf/nips/HansenHM11   \n",
       "64687               conf/nips/AbrahamsenH11   \n",
       "65091               conf/nips/KinreichPIH11   \n",
       "65160               conf/nips/HinrichsDJS11   \n",
       "66057                 conf/nips/RondinaSM11   \n",
       "66626                  conf/nips/Koskinen11   \n",
       "66645                    conf/nips/Keator11   \n",
       "67017                  conf/nips/SonaAMBM11   \n",
       "67121                   conf/nips/ChenFKG11   \n",
       "68076                 conf/nips/CaseyTKRW11   \n",
       "68327                 conf/nips/RoussosRD11   \n",
       "68552              conf/nips/AndersonHDBC11   \n",
       "68722               conf/nips/GorbachSJMT11   \n",
       "68731                conf/nips/OlivettiGA11   \n",
       "68738                conf/nips/JamshyPYHI11   \n",
       "68801               conf/nips/CauchoixAFS11   \n",
       "68806               conf/nips/WoutersGTHB11   \n",
       "69002                   conf/nips/EtzelCB11   \n",
       "69405  conf/nips/Parrado-HernandezGRAPMCS11   \n",
       "70037             conf/nips/DauwelsYWVLJC11   \n",
       "70089                conf/nips/DoyleMBSSM11   \n",
       "70222                conf/nips/VaroquauxT11   \n",
       "70466              conf/nips/AndersenMSHM11   \n",
       "\n",
       "                                                 authors  year  \\\n",
       "62077  ['Pavan Ramkumar', 'Sebastian Pannasch', 'Bruc...   NaN   \n",
       "62254  ['Philip P. Kwok', 'Olga Ciccarelli', 'Declan ...   NaN   \n",
       "62378  ['Kai-min Kevin Chang', 'Brian Murphy', 'Marce...   NaN   \n",
       "62729  ['Ali Bahramisharif', 'Marcel A. J. van Gerven...   NaN   \n",
       "63244  ['Alexandre Gramfort', 'Gaël Varoquaux', 'Bert...   NaN   \n",
       "63251  ['Stefan Haufe', 'Vadim V. Nikulin', 'Guido No...   NaN   \n",
       "63701  ['Felix Bießmann', 'Yusuke Murayama', 'Nikos K...   NaN   \n",
       "63783  ['Fani Deligianni', 'Gaël Varoquaux', 'Bertran...   NaN   \n",
       "64374  ['Vincent Michel', 'Alexandre Gramfort', 'Evel...   NaN   \n",
       "64497  ['Toke Jansen Hansen', 'Lars Kai Hansen', 'Kri...   NaN   \n",
       "64687      ['Trine Julie Abrahamsen', 'Lars Kai Hansen']   NaN   \n",
       "65091  ['Sivan Kinreich', 'Ilana Podlipsky', 'Nathan ...   NaN   \n",
       "65160  ['Chris Hinrichs', 'N. Maritza Dowling', 'Ster...   NaN   \n",
       "66057  ['Jane M. Rondina', 'John Shawe-Taylor', 'Jana...   NaN   \n",
       "66626                                 ['Miika Koskinen']   NaN   \n",
       "66645                                ['David B. Keator']   NaN   \n",
       "67017  ['Diego Sona', 'Paolo Avesani', 'Stefano Magon...   NaN   \n",
       "67121  ['George H. Chen', 'Evelina Fedorenko', 'Nancy...   NaN   \n",
       "68076  ['Michael A. Casey', 'Jessica Thompson 0001', ...   NaN   \n",
       "68327  ['Evangelos Roussos', 'Steven Roberts', 'Ingri...   NaN   \n",
       "68552  ['Ariana E. Anderson', 'Dianna Han', 'Pamela K...   NaN   \n",
       "68722  ['Nico S. Gorbach', 'Silvan Siep', 'Jenia Jits...   NaN   \n",
       "68731  ['Emanuele Olivetti', 'Susanne Greiner', 'Paol...   NaN   \n",
       "68738  ['Shahar Jamshy', 'Omri Perez', 'Yehezkel Yesh...   NaN   \n",
       "68801  ['Maxime Cauchoix', 'Ali Bilgin Arslan', 'Deni...   NaN   \n",
       "68806  ['Hans J. P. Wouters', 'Marcel A. J. van Gerve...   NaN   \n",
       "69002  ['Joset A. Etzel', 'Michael W. Cole', 'Todd S....   NaN   \n",
       "69405  ['Emilio Parrado-Hernández', 'Vanessa Gómez-Ve...   NaN   \n",
       "70037  ['Justin Dauwels', 'Hang Yu 0002', 'Xueou Wang...   NaN   \n",
       "70089  ['Orla M. Doyle', 'Mitul A. Mehta', 'Michael J...   NaN   \n",
       "70222             ['Gaël Varoquaux', 'Bertrand Thirion']   NaN   \n",
       "70466  ['Kasper Winther Andersen', 'Kristoffer Hougaa...   NaN   \n",
       "\n",
       "                                                   title conference  \n",
       "62077  How Does the Brain Represent Visual Scenes? A ...       nips  \n",
       "62254  Predicting Clinically Definite Multiple Sclero...       nips  \n",
       "62378  A Latent Feature Analysis of the Neural Repres...       nips  \n",
       "62729                            The Dynamic Beamformer.       nips  \n",
       "63244  Beyond Brain Reading: Randomized Sparsity and ...       nips  \n",
       "63251  Pitfalls in EEG-Based Brain Effective Connecti...       nips  \n",
       "63701  Non-separable Spatiotemporal Brain Hemodynamic...       nips  \n",
       "63783  Relating Brain Functional Connectivity to Anat...       nips  \n",
       "64374  A Comparative Study of Algorithms for Intra- a...       nips  \n",
       "64497  Decoding Complex Cognitive States Online by Ma...       nips  \n",
       "64687  Restoring the Generalizability of SVM Based De...       nips  \n",
       "65091  Categorized EEG Neurofeedback Performance Unve...       nips  \n",
       "65160  MKL-Based Sample Enrichment and Customized Out...       nips  \n",
       "66057  A New Feature Selection Method Based on Stabil...       nips  \n",
       "66626  Finding Consistencies in MEG Responses to Repe...       nips  \n",
       "66645  Modality Neutral Techniques for Brain Image Un...       nips  \n",
       "67017   Pairwise Analysis for Longitudinal fMRI Studies.       nips  \n",
       "67121  Deformation-Invariant Sparse Coding for Modeli...       nips  \n",
       "68076  Population Codes Representing Musical Timbre f...       nips  \n",
       "68327  Variational Bayesian Learning of Sparse Repres...       nips  \n",
       "68552  Real-Time Functional MRI Classification of Bra...       nips  \n",
       "68722  Information-Theoretic Connectivity-Based Corte...       nips  \n",
       "68731  Induction in Neuroscience with Classification:...       nips  \n",
       "68738              Searchlight Based Feature Extraction.       nips  \n",
       "68801  The Neural Dynamics of Visual Processing in Mo...       nips  \n",
       "68806  Covert Attention as a Paradigm for Subject-Ind...       nips  \n",
       "69002                   Looking Outside the Searchlight.       nips  \n",
       "69405  Identification of OCD-Relevant Brain Areas thr...       nips  \n",
       "70037  Inferring Brain Networks through Graphical Mod...       nips  \n",
       "70089  Data-Driven Modeling of BOLD Drug Response Cur...       nips  \n",
       "70222  Statistical Learning for Resting-State fMRI: S...       nips  \n",
       "70466  Identification of Functional Clusters in the S...       nips  "
      ]
     },
     "execution_count": 43,
     "metadata": {},
     "output_type": "execute_result"
    }
   ],
   "source": [
    "new_conf_papers[new_conf_papers.isna().any(axis=1)]"
   ]
  },
  {
   "cell_type": "code",
   "execution_count": 44,
   "metadata": {},
   "outputs": [
    {
     "data": {
      "text/plain": [
       "32"
      ]
     },
     "execution_count": 44,
     "metadata": {},
     "output_type": "execute_result"
    }
   ],
   "source": [
    "new_conf_papers[new_conf_papers.isna().any(axis=1)].shape[0]"
   ]
  },
  {
   "cell_type": "markdown",
   "metadata": {},
   "source": [
    "There are still 32 papers with missing year, we'll remove them.  \n",
    "We check most of the papers, they are not in this nips, but is in Machine Learning and Interpretation in Neuroimaging, which also has the abbreviation of nips."
   ]
  },
  {
   "cell_type": "code",
   "execution_count": 45,
   "metadata": {},
   "outputs": [],
   "source": [
    "new_conf_papers.dropna(inplace=True)"
   ]
  },
  {
   "cell_type": "code",
   "execution_count": 46,
   "metadata": {},
   "outputs": [],
   "source": [
    "# recreate the author-centric dataframe\n",
    "new_conf_authors = (new_conf_papers['authors']\n",
    "                    .apply(lambda x: x.replace('[', '').replace(']', '').replace('\\'', '').split(', ')).apply(pd.Series)\n",
    "                    .merge(new_conf_papers, left_index=True, right_index=True)\n",
    "                    .drop(['authors'], axis=1)\n",
    "                    .melt(id_vars = ['id', 'year', 'title', 'conference'], value_name = \"author\")\n",
    "                    .drop(\"variable\", axis = 1)\n",
    "                    .dropna(subset=['author']))"
   ]
  },
  {
   "cell_type": "code",
   "execution_count": 47,
   "metadata": {},
   "outputs": [
    {
     "data": {
      "text/plain": [
       "True"
      ]
     },
     "execution_count": 47,
     "metadata": {},
     "output_type": "execute_result"
    }
   ],
   "source": [
    "# check if the number of papers are equal in these two dataframs\n",
    "new_conf_papers.shape[0] == new_conf_authors['id'].nunique()"
   ]
  },
  {
   "cell_type": "code",
   "execution_count": 48,
   "metadata": {},
   "outputs": [
    {
     "data": {
      "text/plain": [
       "<matplotlib.axes._subplots.AxesSubplot at 0x13dede4d0>"
      ]
     },
     "execution_count": 48,
     "metadata": {},
     "output_type": "execute_result"
    },
    {
     "data": {
      "image/png": "[encoded data removed]",
      "text/plain": [
       "<Figure size 432x288 with 1 Axes>"
      ]
     },
     "metadata": {
      "needs_background": "light"
     },
     "output_type": "display_data"
    }
   ],
   "source": [
    "# redo A3.2\n",
    "new_conf_papers['year'].value_counts().sort_index().plot()"
   ]
  },
  {
   "cell_type": "code",
   "execution_count": 49,
   "metadata": {},
   "outputs": [
    {
     "data": {
      "text/plain": [
       "<matplotlib.axes._subplots.AxesSubplot at 0x13c2b4990>"
      ]
     },
     "execution_count": 49,
     "metadata": {},
     "output_type": "execute_result"
    },
    {
     "data": {
      "image/png": "[encoded data removed]",
      "text/plain": [
       "<Figure size 432x288 with 1 Axes>"
      ]
     },
     "metadata": {
      "needs_background": "light"
     },
     "output_type": "display_data"
    }
   ],
   "source": [
    "# redo A3.3\n",
    "ml_papers = new_conf_papers[new_conf_papers['conference'].apply(lambda x: x in mlconf)]\n",
    "ml_papers['year'].value_counts().sort_index().plot()"
   ]
  },
  {
   "cell_type": "markdown",
   "metadata": {
    "colab_type": "text",
    "id": "0h0Zw8cPTyEp"
   },
   "source": [
    "### A4. Author activity\n",
    "\n",
    "For each author, calculate their normalized paper count, defined as the total number of papers divided by the author’s period of activity. An author’s period of activity is defined as the number of years between the earliest and latest papers of this author. Plot the distribution of the normalized paper count. What is the appropriate scale for the axes? Does the distribution (roughly) follow a particular law, and if yes, which one?"
   ]
  },
  {
   "cell_type": "code",
   "execution_count": 50,
   "metadata": {
    "colab": {},
    "colab_type": "code",
    "id": "dGV5GAndl6LE"
   },
   "outputs": [],
   "source": [
    "# group df by authors' names\n",
    "new_conf_authors_grouped = new_conf_authors.groupby(new_conf_authors['author'])"
   ]
  },
  {
   "cell_type": "code",
   "execution_count": 51,
   "metadata": {},
   "outputs": [],
   "source": [
    "normalized_paper_count = []\n",
    "\n",
    "# go through all the groups\n",
    "for author, group in new_conf_authors_grouped:\n",
    "    # get total number of papers\n",
    "    total_num_paper = group.shape[0]\n",
    "    # get period of activity\n",
    "    period_of_activity = group['year'].max() - group['year'].min() + 1\n",
    "    normalized_paper_count.append(total_num_paper / period_of_activity)"
   ]
  },
  {
   "cell_type": "code",
   "execution_count": 52,
   "metadata": {},
   "outputs": [
    {
     "data": {
      "text/plain": [
       "(array([9.2342e+04, 1.0183e+04, 1.4170e+03, 3.0100e+02, 9.7000e+01,\n",
       "        4.0000e+01, 1.3000e+01, 1.1000e+01, 4.0000e+00, 2.0000e+00]),\n",
       " array([ 0.05128205,  1.04615385,  2.04102564,  3.03589744,  4.03076923,\n",
       "         5.02564103,  6.02051282,  7.01538462,  8.01025641,  9.00512821,\n",
       "        10.        ]),\n",
       " <a list of 10 Patch objects>)"
      ]
     },
     "execution_count": 52,
     "metadata": {},
     "output_type": "execute_result"
    },
    {
     "data": {
      "image/png": "[encoded data removed]",
      "text/plain": [
       "<Figure size 432x288 with 1 Axes>"
      ]
     },
     "metadata": {
      "needs_background": "light"
     },
     "output_type": "display_data"
    }
   ],
   "source": [
    "plt.hist(normalized_paper_count)"
   ]
  },
  {
   "cell_type": "markdown",
   "metadata": {},
   "source": [
    "It roughly follows a log normal distribution.\n",
    "\n",
    "# TODO!!!!"
   ]
  },
  {
   "cell_type": "code",
   "execution_count": 53,
   "metadata": {},
   "outputs": [],
   "source": [
    "# save paper-centric and author-centric df\n",
    "new_conf_papers.to_pickle('./data/conf_papers.pkl')\n",
    "new_conf_authors.to_pickle('./data/conf_authors.pkl')"
   ]
  },
  {
   "cell_type": "code",
   "execution_count": 54,
   "metadata": {},
   "outputs": [],
   "source": [
    "new_conf_papers = pd.read_pickle('./data/conf_papers.pkl')\n",
    "new_conf_authors = pd.read_pickle('./data/conf_authors.pkl')"
   ]
  },
  {
   "cell_type": "markdown",
   "metadata": {
    "colab_type": "text",
    "id": "ZM7pH8Y_UF3H"
   },
   "source": [
    "## Task B. Ranking authors\n",
    "\n",
    "As you may know, there exist rankings for universities, which represent their relative quality and are used to compare the performance of different universities. In the same vein, there are rankings for conferences and journals, which represent the importance and impact of each conference or journal, and therefore allow for approximate comparisons. In this part, you will rank authors based on different aspects of their research output.\n",
    "\n",
    "### B1. A Naïve Score\n",
    "\n",
    "In the absence of citation counts, it is hard to objectively rank the authors based on the impact of their contributions to the field of AI research. A naïve way would be to rank them based on their number of published papers. Obtain such a ranking and analyze your result. Identify and explain some obvious limitations of this scheme."
   ]
  },
  {
   "cell_type": "code",
   "execution_count": 55,
   "metadata": {},
   "outputs": [],
   "source": [
    "naive_rank = new_conf_authors['author'].value_counts().to_frame().reset_index().rename(columns={'index': 'author', 'author': 'score'})"
   ]
  },
  {
   "cell_type": "code",
   "execution_count": 56,
   "metadata": {},
   "outputs": [
    {
     "data": {
      "text/html": [
       "<div>\n",
       "<style scoped>\n",
       "    .dataframe tbody tr th:only-of-type {\n",
       "        vertical-align: middle;\n",
       "    }\n",
       "\n",
       "    .dataframe tbody tr th {\n",
       "        vertical-align: top;\n",
       "    }\n",
       "\n",
       "    .dataframe thead th {\n",
       "        text-align: right;\n",
       "    }\n",
       "</style>\n",
       "<table border=\"1\" class=\"dataframe\">\n",
       "  <thead>\n",
       "    <tr style=\"text-align: right;\">\n",
       "      <th></th>\n",
       "      <th>author</th>\n",
       "      <th>score</th>\n",
       "    </tr>\n",
       "  </thead>\n",
       "  <tbody>\n",
       "    <tr>\n",
       "      <td>0</td>\n",
       "      <td>Luc Van Gool</td>\n",
       "      <td>218</td>\n",
       "    </tr>\n",
       "    <tr>\n",
       "      <td>1</td>\n",
       "      <td>Toshio Fukuda</td>\n",
       "      <td>196</td>\n",
       "    </tr>\n",
       "    <tr>\n",
       "      <td>2</td>\n",
       "      <td>Thomas S. Huang</td>\n",
       "      <td>186</td>\n",
       "    </tr>\n",
       "    <tr>\n",
       "      <td>3</td>\n",
       "      <td>Michael I. Jordan</td>\n",
       "      <td>168</td>\n",
       "    </tr>\n",
       "    <tr>\n",
       "      <td>4</td>\n",
       "      <td>Trevor Darrell</td>\n",
       "      <td>158</td>\n",
       "    </tr>\n",
       "  </tbody>\n",
       "</table>\n",
       "</div>"
      ],
      "text/plain": [
       "              author  score\n",
       "0       Luc Van Gool    218\n",
       "1      Toshio Fukuda    196\n",
       "2    Thomas S. Huang    186\n",
       "3  Michael I. Jordan    168\n",
       "4     Trevor Darrell    158"
      ]
     },
     "execution_count": 56,
     "metadata": {},
     "output_type": "execute_result"
    }
   ],
   "source": [
    "naive_rank.head()"
   ]
  },
  {
   "cell_type": "code",
   "execution_count": 57,
   "metadata": {},
   "outputs": [
    {
     "data": {
      "text/html": [
       "<div>\n",
       "<style scoped>\n",
       "    .dataframe tbody tr th:only-of-type {\n",
       "        vertical-align: middle;\n",
       "    }\n",
       "\n",
       "    .dataframe tbody tr th {\n",
       "        vertical-align: top;\n",
       "    }\n",
       "\n",
       "    .dataframe thead th {\n",
       "        text-align: right;\n",
       "    }\n",
       "</style>\n",
       "<table border=\"1\" class=\"dataframe\">\n",
       "  <thead>\n",
       "    <tr style=\"text-align: right;\">\n",
       "      <th></th>\n",
       "      <th>author</th>\n",
       "      <th>score</th>\n",
       "    </tr>\n",
       "  </thead>\n",
       "  <tbody>\n",
       "    <tr>\n",
       "      <td>104405</td>\n",
       "      <td>Ramkrishan K. Kumar</td>\n",
       "      <td>1</td>\n",
       "    </tr>\n",
       "    <tr>\n",
       "      <td>104406</td>\n",
       "      <td>Debanjan Mahata</td>\n",
       "      <td>1</td>\n",
       "    </tr>\n",
       "    <tr>\n",
       "      <td>104407</td>\n",
       "      <td>Wolfgang Hess</td>\n",
       "      <td>1</td>\n",
       "    </tr>\n",
       "    <tr>\n",
       "      <td>104408</td>\n",
       "      <td>Jianpeng Zhou</td>\n",
       "      <td>1</td>\n",
       "    </tr>\n",
       "    <tr>\n",
       "      <td>104409</td>\n",
       "      <td>Daniele Faccio</td>\n",
       "      <td>1</td>\n",
       "    </tr>\n",
       "  </tbody>\n",
       "</table>\n",
       "</div>"
      ],
      "text/plain": [
       "                     author  score\n",
       "104405  Ramkrishan K. Kumar      1\n",
       "104406      Debanjan Mahata      1\n",
       "104407        Wolfgang Hess      1\n",
       "104408        Jianpeng Zhou      1\n",
       "104409       Daniele Faccio      1"
      ]
     },
     "execution_count": 57,
     "metadata": {},
     "output_type": "execute_result"
    }
   ],
   "source": [
    "naive_rank.tail()"
   ]
  },
  {
   "cell_type": "code",
   "execution_count": 58,
   "metadata": {},
   "outputs": [
    {
     "name": "stdout",
     "output_type": "stream",
     "text": [
      "Number of author who has 1 paper: 62368\n",
      "Number of author who has 2 paper: 16623\n"
     ]
    }
   ],
   "source": [
    "print('Number of author who has 1 paper:', naive_rank[naive_rank['score'] == 1].shape[0])\n",
    "print('Number of author who has 2 paper:', naive_rank[naive_rank['score'] == 2].shape[0])"
   ]
  },
  {
   "cell_type": "markdown",
   "metadata": {},
   "source": [
    "There are quite a lot author who has 1 or 2 papers. We can't really decide their ranking.  \n",
    "Also, we don't know which conferences or journals they submitted to. Some conferences and journals are more impactful than others."
   ]
  },
  {
   "cell_type": "markdown",
   "metadata": {},
   "source": [
    "### B2. H5-index\n",
    "\n",
    "Another way to score and rank authors could be based on the quality of the conferences and journals where they publish their papers. For this task, you have to use the H5-index score from AMiner (https://aminer.org/ranks/conf) (another database of scholarly publications), which captures the quality of academic conferences: the higher the H5-index, the better the conference.\n",
    "1. Load the AMiner dataset ( *'aminer_ai.tsv'* available in the folder ``data/``), which contains H5-index values for AI conferences. Load it into a new Pandas dataframe, and join it with the author-centric DBLP dataframe.\n",
    "2. Calculate a *'new'* author ranking (give each author a score, by which the authors are then sorted in order to obtain the ranking), where each author's score is the sum of the H5-indices of all their papers (the H5-index of a paper being the H5-index of the conference it is published in).\n",
    "3. Analyze your new, H5-index-based author ranking and explain how and why your results are different from the previous ranking. Do you see any differences in the top-20 authors based on the H5-index-based ranking and the one produced using publication counts? If yes, list the authors that are ranked in the top 20 based on publication counts but absent in the top 20 based on the H5-index-based ranking. Identify the ranks of these authors in the ranking produced by the H5-index based ranking scheme.\n",
    "4. Now, take the authors in the file `data/list_of_selected_authors.txt`, and compute their rankings using the two (naïve and H5-index-based) ranking schemes. What do you observe? Explain the potential dangers of the naïve, paper-count-based score.\n",
    "5. On the flip side, do you see any potential dangers of using the H5-index-based score?   \n",
    "_Hint: Analyze the conferences in which the top ranked authors publish. Investigate the effect of the conferences in which these authors publish more frequently on the obtained ranking._"
   ]
  },
  {
   "cell_type": "markdown",
   "metadata": {},
   "source": [
    "***B2.1***"
   ]
  },
  {
   "cell_type": "code",
   "execution_count": 59,
   "metadata": {},
   "outputs": [
    {
     "data": {
      "text/html": [
       "<div>\n",
       "<style scoped>\n",
       "    .dataframe tbody tr th:only-of-type {\n",
       "        vertical-align: middle;\n",
       "    }\n",
       "\n",
       "    .dataframe tbody tr th {\n",
       "        vertical-align: top;\n",
       "    }\n",
       "\n",
       "    .dataframe thead th {\n",
       "        text-align: right;\n",
       "    }\n",
       "</style>\n",
       "<table border=\"1\" class=\"dataframe\">\n",
       "  <thead>\n",
       "    <tr style=\"text-align: right;\">\n",
       "      <th></th>\n",
       "      <th>Rank</th>\n",
       "      <th>Conference (Full Name)</th>\n",
       "      <th>Short Name</th>\n",
       "      <th>H5-Index</th>\n",
       "    </tr>\n",
       "  </thead>\n",
       "  <tbody>\n",
       "    <tr>\n",
       "      <td>0</td>\n",
       "      <td>1</td>\n",
       "      <td>IEEE Conference on Computer Vision and Pattern...</td>\n",
       "      <td>cvpr</td>\n",
       "      <td>112</td>\n",
       "    </tr>\n",
       "    <tr>\n",
       "      <td>1</td>\n",
       "      <td>2</td>\n",
       "      <td>IEEE Transactions on Pattern Analysis and Mach...</td>\n",
       "      <td>tpami</td>\n",
       "      <td>101</td>\n",
       "    </tr>\n",
       "    <tr>\n",
       "      <td>2</td>\n",
       "      <td>3</td>\n",
       "      <td>Expert Systems with Applications</td>\n",
       "      <td>expert syst. appl.</td>\n",
       "      <td>59</td>\n",
       "    </tr>\n",
       "    <tr>\n",
       "      <td>3</td>\n",
       "      <td>4</td>\n",
       "      <td>International Journal of Computer Vision</td>\n",
       "      <td>ijcv</td>\n",
       "      <td>58</td>\n",
       "    </tr>\n",
       "    <tr>\n",
       "      <td>4</td>\n",
       "      <td>5</td>\n",
       "      <td>IEEE International Conference on Robotics and ...</td>\n",
       "      <td>icra</td>\n",
       "      <td>58</td>\n",
       "    </tr>\n",
       "  </tbody>\n",
       "</table>\n",
       "</div>"
      ],
      "text/plain": [
       "   Rank                             Conference (Full Name)  \\\n",
       "0     1  IEEE Conference on Computer Vision and Pattern...   \n",
       "1     2  IEEE Transactions on Pattern Analysis and Mach...   \n",
       "2     3                   Expert Systems with Applications   \n",
       "3     4           International Journal of Computer Vision   \n",
       "4     5  IEEE International Conference on Robotics and ...   \n",
       "\n",
       "           Short Name  H5-Index  \n",
       "0                cvpr       112  \n",
       "1               tpami       101  \n",
       "2  expert syst. appl.        59  \n",
       "3                ijcv        58  \n",
       "4                icra        58  "
      ]
     },
     "execution_count": 59,
     "metadata": {},
     "output_type": "execute_result"
    }
   ],
   "source": [
    "# load AMiner dataset and remove entry with no Short Name (nan)\n",
    "aminer = pd.read_csv('./data/aminer_ai.csv', sep=';').dropna()\n",
    "aminer['Short Name'] = aminer['Short Name'].apply(lambda x: x.lower())\n",
    "aminer.head()"
   ]
  },
  {
   "cell_type": "code",
   "execution_count": 60,
   "metadata": {},
   "outputs": [],
   "source": [
    "h5_conf_authors = new_conf_authors.merge(aminer, left_on='conference', right_on='Short Name')"
   ]
  },
  {
   "cell_type": "markdown",
   "metadata": {},
   "source": [
    "***B2.2***"
   ]
  },
  {
   "cell_type": "code",
   "execution_count": 61,
   "metadata": {},
   "outputs": [],
   "source": [
    "h5_conf_authors_grouped = h5_conf_authors.groupby(h5_conf_authors['author'])"
   ]
  },
  {
   "cell_type": "code",
   "execution_count": 62,
   "metadata": {},
   "outputs": [],
   "source": [
    "h5_rank = h5_conf_authors['author'].value_counts()\n",
    "h5_rank -= h5_rank\n",
    "\n",
    "# go through all the groups\n",
    "for author, group in h5_conf_authors_grouped:\n",
    "    for score in group['H5-Index']:\n",
    "        h5_rank[author] += score\n",
    "\n",
    "# turn it into a dataframe\n",
    "h5_rank = h5_rank.sort_values(ascending=False).to_frame().reset_index().rename(columns={'index': 'author', 'author': 'score'})"
   ]
  },
  {
   "cell_type": "markdown",
   "metadata": {},
   "source": [
    "***B2.3***"
   ]
  },
  {
   "cell_type": "code",
   "execution_count": 63,
   "metadata": {},
   "outputs": [
    {
     "data": {
      "text/html": [
       "<div>\n",
       "<style scoped>\n",
       "    .dataframe tbody tr th:only-of-type {\n",
       "        vertical-align: middle;\n",
       "    }\n",
       "\n",
       "    .dataframe tbody tr th {\n",
       "        vertical-align: top;\n",
       "    }\n",
       "\n",
       "    .dataframe thead th {\n",
       "        text-align: right;\n",
       "    }\n",
       "</style>\n",
       "<table border=\"1\" class=\"dataframe\">\n",
       "  <thead>\n",
       "    <tr style=\"text-align: right;\">\n",
       "      <th></th>\n",
       "      <th>author</th>\n",
       "      <th>score</th>\n",
       "    </tr>\n",
       "  </thead>\n",
       "  <tbody>\n",
       "    <tr>\n",
       "      <td>0</td>\n",
       "      <td>Luc Van Gool</td>\n",
       "      <td>218</td>\n",
       "    </tr>\n",
       "    <tr>\n",
       "      <td>1</td>\n",
       "      <td>Toshio Fukuda</td>\n",
       "      <td>196</td>\n",
       "    </tr>\n",
       "    <tr>\n",
       "      <td>2</td>\n",
       "      <td>Thomas S. Huang</td>\n",
       "      <td>186</td>\n",
       "    </tr>\n",
       "    <tr>\n",
       "      <td>3</td>\n",
       "      <td>Michael I. Jordan</td>\n",
       "      <td>168</td>\n",
       "    </tr>\n",
       "    <tr>\n",
       "      <td>4</td>\n",
       "      <td>Trevor Darrell</td>\n",
       "      <td>158</td>\n",
       "    </tr>\n",
       "    <tr>\n",
       "      <td>5</td>\n",
       "      <td>Shuicheng Yan</td>\n",
       "      <td>153</td>\n",
       "    </tr>\n",
       "    <tr>\n",
       "      <td>6</td>\n",
       "      <td>Takeo Kanade</td>\n",
       "      <td>151</td>\n",
       "    </tr>\n",
       "    <tr>\n",
       "      <td>7</td>\n",
       "      <td>Xiaoou Tang</td>\n",
       "      <td>148</td>\n",
       "    </tr>\n",
       "    <tr>\n",
       "      <td>8</td>\n",
       "      <td>Vijay Kumar 0001</td>\n",
       "      <td>143</td>\n",
       "    </tr>\n",
       "    <tr>\n",
       "      <td>9</td>\n",
       "      <td>Larry S. Davis</td>\n",
       "      <td>142</td>\n",
       "    </tr>\n",
       "  </tbody>\n",
       "</table>\n",
       "</div>"
      ],
      "text/plain": [
       "              author  score\n",
       "0       Luc Van Gool    218\n",
       "1      Toshio Fukuda    196\n",
       "2    Thomas S. Huang    186\n",
       "3  Michael I. Jordan    168\n",
       "4     Trevor Darrell    158\n",
       "5      Shuicheng Yan    153\n",
       "6       Takeo Kanade    151\n",
       "7        Xiaoou Tang    148\n",
       "8   Vijay Kumar 0001    143\n",
       "9     Larry S. Davis    142"
      ]
     },
     "execution_count": 63,
     "metadata": {},
     "output_type": "execute_result"
    }
   ],
   "source": [
    "# naive rank\n",
    "naive_rank.head(10)"
   ]
  },
  {
   "cell_type": "code",
   "execution_count": 64,
   "metadata": {},
   "outputs": [
    {
     "data": {
      "text/html": [
       "<div>\n",
       "<style scoped>\n",
       "    .dataframe tbody tr th:only-of-type {\n",
       "        vertical-align: middle;\n",
       "    }\n",
       "\n",
       "    .dataframe tbody tr th {\n",
       "        vertical-align: top;\n",
       "    }\n",
       "\n",
       "    .dataframe thead th {\n",
       "        text-align: right;\n",
       "    }\n",
       "</style>\n",
       "<table border=\"1\" class=\"dataframe\">\n",
       "  <thead>\n",
       "    <tr style=\"text-align: right;\">\n",
       "      <th></th>\n",
       "      <th>author</th>\n",
       "      <th>score</th>\n",
       "    </tr>\n",
       "  </thead>\n",
       "  <tbody>\n",
       "    <tr>\n",
       "      <td>0</td>\n",
       "      <td>Luc Van Gool</td>\n",
       "      <td>18607</td>\n",
       "    </tr>\n",
       "    <tr>\n",
       "      <td>1</td>\n",
       "      <td>Thomas S. Huang</td>\n",
       "      <td>14052</td>\n",
       "    </tr>\n",
       "    <tr>\n",
       "      <td>2</td>\n",
       "      <td>Xiaoou Tang</td>\n",
       "      <td>13102</td>\n",
       "    </tr>\n",
       "    <tr>\n",
       "      <td>3</td>\n",
       "      <td>Trevor Darrell</td>\n",
       "      <td>12763</td>\n",
       "    </tr>\n",
       "    <tr>\n",
       "      <td>4</td>\n",
       "      <td>Shuicheng Yan</td>\n",
       "      <td>12404</td>\n",
       "    </tr>\n",
       "    <tr>\n",
       "      <td>5</td>\n",
       "      <td>Toshio Fukuda</td>\n",
       "      <td>11368</td>\n",
       "    </tr>\n",
       "    <tr>\n",
       "      <td>6</td>\n",
       "      <td>Marc Pollefeys</td>\n",
       "      <td>11265</td>\n",
       "    </tr>\n",
       "    <tr>\n",
       "      <td>7</td>\n",
       "      <td>Larry S. Davis</td>\n",
       "      <td>11097</td>\n",
       "    </tr>\n",
       "    <tr>\n",
       "      <td>8</td>\n",
       "      <td>Martial Hebert</td>\n",
       "      <td>10629</td>\n",
       "    </tr>\n",
       "    <tr>\n",
       "      <td>9</td>\n",
       "      <td>Takeo Kanade</td>\n",
       "      <td>10569</td>\n",
       "    </tr>\n",
       "  </tbody>\n",
       "</table>\n",
       "</div>"
      ],
      "text/plain": [
       "            author  score\n",
       "0     Luc Van Gool  18607\n",
       "1  Thomas S. Huang  14052\n",
       "2      Xiaoou Tang  13102\n",
       "3   Trevor Darrell  12763\n",
       "4    Shuicheng Yan  12404\n",
       "5    Toshio Fukuda  11368\n",
       "6   Marc Pollefeys  11265\n",
       "7   Larry S. Davis  11097\n",
       "8   Martial Hebert  10629\n",
       "9     Takeo Kanade  10569"
      ]
     },
     "execution_count": 64,
     "metadata": {},
     "output_type": "execute_result"
    }
   ],
   "source": [
    "# h5 rank\n",
    "h5_rank.head(10)"
   ]
  },
  {
   "cell_type": "markdown",
   "metadata": {},
   "source": [
    "Yes, these two rankings are different. We think the reason why this happens is kind of the reason we predicted in B1. Some conferences and journals are more impactful than others. if you publish a lot of papers in not so impactful (low h5-index score), you will get a high ranking in the naive ranking, but not in the h5-index ranking."
   ]
  },
  {
   "cell_type": "code",
   "execution_count": 65,
   "metadata": {},
   "outputs": [
    {
     "name": "stdout",
     "output_type": "stream",
     "text": [
      "Authors who are not in top 20 of the new h5-index-based ranking:\n",
      "\n",
      "Vijay Kumar 0001. Rank 24 in the new h5 ranking.\n",
      "Wolfram Burgard. Rank 31 in the new h5 ranking.\n",
      "Dan Roth. Rank 61 in the new h5 ranking.\n",
      "Eric P. Xing. Rank 33 in the new h5 ranking.\n",
      "Roland Siegwart. Rank 28 in the new h5 ranking.\n",
      "Christopher D. Manning. Rank 64 in the new h5 ranking.\n",
      "Dan Klein. Rank 83 in the new h5 ranking.\n",
      "Bernhard Schölkopf. Rank 39 in the new h5 ranking.\n"
     ]
    }
   ],
   "source": [
    "# find out authors that are ranked in the top 20 based on publication counts\n",
    "# but absent in the top 20 based on the H5-index-based ranking\n",
    "print('Authors who are not in top 20 of the new h5-index-based ranking:\\n')\n",
    "for name in naive_rank.head(20)['author']:\n",
    "    if name not in h5_rank.head(20)['author'].values:\n",
    "        print(\"{}. Rank {} in the new h5 ranking.\".format(name, h5_rank[h5_rank['author'] == name].index.values[0] + 1))"
   ]
  },
  {
   "cell_type": "markdown",
   "metadata": {},
   "source": [
    "***B2.4***"
   ]
  },
  {
   "cell_type": "code",
   "execution_count": 66,
   "metadata": {},
   "outputs": [],
   "source": [
    "# read the selected authors from list_of_selected_authors.txt file\n",
    "# and save it into selected_authors list\n",
    "selected_authors = []\n",
    "with open('./data/list_of_selected_authors.txt', 'r') as f:\n",
    "    for line in f.readlines():\n",
    "        selected_authors.append(line.strip('\\n'))"
   ]
  },
  {
   "cell_type": "code",
   "execution_count": 67,
   "metadata": {},
   "outputs": [
    {
     "name": "stdout",
     "output_type": "stream",
     "text": [
      "Author, Naive ranking, H5 ranking\n",
      "Parag Havaldar, 34893, 19586\n",
      "Steffen Abraham, 37943, 19191\n",
      "Yukihiro Nakamura, 35516, 19292\n",
      "Iljung S. Kwak, 37365, 19373\n",
      "Charles Freundlich, 36322, 18958\n",
      "Mengjie Zhang, 3519, 22261\n",
      "Naokazu Yokoya, 4106, 20816\n",
      "Sebastian Otte, 4693, 21681\n",
      "Jianwu Dang, 5357, 40966\n",
      "Hy Murveit, 2328, 19340\n"
     ]
    }
   ],
   "source": [
    "print('Author, Naive ranking, H5 ranking')\n",
    "for name in selected_authors:\n",
    "#     name = name.lower()\n",
    "    n_ranking = naive_rank[naive_rank['author'] == name].index.values[0] + 1\n",
    "    h_ranking = h5_rank[h5_rank['author'] == name].index.values[0] + 1\n",
    "    print(\"{}, {}, {}\".format(name, n_ranking, h_ranking))"
   ]
  },
  {
   "cell_type": "markdown",
   "metadata": {},
   "source": [
    "We've observed that people who rank higher in naive ranking could rank lower in H5-index ranking.  \n",
    "For example, Hy Murveit rank 2304 in naive ranking, but rank 19296 in H5-index ranking.\n",
    "\n",
    "And people who rank lower in naive ranking could rank higher in H5-index ranking.\n",
    "For example, Charles Freundlich rank 28245 in naive ranking, but rank 19611 in H5-index ranking.\n",
    "\n",
    "Therefore, naïve, paper-count-based score is not reliable, because it doesn't take the importance of conferences and journals into consideration. If someone submit lots of paper in a less important conference, he will get a higher rank in this naive ranking with less impact than people who submit less paper but submit in a more important conference."
   ]
  },
  {
   "cell_type": "markdown",
   "metadata": {},
   "source": [
    "***B2.5***"
   ]
  },
  {
   "cell_type": "code",
   "execution_count": 68,
   "metadata": {},
   "outputs": [
    {
     "data": {
      "text/html": [
       "<div>\n",
       "<style scoped>\n",
       "    .dataframe tbody tr th:only-of-type {\n",
       "        vertical-align: middle;\n",
       "    }\n",
       "\n",
       "    .dataframe tbody tr th {\n",
       "        vertical-align: top;\n",
       "    }\n",
       "\n",
       "    .dataframe thead th {\n",
       "        text-align: right;\n",
       "    }\n",
       "</style>\n",
       "<table border=\"1\" class=\"dataframe\">\n",
       "  <thead>\n",
       "    <tr style=\"text-align: right;\">\n",
       "      <th></th>\n",
       "      <th>author</th>\n",
       "      <th>score</th>\n",
       "    </tr>\n",
       "  </thead>\n",
       "  <tbody>\n",
       "    <tr>\n",
       "      <td>0</td>\n",
       "      <td>Luc Van Gool</td>\n",
       "      <td>18607</td>\n",
       "    </tr>\n",
       "    <tr>\n",
       "      <td>1</td>\n",
       "      <td>Thomas S. Huang</td>\n",
       "      <td>14052</td>\n",
       "    </tr>\n",
       "    <tr>\n",
       "      <td>2</td>\n",
       "      <td>Xiaoou Tang</td>\n",
       "      <td>13102</td>\n",
       "    </tr>\n",
       "    <tr>\n",
       "      <td>3</td>\n",
       "      <td>Trevor Darrell</td>\n",
       "      <td>12763</td>\n",
       "    </tr>\n",
       "    <tr>\n",
       "      <td>4</td>\n",
       "      <td>Shuicheng Yan</td>\n",
       "      <td>12404</td>\n",
       "    </tr>\n",
       "  </tbody>\n",
       "</table>\n",
       "</div>"
      ],
      "text/plain": [
       "            author  score\n",
       "0     Luc Van Gool  18607\n",
       "1  Thomas S. Huang  14052\n",
       "2      Xiaoou Tang  13102\n",
       "3   Trevor Darrell  12763\n",
       "4    Shuicheng Yan  12404"
      ]
     },
     "execution_count": 68,
     "metadata": {},
     "output_type": "execute_result"
    }
   ],
   "source": [
    "h5_rank.head()"
   ]
  },
  {
   "cell_type": "code",
   "execution_count": 69,
   "metadata": {},
   "outputs": [
    {
     "data": {
      "text/plain": [
       "cvpr     132\n",
       "iccv      46\n",
       "accv      16\n",
       "icra      10\n",
       "nips       6\n",
       "fgr        5\n",
       "aaai       1\n",
       "icann      1\n",
       "icml       1\n",
       "Name: conference, dtype: int64"
      ]
     },
     "execution_count": 69,
     "metadata": {},
     "output_type": "execute_result"
    }
   ],
   "source": [
    "new_conf_authors[new_conf_authors['author'] == 'Luc Van Gool']['conference'].value_counts()"
   ]
  },
  {
   "cell_type": "markdown",
   "metadata": {},
   "source": [
    "We picked the number one ranked author Luc Van Gool. The top two conferences he published on are cvpr and iccv. They are all computer vision related conferences.\n",
    "\n",
    "We thinked the potential danger of H5-index-based score is people who don't published on the conferences about current popular fields (e.g. computer vision) will be difficult to get higher score. But if a research field is not the most popular for now, it doesn't mean it is not as important as the popular one.\n",
    "\n",
    "# TODO!!!!"
   ]
  },
  {
   "cell_type": "markdown",
   "metadata": {},
   "source": [
    "### B3. And Justice For All\n",
    "\n",
    "An ideal ranking scheme should not give undue advantage to authors who have been conducting research for a longer period of time and therefore have naturally published more papers when compared to a junior researcher. Does the ranking scheme designed by you in ``Step 2`` take this factor into account? If not, introduce variations in your ranking scheme to mitigate this effect. Do you observe anything odd with this new ranking? Clearly explain your observations.\n",
    "\n",
    "_Hint: What you did in part A4 may be useful here._"
   ]
  },
  {
   "cell_type": "markdown",
   "metadata": {},
   "source": [
    "The ranking scheme we designed in ``Step 2`` doesn't take this into account, so we introduced the period of activity from ``A4`` and tried to normalize the final score (score = sum of all the h5-index scores divided by the period of activity)."
   ]
  },
  {
   "cell_type": "code",
   "execution_count": 70,
   "metadata": {},
   "outputs": [],
   "source": [
    "nor_h5_rank = h5_conf_authors['author'].value_counts()\n",
    "nor_h5_rank -= nor_h5_rank\n",
    "\n",
    "# go through all the groups\n",
    "for author, group in h5_conf_authors_grouped:\n",
    "    for score in group['H5-Index']:\n",
    "        nor_h5_rank[author] += score\n",
    "    # +1 is for people who published only in one year\n",
    "    period_of_activity = group['year'].max() - group['year'].min() + 1\n",
    "    nor_h5_rank[author] /= period_of_activity\n",
    "\n",
    "# turn it into a dataframe\n",
    "nor_h5_rank = nor_h5_rank.sort_values(ascending=False).to_frame().reset_index().rename(columns={'index': 'author', 'author': 'score'})"
   ]
  },
  {
   "cell_type": "code",
   "execution_count": 71,
   "metadata": {},
   "outputs": [
    {
     "data": {
      "text/html": [
       "<div>\n",
       "<style scoped>\n",
       "    .dataframe tbody tr th:only-of-type {\n",
       "        vertical-align: middle;\n",
       "    }\n",
       "\n",
       "    .dataframe tbody tr th {\n",
       "        vertical-align: top;\n",
       "    }\n",
       "\n",
       "    .dataframe thead th {\n",
       "        text-align: right;\n",
       "    }\n",
       "</style>\n",
       "<table border=\"1\" class=\"dataframe\">\n",
       "  <thead>\n",
       "    <tr style=\"text-align: right;\">\n",
       "      <th></th>\n",
       "      <th>author</th>\n",
       "      <th>score</th>\n",
       "    </tr>\n",
       "  </thead>\n",
       "  <tbody>\n",
       "    <tr>\n",
       "      <td>0</td>\n",
       "      <td>Li Fei-Fei 0001</td>\n",
       "      <td>938</td>\n",
       "    </tr>\n",
       "    <tr>\n",
       "      <td>1</td>\n",
       "      <td>Xiaoou Tang</td>\n",
       "      <td>818</td>\n",
       "    </tr>\n",
       "    <tr>\n",
       "      <td>2</td>\n",
       "      <td>Shuicheng Yan</td>\n",
       "      <td>729</td>\n",
       "    </tr>\n",
       "    <tr>\n",
       "      <td>3</td>\n",
       "      <td>Jiashi Feng</td>\n",
       "      <td>684</td>\n",
       "    </tr>\n",
       "    <tr>\n",
       "      <td>4</td>\n",
       "      <td>Luc Van Gool</td>\n",
       "      <td>641</td>\n",
       "    </tr>\n",
       "  </tbody>\n",
       "</table>\n",
       "</div>"
      ],
      "text/plain": [
       "            author  score\n",
       "0  Li Fei-Fei 0001    938\n",
       "1      Xiaoou Tang    818\n",
       "2    Shuicheng Yan    729\n",
       "3      Jiashi Feng    684\n",
       "4     Luc Van Gool    641"
      ]
     },
     "execution_count": 71,
     "metadata": {},
     "output_type": "execute_result"
    }
   ],
   "source": [
    "nor_h5_rank.head()"
   ]
  },
  {
   "cell_type": "code",
   "execution_count": 72,
   "metadata": {},
   "outputs": [
    {
     "data": {
      "text/html": [
       "<div>\n",
       "<style scoped>\n",
       "    .dataframe tbody tr th:only-of-type {\n",
       "        vertical-align: middle;\n",
       "    }\n",
       "\n",
       "    .dataframe tbody tr th {\n",
       "        vertical-align: top;\n",
       "    }\n",
       "\n",
       "    .dataframe thead th {\n",
       "        text-align: right;\n",
       "    }\n",
       "</style>\n",
       "<table border=\"1\" class=\"dataframe\">\n",
       "  <thead>\n",
       "    <tr style=\"text-align: right;\">\n",
       "      <th></th>\n",
       "      <th>author</th>\n",
       "      <th>score</th>\n",
       "    </tr>\n",
       "  </thead>\n",
       "  <tbody>\n",
       "    <tr>\n",
       "      <td>0</td>\n",
       "      <td>Luc Van Gool</td>\n",
       "      <td>18607</td>\n",
       "    </tr>\n",
       "    <tr>\n",
       "      <td>1</td>\n",
       "      <td>Thomas S. Huang</td>\n",
       "      <td>14052</td>\n",
       "    </tr>\n",
       "    <tr>\n",
       "      <td>2</td>\n",
       "      <td>Xiaoou Tang</td>\n",
       "      <td>13102</td>\n",
       "    </tr>\n",
       "    <tr>\n",
       "      <td>3</td>\n",
       "      <td>Trevor Darrell</td>\n",
       "      <td>12763</td>\n",
       "    </tr>\n",
       "    <tr>\n",
       "      <td>4</td>\n",
       "      <td>Shuicheng Yan</td>\n",
       "      <td>12404</td>\n",
       "    </tr>\n",
       "  </tbody>\n",
       "</table>\n",
       "</div>"
      ],
      "text/plain": [
       "            author  score\n",
       "0     Luc Van Gool  18607\n",
       "1  Thomas S. Huang  14052\n",
       "2      Xiaoou Tang  13102\n",
       "3   Trevor Darrell  12763\n",
       "4    Shuicheng Yan  12404"
      ]
     },
     "execution_count": 72,
     "metadata": {},
     "output_type": "execute_result"
    }
   ],
   "source": [
    "h5_rank.head()"
   ]
  },
  {
   "cell_type": "code",
   "execution_count": 79,
   "metadata": {},
   "outputs": [
    {
     "data": {
      "text/html": [
       "<div>\n",
       "<style scoped>\n",
       "    .dataframe tbody tr th:only-of-type {\n",
       "        vertical-align: middle;\n",
       "    }\n",
       "\n",
       "    .dataframe tbody tr th {\n",
       "        vertical-align: top;\n",
       "    }\n",
       "\n",
       "    .dataframe thead th {\n",
       "        text-align: right;\n",
       "    }\n",
       "</style>\n",
       "<table border=\"1\" class=\"dataframe\">\n",
       "  <thead>\n",
       "    <tr style=\"text-align: right;\">\n",
       "      <th></th>\n",
       "      <th>id</th>\n",
       "      <th>year</th>\n",
       "      <th>title</th>\n",
       "      <th>conference</th>\n",
       "      <th>author</th>\n",
       "    </tr>\n",
       "  </thead>\n",
       "  <tbody>\n",
       "    <tr>\n",
       "      <td>202058</td>\n",
       "      <td>conf/iccv/GebruHF17</td>\n",
       "      <td>2017.0</td>\n",
       "      <td>Fine-Grained Recognition in the Wild: A Multi-...</td>\n",
       "      <td>iccv</td>\n",
       "      <td>Li Fei-Fei 0001</td>\n",
       "    </tr>\n",
       "    <tr>\n",
       "      <td>222279</td>\n",
       "      <td>conf/icra/AlahiWFS17</td>\n",
       "      <td>2017.0</td>\n",
       "      <td>Unsupervised camera localization in crowded sp...</td>\n",
       "      <td>icra</td>\n",
       "      <td>Li Fei-Fei 0001</td>\n",
       "    </tr>\n",
       "    <tr>\n",
       "      <td>241229</td>\n",
       "      <td>conf/cvpr/ChenLFG18</td>\n",
       "      <td>2018.0</td>\n",
       "      <td>Iterative Visual Reasoning Beyond Convolutions.</td>\n",
       "      <td>cvpr</td>\n",
       "      <td>Li Fei-Fei 0001</td>\n",
       "    </tr>\n",
       "    <tr>\n",
       "      <td>241231</td>\n",
       "      <td>conf/cvpr/GuptaJFSA18</td>\n",
       "      <td>2018.0</td>\n",
       "      <td>Social GAN: Socially Acceptable Trajectories W...</td>\n",
       "      <td>cvpr</td>\n",
       "      <td>Li Fei-Fei 0001</td>\n",
       "    </tr>\n",
       "    <tr>\n",
       "      <td>241411</td>\n",
       "      <td>conf/cvpr/ZhuLF17</td>\n",
       "      <td>2017.0</td>\n",
       "      <td>Knowledge Acquisition for Visual Question Answ...</td>\n",
       "      <td>cvpr</td>\n",
       "      <td>Li Fei-Fei 0001</td>\n",
       "    </tr>\n",
       "    <tr>\n",
       "      <td>245268</td>\n",
       "      <td>conf/cvpr/HuangLFN17</td>\n",
       "      <td>2017.0</td>\n",
       "      <td>Unsupervised Visual-Linguistic Reference Resol...</td>\n",
       "      <td>cvpr</td>\n",
       "      <td>Li Fei-Fei 0001</td>\n",
       "    </tr>\n",
       "    <tr>\n",
       "      <td>246241</td>\n",
       "      <td>conf/cvpr/JohnsonGF18</td>\n",
       "      <td>2018.0</td>\n",
       "      <td>Image Generation From Scene Graphs.</td>\n",
       "      <td>cvpr</td>\n",
       "      <td>Li Fei-Fei 0001</td>\n",
       "    </tr>\n",
       "    <tr>\n",
       "      <td>247470</td>\n",
       "      <td>conf/cvpr/JohnsonKF16</td>\n",
       "      <td>2016.0</td>\n",
       "      <td>DenseCap: Fully Convolutional Localization Net...</td>\n",
       "      <td>cvpr</td>\n",
       "      <td>Li Fei-Fei 0001</td>\n",
       "    </tr>\n",
       "    <tr>\n",
       "      <td>250233</td>\n",
       "      <td>conf/cvpr/HaqueAF16</td>\n",
       "      <td>2016.0</td>\n",
       "      <td>Recurrent Attention Models for Depth-Based Per...</td>\n",
       "      <td>cvpr</td>\n",
       "      <td>Li Fei-Fei 0001</td>\n",
       "    </tr>\n",
       "    <tr>\n",
       "      <td>301202</td>\n",
       "      <td>conf/iccv/GuptaJAF17</td>\n",
       "      <td>2017.0</td>\n",
       "      <td>Characterizing and Improving Stability in Neur...</td>\n",
       "      <td>iccv</td>\n",
       "      <td>Li Fei-Fei 0001</td>\n",
       "    </tr>\n",
       "    <tr>\n",
       "      <td>302041</td>\n",
       "      <td>conf/iccv/KrishnaHRFN17</td>\n",
       "      <td>2017.0</td>\n",
       "      <td>Dense-Captioning Events in Videos.</td>\n",
       "      <td>iccv</td>\n",
       "      <td>Li Fei-Fei 0001</td>\n",
       "    </tr>\n",
       "    <tr>\n",
       "      <td>341014</td>\n",
       "      <td>conf/cvpr/ZhuGBF16</td>\n",
       "      <td>2016.0</td>\n",
       "      <td>Visual7W: Grounded Question Answering in Images.</td>\n",
       "      <td>cvpr</td>\n",
       "      <td>Li Fei-Fei 0001</td>\n",
       "    </tr>\n",
       "    <tr>\n",
       "      <td>342453</td>\n",
       "      <td>conf/cvpr/NakamuraYAF17</td>\n",
       "      <td>2017.0</td>\n",
       "      <td>Jointly Learning Energy Expenditures and Activ...</td>\n",
       "      <td>cvpr</td>\n",
       "      <td>Li Fei-Fei 0001</td>\n",
       "    </tr>\n",
       "    <tr>\n",
       "      <td>346545</td>\n",
       "      <td>conf/cvpr/YeungRMF16</td>\n",
       "      <td>2016.0</td>\n",
       "      <td>End-to-End Learning of Action Detection from F...</td>\n",
       "      <td>cvpr</td>\n",
       "      <td>Li Fei-Fei 0001</td>\n",
       "    </tr>\n",
       "    <tr>\n",
       "      <td>347338</td>\n",
       "      <td>conf/cvpr/KrishnaCBF18</td>\n",
       "      <td>2018.0</td>\n",
       "      <td>Referring Relationships.</td>\n",
       "      <td>cvpr</td>\n",
       "      <td>Li Fei-Fei 0001</td>\n",
       "    </tr>\n",
       "    <tr>\n",
       "      <td>348066</td>\n",
       "      <td>conf/cvpr/KrauseJKF17</td>\n",
       "      <td>2017.0</td>\n",
       "      <td>A Hierarchical Approach for Generating Descrip...</td>\n",
       "      <td>cvpr</td>\n",
       "      <td>Li Fei-Fei 0001</td>\n",
       "    </tr>\n",
       "    <tr>\n",
       "      <td>350743</td>\n",
       "      <td>conf/cvpr/XuZCF17</td>\n",
       "      <td>2017.0</td>\n",
       "      <td>Scene Graph Generation by Iterative Message Pa...</td>\n",
       "      <td>cvpr</td>\n",
       "      <td>Li Fei-Fei 0001</td>\n",
       "    </tr>\n",
       "    <tr>\n",
       "      <td>351980</td>\n",
       "      <td>conf/cvpr/JohnsonHMFZG17</td>\n",
       "      <td>2017.0</td>\n",
       "      <td>CLEVR: A Diagnostic Dataset for Compositional ...</td>\n",
       "      <td>cvpr</td>\n",
       "      <td>Li Fei-Fei 0001</td>\n",
       "    </tr>\n",
       "    <tr>\n",
       "      <td>399711</td>\n",
       "      <td>conf/iccv/ZhuGKFFGMF17</td>\n",
       "      <td>2017.0</td>\n",
       "      <td>Visual Semantic Planning Using Deep Successor ...</td>\n",
       "      <td>iccv</td>\n",
       "      <td>Li Fei-Fei 0001</td>\n",
       "    </tr>\n",
       "    <tr>\n",
       "      <td>400844</td>\n",
       "      <td>conf/iccv/JohnsonHMHFZG17</td>\n",
       "      <td>2017.0</td>\n",
       "      <td>Inferring and Executing Programs for Visual Re...</td>\n",
       "      <td>iccv</td>\n",
       "      <td>Li Fei-Fei 0001</td>\n",
       "    </tr>\n",
       "    <tr>\n",
       "      <td>448888</td>\n",
       "      <td>conf/cvpr/LuoPHAF17</td>\n",
       "      <td>2017.0</td>\n",
       "      <td>Unsupervised Learning of Long-Term Motion Dyna...</td>\n",
       "      <td>cvpr</td>\n",
       "      <td>Li Fei-Fei 0001</td>\n",
       "    </tr>\n",
       "    <tr>\n",
       "      <td>451474</td>\n",
       "      <td>conf/cvpr/HuangBDGFN18</td>\n",
       "      <td>2018.0</td>\n",
       "      <td>Finding \"It\": Weakly-Supervised Reference-Awar...</td>\n",
       "      <td>cvpr</td>\n",
       "      <td>Li Fei-Fei 0001</td>\n",
       "    </tr>\n",
       "    <tr>\n",
       "      <td>472233</td>\n",
       "      <td>conf/icml/JiangZLLF18</td>\n",
       "      <td>2018.0</td>\n",
       "      <td>MentorNet: Learning Data-Driven Curriculum for...</td>\n",
       "      <td>icml</td>\n",
       "      <td>Li Fei-Fei 0001</td>\n",
       "    </tr>\n",
       "    <tr>\n",
       "      <td>512668</td>\n",
       "      <td>conf/icra/XuNZGGFS18</td>\n",
       "      <td>2018.0</td>\n",
       "      <td>Neural Task Programming: Learning to Generaliz...</td>\n",
       "      <td>icra</td>\n",
       "      <td>Li Fei-Fei 0001</td>\n",
       "    </tr>\n",
       "    <tr>\n",
       "      <td>517797</td>\n",
       "      <td>conf/icra/ZhuMKLGFF17</td>\n",
       "      <td>2017.0</td>\n",
       "      <td>Target-driven visual navigation in indoor scen...</td>\n",
       "      <td>icra</td>\n",
       "      <td>Li Fei-Fei 0001</td>\n",
       "    </tr>\n",
       "    <tr>\n",
       "      <td>540195</td>\n",
       "      <td>conf/cvpr/HuangRMTPFN18</td>\n",
       "      <td>2018.0</td>\n",
       "      <td>What Makes a Video a Video: Analyzing Temporal...</td>\n",
       "      <td>cvpr</td>\n",
       "      <td>Li Fei-Fei 0001</td>\n",
       "    </tr>\n",
       "    <tr>\n",
       "      <td>547153</td>\n",
       "      <td>conf/cvpr/YeungRRSMF17</td>\n",
       "      <td>2017.0</td>\n",
       "      <td>Learning to Learn from Noisy Web Videos.</td>\n",
       "      <td>cvpr</td>\n",
       "      <td>Li Fei-Fei 0001</td>\n",
       "    </tr>\n",
       "    <tr>\n",
       "      <td>550069</td>\n",
       "      <td>conf/cvpr/RamanathanHAG0F16</td>\n",
       "      <td>2016.0</td>\n",
       "      <td>Detecting Events and Key Actors in Multi-perso...</td>\n",
       "      <td>cvpr</td>\n",
       "      <td>Li Fei-Fei 0001</td>\n",
       "    </tr>\n",
       "    <tr>\n",
       "      <td>640584</td>\n",
       "      <td>conf/cvpr/Li0HXWLF18</td>\n",
       "      <td>2018.0</td>\n",
       "      <td>Thoracic Disease Identification and Localizati...</td>\n",
       "      <td>cvpr</td>\n",
       "      <td>Li Fei-Fei 0001</td>\n",
       "    </tr>\n",
       "    <tr>\n",
       "      <td>673917</td>\n",
       "      <td>conf/icml/ZhouMBGYLF18</td>\n",
       "      <td>2018.0</td>\n",
       "      <td>Distributed Asynchronous Optimization with Unb...</td>\n",
       "      <td>icml</td>\n",
       "      <td>Li Fei-Fei 0001</td>\n",
       "    </tr>\n",
       "  </tbody>\n",
       "</table>\n",
       "</div>"
      ],
      "text/plain": [
       "                                 id    year  \\\n",
       "202058          conf/iccv/GebruHF17  2017.0   \n",
       "222279         conf/icra/AlahiWFS17  2017.0   \n",
       "241229          conf/cvpr/ChenLFG18  2018.0   \n",
       "241231        conf/cvpr/GuptaJFSA18  2018.0   \n",
       "241411            conf/cvpr/ZhuLF17  2017.0   \n",
       "245268         conf/cvpr/HuangLFN17  2017.0   \n",
       "246241        conf/cvpr/JohnsonGF18  2018.0   \n",
       "247470        conf/cvpr/JohnsonKF16  2016.0   \n",
       "250233          conf/cvpr/HaqueAF16  2016.0   \n",
       "301202         conf/iccv/GuptaJAF17  2017.0   \n",
       "302041      conf/iccv/KrishnaHRFN17  2017.0   \n",
       "341014           conf/cvpr/ZhuGBF16  2016.0   \n",
       "342453      conf/cvpr/NakamuraYAF17  2017.0   \n",
       "346545         conf/cvpr/YeungRMF16  2016.0   \n",
       "347338       conf/cvpr/KrishnaCBF18  2018.0   \n",
       "348066        conf/cvpr/KrauseJKF17  2017.0   \n",
       "350743            conf/cvpr/XuZCF17  2017.0   \n",
       "351980     conf/cvpr/JohnsonHMFZG17  2017.0   \n",
       "399711       conf/iccv/ZhuGKFFGMF17  2017.0   \n",
       "400844    conf/iccv/JohnsonHMHFZG17  2017.0   \n",
       "448888          conf/cvpr/LuoPHAF17  2017.0   \n",
       "451474       conf/cvpr/HuangBDGFN18  2018.0   \n",
       "472233        conf/icml/JiangZLLF18  2018.0   \n",
       "512668         conf/icra/XuNZGGFS18  2018.0   \n",
       "517797        conf/icra/ZhuMKLGFF17  2017.0   \n",
       "540195      conf/cvpr/HuangRMTPFN18  2018.0   \n",
       "547153       conf/cvpr/YeungRRSMF17  2017.0   \n",
       "550069  conf/cvpr/RamanathanHAG0F16  2016.0   \n",
       "640584         conf/cvpr/Li0HXWLF18  2018.0   \n",
       "673917       conf/icml/ZhouMBGYLF18  2018.0   \n",
       "\n",
       "                                                    title conference  \\\n",
       "202058  Fine-Grained Recognition in the Wild: A Multi-...       iccv   \n",
       "222279  Unsupervised camera localization in crowded sp...       icra   \n",
       "241229    Iterative Visual Reasoning Beyond Convolutions.       cvpr   \n",
       "241231  Social GAN: Socially Acceptable Trajectories W...       cvpr   \n",
       "241411  Knowledge Acquisition for Visual Question Answ...       cvpr   \n",
       "245268  Unsupervised Visual-Linguistic Reference Resol...       cvpr   \n",
       "246241                Image Generation From Scene Graphs.       cvpr   \n",
       "247470  DenseCap: Fully Convolutional Localization Net...       cvpr   \n",
       "250233  Recurrent Attention Models for Depth-Based Per...       cvpr   \n",
       "301202  Characterizing and Improving Stability in Neur...       iccv   \n",
       "302041                 Dense-Captioning Events in Videos.       iccv   \n",
       "341014   Visual7W: Grounded Question Answering in Images.       cvpr   \n",
       "342453  Jointly Learning Energy Expenditures and Activ...       cvpr   \n",
       "346545  End-to-End Learning of Action Detection from F...       cvpr   \n",
       "347338                           Referring Relationships.       cvpr   \n",
       "348066  A Hierarchical Approach for Generating Descrip...       cvpr   \n",
       "350743  Scene Graph Generation by Iterative Message Pa...       cvpr   \n",
       "351980  CLEVR: A Diagnostic Dataset for Compositional ...       cvpr   \n",
       "399711  Visual Semantic Planning Using Deep Successor ...       iccv   \n",
       "400844  Inferring and Executing Programs for Visual Re...       iccv   \n",
       "448888  Unsupervised Learning of Long-Term Motion Dyna...       cvpr   \n",
       "451474  Finding \"It\": Weakly-Supervised Reference-Awar...       cvpr   \n",
       "472233  MentorNet: Learning Data-Driven Curriculum for...       icml   \n",
       "512668  Neural Task Programming: Learning to Generaliz...       icra   \n",
       "517797  Target-driven visual navigation in indoor scen...       icra   \n",
       "540195  What Makes a Video a Video: Analyzing Temporal...       cvpr   \n",
       "547153           Learning to Learn from Noisy Web Videos.       cvpr   \n",
       "550069  Detecting Events and Key Actors in Multi-perso...       cvpr   \n",
       "640584  Thoracic Disease Identification and Localizati...       cvpr   \n",
       "673917  Distributed Asynchronous Optimization with Unb...       icml   \n",
       "\n",
       "                 author  \n",
       "202058  Li Fei-Fei 0001  \n",
       "222279  Li Fei-Fei 0001  \n",
       "241229  Li Fei-Fei 0001  \n",
       "241231  Li Fei-Fei 0001  \n",
       "241411  Li Fei-Fei 0001  \n",
       "245268  Li Fei-Fei 0001  \n",
       "246241  Li Fei-Fei 0001  \n",
       "247470  Li Fei-Fei 0001  \n",
       "250233  Li Fei-Fei 0001  \n",
       "301202  Li Fei-Fei 0001  \n",
       "302041  Li Fei-Fei 0001  \n",
       "341014  Li Fei-Fei 0001  \n",
       "342453  Li Fei-Fei 0001  \n",
       "346545  Li Fei-Fei 0001  \n",
       "347338  Li Fei-Fei 0001  \n",
       "348066  Li Fei-Fei 0001  \n",
       "350743  Li Fei-Fei 0001  \n",
       "351980  Li Fei-Fei 0001  \n",
       "399711  Li Fei-Fei 0001  \n",
       "400844  Li Fei-Fei 0001  \n",
       "448888  Li Fei-Fei 0001  \n",
       "451474  Li Fei-Fei 0001  \n",
       "472233  Li Fei-Fei 0001  \n",
       "512668  Li Fei-Fei 0001  \n",
       "517797  Li Fei-Fei 0001  \n",
       "540195  Li Fei-Fei 0001  \n",
       "547153  Li Fei-Fei 0001  \n",
       "550069  Li Fei-Fei 0001  \n",
       "640584  Li Fei-Fei 0001  \n",
       "673917  Li Fei-Fei 0001  "
      ]
     },
     "execution_count": 79,
     "metadata": {},
     "output_type": "execute_result"
    }
   ],
   "source": [
    "new_conf_authors[new_conf_authors['author'].apply(lambda x: 'Li Fei-Fei' in x)]"
   ]
  },
  {
   "cell_type": "markdown",
   "metadata": {},
   "source": [
    "The top ranked author in the normallized ranking is Li Fei-Fei 0001. It's odd that the name contains some number.  \n",
    "\n",
    "We searched the name on dblp and found out that the number is for disambiguation, because there are authors who have the same name. But in this dataset, it seems like there are only Li Fei-Fei 0001.\n",
    "\n",
    "# TODO!!!!"
   ]
  },
  {
   "cell_type": "markdown",
   "metadata": {},
   "source": [
    "## Task C. Trending topics\n",
    "\n",
    "Historically, the field of AI has witnessed research in two broad flavors: “symbolic” (logic, planning, control, etc.) vs. “connectionist” (neural networks, deep learning, Bayesian methods, etc.). Let’s see if we can see how the popularity of these two approaches to AI is reflected in the DBLP data.\n",
    "\n",
    "To this end, construct two dataframes: ``symbolic`` and ``connectionist``. ``symbolic`` is your cleaned paper-centric dataframe from part A (after fixing everything per the task description) filtered down to those papers whose titles contain at least one of the following words (not differentiating between upper and lower case letters): “logic”, “planning”, “control”; ``connectionist`` is a dataframe constructed in a similar manner, but with the words “deep”, “learning”, “feature”, “bayesian”. Plot the number of papers per year for ``symbolic`` and ``connectionist`` separately (i.e., 2 plots).\n",
    "1. Describe the trends you observe. Based on these plots alone, what might one conclude about the popularity of the two approaches to AI?\n",
    "2. Moving beyond these plots, what do you, as a careful data scientist, conclude about the popularity of symbolic vs. connectionist AI? Corroborate your reasoning with further plots.\n",
    "\n",
    "_Note: You could use the text handling utilities below to clean the text in the paper titles._"
   ]
  },
  {
   "cell_type": "code",
   "execution_count": 74,
   "metadata": {},
   "outputs": [],
   "source": [
    "# Text handling utilities\n",
    "from string import punctuation\n",
    "stopwords_list = open('data/stopwords.txt', 'r').readlines()\n",
    "stopwords_list = [x.strip() for x in stopwords_list]\n",
    "def stopword_remover(text):\n",
    "    text_list = text.split()\n",
    "    text_list = [x for x in text_list if x not in stopwords_list]\n",
    "    return ' '.join(text_list)\n",
    "def lowercase_all(text):\n",
    "    return text.lower()\n",
    "def remove_punct(text):\n",
    "    return ''.join([ch for ch in text if ch not in punctuation])"
   ]
  },
  {
   "cell_type": "code",
   "execution_count": 75,
   "metadata": {},
   "outputs": [],
   "source": [
    "# clean text in the paper titles\n",
    "clean_conf_papers = new_conf_papers.copy()\n",
    "clean_conf_papers['title'] = clean_conf_papers['title'].apply(stopword_remover).apply(lowercase_all).apply(remove_punct)"
   ]
  },
  {
   "cell_type": "code",
   "execution_count": 76,
   "metadata": {},
   "outputs": [
    {
     "data": {
      "text/plain": [
       "0    object recognition using feature search strate...\n",
       "1                          threedimensional scene flow\n",
       "2    fluid motion recovery coupling dense parametri...\n",
       "3    qualitative 3d shape reconstruction using dist...\n",
       "4    gplac generalizing visionbased robotic skills ...\n",
       "Name: title, dtype: object"
      ]
     },
     "execution_count": 76,
     "metadata": {},
     "output_type": "execute_result"
    }
   ],
   "source": [
    "clean_conf_papers['title'].head()"
   ]
  },
  {
   "cell_type": "code",
   "execution_count": 77,
   "metadata": {},
   "outputs": [
    {
     "data": {
      "text/plain": [
       "<matplotlib.axes._subplots.AxesSubplot at 0x125b28190>"
      ]
     },
     "execution_count": 77,
     "metadata": {},
     "output_type": "execute_result"
    },
    {
     "data": {
      "image/png": "[encoded data removed]",
      "text/plain": [
       "<Figure size 432x288 with 1 Axes>"
      ]
     },
     "metadata": {
      "needs_background": "light"
     },
     "output_type": "display_data"
    }
   ],
   "source": [
    "def detect_words(x, words_list):\n",
    "    det = [word in words_list for word in x.split(' ')]\n",
    "    return bool(sum(det))\n",
    "\n",
    "words_symbolic = ['logic', 'planning', 'control']\n",
    "symbolic = clean_conf_papers[clean_conf_papers['title'].apply(detect_words, words_list=words_symbolic)]\n",
    "\n",
    "symbolic['year'].value_counts().sort_index().plot()"
   ]
  },
  {
   "cell_type": "code",
   "execution_count": 78,
   "metadata": {},
   "outputs": [
    {
     "data": {
      "text/plain": [
       "<matplotlib.axes._subplots.AxesSubplot at 0x18ad20210>"
      ]
     },
     "execution_count": 78,
     "metadata": {},
     "output_type": "execute_result"
    },
    {
     "data": {
      "image/png": "[encoded data removed]",
      "text/plain": [
       "<Figure size 432x288 with 1 Axes>"
      ]
     },
     "metadata": {
      "needs_background": "light"
     },
     "output_type": "display_data"
    }
   ],
   "source": [
    "words_connectionist = ['deep', 'learning', 'feature', 'bayesian']\n",
    "connectionist = clean_conf_papers[clean_conf_papers['title'].apply(detect_words, words_list=words_connectionist)]\n",
    "\n",
    "connectionist['year'].value_counts().sort_index().plot()"
   ]
  },
  {
   "cell_type": "markdown",
   "metadata": {},
   "source": [
    "According to these two plots, we conclude that the growth of \"symbolic\" field bas slow down and almost saturtate (the number of paper stays the same in recent years).\n",
    "\n",
    "As for the \"connectionist\" field, it is growing faster and faster, almost like a exponential growth."
   ]
  },
  {
   "cell_type": "markdown",
   "metadata": {},
   "source": [
    "# TODO!!!!"
   ]
  }
 ],
 "metadata": {
  "colab": {
   "collapsed_sections": [],
   "name": "Homework 1.ipynb",
   "provenance": []
  },
  "kernelspec": {
   "display_name": "Python [conda env:ada] *",
   "language": "python",
   "name": "conda-env-ada-py"
  },
  "language_info": {
   "codemirror_mode": {
    "name": "ipython",
    "version": 3
   },
   "file_extension": ".py",
   "mimetype": "text/x-python",
   "name": "python",
   "nbconvert_exporter": "python",
   "pygments_lexer": "ipython3",
   "version": "3.7.4"
  },
  "toc": {
   "base_numbering": 1,
   "nav_menu": {},
   "number_sections": false,
   "sideBar": true,
   "skip_h1_title": true,
   "title_cell": "Table of Contents",
   "title_sidebar": "Contents",
   "toc_cell": false,
   "toc_position": {},
   "toc_section_display": true,
   "toc_window_display": false
  }
 },
 "nbformat": 4,
 "nbformat_minor": 4
}
