{
 "cells": [
  {
   "cell_type": "markdown",
   "metadata": {},
   "source": [
    "# Homework 2\n",
    "\n",
    "## Introduction\n",
    "\n",
    "### Important dates\n",
    "\n",
    "* Homework release: Thursday, 7th November 2019\n",
    "* **Homework due: Wednesday, 20th November 2019 (23:59 hours, 11:59 PM)**\n",
    "* **Peer review due: Wednesday, 27th November 2019 (23:59 hours, 11:59 PM)**\n",
    "* Grading release: Monday, 9th December 2019"
   ]
  },
  {
   "cell_type": "markdown",
   "metadata": {},
   "source": [
    "**Some rules:**\n",
    "* You are allowed to use any built-in Python library that comes with Anaconda. You should make heavy use of `sklearn`, which will save you from (re)implementing any of the classical machine learning algorithms yourself. If you want to use an external library, you have to justify your choice.\n",
    "* Make sure you use the data folder provided in the repository in read-only mode.\n",
    "* Be sure to provide textual description of your thought process, the assumptions you made, the solution you implemented, and explanations for your answers. A notebook that only has code cells will not suffice.\n",
    "* Back up any hypotheses and claims with data, since this is an important aspect of the course.\n",
    "* Please write all your comments in English, and use meaningful variable names in your code. Your repo should have a single notebook (plus the data files necessary) in the master branch. If there are multiple notebooks present, we will not grade anything.\n",
    "* Also, be sure to hand in a fully-run and evaluated notebook. We will not run your notebook for you, we will grade it as is, which means that only the results contained in your evaluated code cells will be considered, and we will not see the results in unevaluated code cells. In order to check whether everything looks as intended, you can check the rendered notebook on the GitHub website once you have pushed your solution there.\n",
    "* **Important Note:** Owing to the scale of the datasets some tasks might take longer to finish, and hence, it is *recommended* that you start working on this homework as early as possible."
   ]
  },
  {
   "cell_type": "markdown",
   "metadata": {},
   "source": [
    "# Task A: Applied ML and Reading the Stats\n",
    "\n",
    "## Description\n",
    "\n",
    "You have been appointed as the manager/head-coach of Lausanne's men's football team [FC Lausanne-Sport](https://en.wikipedia.org/wiki/FC_Lausanne-Sport), and as a first step towards improving the team you decide to hire a new player. One way to assess the quality of a player would be to watch the games in which he participates. Since there are 22 players on the field, he will typically only have the ball for around 5-10 minutes per game. In addition, the ADA homework takes up all your free time, and hence, you need a more efficient and elegant solution.\n",
    "\n",
    "You hypothesize that perhaps looking at the *physical capabilities* of the candidates such as *'running'* and *'jumping'* might be a good enough proxy for their skill as a football player. Thus, you come up with the idea of letting candidate players do just a couple of exercises such as *'100m sprint'* and *'high jump'*, and decide on one of the candidates based on his performance in these exercises. Because you are an aspiring data scientist, you want to use machine learning to optimize the player selection.\n",
    "\n",
    "You come across a dataset of players from the football video game [FIFA 19](https://www.ea.com/games/fifa/fifa-19), which contains hand-annotated data about thousands of real-world football players, in particular about their skills in different domains.\n",
    "Each row of the dataset corresponds to a player (you might recognize some of them). It contains information such as the player's nationality and their market value. However, the attributes that we are interested in are the skills of the players in various footballing aspects such as *'agility'*, *'dribbling'*, or *'heading accuracy'*. Apart from one attribute (see **A2.1.**), all of them are *non-negative* values in different bounded ranges, where a *higher value* corresponds to the *player being better* in that skill."
   ]
  },
  {
   "cell_type": "markdown",
   "metadata": {},
   "source": [
    "### A1. Getting a sense of the data\n",
    "\n",
    "#### A1.1.\n",
    "Load the data present at `data/fifa19_players.csv` into a Pandas DataFrame."
   ]
  },
  {
   "cell_type": "code",
   "execution_count": 78,
   "metadata": {},
   "outputs": [],
   "source": [
    "%matplotlib inline\n",
    "import pandas as pd\n",
    "import numpy as np\n",
    "import re\n",
    "from matplotlib.ticker import MaxNLocator, StrMethodFormatter\n",
    "import matplotlib.pyplot as plt\n",
    "from scipy import stats\n",
    "from sklearn.model_selection import train_test_split\n",
    "from sklearn.linear_model import Ridge\n",
    "from sklearn.metrics import mean_squared_error\n",
    "from sklearn.model_selection import cross_val_score\n",
    "from sklearn.utils import resample\n",
    "import warnings\n",
    "warnings.filterwarnings('ignore')"
   ]
  },
  {
   "cell_type": "code",
   "execution_count": 2,
   "metadata": {},
   "outputs": [],
   "source": [
    "fifa19_players = pd.read_csv('data/fifa19_players.csv')"
   ]
  },
  {
   "cell_type": "code",
   "execution_count": 3,
   "metadata": {},
   "outputs": [
    {
     "data": {
      "text/html": [
       "<div>\n",
       "<style scoped>\n",
       "    .dataframe tbody tr th:only-of-type {\n",
       "        vertical-align: middle;\n",
       "    }\n",
       "\n",
       "    .dataframe tbody tr th {\n",
       "        vertical-align: top;\n",
       "    }\n",
       "\n",
       "    .dataframe thead th {\n",
       "        text-align: right;\n",
       "    }\n",
       "</style>\n",
       "<table border=\"1\" class=\"dataframe\">\n",
       "  <thead>\n",
       "    <tr style=\"text-align: right;\">\n",
       "      <th></th>\n",
       "      <th>Unnamed: 0</th>\n",
       "      <th>Unnamed: 0.1</th>\n",
       "      <th>ID</th>\n",
       "      <th>Name</th>\n",
       "      <th>Age</th>\n",
       "      <th>Photo</th>\n",
       "      <th>Nationality</th>\n",
       "      <th>Flag</th>\n",
       "      <th>Overall</th>\n",
       "      <th>Potential</th>\n",
       "      <th>...</th>\n",
       "      <th>Composure</th>\n",
       "      <th>Marking</th>\n",
       "      <th>StandingTackle</th>\n",
       "      <th>SlidingTackle</th>\n",
       "      <th>GKDiving</th>\n",
       "      <th>GKHandling</th>\n",
       "      <th>GKKicking</th>\n",
       "      <th>GKPositioning</th>\n",
       "      <th>GKReflexes</th>\n",
       "      <th>Release Clause</th>\n",
       "    </tr>\n",
       "  </thead>\n",
       "  <tbody>\n",
       "    <tr>\n",
       "      <td>0</td>\n",
       "      <td>0</td>\n",
       "      <td>0</td>\n",
       "      <td>158023</td>\n",
       "      <td>L. Messi</td>\n",
       "      <td>31</td>\n",
       "      <td>https://cdn.sofifa.org/players/4/19/158023.png</td>\n",
       "      <td>Argentina</td>\n",
       "      <td>https://cdn.sofifa.org/flags/52.png</td>\n",
       "      <td>94</td>\n",
       "      <td>94</td>\n",
       "      <td>...</td>\n",
       "      <td>96.0</td>\n",
       "      <td>33.0</td>\n",
       "      <td>28.0</td>\n",
       "      <td>26.0</td>\n",
       "      <td>6.0</td>\n",
       "      <td>11.0</td>\n",
       "      <td>15.0</td>\n",
       "      <td>14.0</td>\n",
       "      <td>8.0</td>\n",
       "      <td>€226.5M</td>\n",
       "    </tr>\n",
       "    <tr>\n",
       "      <td>1</td>\n",
       "      <td>1</td>\n",
       "      <td>1</td>\n",
       "      <td>20801</td>\n",
       "      <td>Cristiano Ronaldo</td>\n",
       "      <td>33</td>\n",
       "      <td>https://cdn.sofifa.org/players/4/19/20801.png</td>\n",
       "      <td>Portugal</td>\n",
       "      <td>https://cdn.sofifa.org/flags/38.png</td>\n",
       "      <td>94</td>\n",
       "      <td>94</td>\n",
       "      <td>...</td>\n",
       "      <td>95.0</td>\n",
       "      <td>28.0</td>\n",
       "      <td>31.0</td>\n",
       "      <td>23.0</td>\n",
       "      <td>7.0</td>\n",
       "      <td>11.0</td>\n",
       "      <td>15.0</td>\n",
       "      <td>14.0</td>\n",
       "      <td>11.0</td>\n",
       "      <td>€127.1M</td>\n",
       "    </tr>\n",
       "    <tr>\n",
       "      <td>2</td>\n",
       "      <td>2</td>\n",
       "      <td>2</td>\n",
       "      <td>190871</td>\n",
       "      <td>Neymar Jr</td>\n",
       "      <td>26</td>\n",
       "      <td>https://cdn.sofifa.org/players/4/19/190871.png</td>\n",
       "      <td>Brazil</td>\n",
       "      <td>https://cdn.sofifa.org/flags/54.png</td>\n",
       "      <td>92</td>\n",
       "      <td>93</td>\n",
       "      <td>...</td>\n",
       "      <td>94.0</td>\n",
       "      <td>27.0</td>\n",
       "      <td>24.0</td>\n",
       "      <td>33.0</td>\n",
       "      <td>9.0</td>\n",
       "      <td>9.0</td>\n",
       "      <td>15.0</td>\n",
       "      <td>15.0</td>\n",
       "      <td>11.0</td>\n",
       "      <td>€228.1M</td>\n",
       "    </tr>\n",
       "    <tr>\n",
       "      <td>3</td>\n",
       "      <td>3</td>\n",
       "      <td>3</td>\n",
       "      <td>193080</td>\n",
       "      <td>De Gea</td>\n",
       "      <td>27</td>\n",
       "      <td>https://cdn.sofifa.org/players/4/19/193080.png</td>\n",
       "      <td>Spain</td>\n",
       "      <td>https://cdn.sofifa.org/flags/45.png</td>\n",
       "      <td>91</td>\n",
       "      <td>93</td>\n",
       "      <td>...</td>\n",
       "      <td>68.0</td>\n",
       "      <td>15.0</td>\n",
       "      <td>21.0</td>\n",
       "      <td>13.0</td>\n",
       "      <td>90.0</td>\n",
       "      <td>85.0</td>\n",
       "      <td>87.0</td>\n",
       "      <td>88.0</td>\n",
       "      <td>94.0</td>\n",
       "      <td>€138.6M</td>\n",
       "    </tr>\n",
       "    <tr>\n",
       "      <td>4</td>\n",
       "      <td>4</td>\n",
       "      <td>4</td>\n",
       "      <td>192985</td>\n",
       "      <td>K. De Bruyne</td>\n",
       "      <td>27</td>\n",
       "      <td>https://cdn.sofifa.org/players/4/19/192985.png</td>\n",
       "      <td>Belgium</td>\n",
       "      <td>https://cdn.sofifa.org/flags/7.png</td>\n",
       "      <td>91</td>\n",
       "      <td>92</td>\n",
       "      <td>...</td>\n",
       "      <td>88.0</td>\n",
       "      <td>68.0</td>\n",
       "      <td>58.0</td>\n",
       "      <td>51.0</td>\n",
       "      <td>15.0</td>\n",
       "      <td>13.0</td>\n",
       "      <td>5.0</td>\n",
       "      <td>10.0</td>\n",
       "      <td>13.0</td>\n",
       "      <td>€196.4M</td>\n",
       "    </tr>\n",
       "  </tbody>\n",
       "</table>\n",
       "<p>5 rows × 90 columns</p>\n",
       "</div>"
      ],
      "text/plain": [
       "   Unnamed: 0  Unnamed: 0.1      ID               Name  Age  \\\n",
       "0           0             0  158023           L. Messi   31   \n",
       "1           1             1   20801  Cristiano Ronaldo   33   \n",
       "2           2             2  190871          Neymar Jr   26   \n",
       "3           3             3  193080             De Gea   27   \n",
       "4           4             4  192985       K. De Bruyne   27   \n",
       "\n",
       "                                            Photo Nationality  \\\n",
       "0  https://cdn.sofifa.org/players/4/19/158023.png   Argentina   \n",
       "1   https://cdn.sofifa.org/players/4/19/20801.png    Portugal   \n",
       "2  https://cdn.sofifa.org/players/4/19/190871.png      Brazil   \n",
       "3  https://cdn.sofifa.org/players/4/19/193080.png       Spain   \n",
       "4  https://cdn.sofifa.org/players/4/19/192985.png     Belgium   \n",
       "\n",
       "                                  Flag  Overall  Potential  ... Composure  \\\n",
       "0  https://cdn.sofifa.org/flags/52.png       94         94  ...      96.0   \n",
       "1  https://cdn.sofifa.org/flags/38.png       94         94  ...      95.0   \n",
       "2  https://cdn.sofifa.org/flags/54.png       92         93  ...      94.0   \n",
       "3  https://cdn.sofifa.org/flags/45.png       91         93  ...      68.0   \n",
       "4   https://cdn.sofifa.org/flags/7.png       91         92  ...      88.0   \n",
       "\n",
       "  Marking StandingTackle SlidingTackle  GKDiving GKHandling  GKKicking  \\\n",
       "0    33.0           28.0          26.0       6.0       11.0       15.0   \n",
       "1    28.0           31.0          23.0       7.0       11.0       15.0   \n",
       "2    27.0           24.0          33.0       9.0        9.0       15.0   \n",
       "3    15.0           21.0          13.0      90.0       85.0       87.0   \n",
       "4    68.0           58.0          51.0      15.0       13.0        5.0   \n",
       "\n",
       "   GKPositioning  GKReflexes Release Clause  \n",
       "0           14.0         8.0        €226.5M  \n",
       "1           14.0        11.0        €127.1M  \n",
       "2           15.0        11.0        €228.1M  \n",
       "3           88.0        94.0        €138.6M  \n",
       "4           10.0        13.0        €196.4M  \n",
       "\n",
       "[5 rows x 90 columns]"
      ]
     },
     "execution_count": 3,
     "metadata": {},
     "output_type": "execute_result"
    }
   ],
   "source": [
    "fifa19_players.head()"
   ]
  },
  {
   "cell_type": "code",
   "execution_count": 4,
   "metadata": {},
   "outputs": [
    {
     "name": "stdout",
     "output_type": "stream",
     "text": [
      "There are 18159 players in the dataset.\n"
     ]
    }
   ],
   "source": [
    "print(\"There are {} players in the dataset.\".format(fifa19_players.shape[0]))"
   ]
  },
  {
   "cell_type": "markdown",
   "metadata": {},
   "source": [
    "#### A1.2.\n",
    "The column *'Overall'* contains a score representing the overall performance of a football player. Before you start, you want to make sure that there is enough diversity in the dataset to draw meaningful conclusions (e.g. it shouldn't be the case that all players come roughly from the same skill class).\n",
    "* First, think about what kind of distribution you would expect for the overall scores.\n",
    "* Moving ahead, plot a histogram of the scores with *30 equal-width bins* and analyze the plot. Is this the distribution that you had expected?"
   ]
  },
  {
   "cell_type": "markdown",
   "metadata": {},
   "source": [
    "We would expect the distribution of the overall scores to be a normal distribution."
   ]
  },
  {
   "cell_type": "code",
   "execution_count": 5,
   "metadata": {},
   "outputs": [
    {
     "data": {
      "image/png": "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\n",
      "text/plain": [
       "<Figure size 432x288 with 1 Axes>"
      ]
     },
     "metadata": {
      "needs_background": "light"
     },
     "output_type": "display_data"
    }
   ],
   "source": [
    "# plot histogram of the overall scores\n",
    "fifa19_players['Overall'].hist(bins=30)\n",
    "plt.title('Distribution of Overall')\n",
    "plt.xlabel('Overall')\n",
    "plt.ylabel('#Players')\n",
    "\n",
    "# fit and plot a normal distribution\n",
    "xt = plt.xticks()[0]\n",
    "lnspc = np.linspace(min(xt), max(xt), len(fifa19_players['Overall']))\n",
    "mu, std = stats.norm.fit(fifa19_players['Overall'])\n",
    "pdf_g = stats.norm.pdf(lnspc, loc=mu, scale=std)\n",
    "plt.plot(lnspc, pdf_g * len(fifa19_players['Overall']), label='Normal')\n",
    "\n",
    "plt.legend()\n",
    "\n",
    "plt.show()"
   ]
  },
  {
   "cell_type": "markdown",
   "metadata": {},
   "source": [
    "There is something weird. It seems to follow a normal distribution on both sides, but the middle part doesn't. The values go beyond the supposed distribution (the orange plot)."
   ]
  },
  {
   "cell_type": "markdown",
   "metadata": {},
   "source": [
    "#### A1.3.\n",
    "If you observe differences from what you expected in **A1.2.**, they might be due to a misrepresentation by the plot. Carefully study the actual values in the *'Overall'* column and **fix** the histogram accordingly! Redo the plot of step A1.2., and briefly state your observations."
   ]
  },
  {
   "cell_type": "code",
   "execution_count": 6,
   "metadata": {},
   "outputs": [
    {
     "data": {
      "text/plain": [
       "0        94\n",
       "1        94\n",
       "2        92\n",
       "3        91\n",
       "4        91\n",
       "         ..\n",
       "18154    47\n",
       "18155    47\n",
       "18156    47\n",
       "18157    47\n",
       "18158    46\n",
       "Name: Overall, Length: 18159, dtype: int64"
      ]
     },
     "execution_count": 6,
     "metadata": {},
     "output_type": "execute_result"
    }
   ],
   "source": [
    "fifa19_players['Overall']"
   ]
  },
  {
   "cell_type": "code",
   "execution_count": 7,
   "metadata": {},
   "outputs": [
    {
     "data": {
      "text/plain": [
       "count    18159.000000\n",
       "mean        66.249904\n",
       "std          6.914613\n",
       "min         46.000000\n",
       "25%         62.000000\n",
       "50%         66.000000\n",
       "75%         71.000000\n",
       "max         94.000000\n",
       "Name: Overall, dtype: float64"
      ]
     },
     "execution_count": 7,
     "metadata": {},
     "output_type": "execute_result"
    }
   ],
   "source": [
    "fifa19_players['Overall'].describe()"
   ]
  },
  {
   "cell_type": "markdown",
   "metadata": {},
   "source": [
    "The values in the 'Overall' column are all integer. The bins size should be the range in order to present its distribution. We'll redo the plot and set the bins size to the range (94 - 46 = 48)."
   ]
  },
  {
   "cell_type": "code",
   "execution_count": 8,
   "metadata": {},
   "outputs": [
    {
     "data": {
      "image/png": "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\n",
      "text/plain": [
       "<Figure size 432x288 with 1 Axes>"
      ]
     },
     "metadata": {
      "needs_background": "light"
     },
     "output_type": "display_data"
    }
   ],
   "source": [
    "# re-plot histogram of the overall scores\n",
    "fifa19_players['Overall'].hist(bins=48)\n",
    "plt.title('Distribution of Overall')\n",
    "plt.xlabel('Overall')\n",
    "plt.ylabel('#Players')\n",
    "\n",
    "# fit and plot a normal distribution\n",
    "xt = plt.xticks()[0]\n",
    "lnspc = np.linspace(min(xt), max(xt), len(fifa19_players['Overall']))\n",
    "mu, std = stats.norm.fit(fifa19_players['Overall'])\n",
    "pdf_g = stats.norm.pdf(lnspc, loc=mu, scale=std)\n",
    "plt.plot(lnspc, pdf_g * len(fifa19_players['Overall']), label='Normal')\n",
    "\n",
    "plt.legend()\n",
    "\n",
    "plt.show()"
   ]
  },
  {
   "cell_type": "markdown",
   "metadata": {},
   "source": [
    "Now it follows the normal distribution."
   ]
  },
  {
   "cell_type": "markdown",
   "metadata": {},
   "source": [
    "### A2. Preprocessing\n",
    "\n",
    "The features that you will use for the remainder of the tasks are the following; you can safely discard the rest of the columns."
   ]
  },
  {
   "cell_type": "code",
   "execution_count": 9,
   "metadata": {},
   "outputs": [],
   "source": [
    "skills = ['Overall', 'Weak Foot', 'Skill Moves', 'Work Rate', 'Crossing',\n",
    "       'Finishing', 'HeadingAccuracy', 'ShortPassing', 'Volleys', 'Dribbling',\n",
    "       'Curve', 'FKAccuracy', 'LongPassing', 'BallControl', 'Acceleration',\n",
    "       'SprintSpeed', 'Agility', 'Reactions', 'Balance', 'ShotPower',\n",
    "       'Jumping', 'Stamina', 'Strength', 'LongShots', 'Aggression',\n",
    "       'Interceptions', 'Positioning', 'Vision', 'Penalties', 'Composure',\n",
    "       'Marking', 'StandingTackle', 'SlidingTackle', 'GKDiving', 'GKHandling',\n",
    "       'GKKicking', 'GKPositioning', 'GKReflexes']"
   ]
  },
  {
   "cell_type": "markdown",
   "metadata": {},
   "source": [
    "#### A2.1.\n",
    "Since your final goal will be to train a *linear machine learning model*, all of the features you use need to be *numerical*. 'Work Rate' refers to how much effort a player puts into his play when attacking and defending, respectively, but it is non-numeric and non-atomic. Transform the feature into _two_ numerical features."
   ]
  },
  {
   "cell_type": "code",
   "execution_count": 10,
   "metadata": {},
   "outputs": [
    {
     "data": {
      "text/html": [
       "<div>\n",
       "<style scoped>\n",
       "    .dataframe tbody tr th:only-of-type {\n",
       "        vertical-align: middle;\n",
       "    }\n",
       "\n",
       "    .dataframe tbody tr th {\n",
       "        vertical-align: top;\n",
       "    }\n",
       "\n",
       "    .dataframe thead th {\n",
       "        text-align: right;\n",
       "    }\n",
       "</style>\n",
       "<table border=\"1\" class=\"dataframe\">\n",
       "  <thead>\n",
       "    <tr style=\"text-align: right;\">\n",
       "      <th></th>\n",
       "      <th>Overall</th>\n",
       "      <th>Weak Foot</th>\n",
       "      <th>Skill Moves</th>\n",
       "      <th>Work Rate</th>\n",
       "      <th>Crossing</th>\n",
       "      <th>Finishing</th>\n",
       "      <th>HeadingAccuracy</th>\n",
       "      <th>ShortPassing</th>\n",
       "      <th>Volleys</th>\n",
       "      <th>Dribbling</th>\n",
       "      <th>...</th>\n",
       "      <th>Penalties</th>\n",
       "      <th>Composure</th>\n",
       "      <th>Marking</th>\n",
       "      <th>StandingTackle</th>\n",
       "      <th>SlidingTackle</th>\n",
       "      <th>GKDiving</th>\n",
       "      <th>GKHandling</th>\n",
       "      <th>GKKicking</th>\n",
       "      <th>GKPositioning</th>\n",
       "      <th>GKReflexes</th>\n",
       "    </tr>\n",
       "  </thead>\n",
       "  <tbody>\n",
       "    <tr>\n",
       "      <td>0</td>\n",
       "      <td>94</td>\n",
       "      <td>4.0</td>\n",
       "      <td>4.0</td>\n",
       "      <td>Medium/ Medium</td>\n",
       "      <td>84.0</td>\n",
       "      <td>95.0</td>\n",
       "      <td>70.0</td>\n",
       "      <td>90.0</td>\n",
       "      <td>86.0</td>\n",
       "      <td>97.0</td>\n",
       "      <td>...</td>\n",
       "      <td>75.0</td>\n",
       "      <td>96.0</td>\n",
       "      <td>33.0</td>\n",
       "      <td>28.0</td>\n",
       "      <td>26.0</td>\n",
       "      <td>6.0</td>\n",
       "      <td>11.0</td>\n",
       "      <td>15.0</td>\n",
       "      <td>14.0</td>\n",
       "      <td>8.0</td>\n",
       "    </tr>\n",
       "    <tr>\n",
       "      <td>1</td>\n",
       "      <td>94</td>\n",
       "      <td>4.0</td>\n",
       "      <td>5.0</td>\n",
       "      <td>High/ Low</td>\n",
       "      <td>84.0</td>\n",
       "      <td>94.0</td>\n",
       "      <td>89.0</td>\n",
       "      <td>81.0</td>\n",
       "      <td>87.0</td>\n",
       "      <td>88.0</td>\n",
       "      <td>...</td>\n",
       "      <td>85.0</td>\n",
       "      <td>95.0</td>\n",
       "      <td>28.0</td>\n",
       "      <td>31.0</td>\n",
       "      <td>23.0</td>\n",
       "      <td>7.0</td>\n",
       "      <td>11.0</td>\n",
       "      <td>15.0</td>\n",
       "      <td>14.0</td>\n",
       "      <td>11.0</td>\n",
       "    </tr>\n",
       "    <tr>\n",
       "      <td>2</td>\n",
       "      <td>92</td>\n",
       "      <td>5.0</td>\n",
       "      <td>5.0</td>\n",
       "      <td>High/ Medium</td>\n",
       "      <td>79.0</td>\n",
       "      <td>87.0</td>\n",
       "      <td>62.0</td>\n",
       "      <td>84.0</td>\n",
       "      <td>84.0</td>\n",
       "      <td>96.0</td>\n",
       "      <td>...</td>\n",
       "      <td>81.0</td>\n",
       "      <td>94.0</td>\n",
       "      <td>27.0</td>\n",
       "      <td>24.0</td>\n",
       "      <td>33.0</td>\n",
       "      <td>9.0</td>\n",
       "      <td>9.0</td>\n",
       "      <td>15.0</td>\n",
       "      <td>15.0</td>\n",
       "      <td>11.0</td>\n",
       "    </tr>\n",
       "    <tr>\n",
       "      <td>3</td>\n",
       "      <td>91</td>\n",
       "      <td>3.0</td>\n",
       "      <td>1.0</td>\n",
       "      <td>Medium/ Medium</td>\n",
       "      <td>17.0</td>\n",
       "      <td>13.0</td>\n",
       "      <td>21.0</td>\n",
       "      <td>50.0</td>\n",
       "      <td>13.0</td>\n",
       "      <td>18.0</td>\n",
       "      <td>...</td>\n",
       "      <td>40.0</td>\n",
       "      <td>68.0</td>\n",
       "      <td>15.0</td>\n",
       "      <td>21.0</td>\n",
       "      <td>13.0</td>\n",
       "      <td>90.0</td>\n",
       "      <td>85.0</td>\n",
       "      <td>87.0</td>\n",
       "      <td>88.0</td>\n",
       "      <td>94.0</td>\n",
       "    </tr>\n",
       "    <tr>\n",
       "      <td>4</td>\n",
       "      <td>91</td>\n",
       "      <td>5.0</td>\n",
       "      <td>4.0</td>\n",
       "      <td>High/ High</td>\n",
       "      <td>93.0</td>\n",
       "      <td>82.0</td>\n",
       "      <td>55.0</td>\n",
       "      <td>92.0</td>\n",
       "      <td>82.0</td>\n",
       "      <td>86.0</td>\n",
       "      <td>...</td>\n",
       "      <td>79.0</td>\n",
       "      <td>88.0</td>\n",
       "      <td>68.0</td>\n",
       "      <td>58.0</td>\n",
       "      <td>51.0</td>\n",
       "      <td>15.0</td>\n",
       "      <td>13.0</td>\n",
       "      <td>5.0</td>\n",
       "      <td>10.0</td>\n",
       "      <td>13.0</td>\n",
       "    </tr>\n",
       "  </tbody>\n",
       "</table>\n",
       "<p>5 rows × 38 columns</p>\n",
       "</div>"
      ],
      "text/plain": [
       "   Overall  Weak Foot  Skill Moves       Work Rate  Crossing  Finishing  \\\n",
       "0       94        4.0          4.0  Medium/ Medium      84.0       95.0   \n",
       "1       94        4.0          5.0       High/ Low      84.0       94.0   \n",
       "2       92        5.0          5.0    High/ Medium      79.0       87.0   \n",
       "3       91        3.0          1.0  Medium/ Medium      17.0       13.0   \n",
       "4       91        5.0          4.0      High/ High      93.0       82.0   \n",
       "\n",
       "   HeadingAccuracy  ShortPassing  Volleys  Dribbling  ...  Penalties  \\\n",
       "0             70.0          90.0     86.0       97.0  ...       75.0   \n",
       "1             89.0          81.0     87.0       88.0  ...       85.0   \n",
       "2             62.0          84.0     84.0       96.0  ...       81.0   \n",
       "3             21.0          50.0     13.0       18.0  ...       40.0   \n",
       "4             55.0          92.0     82.0       86.0  ...       79.0   \n",
       "\n",
       "   Composure  Marking  StandingTackle  SlidingTackle  GKDiving  GKHandling  \\\n",
       "0       96.0     33.0            28.0           26.0       6.0        11.0   \n",
       "1       95.0     28.0            31.0           23.0       7.0        11.0   \n",
       "2       94.0     27.0            24.0           33.0       9.0         9.0   \n",
       "3       68.0     15.0            21.0           13.0      90.0        85.0   \n",
       "4       88.0     68.0            58.0           51.0      15.0        13.0   \n",
       "\n",
       "   GKKicking  GKPositioning  GKReflexes  \n",
       "0       15.0           14.0         8.0  \n",
       "1       15.0           14.0        11.0  \n",
       "2       15.0           15.0        11.0  \n",
       "3       87.0           88.0        94.0  \n",
       "4        5.0           10.0        13.0  \n",
       "\n",
       "[5 rows x 38 columns]"
      ]
     },
     "execution_count": 10,
     "metadata": {},
     "output_type": "execute_result"
    }
   ],
   "source": [
    "# keep the features we need\n",
    "features = fifa19_players[skills]\n",
    "features.head()"
   ]
  },
  {
   "cell_type": "code",
   "execution_count": 11,
   "metadata": {},
   "outputs": [
    {
     "data": {
      "text/plain": [
       "Work Rate\n",
       "High/ High        1015\n",
       "High/ Low          699\n",
       "High/ Medium      3173\n",
       "Low/ High          439\n",
       "Low/ Low            34\n",
       "Low/ Medium        449\n",
       "Medium/ High      1690\n",
       "Medium/ Low        850\n",
       "Medium/ Medium    9810\n",
       "Name: Overall, dtype: int64"
      ]
     },
     "execution_count": 11,
     "metadata": {},
     "output_type": "execute_result"
    }
   ],
   "source": [
    "# Check how many types of Work Rate are there\n",
    "features.groupby('Work Rate')['Overall'].count()"
   ]
  },
  {
   "cell_type": "markdown",
   "metadata": {},
   "source": [
    "For attacking and defending work rate, there are three variations, Low, Medium and High. We can transform them into 0, 1, 2 respectively."
   ]
  },
  {
   "cell_type": "code",
   "execution_count": 12,
   "metadata": {},
   "outputs": [
    {
     "data": {
      "text/html": [
       "<div>\n",
       "<style scoped>\n",
       "    .dataframe tbody tr th:only-of-type {\n",
       "        vertical-align: middle;\n",
       "    }\n",
       "\n",
       "    .dataframe tbody tr th {\n",
       "        vertical-align: top;\n",
       "    }\n",
       "\n",
       "    .dataframe thead th {\n",
       "        text-align: right;\n",
       "    }\n",
       "</style>\n",
       "<table border=\"1\" class=\"dataframe\">\n",
       "  <thead>\n",
       "    <tr style=\"text-align: right;\">\n",
       "      <th></th>\n",
       "      <th>Overall</th>\n",
       "      <th>Weak Foot</th>\n",
       "      <th>Skill Moves</th>\n",
       "      <th>Crossing</th>\n",
       "      <th>Finishing</th>\n",
       "      <th>HeadingAccuracy</th>\n",
       "      <th>ShortPassing</th>\n",
       "      <th>Volleys</th>\n",
       "      <th>Dribbling</th>\n",
       "      <th>Curve</th>\n",
       "      <th>...</th>\n",
       "      <th>Marking</th>\n",
       "      <th>StandingTackle</th>\n",
       "      <th>SlidingTackle</th>\n",
       "      <th>GKDiving</th>\n",
       "      <th>GKHandling</th>\n",
       "      <th>GKKicking</th>\n",
       "      <th>GKPositioning</th>\n",
       "      <th>GKReflexes</th>\n",
       "      <th>Attacking Work Rate</th>\n",
       "      <th>Defending Work Rate</th>\n",
       "    </tr>\n",
       "  </thead>\n",
       "  <tbody>\n",
       "    <tr>\n",
       "      <td>0</td>\n",
       "      <td>94</td>\n",
       "      <td>4.0</td>\n",
       "      <td>4.0</td>\n",
       "      <td>84.0</td>\n",
       "      <td>95.0</td>\n",
       "      <td>70.0</td>\n",
       "      <td>90.0</td>\n",
       "      <td>86.0</td>\n",
       "      <td>97.0</td>\n",
       "      <td>93.0</td>\n",
       "      <td>...</td>\n",
       "      <td>33.0</td>\n",
       "      <td>28.0</td>\n",
       "      <td>26.0</td>\n",
       "      <td>6.0</td>\n",
       "      <td>11.0</td>\n",
       "      <td>15.0</td>\n",
       "      <td>14.0</td>\n",
       "      <td>8.0</td>\n",
       "      <td>1.0</td>\n",
       "      <td>1.0</td>\n",
       "    </tr>\n",
       "    <tr>\n",
       "      <td>1</td>\n",
       "      <td>94</td>\n",
       "      <td>4.0</td>\n",
       "      <td>5.0</td>\n",
       "      <td>84.0</td>\n",
       "      <td>94.0</td>\n",
       "      <td>89.0</td>\n",
       "      <td>81.0</td>\n",
       "      <td>87.0</td>\n",
       "      <td>88.0</td>\n",
       "      <td>81.0</td>\n",
       "      <td>...</td>\n",
       "      <td>28.0</td>\n",
       "      <td>31.0</td>\n",
       "      <td>23.0</td>\n",
       "      <td>7.0</td>\n",
       "      <td>11.0</td>\n",
       "      <td>15.0</td>\n",
       "      <td>14.0</td>\n",
       "      <td>11.0</td>\n",
       "      <td>2.0</td>\n",
       "      <td>0.0</td>\n",
       "    </tr>\n",
       "    <tr>\n",
       "      <td>2</td>\n",
       "      <td>92</td>\n",
       "      <td>5.0</td>\n",
       "      <td>5.0</td>\n",
       "      <td>79.0</td>\n",
       "      <td>87.0</td>\n",
       "      <td>62.0</td>\n",
       "      <td>84.0</td>\n",
       "      <td>84.0</td>\n",
       "      <td>96.0</td>\n",
       "      <td>88.0</td>\n",
       "      <td>...</td>\n",
       "      <td>27.0</td>\n",
       "      <td>24.0</td>\n",
       "      <td>33.0</td>\n",
       "      <td>9.0</td>\n",
       "      <td>9.0</td>\n",
       "      <td>15.0</td>\n",
       "      <td>15.0</td>\n",
       "      <td>11.0</td>\n",
       "      <td>2.0</td>\n",
       "      <td>1.0</td>\n",
       "    </tr>\n",
       "    <tr>\n",
       "      <td>3</td>\n",
       "      <td>91</td>\n",
       "      <td>3.0</td>\n",
       "      <td>1.0</td>\n",
       "      <td>17.0</td>\n",
       "      <td>13.0</td>\n",
       "      <td>21.0</td>\n",
       "      <td>50.0</td>\n",
       "      <td>13.0</td>\n",
       "      <td>18.0</td>\n",
       "      <td>21.0</td>\n",
       "      <td>...</td>\n",
       "      <td>15.0</td>\n",
       "      <td>21.0</td>\n",
       "      <td>13.0</td>\n",
       "      <td>90.0</td>\n",
       "      <td>85.0</td>\n",
       "      <td>87.0</td>\n",
       "      <td>88.0</td>\n",
       "      <td>94.0</td>\n",
       "      <td>1.0</td>\n",
       "      <td>1.0</td>\n",
       "    </tr>\n",
       "    <tr>\n",
       "      <td>4</td>\n",
       "      <td>91</td>\n",
       "      <td>5.0</td>\n",
       "      <td>4.0</td>\n",
       "      <td>93.0</td>\n",
       "      <td>82.0</td>\n",
       "      <td>55.0</td>\n",
       "      <td>92.0</td>\n",
       "      <td>82.0</td>\n",
       "      <td>86.0</td>\n",
       "      <td>85.0</td>\n",
       "      <td>...</td>\n",
       "      <td>68.0</td>\n",
       "      <td>58.0</td>\n",
       "      <td>51.0</td>\n",
       "      <td>15.0</td>\n",
       "      <td>13.0</td>\n",
       "      <td>5.0</td>\n",
       "      <td>10.0</td>\n",
       "      <td>13.0</td>\n",
       "      <td>2.0</td>\n",
       "      <td>2.0</td>\n",
       "    </tr>\n",
       "  </tbody>\n",
       "</table>\n",
       "<p>5 rows × 39 columns</p>\n",
       "</div>"
      ],
      "text/plain": [
       "   Overall  Weak Foot  Skill Moves  Crossing  Finishing  HeadingAccuracy  \\\n",
       "0       94        4.0          4.0      84.0       95.0             70.0   \n",
       "1       94        4.0          5.0      84.0       94.0             89.0   \n",
       "2       92        5.0          5.0      79.0       87.0             62.0   \n",
       "3       91        3.0          1.0      17.0       13.0             21.0   \n",
       "4       91        5.0          4.0      93.0       82.0             55.0   \n",
       "\n",
       "   ShortPassing  Volleys  Dribbling  Curve  ...  Marking  StandingTackle  \\\n",
       "0          90.0     86.0       97.0   93.0  ...     33.0            28.0   \n",
       "1          81.0     87.0       88.0   81.0  ...     28.0            31.0   \n",
       "2          84.0     84.0       96.0   88.0  ...     27.0            24.0   \n",
       "3          50.0     13.0       18.0   21.0  ...     15.0            21.0   \n",
       "4          92.0     82.0       86.0   85.0  ...     68.0            58.0   \n",
       "\n",
       "   SlidingTackle  GKDiving  GKHandling  GKKicking  GKPositioning  GKReflexes  \\\n",
       "0           26.0       6.0        11.0       15.0           14.0         8.0   \n",
       "1           23.0       7.0        11.0       15.0           14.0        11.0   \n",
       "2           33.0       9.0         9.0       15.0           15.0        11.0   \n",
       "3           13.0      90.0        85.0       87.0           88.0        94.0   \n",
       "4           51.0      15.0        13.0        5.0           10.0        13.0   \n",
       "\n",
       "   Attacking Work Rate  Defending Work Rate  \n",
       "0                  1.0                  1.0  \n",
       "1                  2.0                  0.0  \n",
       "2                  2.0                  1.0  \n",
       "3                  1.0                  1.0  \n",
       "4                  2.0                  2.0  \n",
       "\n",
       "[5 rows x 39 columns]"
      ]
     },
     "execution_count": 12,
     "metadata": {},
     "output_type": "execute_result"
    }
   ],
   "source": [
    "# transform work rate into two numerical features\n",
    "transform_map = {'Low': 0.0, 'Medium': 1.0, 'High': 2.0}\n",
    "# split Work Rate column into two columns\n",
    "work_rate_split = features['Work Rate'].str.split('/ ', expand=True)\n",
    "features['Attacking Work Rate'] = work_rate_split[0].map(transform_map)\n",
    "features['Defending Work Rate'] = work_rate_split[1].map(transform_map)\n",
    "features.drop(columns=['Work Rate'], inplace=True)\n",
    "features.head()"
   ]
  },
  {
   "cell_type": "code",
   "execution_count": 13,
   "metadata": {},
   "outputs": [],
   "source": [
    "# construct a new list of all skills\n",
    "new_skills = skills.copy()\n",
    "new_skills.remove('Work Rate')\n",
    "new_skills.extend(['Attacking Work Rate', 'Defending Work Rate'])"
   ]
  },
  {
   "cell_type": "markdown",
   "metadata": {},
   "source": [
    "#### A2.2.\n",
    "As it is true for any real-world dataset out there, you might encounter *missing values*. There are numerous ways to *impute* them (fill them up) by looking at records for which these values are not missing.\n",
    "* Use a *simple aggregation* of the records for which the values are present (not missing) to fill in the missing values.\n",
    "* Briefly *justify* the choice of your *aggregation scheme*."
   ]
  },
  {
   "cell_type": "code",
   "execution_count": 14,
   "metadata": {},
   "outputs": [
    {
     "data": {
      "text/plain": [
       "Overall                False\n",
       "Weak Foot              False\n",
       "Skill Moves            False\n",
       "Crossing               False\n",
       "Finishing              False\n",
       "HeadingAccuracy        False\n",
       "ShortPassing           False\n",
       "Volleys                False\n",
       "Dribbling              False\n",
       "Curve                  False\n",
       "FKAccuracy             False\n",
       "LongPassing            False\n",
       "BallControl            False\n",
       "Acceleration           False\n",
       "SprintSpeed             True\n",
       "Agility                False\n",
       "Reactions              False\n",
       "Balance                False\n",
       "ShotPower              False\n",
       "Jumping                False\n",
       "Stamina                False\n",
       "Strength               False\n",
       "LongShots              False\n",
       "Aggression             False\n",
       "Interceptions          False\n",
       "Positioning            False\n",
       "Vision                 False\n",
       "Penalties              False\n",
       "Composure              False\n",
       "Marking                False\n",
       "StandingTackle         False\n",
       "SlidingTackle          False\n",
       "GKDiving               False\n",
       "GKHandling             False\n",
       "GKKicking              False\n",
       "GKPositioning          False\n",
       "GKReflexes             False\n",
       "Attacking Work Rate    False\n",
       "Defending Work Rate    False\n",
       "dtype: bool"
      ]
     },
     "execution_count": 14,
     "metadata": {},
     "output_type": "execute_result"
    }
   ],
   "source": [
    "# check which attribute contains missing values\n",
    "features.isna().any()"
   ]
  },
  {
   "cell_type": "markdown",
   "metadata": {},
   "source": [
    "SprintSpeed contains some missing values. Let's see how many players are missing SprintSpeed."
   ]
  },
  {
   "cell_type": "code",
   "execution_count": 15,
   "metadata": {},
   "outputs": [
    {
     "data": {
      "text/html": [
       "<div>\n",
       "<style scoped>\n",
       "    .dataframe tbody tr th:only-of-type {\n",
       "        vertical-align: middle;\n",
       "    }\n",
       "\n",
       "    .dataframe tbody tr th {\n",
       "        vertical-align: top;\n",
       "    }\n",
       "\n",
       "    .dataframe thead th {\n",
       "        text-align: right;\n",
       "    }\n",
       "</style>\n",
       "<table border=\"1\" class=\"dataframe\">\n",
       "  <thead>\n",
       "    <tr style=\"text-align: right;\">\n",
       "      <th></th>\n",
       "      <th>Overall</th>\n",
       "      <th>Weak Foot</th>\n",
       "      <th>Skill Moves</th>\n",
       "      <th>Crossing</th>\n",
       "      <th>Finishing</th>\n",
       "      <th>HeadingAccuracy</th>\n",
       "      <th>ShortPassing</th>\n",
       "      <th>Volleys</th>\n",
       "      <th>Dribbling</th>\n",
       "      <th>Curve</th>\n",
       "      <th>...</th>\n",
       "      <th>Marking</th>\n",
       "      <th>StandingTackle</th>\n",
       "      <th>SlidingTackle</th>\n",
       "      <th>GKDiving</th>\n",
       "      <th>GKHandling</th>\n",
       "      <th>GKKicking</th>\n",
       "      <th>GKPositioning</th>\n",
       "      <th>GKReflexes</th>\n",
       "      <th>Attacking Work Rate</th>\n",
       "      <th>Defending Work Rate</th>\n",
       "    </tr>\n",
       "  </thead>\n",
       "  <tbody>\n",
       "    <tr>\n",
       "      <td>10000</td>\n",
       "      <td>65</td>\n",
       "      <td>3.0</td>\n",
       "      <td>1.0</td>\n",
       "      <td>13.0</td>\n",
       "      <td>10.0</td>\n",
       "      <td>15.0</td>\n",
       "      <td>30.0</td>\n",
       "      <td>12.0</td>\n",
       "      <td>13.0</td>\n",
       "      <td>15.0</td>\n",
       "      <td>...</td>\n",
       "      <td>28.0</td>\n",
       "      <td>13.0</td>\n",
       "      <td>11.0</td>\n",
       "      <td>65.0</td>\n",
       "      <td>64.0</td>\n",
       "      <td>62.0</td>\n",
       "      <td>61.0</td>\n",
       "      <td>66.0</td>\n",
       "      <td>1.0</td>\n",
       "      <td>1.0</td>\n",
       "    </tr>\n",
       "    <tr>\n",
       "      <td>10001</td>\n",
       "      <td>65</td>\n",
       "      <td>3.0</td>\n",
       "      <td>3.0</td>\n",
       "      <td>60.0</td>\n",
       "      <td>64.0</td>\n",
       "      <td>55.0</td>\n",
       "      <td>65.0</td>\n",
       "      <td>56.0</td>\n",
       "      <td>65.0</td>\n",
       "      <td>59.0</td>\n",
       "      <td>...</td>\n",
       "      <td>51.0</td>\n",
       "      <td>58.0</td>\n",
       "      <td>51.0</td>\n",
       "      <td>9.0</td>\n",
       "      <td>15.0</td>\n",
       "      <td>13.0</td>\n",
       "      <td>8.0</td>\n",
       "      <td>9.0</td>\n",
       "      <td>1.0</td>\n",
       "      <td>1.0</td>\n",
       "    </tr>\n",
       "    <tr>\n",
       "      <td>10002</td>\n",
       "      <td>65</td>\n",
       "      <td>3.0</td>\n",
       "      <td>1.0</td>\n",
       "      <td>24.0</td>\n",
       "      <td>17.0</td>\n",
       "      <td>13.0</td>\n",
       "      <td>32.0</td>\n",
       "      <td>14.0</td>\n",
       "      <td>16.0</td>\n",
       "      <td>14.0</td>\n",
       "      <td>...</td>\n",
       "      <td>23.0</td>\n",
       "      <td>18.0</td>\n",
       "      <td>16.0</td>\n",
       "      <td>66.0</td>\n",
       "      <td>65.0</td>\n",
       "      <td>68.0</td>\n",
       "      <td>63.0</td>\n",
       "      <td>66.0</td>\n",
       "      <td>1.0</td>\n",
       "      <td>1.0</td>\n",
       "    </tr>\n",
       "    <tr>\n",
       "      <td>10003</td>\n",
       "      <td>65</td>\n",
       "      <td>3.0</td>\n",
       "      <td>2.0</td>\n",
       "      <td>55.0</td>\n",
       "      <td>56.0</td>\n",
       "      <td>56.0</td>\n",
       "      <td>70.0</td>\n",
       "      <td>42.0</td>\n",
       "      <td>58.0</td>\n",
       "      <td>57.0</td>\n",
       "      <td>...</td>\n",
       "      <td>61.0</td>\n",
       "      <td>63.0</td>\n",
       "      <td>59.0</td>\n",
       "      <td>12.0</td>\n",
       "      <td>13.0</td>\n",
       "      <td>15.0</td>\n",
       "      <td>10.0</td>\n",
       "      <td>7.0</td>\n",
       "      <td>1.0</td>\n",
       "      <td>1.0</td>\n",
       "    </tr>\n",
       "    <tr>\n",
       "      <td>10004</td>\n",
       "      <td>65</td>\n",
       "      <td>3.0</td>\n",
       "      <td>3.0</td>\n",
       "      <td>54.0</td>\n",
       "      <td>58.0</td>\n",
       "      <td>34.0</td>\n",
       "      <td>60.0</td>\n",
       "      <td>53.0</td>\n",
       "      <td>69.0</td>\n",
       "      <td>45.0</td>\n",
       "      <td>...</td>\n",
       "      <td>24.0</td>\n",
       "      <td>21.0</td>\n",
       "      <td>28.0</td>\n",
       "      <td>12.0</td>\n",
       "      <td>6.0</td>\n",
       "      <td>13.0</td>\n",
       "      <td>14.0</td>\n",
       "      <td>10.0</td>\n",
       "      <td>2.0</td>\n",
       "      <td>1.0</td>\n",
       "    </tr>\n",
       "    <tr>\n",
       "      <td>10005</td>\n",
       "      <td>65</td>\n",
       "      <td>2.0</td>\n",
       "      <td>2.0</td>\n",
       "      <td>54.0</td>\n",
       "      <td>65.0</td>\n",
       "      <td>54.0</td>\n",
       "      <td>56.0</td>\n",
       "      <td>46.0</td>\n",
       "      <td>63.0</td>\n",
       "      <td>44.0</td>\n",
       "      <td>...</td>\n",
       "      <td>40.0</td>\n",
       "      <td>30.0</td>\n",
       "      <td>35.0</td>\n",
       "      <td>12.0</td>\n",
       "      <td>9.0</td>\n",
       "      <td>12.0</td>\n",
       "      <td>16.0</td>\n",
       "      <td>15.0</td>\n",
       "      <td>1.0</td>\n",
       "      <td>1.0</td>\n",
       "    </tr>\n",
       "  </tbody>\n",
       "</table>\n",
       "<p>6 rows × 39 columns</p>\n",
       "</div>"
      ],
      "text/plain": [
       "       Overall  Weak Foot  Skill Moves  Crossing  Finishing  HeadingAccuracy  \\\n",
       "10000       65        3.0          1.0      13.0       10.0             15.0   \n",
       "10001       65        3.0          3.0      60.0       64.0             55.0   \n",
       "10002       65        3.0          1.0      24.0       17.0             13.0   \n",
       "10003       65        3.0          2.0      55.0       56.0             56.0   \n",
       "10004       65        3.0          3.0      54.0       58.0             34.0   \n",
       "10005       65        2.0          2.0      54.0       65.0             54.0   \n",
       "\n",
       "       ShortPassing  Volleys  Dribbling  Curve  ...  Marking  StandingTackle  \\\n",
       "10000          30.0     12.0       13.0   15.0  ...     28.0            13.0   \n",
       "10001          65.0     56.0       65.0   59.0  ...     51.0            58.0   \n",
       "10002          32.0     14.0       16.0   14.0  ...     23.0            18.0   \n",
       "10003          70.0     42.0       58.0   57.0  ...     61.0            63.0   \n",
       "10004          60.0     53.0       69.0   45.0  ...     24.0            21.0   \n",
       "10005          56.0     46.0       63.0   44.0  ...     40.0            30.0   \n",
       "\n",
       "       SlidingTackle  GKDiving  GKHandling  GKKicking  GKPositioning  \\\n",
       "10000           11.0      65.0        64.0       62.0           61.0   \n",
       "10001           51.0       9.0        15.0       13.0            8.0   \n",
       "10002           16.0      66.0        65.0       68.0           63.0   \n",
       "10003           59.0      12.0        13.0       15.0           10.0   \n",
       "10004           28.0      12.0         6.0       13.0           14.0   \n",
       "10005           35.0      12.0         9.0       12.0           16.0   \n",
       "\n",
       "       GKReflexes  Attacking Work Rate  Defending Work Rate  \n",
       "10000        66.0                  1.0                  1.0  \n",
       "10001         9.0                  1.0                  1.0  \n",
       "10002        66.0                  1.0                  1.0  \n",
       "10003         7.0                  1.0                  1.0  \n",
       "10004        10.0                  2.0                  1.0  \n",
       "10005        15.0                  1.0                  1.0  \n",
       "\n",
       "[6 rows x 39 columns]"
      ]
     },
     "execution_count": 15,
     "metadata": {},
     "output_type": "execute_result"
    }
   ],
   "source": [
    "features[features['SprintSpeed'].isna()]"
   ]
  },
  {
   "cell_type": "markdown",
   "metadata": {},
   "source": [
    "There are 6 players with missing SprintSpeed."
   ]
  },
  {
   "cell_type": "markdown",
   "metadata": {},
   "source": [
    "We assume that a player's SprintSpeed will be related to his Acceleration and Agility."
   ]
  },
  {
   "cell_type": "code",
   "execution_count": 16,
   "metadata": {},
   "outputs": [
    {
     "data": {
      "text/html": [
       "<div>\n",
       "<style scoped>\n",
       "    .dataframe tbody tr th:only-of-type {\n",
       "        vertical-align: middle;\n",
       "    }\n",
       "\n",
       "    .dataframe tbody tr th {\n",
       "        vertical-align: top;\n",
       "    }\n",
       "\n",
       "    .dataframe thead th {\n",
       "        text-align: right;\n",
       "    }\n",
       "</style>\n",
       "<table border=\"1\" class=\"dataframe\">\n",
       "  <thead>\n",
       "    <tr style=\"text-align: right;\">\n",
       "      <th></th>\n",
       "      <th>Acceleration</th>\n",
       "      <th>SprintSpeed</th>\n",
       "      <th>Agility</th>\n",
       "    </tr>\n",
       "  </thead>\n",
       "  <tbody>\n",
       "    <tr>\n",
       "      <td>0</td>\n",
       "      <td>91.0</td>\n",
       "      <td>86.0</td>\n",
       "      <td>91.0</td>\n",
       "    </tr>\n",
       "    <tr>\n",
       "      <td>1</td>\n",
       "      <td>89.0</td>\n",
       "      <td>91.0</td>\n",
       "      <td>87.0</td>\n",
       "    </tr>\n",
       "    <tr>\n",
       "      <td>2</td>\n",
       "      <td>94.0</td>\n",
       "      <td>90.0</td>\n",
       "      <td>96.0</td>\n",
       "    </tr>\n",
       "    <tr>\n",
       "      <td>3</td>\n",
       "      <td>57.0</td>\n",
       "      <td>58.0</td>\n",
       "      <td>60.0</td>\n",
       "    </tr>\n",
       "    <tr>\n",
       "      <td>4</td>\n",
       "      <td>78.0</td>\n",
       "      <td>76.0</td>\n",
       "      <td>79.0</td>\n",
       "    </tr>\n",
       "    <tr>\n",
       "      <td>5</td>\n",
       "      <td>94.0</td>\n",
       "      <td>88.0</td>\n",
       "      <td>95.0</td>\n",
       "    </tr>\n",
       "    <tr>\n",
       "      <td>6</td>\n",
       "      <td>80.0</td>\n",
       "      <td>72.0</td>\n",
       "      <td>93.0</td>\n",
       "    </tr>\n",
       "    <tr>\n",
       "      <td>7</td>\n",
       "      <td>86.0</td>\n",
       "      <td>75.0</td>\n",
       "      <td>82.0</td>\n",
       "    </tr>\n",
       "    <tr>\n",
       "      <td>8</td>\n",
       "      <td>76.0</td>\n",
       "      <td>75.0</td>\n",
       "      <td>78.0</td>\n",
       "    </tr>\n",
       "    <tr>\n",
       "      <td>9</td>\n",
       "      <td>43.0</td>\n",
       "      <td>60.0</td>\n",
       "      <td>67.0</td>\n",
       "    </tr>\n",
       "  </tbody>\n",
       "</table>\n",
       "</div>"
      ],
      "text/plain": [
       "   Acceleration  SprintSpeed  Agility\n",
       "0          91.0         86.0     91.0\n",
       "1          89.0         91.0     87.0\n",
       "2          94.0         90.0     96.0\n",
       "3          57.0         58.0     60.0\n",
       "4          78.0         76.0     79.0\n",
       "5          94.0         88.0     95.0\n",
       "6          80.0         72.0     93.0\n",
       "7          86.0         75.0     82.0\n",
       "8          76.0         75.0     78.0\n",
       "9          43.0         60.0     67.0"
      ]
     },
     "execution_count": 16,
     "metadata": {},
     "output_type": "execute_result"
    }
   ],
   "source": [
    "# get a quick look at other players' Acceleration, SprintSpeed and Agility\n",
    "features[['Acceleration', 'SprintSpeed', 'Agility']].head(10)"
   ]
  },
  {
   "cell_type": "markdown",
   "metadata": {},
   "source": [
    "It seems like this is the case. But we need a more reasonable proof, we'll calculate the Pearson correlation coefficient of them and see if our assumption holds."
   ]
  },
  {
   "cell_type": "code",
   "execution_count": 17,
   "metadata": {},
   "outputs": [
    {
     "name": "stdout",
     "output_type": "stream",
     "text": [
      "The Pearson correlation coefficient of Acceleration and SprintSpeed is 0.9218965834173617\n",
      "The Pearson correlation coefficient of Agility and SprintSpeed is 0.7635535110479592\n"
     ]
    }
   ],
   "source": [
    "# do not include players with missing SpringSpeed\n",
    "missing_idx = features[features['SprintSpeed'].isna()].index\n",
    "acc_spr_pearson, _ = stats.pearsonr(features.drop(missing_idx)['Acceleration'],\n",
    "                                          features.drop(missing_idx)['SprintSpeed'])\n",
    "print('The Pearson correlation coefficient of Acceleration and SprintSpeed is', acc_spr_pearson)\n",
    "agi_spr_pearson, _ = stats.pearsonr(features.drop(missing_idx)['Agility'],\n",
    "                                          features.drop(missing_idx)['SprintSpeed'])\n",
    "print('The Pearson correlation coefficient of Agility and SprintSpeed is', agi_spr_pearson)"
   ]
  },
  {
   "cell_type": "markdown",
   "metadata": {},
   "source": [
    "Both Acceleration and Agility are strongly correlated with SprintSpeed. We will use a weighted sum (use Pearson correlation coefficient as weights) of these two attributes to fill in the missing values."
   ]
  },
  {
   "cell_type": "code",
   "execution_count": 18,
   "metadata": {},
   "outputs": [],
   "source": [
    "# compute weighted sum\n",
    "tmp_weights = [acc_spr_pearson, agi_spr_pearson]\n",
    "features.loc[missing_idx, ['SprintSpeed']] = features.loc[missing_idx][['Acceleration', 'Agility']] \\\n",
    "    .dot(tmp_weights) / sum(tmp_weights)"
   ]
  },
  {
   "cell_type": "code",
   "execution_count": 19,
   "metadata": {},
   "outputs": [
    {
     "data": {
      "text/plain": [
       "Overall                False\n",
       "Weak Foot              False\n",
       "Skill Moves            False\n",
       "Crossing               False\n",
       "Finishing              False\n",
       "HeadingAccuracy        False\n",
       "ShortPassing           False\n",
       "Volleys                False\n",
       "Dribbling              False\n",
       "Curve                  False\n",
       "FKAccuracy             False\n",
       "LongPassing            False\n",
       "BallControl            False\n",
       "Acceleration           False\n",
       "SprintSpeed            False\n",
       "Agility                False\n",
       "Reactions              False\n",
       "Balance                False\n",
       "ShotPower              False\n",
       "Jumping                False\n",
       "Stamina                False\n",
       "Strength               False\n",
       "LongShots              False\n",
       "Aggression             False\n",
       "Interceptions          False\n",
       "Positioning            False\n",
       "Vision                 False\n",
       "Penalties              False\n",
       "Composure              False\n",
       "Marking                False\n",
       "StandingTackle         False\n",
       "SlidingTackle          False\n",
       "GKDiving               False\n",
       "GKHandling             False\n",
       "GKKicking              False\n",
       "GKPositioning          False\n",
       "GKReflexes             False\n",
       "Attacking Work Rate    False\n",
       "Defending Work Rate    False\n",
       "dtype: bool"
      ]
     },
     "execution_count": 19,
     "metadata": {},
     "output_type": "execute_result"
    }
   ],
   "source": [
    "# check again if there is any attribute contains missing values\n",
    "features.isna().any()"
   ]
  },
  {
   "cell_type": "markdown",
   "metadata": {},
   "source": [
<<<<<<< HEAD
    "There is no missing value anymore."
   ]
  },
  {
   "cell_type": "markdown",
   "metadata": {},
   "source": [
    "## A3. Building a regression model\n",
=======
    "### A5.2. Assessing the improvement\n",
    "Compute *bootstrap confidence intervals* for the mean squared error that the two models (trained in the steps **A4.1** and **A5.1**) make. Retrain both models *1000 times*, each time with a different random train/test split, and compute the respective mean squared errors.   \n",
    "*Note: Use the 'optimal regularization parameters' already found via cross validation in steps **A4.1** and **A5.1**.*\n",
>>>>>>> f43b4992bf89bca4754f6c6c1c4517dab9d18818
    "\n",
    "By letting them perform exercises, you have gathered data about the following athletic skills (except for the *overall football performance*) of your candidate players:"
   ]
  },
  {
   "cell_type": "code",
   "execution_count": 20,
   "metadata": {},
   "outputs": [],
   "source": [
    "athletic_skills = ['Overall', 'Acceleration',\n",
    "       'SprintSpeed', 'Agility', 'Reactions', 'Balance',\n",
    "       'Jumping', 'Stamina', 'Strength']"
   ]
  },
  {
   "cell_type": "markdown",
   "metadata": {},
   "source": [
    "To decide which player to hire, you need to know how these skills transfer to football performance.\n",
    "\n",
    "To predict the football performance of a player, you want to build a linear model with an additional regularization term to prevent overfitting. The specific model used in this exercise is L2-regularized linear regression, aka \"Ridge Regression\". It combines the least squares linear regression model that you know from the lecture with a penalty on the norm of the weight vector [1]. The function that Ridge Regression minimizes is\n",
    "\n",
    "$$||y-Xw||_2^2 + \\alpha ||w||_2^2,$$\n",
    "\n",
    "where $y$ is a vector of overall ratings, $X$ is the matrix of data vectors with each *row* being the features of a football player, $w$ is the weight vector, and $\\alpha$ is the (non-negative) regularization parameter.\n",
    "\n",
    "[1] If there are enough model parameters, a powerful machine learning model will be able to \"memorize\" the value it is supposed to predict for some training examples. That means, it will perform well on those training examples, but will perform much worse on data that was not used for training. One way to counter this is to penalize large weight values. This can be thought of as reducing the complexity of the model.\n",
    "\n",
    "### A3.1.\n",
    "Split the data randomly into a train (70%) and a test set (30%). Use 1 as the random seed."
   ]
  },
  {
   "cell_type": "code",
   "execution_count": 21,
   "metadata": {},
   "outputs": [],
   "source": [
    "y = features.Overall.values\n",
    "X = features[athletic_skills[1:]].values\n",
    "X_train, X_test, y_train, y_test = train_test_split(X, y, test_size=0.3, random_state=1)"
   ]
  },
  {
   "cell_type": "markdown",
   "metadata": {},
   "source": [
    "### A3.2.\n",
    "Build a Ridge Regression model that predicts a player's overall football performance from the other feature in the list above (sklearn might be helpful here).\n",
    "\n",
    "Ridge Regression has a regularization parameter $\\alpha$. Optimize it in the range [0, 2000] via cross validation. Use as a metric the mean squared error. Plot the cross-validation error as a function of the regularization parameter and choose the best parameter for your final model."
   ]
  },
  {
   "cell_type": "code",
   "execution_count": 95,
   "metadata": {},
   "outputs": [],
   "source": [
    "alphas = range(1, 2000)\n",
    "errors = []\n",
    "for alpha in alphas:\n",
    "    reg = Ridge(alpha=alpha)\n",
    "    # 5-fold cross validation\n",
    "    y_pred = cross_val_predict(reg, X_train, y_train, cv=5)\n",
    "    errors.append(mean_squared_error(y_pred, y_train))"
   ]
  },
  {
   "cell_type": "code",
   "execution_count": 96,
   "metadata": {},
   "outputs": [
    {
     "data": {
      "image/png": "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\n",
      "text/plain": [
       "<Figure size 432x288 with 1 Axes>"
      ]
     },
     "metadata": {
      "needs_background": "light"
     },
     "output_type": "display_data"
    }
   ],
   "source": [
    "# plot the cross-validation error vs. the regularization parameter\n",
    "plt.plot(alphas, errors)\n",
    "plt.show()"
   ]
  },
  {
   "cell_type": "code",
   "execution_count": 97,
   "metadata": {},
   "outputs": [
    {
     "name": "stdout",
     "output_type": "stream",
     "text": [
      "The best alpha is 1\n"
     ]
    }
   ],
   "source": [
    "best_alpha = alphas[np.argmin(errors)]\n",
    "print('The best alpha is', best_alpha)"
   ]
  },
  {
   "cell_type": "markdown",
   "metadata": {},
   "source": [
    "## A4. Feature importance\n",
    "\n",
    "Hiring new players isn't the only job of a manager/head-coach; another important one is training players. While you are at it, you think, why not use the insights gained from the hiring process to also improve the training process of your entire team? Since a training session can only last a limited amount of time and there are several possible exercises to do, you want to know which athletic skill should your training process focus the most upon. Your idea is to use the *weights* of your regression model as a guidance: In your opinion, a *higher weight* for an athletic skill should mean that this skill is highly *predictive* of the football performance.\n",
    "\n",
    "### A4.1.\n",
    "* Print the weights. Why might it *not* be a good idea to use them as they are for gauging a skill's importance?\n",
    "* How can you fix this?\n",
    "* What has changed due to your fix?\n",
    "\n",
    "*Hint: Some skills could get disadvantaged (carefully study the ranges of the corresponding features)! This can be prevented by another preprocessing step discussed in the lecture that takes care of differing ranges, after which you need to train the model again.*"
   ]
  },
  {
   "cell_type": "code",
   "execution_count": 26,
   "metadata": {},
   "outputs": [
    {
     "data": {
      "text/html": [
       "<div>\n",
       "<style scoped>\n",
       "    .dataframe tbody tr th:only-of-type {\n",
       "        vertical-align: middle;\n",
       "    }\n",
       "\n",
       "    .dataframe tbody tr th {\n",
       "        vertical-align: top;\n",
       "    }\n",
       "\n",
       "    .dataframe thead th {\n",
       "        text-align: right;\n",
       "    }\n",
       "</style>\n",
       "<table border=\"1\" class=\"dataframe\">\n",
       "  <thead>\n",
       "    <tr style=\"text-align: right;\">\n",
       "      <th></th>\n",
       "      <th>weights</th>\n",
       "      <th>range</th>\n",
       "    </tr>\n",
       "  </thead>\n",
       "  <tbody>\n",
       "    <tr>\n",
       "      <td>Reactions</td>\n",
       "      <td>0.604728</td>\n",
       "      <td>96.85</td>\n",
       "    </tr>\n",
       "    <tr>\n",
       "      <td>Strength</td>\n",
       "      <td>0.072732</td>\n",
       "      <td>96.85</td>\n",
       "    </tr>\n",
       "    <tr>\n",
       "      <td>Jumping</td>\n",
       "      <td>0.068732</td>\n",
       "      <td>96.85</td>\n",
       "    </tr>\n",
       "    <tr>\n",
       "      <td>Agility</td>\n",
       "      <td>0.048113</td>\n",
       "      <td>96.85</td>\n",
       "    </tr>\n",
       "    <tr>\n",
       "      <td>SprintSpeed</td>\n",
       "      <td>0.015785</td>\n",
       "      <td>96.85</td>\n",
       "    </tr>\n",
       "    <tr>\n",
       "      <td>Acceleration</td>\n",
       "      <td>0.003177</td>\n",
       "      <td>96.85</td>\n",
       "    </tr>\n",
       "    <tr>\n",
       "      <td>Stamina</td>\n",
       "      <td>-0.007121</td>\n",
       "      <td>96.85</td>\n",
       "    </tr>\n",
       "    <tr>\n",
       "      <td>Balance</td>\n",
       "      <td>-0.032030</td>\n",
       "      <td>96.85</td>\n",
       "    </tr>\n",
       "  </tbody>\n",
       "</table>\n",
       "</div>"
      ],
      "text/plain": [
       "               weights  range\n",
       "Reactions     0.604728  96.85\n",
       "Strength      0.072732  96.85\n",
       "Jumping       0.068732  96.85\n",
       "Agility       0.048113  96.85\n",
       "SprintSpeed   0.015785  96.85\n",
       "Acceleration  0.003177  96.85\n",
       "Stamina      -0.007121  96.85\n",
       "Balance      -0.032030  96.85"
      ]
     },
     "execution_count": 26,
     "metadata": {},
     "output_type": "execute_result"
    }
   ],
   "source": [
    "# show weights and its corresponding attribute name and range\n",
    "weights_df = pd.DataFrame(data=reg.coef_, index=athletic_skills[1:], columns=['weights'])\n",
    "weights_df['range'] = X_train.max() - X_train.min()\n",
    "weights_df.sort_values(by='weights', ascending=False)"
   ]
  },
  {
   "cell_type": "markdown",
   "metadata": {},
   "source": [
    "It's not a good idea to use the current weights because the ranges of features are different (e.g. Jumping is clearly in a different scale). Skill with larger range won't need large weight to influence the final prediction. Therefore, we can't see the true importance of a skill.  "
   ]
  },
  {
   "cell_type": "markdown",
   "metadata": {},
   "source": [
    "We should normalize the features before training the regression model. We'll user min-max scaling so that the range of all features will be the same (the new features lie in the interval [0, 1])."
   ]
  },
  {
   "cell_type": "code",
   "execution_count": 27,
   "metadata": {},
   "outputs": [],
   "source": [
    "# min-max scaling\n",
    "X = (X - X.min(axis=0)) / (X.max(axis=0) - X.min(axis=0))\n",
    "# split data\n",
    "X_train, X_test, y_train, y_test = train_test_split(X, y, test_size=0.3, random_state=1)"
   ]
  },
  {
   "cell_type": "code",
   "execution_count": 28,
   "metadata": {},
   "outputs": [],
   "source": [
    "alphas = range(1, 10)\n",
    "errors = []\n",
    "for alpha in alphas:\n",
    "    reg = Ridge(alpha=alpha)\n",
    "    # 10-fold cross validation\n",
    "    y_pred = cross_val_predict(reg, X_train, y_train, cv=5)\n",
    "    errors.append(mean_squared_error(y_pred, y_train))"
   ]
  },
  {
   "cell_type": "code",
   "execution_count": 29,
   "metadata": {},
   "outputs": [
    {
     "data": {
      "image/png": "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\n",
      "text/plain": [
       "<Figure size 432x288 with 1 Axes>"
      ]
     },
     "metadata": {
      "needs_background": "light"
     },
     "output_type": "display_data"
    }
   ],
   "source": [
    "# plot the cross-validation error vs. the regularization parameter\n",
    "plt.plot(alphas, errors)\n",
    "plt.show()"
   ]
  },
  {
   "cell_type": "code",
   "execution_count": 30,
   "metadata": {},
   "outputs": [
    {
     "name": "stdout",
     "output_type": "stream",
     "text": [
      "The best alpha is 1\n"
     ]
    }
   ],
   "source": [
    "best_alpha = alphas[np.argmin(errors)]\n",
    "print('The best alpha is', best_alpha)"
   ]
  },
  {
   "cell_type": "code",
   "execution_count": 31,
   "metadata": {},
   "outputs": [
    {
     "data": {
      "text/plain": [
       "Ridge(alpha=1, copy_X=True, fit_intercept=True, max_iter=None, normalize=False,\n",
       "      random_state=None, solver='auto', tol=0.001)"
      ]
     },
     "execution_count": 31,
     "metadata": {},
     "output_type": "execute_result"
    }
   ],
   "source": [
    "reg = Ridge(alpha=best_alpha)\n",
    "reg.fit(X_train, y_train)"
   ]
  },
  {
   "cell_type": "code",
   "execution_count": 32,
   "metadata": {},
   "outputs": [
    {
     "data": {
      "text/html": [
       "<div>\n",
       "<style scoped>\n",
       "    .dataframe tbody tr th:only-of-type {\n",
       "        vertical-align: middle;\n",
       "    }\n",
       "\n",
       "    .dataframe tbody tr th {\n",
       "        vertical-align: top;\n",
       "    }\n",
       "\n",
       "    .dataframe thead th {\n",
       "        text-align: right;\n",
       "    }\n",
       "</style>\n",
       "<table border=\"1\" class=\"dataframe\">\n",
       "  <thead>\n",
       "    <tr style=\"text-align: right;\">\n",
       "      <th></th>\n",
       "      <th>weights</th>\n",
       "      <th>range</th>\n",
       "    </tr>\n",
       "  </thead>\n",
       "  <tbody>\n",
       "    <tr>\n",
       "      <td>Reactions</td>\n",
       "      <td>57.997520</td>\n",
       "      <td>1.0</td>\n",
       "    </tr>\n",
       "    <tr>\n",
       "      <td>Strength</td>\n",
       "      <td>7.154089</td>\n",
       "      <td>1.0</td>\n",
       "    </tr>\n",
       "    <tr>\n",
       "      <td>Agility</td>\n",
       "      <td>4.733359</td>\n",
       "      <td>1.0</td>\n",
       "    </tr>\n",
       "    <tr>\n",
       "      <td>SprintSpeed</td>\n",
       "      <td>1.470325</td>\n",
       "      <td>1.0</td>\n",
       "    </tr>\n",
       "    <tr>\n",
       "      <td>Jumping</td>\n",
       "      <td>0.913091</td>\n",
       "      <td>1.0</td>\n",
       "    </tr>\n",
       "    <tr>\n",
       "      <td>Acceleration</td>\n",
       "      <td>0.296566</td>\n",
       "      <td>1.0</td>\n",
       "    </tr>\n",
       "    <tr>\n",
       "      <td>Stamina</td>\n",
       "      <td>-0.595999</td>\n",
       "      <td>1.0</td>\n",
       "    </tr>\n",
       "    <tr>\n",
       "      <td>Balance</td>\n",
       "      <td>-3.049245</td>\n",
       "      <td>1.0</td>\n",
       "    </tr>\n",
       "  </tbody>\n",
       "</table>\n",
       "</div>"
      ],
      "text/plain": [
       "                weights  range\n",
       "Reactions     57.997520    1.0\n",
       "Strength       7.154089    1.0\n",
       "Agility        4.733359    1.0\n",
       "SprintSpeed    1.470325    1.0\n",
       "Jumping        0.913091    1.0\n",
       "Acceleration   0.296566    1.0\n",
       "Stamina       -0.595999    1.0\n",
       "Balance       -3.049245    1.0"
      ]
     },
     "execution_count": 32,
     "metadata": {},
     "output_type": "execute_result"
    }
   ],
   "source": [
    "# show weights and its corresponding attribute name and range\n",
    "weights_df = pd.DataFrame(data=reg.coef_, index=athletic_skills[1:], columns=['weights'])\n",
    "weights_df['range'] = X_train.max() - X_train.min()\n",
    "weights_df.sort_values(by='weights', ascending=False)"
   ]
  },
  {
   "cell_type": "markdown",
   "metadata": {},
   "source": [
    "Jumping now only has the fifth highest weight. It previously had a second highest weight."
   ]
  },
  {
   "cell_type": "markdown",
   "metadata": {},
   "source": [
    "### A4.2.\n",
    "* After the *fix* in step A4.1., is everything fine now with the weights? Sort the weights in descending order. Do you observe anything unexpected with the lowest-ranked weights?\n",
    "* Do you have an idea what could be the potential cause for this? (No need to analytically prove your hypothesis.)\n",
    "* Come up with a better way to gauge the importance of a feature for the overall performance."
   ]
  },
  {
   "cell_type": "code",
   "execution_count": 33,
   "metadata": {},
   "outputs": [
    {
     "data": {
      "text/html": [
       "<div>\n",
       "<style scoped>\n",
       "    .dataframe tbody tr th:only-of-type {\n",
       "        vertical-align: middle;\n",
       "    }\n",
       "\n",
       "    .dataframe tbody tr th {\n",
       "        vertical-align: top;\n",
       "    }\n",
       "\n",
       "    .dataframe thead th {\n",
       "        text-align: right;\n",
       "    }\n",
       "</style>\n",
       "<table border=\"1\" class=\"dataframe\">\n",
       "  <thead>\n",
       "    <tr style=\"text-align: right;\">\n",
       "      <th></th>\n",
       "      <th>weights</th>\n",
       "      <th>range</th>\n",
       "    </tr>\n",
       "  </thead>\n",
       "  <tbody>\n",
       "    <tr>\n",
       "      <td>Reactions</td>\n",
       "      <td>57.997520</td>\n",
       "      <td>1.0</td>\n",
       "    </tr>\n",
       "    <tr>\n",
       "      <td>Strength</td>\n",
       "      <td>7.154089</td>\n",
       "      <td>1.0</td>\n",
       "    </tr>\n",
       "    <tr>\n",
       "      <td>Agility</td>\n",
       "      <td>4.733359</td>\n",
       "      <td>1.0</td>\n",
       "    </tr>\n",
       "    <tr>\n",
       "      <td>SprintSpeed</td>\n",
       "      <td>1.470325</td>\n",
       "      <td>1.0</td>\n",
       "    </tr>\n",
       "    <tr>\n",
       "      <td>Jumping</td>\n",
       "      <td>0.913091</td>\n",
       "      <td>1.0</td>\n",
       "    </tr>\n",
       "    <tr>\n",
       "      <td>Acceleration</td>\n",
       "      <td>0.296566</td>\n",
       "      <td>1.0</td>\n",
       "    </tr>\n",
       "    <tr>\n",
       "      <td>Stamina</td>\n",
       "      <td>-0.595999</td>\n",
       "      <td>1.0</td>\n",
       "    </tr>\n",
       "    <tr>\n",
       "      <td>Balance</td>\n",
       "      <td>-3.049245</td>\n",
       "      <td>1.0</td>\n",
       "    </tr>\n",
       "  </tbody>\n",
       "</table>\n",
       "</div>"
      ],
      "text/plain": [
       "                weights  range\n",
       "Reactions     57.997520    1.0\n",
       "Strength       7.154089    1.0\n",
       "Agility        4.733359    1.0\n",
       "SprintSpeed    1.470325    1.0\n",
       "Jumping        0.913091    1.0\n",
       "Acceleration   0.296566    1.0\n",
       "Stamina       -0.595999    1.0\n",
       "Balance       -3.049245    1.0"
      ]
     },
     "execution_count": 33,
     "metadata": {},
     "output_type": "execute_result"
    }
   ],
   "source": [
    "weights_df.sort_values(by='weights', ascending=False)"
   ]
  },
  {
   "cell_type": "markdown",
   "metadata": {},
   "source": [
    "The lowest-ranked weight is Balance, and it is a negative value. The weight of Stamina is also a negative value."
   ]
  },
  {
   "cell_type": "markdown",
   "metadata": {},
   "source": [
    "It could be that in the training data we got, Balance and Stamina have a negative relation with the Overall, which causes them to negatively contribute in the model. But it doesn't mean they are the less important ones, negatively related can still be important if the absolute values of weights are large."
   ]
  },
  {
   "cell_type": "markdown",
   "metadata": {},
   "source": [
    "Therefore, we should sort the weights their absolute values."
   ]
  },
  {
   "cell_type": "code",
   "execution_count": 34,
   "metadata": {},
   "outputs": [
    {
     "data": {
      "text/html": [
       "<div>\n",
       "<style scoped>\n",
       "    .dataframe tbody tr th:only-of-type {\n",
       "        vertical-align: middle;\n",
       "    }\n",
       "\n",
       "    .dataframe tbody tr th {\n",
       "        vertical-align: top;\n",
       "    }\n",
       "\n",
       "    .dataframe thead th {\n",
       "        text-align: right;\n",
       "    }\n",
       "</style>\n",
       "<table border=\"1\" class=\"dataframe\">\n",
       "  <thead>\n",
       "    <tr style=\"text-align: right;\">\n",
       "      <th></th>\n",
       "      <th>weights</th>\n",
       "      <th>range</th>\n",
       "      <th>weights_abs</th>\n",
       "    </tr>\n",
       "  </thead>\n",
       "  <tbody>\n",
       "    <tr>\n",
       "      <td>Reactions</td>\n",
       "      <td>57.997520</td>\n",
       "      <td>1.0</td>\n",
       "      <td>57.997520</td>\n",
       "    </tr>\n",
       "    <tr>\n",
       "      <td>Strength</td>\n",
       "      <td>7.154089</td>\n",
       "      <td>1.0</td>\n",
       "      <td>7.154089</td>\n",
       "    </tr>\n",
       "    <tr>\n",
       "      <td>Agility</td>\n",
       "      <td>4.733359</td>\n",
       "      <td>1.0</td>\n",
       "      <td>4.733359</td>\n",
       "    </tr>\n",
       "    <tr>\n",
       "      <td>Balance</td>\n",
       "      <td>-3.049245</td>\n",
       "      <td>1.0</td>\n",
       "      <td>3.049245</td>\n",
       "    </tr>\n",
       "    <tr>\n",
       "      <td>SprintSpeed</td>\n",
       "      <td>1.470325</td>\n",
       "      <td>1.0</td>\n",
       "      <td>1.470325</td>\n",
       "    </tr>\n",
       "    <tr>\n",
       "      <td>Jumping</td>\n",
       "      <td>0.913091</td>\n",
       "      <td>1.0</td>\n",
       "      <td>0.913091</td>\n",
       "    </tr>\n",
       "    <tr>\n",
       "      <td>Stamina</td>\n",
       "      <td>-0.595999</td>\n",
       "      <td>1.0</td>\n",
       "      <td>0.595999</td>\n",
       "    </tr>\n",
       "    <tr>\n",
       "      <td>Acceleration</td>\n",
       "      <td>0.296566</td>\n",
       "      <td>1.0</td>\n",
       "      <td>0.296566</td>\n",
       "    </tr>\n",
       "  </tbody>\n",
       "</table>\n",
       "</div>"
      ],
      "text/plain": [
       "                weights  range  weights_abs\n",
       "Reactions     57.997520    1.0    57.997520\n",
       "Strength       7.154089    1.0     7.154089\n",
       "Agility        4.733359    1.0     4.733359\n",
       "Balance       -3.049245    1.0     3.049245\n",
       "SprintSpeed    1.470325    1.0     1.470325\n",
       "Jumping        0.913091    1.0     0.913091\n",
       "Stamina       -0.595999    1.0     0.595999\n",
       "Acceleration   0.296566    1.0     0.296566"
      ]
     },
     "execution_count": 34,
     "metadata": {},
     "output_type": "execute_result"
    }
   ],
   "source": [
    "weights_df['weights_abs'] = weights_df.weights.map(abs)\n",
    "weights_df.sort_values(by='weights_abs', ascending=False)"
   ]
  },
  {
   "cell_type": "markdown",
   "metadata": {},
   "source": [
    "## A5. Model Improvements\n",
    "\n",
    "During the ongoing recruiting process, it turns out that attending all the ADA lectures and tutorials has paid off: Solving the ADA homework went like a charm and you are already done with it. Now you wonder whether it is worth going to some football games of the candidates to assess their football-related skills explicitly, and include these skills in training your ML model.\n",
    "\n",
    "### A5.1. Improving the model\n",
    "Train a second model, this time also including as features the football-related skills from the list in the step **A2**. Again use cross validation to compute the best hyperparameter in the range [0,2000]."
   ]
  },
  {
   "cell_type": "code",
   "execution_count": 108,
   "metadata": {},
   "outputs": [],
   "source": [
    "y = features.Overall.values\n",
    "X = features[new_skills[1:]].values\n",
    "# min-max scaling\n",
    "X = (X - X.min(axis=0)) / (X.max(axis=0) - X.min(axis=0))\n",
    "# split data\n",
    "X_train, X_test, y_train, y_test = train_test_split(X, y, test_size=0.3, random_state=1)"
   ]
  },
  {
   "cell_type": "code",
   "execution_count": 109,
   "metadata": {},
   "outputs": [],
   "source": [
    "alphas = range(1, 2000)\n",
    "errors = []\n",
    "for alpha in alphas:\n",
    "    reg = Ridge(alpha=alpha)\n",
    "    # 10-fold cross validation\n",
    "    y_pred = cross_val_predict(reg, X_train, y_train, cv=5)\n",
    "    errors.append(mean_squared_error(y_pred, y_train))"
   ]
  },
  {
   "cell_type": "code",
   "execution_count": 110,
   "metadata": {},
   "outputs": [
    {
     "data": {
      "image/png": "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\n",
      "text/plain": [
       "<Figure size 432x288 with 1 Axes>"
      ]
     },
     "metadata": {
      "needs_background": "light"
     },
     "output_type": "display_data"
    }
   ],
   "source": [
    "# pllt the cross-validation error vs. the regularization parameter\n",
    "plt.plot(alphas, errors)\n",
    "plt.show()"
   ]
  },
  {
   "cell_type": "code",
   "execution_count": 111,
   "metadata": {},
   "outputs": [
    {
     "name": "stdout",
     "output_type": "stream",
     "text": [
      "The best alpha is 1\n"
     ]
    }
   ],
   "source": [
    "best_alpha = alphas[np.argmin(errors)]\n",
    "print('The best alpha is', best_alpha)"
   ]
  },
  {
   "cell_type": "markdown",
   "metadata": {},
   "source": [
    "### A5.2. Assessing the improvement\n",
    "Compute *bootstrap confidence intervals* for the mean squared error that the two models (trained in the steps **A3** and **A5.1**) make. Retrain both models *1000 times*, each time with a different random train/test split, and compute the respective mean squared errors.   \n",
    "*Note: Use the 'optimal regularization parameters' already found via cross validation in steps **A3** and **A5.1**.*\n",
    "\n",
    "* Find the *two-sided 95% confidence intervals* via bootstrap resampling and plot the mean error together with the confidence interval in a bar plot.\n",
    "* What can you say about the properties of the models based on the confidence intervals?\n",
    "* Do you have sufficient evidence to claim that one model is clearly better than the other? Clearly explain your observations!"
   ]
  },
  {
   "cell_type": "code",
   "execution_count": 39,
   "metadata": {},
   "outputs": [],
   "source": [
    "y = features.Overall.values\n",
    "X_A3 = features[athletic_skills[1:]].values\n",
    "X_A5 = features[new_skills[1:]].values\n",
    "# min-max scaling\n",
    "X_A5 = (X_A5 - X_A5.min()) / (X_A5.max() - X_A5.min())\n",
    "mse_A3 = []\n",
    "mse_A5 = []"
   ]
  },
  {
   "cell_type": "code",
   "execution_count": 40,
   "metadata": {},
   "outputs": [],
   "source": [
    "num_data = len(y)\n",
    "for i in range(1000):\n",
    "    # split training and testing data\n",
    "    X_train_A3, X_test_A3, y_train_A3, y_test_A3 = train_test_split(X_A3, y, test_size=0.3, random_state=i)\n",
    "    X_train_A5, X_test_A5, y_train_A5, y_test_A5 = train_test_split(X_A5, y, test_size=0.3, random_state=i)\n",
    "    # initiate both models with the best alpha values found in A3 and A5.1 respectively\n",
    "    reg_A3 = Ridge(alpha=1076)\n",
    "    reg_A5 = Ridge(alpha=1)\n",
    "    # train both models\n",
    "    reg_A3.fit(X_train_A3, y_train_A3)\n",
    "    reg_A5.fit(X_train_A5, y_train_A5)\n",
    "    # compute the predictions\n",
    "    y_pred_A3 = reg_A3.predict(X_test_A3)\n",
    "    y_pred_A5 = reg_A5.predict(X_test_A5)\n",
    "    # compute mse and save it\n",
    "    mse_A3.append(mean_squared_error(y_test_A3, y_pred_A3))\n",
    "    mse_A5.append(mean_squared_error(y_test_A5, y_pred_A5))"
   ]
  },
  {
   "cell_type": "code",
   "execution_count": 41,
   "metadata": {},
   "outputs": [],
   "source": [
    "# bootstrap sample the mean squared errors\n",
    "bootstrap_mse_A3 = []\n",
    "bootstrap_mse_A5 = []\n",
    "for i in range(1000):\n",
    "    bootstrap_mse_A3.append(np.mean(resample(mse_A3)))\n",
    "    bootstrap_mse_A5.append(np.mean(resample(mse_A5)))"
   ]
  },
  {
   "cell_type": "code",
   "execution_count": 42,
   "metadata": {},
   "outputs": [
    {
     "name": "stdout",
     "output_type": "stream",
     "text": [
      "The two-sided 95% confidence interval of A3 model is [12.3112, 12.3369]\n",
      "The two-sided 95% confidence interval of A5 model is [6.6932, 6.7067]\n"
     ]
    }
   ],
   "source": [
    "bootstrap_mse_A3_pd = pd.Series(bootstrap_mse_A3)\n",
    "bootstrap_mse_A5_pd = pd.Series(bootstrap_mse_A5)\n",
    "\n",
    "conf_interval_A3 = [bootstrap_mse_A3_pd.quantile(0.025), bootstrap_mse_A3_pd.quantile(0.975)]\n",
    "conf_interval_A5= [bootstrap_mse_A5_pd.quantile(0.025), bootstrap_mse_A5_pd.quantile(0.975)]\n",
    "\n",
    "print(\"The two-sided 95% confidence interval of A3 model is [{:.4f}, {:.4f}]\"\n",
    "      .format(conf_interval_A3[0], conf_interval_A3[1]))\n",
    "print(\"The two-sided 95% confidence interval of A5 model is [{:.4f}, {:.4f}]\"\n",
    "      .format(conf_interval_A5[0], conf_interval_A5[1]))"
   ]
  },
  {
   "cell_type": "code",
   "execution_count": 102,
   "metadata": {},
   "outputs": [
    {
     "data": {
      "image/png": "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\n",
      "text/plain": [
       "<Figure size 288x576 with 1 Axes>"
      ]
     },
     "metadata": {
      "needs_background": "light"
     },
     "output_type": "display_data"
    }
   ],
   "source": [
    "mmse = [np.mean(bootstrap_mse_A3), np.mean(bootstrap_mse_A5)]\n",
    "yerr = np.abs([\n",
    "    [mmse[0] - conf_interval_A3[0], mmse[1] - conf_interval_A5[0]],\n",
    "    [mmse[0] - conf_interval_A3[1], mmse[1] - conf_interval_A5[1]]\n",
    "])\n",
    "cmap = plt.get_cmap(\"tab20c\")\n",
    "plt.figure(figsize=(4, 8))\n",
    "plt.bar(range(2), mmse, color=cmap([0, 5]), yerr=yerr, capsize=50)\n",
    "plt.xlabel('Model')\n",
    "plt.ylabel('Mean mean squared error')\n",
    "plt.xticks(range(2), ['A3 model', 'A5 model'])\n",
    "plt.show()"
   ]
  },
  {
   "cell_type": "markdown",
   "metadata": {},
   "source": [
    "The 95% confidence interval is an interval that covers 95% of the bootstrapped mean squared error (mse). It tells us we have 95% of confidence that the interval contains the true mse of the model (true means if we can collect all the data, and evaluate the model with them).  \n",
    "\n",
    "The confidence interval of A5 model spans over smaller mse than A3 model. We can claim that A5 model is better than A3 model because the true mse of A5 model is going to be smaller than the true mse of A3 model.  \n",
    "\n",
    "Based on the 1000 times we trained both models, we would say we have sufficient evidence that A5 model is better than A3 model since the intervals of mse didn't intersect with each other (A5: [6.36, 6.93], A3: [11.76, 12.92]), which means the mse of A5 model is always smaller than the mse of A3 model."
   ]
  },
  {
   "cell_type": "markdown",
   "metadata": {},
   "source": [
    "# Task B: Scaling up\n",
    "\n",
    "## Description\n",
    "\n",
    "[Reddit](https://www.reddit.com/) aka *'the front page of the internet'* is a network of over a million *communities* aka *'subreddits'*, each of which covers a different topic based on people's interests. In other words, it is a *massive* collection of forums (corresponding to the aforementioned communities), where people can share content specific to a given topic or comment on other people’s posts.   \n",
    "\n",
    "You are reddit's community manager and want to *appoint new moderators*. Because moderating a specific subreddit isn't a full-time job, you want the chosen moderators to moderate multiple subreddits at the same time. To make this choice effective, the moderators shouldn't have to spend too much time getting to know the community and the prevalent communication style, so it makes sense to let moderators moderate subreddits that are similar in communication style and language. At the same time, it also makes sense to let them moderate subreddits that are similar with respect to the participating users, because this allows moderators to track the behavior of individual users over multiple subreddits. For example, some users might only post offensive content once a month on a given subreddit, and therefore fly under the radar with someone moderating only that subreddit. However, considering all the subreddits these users post to, they might post something offensive every day but on different subreddits. Thus, a moderator in charge of all these subreddits would be able to ban such users much more effectively. In the light of the above description, your task is to find out ways to choose moderators considering both the textual content and the users of a subreddit.\n",
    "\n",
    "### Dataset:\n",
    "The dataset provided to you includes all the posts of the 15 largest subreddits written as of May 2015.\n",
    "\n",
    "Reddit posts (provided to you via a [google drive folder](https://drive.google.com/a/epfl.ch/file/d/19SVHKbUTUPtC9HMmADJcAAIY1Xjq6WFv/view?usp=sharing))\n",
    "```\n",
    "reddit_posts\n",
    " |-- id: id of the post \n",
    " |-- author: user name of the author \n",
    " |-- body: text of the message\n",
    " |-- subreddit: name of the subreddit\n",
    "```\n",
    "\n",
    "Reddit scores (provided to you via a [google drive folder](https://drive.google.com/a/epfl.ch/file/d/1vr4PolJzTXr6ODSe3ucib5EAyp3rjxec/view?usp=sharing))\n",
    "```\n",
    "reddit_scores\n",
    " |-- id: id of the post \n",
    " |-- score: score computed as sum of UP/DOWN votes\n",
    "```\n",
    "\n",
    "*Note: Jaccard similarity between subreddits represented using either the set of top-1000 words or the set of users can be computed locally (on the driver), however, all the other tasks have to be implemented in Spark.*"
   ]
  },
  {
   "cell_type": "markdown",
   "metadata": {},
   "source": [
    "## B1. Getting a sense of the data\n",
    "\n",
    "Start a PySpark instance..."
   ]
  },
  {
   "cell_type": "code",
   "execution_count": 24,
   "metadata": {},
   "outputs": [],
   "source": [
    "%matplotlib inline\n",
    "import os\n",
    "import re\n",
    "import numpy as np\n",
    "import pandas as pd\n",
    "from collections import Counter\n",
    "from matplotlib.ticker import MaxNLocator, StrMethodFormatter\n",
    "import matplotlib.pyplot as plt\n",
    "from matplotlib.patches import Ellipse"
   ]
  },
  {
   "cell_type": "code",
   "execution_count": 2,
   "metadata": {},
   "outputs": [],
   "source": [
    "import pyspark\n",
    "import pyspark.sql\n",
    "from pyspark.sql import *\n",
    "from pyspark.sql.functions import *\n",
    "\n",
    "conf = pyspark.SparkConf().setMaster('local[*]').setAll([\n",
    "                                   ('spark.executor.memory', '12g'),\n",
    "                                   ('spark.driver.memory','12g'),\n",
    "                                   ('spark.driver.maxResultSize', '4G'),\n",
    "                                   ('spark.executor.extrajavaoptions', '-Xmx1024m')\n",
    "                                  ])\n",
    "# create the session\n",
    "spark = SparkSession.builder.config(conf=conf).getOrCreate()\n",
    "\n",
    "# create the context\n",
    "sc = spark.sparkContext\n",
    "\n",
    "# FIX for Spark 2.x\n",
    "locale = sc._jvm.java.util.Locale\n",
    "locale.setDefault(locale.forLanguageTag('en-US'))"
   ]
  },
  {
   "cell_type": "code",
   "execution_count": 3,
   "metadata": {},
   "outputs": [
    {
     "data": {
      "text/html": [
       "\n",
       "            <div>\n",
       "                <p><b>SparkSession - in-memory</b></p>\n",
       "                \n",
       "        <div>\n",
       "            <p><b>SparkContext</b></p>\n",
       "\n",
       "            <p><a href=\"http://tsf-452-wpa-7-127.epfl.ch:4040\">Spark UI</a></p>\n",
       "\n",
       "            <dl>\n",
       "              <dt>Version</dt>\n",
       "                <dd><code>v2.4.4</code></dd>\n",
       "              <dt>Master</dt>\n",
       "                <dd><code>local[*]</code></dd>\n",
       "              <dt>AppName</dt>\n",
       "                <dd><code>pyspark-shell</code></dd>\n",
       "            </dl>\n",
       "        </div>\n",
       "        \n",
       "            </div>\n",
       "        "
      ],
      "text/plain": [
       "<pyspark.sql.session.SparkSession at 0x1208c7d50>"
      ]
     },
     "execution_count": 3,
     "metadata": {},
     "output_type": "execute_result"
    }
   ],
   "source": [
    "spark"
   ]
  },
  {
   "cell_type": "markdown",
   "metadata": {},
   "source": [
    "... and load the data in a Spark dataframe."
   ]
  },
  {
   "cell_type": "code",
   "execution_count": 4,
   "metadata": {},
   "outputs": [],
   "source": [
    "posts = spark.read.json('./data/messages.json.gz')\n",
    "scores = spark.read.json('./data/score.json.gz')"
   ]
  },
  {
   "cell_type": "markdown",
   "metadata": {},
   "source": [
    "### B1.1. Identify the most active subreddit\n",
    "\n",
    "Print the list of subreddits along with the following information:\n",
    "1. The total number of posts\n",
    "2. The number of users with at least 1 message\n",
    "3. The mean message length\n",
    "\n",
    "*Note: Keep everything in one single dataframe and print the list sorted by number of posts in descending order.*"
   ]
  },
  {
   "cell_type": "code",
   "execution_count": 5,
   "metadata": {},
   "outputs": [
    {
     "name": "stdout",
     "output_type": "stream",
     "text": [
      "+---------------+-------------------------+-------------------------------------------+-----------------------+\n",
      "|      subreddit|The total number of posts|The number of users with at least 1 message|The mean message length|\n",
      "+---------------+-------------------------+-------------------------------------------+-----------------------+\n",
      "|leagueoflegends|                  1151287|                                     119321|     152.72280760574904|\n",
      "|            nba|                   704862|                                      45034|     106.48656758344187|\n",
      "|          funny|                   691139|                                     224077|     106.82283882113438|\n",
      "|           pics|                   564502|                                     205305|      114.9710045314277|\n",
      "|            nfl|                   534345|                                      41593|     148.96989211090212|\n",
      "|         videos|                   511492|                                     157628|     170.22702603364274|\n",
      "|           news|                   477658|                                      98736|      230.9491602778557|\n",
      "| DestinyTheGame|                   471160|                                      37008|     165.41786866457255|\n",
      "|         soccer|                   455215|                                      41648|     134.42224663071295|\n",
      "|          DotA2|                   445154|                                      41466|     141.48906670500546|\n",
      "|      worldnews|                   439417|                                      99261|     224.93754679495785|\n",
      "|  AdviceAnimals|                   411902|                                     115815|      159.2513801826648|\n",
      "|         hockey|                   389329|                                      25568|      95.37287230080472|\n",
      "|GlobalOffensive|                   382017|                                      46686|      147.2883981602913|\n",
      "|         movies|                   354601|                                      92484|     164.83209297210104|\n",
      "+---------------+-------------------------+-------------------------------------------+-----------------------+\n",
      "\n"
     ]
    }
   ],
   "source": [
    "active_sub = posts.groupby('subreddit').agg(\n",
    "    count('*').alias('The total number of posts'),\n",
    "    countDistinct('author').alias('The number of users with at least 1 message'),\n",
    "    avg(length('body')).alias('The mean message length')\n",
    ").sort(desc('The total number of posts'))\n",
    "\n",
    "active_sub.cache()\n",
    "active_sub.show()"
   ]
  },
  {
   "cell_type": "markdown",
   "metadata": {},
   "source": [
    "### B1.2. Identify the largest subreddit\n",
    "\n",
    "Print *two* different lists of subreddits: ordered by (1) the number of posts, and (2) the number of users. For each subreddit, print the name and the corresponding counts.\n",
    "\n",
    "Additionally, (3) plot the mean of message length for each subreddit in descending order. Visualise the statistical significance by plotting the 99% confidence intervals for each subreddit as well."
   ]
  },
  {
   "cell_type": "code",
   "execution_count": 6,
   "metadata": {},
   "outputs": [
    {
     "name": "stdout",
     "output_type": "stream",
     "text": [
      "+---------------+-------------------------+\n",
      "|      subreddit|The total number of posts|\n",
      "+---------------+-------------------------+\n",
      "|leagueoflegends|                  1151287|\n",
      "|            nba|                   704862|\n",
      "|          funny|                   691139|\n",
      "|           pics|                   564502|\n",
      "|            nfl|                   534345|\n",
      "|         videos|                   511492|\n",
      "|           news|                   477658|\n",
      "| DestinyTheGame|                   471160|\n",
      "|         soccer|                   455215|\n",
      "|          DotA2|                   445154|\n",
      "|      worldnews|                   439417|\n",
      "|  AdviceAnimals|                   411902|\n",
      "|         hockey|                   389329|\n",
      "|GlobalOffensive|                   382017|\n",
      "|         movies|                   354601|\n",
      "+---------------+-------------------------+\n",
      "\n"
     ]
    }
   ],
   "source": [
    "active_sub.select('subreddit', 'The total number of posts') \\\n",
    "          .sort(desc(\"The total number of posts\")) \\\n",
    "          .show()"
   ]
  },
  {
   "cell_type": "code",
   "execution_count": 7,
   "metadata": {},
   "outputs": [
    {
     "name": "stdout",
     "output_type": "stream",
     "text": [
      "+---------------+-------------------------------------------+\n",
      "|      subreddit|The number of users with at least 1 message|\n",
      "+---------------+-------------------------------------------+\n",
      "|          funny|                                     224077|\n",
      "|           pics|                                     205305|\n",
      "|         videos|                                     157628|\n",
      "|leagueoflegends|                                     119321|\n",
      "|  AdviceAnimals|                                     115815|\n",
      "|      worldnews|                                      99261|\n",
      "|           news|                                      98736|\n",
      "|         movies|                                      92484|\n",
      "|GlobalOffensive|                                      46686|\n",
      "|            nba|                                      45034|\n",
      "|         soccer|                                      41648|\n",
      "|            nfl|                                      41593|\n",
      "|          DotA2|                                      41466|\n",
      "| DestinyTheGame|                                      37008|\n",
      "|         hockey|                                      25568|\n",
      "+---------------+-------------------------------------------+\n",
      "\n"
     ]
    }
   ],
   "source": [
    "active_sub.select('subreddit', 'The number of users with at least 1 message') \\\n",
    "          .sort(desc(\"The number of users with at least 1 message\")) \\\n",
    "          .show()"
   ]
  },
  {
   "cell_type": "code",
   "execution_count": 8,
   "metadata": {},
   "outputs": [],
   "source": [
    "messages = posts.groupby('subreddit').agg(\n",
    "    count('*').alias('The total number of posts'),\n",
    "    avg(length('body')).alias('The mean message length'),\n",
    "    stddev(length('body')).alias('The std message length')\n",
    ").withColumn('The standard error of the mean message length', col('The std message length') / sqrt(col('The total number of posts'))) \\\n",
    " .sort(desc('The mean message length')) \\\n",
    " .toPandas()"
   ]
  },
  {
   "cell_type": "code",
   "execution_count": 9,
   "metadata": {},
   "outputs": [
    {
     "data": {
      "image/png": "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\n",
      "text/plain": [
       "<Figure size 864x720 with 1 Axes>"
      ]
     },
     "metadata": {
      "needs_background": "light"
     },
     "output_type": "display_data"
    }
   ],
   "source": [
    "# we assume the mean message length is normally distributed\n",
    "# hence 99% confidence intervals means 3 * standard error of the mean message length\n",
    "plt.figure(figsize=(12, 10))\n",
    "plt.bar(messages['subreddit'], messages['The mean message length'], yerr=[\n",
    "    3 * messages['The standard error of the mean message length'],\n",
    "    3 * messages['The standard error of the mean message length']\n",
    "], capsize=10)\n",
    "plt.xlabel('Subreddit')\n",
    "plt.ylabel('The mean message length')\n",
    "plt.xticks(rotation=90)\n",
    "plt.show()"
   ]
  },
  {
   "cell_type": "code",
   "execution_count": 10,
   "metadata": {},
   "outputs": [
    {
     "data": {
      "text/plain": [
       "DataFrame[subreddit: string, The total number of posts: bigint, The number of users with at least 1 message: bigint, The mean message length: double]"
      ]
     },
     "execution_count": 10,
     "metadata": {},
     "output_type": "execute_result"
    }
   ],
   "source": [
    "# remove it from memory\n",
    "active_sub.unpersist()"
   ]
  },
  {
   "cell_type": "markdown",
   "metadata": {},
   "source": [
    "### B1.3. Identify the subreddit with the highest average score\n",
    "\n",
    "Print the list of subreddits sorted by their average content scores."
   ]
  },
  {
   "cell_type": "code",
   "execution_count": 11,
   "metadata": {},
   "outputs": [],
   "source": [
    "posts_joined = posts.join(scores, posts.id == scores.id)"
   ]
  },
  {
   "cell_type": "code",
   "execution_count": 12,
   "metadata": {},
   "outputs": [
    {
     "name": "stdout",
     "output_type": "stream",
     "text": [
      "+---------------+----------------------+\n",
      "|      subreddit|Average content scores|\n",
      "+---------------+----------------------+\n",
      "|         videos|    12.649445152612358|\n",
      "|           pics|    12.216559020162904|\n",
      "|          funny|    12.041505399058655|\n",
      "|  AdviceAnimals|    11.251695791717447|\n",
      "|         soccer|    10.634627593554693|\n",
      "|         movies|      9.82014997137628|\n",
      "|            nfl|     9.048348913155358|\n",
      "|            nba|     9.032795071943161|\n",
      "|           news|     8.673421150697779|\n",
      "|      worldnews|      7.86683719564787|\n",
      "|         hockey|     6.520120515039979|\n",
      "|leagueoflegends|     5.983557531701479|\n",
      "|          DotA2|     4.880537971129092|\n",
      "|GlobalOffensive|     4.351442475073099|\n",
      "| DestinyTheGame|    3.0288819084811953|\n",
      "+---------------+----------------------+\n",
      "\n"
     ]
    }
   ],
   "source": [
    "posts_joined.groupby('subreddit') \\\n",
    "            .agg(avg('score') \\\n",
    "            .alias('Average content scores')) \\\n",
    "            .sort(desc('Average content scores')) \\\n",
    "            .show()"
   ]
  },
  {
   "cell_type": "markdown",
   "metadata": {},
   "source": [
    "## B2. Moderator assignment based on Subreddit Textual Content\n",
    "\n",
    "Different subreddits follow different communication styles inherent in the topic and the community. Having said that, the goal is to discover similar subreddits by only looking at the *words* present in the posted messages. Once such a list of similar subreddits is identified, an appropriately chosen moderator can then be assigned to all these subreddits.\n",
    "\n",
    "Specifically, the task boils down to computing a similarity score between two subreddits based on the *words* present in their textual content. Your first idea is to use the *Jaccard similarity*, which is defined as the size of the intersection of two sets divided by the size of their union.\n",
    "\n",
    "$Jaccard(A,B) = \\frac{|A \\cap B|}{|A \\cup B|}$"
   ]
  },
  {
   "cell_type": "code",
   "execution_count": 13,
   "metadata": {},
   "outputs": [],
   "source": [
    "def jaccard_similarity(list1, list2):\n",
    "    s1 = set(list1)\n",
    "    s2 = set(list2)\n",
    "    return len(s1.intersection(s2)) / len(s1.union(s2))"
   ]
  },
  {
   "cell_type": "markdown",
   "metadata": {},
   "source": [
    "### B2.1.\n",
    "The first step requires constructing a set representation of each subreddit. The goal is to represent each subreddit as a *set of words* existing in the messages posted on that subreddit. Compute the 50,000 most frequent words across all the provided subreddits. Construct a representation for each subreddit by retaining only the words found in the previously identified set of 50,000 frequent words.\n",
    "\n",
    "Some rules:\n",
    " * Words are defined as tokens matching the regular expression `\\W`\n",
    " * Remove all the stop-words (English language)\n",
    "\n",
    "*Note: You might find the [RegexTokenizer](https://spark.apache.org/docs/2.2.0/ml-features.html#tokenizer) and the [StopWordsRemover](https://spark.apache.org/docs/2.2.0/ml-features.html#stopwordsremover) utilities available in the package pyspark.ml useful for this task as they help you in transforming the features and removing stopwords.*"
   ]
  },
  {
   "cell_type": "code",
   "execution_count": 14,
   "metadata": {},
   "outputs": [],
   "source": [
    "from pyspark.ml.feature import RegexTokenizer, StopWordsRemover, CountVectorizer, CountVectorizerModel"
   ]
  },
  {
   "cell_type": "code",
   "execution_count": 15,
   "metadata": {},
   "outputs": [
    {
     "data": {
      "text/plain": [
       "DataFrame[subreddit: string, concat_body: string]"
      ]
     },
     "execution_count": 15,
     "metadata": {},
     "output_type": "execute_result"
    }
   ],
   "source": [
    "# concatenate all the posts bodies in the same subreddit\n",
    "posts_concat = posts.groupby('subreddit') \\\n",
    "                    .agg(concat_ws(' ', collect_list('body')).alias('concat_body')) \\\n",
    "                    .sort(asc('subreddit'))\n",
    "posts_concat.cache()"
   ]
  },
  {
   "cell_type": "code",
   "execution_count": 16,
   "metadata": {},
   "outputs": [],
   "source": [
    "# tokenize and remove stop words using spark ml utilities\n",
    "regexTokenizer = RegexTokenizer(inputCol='concat_body', outputCol='words', pattern='\\\\W')\n",
    "stop_remover = StopWordsRemover(inputCol='words', outputCol='filtered words')\n",
    "\n",
    "posts_tokenized = regexTokenizer.transform(posts_concat).drop('concat_body')\n",
    "posts_transformed = stop_remover.transform(posts_tokenized).drop('words')"
   ]
  },
  {
   "cell_type": "code",
   "execution_count": 17,
   "metadata": {},
   "outputs": [],
   "source": [
    "# # No longer out of memory, but takes more time\n",
    "# # tokenize and remove stop words using spark ml utilities\n",
    "# regexTokenizer = RegexTokenizer(inputCol='body', outputCol='words', pattern='\\\\W')\n",
    "# stop_remover = StopWordsRemover(inputCol='words', outputCol='filtered words')\n",
    "\n",
    "# posts_tokenized = regexTokenizer.transform(posts).drop('body').sort(asc('subreddit'))\n",
    "# posts_transformed = stop_remover.transform(posts_tokenized).drop('words')"
   ]
  },
  {
   "cell_type": "code",
   "execution_count": 18,
   "metadata": {},
   "outputs": [],
   "source": [
    "# fit a CountVectorizerModel from the posts\n",
    "model_path = 'count-vectorizer-model'\n",
    "\n",
    "if os.path.isdir(model_path):\n",
    "    # load model\n",
    "    model = CountVectorizerModel.load(model_path)\n",
    "else:\n",
    "    # it will create a vocabulary sorted by words frequency\n",
    "    cv = CountVectorizer(inputCol='filtered words', outputCol='features', vocabSize=1 << 30)\n",
    "    model = cv.fit(posts_transformed)\n",
    "    # save the model (it takes quite some time to fit)\n",
    "    model.save(model_path)\n",
    "    \n",
    "# get the 50000 most frequent words (model.vocabulary contains all words sorted by their frequency)\n",
    "# convert to set for efficiency\n",
    "freq_words = set(model.vocabulary[:50000])"
   ]
  },
  {
   "cell_type": "code",
   "execution_count": 19,
   "metadata": {},
   "outputs": [],
   "source": [
    "# # No longer out of memory, but takes more time\n",
    "# words_to_remove = model.vocabulary[50000:]\n",
    "# non_freq_remover = StopWordsRemover(inputCol='filtered words', outputCol='frequent words', stopWords=words_to_remove)\n",
    "# posts_frequent = non_freq_remover.transform(posts_transformed).drop('filtered words')\n",
    "# words_reps_df = posts_frequent.groupby('subreddit') \\\n",
    "#                               .agg(flatten(collect_set('frequent words')).alias('words_rep'))\n",
    "# words_reps = [set(row.words_rep) for row in words_reps_df.collect()]"
   ]
  },
  {
   "cell_type": "code",
   "execution_count": 20,
   "metadata": {},
   "outputs": [
    {
     "name": "stdout",
     "output_type": "stream",
     "text": [
      "CPU times: user 1min 30s, sys: 18.9 s, total: 1min 49s\n",
      "Wall time: 7min 53s\n"
     ]
    }
   ],
   "source": [
    "%%time\n",
    "words_reps = []\n",
    "subreddits = []\n",
    "\n",
    "for row in posts_concat.collect():\n",
    "    # store the subreddit name for plotting heatmap\n",
    "    subreddits.append(row.subreddit)\n",
    "    # split all the posts bodies by \\W\n",
    "    # .lower() because words in freq_words are all in lowercase\n",
    "    words = set(re.split('\\\\W', row.concat_body.lower()))\n",
    "    # remove empty string('')\n",
    "    words = filter(None, words)\n",
    "    # retain the 50000 most frequent words\n",
    "    # since frequent words will not include stop words\n",
    "    # there will be no stop words in the representation\n",
    "    words_rep = [w for w in words if w in freq_words]\n",
    "    words_reps.append(words_rep)"
   ]
  },
  {
   "cell_type": "markdown",
   "metadata": {},
   "source": [
    "### B2.2.\n",
    "* Compute the Jaccard similarity between all the subreddits using the set representation obtained in step **B2.1.**, and plot in a heatmap the similarity values of all the pairs of subreddits.\n",
    "* Analyze this plot and discuss your observations. Do you observe that subreddits corresponding to similar topics possess higher Jaccard similarity?\n",
    "* Provide detailed interpretations of the obtained results. Specifically,\n",
    "    - Explain the limitations of your conclusions, and discuss the potential reasons.\n",
    "    - Explain the potential problems with the Jaccard similarity function."
   ]
  },
  {
   "cell_type": "markdown",
   "metadata": {},
   "source": [
    "The following cell contains the heatmap and annotate_heatmap functions from matplotlib [example](https://matplotlib.org/3.1.1/gallery/images_contours_and_fields/image_annotated_heatmap.html)."
   ]
  },
  {
   "cell_type": "code",
   "execution_count": 21,
   "metadata": {
    "jupyter": {
     "source_hidden": true
    }
   },
   "outputs": [],
   "source": [
    "def heatmap(data, row_labels, col_labels, ax=None,\n",
    "            cbar_kw={}, cbarlabel=\"\", **kwargs):\n",
    "    \"\"\"\n",
    "    Create a heatmap from a numpy array and two lists of labels.\n",
    "\n",
    "    Parameters\n",
    "    ----------\n",
    "    data\n",
    "        A 2D numpy array of shape (N, M).\n",
    "    row_labels\n",
    "        A list or array of length N with the labels for the rows.\n",
    "    col_labels\n",
    "        A list or array of length M with the labels for the columns.\n",
    "    ax\n",
    "        A `matplotlib.axes.Axes` instance to which the heatmap is plotted.  If\n",
    "        not provided, use current axes or create a new one.  Optional.\n",
    "    cbar_kw\n",
    "        A dictionary with arguments to `matplotlib.Figure.colorbar`.  Optional.\n",
    "    cbarlabel\n",
    "        The label for the colorbar.  Optional.\n",
    "    **kwargs\n",
    "        All other arguments are forwarded to `imshow`.\n",
    "    \"\"\"\n",
    "\n",
    "    if not ax:\n",
    "        ax = plt.gca()\n",
    "\n",
    "    # Plot the heatmap\n",
    "    im = ax.imshow(data, **kwargs)\n",
    "\n",
    "    # Create colorbar\n",
    "    cbar = ax.figure.colorbar(im, ax=ax, **cbar_kw)\n",
    "    cbar.ax.set_ylabel(cbarlabel, rotation=-90, va=\"bottom\")\n",
    "\n",
    "    # We want to show all ticks...\n",
    "    ax.set_xticks(np.arange(data.shape[1]))\n",
    "    ax.set_yticks(np.arange(data.shape[0]))\n",
    "    # ... and label them with the respective list entries.\n",
    "    ax.set_xticklabels(col_labels)\n",
    "    ax.set_yticklabels(row_labels)\n",
    "\n",
    "    # Let the horizontal axes labeling appear on top.\n",
    "    ax.tick_params(top=True, bottom=False,\n",
    "                   labeltop=True, labelbottom=False)\n",
    "\n",
    "    # Rotate the tick labels and set their alignment.\n",
    "    plt.setp(ax.get_xticklabels(), rotation=-30, ha=\"right\",\n",
    "             rotation_mode=\"anchor\")\n",
    "\n",
    "    # Turn spines off and create white grid.\n",
    "    for edge, spine in ax.spines.items():\n",
    "        spine.set_visible(False)\n",
    "\n",
    "    ax.set_xticks(np.arange(data.shape[1]+1)-.5, minor=True)\n",
    "    ax.set_yticks(np.arange(data.shape[0]+1)-.5, minor=True)\n",
    "    ax.grid(which=\"minor\", color=\"w\", linestyle='-', linewidth=3)\n",
    "    ax.tick_params(which=\"minor\", bottom=False, left=False)\n",
    "\n",
    "    return im, cbar\n",
    "\n",
    "\n",
    "def annotate_heatmap(im, data=None, valfmt=\"{x:.2f}\",\n",
    "                     textcolors=[\"black\", \"white\"],\n",
    "                     threshold=None, **textkw):\n",
    "    \"\"\"\n",
    "    A function to annotate a heatmap.\n",
    "\n",
    "    Parameters\n",
    "    ----------\n",
    "    im\n",
    "        The AxesImage to be labeled.\n",
    "    data\n",
    "        Data used to annotate.  If None, the image's data is used.  Optional.\n",
    "    valfmt\n",
    "        The format of the annotations inside the heatmap.  This should either\n",
    "        use the string format method, e.g. \"$ {x:.2f}\", or be a\n",
    "        `matplotlib.ticker.Formatter`.  Optional.\n",
    "    textcolors\n",
    "        A list or array of two color specifications.  The first is used for\n",
    "        values below a threshold, the second for those above.  Optional.\n",
    "    threshold\n",
    "        Value in data units according to which the colors from textcolors are\n",
    "        applied.  If None (the default) uses the middle of the colormap as\n",
    "        separation.  Optional.\n",
    "    **kwargs\n",
    "        All other arguments are forwarded to each call to `text` used to create\n",
    "        the text labels.\n",
    "    \"\"\"\n",
    "\n",
    "    if not isinstance(data, (list, np.ndarray)):\n",
    "        data = im.get_array()\n",
    "\n",
    "    # Normalize the threshold to the images color range.\n",
    "    if threshold is not None:\n",
    "        threshold = im.norm(threshold)\n",
    "    else:\n",
    "        threshold = im.norm(data.max())/2.\n",
    "\n",
    "    # Set default alignment to center, but allow it to be\n",
    "    # overwritten by textkw.\n",
    "    kw = dict(horizontalalignment=\"center\",\n",
    "              verticalalignment=\"center\")\n",
    "    kw.update(textkw)\n",
    "\n",
    "    # Get the formatter in case a string is supplied\n",
    "    if isinstance(valfmt, str):\n",
    "        valfmt = StrMethodFormatter(valfmt)\n",
    "\n",
    "    # Loop over the data and create a `Text` for each \"pixel\".\n",
    "    # Change the text's color depending on the data.\n",
    "    texts = []\n",
    "    for i in range(data.shape[0]):\n",
    "        for j in range(data.shape[1]):\n",
    "            kw.update(color=textcolors[int(im.norm(data[i, j]) > threshold)])\n",
    "            text = im.axes.text(j, i, valfmt(data[i, j], None), **kw)\n",
    "            texts.append(text)\n",
    "\n",
    "    return texts"
   ]
  },
  {
   "cell_type": "code",
   "execution_count": 25,
   "metadata": {},
   "outputs": [
    {
     "name": "stdout",
     "output_type": "stream",
     "text": [
      "CPU times: user 6.65 s, sys: 74 ms, total: 6.73 s\n",
      "Wall time: 7.66 s\n"
     ]
    }
   ],
   "source": [
    "%%time\n",
    "jaccards = np.zeros((15, 15))\n",
    "\n",
    "for i, words_rep_f in enumerate(words_reps):\n",
    "    for j, words_rep_s in enumerate(words_reps):\n",
    "        jaccards[i, j] = jaccard_similarity(words_rep_f, words_rep_s)"
   ]
  },
  {
   "cell_type": "code",
   "execution_count": 26,
   "metadata": {},
   "outputs": [
    {
     "data": {
      "image/png": "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\n",
      "text/plain": [
       "<Figure size 1152x576 with 2 Axes>"
      ]
     },
     "metadata": {
      "needs_background": "light"
     },
     "output_type": "display_data"
    }
   ],
   "source": [
    "fig, ax = plt.subplots(figsize=(16, 8))\n",
    "\n",
    "im, cbar = heatmap(jaccards, subreddits, subreddits, ax=ax,\n",
    "                   cmap=\"Blues\", cbarlabel=\"jaccard similarity\")\n",
    "texts = annotate_heatmap(im, valfmt=\"{x:.2f}\")\n",
    "\n",
    "fig.tight_layout()\n",
    "plt.title('Heatmap of the similarity values with\\n50,000 most frequent words across all the provided subreddits as representation')\n",
    "plt.show()"
   ]
  },
  {
   "cell_type": "markdown",
   "metadata": {},
   "source": [
    "We do observe that subreddits corresponding to similar topics possess high Jaccard similarity. For example, news and worldnews, AdviceAnimals and funny, pics and videos.  \n",
    "\n",
    "However, we also observe that subreddits which should correspond to dissimilar topics possess high Jaccard similarity. Like, worldnews and funny, AdviceAnimals and news. Therefore, it's hard for us to conclude that the pairs who possess high Jaccard similarity are subredddits corresponding to simialr topics. One of the potential reason of this could be the 50000 most frequent words are selected from all subreddits' posts. Because some subreddits have more posts, the frequent words of these subreddits will end up in the 50000 most frequent words across all subreddits. Subreddits with less posts might not be able to keep the most representative words because the frequent words list is dominated by subreddits with more posts. A better approach would have been calculating the representative words for each subreddit, instead of calculating it across all subreddit."
   ]
  },
  {
   "cell_type": "markdown",
   "metadata": {},
   "source": [
    "The potential problems with the Jaccard similarity function is thagt it doesn't take the frequency of each of the element in the set into account with the input being set notation. If the same word occurs in two subreddit with a high frequency, it make sense to give a larger weight to that word when calculating the similarity between the word use of two subreddit. However, the Jaccard similarity does not account for it, therefore, it may misjudge the actual similarity of language use. "
   ]
  },
  {
   "cell_type": "markdown",
   "metadata": {},
   "source": [
    "### B2.3.\n",
    "\n",
    "* Alternatively, compute the 1000 most frequent words for each subreddit, construct its representation as the set of top-1000 words, and print a heatmap with the Jaccard similarity like in step **B2.2.**.\n",
    "* Explain your observations in detail: how and why is this new result different from the one obtained in **B2.2.**?\n",
    "\n",
    "*Note: Use the same rules specified in B2.1: words tokenized with the regex \\W and stop-words removed*"
   ]
  },
  {
   "cell_type": "code",
   "execution_count": 27,
   "metadata": {},
   "outputs": [
    {
     "name": "stdout",
     "output_type": "stream",
     "text": [
      "CPU times: user 1min 43s, sys: 20.3 s, total: 2min 3s\n",
      "Wall time: 2min 45s\n"
     ]
    }
   ],
   "source": [
    "%%time\n",
    "words_reps_small = []\n",
    "# convert to set for efficiency\n",
    "stop_words = set(stop_remover.loadDefaultStopWords('english'))\n",
    "\n",
    "for row in posts_concat.collect():\n",
    "    # split all the posts bodies by \\W\n",
    "    # .lower() because lower and upper case words should be treated the same\n",
    "    words = re.split('\\\\W', row.concat_body.lower())\n",
    "    # remove empty string('')\n",
    "    words = filter(None, words)\n",
    "    # use Counter to get words frequency\n",
    "    words_counter = Counter(words)\n",
    "    # sort by frequency of the word\n",
    "    words_sorted = sorted(words_counter, key=words_counter.get, reverse=True)\n",
    "    words_rep = []\n",
    "    for word in words_sorted:\n",
    "        if word not in stop_words:\n",
    "            words_rep.append(word)\n",
    "        # stop when top-1000 words are found\n",
    "        if len(words_rep) == 1000:\n",
    "            break\n",
    "    words_reps_small.append(words_rep)"
   ]
  },
  {
   "cell_type": "code",
   "execution_count": 28,
   "metadata": {},
   "outputs": [],
   "source": [
    "# Out of memory\n",
    "# features = model.transform(posts_transformed) \\\n",
    "#                 .drop('filtered words')\n",
    "\n",
    "# words_reps_small = []\n",
    "# for freq in features.select('features').collect():\n",
    "#     words_rep = [model.vocabulary[i] for i in freq['features'].keys[:1000]]"
   ]
  },
  {
   "cell_type": "code",
   "execution_count": 29,
   "metadata": {},
   "outputs": [],
   "source": [
    "jaccards_small = np.zeros((15, 15))\n",
    "\n",
    "for i, words_rep_f in enumerate(words_reps_small):\n",
    "    for j, words_rep_s in enumerate(words_reps_small):\n",
    "        jaccards_small[i, j] = jaccard_similarity(words_rep_f, words_rep_s)"
   ]
  },
  {
   "cell_type": "code",
   "execution_count": 30,
   "metadata": {},
   "outputs": [
    {
     "data": {
      "image/png": "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\n",
      "text/plain": [
       "<Figure size 1152x576 with 2 Axes>"
      ]
     },
     "metadata": {
      "needs_background": "light"
     },
     "output_type": "display_data"
    }
   ],
   "source": [
    "fig, ax = plt.subplots(figsize=(16, 8))\n",
    "\n",
    "im, cbar = heatmap(jaccards_small, subreddits, subreddits, ax=ax,\n",
    "                   cmap=\"Blues\", cbarlabel=\"jaccard similarity\")\n",
    "texts = annotate_heatmap(im, valfmt=\"{x:.2f}\")\n",
    "\n",
    "fig.tight_layout()\n",
    "plt.title('Heatmap of the similarity values with\\n1000 most frequent words for each subreddit as representation')\n",
    "plt.show()"
   ]
  },
  {
   "cell_type": "markdown",
   "metadata": {},
   "source": [
    "The similar is better represented. Take an example of similarity between 'worldnews' with 'news' and 'funny'. The original similarity with 50000 words gives a similarity of 0.9 and 0.89 respectively, which is unexpectedly similar. We would expect a larger difference of the language use in these subreddits. Now with only 1000 most frequent words, we are using 1000 most frequent words for \"each\" subreddit as representation which is more representative than keeping the 50000 most frequent words across \"all\" subreddit. Subreddits which have less posts will be able to keep their representative words. Therefore, the similarity is now 0.67 and 0.49 respectively, indicating a larger difference in similarity of language used. "
   ]
  },
  {
   "cell_type": "markdown",
   "metadata": {},
   "source": [
    "## B3. Moderator assignment based on Subreddit Users\n",
    "\n",
    "Subreddits can be seen as communities of people interacting about a common topic. As an alternative to the *textual content* based similarity in **B2**, your task here is to validate if similarity between two subreddits can be measured based on their participating users.\n",
    "\n",
    "Of course users are not monothematic, and they interact with multiple subreddits. In this task, we are specifically interested in observing the amount of overlap across different subreddits based on their participating users. Similar to **B2**, the overlap is measured using the *Jaccard similarity*.\n",
    "\n",
    "\n",
    "### B3.1.\n",
    "Construct a set representation of each subreddit as the users that posted at least one time in that subreddit.\n",
    "\n",
    "Some users are very talkative and active across different topics. Print the username of the person that posted in the maximum number of subreddits. *Note that users who posted at least once in a subreddit are considered as participant of that subreddit.*"
   ]
  },
  {
   "cell_type": "code",
   "execution_count": 31,
   "metadata": {},
   "outputs": [
    {
     "name": "stdout",
     "output_type": "stream",
     "text": [
      "+---------------+--------------------+\n",
      "|      subreddit|           users_rep|\n",
      "+---------------+--------------------+\n",
      "|  AdviceAnimals|[backwoodsofcanad...|\n",
      "| DestinyTheGame|[Fahrowshus, Drag...|\n",
      "|          DotA2|[dankkush420yolo,...|\n",
      "|GlobalOffensive|[BEE_REAL_, ThaGo...|\n",
      "|          funny|[ShtFurBr41nS, no...|\n",
      "|         hockey|[Monding, plastic...|\n",
      "|leagueoflegends|[SenpaiOniichan, ...|\n",
      "|         movies|[PoopyVampire, Pa...|\n",
      "|            nba|[WyaOfWade, starv...|\n",
      "|           news|[hogsucker, flal4...|\n",
      "|            nfl|[Stokest26, Drake...|\n",
      "|           pics|[SlowRolla, Surpr...|\n",
      "|         soccer|[demonictoaster, ...|\n",
      "|         videos|[BurntTheToast, D...|\n",
      "|      worldnews|[Dremord, FrankoI...|\n",
      "+---------------+--------------------+\n",
      "\n"
     ]
    }
   ],
   "source": [
    "users_rep = posts.groupby('subreddit') \\\n",
    "                 .agg(collect_list('author').alias('users_rep')) \\\n",
    "                 .sort(asc('subreddit'))\n",
    "users_rep.cache()\n",
    "users_rep.show()"
   ]
  },
  {
   "cell_type": "code",
   "execution_count": 32,
   "metadata": {},
   "outputs": [
    {
     "name": "stdout",
     "output_type": "stream",
     "text": [
      "The username of the person that posted in the maximum number of subreddits is whispen\n"
     ]
    }
   ],
   "source": [
    "post_sub_count = posts.groupby('author') \\\n",
    "                      .agg(countDistinct('subreddit').alias('Number of subreddits the person posted in')) \\\n",
    "                      .sort(desc('Number of subreddits the person posted in'))\n",
    "print(\"The username of the person that posted in the maximum number of subreddits is {}\".format(post_sub_count.first()[0]))"
   ]
  },
  {
   "cell_type": "code",
   "execution_count": 33,
   "metadata": {},
   "outputs": [
    {
     "name": "stdout",
     "output_type": "stream",
     "text": [
      "+--------------------+-----------------------------------------+\n",
      "|              author|Number of subreddits the person posted in|\n",
      "+--------------------+-----------------------------------------+\n",
      "|             whispen|                                       15|\n",
      "|             PaidBot|                                       14|\n",
      "|Really_Like_Pancakes|                                       13|\n",
      "|       AutoModerator|                                       13|\n",
      "|        Fortehlulz33|                                       12|\n",
      "|   you_get_CMV_delta|                                       12|\n",
      "|           vannucker|                                       12|\n",
      "|     TheSublimeLight|                                       12|\n",
      "|       IamGrimReefer|                                       12|\n",
      "|        TreeFiddyBot|                                       12|\n",
      "|     naturelover7777|                                       12|\n",
      "|          eaglessoar|                                       12|\n",
      "|              Tashre|                                       12|\n",
      "|            voxpupil|                                       12|\n",
      "|         ConcedeDota|                                       12|\n",
      "|LeAtheist_Swagmaster|                                       12|\n",
      "|        poopsmith666|                                       12|\n",
      "|            Galactic|                                       12|\n",
      "|   PitchforkEmporium|                                       12|\n",
      "|      BigLebowskiBot|                                       12|\n",
      "+--------------------+-----------------------------------------+\n",
      "only showing top 20 rows\n",
      "\n"
     ]
    }
   ],
   "source": [
    "# show the most active users and the number of subreddits they posted in\n",
    "post_sub_count.show()"
   ]
  },
  {
   "cell_type": "markdown",
   "metadata": {},
   "source": [
    "### B3.2.\n",
    "\n",
    "* Compute the Jaccard similarity between all the subreddits using the set representation obtained in step **B3.1.**, and visualise it similar to **B2**.\n",
    "* Analyze this plot, identify highly similar pairs of subreddits, and clearly describe your observations."
   ]
  },
  {
   "cell_type": "code",
   "execution_count": 34,
   "metadata": {},
   "outputs": [
    {
     "name": "stdout",
     "output_type": "stream",
     "text": [
      "CPU times: user 41.7 s, sys: 4.31 s, total: 46 s\n",
      "Wall time: 2min 5s\n"
     ]
    }
   ],
   "source": [
    "%%time\n",
    "jaccards_users = np.zeros((15, 15))\n",
    "for i, row_f in enumerate(users_rep.collect()):\n",
    "    for j, row_s in enumerate(users_rep.collect()):\n",
    "        jaccards_users[i, j] = jaccard_similarity(row_f.users_rep, row_s.users_rep)"
   ]
  },
  {
   "cell_type": "code",
   "execution_count": 35,
   "metadata": {},
   "outputs": [
    {
     "data": {
      "image/png": "iVBORw0KGgoAAAANSUhEUgAAAtEAAAJXCAYAAABVIAjCAAAABHNCSVQICAgIfAhkiAAAAAlwSFlzAAALEgAACxIB0t1+/AAAADh0RVh0U29mdHdhcmUAbWF0cGxvdGxpYiB2ZXJzaW9uMy4xLjEsIGh0dHA6Ly9tYXRwbG90bGliLm9yZy8QZhcZAAAgAElEQVR4nOydd7hm0/XHP98xo486SkYZvfdOBEn0RAlCRE2iJz+iJ4iMToIgEkSPEkQnCMIQPYgedZRhdMYog8H398daZ+bM6947t7x37pT9eZ773Pd9zzl7r3POPvusvfZaa8s2hUKhUCgUCoVCof306mkBCoVCoVAoFAqFCY2iRBcKhUKhUCgUCh2kKNGFQqFQKBQKhUIHKUp0oVAoFAqFQqHQQYoSXSgUCoVCoVAodJCiRBcKhUKhUCgUCh2kKNGFQmGCRNLukt6U9JGkmdux/46S7upmmeZOeSbr5PEfSZovP58n6cguyHKjpB06e3yzkGRJC/S0HI1IOkjSWW1s7/b2UigUJmyKEl0oTEBIeknS2g2/Ne1lP74qPI1I6gOcCKxre1rb7zZsnyfPpfe4lMv2KynPl508flrbg5skywa2z4eiELaE7aNt7wQ9114KhcKETVGiC4XChMhswJTAkz0tyPiGgtK3FwqFQjdTOtpCYSJDUn9JV0h6W9KLkvasbVtJ0r2Shkl6XdKpkibPbXfmbo+mW8FWktaS9KqkAyS9lcdsKmlDSc9Kek/SQe0pP7db0p6SBkt6R9LvW1P4JE0h6SRJQ/PvpPxtIeCZ3G2YpNtaOPzO2vaPJK1aK/d4Se/ntdmg9vv0ks5OuV+TdGRrbhl5ng9KGp4uJSfm72NYNCUNynLuSTmukzSzpIvy2P9Imqfh+nxtJkDSjJKuz3v6fn6es7Z9kKSjJN0NfALMl7/tJGlR4HRg1ZRhmKQVU+7etTI2l/RIC3WvIumN+rWQ9ANJj9WuRav3vKGsQZJ2qn0fw0IuaRFJt2S7ekbSlrVtG0p6StKHeX/2a6WOlyUtn5+3zWu6WH7fSdLV+XmgpAvzsA63l0KhUChKdKEwEZEK6XXAo8AcwHeBX0paL3f5Etgb6Aesmtv3ALC9Ru6zdLoVXJrfZyesvnMAhwJnAtsCywPfAg5V+vG2VX6NHwArAMsBmwA/beV0DgZWAZYBlgZWAg6x/SyweO4zg+3vtHDsGrXt09q+N7+vTCjg/YDfAWdLUm47H/gCWABYFlgX2ImWORk42fZ0wPzAZa3sB/AjYDvi+s0P3AucC8wE/A/4bRvHVvTKYwYAcwMjgFMb9tkO2AXoC7xc/Wj7f8BuwL15LWaw/R/gXWCd2vHbAhc0Vmz7PuBjoH6dfwxcnJ/bc8/HiqRpgFuy3FmBrYE/S6ru9dnArrb7AksALQ2eAO4A1srPawCDgTVr3+9o4ZjOtJdCoTCJU5ToQmHC4+q0+g2TNAz4c23bisAstg+3/Xn6155JKHLYfsj2fba/sP0ScAajFYzWGAkcZXskcAmhUJxs+0PbTxIuFUt1oPzjbL9n+xXgJEJZaoltgMNtv2X7beAwQlHsCi/bPjN9ls8HvgHMJmk2YAPgl7Y/tv0W8AfyurXASGABSf1sf5SKZmuca/sF2x8ANwIv2L7V9hfA3wmFvU1sv2v7Ctuf2P4QOIqvX9fzbD+Z137k2Mokzn9bAEkzAesxWjFu5G/kfZLUF9gwf+tsm2qJ7wMv2T43y3oYuALYIrePBBaTNJ3t93N7S9xRq/9bwDG172vSshLdGi22lw4cXygUJmKKEl0oTHhsmtbEGWzPwJhWvwFA/wYl+yDyxS9poXQFeEPScOBoQilui3drgXIj8v+bte0jgGk7UP6Q2ueXgf6t1NufmkV1LPu2lzeqD7Y/yY/TEtetD/B67bqdQVhEW+JnwELA0+mS8f026my8Vi1eu7aQNLWkM9JVYTjhfjBDg7vJkFYOb40LgY0kTQtsCfzb9uut7HsxsJmkKYDNgIdtv5yydaZNtcQAYOWGtrsNMRMCsDmhvL8s6Y66y0UDdwDfkjQ7MBlwKfDNdJuZHviay0obtNZeCoVCoSjRhcJExhDgxbqSbbuv7Q1z+2nA08CC6YpwENDM6en2lD9X7fPcwNBWyhpKKFbt2bcRt3O/iiHAZ0C/2nWbzvbiLe1s+znbWxNK9nHA5emO0F3sCywMrJzXtXI/qF/bts75a9tsv0a4lvyAsPB/zZWjtu9TxCBmA8Z05YCOtamPgalr32evfR4C3NHQdqe1vXvK8B/bmxDX/GpacaGx/TzhF74ncGda7t8gXF3usv1VS4e1du6FQqHQGkWJLhQmLh4Ahks6UNJUkiaTtISkFXN7X2A48JGkRYDdG45/E5iPzjO28gH2z0C5uYC9CEthS/wNOETSLJL6Ef7YF7aybyNvA1/RznNJC+zNwAmSppPUS9L8klp0S8iAtVlSIRuWP3cqrV076UtYrYel60V7/KjrvAnM2ULA31+BA4AlgavGUsbFhGK6BuGGUpdtbPe84hHCoj21IoDyZ7Vt1wMLSdpOUp/8W1HSopIml7SNpOnTVWU4bV/vO4BfMNp1Y1DD90Y61F4KhUIBihJdKExUpNvFRkQw3ovAO8BZxDQ2wH6EJfFDwle6UYEdCJyf0+lb0nHGVj7ANcBDhEL1DyJgrCWOBB4EHgMeBx7O38ZKTr0fBdyd57JKOw7bHpgceAp4H7ic8IFtifWBJyV9RAQZ/sj2p+2RrZOcBExF3M/7gJs6ePxthO/6G5Leqf1+FWHtv8r2x2Mp429EwN5ttutltOeeV/wB+JxQ6s8HLqo2pMV4XcIPfShhPT4OmCJ32Q54KV1GdiP9uVvhDkK5v7OV72PQyfZSKBQmcWSXWaxCoTBukGRi2v/5npalEEh6gch6cWtPy1IoFAoTEsUSXSgUCpMokjYn/IFbSxdXKBQKhVYoS5wWCoXCJIikQcBiwHatBNsVCoVCoQ2KO0ehUCgUCoVCodBBijtHoVAoFAqFQqHQQYoSXZigkTRQUnvTnk0USJpHkiV1izuWpEGSWlvueqJH0umSfjMO6vmWpGeaWN55ktqVvWRcIuklSWt3Y/ltnnc+Kwvk53FybwvtQ9Lckj5qWDSoUJhgKEp0YYJB0lqSXm1ieTtKuqtZ5XWg3h5T/HvqnBtk6NZBQAdl+dr1sL2b7SO6u27b/7a9cGeObfZ9nFQGo/V72+z+ZFKjM89x44DK9iu5oE535lgvFLqNokQXepTxQZEqFArjB5NCf9Dsc5wUrlmhML5SlOhCq9SnQfP7qGlTSf0kXZ8LE7wn6d+SeuW2/pKukPS2pBcl7VkrY6CkyyVdmIsm7ChpJUkPShou6U1JJ7YgyzTAjUD/nP77SFL/3Dy5pL9K+lDSk5JWqB33K0kv5LanJP0gf18UOB1YNcsa1lhn7jdI0jGSHpD0gaRrcsW4avvGWeew3HfR2rYDJb2WdT8j6buS1ieWRd4q6300951e0tmSXs9jjqymOBWrDh4v6R1Jg4HvjeW+demcWyjvp5L+J+l9Sf+UNKC27WRJQ/LePSTpW7Vtrd3XasGLYSnHqi3UOYWkkyQNzb+TJE2R29aS9KqkfSW9ldfsJw3HHi/plaz3dElTtVBHi9ejoZ1XdR1Qq2tTSRtKejbb/kG1MnvVrv+7ki6rt5eG+sewhCqsdPtJeizb2qWSpmyv3MmMkv6R9/5+SfOP7V611iZbqPdr7bnxerV0XsmK2Rbfl3RudV6163ugpDeAc/P370t6JJ+reyQtVSt/WUkPpxyXAmNcI0n7530aKumnDdvOy2errf6kvv/3JP03r9kQSQNr26ZU9GPvppz/kTRbK9fupTzHx4CPJfVW+/rJS/M8H5a0dBfKa7WPlbRKXuNhkh6VtFZt2yBJR0i6O+W4WbF6KLTwHCtW+bwtr8k7ki6SNEOWdQEwN3Bd7n+AGqzZeQ7XKp6r5yXt3HBNLlMrfX2h0CPYLn/lr8U/In/sArXv5wFH5udjiBd5n/z7FiBiYPYQsUTz5MQyuoOB9fK4gcBIYNPcdyrgXiLNFsC0wCqtyLMW8GrDbwOBT4ENgclSrvtq238I9M+6tgI+Br6R23YE7hrLNRgEvAYsAUwDXAFcmNsWyvLWyWtwAPB8nvfCwBCgf+47DzB/TeYLG+q5Gjgj65iVWL5719y2G/A0MBcwE3B73pvercjcjHPeKT9vmue0KJES8xDgntq+2wIz57Z9iVXmpsxtLd7XvBatyp/7HE6szDcrMAtwD3BErR18kfv0yXv/CTBjbj8JuDavVV/gOuCYVur52vVgzHZe1XVo1rUzsUT0xVn24kT7my/3/2XKPSex0t4ZwN/a056Bl/K+90/Z/wfs1kG53wNWyvtxEXBJO+/VQBraZEPZbbXnUderjfN6gtHt9+4Wrm+1MuFUwHLAW8DKxDO9Q5YxBfFsvQzsnfdjC6I/qcpbn1gNsXpeL6bWj7Vwb19t7Zxr+yxJPEtLZdmb5rZdibY1dcq5PDBdK+W8RKzQOVeeY3v7yS3yPPcjViDt08nyWnsW5wDeJZ6hXkRf9i4wS60veIHo66bK78e29hwDC2QZUxDP7Z3ASQ3XYe3a9zHKIFaW/DMxMFqGeNa+256+vvyVv574K5boQmcZSSyJPMD2SId/p4EViQ74cNuf2x5MLAX8o9qx99q+2vZXtkdkWQtI6mf7I9v3dVCWu2zf4PCruwAYZbGx/XfbQ7OuS4HnCCWjI1xg+wnHssi/AbZUWIm3Av5h+xbbI4HjiRfNasCXxItkMUl9bL9k+4WWCk/r1QbAL21/bPstYnnk6pptSbyIhth+j3h5tEqTzrliV0IB/Z/tL4CjgWWU1mjbF9p+1/YXtk/Ic678fLtyX7cBDrf9lu23gcOIZZ8rRub2kbZvAD4CFpYkQtHd2/Z7jqWkj2bM9tdRRgJH5T2+BOgHnGz7Q9tPEstpV5bSXYGDbb9q+zPixb+F2j/lfkreu/cIBW2ZDsp6pe0H8l5dVD9+LPdqbLS7PbfCqbX2exSwdW3bV8BvbX+W/cHOwBm277f9pe3zgc+AVfKvD/E8jLR9OfCfWllbAufWnteBHZDxa9geZPvxfJYeI5Y+XzM3jyQGJQuknA/ZHt5GcafkNRhB+/rJh2xfnu3uREKxXKWT5bX2LG4L3JD951e2bwEeJBTVinNtP5v1XEYbbdL289kffpbP7Ym169UmkuYCVgcOtP2p7UeAsxjzuW+1ry8UeoKiRBc6y+8JC+XNkgZL+lX+PoCYIh1W/RFTxfVpziENZf2MsHQ8nVOi3++gLG/UPn8CTFmbHty+Ni08jLBQ9WupkDaoy/sy8RLvR1gMX642OBasGALM4VjW+pfES/wtSZe0NF2cDMgyX6/JeQZhhSXraZShVZp0znXZTq6V9R4x4zBH1rWvwtXjg9w+fa2urtzXMa5tfq5fv3dTUaz4hLCwzUJYBh+qyXxT/t5Z3vXowKcR+f/N2vYRWTfE9bqqVvf/CAW0xWn+Fmhsy9O2tmNHjx/LvWqTDrbnlmhsv/Vj37b9ae37AGDfhj5krjymP/BaDtjr5VV06FkZG5JWlnR7ukh8QMwKVdfsAuCfwCUK15HfSerTRnF1uTrUT2bf8ipjXreOlNfaszgA+GHDcasTBpKKdrdJSbNm23hN4a53Ie3ve/oD1cC34mWyr2lFllF9faHQExQlutAWnxAKScXs1Ye0wu1rez5gI2AfhY/kEOBF2zPU/vrarls2xljhx/ZztrcmlMbjgMsVPouNdGhloLSWngn8ApjZ9gzEtLI6WN5ctc9zE1add4ChxEuoqk+572sAti+2vXruY+LcWqp3CGFp61e7ZtPZXjy3v96CDC3SxHOuy7Zrw/2cyvY9Cp/aAwnr34xZ1wdVXW3c1/bIMMa1Jc55aDuOe4dQahevyTu97dZe/M1ebWoIsEHD9ZrS9mtNrqejz0Kb96o95bXRnj+mlX6iRmP7rd/Llp6Hoxqu4dS2/0Y8C3Pks1Yvr6Ldz0oL9bbExYRr0Fy2pydc2Kr2PdL2YbYXI2afvg9s38762tNPjjoPRbzJnLR+3dosr41ncQgx01Y/bhrbx7bj2rR0/Y7J35eyPR1h6dZYjqkYCswkqW/tt7nJ/rRQGB8pSnShLR4BfqwIbFuf2rScIvBngXyZDSesbV8SPp3DFUEvU+WxS0hasbVKJG0raZa0tlRBUi2lPHoTmFnS9O2Uv1LY3s56fkJYZevlzSlp8rGUs62kxSRNTfjhXp6WycuA7ykCBvsQfqafAfdIWljSdxTBcJ8Sil11Tm8C8+SLEduvAzcDJ0iaThGcNr+k6npfBuwpaU5JMwKV1b87z7nidODXkhbP8qaX9MPc1pfwZ30b6C3pUGC66sA27uvbxBT+fG3U+zfgEEmzKAKZDiWsWm2SdZ0J/EHSrCnHHJLWa+WQjl6PsXE6cFQOZkj5N2lS2XU6Kneb94qGNtnIWNrzI8CGkmaSNDthsW7k59l+ZyIspJe2IeuZwG5pBZakaRQBfn0J394viOeht6TNGNNV6TIiWLl6Xn/bRj3t6U/6EtbRTyWtBPy42iDp25KWVLh2DScG1+1N1daefnJ5SZulpfWXRN/SmktUm+W18SxeCGwkab08ZkpFsOec7TiHlp7jvoRr1TBJcwD7NxzzJq0897aHELEPx6QcSxEW9IvaIUuh0CMUJbrQFnsRVuZhhI/q1bVtCwK3Eh3mvcCf03/wyzxmGSIQ5h3Cr62tF9X6wJOSPgJOBn7UML0LgO2nCeVqcE49tjmdbPsp4ISU700iQOju2i63Ef6sb0h6p42iLiACkt4g/BL3zPKfISwtf8zz3AjYyPbnhP/osfn7G4QFqMri8Pf8/66kh/Pz9kRA0FPA+8DljJ5SPZOYNn4UeBi4chycc1XeVYTl6pKcnn2C8N8mZboReJaYdv2UMaeYW7yvtj8h/GLvzvtY9/OsOJLwzXwMeDzPu70LiRxIuBrdlzLfSuu+vx26Hu3gZMJyebOkDwmlZ+UmlNtIR+Ue271qqU3Waas9X0C0zZeIwWBLCvLFuW1w/rV6L20/SPhFn0o8C88TgZTks7VZfn+fiEu4snbsjURg6W153G1t1NOe/mQP4PC8l4cSSnrF7MRzOpxw27mDdgz0su729JPX5Pm9T/gFb5b+0Z0pr7VncQiwCXEv3ybaxP60Qzdo5Tk+jAgM/QD4B1/vq44hBsfDJO3XQrFbE8GGQ4GrCF/5W8YmS6HQU2hM17JCoVBH0iAia8FZPS1LoVCYNFCk0lvA9rY9LUuhUGidYokuFAqFQqFQKBQ6SFGiC4VCoVAoFAqFDlLcOQqFQqFQKBQKhQ5SLNGFQqFQKBQKhUIHKUp0oVAoFAqFQqHQQYoS3QQyX3JZNalQKBQKhUJhEqEo0V0kF9l4nFhmuK3VqgqFHkHSormAi8a+d6FQKBQKhfZQAgu7iKTfEis/nQP8lUi8v7Ptd3tUsEKBUYO84cC8tt/oaXkKhUKhUJhYKEp0F5A0M/Ck7dlrv10C/MV2qytlFQrjilzeeVrbB+TyxF8BuDz4hUKhUCh0ieLO0TXOJ5YYRtI0+dsrwJpl6nw05Vr0DDnI2932AflTHyepUBcKhUKhUOgkRYnuJJKWAfrbPj9/+jT/LwFMWbf0KZiUr/WU6Ze7o6TZx757oUlcCOwFIGkj4Jh0P8L2lz0pWKFQKBQKEzqTsmLXadKyeiOwWX6f2vaXktYAlgJ+l79vIGnRNP591XMS9xySBgAXA8cC3wTulHRgz0o18ZODvL62L5N0NLAPcB4wlaRL0kpd7TupD/IKhUKhUOgwk9yLU9LckmbtYjFzAzMAP5E0o+1PJM0BnA0cBcwv6ffAcsCZkv4iafIu1jnBIWlGYDfgbWAL2zsDqwPLSDpC0rQ9KuBESm2Qt7uktYD+wJTArsSA5ktgitx3tmqQVxTpQqFQKBTazyTx0qx8ciVtDlwO3N8VhcH2y4QSPQVwr6SLgL8BtwGnA4cAmwIf2V4d+BxYvgW5Jna/1HWAaYE/2h4pqY/tt4A9iIwRS0r6raTpit90U5kPuNn248AcwEjbqxKpGC8DZicei+mBsySdKmmmSXW2pFAoFAqFzjBJZOfIoL+ViEDASwmr3N62v+hkeb2rYyXNC8wPPAW8AywL/Aw4F9gfmBFYFFifCDrcDHjV9k1dOacJAUm/A0bY/m1+n9r2J/l5CWANYC3bW/agmBM1kjYAtre9dX7vAyxv+z5JMxFW6W2ATXK/N2vH9iqKdaFQKBQKLTNJWKKBXxOW4Z8D9wOz1RXoVCzaje0vKj9S2y/avtX2UNufA8OAAbbvtb0ZcByhUH8B7A0sDOwn6Z+SZsv6V5f0nWac6HjGasCjAJJWBq6Q9H+5bXpgA9J/vKK4FHSdBqv+PUAvSXdL2olIcfe8pL2IvOaX5T4As9SPr1w8yixBoVAoFApfZ6JWWCRNKWk/Qnm9xPZ1wI+Bi3L7AEl909Vgcknbtdd3uY1gwWHAp5KOkzSL7Zts/xp4HlgS+MD22sAlwABJ2wDXEFbqSu6J5b5cCCwGYPt+YF/g0HSr2RS41/aD6c6xbO731STg5tKt1DPD2P7A9lbAkYSPfj+iHW5EpGc8iGh/09h+IgMO95F0lqRFbH+VKfGKIl0oFAqFQo2JRVn7GmldPo9QGC4HzpV0EvBYbt8OOBO4W9K2wLbAhsAiXak3p8O3I3yBB0laRdL0tj8FDgNmkbSg7XNtPwDsCEwNLF0r5kZJ83RFjvGEu4CNJV0qaUFgZeBl4H3iOp8oaR/gFOB0SddImqtKvyZpfUn9ekr4iYFqQGb7Rtt7ZPucAZjK9pO2HwKeA07JgcyJhEvSQ8T92TTdl1wvr1AoFAqFSZ2J1ic6M0NsCdxge4ik+YHfEyno7gKGEq4dtwJnAQauBi5Pa6g6s6pb3Y8007u9Tvibfmj7JkknAjPb3kFSf+B/wBaEX+pviIC7Xrbfr02rT9A3SdLuwA+A14jrvTRx7d8i3F32tn2/pOOAwbbPyBRtv8j9zi6+uV2joV1ORbjRfIPw13+bGPhtACwEHJoZZ04g/NYPA26x/VmPCF8oFAqFwnjIRGtVsv2+7TOAV1OBeIHw/3w5/wYB/7D9MZECDMIit7Gkfi0sltKu6ey6H6ntl9NPeihwnKRzCIVlZO5+NnCu7Vts7wh8Rlhpe6fM1epyE/R9sn0a4T6wHzAVsJTtK4D/A/6Urh4ALxIZPcj/bwM3lvRrXaemQMv2CNv/RwS+XgmcYHsI4er0cCrQswMC/m37euA3kvZKF6kq201xuykUCoXCJMtEr5jUcuBOTkxjvwCsAryWAYKrAO8CZ9n+L3AEEfzXWIYlTdHOOr9q8Eu92/bShNX5Q2BgBtqtaPuXNQXxL8Dptt8Gtpe0fSo9E7wV1vZntt8FbiYsmwBvAG/WdtsVuCBnDTYgVn/8k6TvTAzXYHygGpRlu3rR9m+Am7Jtvwc8kruuS7gkXSZpcWAA8ILtT7OM2VxWPSwUCoXCJMxEr0RXpEX4XEKJ+wBYUdLUwOHAw8ADktYGhtq+OxWNJSV9D0DSt4FjOlN3ZbGz/Xvbp9p+lZgmvyp//0qx2uHqwP9Jmgs4lPCX/oekHzeUN8EGedl+xfa9+XUEsJtiSfA/EK4vtxLn/SYREHoqsK+kWerlFCto56kFC1btciTQmwgEvTxdjvYDXrZ9H5Gy8XHiOUHSrsADjeWWe1IoFAqFSYlJRomGUdbQy4GBhLvAdcCchN/0R0T+6Eo52INwN1gule2XiOnvDiuxjiXBG4+5AlgwFRYIZfE3ad3bAXjc9neIhVv2lzR7LUhsgvaRrrB9IPBf4tw/IpS15Qlf3bNsPw/8hwgO7Q0g6XtpRR3DCjohDyx6iloA58LAGcTAZRUi0PUu4FJJywEzAXfZHpqHHkyki0TSgpJWrZdXKBQKhcKkQO+eFqAnsP0UsE0qCAsSCjKEG8fcklYnLHGb2n5E0uXE6oM75vFVpoLJ2qs4NCq+tgcDa0maRdKmwFy2T0v3klUItxIIBeZdIuBwbUkLAKdV0/JpxW63HOMbto+SdLztzzIQc1dgHtv/yl22Aq4F3lQsE/5tIk3eX2yfrdEL38wBvNojJzGBY/sZSacAJxODmcHAZbafl7QkkcnjHgDFcvZP2r5e0s5ECsOZMwhxp3y2CoVCYRSdDdQvFMZ3JkklusL2w4yeop6cCH7rBawNHJwK9DpExoI1cr81Cf/QC7qiuFaKr+23JV3D6GXBdyWs0PdLmpLwTb0pg73WJBaKccpf+Qn/SdJQ24d3Vp6epJb1YQQxEzB5KtTzEPfkPGJxlhUJq/UxwB8l3ZwBcQBPS9rc9j/HpewTC450i6tKWopQkqu2/TmwhKSBhD//nsD8ivzmOwPDba8taUsiw8zB9XIn5AFeoVBoGt+XNNz2HdUPKiuiFiYCJil3jrHwFfBg/j/H9kX5+1FEarzpJB1PWIjXBu6XtBGMzp3bkQwStan0aoT+YirNzwJ/zt02I7JZ3JfuClMBF+Rxq0n6rSL/8lHAApIelvSDTl+BHsb2W7ZPJpZmv5Fwn7mESI33W8LF5grgV8Qy7rMDSDqEUPxGKdCS+o5b6ScObD9Wdz+y/QzhTvMQoUD/LX36lyYGNA9Kuh/Yi+xPcnZlhTy+KNCFQmE+YAWAnE2lKNCFiYGJNk90Z5E0RWUZVSyNvAmRKWIvwmf6r7ZfykDDuW2f33B8UyxviiXB/0D4pl5oe3j6T99OZFE4FPgXcL7tN9NyeyqwOJEF5ADbT3ZVjp4ilbiZbL+bswFb2t45tw0CPre9rqQZiJSFq9p+Kt0NZiXygV9p+4hWqii0g3p7VuQ1fyNdiC4GLrV9Tb4UdyYGgM8TA56PCPeoXW0PqpU3k+33xvV5FAqFnkPSvcBuRAzSScAptv9Y217cPQoTJMUS3UBNgRbwI+Ck/G0pYiGQl9IP93bb5ytW1dtH0h8lzdqVgLe6JduxstzJwJ2pQPcjLOBLEgGPF9r+XSrQMwPfB54i0sLdBMwraT1JU0+IQXcO3s2vvQh/8HUlfQdYgEK0jfYAACAASURBVFikBWKhnIuAF3KmYH7ium1FuCFcWKzSnaemQE9WBRZme7qLyKyytO3nM0h0CNFGb7O9MbAPsH1VlqQtiJUpb1akMSwUChM5kjYhBtWvEe5eI4lVeWdQrIg6RT3OqAdFLRQ6zCTtE90WGbi3Wv6fksiZ+2BurqatNyBG1VsT/qK3S9rK9hM1f6/ejF5cZWx1ftXw/f7a1/6EO8dCxAIl/65tW5KwQA+y/QnhLzwtEYy4Qvp+T7DY/qeknxAzAjsC99r+l6Tlge8Q2Tx2IxYHOcz2owDpt/tPwp/6w56QfWKhUqZrbfTPqUxfLOlSYhakLzANcFruMy0wV8YbnEvM6mxB+FlvKOkZ4HZHir1CoTBxsiDR//6UmK26lXgv7k24eUwmCdtXFPevwoRGsUS3QS2A71PCjeJSSVs6ck5D+C6/RiyhfDdwArBMHlMpG4dJukORRqzDKFK67UMojw8C+9YVaEnfAFYlRvqX1w49Hri2UqA74q89PmJ7UFo7dyY6X4AzgeNypmAxYrW9SoGeMrN2fEBYrpE0s6Q9JE037s9g4kGjUy3+iQiIvSxdNOYFJrc9NK/xrMTA7nNiNc7XgJ2IFTw/I9r0LF+voVAoTAxI6kMExy8L3AmcQ+gdJwFTENmnfgzsKGlQ5S+tGj0jeaHQPiZoxWpckgFvewObSFpK0orA045czscDfyRcC6ppqSUl7UIoCgsQylxnGElY8O4B9k4f4fqU1wpEFourPXpp56WBXYCX0s1koYkliMP2tbZfTCv07LYrt45lgScgOm7bnyoWrfku8LKk7YETCUvouZLm7Qn5x1c68rKqtbPJHCsYPp2bngSWVqSIPJoYUN4saQkiu81ihDVqMWJG5dq6i0h5YRYKExc5y3Q88EPHwk0bEIHwEP31y8DOtjcCXgS+mdt6p0ufUxEvFMZLijtHB7B9G3AbgKSpgOGSFrN9E7F08hq270xXiuOBO4A/EYOV9zQ6r3O7U/vYvplYZbH+W+WnuiCwHvCSM49vcjZhpd2HsJKfQKSKGxXAoQk89Zjth/L8q4C39wmfXMiBDHHt/0p01DcTbh0b5LFrKFaCfNr2FeNW+vGLtP6cmbMsb7f3uMb2Y/tGSdMQg81XiHiC5yXdAJyXWT96E9O7AFdm/TNX/u8deTa6i/FBhkJhYiHfYWTfsCFwLxGofxwxU/WeIkB8BJEdC+AWSZcRmbI+lTQ7sDnw5xKAWBifKEp0J8jp7E+J1fYukXQhcE0q0KsABwGv2T5a0lqEv+4UlRtIzZLX1Zf1S8B9wCjfaUlbAf1s75rfBwHTaHTWkWmBD1OhmaAjom1/nP+Hpn/teZJ2AmZMf/XlieDQbxCuMK8Am+c9WYtYDXFvSf91LH4zqbI78LwjZ3kf4IuOtouqLTlWBL1c0uS2P1csyPINIrc3wGrAIsTgbuWcUVhf0iPAoTVXqXFK+m2va/v62vM5QT8fhcL4hO2PFaubzkgsIDYnkc4UInD/K+ApSesTM1eDgH/lO21fwggyDeG6WCiMFxR3jk5g+6tUGI4lskDMDwxIxe0wYDpgpXSr2Ax4wfaHkhaQ9PvKglpZpbsgx0jbF9p+rvbzXwgLNJLmJoIO33KsCHgQcKCkGyR9Z3xSECRtK+lbnT3e9p5Exog7Ccv77MAPMtByF2LFyQNtH0QEI34TGGl79UqB1iQYGZ7XfGPgOUnTZJvqcLuojqm15ypYcA7g2By0LUCsxvk48BwxW7Ig8EPgEyIfe6N846qP+glwtaSTJG0OLZ5ToTDJ0gx3K9uf2H4N+IKwSN8i6QDg18SM6kPAGcAvbA8E1gGWIwLnT7H9UcpSDICF8YKSJ7pJpHvHFcDlts9RpPU5khhtr+9YgXB/YEvgaWJU/X+2X87jJyNWIxzagTrHsJRJWhw4wvZmWd66wHbEKH4rYvGS9YgsH78Ddq/8WdNHeB7g2ezkxhmKFH1vE1b1/xGrRb7RybKmAWZ0LAhSKYn7E1k7Hsr7sg5wHbCY7T9ImmNcn/P4QLaRO4E3gBuI9FP72L66vk8z3H6yrh2JAcyewH6EP//rRP71M/K3LXPAWXfxqBZ+6ZbOStJMxHX4K3AVscDP74nZpRGVDOPToLMw6SFpVdv39mD92wJDXFt1sAllbk4oyf+yfZsiiH5L26vUXA//Bjxi+7jsR6a2/WEevyIxi/Z+s2QqFDpCsbA0CdsjbG+YCrRsX2N7ScLlY1g+7EsDF9vejgjC2r1m/ZyTWA2xI3W64fuTtjfLrwsSAYkPEJkQDiYsf+cSQV1PEqscziVpPyK39FZEmr6BHT3/LnI+sLHt1YjMDZeok3mEbX9cU6D7ERbGp1OB7ktYXZ91rG54Sbp//EaRQWXNppxNk5C0iaQfdmMVWxMD6c1tn01Mn/bNuueA8HvurAVKY+Y9/5Jwqbk5leMZiMwq2wPXE0G5bwCWtC9whaTzU5l2NyuwewDPOfKuPwe8BawPDJR0saSpi1W60FNImkLSL4HDJd0vaeseEqUf4WYxBpL2krRSZwp0pLU7OBXomYhYol1ym9OVY0rgMkXsy/nAPyUdnjO6PwZ+0cnzKRS6THkhNJm6xUrSN4EFHUsnbwE8Bvw9d32GyOH8paQZgTls/yyPm6wzL+uGY14EHiGCt+YFbs3psS0IC/VPCcvvwUQqsh1s70a4OcypWKRkho7K0AmZlwH6274ewPZvCGVqma6WbfsdIsjyd/nTDoTbwA1p/f4tYaU/lUidt5+khRrkG+fPiKTlJZ1PzCJsJ+nIbqhjZuJldXx+X4YYwPRT5H0+S9JNisDZTimw/nre80c9eoXPR4j7ge2/2p7X9k+IQd5shEvS3cBpknZvkL1p90TSYoQ7ycD8vi3wDhGIejCh7I9SHGr+0qXvLIwrJge2JTLe7AKsrsgQNfk4lmMrYkEvlIHZaai4CuhSTEk+T18Au9l+LH/rQ/QRFxEK/IFE8OHaxHP5c0LBviL3n6wZLieFQkcoL4Im06BwvAbso0ivNgC4q7KSElbnP+fngwlfapSrHlb+0h3pFOpKi+3PbJ9u+xUiO8X0kta0/bLtHQi/7aWI1HCnOtIP4cjOcADhX9yt7SPP7QqgCoKcOjc9BazesF+nsH237XdyoLIS8BAxwFiG6JBvIBTtLYjFWpR1bpzH94TStBjh9vNhyvXblKGZL4ifAti+Mr+vSiyC8jMiKHYD4EayXdZRc3zHLwU+lfRIujkhaTPiZXmQI7/5+UQ0/zdye+XW8ZWSJsixDvCg7UclzUq4m/wLuN6RZ/wBYANFvvbzJG1YydCEuidIJE0u6fs9LcekgGJ13A+Bq4G1ciD6cyLf+l9ytqbb895LWpaIY7hJ0mxESteZyNVx02AxSuaOlu+IMxpu+y+1nw8BPiYWZ5mf6JsPdMS5PEcMbm8DBkuaP9+bblL/VCi0i6JEdyO2X7L9d0IpvIawPpOWxcG2r1T4Ma9NuHbMC5ws6QBJ/bNjcWeUheqYtIy/A5xHrGR4vqRvpoKwDvA3QtlH0hQp93vAPwirbVVed3RMWwMP2P5Pviyq+n4EPF/VW7Psd1qG9JnbHbgxXQt6AYvb3pdwe1kA+BL4JK2RV0s6WdKP8vhxqTRtCBxLWGb+RwSHjqJJyuNJhGUJSZVlZ2HgS9v75D43AV9Imj73mxa65uKR5cj2MNs7E5lrRuSmfkTKqy/y+6ZE2zwiB0HbKfKer9osFw9H/vdd8useKct9toendX4j4NtEQORDxOJJ+3W13gmcHYnn4w/KIMxC88lnbKV8Xo4ElpW0g8JveCUiGO8N4AxFTE538mHWtXvWeyPRN30F/DvlXRbA9heSVm9C27iLCCYcBvwAeNWRDm8WoA8xk3ol8dyeIGm3ygjVxXoLhXZTlOhxgO0Hbf/NsVDKLEQKvN1y80HADbafJ5THZYHJgLtrVq8O+2NWx9T+X5ZlP8Bo5fhDYEAqRdMQfme/yf2HAFNL+k5+b2rHlFOR5xGWz/rvuxOKzHmSliKUlt3qMnRWgXP4S7+ZX4cCX0pa3PYbtn9KWGdHEDlMDwdOAQ6WtFeDjB2aIegIktYFliDcLAYB1xI+7ZAW2Vp76LSvsmMRhDezjGp1wc+IQVVFfyLLyXBJfwROVawqtklNhpUkrdCR+nNg2CuVg/tsn5qbhgDrSuoraQCxOM5+xNLAfyZcjS4Cfl+1iWpg1cVBXjVAuocYODyf1+WnxODqDuAY238k3H4WzTp/JKlPd7WF8RGF3+qehJXwdOAoNbjbFJq2eFAvYgD3gCLz0z+ANYkFS3ay/TpwMeMmVe0qxLO4HvBP4GTCveJQYCFJfwD+lP3DCrnvIp2xSlfYvsWjV+d9mEiNB+HashThGjkPMWv5ATEI/6+k1erlTErPZ2HcU5TocUg+zJ8Du9r+n2L6emHC0rY60SEcZPsYQonbStJOGp1yq9PW0LTofmn7T7b/mz8/Ry5M4si5fDKwcVpiIbJ4fFvSw2qYvm1CxzQtkRHhsix7ekUQydHES3obwuIh4DuSrq9ZWwZIWi0V/05h+0nCpeCvki6TtKAj4O2nRErAgbZfIKYLvwCQNIMiyKyaIegO6/xA4hosSry4HrD9v9x2u6R1aufgjgysasd9Vf1Pg+6VhHvRqcB3JS2UyvxBxII1uxAR9IcQ+Z5/pfDbnp1QKrfojAz1WRZF0NDNRGaMYwk3n8G2ryMs0lMTL8u+KVP1Qh1lHc9yOnxPagPNm21fl5bwHxEzFJcRSvSnufsGwOwKf82jiYw6Y1jEx4FVsE060yY6wB5EYO6xjliPQcDbOZj4tsZBHMX4jiLbj6s+oguD/i9tH0UoqocQSuIywCu2n8h21oeYQesl6eeSjpf0d0kLN+t8kmcJ5fl3tm8kAvqGA7cQMSevAN8nFOsTgWHAX6tZpSa0yfOAhRXxGj8h0sbeTrgC3g8MTGv9WcCK9QPrg/YuylAofB3b5a+H/oDTiOmxPoTv6RG1bQ+QfnBEQOKhDcf2IlMUdqA+NXzvT0zFXUMobZsQCso8xPR+pbQsTkzf9W+UoQnXYH0iX+jVhBV0h6zzRmCV2n7XEZbY1QhXhP2adA8mA7YnrLELE9lUVsxtqxIDiw1z++XEFOJvasdPRwSINkOWnxFTpH2IVf8OB+bKbQfkNRJhhfk1keqpxXvbhTaxb7a9M1OeaQgf8gENbW8GIiDvamDmrrYJRr8MVyNcKIYCC+W2a/K32fMeDCYswxDW4yuB5ZtxD2ryzE9Mmf+wei6JgMcXUsZZCb/QuXNbP2Dl/Lw6EfQ0XTNlGou8kwPf72p7GEsdiwGPAkvl97WIgdax2Q72JzKw7NNdMozvf4RP/Zv5/M5a+30JYKYmlL86cHbt8wnErNV3CaPIysD/Ee5w3+6mc5yXSE25JKE4n1b1AfmMfgZsXdu/d+1zl94ZWfdhRIaptYFzgG/Vtr9CZHoin99fAsv0dLsofxPvX48LUP5MdkRXACvl951TOeiV3/cG9s3P/YFpa8c2Q5HdlbAonEFYgCdPReXPxMIY5xFTt3MTSuM2wORNlmGu2ud1s3OcLb8vmi+I6QlL7SfA1S2U0buLMuwKXJifq+WrjyMCaPYHrsttFxCDDRFK+JbUFP4u1D85sHB+/gOwR36ejRhIfSu//zPvzzlVu6iV0WXFhbD6Tpmf1wGurcnXOz8vTGTS+FF+H9BVOYip4rvymu+cv/UhBjIb1PZbgUgJuQbxwt6NcHu5Epimq+ffINOq+Sxel+X/JX9fiZil6EMo3DcRVvp+eZ1maaYc7ZBzF2LG5A/A5rXft2lG28yy9gLOys/TEwOuIwk3nMFECs9Zs6+Yuhl1Tkh/2RfcTQQr70asB7BubluXWLa6S88nMAURCP2fbPO/IhY0ugjYorbfbGQfDczf5POcEtg2P1dLcVfbBhL51qcmBvuHEO+WnzdZBhGD2P0YrcAfBtyen39N9NPbEpmADqhf+67eh/JX/qq/Hheg/I3qEFbPz30Ia+T38vui+XL+RX7/br68D2koo08n6p2s9nkKYPb8vAuRnQBCgbyUsBJPTQYDElP/P28or8vKdJazJKmw5vezCSV2gXxxH0NYYHZktFK3R8q1ehfrrsr7QSoDm+X3FQlrWzXQmSWvzY+Aqer3spP19qofDxxFWGbXJJS48/L37xMDigGEwvYU+aJuaE+dlWOyBjlmJpT2dWv7TEMoCS8SWQJuIDJa7NF4Tp2Ro/EYQrl+ihjkLVD7/TnCNxTCQnU1rVh/6229k9dlq6yjuk+n5DVYLdvnIfn7r4mFWmZqZv1jkW0m4AlCoVqYmHrfjhjw3p9tuUsDzBbax5aEC9BV2T5WIgZAfyUCMOfPa3Fkd513J+VvSh/VStk7AP+pff9jPq/fIwfHtW1dVabnJbJiQAz0nqnOj9ED4LWzLd6Y92atbjjnDQh/5cWI2aJn85lYnRhQ/DH7o4v5+mxqp/upPL43kRoWYmbsfcJCvQmRe/5FYqDdn9GDv4XGVXsof5PGX/GJHg9wcFd+3YaIQv6HIlvGCoTCdlVuf5awasydwV4VW0n6jSJvZ3vrrfxIezlS4lWrBA4G5pC0CuHv+iXRKU1LdJQPEFbIHRXLdU+X5X3VVb+zPP41YoGae/Iclyc64ZWARYjpzH1tnwfMLGk7Yvp8cUb7rnaWKoByCJEa8AZJc9n+D5Fybaf0RXyXmLrdCviGpE3zfnXW/7HyU3b+P5iwnvyQUIyOzGDMvQi/xJeJAdfjRIAokvZXRKfb7rS/9JcNcrxLzEj8TpGNoS9xD9YiFPnpiJfjd4ELJPWTtGNes6+qcjoogxu+/5N4Dj4hXtooMhQMs31WBi8tkteht2IBoU0bAt6eUCzO0ClsX2r7xWzjvYgX9sLEbMDVto/MgKo5iVSW70maufJhd/dmDGj0U76N8EndlZjWv9ejM550lSou4xUi/dhNxPk+YHt1wp3jSUc8wQqEgo0iq8QUTZKhQ6iWks/dlLJSkT3mWGKGqgrAfI54TgbSkPc+n8+uZBt60faL+fVZ4BFJ8+Uz96mkOYnYkjeIAdUxwE8lLdlKkZ2V40ZiNmJPYpB7l+17iHiO14lYiuMIt8FPYVTQ5RRd6aey7i88eqXZ3bLuZwljyyBCmd6bGEhOJ2luov/eqFbGJJuqstAcyrLf4yEZvPaJYrGWHYhpu+eJae3exAj7MWB620coUuPtQkQon+xcqriLMvyQsADOC7xKBHMcQPgrn2X7RUl7Eh3VM4Siv5c7sGx5O2TYmAheeZZQCo4mVpb7U22fy3P7+4RF7niPXi56TWJJ2E4v6a1YOfEfhOJ6jqQRhHX4PaLjfoYIhnue8BV9s9XC2l9nr3rnrsgg8qSkXwHr2f52/r4dYSE/hrAEnUm4BY0k/HibumR1voBfJZSCzwi/5eds/yO3/5Kw+rxNBB5dkcpltXxvp+RQbenxVDwmI17Ia9i+S9ICREDoO8Q1uJ0IBlySsJDPCqxte+kso8vXQ9JlhJ/r0bYvzIHk3sQg6uj8+4iwjPUD9rf9aFfqbEWOxYhZou1sPyZpLeBbKcf6xEBwBuA2279vct0i4icuB85wLcevInXnD4nrvwBhrd+oaivjEkm7EAPBPxKK1hW1bXN6dO7+rtSxN3H/17X9dPbd2xIZZS4nFMm5CAvtIsCxjtRtTUHSAYQB5nrbB0valchqc7gjaBxJ09v+QJEhajXCTatpCkD218/m+f8X2MWRvnQgsVLsHcTsxDHETMXTRN7npshQ9ROKFJQz2T4of1+T6AOuJIwxRxAzr98DTnOsjfC1frdQaA/FEj0e4tH5kofn382E+8LdafF7hghIrCw73yX81G6sK9CdsXRUlmTbf7e9U9b7F8LfcSkij++LkqYkrNT/tr0HoeTu2UJ5XbG2XGt7UCrmMxHWjeuz3OUknU74wx1EWOoXJa+JpPmIqbzbJQ3sQoT8C4Tf35aSbgIutf0AYWGalvCVXYRQpN/PumfNjntUqquO1N9oLXNkEoF4Xo+qzp+4H48SgUz7EAF4fyUGPqfVyuuqwjhZlvM4oRi+QrSJocTLkbTC7kEobk/aXpaYLelFvMA6LYdreakdGQs+J9xq7lIs0FNZgE/LvwccMxXrEkr97oRSX5XX5cwqtrckZiIuzp82INroP1KefVKm7YhrtU5jGV2VIVmHcCF4TJHPe3nCWrwmmZqPGOytrVgko15/lzIWpCHxRcKtanNJVyqyDEH0RzMRwamTE642/5X0LUnjIq8x0GJKvsMUWSxmk7QlkUrzAcUKnp2tY3HC2HEScKKkSwi3t1kIg8cNhEX2HKKP6g38Ww15lLtiHbf9O2KG8rH86X2gn+2Pa/3IB5L2IFzxVgDurWToSjuoyXCt7afz69VEkCOOlXLXIGJrDiYGVbsQ1+ekehnZVXb2OlQK8O3A9yX9TtLctu9wrNewEeGy+AQxa7A34U8+hgLdlftQmPQojWU8JpWWA1JpGMzofMGvEcES16SldFniRfqopB9I+kke3+Ep5ErRqXW8N9i+m1AU/8foTvpnwMjsICH8patFW/qmXM2cxn6XsDgfJmkLwtdvDmDBVFg3BYbXLOEv2z6CeHktT7h7dArbT9pen+j4f6Jwc1mZsGq9QZz7LMBIRWq4vxB+qBA+pNW0ZYeUpkariO2jbd+qSK+2DqHEX5pyvQsclW3mSGLGAEn7qcGNoaMvzPo9tD3S9gmOvOb3AMsp0pqtR7i7bA/sLekuYpA1ObGA0Bb1ujv6ompUwG0/mB+nIe7Fw8Q5r0gosBUrA39KS/4qeT36NKNdOvKLf5XK6wrAOw63n6OIDAlPENlcNiaXDk8ZtsvjmyHDyeSKn0QWmemJLDYfEkrbUw7Xn37AEpJ6K1xdFnEn3W1akOFx2+sRK2s+kj9vRSjXg4mp9b7EvTqaUO6nV6wCOaCr9Y+FRleXKu/wCSnLOUSbnV2xuFJnBhbfJRboOZFoew8Tz+A0hGvNq0S+51tsH2h7PyKW4FEYNdtVucN1RZF+0/al+fVtYF7FLFalHC5HuIPNR/Sf+xIW6e7gCmATSf9W5LgeQQyqVgB2zH7zCuIaIWlaxQJj7ux1qNqy7YeIQWRfIn3srLnLd4DbFFb6mYnn9HFJOwOVW9got8SiTBfaw7hI0l7oAjVF6hTgFElLE0rzRTlVti9hHbxasRLiYsAISTsQU2X3d7He6vvfNNrNZC7CurM7gKRNiJf2A4r8pAenDIsRqeg6JUND/SOA7SXNQ+QlvdP2YZJWJVI8LUdY/SoLX+Vj/JGkC4mVv0a5BXRShley/C8Jy3u1ZPZ2RLT8GsAviAwfl6WytJKkj4m0eCM7W3fdUmJ7pKQbiRfB1IQScDDhYgKhVA3Pz4umbM/VzqPTipM0yjWjl+1XJR1EtL8niKnsR4B1JG1NpET8VNKjjM5HbknT2v6oszLUsf22pIOzfBP++r1S1m8Sfsvfzhf5OsSL/DFJB9m+qpViOyrDB/nsVS/rV4BbbT8j6Voia8A5kr5HDOZeT4vgsbavaYII1bP6HKEgrUb4o77rWD1uMyKA6l+KGaRewEWS/k08n03xl84BXOUfvDoRzHYSYaX9hFBi7rR9saTriGDRYyTdZPuAZshQJ/ufHzK6X1iDGGx+SsQ89CfcbJaVdAURnN3h6Xzbp+TAlrTEPq1w7xlKBPV9QFyDrVOOKW3fL2lOSWcC80n6gAhOfaprZz1KptsVPsAXSjrHsVDQjsRM3h2Ecv8yMHn2l7+SNBw4x+n+0cX6nyD6gR8TGXO+lLQN8Lhj0bFpiHbbWzEr8QfCIPIGEUT/Tuult6v+94lVgKdzrD46PdEXfkG4R/6JeF5+T/SVV2b9uwFX2R5E9lmFQluUkdYEgu3nbG9A5A6+hXgJrkqknbvf4QIyG2F52oboJL7RjLory4xHu5nMDNxs+zbFdPoGRH7lqYHfEBkydk1Z91MExDUFx1LqW9o+LL/fa/ubxJRppah9WbOor05YST9ullU8rY2/zgFFX2IwOjeh3P8pFehfEzl0DyWsMLdmR97ZOhsHNY85FhtYgrCuPZwWlOWIjACH5K5TET6xSFpE0hgrRHZCjuoaVwr9LamEvQosL2lvSTM4Vug8IQ/bgnA5QbH64yWpaHWZVOY/YfQszVTA5Xmef2e0b/hMRHaCHQlf1T5Nbpcf2K4GKs8Cf0xr72Db29m+mgjEHGb7Z4Slcu4m1V3dkweJhS5OJRSEjRWuBicSz+GsRNt4h1C0+xA+200lFZj1CWVoOKFQz0sMtE9WBD9PRbhCrUWsjNrpZ6MNGl1dViSUqDkJRfoXqUAvSij4P4LOuTZUA+RaXznc9s8cgW59iBm8F3JbFfy8MNGXbg7cSixd3cw2eT5hXPhX9RPhjnctcf8fIt4l0xCuDt8E/p7KbrNkuNj25fn1X4wOvP4WsBnRdy1KZKNai7hOJ6gL7jUN9VfGhF7EAPMq26fl918TweqnE4aGk4iBxQmSfq8eXjSpMIHg8SBFSPnr+B/RGR1GBKzMkL/NTviErt+4bzfKsSsR2LQQ0RFfQCgIDxCK/MnkghTNPv/a5/6ED+Cs+X0WIhDyFGIqeX9gim46/z7EtOTtRNAfhM/fW8RL4xJC0R0ILN5NMtRTFf6bWL0LIlvJfUQg3mLEC/NYajm+myzHACJf7b+BefK3pQgr0zeIl9a1NClvcRtyrEoEkg2t7lH+Hwj8rP5bN8qwK6EQHEbmrib89U8iggC7re6sa8Fsk+cRriXTM3p1uduIrBlXd7cshG/01cDvG37fIdtFr9pv3bFATJWSb6vsKw/Ke7IHo9NZPkLM2kHz0nT2avh+KOG+sU9NpqmBCxmdvnS67roOWe6mRPaULRp+PyWfl6UIF4j1uqn+mbMt3EusBPrL7D9nIGILfVSMfAAAIABJREFUNs/95ujmNjkjYdh4gFwoi3D5e5nMd0+kcJyxO+UofxPHX48LUP66cPOiE56L8Feu8tSumC/vObux3roCOwNhwZiM8DGrVnebl1CiL6YbV24jBhMzEJHp6xBK/N2EX/LGZC7VcXAvpqt9/hVwZn7+CaHIfkwtx3E33YsZCTef6vuSREaVQ/O67NWN519XhuarfZ6dUJwfIYLcFm6Uu4kyTNbwfUC+uKsV9JZMRWbpcdQmpiAGlzMCB+Vv/QhLdVNXWGxDhmrBjVXJhWLy+wFEesS+40KOWr071drApeTKk91YX5WBakVG5/A+DFgif/8JkcFnXJx7NaAUsGb+NjNhkV9jHMmwFqHEnkLEVKxFpClcmHGUM5kY0FcLaS1Yuz+XAIt0c9298rwPBdbJ36bP/5sRRp+mLthU/ibuv+LOMQFj+xPbQ4iUZmtKup5QJKd2E9I2tVFv5Soh28Ns3+1wlbgBWEXSCo48pj8HdvXoKbVukSVluIiYpp6D6CSPdESLv9hddTfIUT/HG4ApJfW2fa7tVYDv2n6+2cEq1b3Iz+87XHkqZiB8pTcGjnMEoXVL9LlrwUC2B1dBOsTsxDJEOq1fO4K7xpC7iTLU0+DhCKj7jAiou5tIafVfRvsudyuO3OvPEgPMZSTdTkzdf0H4LI8LGT7Pj28SGToOzXiJLYDzbX84LgKoanX0Aa6Q9HOi33q/O+ut2pnDBesEYpZksMNnF8LlbK8GGZuKIlixl8MFa2+if/qFpPOJgdZMxICv23FkO1qVSIX6ETE7cx3wgpuQ57+dMjxl+01F5pSzJZ2S92duMttPN9b9le2PbB9u+5aMEdhP0uq2ryT6hp26U4bCxEXJEz0RkcFc3wBusv2UeiDvpaSdiGm6W4jcsU+P5ZDukGEXImPFrYQFcFxfg2kIi9NyxDTpzd05qGmouzcRePpfQpkfDJxu+5Fx1R7ST35/Qon/HpFK6jbbI3qiTaZMqxOWpsuBh2x/NpZDukOGTYisAdcTyxOP085X0uxE1pgNiBmapi680QE55iGWax4C/N324HFcf29HwOUZwDK2V64CZru53jHqkHQo4Tt+J3Cx7cdaPbh75OlFuNXc7C7k0u+iDFMRbjbLEMHaP3aTgo47IMP2hMvTQ4Rr4K22TxmXMhQmXIoSXWgK9RdEBsesTigrH/SQPFMR03XX9kT9KcOaRCDX+TXLV3fX2Yfwe10FeND2/42LeluQY2Hi3G+z/d9xoaS0IkcvcsJiXNc9vqLI8DOV7ft6alAzPqBYue4x2y+Py/apMRcP6gt8NKm3zww0/swRrN0Txp/exIJNj9m+b1zWXZiwKUp0oamoi2nkCs0ho9uHOVJL9fg96Sklulb/JKssFtqmJ9pmuk2ocqGY1JXo8Y1yTwrtpSjRhUKhUCgUCoVCBymBhYVCoVAoFAqFQgcpSnShUCgUCoVCodBBihJdKBQKhUKhUCh0kKJET4RkirciQ5GhyFBkKDIUGcZ7GWD8kGN8kKHQNpLOkfSWpBYzXik4RdLzkh6TtFx3ylOU6ImT8aEjKDIERYagyBAUGYIiQ1BkGM34IMf4IEOhbc4j8qu3xgbAgvm3C3BadwpTlOhCoVAoFAqFwniP7TuB99rYZRPgr7ma8X3ADJK+0V3y9B77LoVxTJdzDlYr3XZdlCJDkaHIUGQoMhQZJg05miBDty+b3tNMNt0A+4sR3Va+R7z9JPBp7ae/2P5LB4qYg1gNteLV/O31Joj3NYoSXSgUCoVCoVAYK/5iBFMsvGW3lf/pI3/61PYKXSiipYFMtw3OihI9njLVsr/okXpH/PfUUZ8/+bznjAJTTz76OegpOeoyfNxDMkxTk+HJ1z7qERkWn2PaUZ8/+qxnFv2bdorRnmf/z96dx1VZ5v8ff30aUxQXsNwAU1AMREURJbdcsiYVLdNyzZyZb/abSdOamabM1MpWs2aampaZysZKDTcWzTS3GSsF3HLBXFJL0CxzF0Hx+v1xbg43BxDOAToH5/N8PO6H59zr+3zu68ab61ycc+aCdzLU8SvIkHkixysZggNrOB+f9lId6trq8N3xC1dYs/LccJ2f8/GpbO98GWe9mr9yPs7IOueVDJFB/s7HvnBtfvtj5fVQXklYg5rOx9//7J1rs2n9GqWvpH4Jh4GmtuchQFZlHUzHRCullFJKqTIQkGsqbyq/JGCM9SkdNwGnjDGVMpQDtCdaKaWUUkpVASIyF+gFXC8ih4FpwLUAxpi3gGVAf2AfcB74TWXm0ZtopZRSSilVOgHEe38/aYwZUcpyAzz4C8XRm2illFJKKVVGFTPs4qqglVBKKaWUUspN2hOtlFJKKaXKxovDOXyN9kQrpZRSSinlJu2JVkoppZRSZSA6JtpGK6GUUkoppZSbtCdaKaWUUkqVjY6JdtKe6CrkrWmjOLTqedITJpe4zqxHh7IjcRqp8x+nfUSIc/6ogXFsT5zK9sSpjBoYV64cKz5bTvs2EbSNDOflmS8UWZ6Tk8OYUcNpGxlOz+43cejgQQCOHz9Ov9v60LB+HR6ZWL6vNfeFDCs/W06HNhG0iwxn1hUytIsMp5ctw+rPV9L9plg6x7Sj+02xrF2z2uMM69esJP7mDvTrFs2/Xp9VZHn6hvXcfXt3opsFsCJlSaFls2ZM4Y4+nRjYqyPPPflnHB+v6b6VK5bToW0k0a1bMWvmi0WW5+TkcN/o4US3bkXvHl0K1aFHl07EdYymR5dOrCtHHVauWE5Mu0iio1rxSgkZxo4eTnSUleGQI0N6Wird4mLoFhdD184dSE5c7HGGNZ+v4ObObenWsTWv/3VmkeUbvvwvt/e6iWYN/ElJXFRoWcLcOXSPjaJ7bBQJc+d4nOHzFcvp2C6S9qXUoX1UK/rY6rApLZXucTF0j4uhWznrsHbVCnrHtePmTlH8429F67Dxy/X0792FsEa1WZpUuA5j7hlE27DG/GbEXR4fHxx1iI1uTYc2N/Lqy8XX4Tf3jqBDmxu55eaCOuT7/vvvCG5Qj7//teg1VVb/XbOS/j068Otu7fhnCdfmkF93o+0N9fgspaDeG79Yx+Bbuzin9mHX8fnyZI8yeHptpqel0rVzDF07x9ClUweSytEe1q1eQd8u0fTu3Ia3Xnu5yPLUr9Yz6JYutGpSh0+TC46T+f13DOrblfjecdzeoyMfz/6nxxnWrlpBr85t6RHbmjeKuTY3fvlf+ve+idCG/kXa5L13D6RNaCPGjhjs8fHV1avSbqJFZLCIGBGJKGH5bBEZWso+lolIQDkyJIrIV2VcN0hEFnh6LJd9TReRP1XEvuzmJG/gjgffKHH5r7u3psUNDWhzx1OMnzGX1yYPByCwbi2eGNePm+99mR6jZ/LEuH4E1KnpUYa8vDwemTiexUnL2LRtJwnz55GRsavQOh+8/y4BAQFsz9jL+Icm8eQTjwHg5+fHk9Oe5rkXiv4Qq6oZFiUtI72UDF9n7OVBW4brrr+ehEVJpG7+mrffnc39vx3jcYYZU/7Im3MWkbQmjWWJC9i/Z3ehdZoEN2XGK2/R/857Cs3fkr6BLekbWLRyA0tWpbJz2ybSvlrvUYY/TpzAosSlpG3dwYJP5rHbpQ7/nv0eAQGBbNu1hwcnTGTqlII6fLIwkY2btvH2v97n/t/d5/bxnRkmTWBh4lLStuxgQUIJGQID2bbTkWGadS5aR7Vh3RepfLFxM4sSlzFxwu+5dOmSRxmmPDqROZ8ksuarrSQu/IQ9uzMKrRMc0pRX3vgndw4dVmj+iRM/8+pLz5K88r+kfL6eV196lpMnT3iU4Y+TJrAgcSmpW3aw8Ap12LpzD3+w1SEyqg1rv0hl/cbNLExcxqRy1OHJv0zig/mJfP7FFpIWJbDnm8J1CAppyqzX3+GOIcOKbD9u/MO8+o933T6ua4Y/PfwQC5aksHHzdhYkzC9ShzlWm9yy4xv+MGES06c8Xmj55Ef/SN/bbi9XhhlPPMLbHy4ieU06y5YksG9P4To0CW7Kc6++zQCXazOuW08Wr/yKxSu/4v1PluJXsxbdet7iUQZPr83WUW34z5epfJm6mcVJy5g43vP2MP0vD/Pe3CV8tn4zyYsS2OvaHoKb8tJr7zDwrsLtoUGjxiQsXUPKmo0s/HQdb/19Fj8czfIow5RHJ/LBJ4ms+nIrSYuKXpuONvnPYtvkA+Mf5tU333P7uFctwde/9vsXVZmJRwDrgeGe7sAY098Yc9KTba2b7xggQERCy3CsLGPMFW/qve2Lzfv5+dT5EpfH92zHxympAKRuP0i9OjVpfH1dbu0ayaoNuzlx+jwnz2SzasNubuvW2qMM6WmphLVoSWhYGNWrV2foPcNISU4stE5KchKj7nXcEA2+ayhr16zCGIO/vz9du3Wnhp+fR8f29QxLXTIsLSFDdPsONAkKAqB16yhyLlwgJyfH7Qzbt6ZzQ/MwmjYL5drq1el3xxBWr0gptE5w02bc2LoN11xT+O03ESE3J4eLubnk5uZw8dIlrmvQwO0Mjjq0cNZhyN3DSElOKrTO0uRERo52/KJw511DWbtmdZE6RLaO4oKHdXBmCC3IsDTFJUNKIiNG2TKsdWSoVasW1ao5RrVdyLmAePg25dZNaTQPbUGz5o4Md9x1Nys+Ldx72PSG5rSOass11xT+sbtu9Up69LqFwMD6BAQE0qPXLaxdtcLtDJtc6nBXMXVYlpLISFsd1lV0HTY76nBD81CqV6/OwMF3s/LTwm2y6Q3NiCymDgDdb+6Nf+06Hh0736Z0Rx2a57eHofewzLUOS5MYMfpeAO4YPMRZB4CUpESah4YSEenZz0iA7VsKrs3q1avT746hrP5saaF1Cq7Nkv8bXrF0CT1630rNmrXczlCea7NQe7jgeXvYtjmdZrb2ED94KJ8vL9weQm5oRkQx7aF69erUqFEDgNzcHC5fvuxRhvw2mX9tDhxc/LVZYpvs2YfatWt7dGx19auUm2gRqQ10A36HdRMtDq+LyC4RWQo0tOb3E5FPbNv2EpFk6/FBEbneejxGRL4WkW0iMsea10BEFopImjV1s8UYAiQD87DdyFs94K+JyJci8m1+b7iINBeRHdbjsSKyRESSReSAiIwXkUdEZIuIbBCR+tZ691vH3WblKPKTTkQesl7z1yIyr6JqXJyghgEcPlrQg5X5w0mCGgYQ1CCAwz/Y5h87SVADzzr4s7IyCWlaMEwkODiEI5mZRdcJaQpAtWrVqFu3HsePH/foeFUpQ1YpGeoVk2HJ4oW0i+7g/M/CHceOHKFxk2Dn80aNgzl25EiZtm3fMY5OXXvQu2M4vWPC6dbzFlqEF/um0RUdycok2HqNAMHBwRzJcq1DVql1SFy8kGgP63DEVmeAoODgIufiiEuGunXr8bOVIS11I51j2tIlNpq/vvYP582DWxmOZNEkuKA9NA4K5siRsvWaHc3KIsi2bZOgYI5mud/jllXcuSimDsEl1CE9dSNxMW3pGhvNqx7W4eiRLJoEubyWI5lX2KLiHcnKIjjY3h5COOJST/s69jqcO3eOv73yEn+ZPLVcGX44mkVjWx0aNwnmmAe9qJ8mLmDAHXd7lKG812Za6kY6dWjLTbHR/PXvnrWHH45m0SS44GdU4ybB/FDG6wIgK/Mw/Xt2pnuHVjww/hEaNQ5yO8PRI0WvL3cyKFfiGBNdWVMVU1k90XcCy40xe4CfRSQGGAzcCLQF7ge6WuuuBG4SEX/r+TBgvn1nIhIFPAH0McZEAxOtRX8DXjXGdMJx0/wv22YjgLnW5Ppd602A7kA8UHQwq0MbYCTQGXgWOG+M6QB8BeS//77IGNPJypSB45cGV48BHYwx7YD/V9yBRGSciKSLSPo777xTQpzSFdf+jDHFz8ez8a/FjZst0ktRlnXKoapkKG2dXbt2MnXyY7z2xlueZSjmHJb1NX53YD/f7v2GVWm7WZ3+DalfrCN9g/vDOSqiDhm7djL1icf52+tvun388mTIvzA6dY4jdfN21q7fyKyZL3LhwgVPQpSaoeRNK6atlvdcxHaOY+Pm7axZv5FXvFCHinKlc32ldUSE52dM5w8TJpW757EsGUrz4w9H2bN7J9169a2wDO60h06d40jbsp21X3jeHspbh6DgEJatS2X1xu0s+uQjfjr2Q4Vk+KXbpLp6VdZN9AgcPcBY/44AbgbmGmPyjDFZwGoAY8wlYDkwUESqAQOARJf99QEWGGN+srb52ZrfF3hdRLYCSUBdEakjIo2AlsB660b+koi0se1viTHmsjFmF9CohNewxhhzxhjzI3AKR682wHagufW4jYj8V0S2A6OAqGL28zXwkYiMBoodVGaMeccYE2uMiR03blwJcUqX+cNJQhoHOp8HNwrgyI+nyDx2kpBGtvkNHfM9ERwcwuHvDxccM/MwjYMK9w4EBYdw+PD3AFy6dInTp09Rv359j45XlTI0cckQ7JLhlC1D5uHDjLz7Lt557wPCWrTwKEOjJkGFevl+OJpJg8aNy7Tt58uTiY7pTC3/2tTyr0333rfx9eY0tzMEBYeQab1GgMzMTBo3ca1D8BXrMOKeIbz97myP62A/1wBZmZlFzkWQS4bi2sONEZH4+/uza+cOtzM0CQrmSGZBezialUnjxk3Ktm1wMFm2bY9kZdKoSdm2tQsu7lwUU4dMlzoEVmAdGgcFcyTL5bV40HtYHkHBwWRm2tvDYZq41NO+jr0Om9JSmfrEY7SNaMGbb7zGrJkv8M6bJf8dSkkaNwnmqK0OR49k0rCRe+d0efJC+vYbyLXXXuv28aH812a+iIhIatXysD00KfxuyNEjmTQq43Vh16hxEOE3RpK28Uu3t20SVPT6auhBBmWjY6KdKjyxiFyH46b3XyJyEPgzjt5lgRK7P+cD91jbpRljzrjutoRtrwG6GGPaW1Owte0wIBA4YGVoTuGx2faBlyX9Smpf57Lt+WUKPhpwNjDeGNMWeAoobqDtAOANoCOwyfpFoVIsXbedkfGdAejctjmnz2Zz9KfTrPwyg75dIgioU5OAOjXp2yWClV9mlLK34nWM7cT+fXs5eOAAubm5LPhkPgPiBxVaZ0D8QD6a8wEAixctoGevPhX6m7+vZujvkqF/CRlOnjzJkDvjmT7jObp07Vbc7sukTXRHvjuwn8PfHeRibi6fJi6k960DyrRtk+CmpG9Yz6VLl7h48SLpG9YTFn6j2xkcddjnrMPChPkMiB9YaJ3+8YP4+MN/A7Bk0QJ69urtrMPQwQN56plny1WHjrGd+HbfPg4eLMjQf4BLhgGDmPuRLUNPR4aDBw84/2Dqu0OH2LvnG5o1a+52huiYWA58u4/vDjkyJC5K4Nbb48u0bc8+t/KfNZ9z8uQJTp48wX/WfE7PPre6nSEm/1xYdVhUQh0+ttXh5oquQ4f8OhwkNzeX5MUJ3Hp72dpkRYnpWLgOCxd8Qj+XOvTrP5C5Hzo+BSVx8UJnHT79fB3bd+9n++79/P7Bh/jjnx9j3O8fdDtDm/YdOWRdm7m5uXyauIDet/V3ax9Llyygv4dDOaB81+bBAy7tYe833OBBe2jXoSMHv93H91Z7SFm8gFt+Xbb2cCTrMBeyswE4dfIEm1I3ENYi3O0MBW3yQEGb7Fe2a1Op0lTGDd1Q4N/GmAfyZ4jIOuBnYLiI/BvHeOjewMfWKmuBd3EM8yg0lMOyClgsIq8aY46LSH2rN3oFMB6YaR2nvTFmK46e79uNMV9Z80NxDBuZUsGvtQ5wRESuxdETXWjAmYhcAzQ1xqwRkfU4hofUBjz6Y8kPnh9Lj47hXB9Qm33Ln+GZt5ZxbbVfAfCvBetZvn4nv+4exc6kaZy/cJEHpn8IwInT53n+n8tZ/+GjADz3znJOnC75DxSvpFq1asz669+5I/528vLyGDP2N7RuHcUzT00lJiaWAQMHcd9vfsf//WYMbSPDCaxfnw/mzHVuH9kqlDOnTzt+mCUnkrT0MyLd/AMeX8pwp5Xh3itkaGdlmG1lePvN1/l2/z5efG4GLz43A4DEpZ/RsGFDtzNMfuZlHhh1J3mXLzN42L20vDGS12fOICq6A71vG8D2rZuY9H8jOX3qJGtXfsobrzxL4uo0bhtwJ6lfrGNw3zhEhO69+tLrVvf+k8/P8PJfX+POgf24nJfHvff9hsjWUcx4ahodOnZkQPwgxoz9Lff/dgzRrVsRWL8+7//bcdm/8+Ybjjo8/ywvPv+sow4py2ngQR1mvvoagwf2c5yL/AxPTyMmpiP9rQzjfjuG6KhWBAbW5/05jgxffbmeV19+iWuvvZZrrrmGV/72Otddf71HdXjmpb8yauhALuflMWzUfdwY2ZqZzz1FdIeO3NYvnq2b0/m/e4dx6tQJVi5fxisvPMPqr7YQGFifiX96nAG3OH6RmPTnyQQGuv+uSbVq1Xj51de4y6rDaKsOzz49jQ5WHe616tDeqsN7Vh022Oog11zDrHLU4ekXXmXM3QPJu5zHPSPvo1VEa2Y9/zTt2sdwa794tm1OZ9x9wzh16iSff7aMV1+cwedfbAZgaPwt7N+7h3PnzhLXtgUv/e0tt3+hqFatGjNf+RtDBvV31GHMWFsdYukfP5B7x/6WB353Hx3a3EhgYCDv/fvj0nfsZoYnZszi/pF3cvlyHoOH3Uv4ja35+8xniIqOoY91bT70uxGcPnWSNSs/5fVZz5K8Jh2AzO8PcfTIYTp16VGuDJ5em199uZ5XXK6L6z1sD9NeeIWxwwZxOS+PoSPH0CqiNa++8DRt28fQ9/Z4vt6Szu/HDufUqZOsXrGMv700g+X/3cT+Pd/w3LTHERGMMfzfHyZyY+s2pR+0mAzPvPhX7r17IHl5eQwbeR83RrRm1vNP0ba949rctjmd+8c4rs3PP3Ncm6u+3ALAkAF9nG2yc5sWzHzN/TZ51dHhME7i6WfDlrhDkbXAC8aY5bZ5DwGRQB6O3uY91qIPjTELrHVeB8YCDY0x5615B4FYY8xPInIfjl7tPGCLMWas9UeHb1j7rgb8B8cY5y+AEGN7cSKyGfi9NaXYjnvWGFNbRJpb89uIyFjruOOLyeFcJiK/Bx4FDuEY5lHHyjUdOItjzPYaoB6OHu8PjTEljcHOZwBqdijfZxh7KnvL687H53Mrtm24o1b1govUWznsGc55KYO/LcPOzLNeyRAVXDA+9GyOZ38hX161axS8aXbmgncy1PEryJB5wv1PEakIwYEFf3h52kt1qGurw3fHPRg3XQFuuK7gTb9T2XleyVCv5q+cjzOyznklQ2SQv/OxL1yb3/6Y7ZUMYQ0KPrL1+5+9c202rV8DSn5n+6pxTe0mpkb0bytt/xe+fG6TMSa20g5QwSq8J9oY06uYea+VYbvxOHqV7fOa2x5/AHzgsvwnHEM3XAW7zjDGxFgPN7rMr239exDHHxNijJmNY6hGcTmcy4wxbwJF/hrKGDPd9rR7MfmUUkoppaoYqZJjlyuLVkIppZRSSik3VdofuSmllFJKqauIoGOibbQnWimllFJKKTdpT7RSSimllCobHRPtpJVQSimllFLKTdoTrZRSSimlykA/ncNOK6GUUkoppZSbtCdaKaWUUkqVzTX66Rz5tCdaKaWUUkopN1X4136rctMTopRSSlU9V30X7TV1g02N2D9U2v4vrJlSpb72W3uilVJKKaWUcpOOiVZKKaWUUmWj31jopDfRPup8rndGddSqXnBx1Oww3isZALK3vO58fOGSdzL42a4OX8jgC20i+6J3MtS8tiCDngsHXzgXvlAHzeCg14WDL1wX6n+H3kQrpZRSSqky0M+JttObaKWUUkopVTY6nMNJf51QSimllFLKTdoTrZRSSimlykaHczhpJZRSSimllHKT9kQrpZRSSqnSieiYaBvtiVZKKaWUUspN2hOtlFJKKaXKRsdEO2kllFJKKaWUcpP2RCullFJKqbLRMdFO2hNdxaz4bDnt20TQNjKcl2e+UGR5Tk4OY0YNp21kOD2738ShgwcBOH78OP1u60PD+nV4ZKLnX+f91rRRHFr1POkJk0tcZ9ajQ9mROI3U+Y/TPiLEOX/UwDi2J05le+JURg2M8zgDOOrQLupGoiJaMvOl4usweuQwoiJa0qNrnLMOADNffJ6oiJa0i7qRlSs+q/IZvNke8jNER0XQJjKcl0uow70jh9MmMpybuxXOcPutfWgQWIeHKyCDJ+fi+PHj/Lpvb64PqM2kh8qfQc+F79RBM+h1Yc/g7etCXZ1KvYkWkTwR2SoiO0Vkm4g8IuLZgBgRmezy/EsP97PRyvSdiPxoPd4qIs1F5KwH+7tdRFJFZLe1n/kicoMn2SpTXl4ej0wcz+KkZWzatpOE+fPIyNhVaJ0P3n+XgIAAtmfsZfxDk3jyiccA8PPz48lpT/PcCzPLlWFO8gbuePCNEpf/untrWtzQgDZ3PMX4GXN5bfJwAALr1uKJcf24+d6X6TF6Jk+M60dAnZoeZcjLy2PSQw+SmPwpW77eRcK8uWTsKlyH2e+9S2BAIDt372PCxId5YvJfAMjYtYuE+fPYvG0nSSnLmTjhD+Tl5VXZDN5uD3l5eTw8cTxLkpexOT+Dax3ef5eAwAB2ZOxlwkOTmDK5IMPU6U/z3Ivlz+DpuXBkeIbnX3y53Bn0XPhOHTSDXhf2DN6+Lq4u1td+V9ZUxZQlcbYxpr0xJgq4FegPTPPweIVuoo0xXT3ZiTEmzhjTHpgKzLfytTfGHHR3XyLSBvg7cJ8xJsLa70dAc0+yVab0tFTCWrQkNCyM6tWrM/SeYaQkJxZaJyU5iVH33gfA4LuGsnbNKowx+Pv707Vbd2r4+ZUrwxeb9/PzqfMlLo/v2Y6PU1IBSN1+kHp1atL4+rrc2jWSVRt2c+L0eU6eyWbVht3c1q21RxnSUlNpYavD3cOGF1OHRGcd7hoylLWrHXUuWgYQAAAgAElEQVRISU7k7mHDqVGjBs1DQ2nRoiVpqalVMoMvtIf0tMJ1KC7D0uQkRudnGFI0g185M5TnXPj7+9Ote/kz6LkoyOALddAMel3YM3j7ulBXL7du+40xx4BxwHhx+JWIzBSRNBH5WkQeABCRJiLyH6tXd4eI9BCRF4Ca1ryPrPXOWv/2EpG1IrLA6g3+yNr/LSKyOP/4InKriCwqLaeIPGv1mm8QkUbWvAYistDKmiYi3azV/wI8Z4zJsL3OJGPMf6zt7rfW32ZtX8uaP1tE3hSRNSLyrYj0FJH3RCRDRGbbstwmIl+JyGYRSRCR2u7U3C4rK5OQpgXDI4KDQziSmVl0nZCmAFSrVo26detx/PhxTw/ptqCGARw+esL5PPOHkwQ1DCCoQQCHf7DNP3aSoAYBHh3D/hrBUYfM4urQ1FaHeo46ZGYW3TYrq/C2VSqDl9tDVmYmwSGFM7i+Fsc6RetQYRnKcS4qNIOeC9+og2Yosv/8DHpdeOe6uOrkf1Z0ZUxVjNt958aYb63tGgK/A04ZYzoBnYD7RSQUGAl8ZvXqRgNbjTGPUdCrPaqYXXcAJgGtgTCgG7AaiBSRBtY6vwHeLyWiP7DBGBMN/Ae435r/N+BVK+sQ4F/W/Chg8xX2t8gY08naX4b1mvMFAn2Ah4Fk4FVrf21FpL2IXA9MAfoaY2KAdOAR1wOIyDgRSReR9HfeeafEIMaYIvPEtdGVZZ1KVNyhjDHFz6do1rIoSx1KXKeC6lNVMlR2eyhXHf7HMui5cK6kGXwkg7aHsq+jVHE8HYCS37puA8aIyFZgI3AdEA6kAb8RkelAW2PMmTLsM9UYc9gYcxnYCjQ3jpY9BxgtIgFAF+DTUvaTC6RYjzdRMCyjL/C6lTUJqCsidQq9KJHrrJ7yPSLyJ2t2GxH5r4hsB0bhuEnOl2xl3A78YIzZbuXfaR33Jhy/FHxhHfc+oJlrYGPMO8aYWGNM7Lhx40p8YcHBIRz+/rDzeWbmYRoHBRVaJyg4hMOHvwfg0qVLnD59ivr165e4z4qW+cNJQhoHOp8HNwrgyI+nyDx2kpBGtvkNHfM9EWx7jeCoQ5BLHRy1stXhlKMOwSFFt23SpPC2VSqDl9tDcEgImYcLZ3B9LY51itahwjKU41xUaAY9F75RB81QkEGvC5+4Lq4qgo6JtnE7sYiEAXnAMRzlnGAbkxxqjFlhDYW4GcgE5ojImDLsOsf2OI+Cj997HxgNjAASjDGXStnPRVPwa6V9P9cAXWxZg62b+51ADIAx5rjVe/4OkD/sYjYw3hjTFngKsA+Oys982SX/Zeu4Aqy0HbO1Mcbek+2WjrGd2L9vLwcPHCA3N5cFn8xnQPygQusMiB/IR3M+AGDxogX07NXnF/2Neum67YyM7wxA57bNOX02m6M/nWbllxn07RJBQJ2aBNSpSd8uEaz8MqOUvRUvtlMn9tnqkDB/XjF1GOSsw6KFC+jZ21GHAfGDSJg/j5ycHA4eOMC+fXvp1LlzlczgC+2hY2zhOhSXoX/8QD7Mz7Cw4jOU51xUFD0XBRl8oQ6aQa8LewZvXxfqKmaMueIEnLU9bgCsAJ6yno8DlgDXWs9b4RhO0QyoZs2bBPzVenwif137voFeQIpt/uvAWNvzZBw35K1dso0FXr9C3qHAbOvxx8CfbcvaW/+2BfYBkbZlU4Hp1uOfcAxduRZYadvfbGCo9bg5sMO2/Wzr2A2A74CW1vxaQKtSam6MMeZczuVip4VLUkzLluEmNDTMTHvqGXMu57J5bPIU88mCJeZczmVz/NR5M/iuoSYsrIXpGNvJ7MjY59z2hmbNTGBgoPH39zdBwcEmfeuOIvu382v/YJFp/qdpJuvYSZObe8kcPvqzeWD6h2b8jLlm/Iy5znXenLfO7P/umNm+J9N0Hfmic/64aXPMvkPHzL5Dx8z9U+cUu//8yS77YtFpcdJS0zI83ISGhZnpT88w2ReNefyJJ03CokSTfdGYE2eyzeAhQ01YC0cddn2z37nt9KdnmNCwMBPeqpVZkrys2P1nXzQ+l8Eb7cG1TZzPvVxkWpRoZQhzZDifa2VYuMScz71sfj5tZbDqsHP3Pue2rhk2bd1R7DEq81y4Zti8baeeizKeC1+og2bQ68KHrotS76mq+iT1bjB+8W9U2gSke/s1ulUPY648LlVE8nAMV7gWuIRjeMUrxpjL4viouxnAQBy9rj8Cd1rTn4GLwFlgjDHmgIi8CAwCNhtjRonIWWNMbRHpBfzJGBNvHfN1q5CzrefDgUnGmJtcso0FYo0x423zzhpjaluPhwLxxpix1vjkN4BIHL3E/zHG/D9rvQHAdKAOcNy68Z1mjNkjIr8HHgUOWXWoY+1vNo4b/wUi0tx63Mban31ZH+BFoIYVcYoxJukKJTcA53M9Gy9cXrWqF/z2XbOD9z4XM3vL687HF0p776GS+Nm+isgXMvhCm8i+6J0MNa8tyKDnwsEXzoUv1EEzOOh14eDl6+Kq776+JqCZqdHjL5W2/wspD24yxsRW2gEqWKk30b7AuqneYox519tZfgF6E43eRBeXwRfahC/cuOm5cPCFc+ELddAMDnpdOOhNdOW6JqCZqXHzY5W2/wvJf6hSN9E+/7XfIrIJOAf80dtZlFJKKaWUgipwE22M6ejtDEoppZRSiir5KRqVRSuhlFJKKaWUm3y+J1oppZRSSvkI/fg/J+2JVkoppZRSyk3aE62UUkoppUonomOibbQSSimllFJKuUl7opVSSimlVNnomGgn7YlWSimllFLKTdoT7aPs38DkLfZvDfQmPx9opb6QwRfahP3b6rxFz4WDL5wLX6iDZnDQ68LBF66Lq51oT7ST9kQrpZRSSinlJh/43VUppZRSSvk6QXui7fQm2kedzzVeOa797bgLl7wSASj81mTNDuO9ksE+nOXMhcteyVDHr+DNov/lNmFvD75Qh3NeyuBvy5B90TsZ7G+X+8K50Dr4TgZfuC58IcNVTaxJATqcQymllFJKKbdpT7RSSimllCoD0eEcNtoTrZRSSimllJu0J1oppZRSSpWJ9kQX0J5opZRSSiml3KQ90UoppZRSqky0J7qA9kQrpZRSSinlJu2JVkoppZRSZaI90QW0J1oppZRSSik3aU+0UkoppZQqnX5jYSHaE13FrPhsOe3bRNA2MpyXZ75QZHlOTg5jRg2nbWQ4PbvfxKGDBwE4fvw4/W7rQ8P6dXhkYvm+RnvFZ8tpF3UjUREtmflS8RlGjxxGVERLenSNc2YAmPni80RFtKRd1I2sXPGZR8d/a9ooDq16nvSEySWuM+vRoexInEbq/MdpHxHinD9qYBzbE6eyPXEqowbGeXT8fCtXLCemXSTRUa14ZeaLRZbn5OQwdvRwoqNa0btHFw4dOghAeloq3eJi6BYXQ9fOHUhOXOxxhqrcHo4fP86v+/bm+oDaTHqo/Bm8XYeVny2nQ5sI2kWGM+sKGdpFhtOrmAyNKuhcREdF0CYynJdLOBf3jhxOm8hwbu5WOMPtt/ahQWAdHq6ADN4+F1oH38ng6XWx+vOVdL8pls4x7eh+Uyxr16yu0hnU1el//iZaRPJEZKuI7BSRbSLyiIhcsS4i0l5E+hczP1FEvnKZ94iI7BKRr0VklYg08zRrXl4ej0wcz+KkZWzatpOE+fPIyNhVaJ0P3n+XgIAAtmfsZfxDk3jyiccA8PPz48lpT/PcCzM9Pbwzw6SHHiQx+VO2fL2LhHlzydhVOMPs994lMCCQnbv3MWHiwzwx+S8AZOzaRcL8eWzetpOklOVMnPAH8vLy3M4wJ3kDdzz4RonLf929NS1uaECbO55i/Iy5vDZ5OACBdWvxxLh+3Hzvy/QYPZMnxvUjoE5Nt48Pjjr8cdIEFiYuJW3LDhYkzGO3y7n49+z3CAgMZNvOPTw4YSLTrHPROqoN675I5YuNm1mUuIyJE37PpUuXPMpQlduDn58fU6c/w/MvvlzuDL5Qh0cmjmdR0jLSS8nwdcZeHiwmw7MVkOHhieNZkryMzfkZXM/F++8SEBjAjoy9THhoElMmF2SYOv1pnnuxYurg7XOhdfCtDJ5cF9ddfz0Ji5JI3fw1b787m/t/O6bKZriaiPWNhZU1VTX/8zfRQLYxpr0xJgq4FegPTCtlm/bWek4iEgDEAAEiEmpbtAWINca0AxYAL3kaND0tlbAWLQkNC6N69eoMvWcYKcmJhdZJSU5i1L33ATD4rqGsXbMKYwz+/v507dadGn5+nh4egLTUVFrYMtw9bHgxGRKdGe4aMpS1qx0ZUpITuXvYcGrUqEHz0FBatGhJWmqq2xm+2Lyfn0+dL3F5fM92fJzi2G/q9oPUq1OTxtfX5daukazasJsTp89z8kw2qzbs5rZurd0+PuSfixaEhjrqMOTuYSxNSSq0ztKUREaMcvzQvfOuoaxduxpjDLVq1aJaNcdIqgs5Fzz+wVHV24O/vz/dunfHr5wZfKEOxWVY6pJhaSkZKqIOLUqpw9LkJEbnZxhSORl84VxoHXw3Q1mvi+j2HWgSFARA69ZR5Fy4QE5OTpXMoK5eehNtY4w5BowDxouDn4i8LyLbRWSLiPQWkerA08Awqwd7mLX5ECAZmAcMt+1zjTEm/45vA1AwtsBNWVmZhDQt2Dw4OIQjmZlF1wlpCkC1atWoW7cex48f9/SQxWew9p+fIbO4DE1tGeo5MmRmFt02K6vwthUhqGEAh4+ecD7P/OEkQQ0DCGoQwOEfbPOPnSSoQYBHxzjiUoeg4GCyXOpwJCuryLn42ToXaakb6RzTli6x0fz1tX84b6rdUdXbQ4Vm8IU6uGRwbQ+uGepVdIbMTIJDXDK4XF+Oda7yc6F18OkMnlwXSxYvpF10B2rUqFElM1xttCe6gN5EuzDGfIujLg2BB615bYERwAfWsqnAfKsHe7616QhgrjWNKGH3vwM+dZ0pIuNEJF1E0t95550rZSsyr0ijK8s65VCWDCWuU8nZCvZZdJ4xpvj5FM1UFp7WIT9Ep85xpG7eztr1G5k180UuXLhQKRl8uj38ghm0Dr6TQc+FcyXNUIZ1du3aydTJj/HaG29V2Qzq6qU30cXLv3q6A3MAjDG7gUNAqyIrizQCWgLrjTF7gEsi0sZlndFALFBkkJkx5h1jTKwxJnbcuHElhgoODuHw94edzzMzD9PYeqspX1BwCIcPfw/ApUuXOH36FPXr1y/1BZdVsG3/+RmCXDI4ctoynHJkCA4pum2TJoW3rQiZP5wkpHFgQZ5GARz58RSZx04S0sg2v6FjvieCXOqQlZnpfNuvYJ3gUs/FjRGR+Pv7s2vnDrczVPX2UKEZfKEOLhlc20OwS4ZTFZ0hJITMwy4ZXK4vxzpX+bnQOvh0Bneui8zDhxl59128894HhLVoUWUzXG20J7qA3kS7EJEwIA84Rtk/yGUYEAgcEJGDQHNsQzpEpC/wBDDIGOPxgKqOsZ3Yv28vBw8cIDc3lwWfzGdA/KBC6wyIH8hHcz4AYPGiBfTs1adCG2Zsp07ss2VImD+vmAyDnBkWLVxAz96ODAPiB5Ewfx45OTkcPHCAffv20qlz5wrLlm/puu2MjHfst3Pb5pw+m83Rn06z8ssM+naJIKBOTQLq1KRvlwhWfpnh0TE6xnbi2337OHjQUYeFCfPpP2BgoXX6DxjE3I/+DcCSRQvo2bM3IsLBgwecf0j43aFD7N3zDc2aNfcoQ1VuDxXFF+pQXIb+Lhn6/wIZ9pVSh/7xA/kwP8PCX6YO3jgXWgffzVDW6+LkyZMMuTOe6TOeo0vXblU6g7qKGWP+pyfgrO1xA2AF8JT1/BHgXetxKxw90TVwjH/+wLbdV0AX2/NQYJ/1uAOwHwgvYyZjjDHnci4XOy1ckmJatgw3oaFhZtpTz5hzOZfNY5OnmE8WLDHnci6b46fOm8F3DTVhYS1Mx9hOZkfGPue2NzRrZgIDA42/v78JCg426Vt3FNm/XfbF4qfFSUtNy/BwExoWZqY/PcNkXzTm8SeeNAmLEk32RWNOnMk2g4cMNWEtHBl2fbPfue30p2eY0LAwE96qlVmSvKzEY9j5tX+w0DT/0zSTdeykyc29ZA4f/dk8MP1DM37GXDN+xlznOm/OW2f2f3fMbN+TabqOfNE5f9y0OWbfoWNm36Fj5v6pc4rs2z7Znc7OKzIlLE42LVqGm+ahYebJ6c+Y09l55tHHp5h5CYvN6ew8c+zEOXPn4CEmNKyFienYyWzbtdeczs4zb78720REtjZt20Wb6PYdzMfzFxa7/9PZeYUyeKM9lKVNlKc9uGbYvG1nqe3BF+pwNudykcmeYepTz5izOZfNXyZPMfMXLDFncy6bn06dN3faMmzP2Ofc1jVD2tYdxR7D7nzu5SLTokQrQ5ijDudzrTosXGLO5142P5+26mCdi5279zm3dc2waeuOYo/ha+dC6+A7GSryunhy+tOmVq1apm27aOf07fdHS70uvJzB6/c0lT39qn6oqX/vx5U2Aenefo3uTGKMZ2NCrxYikgdsB64FLuEYvvGKMeayiPgBbwEdrWWPGGPWiEh94DNrm7nAQ0CIsRVTRDYDvweeBdoCR6xF3xljCv8aXJgBOJ/rnfNSq3pBL8QF9z91rcL42f7OrmaH8n1Oqaeyt7zufHzmwmWvZKjjV/Bm0f9ym7C3B1+owzkvZfC3Zci+6J0MNa8tyOAL50Lr4DsZfOG68HKGqjcewU3Vrgsz9QY8W2n7/3nOyE3GmNhKO0AF+5//xkJjzK+usOwCMLaY+T8DnWyzinzThjEmxnrYt5wRlVJKKaW8T7+xsBAdE62UUkoppZSb/ud7opVSSimlVNlUxU/RqCzaE62UUkoppZSbtCdaKaWUUkqVSqian+dcWbQnWimllFJKKTdpT7RSSimllCoT7YkuoD3RSimllFJKuUlvopVSSimlVNlIJU5lObzI7SLyjYjsE5HHill+g4isEZEtIvK1iPT3/MVemQ7nUEoppZRSpRPvDucQkV8BbwC3AoeBNBFJMsbssq02BfjEGPOmiLQGlgHNKyOP3kT7KPtXqXqLn4+0DvvXb3uL/eu3vUXbhIMv1MHfBzLYv3baW3zhXGgdfCeDL1wXvpBBVarOwD5jzLcAIjIPuAOw30QboK71uB6QVVlhfOC/RKWUUkopVRV4+Q8Lg4Hvbc8PA3Eu60wHVojIBMAf6FtZYbzfvaaUUkoppRRcLyLptmmcy/Li7uCNy/MRwGxjTAjQH5gjIpVyv6s90T7qXK5rm/hl2N8Ku3DJKxGAwsMGzly47JUM9iEcNTuM90oG+1CWszneqUPtGgV1yL7onXZpf8v+tJfaQ11be/CF69MXzoXWwcEXrs3zXjoX9mEkvlAHX2iTV7tK7on+yRgTe4Xlh4GmtuchFB2u8TvgdgBjzFci4gdcDxyryKCgPdFKKaWUUqpqSAPCRSRURKoDw4Ekl3W+A24BEJFIwA/4sTLCaE+0UkoppZQqlbe/9tsYc0lExgOfAb8C3jPG7BSRp4F0Y0wS8EfgnyLyMI6hHmONMZXyFoXeRCullFJKqSrBGLMMx8fW2edNtT3eBXT7JbLoTbRSSimllCqb/53h36XSMdFKKaWUUkq5SXuilVJKKaVU6bz8jYW+RnuilVJKKaWUcpP2RCullFJKqTLRnugC2hOtlFJKKaWUm7QnWimllFJKlYn2RBfQnugqZuVny+nQJoJ2keHMmvlCkeU5OTmMGTWcdpHh9Op+E4cOHgRg9ecr6X5TLJ1j2tH9pljWrlntcYYVny2nXdSNREW0ZOZLxWcYPXIYUREt6dE1zpkBYOaLzxMV0ZJ2UTeycsVnHmdYuWI5Me0iiY5qxSszXyw2w9jRw4mOakXvHl04dMiRIT0tlW5xMXSLi6Fr5w4kJy726PhvTRvFoVXPk54wucR1Zj06lB2J00id/zjtI0Kc80cNjGN74lS2J05l1MA4j46fb+WK5XRoG0l061bMKqEO940eTnRrqw629tCjSyfiOkbTo0sn1pWzPURHRdAmMpyXS2gP944cTpvIcG7uVtAmjx8/zu239qFBYB0enli+r1X/fMVyOraLpH0p7aF9VCv62NrDprRUusfF0D0uhm7laA/g+bV5/Phx+t3Wh0b16/BIOevgC+fCV35Geb0OPnJttm8TQdvIcF6+wrloGxlOz2LaZMMKaJO+UAdfaJPq6lSum2gRaSQiH4vItyKySUS+EpHBItJLRFJK2Xa6iPzJzeOdtT2OEpHVIrJHRPaKyJNi/XokIjVE5HMR2Soiw0Skh4jstJ7X9OzVFskySEQeq4h9lVVeXh6PTBzPoqRlpG/bScL8eWRk7Cq0zgfvv0tAQABfZ+zlwYcm8eQTjojXXX89CYuSSN38NW+/O5v7fzvG4wyTHnqQxORP2fL1LhLmzSVjV+EMs997l8CAQHbu3seEiQ/zxOS/AJCxaxcJ8+exedtOklKWM3HCH8jLy/Mowx8nTWBh4lLStuxgQcI8drvU4d+z3yMgMJBtO/fw4ISJTLPq0DqqDeu+SOWLjZtZlLiMiRN+z6VLl9zOMCd5A3c8+EaJy3/dvTUtbmhAmzueYvyMubw2eTgAgXVr8cS4ftx878v0GD2TJ8b1I6COZ00yLy+PP06cwKLEpaRt3cGCT0qoQ0Ag23Y56jB1SkF7+GRhIhs3bePtf73P/b+7z+MMD08cz5LkZWzOb5Ou7eH9dwkIDGBHxl4mPDSJKZMdGfz8/Jg6/Wmee3GmR8e2Z/jjpAksSFxK6pYdLLxCe9i6cw9/sLWHyKg2rP0ilfUbN7MwcRmTPGwP5bk2/fz8eHLa0zz7Qvnr4Avnwhd+RvlCHXzh2nxk4ngWJy1jUynnYnvGXsYX0yafq4A26St18GabvOpIJU5VjMc30dYN6xLgP8aYMGNMRxzfYR5y5S3Lz7oRTgJeMMa0AqKBrsAfrFU6ANcaY9obY+YDo4CXrefZFZHBGJNkjCn6K20lSk9LJaxFS0LDwqhevTpD7xnG0uTEQussTU5i1L2OHzaD7xrK2jWrMMYQ3b4DTYKCAGjdOoqcCxfIyclxO0NaaiotbBnuHjacFJcMKcmJzgx3DRnK2tWODCnJidw9bDg1atSgeWgoLVq0JC011cM6tCA01JFhyN3DWJqSVLgOKYmMGOX4gXfnXUNZu3Y1xhhq1apFtWqOUUwXci54/LbUF5v38/Op8yUuj+/Zjo9THK8tdftB6tWpSePr63Jr10hWbdjNidPnOXkmm1UbdnNbt9YeZXDWIaygDinJLnVITmTkaFsd1qwu0h4iW0dxwcP2kJ5WuD0MvWdYkfawNDmJ0fltckhBm/T396drt+74+fl58vKdNrm0h7uKaQ/LUhIZaWsP6yq4PZTn2qyoOvjCufCFn1G+UwfvX5uu56Loz+ort8kaV2kdfuk2qa5e5emJ7gPkGmPeyp9hjDlkjPm7fSURqS8iS0TkaxHZICLtbIujrd7kvSJyv7V+bRFZJSKbRWS7iNxRzLFHAl8YY1ZYxz0PjAceE5GGwIdAe6vn+QHgHmCqiHxkHePPIpJmZXrKmtdcRDJE5J9Wr/WK/F5rEXlIRHZZ68+z5o0VkddFpJ6IHBSRa6z5tUTkexG5VkRaiMhyq5f+vyISUY56k5WVSUjTgt9RgoNDyMrMLLpOSFMAqlWrRr269Th+/HihdZYsXki76A7UqFHDswzW/vMzZBaXoWlBhrr1HBkyM4tum5VVeNuyOOKSISg4uEgdjmRlFapD3br1+NmqQ1rqRjrHtKVLbDR/fe0fzpuoihTUMIDDR084n2f+cJKghgEENQjg8A+2+cdOEtQgwKNjHMnKJLhQPYM5kuV6LrJKbQ+JixcS7Wl7yMwkOMSlTbpmyCzIaW8PFSWruDoU0x6CS2gP6akbiYtpS9fYaF71sD1U1LVZHr5yLrz+M8oH6uAT12Yx58L1unA9F3UruE36ah1+6TZ5tRGRSpuqmvLcPUQBm8uw3lPAFmPMnSLSB/g30N5a1g64CfAHtojIUuAYMNgYc1pErgc2iEiSMca4HHuT/SDGmP0iUhu4APwf8CdjTDyAiHQBUowxC0TkNiAc6IzjzYMkEbkZ+M6aP8IYc7+IfAIMwXFD/hgQaozJEZEAl+OeEpFtQE9gDTAQ+MwYc1FE3gH+nzFmr4jEAf/A8ctHISIyDhgH8PbbbzNu3LhiC1m4BM5t3Vpn166dTJ38GIlLPRuPXK4MZdi2MjNgrdOpcxypm7fzze4MHvi/33Drr/uVu+ephEMVyVTsfIrJWgYV0R4ydu1k6hOPsyRludcylFd5M8R2jmOj1R7+n4ft4Wqog69k8OrPqApSVa7NivqZXJ4MvlCHym6T6upVYX9YKCJviMg2EUlzWdQdmANgjFkNXCci9axlicaYbGPMTzhuQPNvbJ8Tka+Bz4FgoJHr4aDEO4/S7khus6YtOH4JiMBx8wxwwBiz1Xq8CWhuPf4a+EhERgPFDZicDwyzHg8H5ls39F2BBBHZCrwNNCk2sDHvGGNijTGxJd1Ag+M36MPfH3Y+z8w87HyrqdA6h78H4NKlS5w6fYr69es71j98mJF338U7731AWIsWJR7nSuz7z88QVFyG7wsynD7lyBAcUnTbJk0Kb1sWQS4ZsjIzi9QhKDi4UB1O2+qQ78aISPz9/dm1c4fbGUqT+cNJQhoHOp8HNwrgyI+nyDx2kpBGtvkNHfM9ERQcQmahembSuInruQi+YnsYcc8Q3n53tuftISSEzMMubdI1Q0hBTnt7qCjBxdWhmPaQ6dIeAiuwPZT32qwIvnIuvP4zygfq4BPXZjHnouh1EVLqz8ny8NU6/NJt8mpSmb3QVbEnujw30TuBmPwnxpgHgVuABi7rFVcV4/Kvff4oax8djTHtgR8A126hnUBsoYOIhAFnjTFnShUg/4UAACAASURBVMktwPPW+Oj2xpiWxph3rWX2wU55FPTUDwDeADoCm0TEtQc/CegnIvWtdVbjqO1J23HaG2MiS8l2RR1jO7F/314OHjhAbm4uCz6ZT//4QYXW6R8/kI/mfADA4kUL6NmrDyLCyZMnGXJnPNNnPEeXrt08zhDbqRP7bBkS5s9jgEuGAfGDnBkWLVxAz96ODAPiB5Ewfx45OTkcPHCAffv20qlzZ7czdIztxLf79nHwoCPDwoT59B8wsNA6/QcMYu5H/wZgyaIF9OzZGxHh4MEDzj8c++7QIfbu+YZmzZp7UIkrW7puOyPjHa+tc9vmnD6bzdGfTrPyywz6dokgoE5NAurUpG+XCFZ+meHRMRztYZ/zXCxMmM+AeJc6xA/i4w9tdejV29kehg4eyFPPPFuu9tAxtnB7WPDJ/CLtoX/8QD7Mb5MLC9pkRYnJr4PVHhaV0B4+trWHmyu4PZTn2qwovnAufOFnlO/UwfvXpuu5KPqzuvLbpC/W4Zduk+oqZozxaMJxM7oR+L1t3g3AQaAXjuETAK8BT1qPe+EY2gEwHdiK4wb5OhzDKYKAicDfrXV647ixbm49P2v9WxP4Fuhre54CTLAdJ8WWazYw1Hp8m5W7tvU8GGiIo9d5h22bP1kZr7Ed/1ocN/UBwFjgddv6CTh63P9hm/clcLetXtFlqK0xxpizOZeLnRYuSTEtW4ab0NAwM/WpZ8zZnMvmL5OnmPkLlpizOZfNT6fOmzvvGmrCwlqYjrGdzPaMfeZszmXz5PSnTa1atUzbdtHO6dvvjxbZv132xeKnxUlLTcvwcBMaFmamPz3DZF805vEnnjQJixJN9kVjTpzJNoOHDDVhLRwZdn2z37nt9KdnmNCwMBPeqpVZkrysxGPYnc7OKzIlLE42LVqGm+ahYebJ6c+Y09l55tHHp5h5CYvN6ew8c+zEOXPn4CEmNKyFienYyWzbtdeczs4zb78720REtjZt20Wb6PYdzMfzFxa7/9PZeYUy+LV/sNA0/9M0k3XspMnNvWQOH/3ZPDD9QzN+xlwzfsZc5zpvzltn9n93zGzfk2m6jnzROX/ctDlm36FjZt+hY+b+qXOK7Ns+2Z25kFdkWrDEUYfQ0DAzdfoz5syFPPOXx6eYeQsWmzMX8syPJ8+ZO+8a4mwPX+/aa85cyDNPTiumPXx3pNhj2J3PvVxkWpRotcmwMDPtqWfM+dzL5rHJU8wnC5eY87mXzc+nz5vBdxW0h5279zm3vaFZMxMYGGj8/f1NUHCw2bR1R7HHsDuVnVdksreHKdOfMaes9jA3YbE5lZ1nfjhxztxhaw9bd+01p1zaQ7v2HcxH8xcWu/9TLu2hIq/NszlF65C2dUexx/C1c+GNn1G+WAdfuDbP5VwuMtnPxbSnnjHncqw6LFhizuVcNsdPWXWwMuzI2Ofc1rUO6Vt3FHsMX6uDl9ukx/dUVWWq3rClafZQcqVNQLq3X6M7kxjj2XhMABFpArwKxAE/AueAt6wbzT8ZY+Kt3tn3gVDgPDDOGPO1iEy3bppb4Lj5fskY809rHHSydcO6FegG9DPGHBSRs8aY2tax2wJ/xzFE4lfWDezTxhgjIr0oPCZ6tnVTvcB6PhHHuGmAs8BoHD3PKcaYNtY6fwJqA8/iGGpSz7oR/tAY84KIjAVijTHjrfWHWjfSvYwx66x5ocCbVsZrgXnGmKdLKasBOJfr+XkpD//qBb0QF9z/pK8K42fr6z9z4bJXMtTxK3ijpmaH8n1Wqqeyt7zufHw2xzt1qF2joA7ZF73TLmteW9AuT3upPdS1tQdfuD594VxoHRx84do876VzUau6b9XBy22y6o1HcFONRuGmyfBXK23/h14buMkYE1v6mr6hXDfRqlLoTTR6E51Pb6Id9CbawdduHrUODr5wbepNtIPeRFeuGo3CTdCIv1ba/g/+Lb5K3UTrNxYqpZRSSinlpor/gFyllFJKKXV1uur728tOe6KVUkoppZRyk/ZEK6WUUkqpMqmKn+dcWbQnWimllFJKKTdpT7RSSimllCqdaE+0nd5EK6WUUkqpUgmg99AFdDiHUkoppZRSbtKeaKWUUkopVQaiwzls9CbaR9m/kctb/Hykddi/OdBb7N8c6C32b+XyFvu3tHlLXR9oD75wffrCudA6OPjCtVnLB86FL9TBF9qk+t/hI7dJSimllFLK12lHdAHv/9qolFJKKaVUFaM90T5qZ+ZZrxw3Kri28/H5XOOVDFD4rUlv5bBnOJtz2SsZ7G+P1uww3isZ7ENZfKEOpy94J4N9GMl3xy94JcMN1/k5H5/xUh3sw6u+/THbKxnCGtR0Pj6VneeVDPVq/sr5eMO+k17JcFPLAOdjX7g2feH/LV9ok1c7HRNdQHuilVJKKaWUcpP2RCullFJKqdKJjom2055opZRSSiml3KQ90UoppZRSqlQCXHONdkXn055opZRSSiml3KQ90UoppZRSqkx0THQB7YlWSimllFLKTdoTrZRSSimlykQ/J7qA9kQrpZRSSinlJu2JVkoppZRSpdPPiS5Ee6KrmPVrVhJ/cwf6dYvmX6/PKrI8fcN67r69O9HNAliRsqTQslkzpnBHn04M7NWR5578M8Z49nXaKz5bTvs2EbSNDOflmS8UWZ6Tk8OYUcNpGxlOz+43cejgQQCOHz9Ov9v60LB+HR6ZWL6vsPaFDCtXLKdD20iiW7di1swXi81w3+jhRLduRe8eXZwZVn++kh5dOhHXMZoeXTqxbs1qj47/1rRRHFr1POkJk0tcZ9ajQ9mROI3U+Y/TPiLEOX/UwDi2J05le+JURg2M8+j4+bxdB4DPVyynY7tI2ke14pUSMowdPZz2Ua3o06MLhw45MmxKS6V7XAzd42Lo1rkDyYmLPc6wdtUKese14+ZOUfzjbzOLLN/45Xr69+5CWKPaLE1a5Jy/c/s27ry9J327xfDrmzuRvDjB4wwrVywnpl0k0aXUITrKOhdWHdLTUukWF0O3uBi6lrMO61avoG+XaHp3bsNbr71cZHnqV+sZdEsXWjWpw6fJRY9z5sxpurZrwfTHHvY4w+crlhMb3ZoObW7k1ZeLr8Nv7h1BhzY3csvNru2hI93jOtItLobkxCVFti2rr/7zOcNu68TQW2L499uvFlk+9703GHH7TYyO78b4MXdwJPM757JuN17HmIE9GDOwB39+YITHGTy9NtPTUunaOYaunWPo0qkDSeVoD77wf5anbTLz++8Y1Lcr8b3juL1HRz6e/U+Pjq+uXnoTbRGRh0QkQ0Q+8naWkuTl5TFjyh95c84iktaksSxxAfv37C60TpPgpsx45S3633lPoflb0jewJX0Di1ZuYMmqVHZu20TaV+s9yvDIxPEsTlrGpm07SZg/j4yMXYXW+eD9dwkICGB7xl7G/3/2zjs8qmL945+Xi3QwQWo2CoSaBAgpwKUJKDYIIEVRmqhXvF5FsFwbCih2mvWq/CwoSjEECAmIIE1BIYTQi9SAKYAiSUASAmF+f+wm2TSS3STuEt7P85yHs+fMnPnmO+8Ms7Nzznl8HC+Nfw6AKlWq8NLEV3j9zfwDjCtRw1Njx7AwYimbt+1iwbfz2JdHw1ezPsfDw5Pte/bz6JixTHjRquG6OnX4NjyCTVu288mnX/DQg/c5pWF25Eb6P/phoedv6+pH0xvq0rr/yzz26lzee+EeADxrVWP86Du4ccRUug2fwvjRd+BRs6pTGtzBh8zMTJ4aN4YFEUuJ3rqL8LBCNHh6sm33fv4zZiwTbfHg69+atRuiWb8plvCIZYwb8wgXL150SsNLz47jy/kR/LBhK0sWhrH/17250nh5X8+0D2bSf9CQXMerVq3GjA8/44cNsXw1P4KXxz9DSkqyUxqeGjeG8IilbN66iwWX8WH7bmtdZPng59+adRui2bAploURyxhbAh8mPfsEn89dzPfrY4lcGMaBvD5Yruft92bSd+CQAq8x481X6NC5m8Nl22t4+onHWbA4ik2xO1kQNj+fD7NtMbl116/8Z8w4Jr34PJAVD5tYv2kL4YuX8sTjzvswbdJ/mf5pGHO/28jKqHCOHMjdV7fwa8sXi1bzddQGbrqtHx++PSn7XOUqVfkq8ie+ivyJKZ/MddwEStY2/fxb8+PP0fwcHcuiJcsY+5jzPrjD/1nOxmTd+g0IW7qGqDWbCP9uHR+/P40TxxMd1lCeEKxrostqu9LQQXQO/wF6G2OGuVpIYezcFsMNjX24vlETrqlUiTv6D2L1iqhcaSzXN6KlX+t8D0MXETLOn+dCRgYZGee5cPEi19Wt67CGmM3R+DRtRhMfHypVqsTgu4cQFRmRK01U5BKGjbAOiAYMHMzaNaswxlC9enU6d+lK5SpVHC7XPTU0zdYw6K4hREUuyZVmaWQEQ4ePBODOgYNZu2Y1xhgC2gXS0MsLAF8/f9LT0zl//rzDGjbEHuLPlHOFng/t3pY5UdEARO+M49qaVWlQpxa3dPZl1cZ9nE49R/KZNFZt3MetXfwcLh/cw4ctWRqaWDUMvGsIS6Nya1gWFcHQYTka1q21aqhWrRoVK1pXtaWfT3e6E98Wu5nGTZpyQ+MmVKpUib4D7mLld7nb5vU3NMLXvw0VKuTudn2aNadJ02YA1G/oRZ26dfnzjz8c1hCTx4dBBfiwNCqCe+18WFvKPmyPjaGRnQ+hAwbzw/LcPnjf0IhWBfgAsHN7LH/8fpKuPW52qnyALTFWHxpn+TD4bpbljYelS7h3+AgA+g8YVOrxsGfHFrwb+WC5oTHXVKpErz4D+XHVslxpgv/ZjSpVqwHg3649J48nOFVWYZSkbebyId15H9zh/6ySxGSlSpWoXLkyABkZ57l06ZLD5SvlGx1EAyLyMeADLBGRFBF52u7cLhFpbNv2isj/ichuEVkhIlVtadaKyFsiEi0i+0Wkm+34TyLSzu5aG0SkrbM6TyYl0aChJftz/QYWTiYlFStvu+COtO/cjZ7BzekZ1Jwu3W+mafNWDmtITEzA+/qcZQEWizdJCQn503hfD0DFihWpVetaTp065XBZ7qwhKTEBi+36Vg0WkhLzakjMpeHaAjRELAonICAwu6MuTbzqeRB//HT254QTyXjV88CrrgfxJ+yOn0zGq66HU2W4gw+JBWnIEw9JiYnZabLi4U+bhpjoTXQMakPnkABmvPe/7MGDIxxPSqShV05MNvSycDzJ8UHRttjNZGRk0KiJj8N5k+xiHsDLYiGxAB/ytossHzZHb6JDUBs6hQTwjpM+nDieSENLTh/VoKGFE0nFm7m7dOkSb0x8nucmvu5wufYkJSZisdj74E1SYmKhaQqKh38Gt6VL+3ZMf9c5H34/nkQ9u766XgMvfj9ReF8duWA2nW68Jftzxvl07h/Qk38NvoV1K5c6XD6UvG1ujt5E+8A2/DMkgHfed84Hd/g/qyQxCZCYEE/v7h3oGtiChx97kvoNvBzWUL4ou1lonYm+QjHG/BtIBHoC+Rev5dAc+NAY4w8kA4PszlU0xnQAxgETbcc+BUYBiEgLoLIxZkfei4rIaBGJEZGYmTNnFq6T/OvBiht0x44c4vCBX1m1eR+rY34lesM6YjY6/tNYQWvS8mkoTpoScKVoKCrN3j27mTD+ed794KNS05W7rPzHjDEFHy8gtoqDO/hQUg0hHTqyKXYna9ZvYvqUt0hPT3dGRJEaiuLE8SSeeORBpr7/SYGztEVLcM6HrIBo36Ej0bE7Wbt+E9Oc9OFy1y+Kr7/4hO4334aXxbvoxCXUUFQ8bNyyg9U/bWTG1Ded88GBvnp5xHz27dzGsH+NyT62aN1Ovli0hpen/x/vvPY88UePOK6hhO2ifYeObN66k7UbnG8X7vp/liN3xnlZvFm2LprVm3ay8Ntv+OPkCYc1KOUXHUQ7xhFjzDbb/hagsd25hQUcDwNCReQa4AFgVkEXNcbMNMaEGGNCRo8eXWjh9Rt65ZrdOnE8gboNGhRL+A/LIwkI6kC16jWoVr0GXXveyo7YzcXKa4/F4k38b/HZnxMS4mnglfubuZfFm/j43wC4ePEiqakp1K5d2+Gy3FmDl8WbBNv1rRoSaNAwtwaLxZJLQ4qdhoT4eO69exCffDYLn6ZNS02XPQknkvFu4Jmjp74HSb+nkHAyGe/6dsfrWY87gzv4YClIQ754sGSnyYoHzzzx0LKVL9WrV2fP7l0Oa2jgZSEpMScmkxITHJqxOnMmlfvvHcjTL0wkKMS5Gz3tYx4gMSEhe7lMThpLke2iRD40zP0rwPGkBOo3aFisvFs3RzP784+5MbgVb056gUXfzuHtyS85rMHLYiEhwd6HeBo2bFhomsvFQ7Xq1dnrhA/1Gnhx0q6vPnk8kTr18vfV0RvWMut/03n7kzlUsvsVpm59q17LDY0J6tCV/Xvyzb0USUnbZhatWvlSrZpz8eAO/2eVJCbtqd/Ai+Ytfdm86WeH85Y3RMpuu9LQQXR+LpLbF/vFs/YLNjPJ/YjA83mPG2POASuB/sDdwJySCGsdEMyxI4eIPxbHhYwMvosIp+ctfYqVt6HlemI2rufixYtcuHCBmI3r8Wne0mENwSHtOXTwAHFHjpCRkcGCb+fTJ7RfrjR9QvvyzewvAVi0cAHde9xUqrPA7qPhYLaG8LD59AntmytN79B+zPn6KwAWL1xA9x49ERGSk5MZPKAvL09+jU6du5SaprwsXbeToaEdAOjQpjGpZ9M4/kcqK3/eS69OrfCoWRWPmlXp1akVK3/eW8TVCsYdfAjK0hBn1bAwbD69++TR0Kcfc77J0XBjd6uGuLgj2TdMHTt6lAP7f6VRo8YOawgIDOHI4YMcOxpHRkYGkYvCuOX24rXNjIwMRo8cwqAhQ+nTf1DRGQohOKQ9h+18CC/Eh7l2PnQvZR/aBgYTd/ggv9l8iFq0gJtvK54PMz7+gvVb9/Pjln08N+l1Btw9lGdemuywhqDg3PEQvuBb7sjjwx29+zL369mAdSlRgfFw7CgH9+/nBid88G0TxG9xh0j87SgXMjL4YelCut18R640v+7ewdsvPcGUT+ZQ+7qctb6pKclk2O4NSP7zFDtiN9GkmbN9tXNtM+5Inng48KtTPrjD/1klicmkxHjS09IASEk+zZbojfg0be6wBqX8os+Jzk8cEAogIkFAkxJe71MgEvjJGPNnSS5UsWJFXpg8lYeH3UnmpUsMGDKCZi19+WDKq/gHBNLz1j7s3LaFcf8aSmpKMmtXfseH018jYvVmbu1zJ9Eb1jGgV0dEhK49etHjlt5OaZj2zvv0D72dzMxMRo66Hz8/fya/PIGgoBD69O3Hffc/yL/uH0kb3+Z41q7Nl7Nz7i73bdGEM6mp1oFGZARLln6Pr69jN7W5i4ap77zHnX3v4FJmJiPuux9fP39efXkigcHB9Antx8hRD/DQAyMJ8GuBZ+3afPGV9TvUzI8+5PChg7z1xmu89cZrAERELaduvXoOafjyjVF0C25OHY8aHFw+mckfL+Oaiv8A4NMF61m+fje3dfVn95KJnEu/wMOTvgbgdOo53vi/5az/+hkAXp+5nNOphd+g6O4+VKxYkakz3mNg3zvIzMxkuE3Da69MJDAomN6h/Rgx6gFGPzCSdv4t8PSszeezrRo2/ryeGVPf5pprrkEqVGDaux9wXZ06TvnwypszGHlXXzIvZXL30Pto0cqPaW+8Qtt2QdxyRyjbY2MYfd8QUlKS+eH7Zcx461V+2BBL1OJwon9ZT/LpP1kwz1pHU9+fiX+bAIc1TJnxHgNsPmTXxSsTCbL5MNLmQ4DNhy9sPvxi50OFChWYXgIfJr45nVFD+nEpM5PBQ0fSopUfM958hTbtguh1eyg7tsbwyKh7SElJZvWKZbz79qss/2mLw2Vd1ofp7zKoX29rPIwcZRcPIfQO7cuIUQ/w8IP3Edi6JZ6ennz+VVY8bOCdaW9TsaLVh6nvOO/DUxPfZtwDg7iUmUno4GH4NPdl5juv49umHd1u7s0Hb0/g3Lm/GD9mFAD1vbyZ8slc4g79ylsvPUGFChW4dOkSIx4eRxMn1gKXpG3+8vN6pueJhzpO+uAO/2c5G5OH9v/K6xOfR0QwxvCv/4ylpV9rhzWUN67EtctlhTj73MXyhojEASHAX0AEUA/YDHQFsqYQoowxrW3pnwZqGGMmicha4GljTIyI1AFijDGN7a69DxhnjFleDCkGYHfC2dL4sxzG31Ije/9chutio1qlnEbqKh32Gs6ed81d2TUq5/woUjWwZM+1dpa0rR9k77uDD6nprtFQq0qOhmOnnFg3XQrccF3OD2NnXORDTTsfDv+e5hINPnVzHsmYkpbpEg3XVv1H9v7Gg44/krA0+GeznBuC3aFtusP/Wy6OyXI/uqzm1dK0fLhs7uMB2Dbp5i3GmJAyK6CU0ZloG/aDXuDWQpJlfwU1xky12+9ht/8HdmulRcQL6/KQFaWjVFEURVEUxQVcoWuXywpdE12GiMhIYBMw3hijD5hUFEVRFEUpJ+hMdBlijPkK+MrVOhRFURRFUUpK1hsLFSs6iFYURVEURVGKhY6hc9DlHIqiKIqiKIriIDoTrSiKoiiKohQLXc6Rg85EK4qiKIqiKIqD6Ey0oiiKoiiKUix0IjoHnYlWFEVRFEVRFAfRmWhFURRFURSlaETXRNujr/12P7RCFEVRFOXKo9yPLqt7tzStH51ZZtePfqGHvvZbURRFURRFKV9YX7biahXug66JVhRFURRFURQH0ZloN+Xs+UsuKbdG5ZzvVWkXXLeypOo1OV910y+6RkMVu9bhKi/sfXCHmKga+JhLNKRt/SBnX+sCgNR012ioVSVHgzv4cOov13QQ11XP6SDcwYczLoqHmm4WD+6goXwjuibajqul1hVFURRFURSl1NCZaEVRFEVRFKVY6ER0DjoTrSiKoiiKoigOojPRiqIoiqIoSrHQNdE56Ey0oiiKoiiKojiIzkQriqIoiqIoRSO6JtoenYlWFEVRFEVRFAfRmWhFURRFURSlSKxvLNSp6Cx0JlpRFEVRFEVRHERnohVFURRFUZRioTPROehM9BXGyhXLCWzjS4BfC6ZNeSvf+fPnz3Pf8HsI8GtBz26dOBoXB8DqH1bSrVN7OgYH0K1Te9atWe20hhXfLyfAvxWtfZsz9e03C9QwYug9tPZtzo1d/pmt4dSpU9x+y03U9azJE2NL9vroFd8vp61/S/xbNWNKIRqGDx2Cf6tmdOvcMZeG23r1pI5HDcY9XnINrvbB1fHw8cRhHF31BjFhLxSaZtozg9kVMZHo+c/TrpV39vFhfTuyM2ICOyMmMKxvR6fKz0LrwsoPK5YT3NaXdv4tmF6IhlHD76Gdfwtu6taJo0etGrZsjqZrxyC6dgyiS4dAIiMWOa3BHXxYtfJ7Ogb6075tK96d9naBGh4cOZT2bVtxa4/OHLP5cOxoHN51atKjUzA9OgXz1OP/cVqDO/iwcsVygtr6ElBEPAT42zTYfIjZHE2XjkF06RhE53IQD+6gQSmfXFWDaBFpLCK7SniNHiISVVqaHCEzM5Onxo5hYcRSNm/bxYJv57Fv755cab6a9TkeHp5s37OfR8eMZcKLzwFwXZ06fBsewaYt2/nk0y946MH7nNbwxNjHWBy5jNjtuwmbP4+9e3JrmPXFZ3h4erBr7wHGPD6OF1+waqhSpQoTJr3C629Ncapsew3jHn+UiMjv2LpjD2Hz5ubX8PlneHp4snvfQcaMfYLxLzxrp2Eyb7w1tcQa3MEHV8fD7MiN9H/0w0LP39bVj6Y31KV1/5d57NW5vPfCPQB41qrG+NF3cOOIqXQbPoXxo+/Ao2ZVpzRoXdhpGDeGBRFLid66i/CwQjR4erJt937+M2YsE8dbNfj6t2bthmjWb4olPGIZ48Y8wsWLF69YH5598nHmL4xkQ8wOFobN49c8Gr758nM8PDzYvGMf/350LC+/lPMlsHGTpqz9ZQtrf9nCtPf+57QGd/DhqXFjCI9Yyuatu1hwmXjYvtuqISse/Pxbs25DNBs2xbIwYhljr/B4cLWG8oZI2W1XGlfVIPpKJ2ZzND5Nm9LEx4dKlSox6K4hREUuyZVmaWQEQ4ePBODOgYNZu2Y1xhgC2gXS0MsLAF8/f9LT0zl//rxTGpo2bZatYfDdQ4iKjMijYQnDR1g7mwGDBrN2zSqMMVSvXp3OXbpSpUoVZ/78bDZH59Zw15B78mmIioxgmE3DwEGDWbs6R0OXriXX4A4+uEM8bIg9xJ8p5wo9H9q9LXOiogGI3hnHtTWr0qBOLW7p7Muqjfs4nXqO5DNprNq4j1u7+DlcPmhdZLElS0MTq4aBdw1haVRuDcuiIhg6LEfDurVWDdWqVaNiRevqvvTz6U7/XOsOPsTGRNPEpymNbT4MGDyE75ZG5krz3dJI7hk2AoB+Awbxk82H0sIdfIjJEw+DCoiHpVER3GsXD2vLYTy4gwal/HI1DqL/ISL/JyK7RWSFiFQVkXYislFEdojIIhHxBBCRZiLyg4hsF5FYEWlqfyERaS8iW0XER0Sqi8jnIrLZdqy/Lc1PItLOLs8GEWnrjPCkxAQs3tdnf7ZYLCQlJuRKk5iYiLctTcWKFbm21rWcOnUqV5qIReEEBARSuXJlhzUkJiRg8c75Sd5i8SYxr4aEHJ0VK1ak1rX5NZSExMSE7L8xS0NCQl4fEvC+vgw1uIEP7hAPReFVz4P446ezPyecSMarngdedT2IP2F3/GQyXnU9nCpD6yLr+gVoyNMukhITc/tQ61r+tGmIid5Ex6A2dA4JYMZ7/8seRDmCO/iQlJiIl108eBWgIZ8P1+b4cOzoEXp2DqHvbTfxy4b1Dpdvvb47+JC7n/SyWEgsIB68C4mHzdGb6BDUhk4hAbxzRceD6zWUN0SkzLYrjatxEN0c+NAY4w8kA4OAKfzJUAAAIABJREFUr4BnjTFtgZ3ARFvab2xpA4DOQFLWRUSkM/Ax0N8YcxgYD6w2xrQHegJTRKQ68CkwypanBVDZGLPDXpCIjBaRGBGJmTlzZqHCC5opyRt0RaXZu2c3E8Y/z7sffFRoOZejNDSUFNVQehpKGg9FUdCfa4wp+DjOzQRqXZSOhpAOHdkUu5M16zcxfcpbpKen/+0awLU+1G/QkG17D7Pm5xgmvzmFhx8YwZnU1L9VQxau8iGrcbbv0JHo2J2sXb+JaVdpPJSWBqX8cjUOoo8YY7bZ9rcATQEPY8w627EvgRtFpCZgMcYsAjDGpBtjsn639gVmAn2NMcdsx24FnhORbcBaoApwAxAGhIrINcADwKy8gowxM40xIcaYkNGjRxcq3MviTUL8b9mfExISaNDQK1cai8VCvC3NxYsXSUlNoXbt2tb08fHce/cgPvlsFj5Nc02qFxuLtzcJ8fF2GuJpmFeDd47OixcvkpqSo6E0sFi8s//GLA1eXnl98Cb+tzLU4AY+uEM8FEXCiWS8G3jm6KnvQdLvKSScTMa7vt3xetbjzqB1kXX9AjTkaRdeFktuH1JT8MzjQ8tWvlSvXp09ux2/fcQdfPCyWEi0i4fEAjTk8yHF6kPlypWpfd11ALQLDKZxEx8OHtzvhAZ38CF3P5mYkJC9NCEnTW4Nqan528WVHw+u11CuKMP10FfgRPRVOYi2X9CUCRT2G/LlqjMJSAcC86QfZIxpZ9tuMMbstQ28VwL9gbuBOc4KDw5pz6GDB4k7coSMjAzCw+bTJ7RvrjS9Q/sx5+uvAFi8cAHde/REREhOTmbwgL68PPk1OnXu4qwEgkPac/DggWwNC76dT5/Qfnk09OXr2V8CsCh8Ad173FSqs34h7XNrCJs/L5+GPqH9+MamYWH4Arr3LF0N7uCDO8RDUSxdt5OhoR0A6NCmMaln0zj+Ryorf95Lr06t8KhZFY+aVenVqRUrf97rVBlaF1aCsjTEWTUsDJtP7z55NPTpx5xvcjTc2N2qIS7uSPaNY8eOHuXA/l9p1KixwxrcwYfA4PYcPnSQozYfFi2Yz+29Q3Olub13KPO+mQ3AkkXhdLP58Mfvv5OZmQlA3JHDHD50kMaNfRzW4A4+BIe057BdPIQXEg9z7eKhezmMB3fQoJRjjDFXzQY0BnbZfX4amARsB7rZjk0CZtj2NwJ32vYrA9WAHkAUUN+Wr4ft/OvAB4DYPgfalRMMJALzi6HTGGPMmfTMArcFiyNN02bNTZMmPmbCpMnmTHqmefb5F828BYvMmfRM83vyX+bOgYOMj09TExzS3uzYc8CcSc80L018xVSrVs20aRuQvR0+lpTv+vacy7hU4LYwIso0a9bcNPHxMRNfnmzOZVwyz73wovk2fLE5l3HJ/Jl6zgwYONj4NLVq2L3vYHbeGxo1Mp6enqZ69erGy2IxW7btKrAMe9Iu5N8WLVlqmjW3apj0yqsm7YIxz49/yYQtjDBpF4w5fSbNDBiUo2HPr4ey8+bVELt9d4FlFOXF3+2DK+Ihb0xUafdorm3+d5tN4slkk5Fx0cQf/9M8POlr89irc81jr87NTvPRvHXm0LGTZuf+BNN56FvZx0dPnG0OHj1pDh49aR6aMDvfte03rYv8dZGSlplvC1tk1dC4iY95cdJkk5KWaZ55/kUzN2yRSUnLNCdO/2X6Dxhkmvg0NUHB7c22PQdMSlqm+eSzWaaVr59p0zbAtG0XaL6ZH17g9VPSMt3Ohz/OXsi3zQ1fYnxsPrww4RXzx9kL5qlnx5vZ8xeaP85eMPF/nDH97rT6EBgcYmJ2/mr+OHvBfPH1fNOylZ/xb93GtAloZ77+dlGB1//j7AW38yE1LTPfZh8PL02abFJt8TAvbJFJTcs0J0//Ze60i4ftew6Y1DzxENAu0MyZH17g9VPdMB5crMHl45yy3mpe38r0fPfnMtuAGFf/jY5sWQO+qwIRaQxEGWNa2z4/DdQAFmNd31wNOAzcb4w5LSLNgU+AOsAF4C6sSzSeNsaEisgNwHdYl2nsAN7BunZagDhjTKhd2fuAccaY5UXINABnz18qjT/ZYWpUzvlxIu2C62Kj6jU5s4Tpjj9ZqVSoYncfjau8sPfBHWKiamDJnqXsLGlbP8jZ17oAIDXdNRpqVcnR4A4+nPrLNR3EddVzOgh38OGMi+KhppvFg4s1XIELEhyj1g2+JuTpz8vs+mvGdt5ijAkpswJKmavqjYXGmDigtd1n+4cF/7OA9AeAm/IcPox1zTPGuh7a3+7cwwWVKyJeWJfOrHBCtqIoiqIoiltwJa5dLiuuqkG0KxCRkcBrwJPGGNd8RVYURVEURSkFKugoOhsdRJcxxpivsD5CT1EURVEURSkn6CBaURRFURRFKRY6EZ3D1fiIO0VRFEVRFEUpEToTrSiKoiiKohSJ9aUoOhWdhc5EK4qiKIqiKIqD6Ey0oiiKoiiKUiwq6ER0NjoTrSiKoiiKoigOooNoRVEURVEUpViISJltxSz/dhH5VUQOishzhaS5W0T2iMhuEZlTqgbYocs53BT715i6CvvXHLuSKm4Qpe7ghTvEhP3rt12F1oUV+9dvuwp38MH+9duuwh18qKnx4DYalLJDRP4BfAjcAsQDm0VkiTFmj12a5sDzQBdjzGkRqVdWelzf+yiKoiiKoihXBC5+OEcH4KAx5rBVi8wD+gN77NI8BHxojDkNYIw5WVZi9CuboiiKoiiK4g7UEZEYu210nvMW4De7z/G2Y/a0AFqIyAYR2Sgit5eVWJ2JdlPOpF9ySbn2PwmmX3SJBCD3Eo5zGcYlGqpVyvm6neqi+rD/yd4dNKRdcE1d2C/hqBr4mEs02C9lOXveNXVh/1O1O7QLd/DBHWLSHfprd4gHd+ij3CEmyzMCCGU6Ff2HMSakCAl5yRv8FYHmQA/AG/hJRFobY5JLR2IOV0etK4qiKIqiKFc68cD1dp+9gcQC0kQYYy4YY44Av2IdVJc6OohWFEVRFEVRikUFKbutGGwGmotIExGpBNwDLMmTZjHQE0BE6mBd3nG49BzIQQfRiqIoiqIoittjjLkIPAZ8D+wFvjXG7BaRV0Skny3Z98ApEdkDrAH+a4w5VRZ6dE20oiiKoiiKUjQOPM+5rDDGLAOW5Tk2wW7fAE/atjJFZ6IVRVEURVEUxUF0JlpRFEVRFEUpFi6eiHYrdCZaURRFURRFueoQkYYlya8z0YqiKIqiKEqRCFChfE1FrxWRzs7eeKgz0YqiKIqiKMrVyLtAjIikiMgZ25Zq284AiMj6wjLrTLSiKIqiKIpSLMrTRLQx5n/A/0SkNjAMSAW+xvoWxCq2NF0Ly68z0VcYK1csJ6itLwH+LZg+5a1858+fP8+o4fcQ4N+Cnt06cfRoHAAxm6Pp0jGILh2D6NwhkMiIRU5rWPH9ctr6t8S/VTOmvP1mgRqGDx2Cf6tmdOvckaNxVg2nTp3itl49qeNRg3GPl+zVzSu+X0671q1o49ucqVMK1jBy2D208W1O967/zKXhjltvol7tmjw5tmQaflixnOC2vrQroi7a+bfgJru62LI5mq4dg+jaMYguJawLd9Cw4vvlBPi3orVvc6YWEg8jht5Da9/m3Ngld13cfstN1PWsyRMlqIuPJw7j6Ko3iAl7odA0054ZzK6IiUTPf552rbyzjw/r25GdERPYGTGBYX07Oq0BrG0zsI0vAX4tmFZIXdw3/B4C/Gxt0+bD6h9W0q1TezoGB9CtU3vWrVnttAZ3aBfu4oMrYxLcp692dTy4Qx/lDjGpuD1RQDPgdqyz09XI/xKXfDg0iBaRs05J+5sQkcdFZK+IfCMio0TkAxdqKXWvMjMzeWrcGMIjlrJ56y4WhM1j3949udJ8NetzPDw92b57P4+OGcvE8c8B4OffmnUbotmwKZaFEcsYO+YRLl686JSGcY8/SkTkd2zdsYeweXPZuye3hlmff4anhye79x1kzNgnGP/CswBUqVKFCZMm88ZbU510IEfDk2MfY9GSZWzZvpuw+fPYm8eHL7/4DA8PD3buPcBjj4/jJZsPVapU4aWJr/D6m1NKrOGpcWNYELGU6K27CL9MXWzbvZ//2NWFr39r1m6IZv2mWMIjljGuBHXhDhqeGPsYiyOXEZtVF3nj4YvP8PD0YNfeA4x5fBwvvpBTFxMmvcLrb5WsLmZHbqT/ox8Wev62rn40vaEurfu/zGOvzuW9F+4BwLNWNcaPvoMbR0yl2/ApjB99Bx41qzqlITMzk6fGjmFhxFI2b9vFgm8LqQsPT7bvsbbNCS9afbiuTh2+DY9g05btfPLpFzz04H1Oa3CLduEGPrg6Jt2lr3aLeHCDPsrVMVneENuzosticyEVjTFjsc5GdzPGnAU8ispU3mai/wP0NsYMc7WQsiBmczQ+TZvSpIkPlSpVYtBdQ1galfuL0tKoCO4dNhKAOwcOZu3a1RhjqFatGhUrWlfvpJ9PdzpYN0dH07RpM5r4WDXcNeQeoiIjcqWJioxg2AhrZzNw0GDWrl6FMYbq1avTpWtXqlSp4lTZWVh9yNEw+O4hBWhYkq1hwMDBrF2To6Fzl65ULqGGLXnqYmABdbEsKoKhdnWxrpTrwh00xGzOHQ8F1cXSyCUMz6qLQfnroqTxsCH2EH+mnCv0fGj3tsyJigYgemcc19asSoM6tbilsy+rNu7jdOo5ks+ksWrjPm7t4ueUhuy26ZPTNqMi87TNyAiGDrdrm2usdRHQLpCGXl4A+Pr5k56ezvnz553U4Np24S4+uDom3aGvdod4cJc+ytUxqVwRbBORnsaYS8AlEbkOuKaoTE4PokXkvyKyWUR2iMjLdscXi8gWEdktIqPtjj8oIvtFZK2I/F/WLLGIzBKRwXbpzhajjCdFZJdtG2c79jHgAywRkSfyaK0rIuG2a20WkS52x1eKSKyIfCIiR23vWUdEhotItIhss537R5Y+EXlNRLaLyEYRqW873kREfrFdf7Jd2Q1F5EfbdXaJSDdnPU9KTMDb+/rsz14WC4kJCXnSJGanqVixIrVqXcufp6w3nW6O3kSHoDZ0Cgngnff+l91BOUJiHg0WizcJeTQkJibgfb2dhmuv5dSp0nvjpvX6OT/JWyzeJBWkIY8Ppa3BkssHSz4NSYmJ2Wny1kVM9CY6BrWhc0gAM0pQFy7XkJCAxTt3XSQmJhSQpuzioSi86nkQf/x09ueEE8l41fPAq64H8Sfsjp9MxqtukRMPBZJUUF3k9SFP27y2gJiMWBROQEAglStXdliDO7QLt/DBDWLSbfpq7SfdIibLEyJlu7mQLsAqETkCtAA2Ai8VlcmpQbSI3Ao0BzoA7YBgEbnRdvoBY0wwEAI8LiLXiYiXTcw/gVuAVs6WISLBwP1AR9v1HhKRQGPMv4FEoKcxZkaey70LzDDGtAcGAZ/ajk8EVhtjgoBFwA22sn2BIUAXY0w7IBPrFD9AdWCjMSYA+BF4yK6Mj2xlHLcreyjwve06AcC2Av7W0SISIyIxM2fOLNQT65ss8+UtMk1WZLbv0JHo2J2sXb+JaVPeIj09vdCySltDaf5MU6zru4GGy6UJ6dCRTbE7WbN+E9NdVBfuoOHvoKCijDEFH6eA9lMMSsOHvXt2M2H887z7wUdlpsHd2wX8PT64Qx/lDn21u8eDu/RRJY1J5YrgDqAx0B1oYoxpbowp3TXRdtxq27YCsVgHxc1t5x4Xke1YR/HXkzMQXmeM+dMYcwEIK0EZXYFFxpi/bGtWFgJFze72Aj4QkW1YF4rXEpGatmvNAzDGLAeypqVuBoKBzbY8N2Od5QbIwLoAHWALVtPB+i1mrm1/tl3Zm4H7RWQS0MYYcyavOGPMTGNMiDEmZPTo0XlPZ+Nl8SY+/rfsz4kJCdk/NeWksWSnuXjxIqmpKdSuXTtXmpatfKlevTp7du8qtKzCsOTRkJAQj1ceDRaLN/G/2WlIya+hJFivH59LQ4N8PngX6UNJNSTk8iGhAA2W7DRZGjxLuS5crsHbm4T43HXRsKFXAWnKLh6KIuFEMt4NPHP01Pcg6fcUEk4m413f7ng963Fn8CqoLvL6kKdtptjFZEJ8PPfePYhPPpuFT9OmTmlwh3bhFj64QUy6TV+t/aRbxGR5o4JImW2uwhhzDKgB9AfuFhH/4uRzdhAtwBvGmHa2rZkx5jMR6YF1wNrJNlO7FesjQi7nzMUsHWL96lfpcmUUca3CqGDTlHUti20wW9i1BPjSLn1LY8wk27kLJudraya5HxOY7+usMeZH4EYgAZgtIiOd0A9AcEh7Dh88SFzcETIyMggPm0/vPn1zpendpx9zv/kKgMULF9C9e09EhLi4I9k3ZRw7epQD+3+lUaPGDmsIad+egwcPEHfEqiFs/jz6hPbLlaZPaD++mf0lAAvDF9C9502lOrsRHNKeQ3YaFnw7vwANfbM1LFq4gO49SldDUEh7DtnVxcJC6mKOXV3cWMp14Q4agkNyx0NBddE7tC9fZ9VFeOnXRVEsXbeToaEdAOjQpjGpZ9M4/kcqK3/eS69OrfCoWRWPmlXp1akVK3/e61QZwVl1cSSnbfYJzVMXof2Y87Vd2+xhrYvk5GQGD+jLy5Nfo1PnLk7/ne7QLtzFB1fHpDv01e4QD+7SR7k6JhX3R0RGYJ2UrQfUBxYUa7xmjCn2Bpy1/XsrsAmoYftssRXcH4i0HWsFpAM9bOfjAE+sg851wAe2dC8Cb9n277RKumwZQcAOrI8fqQ7sAgJtaeKAOrb9UXZlzAH+a/d3tLP9+yHwrF15BqgD+AEHgHq2c7WBRvYe2PYHA7Ns+0uA4bb9R+y8aoT1rk+AccA7RfhsjDEmNS2zwC1sUaRp2qy5adzEx7w0abJJTcs0zzz/opkXtsikpmWak6f/MncOGGSa+DQ1QcHtzfY9B0xqWqb55LNZppWvn2nTNsAEtAs0c+aHF3h9e9IuFLwtWrLUNGve3DTx8TGTXnnVpF0w5vnxL5mwhREm7YIxp8+kmQGDBhufpk1NcEh7s+fXQ9l5b2jUyHh6eprq1asbL4vFxG7fXWAZ9vx1/lK+LXxxlGnWrLlp0sTHTHx5svnr/CXz3Asvmm8XLDZ/nb9kTqWcMwMGDjY+PlYNu/YezM6bV0PMtl0FlmFPSlpmvs2+Ll6cNNmk2Opibtgik5KWaU6c/sv0t6uLbXsOmJQ8ddG2XaD5Zn54gddPyVMf7qDhXMalfNvCCFtd+Fjr4lyGrS7CF5tzGZfMn6m2urDFw+59B7Pz5q2LLdt2FViGPVXaPZprm//dZpN4MtlkZFw08cf/NA9P+to89upc89irc7PTfDRvnTl07KTZuT/BdB76Vvbx0RNnm4NHT5qDR0+ahybMzndt+82eM+mZ+bYFi6110aSJj5kwabI5k55pnn3+RTNvwSJzJj3T/J78l7lz4KDsmNyx54A5k55pXpr4iqlWrZpp0zYgezt8LKnAMtytXbiDD+4Qk67oq/P21+4QD+7QR7k4Jh0aU12Jm2djXzNkVmyZbUCMK/4uYCdQ2+6zJ7C9qHxiS1wsROSsMaaGbX8s8C/bqbPAcCAeWGwb8P4K1AUmGWPW2m4yfBrruuW9wJ/GmPG2G/MisM4WrwLGXK4MY8whEXkSeMB2/FNjzDu29HFAiDHmDxEZZdt/zHaz4IeAL9ZB/I/GmH+LSD2sSzA8sQ7sh2BdC3NeRIYAz9t0XQAeNcZszOPBYCDUGDNKRJpgHaxXBMKBF40xNUTkPuC/tmucBUYaY45cxmYDcCb9UjFqpPSpWSXnx4l0x58mVGpUsZvfP5fh3DrVklKtUs6MTKqL6qOWXX24g4a0C66pi6rX5NRF1cCSPbfWWdK25jwx8+x519RFjco5deEO7cIdfHCHmHSH/tod4sEd+igXx2Q5eg1JwdRu4mdue3lOmV1/3n2BW4wxIWVWQCGIyFZjTGBRx/Llc2QQXRJEpIYx5qyIVMR6E9/nxhjnn55eOpoqA5nGmIsi0gnrjYHtXKkJHUQDOojOQgfRVnQQbUUH0VZ0EG1FB9FWdBD991GOB9GfA08ZY07bPnsA7xpjLvtw8L/ztd+TRKQX1jXSK7DOWLuaG4BvRaQC1hsGHyoivaIoiqIoylWJABXK4VcFY8wDeT4nA0W+XedvG0QbY57+u8oqLsaYA8Blp+oVRVEURVGU8ottee87WJ/GJsBq4HFjzMnL5StvbyxUFEVRFEVRyoIyfOX33/nUpgKYifVhFt5Y7+v7Gfi4qEw6iFYURVEURVGuZnyMMe8aYy7YtvfIeT9Iofyda6IVRVEURVGUKxgXv567rLgoIhWMMZcg+70lRd6tqzPRiqIoiqIoytXMI1jfPZJFDduxy6Iz0YqiKIqiKEqxcPHa5bJiK3C7iKQYY9YZ61utNxaVSQfRiqIoiqIoytXMYqwvxfMUkdVYn9TxhTFmwOUy6SBaURRFURRFKZLy+pxowMsY0872Er5NxphJIuJdVCYdRLsp9m+ichVV3CQ67N+I5SpquUF9uIMG+7e0uQr7Nwe6Cvs35rkKd2gX7uCDO8SkO/TX7hAP7tBHuUNMKlckv4pIK2PMPtvj9qpgfTngZXGTYZKiKIqiKIri7pTTNdF1ga0ishFoBGwG3i0qkw6iFUVRFEVRlKuZSXb76cABY8zpojLpINpNSTh93iXlWjwrZ++fyyjyEYllhv1Pk3+5SEd1N9Nw7FS6SzTccF3OL1pnz19yiQb7n2jdQUPVwMdcosF+KUtyWqZLNHhU/Uf2/lEXxWQju5hMPuciH6rl+BD3h2t8aFwnx4fUdNe0C/slHId/T3OJBp+6VbP33aGfLO+Ux3loY8yPzuTTQbSiKIqiKIpy1SIiqVi/Hxisa6ErAn8ZY2peLp8OohVFURRFUZQiEYEK5XBNtDGmVta+7W2FA4G2ReXT21gVRVEURVEUBTBWwoFbi0qrM9GKoiiKoihKsSiHE9EA2J4R3cr2cR/wlIhUMMYUesOBDqIVRVEURVGUqxYRuRWYCcTZDvkAoy83gAYdRCuKoiiKoijFpJw+J/pdoKcx5giAiPgAS4Hll8uka6IVRVEURVGUq5nfswbQAMaYw8DvRWXSmWhFURRFURSlWJTPiWjWi8gcYK7t83CsbzDsDmCMWVdQJh1EK4qiKIqiKFczrW3/PmR3rAnwFNbnR+sgWlEURVEURXEOQcrrc6L7OZNP10RfYaz5YQU3dmhDl2A/PnhnSr7zG3/+idt7/JNGdasTFbEw17mwubPpGuJP1xB/wubOdlrDiu+X0651K9r4NmfqlDfznT9//jwjh91DG9/mdO/6T47GxQFw6tQp7rj1JurVrsmTY0v22uSV3y8nsHUr2vo2Z9plNLT1bU6PAjTULyca1q5aQc+ObbmxvT//ezd/PGz6eT29e3bCp34Nli7JiYfdO7dz5+3d6dUliNtubE/kojCnNaxcsZzANr4E+LVg2pS38p0/f/489w2/hwC/FvTs1inbh9U/rKRbp/Z0DA6gW6f2rFuz+orV8PHEYRxd9QYxYS8UmmbaM4PZFTGR6PnP066Vd/bxYX07sjNiAjsjJjCsb0enys/ihxXLaR/gR1DrlsyYWrAPD4y4l6DWLel1YyeOHY3Ldf63347hXfda3n9nmtMa1q5awU0d29L9MjHZp2cnmtavwbI8MTng9u7c0iWI20sYkz+sWE77dn4EtbmMDyPvJahNS3p1L8SHeiXzYd2qFdz0z7b0aO/PR4X4EHpTJ5o1yO3Dnp3bGXhHd27tGsTt3dsTVUIfgtv60s6/BdMLaRejht9DO/8W3NStE0dtPmzZHE3XjkF07RhElw6BREYsclrDutUr6NUpgJ4dWvPxe1PznY/+ZT39bu5Ei4Y1+S4yp5yE347Rr1dnQnt25PZuwcyZ9X9Oa3CHflIpn+gguoSIyL9FZOTfUVZmZiYvPjOW2d9GsOaXbUSEf8v+fXtzpbF4X8/0D/+POwcPyXX89Ok/mfH2a0Su/ImoH9Yz4+3XSE4+7ZSGJ8c+xqIly9iyfTdh8+exd++eXGm+/OIzPDw82Ln3AI89Po6Xxj8HQJUqVXhp4iu8/mb+TswZDQuXLCOmCA079h7g0QI0vFZONLz07Di+nB/BDxu2smRhGPt/zR0PXt7XM+2DmfQflDseqlatxowPP+OHDbF8NT+Cl8c/Q0pKslManho7hoURS9m8bRcLvp3Hvjw+fDXrczw8PNm+Zz+PjhnLhBetPlxXpw7fhkewact2Pvn0Cx568D6Hy3cXDbMjN9L/0Q8LPX9bVz+a3lCX1v1f5rFX5/LeC/cA4FmrGuNH38GNI6bSbfgUxo++A4+aVZ3SkJmZyX+feJywxVFsjN1JeNj8fD7MnvU513p4ErvrVx4ZM45JLz6f6/z4Z56i1623O1V+loYJz45j1vwIVtpi8kABMTm1kJic/uFnrNwQy5fzI3ilBDH53ycfJ2xRFBu3FOLDlzYfdv7KI4+NY9JLeXx4thR8eG4cs+ZFsGLDVpYsyu+Dxft6prw/k355fKhSrRrTPviMFettPrz4DKnOts1xY1gQsZTorbsIDyukXXh6sm33fv4zZiwTbX2Ur39r1m6IZv2mWMIjljFuzCNcvHjRKQ2Tnn2Cz+cu5vv1sUQWFA+W63n7vZn0HZjbh7r1GxC2dA1RazYR/t06Pn5/GieOJzqlwdX9ZLlCrGuiy2q70tBBdAkxxnxsjPnq7yhr25bNNG7SlEaNfahUqRL9B97Fiu8ic6W5/obG+Pm3oUKF3FW7bvVKuvW4GU/P2nh4eNKtx82sXbXCYQ0xm6PxadqMJj5WDYPvHkJUZESuNFGRSxg2wjoYGTBwMGvXrMIYQ/Xq1encpSuVq1RxuNyiNCzNo2FpERqqlAMN22Kt8XBD4yZUqlSJvgPuYuV3UbnSXH9DI3wkt65oAAAgAElEQVQLiAefZs1p0rQZAPUbelGnbl3+/OMPhzVYfWia7cOgu4YQFbkkV5qlkREMHW79nnnnwMGsXbMaYwwB7QJp6OUFgK+fP+np6Zw/f/6K1LAh9hB/ppwr9Hxo97bMiYoGIHpnHNfWrEqDOrW4pbMvqzbu43TqOZLPpLFq4z5u7eLncPkAW2KsPjRuYvVh4OC7WRaV24fvli7h3uEjAOg/YBDr1lp9AFi6JIJGTZrQyte58sEak43yxOSKQmJSiojJ65yMyS0x0fj4FOFD1BLuHVaID5ERNGpcMh+2x26mUWM7H+7M3za9s9qm5PGhqZ0PDaw+nHLGh6x2keXDXUNYmseHZVERDB2W0y6yfKhWrRoVK1pXe6afT3f6kWbbY2NyxUPogMH8sDy/D60K6KMqVapE5cqVAcjIOM+lS5d9XG+huEM/qZRfrqpBtIg0FpF9IvKpiOwSkW9EpJeIbBCRAyLSQURqi8hiEdkhIhtFpK2IVBCROBHxsLvWQRGpLyKTRORp27GmIrJcRLaIyE8i0sp2/C5bedtF5Edn9SclJdLQkvMzcAMvC0lJxftmfjwxES+7vA29LBxPdPxbfWJiAt7X51zHYvEmKSEhfxrv6wGoWLEitWpdy6lTpxwuyxENiUVouLYcajielEhDrzx1mpRwmRwFsy12MxkZGTRq4uNw3qTEBCy2vxHAYrGQlJjXh8QifYhYFE5AQGD2f5pXmoai8KrnQfzxnF9+Ek4k41XPA6+6HsSfsDt+Mhmvuh4FXaJIkhITsVhyfPCyeJOUp40n2qXJapt/njrFX3/9xbvT3+bZFyY4VXYWJ5IS8coTkyecjMkLTsdkYq548LJ45+snE+3SlIUPxwvoq51tm876kFhQu8jTRyUV4gNATPQmOga1oXNIADPe+1/2oNoRThxPpKHFkv25QUMLJ4r5fxZAYkI8vbt3oGtgCx5+7EnqN/ByWIM79JPlDREps82Ff9NzItLEtn+viLwnIkV+k76qBtE2mmF9qHZbrK93HAp0BZ4GXgBeBrYaY9raPn9le2NNBDAAQEQ6AnHGmBN5rj0TGGOMCbZd73+24xOA24wxAUC+xesiMlpEYkQkZubMmYUrt82U5MlbrD/alCCvw9cppbJKoqG0/l531lAaPp84nsQTjzzI1Pc/yTcLUzwJJfdh757dTBj/PO9+8JHD5buLhqIoqFqMMQUfJ7/W4lCStvnmq5N4ZMw4atSo4VTZDmkogpPHk3jykQeZUoYxSQEeZ/vwmBv58J8HmfKea9pmSIeObIrdyZr1m5g+5S3S09NLRYMjv9l7WbxZti6a1Zt2svDbb/jjZN7/coslogAJf28/Wd6oUIabCxlujDliG0iPB34Bvigq09UYDUeMMTttA+PdwCpjbek7gcZYB9SzAYwxq4HrRORaYD6QtWDqHtvnbESkBtAZCBORbcAnQEPb6Q3ALBF5CPhHXkHGmJnGmBBjTMjo0aMLFd7Qy0JSQnz25+OJCTRo0LDQ9LnyWiwk2uVNSkygfsPi5bXHYvEm/rec6yQkxNPAK/fsgJfFm/j43wC4ePEiqakp1K5d2+GyHNHQMI8GSx4NKeVQQwMvC0mJeerUgZmaM2dSuf/egTz9wkSCQpy7oc3L4k2C7W8ESEhIoEHDvD5YCvUhIT6ee+8exCefzcKnadMrVkNRJJxIxruBZ46e+h4k/Z5CwslkvOvbHa9nPe4MXhYLCQk5PiQmxNMgTxu3T5PVNj1r1yZmczQTxz9H21ZN+ejD95g+5U1mflT4Gu/CaOBlITFPTNZzIiafKlFMWnLFQ2JCfL5+0ssrJ00uH2Kimfjic7T1tfkw9U1mfuy4DwX11Y62zQeGDuSp5ycS6KQPloLaRb6+umAf7GnZypfq1auzZ/cuhzU0aJh79vt4UgL1i/l/lj31G3jRvKUvmzf97LgGN+gnlSuCC7Z/Q4EvjTFzgWuKynQ1DqLtFzxesvt8Cesj/wr6imqwfitpJiJ1gTuBhXnSVACSjTHt7DZfAGPMv4EXgeuBbSJynTPCA4JCOHL4IMeOHiEjI4OIhWHccntosfJ2v+kWflzzA8nJp0lOPs2Pa36g+023OKwhOKQ9hw4eIO6IVcOCb+fTJzT35Hqf0L58M/tLABYtXED3HjeV6gxsQRp659HQ+yrQEBCYFQ9xZGRkELkojFtu71OsvBkZGYweOYRBQ4bSp/8gpzVYfTiY7UN42Hz6hPbNlaZ3aD/mfG29bWDxwgV079ETESE5OZnBA/ry8uTX6NS5yxWtoSiWrtvJ0NAOAHRo05jUs2kc/yOVlT/vpVenVnjUrIpHzar06tSKlT/vLeJqBRMUbPXhaJzVh4ULvuWOPrl9uL13X+Z+bX0yT8SicG7sbvXhux/WsWPfIXbsO8Qjjz7Ok/99jtGPPOqwhoDAEOIOH+Q3J2Py4ZFDGFjCmAwKbs+hQ0X40Kcvc78pwIeV69ix9xA79tp8ePo5Rv/bcR/aBoYQd8TOh8Vh9HLAh3/fN4SBd5fQh6x2keVD2Hx65/Ghd59+zPkmp11k+RAXdyT7RsJjR49yYP+vNGrU2GENbQODc8VD1KIF3Hxb8XxISownPS0NgJTk02yJ3ohP0+YOa3CHfrI8IZTP5RxAkojMAMYBi0SkIsUYI+tzovPzIzAMmCwiPYA/jDGpACKyCJgO7DXG5FpQaYxJFZEjInKXMSZMrNHQ1hizXUSaGmM2AZtEpC/WwbTDi2MrVqzI5LffYdjgvlzKzGTIsPto6evHlNdfJiAwmFvvCGVbbAz/GjGElJTTrFy+jOlvTmb1L1vx9KzN2Kefp8/N1oHCuP++gKen47OiFStWZNo779M/9HYyMzMZOep+/Pz8mfzyBIKCQujTtx/33f8g/7p/JG18m+NZuzZfzp6bnd+3RRPOpKZaO7PICJYs/R5fB2/gydJwp03DiMtoaGvTMMtOg5+dhqjICCKuYA2vvDmDkXf1JfNSJncPvY8WrfyY9sYrtG0XxC13hLI9NobR9w0hJSWZH75fxoy3XuWHDbFELQ4n+pf1JJ/+kwXzvgZg6vsz8W8T4LCGqe+8x5197+BSZiYj7rsfXz9/Xn15IoHBwfQJ7cfIUQ/w0AMjCfBrgWft2nzx1RwAZn70IYcPHeStN17jrTdeAyAiajl169W74jR8+cYougU3p45HDQ4un8zkj5dxTUXrj06fLljP8vW7ua2rP7uXTORc+gUenmT1/HTqOd74v+Ws//oZAF6fuZzTqYXfoFiUD29Pf5dB/XqTmZnJsJGj8PXz5/VXJtIuKITeoX0ZMeoB/v3gfQS1bomnpyef2XwoLQqLyelvvEIbu5h82BaTq2wxuXJDLEttMXm6FGLy7WnvMqh/Hh8m23zo05cR9z3Av/91H0FtbD58Wfo+vPzGDEbe3ZdLlzK5616bD2/afLg9lO1bY/h3lg8rlvHO26+yYn0sSyNsPvyZ2wc/Z9rmjPcY2PcOMjMzGW5rF6+9MpHAoGB6h/ZjxKgHGP3ASNr5t8DTszafz7b6sPHn9cyY+jbXXHMNUqEC0979gOvq1HHKh4lvTmfUkH5cysxk8NCRtGjlxwybD71uD2XH1hgeGXUPKSnJrF6xjHfffpXlP23h0P5feX3i84gIxhj+9Z+xtPRrXXShBWhwdT+pXBEMBUYCDxpjDopIZaDIb05S4JqlcoqINAaijDGtbZ9n2T4vyDoH3Ih1HUwT4Bww2hizw5Y+BNgMjDLGfGk7Ngk4a4yZaltL8xHWZRzXAPOMMa+IyEKgOdYvcauAcaZw4w1AwmnHnxBQGlg8c26qOpfhutioVinnG+lfLtJR3c00HDvl+JrE0uCG63KeInL2vHN3yJeUGpVzJgTcQUPVwJI939tZ0rZ+kL2fnJbpEg0eVXNWpB11UUw2sovJ5HMu8qFajg9xf7jGh8Z1cnxITXdNu6hVJaddHP49zSUafOrmPBbSxf3kFfiQNseo36y1uXfagjK7/rt3+m4xxoSUWQGlzFU1E22MiSPn1Y4YY0YVcq5/IfljyNNIjDGT7PaPAPkeLmqMGei0aEVRFEVRFKXMEJFUrOM7+xkzMcbUFJH1xpiuBeW7qgbRiqIoiqIoivNUKIfz7caYWpc5V+AAGnQQrSiKoiiKolzFiEj3go4bY9ZdLp8OohVFURRFUZQisb6euxxORcNTdvuVgfbADqDH5TLpIFpRFEVRFEW5ajHG5HpGrYjUA94vKp8OohVFURRFUZRiUR7XRBdAMlDkswx1EK0oiqIoiqJctYjIanKevlYBaIrt7dWXQwfRiqIoiqIoSrEon0uiedpuvzJwK3CgqEw6iFYURVEURVGuWowxsXkO/SIim4DLvs5UB9GKoiiKoihKkQhQoRxORed5xF0FoA1QpZDk2eggWlEURVEURbmasX/E3UUgDrizqExijCkqjfL3ohWiKIqiKFce5W+KNg8Nm7c297+7sMyu/0aflluMMSFlVkApozPRiqIoiqIoylWLiEws6Lgx5mURedgY80lB53UQrSiKoiiKohSLcrgkGuDMZc79VdgJHUS7Kanpl1xSbq0qFbL30y64bmVJ1WtyWqmrdLibhjMuiomadjHhDnF5LsM1dVGtUk5dJKdlukSDR9V/ZO9XDXzMJRrStn6QvZ/iIh+utfPhyB/pLtHQpE7OPUfu0DZPn3NNXXhWy6kLd+gf3KEulCsPY8z0y5z7urBzOohWFEVRFEVRikREyuvTOT7nMmvajTH3F3RcB9GKoiiKoijK1UyUM5l0EK0oiqIoiqIUi3I4EY0xZqGIXAukG2POFzefLuJRFEVRFEVRrlpEZDKwDzgqIoNExENEXioqnw6iFUVRFEVRlGJRQcpucyH3AI2BIOC/xphkILSoTDqIVhRFURRFUa5mjgDXGGMSgWq2Y1WLyqRrohVFURRFUZQiESiXT+cAfgN+EZEFgKeIfAX8XFQmHUQriqIoiqIoVzNHbRvA+8BuY8zSojLpIFpRFEVRFEUpFv/P3nmHRXX0bfgexd6AWGAXFTQoVaoFu1FjATSWxBgVSxITE1tMM/GNGjVq7JryRlONmsSAhabYYm8IGMUuKioLamIETCzE9Xx/7AK7FGEX+Fh95/bay1PmnHl45jdzZufMOfskDkQrijLDnOPknOjHjO1bY/Br4Yq3ezMWzf803/779+8zYuiLeLs345kOAVy+nAxA/JFY2rf2pX1rX9q18iEyfIPZGrZuicHL3QUPV2cWzJtboIZhL72Ih6szHdu14XKyTsPNmzfp2f0Z6tnU4q0JJfu1NalBx7atMfi2cMWriHjwcm9GF4N4iDsSS7vWvrRr7UvbEsaDpcSkt4cLnq7OLJhfcFmEDHkRT1dnOrU3Lotezz5DfdtaTCphWWzfGkNLLzd8PZqzeEHBPowaNhhfj+Z06xjAFb0P2Vy9egWHenX4bMlCs/L/atoQLu+YQ1zoh4WmWfjeQE6ETyN27Qd4uzjkbB8S3JrE8Kkkhk9lSHBrs/LPZvvWGPy93PB5hA8jhw3Gx6M5XTvmxkM2V69eQV0CHwB279hK1zYt6NLSnf8unZ9vf+yBfQQ/E4CzXU02RazP2a65epk+XdsS2Lk1Pdr7suaHr83WYCl1s5W3G36ezVlSWEyGDMbPszndOuXG5JXLyaieqknHNn50bOPHpPFvlEhDebcPllAWEstGCPGbEGJn3k9Rx8lOdCkhhNglhPAvyzy0Wi1vTxxHWHg0sUdPsC70F86cPmWU5scfvsPaxobfT57jjXETmDZlMgCu7h7s2h/LvsMJrAvfxMRxY3jw4IFZGt6aMJaNkZtIOHaS0LW/cPqUsYYfvv8WaxtrTpw+z7jxE/nPhzoNVatWZer0Gcz+NP9FTWowT8PbE8exLjyaI0dPEPaIeDh28hxvGsSDm7sHu/fHsv9wAuvDNzGhBPFgCTE5acJYNkRsIj67LPJoWPn9t1hbW5N4+jxjx0/koym5ZfHRtBnMnlvysnj3rfGEboziUEIi60LX5vNh1Q/fUcfahoQTZxkzbiLT//OB0f4p771Nt2d7mq1hVeQh+r75RaH7e7R3o2mjenj0/Zixs35m2YcvAmBTuzpTRvei47AFdBg6nymje2Fdq8jnaQpEq9XyzlvjCdsYxeGERMIK8cHa2oajJ87yRgE+fFhCH7RaLdMmT+T7X8LZsv8okRtCOX/2tFEalUND5n22gj4DBhltr9fAntBNO4nedZj1MXv4atkCrl9LNUuDJdTN9yaN59cNURyMLzgmV6/UlUV84lnGjJ3I9I9yy8LRqSl7DsWz51A8i5Z9aXL+2RosoX0o77J4oijDN3OU89s53gHe1n+mAicpxpxo2Yl+jIg/EkuTpk1xcmpC5cqV6f/8IKKjIozSbIoK56UhIQA8138gu3f9hqIoVK9eHSsr3eyde/fvIcy8HxN3JJamTZ/GqYlOw8AXBhEVGW6UJjoygqHDhgPQb8BAdu3cgaIo1KhRg7bt2lO1alWz8pYa8mswjIcBBcRDdFQ4gw3iYVcpx4OlxGSTIsoiKjKCIdll0T9/WVQpYVnEx+l8cMz2YeALbMrjw+boCAYPHQZA334DcnwAiI4Ip7GTEy6ubmZr2J9wgb8y7hS6P6hTC36KigUgNjGZOrWqYVe3Nt3burLj0BluZd4h/fZddhw6w7PtzNOR14cBBfiw6RE+REWE41hCH44lHKGxY1MaOTpRuXJlgp57nm2bjX+MzKFRY1zdPakgjC+BlStXpkqVKgBkZd3n4cOHZmmwiLoZF4tTE+OY3Jyvbkbw4pDcsthjUBalgeW0D+VbFk8aogz/lReKoiQYfPYqijIWaFvUcbITbSJCCEchxGkhxNdCiJNCiK1CiOxhm6FCiANCiBNCiFb69K30247q/29ubt6pqRrUDg1z1tVqNWkajVGatNTUnDRWVlbUrl2Hv27eBCAu9jCtfT1p6+/F4mVf5jQOJmnQaFA75N4GVqsdSE3VFJDGQEOdOtzUaygNpAYdaakaHAziQaVWk1pAPDgUEg9HYg/TyteTAH8vlpgbD5YQk6kaHBoal0VeDakGXmVrKN2ySEWtNiwLB9JSjUcwUw3SGPrwzz//sHTRPN7/cGqp6SkIVX1rUq7dylnXXE9HVd8aVT1rUq4bbL+RjqqetVl5FMeHtDL24VpaKvbq3HiwV6m5nqZ5xBHGpGqu0qtTS9p5O/PauLdpYKcyWYMl1E3DeqfT4EBaWgFlUYiGK5cv0SnAn6AeXTi4f6/J+YNltA+WUBaSx5YIIUTFRyWQnWjzcAa+UBTFHUgHBui311AUpS3wBvCdftsZoKOiKD7obhHMznsyIcRoIUScECJuxYoVhWZa0AhB3m/Gj0rj36o1hxMS2bnvMIvmf8q9e/eK+DNLX0NpIDWUTEP2UyEtW7UmNiGRXfsOs7Cc4uH/KyaxgLIoTMPcWdMZM24iNWvWLDU9BVHQn6soSsHbMW808lHx9qg0QgjmzJrOG6XhQwnLWqVuyObdR9gZe4L1a1fzx43rZkh4TOpmAeUshKCBnT3Hz1xi98E4Zs1dwKsjh5GZmVk2GiygfSjrsniS0L3i7smbziGEmJb3A9RWFEUrhHitsONkJ9o8LimK8rt+OR7dr9wA/AygKMoeoLYQwhqoA4QKIU4AiwH3vCdTFGWFoij+iqL4jx49utBM1WoHNClXc9Y1Gg12KuNREpVanZPmwYMHZGZmYGNra5SmuYsrNWrU4NTJE8X/i7M1ODigSUkx0JCCvb2qgDQGGjIysM2joSRIDTpUagdSDOIhVaPBvoB4SMkTD3k1lCgeLCEm1Q6kXDUui/waHIr0oSSo1Go0GsOySMHO3r7QNIY+xB2JZdqUybRwacp/v1jGovlzWfHfwuc2m4vmejoOdjY56+oG1qT9kYHmRjoODQy219dtN4eCfLAvpg/xR2KZOmUynnofFprpg51KTZomNx7SUjXUN2M0uYGdCufmbhw5tN/kYy2hbhrWO52GFOzs8pSFquC6WaVKFWyfegoAbx8/nJo04ULSOZM1WEL7YAllIXksuF3A52/9vn8KO0h2os3jvsGyltxXBeb9OqsAM4GdiqJ4AMGA2ZMvff1bciEpieTkS2RlZbE+dC29A4ON0vQO7MNPa34EYOP6MDp26oIQguTkSzkPRFy5fJnz587SuLGjyRr8/FuSlHSe5Es6DWG/riUwqI+xhqBgVq9aCcCGdWF06vxMqY76SQ25Gi4axMO6QuLhZ4N46FTK8WApMXmhiLIIDApmTXZZrC/9svD10/lwOduHsF/plceHnr2D+Xn1KgDCN6zL8WHz9t0cP3OB42cuMObN8Ux6dzKjx7xZatqyid6dyEtBrQBo5elI5t93ufZnJtsOnKZbgAvWtaphXasa3QJc2HbgdBFnK5hsH3JisgAfej3Ch8QzF0jU+/C2mT608PEn+VISVy8nk5WVRdTGULr1DCzWsWmpKdy7exeAjPRbxMcepMnTzUzWYBF1068lFy8Yx2TPvGURGMwva3LLooNew59//IFWqwUg+dJFLiYl4ejYxHQNFtI+lHdZPGk8iSPRiqIsyvsBkvX7Vhd2nJzcU7oMAnYKIdoDGYqiZAgh6gDZE7BGlOTkVlZWLFi8jP7BvdBqtQwdPhJXN3c+mTENH18/egf1YdiIUYweFYK3ezNsbGz5btVPABw6sI/FC+ZRqVIlRIUKLFz6OU/VrWuWhkVLPqNPYE+0D7WEDB+Jm7s7M6ZPxdfPn6DgPowY+TIvjwjBw9UZGxtbflz9c87xLs5O3M7MJCsri8iIcCKjt+DqZtpDRFJDrob5i5fRTx8Pw/TxMGvGNHz18RCijwcvfTx8r4+HgwbxUKFCBRaVIB4sISYXLvmMvkE90Wq1hIwYiZubOzM/noqvrz+BwX0YPvJlXhkZgqerMza2tqxclVsWrs0MyiIynIjoLbia+GCblZUV8xYtZUCf3mi1WoaEjMDVzZ3ZM6bh7etP76Bgho0YxesvD8fXozk2NjZ8++NPJv+tj2LlnBF08HOmrnVNkmJmMvOrTVSy0k3n+yZsHzH7TtKjvTsnI6Zx596/vDZdd124lXmHOV/HsG/1ewDMXhHDrczCH1B8FFZWVsw38GGo3gddPOT68NrLw/HR+/BdKftgZWXF9DmLGf5CMA8fanl+8HCaubixeO4MPL196dYziGNH4xgzfBAZGens2LqJpfNmsWVfAknnzjJ72mSEECiKwqtvTsTFzcM8Hyygbs5buJSBffPE5ExdWfQKDGbo8FG8/spw/Dx1ZfHNSp2GA/v3MmfWdKwqWlGxYkUWLvsi3+hwcTVYQvtQ3mUhsXyEEP3R9dFqGWz2F0KMBX5QFGVlgceV5pO4/wsIIRyBKP3IMkKId4CaQGfgINAJqA2MUhQlVggRAKwE/gB+A4YpiuL4iCwUgMx75j0VXlJqV829OXH33/KLjWqVcr+SlpcOS9Nwu5xiopZBTFhCXN7JKp+yqF45tyzS72rLRYN1tdxnXKr5lOy91uZy9+jnOcsZ5eRDHQMfLv1ZPnNUnerm3lS0hLp56075lIVN9dyysIT2oZzL4ol/fYdDc09lwvLwohOayXtdmsYrilKmrwsuCCHEGeB1IHvyvwL8BAwFNIqiXCvoODkSbSKKoiQDHgbrC4pIfxAwvB/4Udkok0gkEolEIpGYwR1FUXYZbhBC3FUUJf5RB8lOtEQikUgkEomkSLLfzvEEElDAtv8UdZB8sFAikUgkEolE8j+HECIOQFGU+/p1eyHEB0KIU8ArRR0vR6IlEolEIpFIJEUjCn7n/GPM30KIz4B9wBBABawCOiiKUuQvcsmRaIlEIpFIJBLJ/yLdgQRgAuADfIPubRzF+klb2YmWSCQSiUQikRSLCkKU2ef/G0VR/lUU5Xv9r013R/fjeQlCiDVCiG5FHS870RKJRCKRSCSS/2kURTmjKMpkwBnd6+3GFHWMnBMtkUgkEolEIimSJ/jtHDkoivIQiNZ/HokciZZIJBKJRCKRSExEdqIlEolEIpFIJMVCiLL7FC9/0VMIcVYIkSSEmPyIdAOFEIoQosx+AVF2oiUSiUQikUgkFo8QoiLwBdALcAMGCyHcCkhXCxgPHC5LPXJOtIVSu2r5f7+pVskyJj5Zgg5L0FDLAmLCEuKyeuXyLwvrahXLWwJ3j35e3hKoYwE+ONWtWt4SLKJu2lQv/7KwhPbBEsriyUZQgXJtg1sBSYqiXAQQQvwC9AVO5Uk3E5gHvFOWYmS0SSQSiUQikUgsgbpCiDiDz+g8+9XAVYP1FP22HIQQPkBDRVGiylirHImWSCQSiUQikRSNoMx/sfBPRVEeNYe5oNyVnJ1CVAAWAyNKWVeByE60hXLl5r1yybfRU7m3Ru9kKY9IWbYY3rIvLx2GGv4pJw01DDRc/ONuuWhoUq9azvLf9x+Wi4aaVXJvmlmChsvlVD8bG9TPjLvactFgOIWjms/YctFgOJXl1p3y8cFw+sT563fKRYNzg+o5y7fvlU+9MJw+kXSjfNqop+vntlHHrtwuFw1ejWqVS77/g6QADQ3WHYBUg/VagAewS+h6+3ZAhBCij6IocaUtRnaiJRKJRCKRSCRFI8r9PdFHAGchhBOgAV4EXsreqShKBlA3e10IsQt4pyw60CDnREskEolEIpFIHgMURXkAjAW2AKeBXxVFOSmEmCGE6PP/rUeOREskEolEIpFIikWFMp4UXRSKomwCNuXZNrWQtJ3LUosciZZIJBKJRCKRSExEjkRLJBKJRCKRSIrk/+HtHI8VciRaIpFIJBKJRCIxETkSLZFIJBKJRCIpFuU9J9qSkCPREolEIpFIJBKJiciRaIlEIpFIJBJJsZAD0bnIkejHiF07ttKldQs6tnTny6Xz8+0/fGAfvbsE0KRBTaIj1hvtC0ly/X8AACAASURBVHmhD55N7Bg5uH+JdWzdEoO3hwuers4smD833/779+8TMuRFPF2d6dS+DZeTkwG4efMmvZ59hvq2tZg0oWS/dGYJGrZticHHw4UWrs4sfISGFq7OdDbQ8Nv2bbRv408r3xa0b+PPrp2/ma1h929b6RbgRZdWHny1bEG+/bEH99GnawDN7GuxOXJDvv23b2fStkVTpk9+y2wN27bG4OPpipdbMxbO/zTf/vv37zN86It4uTWjS4cAIx86BLSktZ8XHQJasrsEPliChl07tvJM6xZ0ekT9DOwSQNMGNdlkUD9PJh6jX89OdG/nS8+OLYncEGq2hu1bY/D3csPHozmLFxTsw8hhg/HxaE7XjgFcvpxstP/q1Suo69XhsyULzcr/q2lDuLxjDnGhHxaaZuF7AzkRPo3YtR/g7eKQs31IcGsSw6eSGD6VIcGtzco/m+1bY2jl7YafZ3OWFOLDqJDB+Hk2p1unAK7ofbhyORnVUzXp2MaPjm38mDT+DbM17PltKz3aedOtjSfLP8tfN48c3Mdz3dviqq5NTJ666aKqRZ+ubejTtQ2vhzxvtoZtW2PwbeGKl3szFhVSL0YMfREvd3290PsQdySWdq19adfal7atfIgMz992FJc9v23l2bZedG3twfJC2qi+3QJwURXeRrX3asrHH5jfRu3ftY2+XXwJ7ujFd18uyrd/1def079rS57vEcDowcGkplzJ2RcRtobgTt4Ed/ImImyN2RqeFAS6jmNZfR43HkfN/5NotVo+en8iK9eGs33/USLWh3Lu7GmjNCqHhiz8fAV9BwzKd/zosW+x+MtvS0XHpAlj2RCxifhjJwld+wunT58ySrPy+2+xtrYm8fR5xo6fyEdTJgNQtWpVPpo2g9lz83cwHlcN6yM2EVeEhuOnz/OmgYan6tYldH0EsQnHWf7tD7w6KsRsDdPff4vvft7Iln0JRK4P5XzemFA3ZN6yFQT3zx8TAIvnzqBV2w5m5Z+t4e0J41gfHs2R308Q9usvnMnjw48/fIe1tQ3HTp3jzXETmPqfXB9+XRfO4fhjLP/me159efhjrWHq+xP5YW042/T1M19ZODRkQQH1s1q16iz64lu27U9g5dpwZkx5j4yMdLM0vPPWeMI2RnE4IZGw0LX5fFil9+HoibO8MW4i0//zgdH+D997m27P9jQ575zzRx6i75tfFLq/R3s3mjaqh0ffjxk762eWffgiADa1qzNldC86DltAh6HzmTK6F9a1qhV6nkeh1Wp5b9J4ft0QxcH4RNYV4MPqlTof4hPPMmbsRKZ/lOuDo1NT9hyKZ8+heBYt+9JsDR9/MImvf9rApj3xRG0IJSlPPNirGzJ36XKC+r2Q7/iqVasRseMQETsO8dWP5n2p0mq1vD1xHOvCozly9ARhoYXUCxsbjp3U1Ytp+jbKzd2D3ftj2X84gfXhm5gwbgwPHjwwS8P0yW/xzU8b2bw3gagNBbdRny4tvI1aMncGLQNK1kbN+ehtvli5jvXbjxATEcaFc2eM0ri4t2BN1G5CtxykW+++LJmje+VwRvpfLF/yKavDf2NNxE6WL/mUzIxbZmuRPHnITvRjwu8JR3B0akojRycqV65McL/n2bY5yihNw0aNcXX3pEKF/MXavmMXatSsVWIdcUdiadL0aZyaNKFy5coMfGEQUZHhRmmiIiMYMkzXGenXfyC7du5AURRq1KhB23btqVK16hOpITqPhuhCNHh5+2CvUgHg5ubO/Xv3uH//vskajiXE0dggJoL6DWR7jHFMODRqjEshMZF4LIE//7hB+85dTc47G50PTXN8GPD8IKIiI4zSREeG89JQ3ReF5/oPZNfO3/L54Ormzj0zfbAEDb8nHDEqi+B+z7O1kPop8pRFk6edcWr6NAAN7FU8Va8ef/35p8ka4uN0Pjg66X0Y+AKboox92BQdweChwwDo228Au3fpfACIigjH0ckJF1c3k/POZn/CBf7KuFPo/qBOLfgpKhaA2MRk6tSqhl3d2nRv68qOQ2e4lXmH9Nt32XHoDM+2M09HfFwsTk1yfeg/8AU25/UhKoIXh+T6sMfAh9Lg+NE4Gjs1oVFjXTwEPjeQ7VsKqJtuBdfN0iCnXjjl1ovoPD5ER4UzeIhBvdD7UL16daysdLM9792/hzDz/v3xPG1U4HMD2VFIG5W3XgCcOJbAzRK2USd+j6OhYxMcGjlRqXJlegQPYNe2aKM0Ldt2pFq16gC08GnJ9TQNAAd276BNhy7Usbaldh0b2nTowv5d283W8kQgQAhRZp/HDdmJzoMQwlEIcVoI8bUQ4qQQYqsQopoQoqkQIkYIES+E2CuEcBFCVBRCXBQ6rIUQD4UQHfXn2SuEeFoI0UkI8bv+c1QIYVZP9lpaKvaq3Fuf9io11/QV/f+T1FQNDg1zdajVDqRpNPnTODQEwMrKitq163Dz5s0nXkNqERrqFKBh44Z1tPDyoUqVKiZruH4tFXu1Omfdzl7N9bTUYh378OFD5kz7gMnTZpucryFpqRrU+r8RQK1Wk5aa14fUIn0I37AOLzN9sAQN19NSUeWpn9fNqJ+/Jxzh36wsGjs1MfnYtNRU1OpcH1RqB9JSUwtNk10v/rp5k3/++Yeli+bx/ocF/uhXqaGqb03KtdyRPM31dFT1rVHVsyblusH2G+mo6lmblUdaaqpRPKjUDqSlFeCDQ34fAK5cvkSnAH+CenTh4P69Zmm4npaKnUE86OpmWrGPv3//Hv2fbc/zvTuzbXOkWRrSDNofAJVana+NSstTLwx9OBJ7mFa+ngT4e7Fk2Zc5nWpTuHYtFXuVQRulUnP9mglt1PQPeL+EbdSNa2nY2eeWRQN7FTceoWHD2h9p37m7wbG5+hvYqbhxrfjlKHnykQ8WFowzMFhRlFeFEL8CA4CRwOuKopwXQrQGvlQU5RkhxDnADXAC4oEOQojDgIOiKElCiMXAm4qi7BdC1ATu5c1MCDEaGA2wfPlyRo8enV9RAaMk5fGtraDRmnw6yljr46KhqDSnTp1k6oeTCY/eUmoaivvEx+rvl9Opaw9UaoeiE5uowVQfTp86ydQpH7AxKuaJ1lAUN66lMWnMyyz44muzRieLEw+F6ZwzazpvjJtIzZo1Tc7XFAqyRFGUgrdj3shwseKhgHMLIWhgZ8/xM5ewfeopfj8az9BBAzgQd5zatWuXuoZHsSv+LA3s7Lly+RLDB/Smuas7jRxN+2Jlbr3ILoyWrVoTm5DI2TOnee2VkXTv0Yuqpt7BK0gDxfNhjb6Nsi9pG1VIWRdE9PpfOJV4lG/XbtYdayHXXUtDOpCL7EQXzCVFUX7XL8cDjkBbINSgAmUPV+0FOqLrRM8BXgV2A0f0+/cDi4QQa4D1iqKk5M1MUZQVwIrs1YIE2anUpKXmHpqWqqGBncqcv61EqNUOpFzN1aHRpGCnMtahUjuQknIVtYMDDx48IDMzA1tb2ydeg30eDeo8GjIMNGhSUnjp+f6s+G4lTZo2NUuDnb3aaAT+WpqGBnb2xTr26JFYjhzez5ofVnDnn3/4NyuL6jVq8t5HM03SoFI7oEm5mrOu0Wiws8/rg/qRPgx+YQDLv/3BbB8sQYOdSk1qnvpZ34T6eft2JiMH9+ftD6fh62/eQ3UqtRqNJteHVE0K9vb2BaYxrBc2trbEH4klfMN6pk6ZTEZGOhUqVKBKlaqMHvOmWVoKQ3M9HQc7m5x1dQNr0v7IQHMjnQ5+zrnb61uzN/68WXmo1GqjeEjVpGCXp16oVLo0arWxD0KInDsR3j5+ODVpwoWkc/j4+pukwU6l5ppBPFxL01Dfzq7Yx2fX40aNnWjVtgOnEo+Z3InObgOzSdVo8rVRqjz1oqB2srmLKzVq1ODUyRP4+pnog73xXaFrqRrqF7eNiosl7vB+ftK3UVlZWVSvXpN3TWyjGtipuJaWWxbX01Kp1yC/hkP7dvLN5wv49tfNVNbHQAN7FXGH9uUeey0V/zbtTcpf8mQjp3MUjOGkSC1gC6QriuJt8HHV798LdABaAZsAa6AzsAdAUZS5wCtANeCQEMLFHEFePv5cupjElcvJZGVlEbkhlO49A805VYnw82/JhaTzJF+6RFZWFmG/riUwqI9RmsCgYNasWgnAhvVhdOr8TKl+e7dUDb3zaOhdiIb09HQGPBfE9FmzCWjbzmwNLXz8SL6YxFV9TERtCKNrj+LFxOKvvmff0XPsiT/D5Omz6ffCSyZ3oCHbh6QcH9aFriUwKNgoTe+gPvy0+kcANq4Po1PnLjk+DOwXzMczPymRD5agwcvH36gsTKmfWVlZvBYyiP6DXiKw7wCzNfj66X1I1vsQ9iu9Ao196NU7mJ9XrwJ001c6dtL5sHn7bhLPXCDxzAXGvDmet9+dXOodaIDo3Ym8FNQKgFaejmT+fZdrf2ay7cBpugW4YF2rGta1qtEtwIVtB04XcbaC8fVrycULSVzW+7A+7Fd65vUhMJhf1uT60EHvw59//IFWqwUg+dJFLiYl4Whi5xXA09uP5IsXcuIhemMYXZ8tXjxkpN8iSz8v/6+bf5Jw5BBPNzP9suHn35KLhvEQupbeeXzoHdiHn9cY1Au9D8nJl3IeJLxy+TLnz52lcWNHkzV45mmjojcWv41a9N/v2ZNwjl1xZ3h/mq6NMrUDDeDu5ceVSxfRXEnm36wstkSuo1P33kZpzpw4xqwPJrDk21+wrVsvZ3vbTl05uOc3MjNukZlxi4N7fqNtJ/PnZz8JCHQ/tlJWn8cNORJdPDKBS0KI5xVFCRW63lgLRVGOAYeBH4GLiqLcE0L8DrwGBAEIIZoqipIIJAohAgAX4EzB2RSOlZUVM+YuJuT5YLQPtbzw0nCaubixcM4MWnj70r1XEMcS4hg9fBAZGels37KJxZ/OYvv+BAAGBnXlwvlz/PPP37T2bMq8pV/R6ZnuJhthZWXFwiWf0TeoJ1qtlpARI3Fzc2fmx1Px9fUnMLgPw0e+zCsjQ/B0dcbG1paVq37OOd61mRO3MzN1HY3IcCKit+Bq4oNMlqThOb2GYY/Q0EKv4Qe9huX//ZyLF5L4dPYsPp09C4Dw6C3Ur1/fZA3T5i5ixKA+PNRqGfhSCM1c3Fg8dwae3r506xnE8aNxjBnxIhkZ6fy2dRNL580iZm+8SfkUpWHBkmU8F9yLh1otw4aPxNXNnVkfT8PHz4/AoD6EjBjFq6NC8HJrho2tLd//+BMAK/77hc6HOZ/w6ZxPdD5ExVDPDB8sQUNB9XPRHF1ZZNfP1/T1c4e+fm7bn0D0xnXEHtzHrVt/EfbLagAWfLYCd08vkzXMX7SUAX16o9VqGRoyAlc3dz6ZMQ0fX396BwUzbMQoXnt5OD4ezbGxseE7vQ+lxco5I+jg50xd65okxcxk5lebqGRVEYBvwvYRs+8kPdq7czJiGnfu/ctr03V/763MO8z5OoZ9q98DYPaKGG5lFv6A4qOwsrJi3sKlDOyr82GI3ofZM3U+9AoMZujwUbz+ynD8PHU+fLNS58OB/XuZM2s6VhWtqFixIguXfYGNGXewrKysmDp7IS8P7otWq2Xg4BCcXdxY+ulMPLx96dojkONH43lz1Itkpqezc9tmls3/hE174rhw/ixT3x2HqFAB5eFDRo97m6ebuxadaQEa5i9eRr/gXro2KrtezJiGr68fvfX1YvSoELzcm2FjY8v3q3Q+HDywj8UL5lGpUiUqVKjAoqWf81TdumZpmDZnEaNe7GPkw5JPZ+Dp5UtXfRv1xki9D1s3sWz+LDbvKd02avKM+YwJ6cdDrZa+Lwzj6WaufLlwFm4tfOncvTeLZ3/EnTv/8O4bugfB7VUOLP12LXWsbRk9/j2GBHcGYPSE96ljXXp3NCWPP6I0n0h+EhBCOAJRiqJ46NffAWoCK4H/AvZAJeAXRVFm6NPsBfYqivKhEOIl4EvAVlGUh0KIz4Au6Ea0TwEjFEV51OP/CsCVm/mmTv+/0Oip3Dlvd7LKLzaqV879RlpeOgw1/FNOGmoYaLj4x91y0dCkXu6rxv6+/7BcNNSsknvTzBI0XC6n+tnYoH5m3NWWi4Y61SrmLFfzKdm71s3l7tHPc5Zv3SkfH2yq5/pw/rp5Hf6S4tyges7y7XvlUy9qVc2tF0k3yqeNerp+bht17MrtctHg1agW/A9MF27i1kKZuWpTmZ1/qH/DeEVRTJs3VI7Ikeg8KIqSDHgYrBu+Hb7AF6gqitLBYPkn4CeD9XGlr1IikUgkEolEUp7ITrREIpFIJBKJpFg8hlOXywz5YKFEIpFIJBKJRGIiciRaIpFIJBKJRFIMHs9fFiwr5Ei0RCKRSCQSiURiInIkWiKRSCQSiURSJAI5+mqI9EIikUgkEolEIjERORItkUgkEolEIikWck50LnIkWiKRSCQSiUQiMRE5Ei2RSCQSiUQiKRZyHDoXORItkUgkEolEIpGYiFAUpbw1SIyRBSKRSCQSyePHEz9I29TdS/n0p5gyO//z3qp4RVH8yyyDUkaOREskEolEIpFIJCYi50RLJBKJRCKRSIpEvifaGNmJtlAy7mrLJd861SrmLN/JKr+ZJdUr594Vu/tv+eioVsmyNFhCTNz850G5aHiqRm5TZQllkX6nfMrCunpuWVz68165aHCqWzVn+VY5+WBj4EM1n7HlouHu0c9zli2hbqaXkwZrAw2W4IMlaJD87yA70RKJRCKRSCSSYiHfE52LHJWXSCQSiUQikUhMRI5ESyQSiUQikUiKhRyHzkWOREskEolEIpFIJCYiR6IlEolEIpFIJMVCTonORXaiJRKJRCKRSCRFonvFnexFZyOnc0gkEolEIpFIJCYiR6IlEolEIpFIJMVCTufIRY5ESyQSiUQikUgkJiI70Y8Z27fG4O/lho9HcxYv+DTf/vv37zNy2GB8PJrTtWMAly8nG+2/evUK6np1+GzJQrM1bN0Sg7eHC56uziyYP7dADSFDXsTT1ZlO7dtwOVmn4ebNm/R69hnq29Zi0oSS/crY1i0xeLm74OHqzIJ5BWsY9tKLeLg607GdsYae3Z+hnk0t3noCNJgbD/FHYmnf2o/2rf1o19qXyPCNZmvYsW0LrX3cadnChaUL5xWo4eWQl2jZwoVnO7flil7DlcvJONStRecAPzoH+PH2+DfM1mApZdHS2w1fz8LLYlTIYHw9m9OtU0COD9lcvXoFh/olq5u7d2yla5sWdGnpzn+Xzs+3P/bAPoKfCcDZriabItbnbNdcvUyfrm0J7NyaHu19WfPD12Zr2L41hlbebvh5NmfJI3zwy+PDlcvJqJ6qScc2fnRs48ckM+Phq2lDuLxjDnGhHxaaZuF7AzkRPo3YtR/g7eKQs31IcGsSw6eSGD6VIcGtzco/G0uom9u3xtDSyw3fR2gYNWwwvh7N6daxkJgs4fXCEq5ZlqDhyUGU6b/HDdmJLkOEEC5CiN+FEEeFEE2FEH+X5HxarZZ33hpP2MYoDickEha6ljOnTxmlWfXDd1hb23D0xFneGDeR6f/5wGj/h++9Tbdne5ZIw6QJY9kQsYn4YycJXfsLp/NoWPn9t1hbW5N4+jxjx0/koymTAahatSofTZvB7Ln5L+6manhrwlg2Rm4iIVvDKWMNP3z/LdY21pw4fZ5x4yfynw9zNUydPoPZnz4ZGsyNB1d3D3btP8y+w/Gs2xjNW+PH8OCB6T/prdVqeX/SeNauj2R/3HHWh/7C2Twa1qz8Dmtra44cP8Prb07g449yOzeOTk3ZdTCeXQfjWbjsSzNcsJyyeHfSeEI3RHEoPpF1BZXFyu+oY21DQuJZxoydyPSPjOvmlPdLXjenTZ7I97+Es2X/USI3hHL+7GmjNCqHhsz7bAV9Bgwy2l6vgT2hm3YSvesw62P28NWyBVy/lmqWhvcmjefXDVEcLMSH1St1MRlfgA+OTk3ZcyiePYfiWWRmPKyKPETfN78odH+P9m40bVQPj74fM3bWzyz78EUAbGpXZ8roXnQctoAOQ+czZXQvrGtVM0uDpdTNd98aT+jGKA4lFBKTP+hj8sRZxhRwvZhSCtcLS7hmlbcGyZOL7ESXLc8B4Yqi+CiKcqGkJ4uPi6VJ06Y4OjWhcuXKDBj4ApuiIozSbIqOYPDQYQD07TeA3bt+Q1EUAKIiwnF0csLF1c1sDXFHYmnS9Gmcmug0DHxhEFGR4UZpoiIjGDJsOAD9+g9k184dKIpCjRo1aNuuPVWqVjU7/2wNTYvQEB0ZwdBsDQPya6j6BGgoSTxUr14dKyvdIxH37t8z+2dcE+JicWqSq6HfwEFsjo40SrM5OpIXh+g09Ok3gL0GMVkaWExZGPjQv4Cy2BwVweAhBdfN6MhwGjuWrG4eSzhCY8emNHJ0onLlygQ99zzbNkcZpXFo1BhXd08qCOOmv3LlylSpUgWArKz7PHz40CwN8Xniof/AF9icNyajInLioW+/Aewp5XjYn3CBvzLuFLo/qFMLfoqKBSA2MZk6taphV7c23du6suPQGW5l3iH99l12HDrDs+3MKw9LqJt5NRQYk4+4XkRHhNO4hNcLS7hmWYKGJw0hyu7zuCE70aWAEMJRCHFaCPG1EOKkEGKrECIQmAi8IoTYWRr5pKWmolY3zFlXqR1IS00tNI2VlRW1a9fhr5s3+eeff1i6aB7vfzi1RBpSUzU4NMy9/alWO5Cm0eRP42Cs4ebNmyXK1+j8Gg1qB2MNqamaAtIYaKjz5GkoSTwAxMUepo1fC9q19GbR0i9zLtymalAZ+KBSq0nL40Naamo+H7I1XLl8iS5t/Qnu8QwH9+8zOX+woLJwyFMWacZlkZrXh1Kum9fSUrFX5/pgr1JzPU3ziCOMSdVcpVenlrTzdua1cW/TwE5lsobi+JAvHmobx0OnAH+CenTh4P69JudfHFT1rUm5ditnXXM9HVV9a1T1rEm5brD9RjqqetZm5WEpdbMoDallfL2whGuWJWiQPLnITnTp4Qx8oSiKO5AO2ABfAYsVRenyqAOFEKOFEHFCiLgVK1YUmq7A0Zo8X90KSiOEYM6s6bwxbiI1a9Ys8g95FIWdP0+iotOUsYZi6XwCNRQ3HgD8W7XmUPxxftt7iMUL5nLv3r1S0VBcHxrY2fP76YvsPBDHzLnzeW3UMG5nZv6/aigtinf+gtPMnTWdMWNLXjdLWu9U6oZs3n2EnbEnWL92NX/cuG6GhGKURSE+NLCz5/iZS+w+GMesuQt4deQwMs2Ih6IoyBJFUQreXoDW4vC41M3CYmburOmMKaPrhSVcs/6/NTxJZL8nuqw+jxvyFXelxyVFUX7XL8cDjsU9UFGUFUB277nQVlulVqPRXM1ZT9WkYG9vX2AatYMDDx48IDMzAxtbW+KPxBK+YT1Tp0wmIyOdChUqUKVKVUaPebO4MgHdKF/K1ZScdY0mBTuV8YiVSu1ASoqxBltbW5PyeaQGBwc0KcYa7O1VBaS5ikO2hownT0NJ4sGQ5i6uVK9Rg9MnT+Dj52+yhlQDH1I1Guzs88aDGk3KVVTqXB9sbG0RQuRMIfD28cPRqQlJSefw8TVNg8WURYpxWdjZ5SkLlS6NWm1cFnFxsYRvXM+0/xjUzapVGf26aXXTTqUmTZPrQ1qqhvpmjCY3sFPh3NyNI4f207tPf5OOLYkPeePBqUkTLpgRD0WhuZ6Og51Nzrq6gTVpf2SguZFOBz/n3O31rdkbf96sPCylbubVYFdMDXH668W0El4vLOGaZQkaJE8uciS69LhvsKylDL6g+Pq15EJSEsnJl8jKymJd2K/0Cgw2StOrdzA/r14FQPiGdXTs1AUhBJu37ybxzAUSz1xgzJvjefvdyWY1BH7+LbmQdJ7kSzoNYb+uJTCoj1GawKBg1qxaCcCG9WF06vxMqY76+fm3JKkIDb2DglmdrWHdk6mhJPGQnHwp52GlK1cuk3TuHI0aO5qswcevJRcvJHFZr2FD2Fp69g4yStOzdxC/rNFpiNiwjg56DX/+8QdarRaA5EsXuXghCUfHJiZrsJiyMPBhfQFl0TMwmJ/XFFA3t+3m+OkLHD+tq5uT3plscgcaoIWPP8mXkrh6OZmsrCyiNobSrWdgsY5NS03h3t27AGSk3yI+9iBNnm5msgbfPPGwPuxXeuaNycDgnHgIf1Q8JJkXD0URvTuRl4JaAdDK05HMv+9y7c9Mth04TbcAF6xrVcO6VjW6Bbiw7cDpIs5WMJZQN7M1PDImH3G9OH7mAsf114tJZl4vLOGaZQkanijKcD704zgnWo5EP0ZYWVkxf9FSBvTpjVarZWjICFzd3PlkxjR8fP3pHRTMsBGjeO3l4fh4NMfGxobvfvyp1DUsXPIZfYN6otVqCRkxEjc3d2Z+PBVfX38Cg/swfOTLvDIyBE9XZ2xsbVm56uec412bOXE7M5OsrCwiI8OJiN6Cq4kPbFhZWbFoyWf0CeyJ9qGWkOEjcXN3Z8b0qfj6+RMU3IcRI1/m5REheLg6Y2Njy4+rczW4OBtoiAgnMnoLrm6PpwZz4+HQgf0sWTgPK6tKVKhQgQVLPuepunVNyj9bw9yFS3n+uUAearW8NGwELm7uzJk5HW9fP3oFBjNk+CjeeGUELVu4YG1jw9c/rAHg4P69zJ31MVZWFalQsSILln6RbySuuBosoSzmLVzKgL66shiiL4vZM6fh7etP78Bghg0fxeuvDMfXU1cW364s/bo5fc5ihr8QzMOHWp4fPJxmLm4snjsDT29fuvUM4tjROMYMH0RGRjo7tm5i6bxZbNmXQNK5s8yeNhkhBIqi8OqbE3Fx8zBLw7yFSxlYgA8+vv70CgxmqN4HP70P3+h9OLB/L3NmTceqohUVK1Zk4TLz4mHlnBF08HOmrnVNkmJmMvOrTVSyqgjAN2H7iNl3kh7t3TkZMY079/7ltemrAbiVeYc5X8ewb/V7AMxeC6FrJAAAIABJREFUEcOtzMIfUCzKB0uom/MMNOSUxQx9TOo1vP7ycHz1Gr4tg+uFJVyzyluD5MlFlOZT0f+rCCEcgShFUTz06+8A2ZOo/lYUZYF++9+KohQ1uUoByLirLRuxRVCnWsWc5TtZ5Rcb1SvnfiW9+2/56KhWybI0WEJM3PzH9FdtlQZP1cj9vm8JZZF+p3zKwrp6bllc+tP0ebKlgVPd3DeZ3ConH2wMfKjmU7L3e5vL3aOf5yxbQt1MLycN1gYaLMGHctbwGI6lmkYzD2/l89BtZXb+Hm714xVFKd05XGWIHIkuBRRFSQY8DNYXFJJOPp0gkUgkEolE8gQgO9ESiUQikUgkkmLxOP6yYFkhHyyUSCQSiUQikUhMRI5ESyQSiUQikUiKRAAV5EB0DnIkWiKRSCQSiUQiMRE5Ei2RSCQSiUQiKRZyTnQuciRaIpFIJBKJRCIxETkSLZFIJBKJRCIpFo/jLwuWFXIkWiKRSCQSiUQiMRE5Ei2RSCQSiUQiKRZyTnQuciRaIpFIJBKJRCIxETkSbaHUqVaxvCVQvbJlfNusVqn8dViCBkuIiadqlH+TYQllYV29/MvCqW7V8paAjQX4cPfo5+UtwSLqprUFaLAEHyxBw5OMfE+0MXIkWiKRSCQSiUQiMZHyH1aSSCQSiUQikTwGCDkn2gDZibZQTqf+Uy75uqpq5CzfyVLKRQMYTyUpLx2GGv6+/7BcNNSsknuz6FBSerloaPO0dc6yJfhw+175aKhVNVdD8p/3ykWDo8EUDkvw4fz1O+WiwblB9ZzljLvactFgOG2gms/YctFgOJXFEuLh+NXb5aKhRcNaOcuWEJOS/x1kJ1oikUgkEolEUjRCvifaEDknWiKRSCQSiUQiMRE5Ei2RSCQSiUQiKRZyIDoX2YmWSCQSiUQikRSJ7hV3shudjZzOIZFIJBKJRCKRmIgciZZIJBKJRCKRFAs5Dp2LHImWSCQSiUQikUhMRI5ESyQSiUQikUiKhxyKzkGOREskEolEIpFIJCYiO9GPEXt3bqN3Bx96tGvB158vzLc/7tA+BvRoh2ejOmyJ2pCz/fD+3fTrHpDz8W7yFNtjIs3WsXVLDN4eLni6OrNg/tx8++/fv0/IkBfxdHWmU/s2XE5OBuDmzZv0evYZ6tvWYtKEkv3ClyVo2LY1Bh9PV7zcmrFw/qcFahg+9EW83JrRpUNAjobftm+jQ0BLWvt50SGgJbt3/ma2hoN7tjPo2ZYM7OrLj8sX59v/83dfMLhnG4YGtWNsSF/SNFdy9rVr/hQhwR0ICe7Au68NNluDJfiwbWsMvi1c8XJvxqJCNIwY+iJe7noNl3Ua4o7E0q61L+1a+9K2lQ+R4RvyHVtcdu/YyjNtWtC5pTv/XTo/3/7DB/YR9EwAT9vVZFPE+pztpxKP0b9XJ55t70vPTi2J2hBqtgZL8GHPb1vp0c6bbm08Wf7Zgnz7jxzcx3Pd2+Kqrk1MpHE+Lqpa9Onahj5d2/B6yPNma9i+NQZ/Lzd8PJqzeEHBPowcNhgfj+Z07ZjrQ/yRWNq39qN9az/atfYlMnyjWfl/NW0Il3fMIS70w0LTLHxvICfCpxG79gO8XRxytg8Jbk1i+FQSw6cyJLi1WflnYwnxsH/XNvp09iWogxfffrEo3/4fv/6cfs+0ZOCzAbz6YjCpKbltVEToGoI7ehPc0ZuI0DVmayhJTAL8fTuT9t5P8/EHk8zW8CQhyvDf44bsRJcQIcQ3Qgi3ss5Hq9Uya8oklq9eT+TOODZtDCXp3GmjNPbqhsxevJzA514w2t66XSc2bDvIhm0H+f7XaKpWq067Tl3N1jFpwlg2RGwi/thJQtf+wunTp4zSrPz+W6ytrUk8fZ6x4yfy0ZTJAFStWpWPps1g9tz8HYzHUcPbE8axPjyaI7+fIOzXXziTR8OPP3yHtbUNx06d481xE5j6H52Gp+rW5dd14RyOP8byb77n1ZeHm61h4fR3WfRNKD9vPsS2qHVcOn/GKE0ztxZ8v+E3Vkft55keffhi3vScfVWqVuPHyL38GLmX+ct/NluDJfjw9sRxrAuP5sjRE4SFFqLBxoZjJ3Uapunjwc3dg937Y9l/OIH14ZuYMG4MDx48MEvD1MkT+eGXcLbuP0rEhlDOnzWun2qHhsz/bAV9Bgwy2l61enUWfv4tW/clsHJtODP+8x6ZGab/xLul+PDxB5P4+qcNbNoTT9SGUJLO5m+n5i5dTlC/F/IdX7VqNSJ2HCJixyG++tG8LxNarZZ33hpP2MYoDickEha6Np8Pq/QxefTEWd4YN5Hp//kAAFd3D3btP8y+w/Gs2xjNW+PN82FV5CH6vvlFoft7tHejaaN6ePT9mLGzfmbZhy8CYFO7OlNG96LjsAV0GDqfKaN7YV2rmsn5g+XEw+z/vM2XK9exYccRYiLCuHDOuI1ycW/BT9G7Cdt6kO6BfVk8eyoAGel/8dWST1kd8RtrInby1ZJPyUy/ZZaGksQkwJJPZ9AqoL3JeUuefGQnuoQoivKKoiinik5ZMhKPxtHIsQkNGztRuXJlevUdyG9boo3SqBs2prmbBxUqFF6sW6M30qFLd6pVq26WjrgjsTRp+jROTZpQuXJlBr4wiKjIcKM0UZERDBmm6xD16z+QXTt3oCgKNWrUoG279lSpWtWsvC1PQ9McDQOeH0RUZIRRmujIcF4aGgLAc/0HsmvnbyiKgpe3D/YqFQCubu7cu3eP+/fvm6zh1PF4HBo3Qd3IkUqVK9MtsD97dmwySuPXpgNV9WXt7t2SG9c05vy5hWIJPuRocMrVEB2VR0NUOIOHGGjYpdNQvXp1rKx0j4bcu38PYeb7T48lHKGxY1MaOerqZ/Bzz7Ntc5RRGodGjXF196SCMK6fTZo649T0aQAa2Kl4ql49bv75p8kaLMGH40fjaOzUhEb6dirwuYFs35LfBxc3z0e2UyUhPk7ng2O2DwNfYFMeHzZFRzB46DAA+vYbwO5S9mF/wgX+yrhT6P6gTi34KSoWgNjEZOrUqoZd3dp0b+vKjkNnuJV5h/Tbd9lx6AzPtjNvjMYS4uHE73E0dGyCQ2MnKlWuTM/gAezaanzdatW2Y871yNOnJTfSdG3Ugd07aNOhC3WsbaltbUObDl3Yv3u7yRpKGpMnjh3lzz/+oL2ZA09PIkKU3edxQ3aii4kQwlEIcUYIsVIIcVwIESaEqC6E2CWE8Nen6SmESBBCHBNC7NBv6ySE+F3/OSqEqGVO/tevpWKnyr3lZ2ev5sa1VJPPszk8jMC+5t8mTU3V4NAwV4da7UCaRpM/jUNDAKysrKhduw43b940O09L1JCWqkGtP79Og5q01LwaUo001ClAQ/iGdXh5+VClShWTNfxxLY369uqc9fp2Kv64nlZo+siwVQR07J6znnX/HiP7deGVgd3ZvS260OMehSX4kGZQ1gAqtZrUPPGQlkdD7dp1+Euv4UjsYVr5ehLg78WSZV/mdB5M4VpaKvZqg/qpUnMtzfQvLL8nHOHfrCwaOzUx+VhL8OF6Wv526npa4TGZl/v379H/2fY837sz2zabN+UsLTUVtdrQBwfSUlMLTZPXh7jYw7Txa0G7lt4sWmqeD0Whqm9NyrXcUVXN9XRU9a1R1bMm5brB9hvpqOpZm5WHJcTDjWtpRvFQ317F9euFX7c2rP2Rdl26Gxyb2741sFdx41rxYymbksTkw4cPmTv9A96f+onJ+Ur+N5Bv5zCN5sDLiqLsF0J8B7yRvUMIUQ/4GuioKMolIYStftc7wJv6Y2oC9/KeVAgxGhgNsHz5ckaPHp0vY0VR8qsx8WvbH9evce7MSdp17mbScUXpyDdKUZw0JeBx0VBUmtOnTjJ1ygdsjIoxTwPF/xtjwtdyJvF3vlyTOwKzYXci9RrYo7mSzNiQPjRt5oZDYyfTNFiCD2ZqyK4/LVu1JjYhkbNnTvPaKyPp3qMXVU28U1GsmCyCG9fSmPTGyyz8/GuzRmmfBB92xZ+lgZ09Vy5fYviA3jR3daeRo2lfKIrTVj5Kp3+r1hyKP87ZM6cZ8+pIuvfoabIPRVGQJYqiFLy9gHpeHB63eIha/wunjh/lu183F6mtrDTkZc33K+jU9VmjL8gS+XIOQ+RItGlcVRRlv355NWA4SaoNsEdRlEsAiqL8pd++H1gkhBgPWCuKkm9imaIoKxRF8VcUxb+gDjTovj1fS03JWb+WpqF+A3uTxMdErqNbr2AqVapk0nGGqNUOpFzN1aHRpGCnvyWfjUrtQErKVQAePHhAZmYGtra2lBaWoEGldkCjP79OgwY7e2MNarXaSEOGgQZNSgqDXxjA8m9/oEnTpmZpqG+nyrn1CXDjWip169vlSxe7fxc/fLmIect/orLBSG89ffyoGzni26o9504dN1mDJfhgWNYAqRpNzjSR3DTqIuOhuYsrNWrU4NTJEyZrsFepSdMY1M9UDQ3sVI84wpjbtzMZ9VJ/3v5gGj7+5j1MZgk+2KkKaKfs8sdkYTSw08Vko8ZOtGrbgVOJx0zWoFKr0WgMfUjB3t6+0DTZPtgU4EP1GjU4bYYPRaG5no6DnU3OurqBNWl/ZKC5kY5DA4Pt9XXbzcES4qGBvcooHm6kpVK/fv7r1qG9O/nm8wUs/XZtThulOza3fbuelkr9BsWPpWxKEpO/xx9m9ffL6eLvytwZU9gY+hPzZ31ksgbJk4vsRJtG3q+0huuigP0oijIXeAWoBhwSQriYk7GHtx+XL10g5UoyWVlZbA4Po8uzvU06R/TGMHqXYCoHgJ9/Sy4knSf50iWysrII+3UtgUF9jNIEBgWzZtVKADasD6NT52dKdRTYcjQk5WhYF7qWwKBgozS9g/rw0+ofAdi4PoxOnbsghCA9PZ2B/YL5eOYnBLRtZ7YGV09friZfIPXqZf7NymJ79Ho6dO1llObsyePM++gt5i//Cdun6uVsz8xIJ0s//zj9r5scTziM09PNTdZgCT74+bfkYlISycm5GnoH5tEQ2Ief1xho6KTTkJx8KeeBqSuXL3P+3FkaN3Y0WUMLH3+SLyVx9bKufkZuDKVbz8BiHZuVlcXrwwfR/4WXCOw7wOS8s7EEHzy9/Ui+eCHHh+iNYXR9tng+ZKTfyonJv27+ScKRQzzdzPTm0tdPH5PZPoT9Sq88PvTqHczPq1cBuqlEHQvy4cplks6do5EZPhRF9O5EXgpqBUArT0cy/77LtT8z2XbgNN0CXLCuVQ3rWtXoFuDCtgOnizhbwVhCPLh7+XHl0kVSriTzb1YWMZHr6NTd+Lp1+sQxZn4wgaXf/sJTdXPbqLadunJw729kpt8iM/0WB/f+Rlsz5iWXJCYXfvk9u+PPsjPuNJOnfsJzz7/Eu/+ZabKGJw5Rhp/HDDmdwzQaCSECFEU5CAwG9gHZrdJB4AshhFP2dA5FUf4SQjRVFCURSBRCBAAuwJmCT184VlZWTJm1kFdfeo6HD7X0GzQM5+ZufDZ/Ju5evjzzbCCJv8cz/uXBZGaks3PbZj5f+AmRO+MA0Fy9zLW0FFoGdCiRAVZWVixc8hl9g3qi1WoJGTESNzd3Zn48FV9ffwKD+zB85Mu8MjIET1dnbGxtWbkq980Prs2cuJ2ZqetoRIYTEb0FV1fTHpyxFA0LlizjueBePNRqGTZ8JK5u7sz6eBo+fn4EBvUhZMQoXh0VgpdbM2xsbfn+x58AWPHfL7h4IYlP53zCp3N0c+3Co2KoV7++yRrenjaPiaMG8FCrJWjgEJo4u7JiyWxcPb3p0LU3n8+byp07/zBl3AgAGqgcmL/8Z5IvnOXTj96iQoUKPHz4kGGvTcTJ2fQOi6X4MH/xMvoF90JrqGHGNHx9/eit1zB6VAhe7s2wsbHl+1U6DQcP7GPxgnlUqlSJChUqsGjp5zxVt65ZPnw8ZzEhLwTz8KGW5wcPp5mLG4vmzsDT25fuPYM4djSO14cPIiMjnR1bN7Fk3iy27ksgOnwdsQf3ceuvvwj7ZTUACz5bgZun12Ppw9TZC3l5cF+0Wi0DB4fg7OLG0k9n4uHtS9cegRw/Gs+bo14kM13XTi2b/wmb9sRx4fxZpr47DlGhAsrDh4we9zZPN3c1S8P8RUsZ0Kc3Wq2WoSEjcHVz55MZ0/Dx9ad3UDDDRozitZeH4+PRHBsbG77Tx+ShA/tZsnAeVlY6HxYsMc+HlXNG0MHPmbrWNUmKmcnMrzZRyaoiAN+E7SNm30l6tHfnZMQ07tz7l9em68r9VuYd5nwdw77V7wEwe0UMtzILf0CxSB8sIB4+mDmfMcP68VCr5blBw3i6uStfLJyFu6cvnZ/tzeJPPuLOnX94d4zuQXA7lQPLvltLHWtbRo9/j5eCOwPw2oT3qWNt+t3EksSkRFIUosB5R5J8CCEcgU3AHqAtcB4Ypt/2jqIocUKIXsBsdCP8NxRF6S6E+AzoAmiBU8AIRVEe9QoCBeB06j9l9Jc8GldVjZzlO1nlFxvVK+d+JS0vHYYa/r7/sFw01KySe7PoUJLprz0rDdo8nftgkyX4cPte+WioVTVXQ/Kf+R5t+H/BsW7unFRL8OH8dfM6eCXFuUHu24Uy7mrLRUOdahVzlqv9X3v3HR5F1fZx/Hs09JYgJckGaQKppNK7IFISOtKrig82LI8F9QEEpEhHbFgQBRSpoYYOiggh9Cq9JQEUSEJJkXDeP3aT3SQbyAby7gbuj9de7s6cmfnlnjNh9uzsJPD+7jmfW4l7ZqQ/d4T+sP/8dbtkqFnB/H19O/fJfDiWahtvv0D947Itebb+WlVK7dJah+TZBh4wGYm2zR2t9X8yTWua9kRrvRpYbTlTa/3a/0MuIYQQQgjx/0hOooUQQgghxL3l0/s55xU5ic4hrfUZwNfeOYQQQgghhP3JSbQQQgghhMgRGYg2k1vcCSGEEEIIYSMZiRZCCCGEEDkjQ9HpZCRaCCGEEEIIG8lItBBCCCGEyAGFkqHodDISLYQQQgghhI1kJFoIIYQQQuSI3CfaTEaihRBCCCFEvqCUaqWU+kspdUIp9b6V+W8ppQ4rpfYrpTYopSrmWRatdV6tW+SO7BAhhBAi/3nox2h9agbpeSu25Nn6AyqW3KW1DsluvlLqceAY8AxwAdgJ9NBaH7Zo0wzYobW+pZQaDDTVWnfLi7wyEi2EEEIIIfKD2sAJrfUprXUK8AvQ3rKB1nqT1vqW6eV2wCOvwsg10UIIIYQQImfydry9jFIqyuL1TK31TIvXBuC8xesLQJ27rO95YPUDzJeBnEQ7qBvJd+yy3eKFzB9OJN22SwQAClv0zFsp9rnCpWhB828KR8jgCH3iepJ9MpQobM7gCPsiwU51KGlRh2u3Uu2SwaXo4+nPHaE/xCXapw7ORRyrDkUCX7VLhsQ9M9KfO8Jx4Qj94WGXx7e4++dul3Ng/RTe6j8KSqneQAjQ5EEEs0ZOooUQQgghRH5wAahg8doDiMncSCnVAvgQaKK1Ts6rMHISLYQQQgghcsTOt7jbCVRTSlUGooHuQE/LBkqpQOBroJXW+nJehpEvFgohhBBCCIentb4NvAqsAY4Av2qtDymlRiql2pmaTQCKAwuUUnuVUsvyKo+MRAshhBBCiByx9338tNargFWZpg2zeN7i/yuLjEQLIYQQQghhIxmJFkIIIYQQ96aw/1C0A5GRaCGEEEIIIWwkI9FCCCGEECJH8vg+0fmKjEQLIYQQQghhIzmJzmfWrY0g0M8Lf+/qTJowPsv85ORk+vXujr93dZo1qsfZM2cAiNoZSf3aQdSvHUS9WoEsC1+S6wxr10RQ06cGPp5PMeHTcVYz9O7ZDR/Pp2hUv056hitXrvBsi2aUcS7OG6/f31/XWrsmggBfT/y8qjFxgvUMfXt1x8+rGk0a1s2QoXXLpylXugRvDcn/GRyhP6xbG0FQTS/8faozOZsM/Xt3x9/HlOGsOUODOkE0qBNE/dqBLL/PPmnvfbF+bQTBNb0IuEcdAnyq87RFHXbtjKRhnSAa1gmiwX3WYf3aCGoHeBPsV4OpE61nGNi3B8F+NWjRpB7nTBnOnT2D+xPFaVw3mMZ1g3nr9ZdzncER+sP6tRHU8vcmyLcGU7KrQ58eBPnWoEVjcx3SnD9/Do+ypfhs6qRcZ3CEOnw1vBdnN4wlasEH2baZ9G4XDoYPJ3L+UAI8PdKn9wqrw4HwYRwIH0avsLv9VeW7c5Tjwt794WGhMN4nOq8e+Y7WWh6O9dBaa309KTXLI+5miq5cuYref/i4vpKQqH39auqdew5kaDN52gw98IVB+npSqp7141zdqUtXfT0pVV+6el1fu5Gsryel6uOnL+gyZcumv7Z8WEr8N+vjRtJtXblKFX34r5M6/may9vOrqXfvO5ShzdTpn+sXXnxJJ/6r9ew5P+vOXZ/Tif9q/U/cDb1+0+96+owv9UuDX7G6/rSHpZvJdzI8Em79qytXrqIPHjmhr11P0r5+NXXU3oMZ2kyZNkM//8IgfTP5jv7hp3m6c5fn9M3kO/ry1et63cbf9LTPvtAv/eflLOu2fDhaBnv0h8x9IiExNcPj2o0UXalyFb3v8HH9T7wxQ+TuAxnaTJpqzJCQmKq/nz1Xd+rcVSckpuqLV67rq9eTdUJiqj52ypgh7XXmh6Pti/jE1AyPq6Y67D18XP9tqsOO3QcytJk4dYYe8MIgHZ+Yqr+bPVd37NxVxyem6tgr1/WV68k6PjFV/2WqQ9rrzA9LV2/ezvD4OyFZV6pcRe8+eExfvHZL+/jW1Nui9mdoM2HKZ7r/84P01Zu39Tc/zNUdOnfVV2/e1nsPn9CeXj5Z1mnt4Wj94dqt2xke/1w31mHPoWP6Utwt7eNXU/+5a3+GNml1uHbrtv7WtC8s54e176jbd+ysR44Zn2X9aQ9Hq0PhgFeyPJoPnKzrdh+rDx6Ptjq//auf64itB3XhgFd04z4TdOT+07pwwCvarfE7+tT5v7Vb43e0a6P/6lPn/9aujf5rdR2OdlzYuT/Y+/whzx8+NQP1oegbefYAouz9M9rykJFoO1BK5epa9KidkVSpWpXKVapQsGBBOnftxorlGe8hvnJ5OD179wWgQ6cubN60Ea01RYsWxcnJuNmkpCRULt/y7YyMpGrVp9IzdO3WnRXLwzO0WbE8nF59+gHQqXMXNm/cgNaaYsWK0aBhQwoXLpyrbacx1sGcoctz3axkWJaeoWOnLmzeZM5Qv0FDCj00GezbH9IzVDZnWLkiU4YV4fToZZFhs5UMyfebwb77YlemOnSyUodVK8LpaVGHLQ+4DruiIqlcpSqV0jJ0eY7VWTIso3uvPgC079iZ30wZHhRH6A+7oowZLOuwKlOG1SuX0aO3uQ5bLOqwclk4FStXxtPLO1fbB8eoA8Afu09yNf5WtvNDm9Rk3opIACIPnKFUiSK4linJM/W92LD9KNcSbhF3PZEN24/SsoHt9XCU48Le/eFho/Lwkd88sifRSqliSqmVSql9SqmDSqluSqnmSqk9SqkDSqnvlVKFTG1rKaW2mdpGKqVKKKUeV0pNNLXdr5R6zdQ2WCm1RSm1Sym1RinlZpq+WSk1Rim1BRiSm8yxMdEYPMx/Mt5gMBAbE52hTUxMDB6mNk5OTpQqWYorV64AsDNyB7UC/agb4s/Uz75I/wVli5iY6PT1GzN4EB2dOUM0HhXMGUqWMmd4EIzrN3/saDB4EGstg0UdSpZ8+DI4Qn+IzdQf3A0GYjLVITZThpIlS3HVIkPtID/qhfgzdfp99EkH6A9Z9oWVOhiyqUNU5A7qBPlRP8SfKbmsg+X6AdwNHsTGxuQ4w7mzp2lSL4TQZ5vx5x+/27x94/rt3x9iY2IwGDLVISZjHWIs2lhmuHnzJtMmf8p7HwzjfjhCHXLCvZwzFy5eS38dfSkO93LOuJd15sIli+mX43Av62zz+h3muLBzfxAPr0f2JBpoBcRorf211r5ABPAD0E1r7YfxziWDlVIFgfnAEK21P9ACSAQGAZWBQK11TWCuUqoA8BnQRWsdDHwPfGKxTWetdROtdYYLq5RSg5RSUUqpqJkzZ2Yb2NqIUeZ353drU6t2HXbuOcDmP3YwecJ4kpKSst1WXmV4EHK0fslwzzb27A9YZIjcfYDNW3cwKQ8zOPq+CKldhx27D7Bpax7vC6y3Ke/qxv6jp9nyZxSjx03kxQF9SEhIyJsMDtwfxo0eweDX3qB48eI2b9fWDHldh5ywdghora1Pt9J37iW/HBd53R8eOjIUne5RPok+ALRQSo1XSjUCKgGntdbHTPNnA42BGkCs1nongNY6QRv/dnsL4CvTc7TWV01tfYF1Sqm9wEeAh8U251sLorWeqbUO0VqHDBo0KNvA7gYPoi+cT38dHR2Nq5t7hjYGg4ELpja3b98mPiGe0qVLZ2jj6elF0aLFOHzoYLbbyo7B4JG+fmOGC7i7Z87gwYXz5gwJ8Vkz3A/j+i9kyOCaKYO7Rc7bt2+TYKUO+T2DI/QH90z9ISY6GrcsdTDcsw41PL0oVuw++qQD9Ics+8JKHaIzZXB5gHWwXD9ATPQFXF3dMrZxt56hUKFClH7iCQACAoOpXKUKJ08cw1aO0B/cDQaiozPVwc0t2zaWdYjaGcnwD9+npmdVvvx8OpMnjGPml5/nIoP965AT0Zfi8HB1SX9tKO9M7N/xRF+Ow6O8xfRyxum2cpjjws79QTy8HtmTaNPJcjDGk+mxQPtsmiqw+hbc2nQFHNJaB5geflrrlhbzb95P5uCQWpw8cYIzp0+TkpLCogXzaRsalqFNm9B2zJvzIwBLFy+kSdNmKKU4c/o0t2/fBuDc2bMcP/4XT1asZHOGkFq1OHHieHqGBfN/oW1ouwxt2oa2Y+5PswFYvGghTZo9/UBH/Yx1MGdY+Ot8KxnC0jMsWbyQJk0f1gz27Q/BIbU4deIEZ86YM7RpmylRpe2YAAAgAElEQVRD23b8PNciQxNThjOZMhz7i4q5zGDvfRGUti9MdVicTR3mWdSh8QOuQ1BwLU6dPMHZtAwLf6VVpgyt24bxy9yfAAhfsohGpgz//P03qampAJw5fYpTJ05QqVIVmzM4Qn8ICjbuC8s6tM6UoVWbMH6eY65D2r5YvX4L+4+eZP/Rkwx+5XXeeud9Bg1+JV/WISdWbjlAz9DaANT2q0TCjUQu/pPAum1HaFHPE+cSRXAuUYQW9TxZt+2Izet3lOPC3v3hYaPy8L/85pH9YytKKXfgqtZ6jlLqBvAfoJJS6imt9QmgD7AFOAq4K6Vqaa13KqVKYLycYy3wH6XUZq31baVUaeAvoKxSqp7W+k/T5R3VtdaHHkRmJycnJk6dToew1txJTaVPvwF4efsw+uPhBAYH0za0HX37D+TFgX3x966OS+nSzPpxHgB/btvK5ImfUqBAAR577DEmT5tBmTJlcpVhyrQZhLV9ltTUVPr1H4i3jw8jRwwjKDiE0LB29B/4PAP798HH8ylcXErz09xf0pev8VQlrickkJKSwvJlS1mxai1e3rZ9YcPJyYlJUz+jfWgrUlNT6dt/AN7ePoz6eBhBQSG0DWtHvwHP88KAvvh5VcOldGlm//Rz+vJe1SubMywPZ9nKNXjZ+KURR8ngCP1hwpTpdAxrTaplhpHDCQoKpo0pw6CBffH3qY6LS2lm/WTOMCVThidymcEh9sWU6XQy1aG3qQ6fjBxOoKkOfUx1CDDV4XtTHbZb1EE99hiT7qMOn06aRpf2bUhNTaVX3/54efswZtRwAoNCaN02jN79BvKfF/oR7FcDFxcXvp1tzLDtj98ZO3oETo878fjjjzNp+udZRgNzmsER+sOnk6fRuV2mOowcTkBQCG1Cw+jTfyD/eb4fQb7GOnxnOi4eFEeoA8Dssf1pFFyNMs7FORExilFfraKA0+MAfLtwKxFbD/FsQx8OLRvOraR/eWnEHACuJdxi7DcRbJ3zLgBjZkZwLSH7LyjerQ4OcVzYuT+Ih5d6kN/Mzk+UUs8CE4A7wL/AYKAUMBHjm4udwGCtdbJSqhbGa52LYDyBbgEkAZ9ivLb6X+AbrfUMpVQAMN20Lidgqtb6G6XUZuC/Wuuoe0TTADeS7zzAnzbnihcyfziRdNsuEQAobPH27laKffpo0YLmd8WOkMER+sT1JPtkKFHYnMER9kWCnepQ0qIO126l2iWDS9HH0587Qn+IS7RPHZyLOFYdigTe333Ocytxz4z0545wXNi5P+S/oVQb+foH6UVrtubZ+j3diu3SWofk2QYesEd2JFprvQZYY2VWoJW2O4G6Vtq+ZXpYtt2L8VrqzOtomqugQgghhBDC4TyyJ9FCCCGEEMI2D/1wuw0e2S8WCiGEEEIIkVsyEi2EEEIIIXJGhqLTyUi0EEIIIYQQNpKRaCGEEEIIcU/GPywoQ9FpZCRaCCGEEEIIG8lItBBCCCGEuDcFD/CPveZ7MhIthBBCCCGEjWQkWgghhBBC5IgMRJvJSLQQQgghhBA2kpFoB1W8kP3f3xR2kN5RtKD93/c6QgZH6BMlCts/gyPsi5IOUAeXoo/bO4JD9AfnIlIHgMQ9M+wdwSGOC0foDw89+/8KdhgOcpokhBBCCCEcm5Jb3Fmw/9tGIYQQQggh8hkZiXZQp/5OtMt2q5Qtkv78Voq2SwbI+JH9TTvlKGaR4UbyHbtksLyE41D0Dbtk8DEUT3/uCHVISLJPBsuPqh3h+HSEOpy4bJ86PFXOXIf4xFS7ZChlcdnA/vPX7ZKhZoUS6c8doT8UCXzVLhksL2U5fumWXTJUK1/ULtu1B7nFnZmMRAshhBBCCGEjGYkWQgghhBD3pJDvFVqSkWghhBBCCCFsJCPRQgghhBAiZ2QoOp2MRAshhBBCCGEjGYkWQgghhBA5IveJNpORaCGEEEIIIWwkI9FCCCGEECJH5D7RZjISLYQQQgghhI3kJDqf2bJxLS3q+dOsti9fTZ+YZX7kn1tp17we1d1KsHr5kvTp0efP0a5FfUKb1aFVo2Dm/fBNrjOsXRNBgK8nfl7VmDhhXJb5ycnJ9O3VHT+vajRpWJezZ84AcOXKFVq3fJpypUvw1pD7+8tW69ZEEOjrSU2vaky6S4aaXtVoapFh4/p1NKwbQu2gmjSsG8LmTRtzn2FtBIF+Xvh7V2fShPFWM/Tr3R1/7+o0a1QvQ4ZG9WpRJ9ifRvVqseU+MmzdtI7QxoG0buDPtzMmZZkftX0rXVs1xL+iM2tXLM0wb9Loj2j/dC3CmgYz5n/voHXu/jKkI9Rh/doIgmt6EeBTncnZZOjfuzsBPtV5ulE9zp41Zti1M5KGdYJoWCeIBrUDWR6+JMuyOeUIx6Yj1OG3jWtpWd+f5nV8+TqbOrRvUQ9P94x1SHP9egIN/avy8dA3c51h/doIQvy9CfStwZSJ1uswoE8PAn1r0LyxuQ5pzp8/h6FsKT6bmvWYyqk/Nq+jXdMgQhv5893nk7PM//GbGXR8uhZdWtbjxe5hxFw4lz5v2YK5hDUOIKxxAMsWzM11BkfoD18N78XZDWOJWvBBtm0mvduFg+HDiZw/lABPj/TpvcLqcCB8GAfCh9ErrE6uM/y2cS3PNgigRV0/vv4sa5/c+edWOjxTHy9DSSKs9Mkb1xNoGPAUHw99K9cZHiYqDx/5jZxEmyil3JVSC7OZt1kpFfL/nSmz1NRURrz3Jt//vJQ1W3ezfPECjv91JEMbd0MFPp0+k7BO3TJML1velQUrN7Fi0w4Wrd7CV59N4tLFmFxleGvIqyxZtopd+w6xYP4vHDlyOEOb2bO+w9nZmQNHjvPq62/wvw/fB6Bw4cL8b/hIxoybYPN2rWVYvGwVUffIsP/IcV6xyPBEmTIsWLyMyN37+fq7H3hxYN9cZ3h7yGssDl/Jzr0HWfjrLxzNlOHHH77H2dmFfYeP8cprQxj2kTnDr4vC2bFrH19/O4sXn++X6wyjP3qbL39azLJNO1kVvpCTx45maONmqMDoyV/RpsNzGabvidrOnqjtLF63naUbIjm0bxc7/9yaqwyOUIe333iNheEridxzkEULssng4sLeQ8d4+bUhDDf1By8fXzb/EcnWHbtZFL6KN14bzO3bt3OVwRGOTYeow/tv8u28paz+fTcrllivw/hpWeuQZuq4kdSq18jmbVtm+O+br7Nw6Qp27D7AwgXzs9ThJ1Of3HPwL15+7Q1GfDQ0w/wP3n2bFi1b3VeGMR+9zRezF7Fkw04ilmU9Nj19ajJv5RYWrv2TZ9q2Z8qYYQDEx13lq6njmbNsI3OXbeKrqeNJiLuWqwz27g8APy3fTvtXPs92/rMNvan6ZFl823/Mq6N/ZvoH3QFwKVmUDwe1pnGfiTTqPYEPB7XGuUSRbNeTndTUVD4e+hbfzFvCqt92sWLJAk5k6pNuhgqMm/Y1oR2fs7qOqeNHUrteQ5u3LR5+chJtorWO0Vp3sXeOu9m3O4qKlavyZKXKFCxYkNCOXVgfsSJDG48nK+Lp48djj2XctQULFqRQoUIApKQkc+fOnVxliNoZSZWqT1G5ShUKFixIl+e6sWJ5eIY2K5Yvo1cf4wlRx05d2LxpA1prihUrRv0GDSlUuHCutn23DCszZViZTQb/gEDc3N0B8Pb2ITkpieTk5FxmqJqeoXPXbqxYvixThnB69jaepHfo1IXNmzZmyeDl7UNSLjMc2BvFk5WqUKFiZQoULEjr9p3ZuDZjfzBUqEgNb18eeyzje3ylFCnJyfybkkJKSjL/3r7NE2XL2pzBEeqwKy1DZWOGTl27sXJFxgyrVoTTs5c5w5bNxgxFixbFycn41ZCk5CRULi/2c4Rj0xHqsD9THdp26MKGbOqgHsv6z8/Bfbu58vdlGjZtnqvtA+yKMtahkqkOnbs8x6rMdVi5jB69+wDQvmPn9DoArFgWTqXKlfH08s51hoN7o6hQqQoepmOzVVhnNq9dmaFN7fqNKVKkKAB+gbW4HBsNwLYtG6jbqBmlnEtT0tmFuo2a8ceW9TZncIT+APDH7pNcjb+V7fzQJjWZtyISgMgDZyhVogiuZUryTH0vNmw/yrWEW8RdT2TD9qO0bGD7Ptm/J4qKlavwZEVzn1y/xkqf9M56bAIc3LeHf/7+m4ZNct8nHyrKeE10Xj3ym0fyJFopNV4p9bLF6xFKqbeVUgdNr4sopX5RSu1XSs0Hili0bamU+lMptVsptUApVdw0vblSao9S6oBS6nulVCHT9HFKqcOmdWX9HMkGly7G4GYwpL92dTNwKTbnI1Yx0Rdo06Q2DQOr89Krb1He1d3mDDEx0XhUMH/cZjB4EBsdnbWNRwUAnJycKFmyFFeuXLF5W7ZkiLlHhlJWMixdsoia/oHpJzC2iI2JxmBavzGDgdiYzBli7pkhfMki/HOZ4XJsLK5u5v5Q3tXA5djYHC0bEFyHWvUb0Sy4Gs2CqtGgSXOqVvO0OYMj1CHGWoZM/SE2Jia9TVqfvGrKEBW5gzpBftQP8WfK9C/STx5s4SjHpr3rcPFiDG7uFnVwN+R4VP3OnTuMHTGU94aPsXm7lmJjYjAYzHVwN3gQGxOTbRvLOty8eZNpkz/lvQ+G3VeGyxdjcXU3/44q5+bOpUvZ12HJ/B9p0OwZi2Utjms3dy5fzNlxbckR+kNOuJdz5sJF80h79KU43Ms5417WmQuXLKZfjsO9rLPN678UG5NhXxiPzZzV886dO4wbMZT3hn1i83bFo+GRPIkGfgEsP0t8Dthp8XowcEtrXRP4BAgGUEqVAT4CWmitg4Ao4C2lVGHgB6Cb1toP411PBiulSgMdAR/TukZbC6OUGqSUilJKRc2cOTPb0FavWbXhrZu7wYNVWyLZuOMAi3+dyz+XL+V42btlyDJKkZM29yEnGe7V5vDhQwz74H2mf/6V3TIcOXyIYR8OZdqML3OXgdzX+dzpk5w6/hcbdh5lY9RfRP6xhajttl/O4RB1uM8MIbXrsGP3ATZt3cHkCeNJSkp6IBkc8djM6zpYPfZzeKXj3Flf06T5s7gZPO7d+K4R7r0vsqvD2NEjePm1NyhevPgDz5Ddsbli8S8c3r+H/i8NyXbZ3AzROUR/yAFrP5rW2vp0K7/z7sWWfZHZ3FkzadK85X33yYePXBWd5pE8idZa7wHKma6D9geuAecsmjQG5pja7gf2m6bXBbyBP5RSe4F+QEWgBnBaa33M1G62aR0JQBLwrVKqE2D1My2t9UytdYjWOmTQoEHZ5nZ1yziScDE2mvKubjb97ADlXd2pVsOLnTu22bysweDBhfMX0l9HR1/A1T3jqJm7wYMLF84DcPv2bRIS4ildurTN27Ilg1umDIZMGeItMkRfuEDPrp2Y+f1sqlStmqsM7gYPok3rN2aIxtUtcwbDXTP0eK4zX3/3Q64zlHdz52KsuT9cuhhNWVfXHC27PmI5/kG1KVqsOEWLFadhs5bs373z3gtm4gh1MFjLkKVPGtLbpPVJl0x9soanF8WKFePwoYM2Z3CUY9Mh6mDxScTFmGjK5bAOe6IimfP9VzQN8WT8xx+w5Nd5TBj1P5szuBsMREeb6xATfQE3N7ds21jWYdfOSIZ9+D5+nlX58vPpTJowjplfZn89b3bKu7lzMcb8O+pybAzlymWtw/bfN/HtjIlM+24+BU2fwhiXtTiuY2MoVz5nx7UlR+gPORF9KQ4PVxdz7vLOxP4dT/TlODzKW0wvZ5xuK1d3Q4Z9cTE2mnI5/D25d9cO5sz6mmYhXowb+SFLF8xjwmjb+6R4eD2SJ9EmC4EuGEekf7Ey39pbXgWs01oHmB7eWuvnyebtk9b6NlAbWAR0ACLuJ3DNwGDOnDrB+bNnSElJYcWShTR/tm2Olo2NuUBSYiIA8XHX2BW5nSpVq9mcITikFidPHOfM6dOkpKSw8Nf5tA1tl6FN29Aw5v40G4AlixfSpOnTD3Qk2lqGNpkytMkmQ1xcHJ07hDJi9Bjq1W9wnxlOpGdYtGA+bUPDMmVox7w5PwKwdPFCmjRtlp6hS8cwPh71yX1l8PUP5tzpk1w4d4Z/U1JYHb6IZs/krD+4GSoQtX0rt2/f5t9//yVq+1aqVKthcwZHqENQWoYzxgyLF8ynTdtMGdq2Y95cc4bGTYwZzpw5nf6FqXNnz3L82F9UrFjJ5gyOcGw6Qh38MtVh5dKc12Hyl7P4bfcxNkcd5b3hY+j4XE/e+d8omzMEBWesw6KFv9I6Ux1atwnj5zk/AcZLidLqsHr9Fg4cPcmBoycZ/MrrvP3O+wwa/IrNGXz8gzl3+lT6sRmxfBFNnmmToc2Rg/sYNXQI0777hSfKmL+PUL9Jc/78fSMJcddIiLvGn79vpH4ursd1hP6QEyu3HKBnaG0AavtVIuFGIhf/SWDdtiO0qOeJc4kiOJcoQot6nqzbduQea8vKLyCYM6dOZuyTLXPWJyd9MYstu/5iU9QR3h/2CR269uSdj2zvkw8ThVwTbelR/mMrvwDfAGWAJoDlxZi/Ab2ATUopX6Cmafp24HOl1FNa6xNKqaKAB3AUqJQ2HegDbDFdL11Ua71KKbUdOHE/gZ2cnBg+bjL9u7XjTmoqXXr2pbqnN1PGjcQvIIgWrULZvyeKwf27Ex8fx8a1q5j26Wgift/FyWN/MWb4UJRSaK154eUh1PD2zVWGSVM/o31oK1JTU+nbfwDe3j6M+ngYQUEhtA1rR78Bz/PCgL74eVXDpXRpZv/0c/ryXtUrcz0hgZSUFJYvD2fZyjV42fgFnrQMHUwZ+twlQ01Thh9MGb7+cganTp5g/JjRjB9jvLomfOUaypUrZ3OGiVOn0yGsNXdSU+nTbwBe3j6M/ng4gcHBtA1tR9/+A3lxYF/8vavjUro0s36cB8DMLz83Zhj7CePHGq+1C18RQdlcZPhg1ERe6tWB1Dt36NitD0/V8GLGhNH4+AfSrGVbDuzdxRsv9CQhPo7N61bz+eRPCN+4k5ZtOxD5xxY6tqiDUoqGTVvQNNM/8vmpDhOnTKdTWGtSU1PpbcrwycjhBAYF0ya0HX36D2TQwL4E+FTHxaU03/9kzLB921amTPyUAgUKoB57jEnTZvBEmTK5qoMjHJsOUYexkxnYvR2pqal06dGXap7eTB0/Ej//IJqb6vDygO4kxMWxae0qpk8Yzerfdtm8rbtlmDB5Gp3btTHWoW9/izqE0CY0jD79B/LS8/0I9K2Bi4sL35v65IPMMHTUBAb36cid1FQ6mI7NzyeNxscviKYt2zDlk/9x69ZN3hls/AK0q7sH07+fTynn0gx6/V16hjUF4KUh71HK2fZP8hyhPwDMHtufRsHVKONcnBMRoxj11SoKOD0OwLcLtxKx9RDPNvTh0LLh3Er6l5dGzAHgWsItxn4TwdY57wIwZmYE1xKy/4Li3eowbMwknu/RPkOfnDZ+FL4BQTR/ti379+zilYGmPrluNdMnfMKq36Jy9fOKR4vK7b1hHwZKqQPAP1rrZkqpSsAKrbWvUqoIMAvjpRt7gaeA17XWUUqpp4HxmE+6P9JaL1NKNQcmYnxjshPjddWlgXCgMMY3cBO11rPvEUsDnPo78cH9oDaoUtZ8C6FbKfbrG0ULmt+S3rRTjmIWGW4k5+6OCfereCHzh0WHom/YJYOPwXx9qCPUISHJPhlKFjZncITj0xHqcOKyferwVDlzHeITU+2SoVSRx9Of7z9/3S4ZalYokf7cEfpDkcD7u/9/biXumZH+/Pgl20+0H4Rq5YtCfryo10b+gcF69aY/82z9BpdCu7TWdr+lcE49yiPRmL4EmPb8DOBrep4IdM9mmY1ALSvTNwCBmSbHYrycQwghhBBCPEQe6ZNoIYQQQgiRc/nx2uW88ih/sVAIIYQQQohckZFoIYQQQgiRIzm99/ujQEaihRBCCCGEsJGMRAshhBBCiJyRgeh0MhIthBBCCCGEjWQkWgghhBBC5IgMRJvJSLQQQgghhBA2kpFoIYQQQghxT0rJfaItyUm0EEIIIYTIEbnFnZnSWts7g8hIdogQQgiR/zz0Z5cBQcF63ZYdebb+ciUL7NJah+TZBh4wGYkWQgghhBA589C/Vcg5+WKhEEIIIYQQNpKRaAd1/mqyXbZboXSh9OeJ/9rvypIiBcxvdW+m2CdHsYKOleHU34l2yVClbJH05zeS79glQ/FC5vf7jpDh3JUku2R48onC6c+vJ9mnDiUKm+uw79x1u2Twf7JE+vP4xFS7ZChV5PH058cv3bJLhmrli6Y/j7NTHZwdrA5FAl+1S4bEPTPssl17kIFoMxmJFkIIIYQQwkYyEi2EEEIIIXJEbnFnJiPRQgghhBBC2EhGooUQQgghRA4ouU+0BRmJFkIIIYQQwkYyEi2EEEIIIe5JIddEW5KRaCGEEEIIIWwkJ9FCCCGEEELYSE6ihRBCCCGEsJGcROcjmzespWltPxqFePP51AlZ5u/Y9jttmtWlcrlirFy2OMO8Pl3D8K1cnv49Ot53jrVrIvD38cTXqxoTPx2XZX5ycjJ9enbH16sajRvU5eyZMwBcuXKFVs88TVmXErw55P7+qtS6NREE+npS06sakyZYz9C3V3dqelWjaUNzho3r19Gwbgi1g2rSsG4ImzdtzNcZtmxcS4t6/jSr7ctX0ydmmR/551baNa9HdbcSrF6+JH169PlztGtRn9BmdWjVKJh5P3yT6wzr1kYQ6OeFv3d1Jk0Yn2V+cnIy/Xp3x9+7Os0a1ctQh0b1alEn2J9G9Wqx5X72hQNk2LxhLc3q1KRxLR++mGbt+NxKm2b1qFK+eIbj89CBfXRo1YQWDYJ4tnEtli9ZkOsM69ZGEFTTC3+f6kzOpg79e3fH38dUh7NnAIjaGUmDOkE0qBNE/dqBLA9fkmXZnPpj8zraNwsirLE/338xOcv8n76ZQafmtej6bD0G9Qgj5sK59HnLFs4lrEkAYU0CWLZwbq4zrF8bQYi/N4G+NZgy0XodBvTpQaBvDZo3Ntchzfnz5zCULcVnUyflOsNvG9fybIMAWtT14+vPsh6bO//cSodn6uNlKEnE8qz1vnE9gYYBT/Hx0LdynWH92ghq+XsTdJc6DOzTgyDfGrRoXI9zVurg8RDU4avhvTi7YSxRCz7Its2kd7twMHw4kfOHEuDpkT69V1gdDoQP40D4MHqF1cl1hoeJUnn3yG8emZNopdRmpVSIlen9lVIO//c6U1NT+ejdIcz+NZwN2/aybPGvHDt6JEMbd48KTJrxDe07d8uy/EuvvsmUL79/IDneHPIqS5evYve+QyyY/wtHDh/O0OaHWd/h7OLMwSPHee31N/jog/cBKFy4MMNGjGTM+KwnGLZmeGvIqyxetoqotAxHMmaYPes7nJ2d2X/kOK+8/gb/+9CY4YkyZViweBmRu/fz9Xc/8OLAvvk6w4j33uT7n5eyZutuli9ewPG/MvUJQwU+nT6TsE4Z+0TZ8q4sWLmJFZt2sGj1Fr76bBKXLsbkKsPbQ15jcfhKdu49yMJff+Fopjr8+MP3ODu7sO/wMV55bQjDPjLX4ddF4ezYtY+vv53Fi8/3s3n7jpThf++9wez54az/Yw/LFi/gWOZ94VGBSTNmZjk+ixQpypTPv2P9H7v5cX44H3/4LvHxcbnK8PYbr7EofCU79xxk4YJs6uDiwr5DxjoMN/VJbx9ftvwRyR87drM4fBVDXhvM7du3c5Vh7P/e5vPZi1i8ficRyxZy8tjRDG08fWoyd8UWFqz5kxZt2jN17DAA4uOu8vXU8cwJ38jcZZv4eup4EuKv5SrDf998nYVLV7Bj9wEWLpifpQ4/mfrDnoN/8fJrbzDio6EZ5n/w7tu0aNnK5m1bZvh46Ft8M28Jq37bxYolCziRqT+4GSowbtrXhHZ8zuo6po4fSe16De8rwztvvs6CpSvYvvsAi7KpQylnF3Yf/IvBVurw4UNQB4Cflm+n/SufZzv/2YbeVH2yLL7tP+bV0T8z/YPuALiULMqHg1rTuM9EGvWewIeDWuNcosh9ZREPl0fiJFop9bi9M9yvvbt3UqlyVSpWqkLBggUJ69iVtauXZ2hT4clKePn48dhjWXdrwyZPU7x48fvOEbUzkqpVn6JyFWOOLs91Y8Xy8AxtVi5fRu8+xpORjp27sHnTBrTWFCtWjPoNGlK4cOH7zlAlU4aVVjL0SsvQyZzBPyAQN3d3ALy9fUhOSiI5OTlfZti3O4qKlavyZKXKFCxYkNCOXVgfsSJDG48nK+JppU8ULFiQQoUKAZCSksydO3ds3j6k1aFqeh06d+3GiuXLMrRZuTycnr2NbxQ6dOrC5k0bs9TBy9uHpPvaF/bNkHZ8pu2LsI5dWbc6476o8GRFq8dnlaeqUbnqUwCUd3OnTNmyXP3nH5szpNehsrkOK1dkqsOKcHr0sqjDZmMdihYtipOT8WZNSclJqFwOCR3cG0WFSlXweLIyBQoW5NmwzmxetzJDm1r1G1OkSFEAagbW4lJsNADbtmygbqNmlHIuTclSLtRt1Iw/Nq+3OcOuKGMdKqXVoctzrMpUh1Url9Gjdx8A2nfszBZTHQBWLAunUuXKeHp527ztNPv3RFGxchWerGjsD207dGH9GivHprf139cH9+3hn7//pmGT5rnOkLkOnazUYfVd6rByWTgVH4I6APyx+yRX429lOz+0SU3mrYgEIPLAGUqVKIJrmZI8U9+LDduPci3hFnHXE9mw/SgtG+S+Hg8LlYf/5TcOfxKtlHpXKfW66fkUpdRG0/PmSqk5SqkeSqkDSqmDSqnxFsvdUEqNVErtAOplWucApdQxpdQWoIHF9B+UUtOVUtuUUqeUUl0s5r2jlNqplNqvlPo4h9keN63zoCnjm7mtw8XYGNwN5o+Y3NwNXIq1feTwfsVER2PwMOcwGDyIiYm20qYCAE5OTpQsVRU1AEkAAAwrSURBVIorV648uAwx0XhUyJQhOjprG4sMpUpmzbB0ySJq+gemn0zmtwyXLsbgZjCkv3Z1s61PxERfoE2T2jQMrM5Lr75FeVd3mzPExpj3NYDBYCA2c3+IiblnHcKXLMI/l3VwhAwXY2Nwc894fF6Mjb7LEtbt3b2TlJQUKlauYvOysRb9DcDdYMjSJ2Mz1aFkyVJcNdVhZ+QOagf5US/En6nTv0g/qbbF5YuxuLqZ61DezZ3Ld/mEY8n8H2nY9BmLZc39ubyrO5cvxtqcITYmBoPBsg4exMbEZNvGsg43b95k2uRPee+DYTZv19Kl2BhcLfqD8djM2c9y584dxo0YynvDPrmvDDmpQ8wjUIeccC/nzIWL5k89oi/F4V7OGfeyzly4ZDH9chzuZZ3zPI/IPxz+JBr4DWhkeh4CFFdKFQAaAseB8cDTQABQSynVwdS2GHBQa11Ha701bWVKKTfgY4wnz88Amd9WupnWHQqMMy3TEqgG1DZtJ1gp1fge2X43tTVorX211n7ALGs/oFJqkFIqSikVNXPmTKtFSBsdyLSc1bZ5KSc58jrrg8hw+PAhhn3wPtM//+qhymDLRWXuBg9WbYlk444DLP51Lv9cvvRAMthahyOHDzHsw6FMm/Glzdt3lAw8gD5/6WIsbw5+nomffW11VO7eEXJXh7Q+U6t2HSJ3H2Dz1h1MmjCepKQk2zOQ8zqsXPwLhw/sod9LQ7LNlpvfGzk5LrLb1tjRI3j5tTfu+1O7+/lZ5s6aSZPmLXGzGDTJswzZtBk3egSDH5I65IS1SFpr69Ot9PFHSh5eD50fr4nOD39sZRfGk9YSQDKwG+MJayNgObBZa/03gFJqLtAYWAqkAousrK9OpmXmA9Ut5i/VWt8BDiulypumtTQ99pheF8d4Uv3jXbK9DsQCVZRSnwErgbXWfkCt9Uwg7ezZ6hHq5m4gJvpC+uvYmGjKubpZa5qnDB4eRF8w54iOvoCbm7uVNufx8PDg9u3bJMTHU7p06QeXweDBhfOZMri7Z21z4TwGU4b4BHOG6AsX6Nm1EzO/n02VqlXzbQZXNwOxFiONF2OjKZ+LPlHe1Z1qNbzYuWMbrcNs++Kpu8G4r9NER0fjmrk/GAx3rUOP5zrz9Xc/5LoOjpDB1d1AbEzG49OWkf3r1xMY0KMT//1gOEEhufvykrupv6WJiY7O0ifdM9UhISHrsVnD04tixYpx+NBBgoKzfI3krsq7unMx1lyHS7ExlC2ftU9u37qJb2dM5LtfV1PQNPJf3s2dqO1bzctejCGkru3XwrobDERHW9bhAm5ublbbWNbBpXRpdu2MJHzJYoZ9+D7x8XE89thjFCpUmEGDX7Epg6u7gYsW/eFibDTlXF1ztOzeXTuI2rGNeT98w81bN/k3JYWixYrxzkejbMpgrQ6uOaxDlKkOwx+COuRE9KU4PFxd0l8byjsT+3c80ZfjaBRczTy9nDO/7zr+wLcv8i+HH4nWWv8LnAEGANswjvA2A6oC57JfkiStdWp2q73LcpYXRCqL/4/VWgeYHk9prb+7R7YjWutrgD+wGXgF+PYu270r/8AQTp86wbmzp0lJSWH5kgU80zo0t6vLteCQWpw4cZwzp405Fv46n7ah7TK0aRMaxpyfZgOwZNFCmjR9+oGORAeH1OJkpgxtrGSYm5ZhsTlDXFwcnTuEMmL0GOrVb2Bt9fkmQ83AYM6cOsH5s2dISUlhxZKFNH+2bY6WjY25QFJiIgDxcdfYFbmdKlWr3WOprIx1OJFeh0UL5tM2NCxDmzah7Zg350cAli5eSJOmzdLr0KVjGB+P+uQB7Av7ZjAfn2fMx2ernO2LlJQUBvXtRuduPWnbvnOuMwSH1OLUiROcOWOuQ5u2merQth0/z7WoQxNjHc6cOZ3+RcJzZ89y/NhfVKxYyeYMPv7BnDt9iuhzZ/g3JYU1yxfR5Jk2GdocPbiP0UOHMPW7Xyhdpmz69PpNmvPnbxtJiL9GQvw1/vxtI/VzcS1sULCpP6TVYeGvtM5Uh9Ztwvh5zk+A8TKexqY6rF6/hQNHT3Lg6EkGv/I6b7/zvs0njgB+AcGcOXUy/dhcuXQhzVvmrD9M+mIWW3b9xaaoI7w/7BM6dO2ZqxPHtDqcNdVhsZU6tLpLHfYfPcl+Ux3eysd1yImVWw7QM7Q2ALX9KpFwI5GL/ySwbtsRWtTzxLlEEZxLFKFFPU/WbTtyj7U93FQeP/Kb/DASDcbLJv4LDAQOAJMxjlBvB6YqpcoA14AewGf3WNcOYJpS6gkgAegK7LvHMmuAUUqpuVrrG0opA/Cv1vpydtm01tqUK0VrvUgpdRL4wcafO52TkxOjxk+lT9cwUlNT6dazHzU8vZk09mP8AoJp2TqUfbujeLFvN+Ljr7F+zSomjxvFhm3GwfPObZ/m5PFj3Lx5g9q+VZkw/SuaPP1MrnJMnvoZ7dq2IvVOKn37DcDbx4eRI4YRFBxCaFg7+g94nuf798XXqxouLqX5cc7P6ct7VqvM9YQE44nGsnCWr1yDl7dtX9RwcnJi0tTP6BDaitTUVPr0H4C3tw+jPh5GUFAIbcPa0W/A87wwoC81varhUro0P/xkzPD1lzM4dfIE48eMZvyY0QCEr1xDuXLl8mWG4eMm079bO+6kptKlZ1+qe3ozZdxI/AKCaNEqlP17ohjcvzvx8XFsXLuKaZ+OJuL3XZw89hdjhg9FKYXWmhdeHkINb1+btp+WYeLU6XQIa82d1FT69BuAl7cPoz8eTmBwMG1D29G3/0BeHNgXf+/quJQuzawf5wEw88vPjXUY+wnjxxqvewxfEUHZXNTBETKMHDeFvl3DSL2TynM9+1Hd05tJY0dSMyCIZ0zH56B+3YiPj2P9mlVMGT+a9X/sZsXSRUT+uZW4a1dZ+MscACZ+NhMfP3+bM0yYMp2OYa2NfTKtDiOHExQUTBtTHQYN7Iu/T3VcXEoz6ydjHf7ctpUpEz+lQIECPPbYY0yeNoMnypSxaftpGd4fOYHBfTtyJzWV9s/14anqXnwxaTTeNYNo+kwbpoz5H7du3eSdl41funVz92Dad/Mp5VyaQa+/S6+wpgAMGvIepZxt/wTLycmJCZOn0bldG1JTU+ndtz9e3j58MnI4gUEhtAkNo0//gbz0fD8CfWvg4uLC96b+8KA4OTkxbMwknu/RntTUVLr06Es1T2+mjR+Fb0AQzZ9ty/49u3hlYHcS4uLYtG410yd8wqrfoh5ohk8t6tDLVIcxI4cTYFGH/zzfjyBTHb57COsAMHtsfxoFV6OMc3FORIxi1FerKOBkvN/Atwu3ErH1EM829OHQsuHcSvqXl0YYj8NrCbcY+00EW+e8C8CYmRFcS8j+C4ri0aOsXj/mYJRSzYEIwFlrfVMpdQz4Sms9WSnVExiK8U3MKq31u6Zlbmiti1usYzPwX611lFJqgGmZWGAv8LjW+lWl1A/ACq31wszrUEoNAV4wre4G0FtrffIe2fwxXgedNuI/VGu9+h4/rgY4f9X2OwQ8CBVKm79Ulfiv/fpGkQLm96Q3U+yTo1hBx8pw6u9Eu2SoUtZ8S6cbybm7i8f9Kl7I/KGZI2Q4d8X264UfhCefMN/Z5nqSfepQorC5DvvOXbdLBv8nS6Q/j0/M7gPHvFWqiPmmT8cv2efEqlr5ounP4+xUB2cHq0ORwPv7GwS5lbhnBuTPwVSbBAWH6C3bIvNs/SULP75La23bdWR2lC9GorXWG4ACFq+rWzyfB2R5+2x5Am163dTi+SysfMlPa90/u3VoracB02zMtg8Iyu7nEkIIIYQQ+VO+OIkWQgghhBD2lx/v55xXHP6LhUIIIYQQQjgaGYkWQgghhBA5kh/v55xXZCRaCCGEEEIIG8lItBBCCCGEyBEZiDaTk2ghhBBCCJEzchadTi7nEEIIIYQQwkYyEi2EEEIIIXJEbnFnJiPRQgghhBBC2EhGooUQQgghxD0p5BZ3lpTW2t4ZREayQ4QQQoj856E/vQwODtF/7IjKs/UXKaB2aa1D8mwDD5icRAshhBBCiHtSSkUAZfJwE/9orVvl4fofKDmJFkIIIYQQwkbyxUIhhBBCCCFsJCfRQgghhBBC2EhOooUQQgghhLCRnEQLIYQQQghhIzmJFkIIIYQQwkb/B6uckwoJJX2tAAAAAElFTkSuQmCC\n",
      "text/plain": [
       "<Figure size 1152x576 with 2 Axes>"
      ]
     },
     "metadata": {
      "needs_background": "light"
     },
     "output_type": "display_data"
    }
   ],
   "source": [
    "fig, ax = plt.subplots(figsize=(16, 8))\n",
    "\n",
    "im, cbar = heatmap(jaccards_users, subreddits, subreddits, ax=ax,\n",
    "                   cmap=\"Blues\", cbarlabel=\"jaccard similarity\")\n",
    "texts = annotate_heatmap(im, valfmt=\"{x:.2f}\")\n",
    "\n",
    "fig.tight_layout()\n",
    "plt.title('Heatmap of the similarity values with\\nusers that posted at least one time in that subreddit as representation')\n",
    "plt.show()"
   ]
  },
  {
   "cell_type": "markdown",
   "metadata": {},
   "source": [
    "Observations:  \n",
    "1. Some of the highly similar pairs are AdviceAnimals and funny, AdviceAnimals and pics, funny and pics, funny and videos, nba and nfl, news and worldnews. These pairs all seem to be reasonable.  \n",
    "2. There are a lot of very low similarity pairs (e.g. 0.00, 0.01), which we didn't observe in **B2**. Probably, the user group of different subreddit is discrete in most cases.\n",
    "3. Subreddits related to games (DestinyTheGame, DotA2 and leagueoflegends) are all dissimilar to other subreddits according to jaccard similarity. We guess it's because few people play multiple games at the same period of time, thus only be able to react or relate to the each topic separately."
   ]
  },
  {
   "cell_type": "markdown",
   "metadata": {},
   "source": [
    "## B4. Language vs. Users similarity\n",
    "    \n",
    "* Visualize the similarity scores based on word (**B2.3.**) and user (**B3**) similarity on the x and y axes respectively for the subreddit `NBA` compared to all the other subreddits. Do some semantically meaningful groups emerge? Provide clear explanataions of your observations.\n",
    "* Furthermore, do you observe differences in similarities between various sports-related subreddits in the dataset? Please provide explanations of the reasons behind these differences, if any!"
   ]
  },
  {
   "cell_type": "code",
   "execution_count": 121,
   "metadata": {},
   "outputs": [
    {
     "data": {
      "image/png": "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\n",
      "text/plain": [
       "<Figure size 576x432 with 1 Axes>"
      ]
     },
     "metadata": {
      "needs_background": "light"
     },
     "output_type": "display_data"
    }
   ],
   "source": [
    "# delete the similarity between nba itself\n",
    "b2 = np.delete(jaccards_small[8], 8)\n",
    "b3 = np.delete(jaccards_users[8], 8)\n",
    "# specify colors for each points\n",
    "c = ['#b61827', '#ff867c', '#790e8b', '#df78ef', '#26418f', '#8e99f3', '#0086c3', '#73e8ff', '#00766c', '#64d8cb', '#6b9b37', '#cfff95', '#c9bc1f', '#ffca28']\n",
    "# remove nba for subreddits list\n",
    "no_nba_subs = [sub for sub in subreddits if sub != 'nba']\n",
    "\n",
    "fig, ax = plt.subplots(figsize=(8, 6))\n",
    "\n",
    "for i in range(len(b2)):\n",
    "    plt.scatter(b2[i], b3[i], c=c[i], label=no_nba_subs[i])\n",
    "    \n",
    "plt.xlabel('Similarity scores based on word (B2.3)')\n",
    "plt.ylabel('Similarity scores based on user (B3)')\n",
    "\n",
    "# place legent outside of the plot\n",
    "# shrink current axis by 20%\n",
    "box = ax.get_position()\n",
    "ax.set_position([box.x0, box.y0, box.width * 0.8, box.height])\n",
    "# put a legend to the right of the current axis\n",
    "ax.legend(loc='center left', bbox_to_anchor=(1, 0.5))\n",
    "\n",
    "# circle different groups\n",
    "ells = [\n",
    "    Ellipse(xy=(0.547, 0.125), width=0.02, height=0.01, angle=0, fill=False, color='red'),\n",
    "    Ellipse(xy=(0.536, 0.04), width=0.08, height=0.02, angle=-10, fill=False, color='orange'),\n",
    "    Ellipse(xy=(0.450, 0.032), width=0.03, height=0.02, angle=-10, fill=False, color='green'),\n",
    "    Ellipse(xy=(0.385, 0.0325), width=0.04, height=0.01, angle=10, fill=False, color='blue'),\n",
    "    Ellipse(xy=(0.405, 0.01), width=0.07, height=0.01, angle=5, fill=False, color='purple'),\n",
    "]\n",
    "for i, ell in enumerate(ells):\n",
    "    ax.add_artist(ell)\n",
    "    x, y = ell.center\n",
    "    # put group name in the circle\n",
    "    ax.text(x + 0.0015, y + 0.00075, 'G' + str(i + 1))\n",
    "\n",
    "plt.tight_layout()\n",
    "plt.show()"
   ]
  },
  {
   "cell_type": "markdown",
   "metadata": {},
   "source": [
    "We would say there are five groups: \n",
    "1. High B2.3 score and high B3 score: only nfl is in this group. It means that in nba and nfl, people use similar words in posts and there are quite a few users who posted on both subreddits.\n",
    "2. High B2.3 score and medium B3 score: hockey and soccer are in this group. It means that people use similar words in posts, but there are not many users who posted on both subreddits. this corresponds to the two point on the right of the graph.\n",
    "3. Medium B2.3 score and medium B3 score: there is a dense cluster in the middle consisting of five subreddits, i.e. AdviceAnimals, funny, pics, videos and movies. All of which have medium similarity in user base and language used. These are mostly leisure subreddits.\n",
    "4. Low B2.3 score and medium B3 score: worldnews and news are similar in user similarity and both have low language similarity, which could be cluster into a news group.\n",
    "5. Low B2.3 score and low B3 score: all the games subreddit have low user similarity and low language similarity compared to the NBA subreddit. It can be coinsidered a separate group in the lower left corner of the graph.\n",
    "\n",
    "We do observe differences in similarities between various sports-related subreddits. nba and nfl are similar in terms of words usage and users. This is reasonable because they are the top two most popular sports in US. There must be a lot of people who follow both sports.  \n",
    "On the other hand, hockey and soccer are similar to nba in terms of words usage since they are sports subreddit, but the user similarities are not high in both cases. It could be because people who follow these sports are not american, they are european and canadian. In Europe and Canada, nba is less popular than soccer and hockey, so there are few people who posts on nba which cause the users similarity to be low."
   ]
  },
  {
   "cell_type": "markdown",
   "metadata": {},
   "source": [
    "We do observe differences in similarities between various sports-related subreddits. nba and nfl are similar in terms of words usage and users. This is reasonable because they are the top two most popular sports in US. There must be a lot of people who follow both sports.  \n",
    "On the other hand, hockey and soccer are similar to nba in terms of words usage since they are all sports subreddit, but the user similarities are not high in both cases. It could be because people who follow these the hockey and soccer subreddits are not american, but more like european and canadian. In Europe and Canada, nba is less popular than soccer and hockey, so there are few people who posts on nba which cause the users similarity to be low."
   ]
  },
  {
   "cell_type": "code",
   "execution_count": null,
   "metadata": {},
   "outputs": [],
   "source": []
  }
 ],
 "metadata": {
  "kernelspec": {
   "display_name": "Python 3",
   "language": "python",
   "name": "python3"
  },
  "language_info": {
   "codemirror_mode": {
    "name": "ipython",
    "version": 3
   },
   "file_extension": ".py",
   "mimetype": "text/x-python",
   "name": "python",
   "nbconvert_exporter": "python",
   "pygments_lexer": "ipython3",
<<<<<<< HEAD
   "version": "3.7.4"
=======
   "version": "3.7.3"
>>>>>>> f43b4992bf89bca4754f6c6c1c4517dab9d18818
  }
 },
 "nbformat": 4,
 "nbformat_minor": 4
}
